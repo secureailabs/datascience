{
 "cells": [
  {
   "cell_type": "code",
   "execution_count": 22,
   "metadata": {},
   "outputs": [],
   "source": [
    "import torch\n",
    "\n",
    "\n",
    "#TODO: Write initialisation version of this\n",
    "#Data Starts with respective owners A and B\n",
    "x_dataA = torch.Tensor([[10.0], [9.0], [3.0], [2.0]])\n",
    "y_dataA = torch.Tensor([[90.0], [80.0], [50.0], [30.0]])\n",
    "\n",
    "x_dataB = torch.Tensor([[7.0], [8.0], [3.0], [1.0]])\n",
    "y_dataB = torch.Tensor([[60.0], [70.0], [40.0], [20.0]])\n",
    "\n",
    "data_federation = [[x_dataA, y_dataA], [x_dataB, y_dataB]]\n",
    "\n",
    "in_layer = 1\n",
    "out_layer = 1\n",
    "\n",
    "optimizer = \"SGD\"\n",
    "criterion = \"MSELoss\"\n",
    "\n",
    "starting_model = torch.rand((in_layer, out_layer))\n",
    "\n",
    "epochs = 1\n",
    "learn_rate = 0.05"
   ]
  },
  {
   "cell_type": "code",
   "execution_count": 23,
   "metadata": {},
   "outputs": [
    {
     "data": {
      "text/plain": [
       "tensor([[0.2074]])"
      ]
     },
     "execution_count": 23,
     "metadata": {},
     "output_type": "execute_result"
    }
   ],
   "source": [
    "starting_model"
   ]
  },
  {
   "cell_type": "code",
   "execution_count": 24,
   "metadata": {},
   "outputs": [
    {
     "name": "stdout",
     "output_type": "stream",
     "text": [
      "Model Parameters: tensor([179.1834])\n",
      "Loss: tensor([17149.1719])\n"
     ]
    }
   ],
   "source": [
    "from sail_safe_functions.machine_learning.LinearRegressionTrain import LinearRegressionTrain\n",
    "\n",
    "trained_model = LinearRegressionTrain.run(in_layer, out_layer, epochs, data_federation[0], learn_rate, starting_model, criterion, optimizer)"
   ]
  },
  {
   "cell_type": "code",
   "execution_count": 25,
   "metadata": {},
   "outputs": [
    {
     "name": "stdout",
     "output_type": "stream",
     "text": [
      "Model Parameters: tensor([179.1863])\n",
      "Loss: tensor([17149.7324])\n",
      "Model Parameters: tensor([171.0237])\n",
      "Loss: tensor([15599.9414])\n",
      "Model Parameters: tensor([176.8932])\n",
      "Loss: tensor([16706.6504])\n",
      "Model Parameters: tensor([166.4473])\n",
      "Loss: tensor([14764.4424])\n",
      "Model Parameters: tensor([180.9697])\n",
      "Loss: tensor([17498.5000])\n",
      "Model Parameters: tensor([164.6746])\n",
      "Loss: tensor([14447.2676])\n",
      "Model Parameters: tensor([177.1895])\n",
      "Loss: tensor([16763.5664])\n",
      "Model Parameters: tensor([174.5153])\n",
      "Loss: tensor([16253.5391])\n",
      "Model Parameters: tensor([178.5433])\n",
      "Loss: tensor([17024.8887])\n",
      "Model Parameters: tensor([178.7896])\n",
      "Loss: tensor([17072.6602])\n"
     ]
    }
   ],
   "source": [
    "trained_models = []\n",
    "\n",
    "for i in range(10):\n",
    "    starting_model = torch.rand(in_layer, out_layer)\n",
    "    trained_models.append(LinearRegressionTrain.run(in_layer, out_layer, epochs, data_federation[0], learn_rate, starting_model, criterion, optimizer))"
   ]
  },
  {
   "cell_type": "code",
   "execution_count": 26,
   "metadata": {},
   "outputs": [
    {
     "data": {
      "text/plain": [
       "[tensor([179.1863]),\n",
       " tensor([171.0237]),\n",
       " tensor([176.8932]),\n",
       " tensor([166.4473]),\n",
       " tensor([180.9697]),\n",
       " tensor([164.6746]),\n",
       " tensor([177.1895]),\n",
       " tensor([174.5153]),\n",
       " tensor([178.5433]),\n",
       " tensor([178.7896])]"
      ]
     },
     "execution_count": 26,
     "metadata": {},
     "output_type": "execute_result"
    }
   ],
   "source": [
    "trained_models"
   ]
  },
  {
   "cell_type": "code",
   "execution_count": 27,
   "metadata": {},
   "outputs": [
    {
     "data": {
      "text/plain": [
       "tensor([174.8233])"
      ]
     },
     "execution_count": 27,
     "metadata": {},
     "output_type": "execute_result"
    }
   ],
   "source": [
    "from sail_safe_functions.machine_learning.ModelAverage import ModelAverage\n",
    "\n",
    "avg_model = ModelAverage.run(trained_models)\n",
    "avg_model"
   ]
  },
  {
   "cell_type": "code",
   "execution_count": 28,
   "metadata": {},
   "outputs": [
    {
     "name": "stdout",
     "output_type": "stream",
     "text": [
      "Model Parameters: tensor([-3033.7483])\n",
      "Loss: tensor([5307302.5000])\n",
      "Model Parameters: tensor([-1863.5033])\n",
      "Loss: tensor([3378166.7500])\n",
      "Avg Model: tensor([-2448.6257])\n"
     ]
    }
   ],
   "source": [
    "trained_models = []\n",
    "\n",
    "for j in range(len(data_federation)):\n",
    "    trained_models.append(LinearRegressionTrain.run(in_layer, out_layer, epochs, data_federation[j], learn_rate, avg_model, criterion, optimizer))\n",
    "avg_model = ModelAverage.run(trained_models)\n",
    "print(\"Avg Model: \"+str(avg_model))\n"
   ]
  },
  {
   "cell_type": "code",
   "execution_count": 29,
   "metadata": {},
   "outputs": [],
   "source": [
    "from sail_safe_functions.machine_learning.LinearRegressionRetrieve import LinearRegressionRetrieve\n",
    "\n",
    "model = LinearRegressionRetrieve.run( \n",
    "        in_layer,\n",
    "        out_layer,\n",
    "        learn_rate,\n",
    "        criterion,\n",
    "        optimizer,\n",
    "        avg_model,\n",
    "    )"
   ]
  },
  {
   "cell_type": "code",
   "execution_count": 30,
   "metadata": {},
   "outputs": [
    {
     "data": {
      "text/plain": [
       "tensor([[10.],\n",
       "        [ 9.],\n",
       "        [ 3.],\n",
       "        [ 2.]])"
      ]
     },
     "execution_count": 30,
     "metadata": {},
     "output_type": "execute_result"
    }
   ],
   "source": [
    "data_federation[0][0]"
   ]
  },
  {
   "cell_type": "code",
   "execution_count": 31,
   "metadata": {},
   "outputs": [
    {
     "name": "stdout",
     "output_type": "stream",
     "text": [
      "Loss: tensor([3.9685e+11])\n"
     ]
    }
   ],
   "source": [
    "model.train_model(2, data_federation[0][0], data_federation[0][1])"
   ]
  },
  {
   "cell_type": "code",
   "execution_count": null,
   "metadata": {},
   "outputs": [],
   "source": []
  }
 ],
 "metadata": {
  "interpreter": {
   "hash": "916dbcbb3f70747c44a77c7bcd40155683ae19c65e1c03b4aa3499c5328201f1"
  },
  "kernelspec": {
   "display_name": "Python 3.8.10 64-bit",
   "language": "python",
   "name": "python3"
  },
  "language_info": {
   "codemirror_mode": {
    "name": "ipython",
    "version": 3
   },
   "file_extension": ".py",
   "mimetype": "text/x-python",
   "name": "python",
   "nbconvert_exporter": "python",
   "pygments_lexer": "ipython3",
   "version": "3.8.10"
  },
  "orig_nbformat": 4
 },
 "nbformat": 4,
 "nbformat_minor": 2
}
