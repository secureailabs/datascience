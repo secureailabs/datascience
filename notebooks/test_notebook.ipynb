{
 "cells": [
  {
   "cell_type": "code",
   "execution_count": 5,
   "metadata": {},
   "outputs": [],
   "source": [
    "\n",
    "import sys\n",
    "\n",
    "# setting path\n",
    "sys.path.append('../smart_broker')\n",
    "\n",
    "class Session():\n",
    "    def __init__(self, http_method, ip, port):\n",
    "        self.ip = ip\n",
    "        self.port = port\n",
    "        self.http_method = http_method\n",
    "\n",
    "session = Session(\"http\", \"127.0.0.1\", \"8000\")"
   ]
  },
  {
   "cell_type": "markdown",
   "metadata": {},
   "source": [
    "# 1. Data Model Creation"
   ]
  },
  {
   "cell_type": "code",
   "execution_count": 6,
   "metadata": {},
   "outputs": [],
   "source": [
    "# from smart_broker_client import data_model_client\n",
    "\n",
    "# series_name = \"bmi_mean\"\n",
    "# measurement_source_name = \"Observation:Body Mass Index\"\n",
    "# type_aggregator = \"AgregatorIntervalMean\"\n",
    "# unit = \"kg/m2\"\n",
    "\n",
    "# data_model_client.create_series(session, series_name, measurement_source_name, type_aggregator, unit)"
   ]
  },
  {
   "cell_type": "code",
   "execution_count": 7,
   "metadata": {},
   "outputs": [],
   "source": [
    "from smart_broker_client import data_model_client\n",
    "\n",
    "data_model_id = data_model_client.create_date_frame(session, \"data_frame_0\")\n",
    "data_model_client.data_frame_add_series(session, data_model_id, \"bmi_mean\", \"Observation:Body Mass Index\", \"AgregatorIntervalMean\")\n",
    "data_model_client.data_frame_add_series(session, data_model_id, \"bmi_first\", \"Observation:Body Mass Index\", \"AgregatorIntervalFirstOccurance\")\n",
    "data_model_client.data_frame_add_series(session, data_model_id, \"bmi_last\", \"Observation:Body Mass Index\", \"AgregatorIntervalLastOccurance\")\n",
    "data_model_tabular_id = data_model_client.create_tabular_data(session)\n",
    "data_model_tabular_id = data_model_client.tabular_add_dataframe(session, data_model_id, data_model_tabular_id)"
   ]
  },
  {
   "cell_type": "code",
   "execution_count": 8,
   "metadata": {},
   "outputs": [
    {
     "data": {
      "text/plain": [
       "'6bb4817a-e3cf-43bf-9b8f-2cd26a04a2ec'"
      ]
     },
     "execution_count": 8,
     "metadata": {},
     "output_type": "execute_result"
    }
   ],
   "source": [
    "data_model_id"
   ]
  },
  {
   "cell_type": "markdown",
   "metadata": {},
   "source": [
    "# 2. Parse Data from Data Model Specification"
   ]
  },
  {
   "cell_type": "code",
   "execution_count": 9,
   "metadata": {},
   "outputs": [],
   "source": [
    "from smart_broker_client import data_client\n",
    "\n",
    "dataset_federation_id = \"a892f738-4f6f-11ed-bdc3-0242ac120002\"\n",
    "dataset_federation_name = \"r4sep2019_csvv1_20_1\"\n",
    "\n",
    "longitudinal_id = data_client.read_longitudinal_fhirv1(session)\n",
    "tabular_dataset_id = data_client.parse_dataset_tabular_from_longitudinal(session, longitudinal_id, dataset_federation_id, dataset_federation_name, data_model_tabular_id)\n",
    "data_frame_id = data_client.data_frame_tabular_select_data_frame(session, tabular_dataset_id, \"data_frame_0\")"
   ]
  },
  {
   "cell_type": "code",
   "execution_count": 10,
   "metadata": {},
   "outputs": [],
   "source": [
    "from smart_broker_client import preprocessing_client\n",
    "\n",
    "no_nan_data_frame_id = preprocessing_client.drop_na_data_frame(session, data_frame_id)"
   ]
  },
  {
   "cell_type": "markdown",
   "metadata": {},
   "source": [
    "# 3. Grab series to work with in Statistics Lib"
   ]
  },
  {
   "cell_type": "code",
   "execution_count": 11,
   "metadata": {},
   "outputs": [
    {
     "name": "stdout",
     "output_type": "stream",
     "text": [
      "0e67a30d-e7a8-4724-bd0f-b2a7a572270a , 233e764d-0c64-4cac-b5dc-66cc6c8bb198\n"
     ]
    }
   ],
   "source": [
    "series_1_id = data_client.data_frame_select_series(session, no_nan_data_frame_id, \"bmi_mean\")\n",
    "series_2_id = data_client.data_frame_select_series(session, no_nan_data_frame_id, \"bmi_last\")\n",
    "\n",
    "print(series_1_id+\" , \"+series_2_id)"
   ]
  },
  {
   "cell_type": "markdown",
   "metadata": {},
   "source": [
    "# 4. Run Statistics Library"
   ]
  },
  {
   "cell_type": "code",
   "execution_count": 12,
   "metadata": {},
   "outputs": [
    {
     "name": "stdout",
     "output_type": "stream",
     "text": [
      "{'count': 20}\n",
      "{'mean': 22.76433814224586}\n",
      "{'chisquare': [380.0, 0.23583148842099294]}\n",
      "{'kolmogorov_smirnov_test': [0.95, 1.9073486328125338e-26]}\n",
      "{'kurtosis': -1.225866948308427}\n",
      "{'f_statistic': 0.003760306204864892, 'p_value': 0.9514246952891092}\n",
      "{'w_statistic': 180.0, 'p_value': 0.5978625674290079}\n",
      "{'min': 11.76951154694196, 'max': 30.172100539128525}\n",
      "{'t_statistic': -3.842534659324879, 'p_value': 0.00027445641167562454}\n",
      "{'pearson': 0.9332515128886971, 'p_value': 1.9573960230445664e-09}\n",
      "{'skewness': -0.08041628194553505}\n",
      "{'spearman': 0.9505828978811472, 'p_value': 1.394346860195128e-10}\n",
      "{'t_statistic': -0.999458438479299, 'p_value': 0.08097370675497725}\n",
      "{'variance': 28.617281263722433}\n",
      "{'t_statistic': -0.9994584384792992, 'p_value': 0.08097675209806848}\n",
      "{'w_statistic': 0.9505828978811472, 'p_value': 1.394346860195128e-10}\n"
     ]
    }
   ],
   "source": [
    "from smart_broker_client import statistics_client\n",
    "\n",
    "type_distribution=\"normalunit\"\n",
    "type_ranking=\"cdf\"\n",
    "alternative = \"two-sided\"\n",
    "print(statistics_client.count(session,  series_1_id))\n",
    "print(statistics_client.mean(session,  series_1_id))\n",
    "print(statistics_client.chisquare(session,  series_1_id, series_2_id))\n",
    "print(statistics_client.kolmogorovSmirnovTest(session,  series_1_id, type_distribution, type_ranking))\n",
    "print(statistics_client.kurtosis(session,  series_1_id))\n",
    "print(statistics_client.levene_test(session,  series_1_id, series_2_id))\n",
    "print(statistics_client.mann_whitney_u_test(session,  series_1_id, series_2_id, alternative, type_ranking))\n",
    "print(statistics_client.min_max(session,  series_1_id))\n",
    "print(statistics_client.paired_t_test(session,  series_1_id, series_2_id, alternative))\n",
    "print(statistics_client.pearson(session,  series_1_id, series_2_id, alternative))\n",
    "print(statistics_client.skewness(session,  series_1_id))\n",
    "print(statistics_client.spearman(session,  series_1_id, series_2_id, alternative, type_ranking))\n",
    "print(statistics_client.student_t_test(session,  series_1_id, series_2_id, alternative))\n",
    "print(statistics_client.variance(session,  series_1_id))\n",
    "print(statistics_client.welch_t_test(session,  series_1_id, series_2_id, alternative))\n",
    "print(statistics_client.wilcoxon_signed_rank_test(session,  series_1_id, series_2_id, alternative, type_ranking))"
   ]
  },
  {
   "cell_type": "code",
   "execution_count": null,
   "metadata": {},
   "outputs": [],
   "source": []
  }
 ],
 "metadata": {
  "kernelspec": {
   "display_name": "Python 3.8.10 ('venv38_sail')",
   "language": "python",
   "name": "python3"
  },
  "language_info": {
   "codemirror_mode": {
    "name": "ipython",
    "version": 3
   },
   "file_extension": ".py",
   "mimetype": "text/x-python",
   "name": "python",
   "nbconvert_exporter": "python",
   "pygments_lexer": "ipython3",
   "version": "3.8.10"
  },
  "orig_nbformat": 4,
  "vscode": {
   "interpreter": {
    "hash": "229c0ee7a8d57afd62214254ad4dcd3448989c886ec30669907354b54cc615b5"
   }
  }
 },
 "nbformat": 4,
 "nbformat_minor": 2
}
