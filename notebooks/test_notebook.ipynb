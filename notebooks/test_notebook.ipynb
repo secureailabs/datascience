{
    "cells": [
        {
            "cell_type": "markdown",
            "metadata": {},
            "source": [
                "# 0. Connect to a pre-provisioned Federation"
            ]
        },
        {
            "cell_type": "code",
            "execution_count": 1,
            "metadata": {},
            "outputs": [],
            "source": [
                "from fast_api_client import Client, SyncOperations\n",
                "\n",
                "client = Client(base_url=\"http://localhost:8000\", verify_ssl=False, raise_on_unexpected_status=False, timeout=30.5)\n",
                "operation = SyncOperations(client=client)"
            ]
        },
        {
            "cell_type": "markdown",
            "metadata": {},
            "source": [
                "# 1. Aggregation Model Creation"
            ]
        },
        {
            "cell_type": "code",
            "execution_count": 2,
            "metadata": {},
            "outputs": [],
            "source": [
                "from smart_broker_api import data_model_api\n",
                "\n",
                "DATA_FRAME_NAME = \"mvp_demo_data_frame\"\n",
                "\n",
                "data_model_id = data_model_api.new_data_model_data_frame(operation, DATA_FRAME_NAME)\n",
                "data_model_api.data_frame_add_series(operation, data_model_id, \"bmi_mean\", \"Observation:Body Mass Index\", \"AgregatorIntervalMean\", \"kg/m\")\n",
                "data_model_api.data_frame_add_series(operation, data_model_id, \"bmi_first\", \"Observation:Body Mass Index\", \"AgregatorIntervalFirstOccurance\", \"kg/m\")\n",
                "data_model_api.data_frame_add_series(operation, data_model_id, \"bmi_last\", \"Observation:Body Mass Index\", \"AgregatorIntervalLastOccurance\", \"kg/m\")\n",
                "data_model_tabular_id = data_model_api.new_tabular_model(operation)\n",
                "data_model_tabular_id = data_model_api.tabular_model_add_dataframe_model(operation, data_model_tabular_id, data_model_id)"
            ]
        },
        {
            "cell_type": "markdown",
            "metadata": {},
            "source": [
                "# 2. Flatten / Aggregate data from Aggregation model"
            ]
        },
        {
            "cell_type": "code",
            "execution_count": 3,
            "metadata": {},
            "outputs": [],
            "source": [
                "from smart_broker_api import data_api\n",
                "\n",
                "dataset_federation_id = \"a892f738-4f6f-11ed-bdc3-0242ac120002\"\n",
                "\n",
                "longitudinal_id = data_api.read_longitudinal_fhirv1(operation)\n",
                "tabular_dataset_id = data_api.read_dataset_tabular_from_longitudinal(operation, longitudinal_id, dataset_federation_id, \"KCA Consortium\", data_model_tabular_id)\n",
                "data_frame_id = data_api.data_frame_tabular_select_data_frame(operation, tabular_dataset_id, DATA_FRAME_NAME)"
            ]
        },
        {
            "cell_type": "markdown",
            "metadata": {},
            "source": [
                "# 3. Preprocessing: Remove NaNs from data frame"
            ]
        },
        {
            "cell_type": "code",
            "execution_count": 4,
            "metadata": {},
            "outputs": [],
            "source": [
                "from smart_broker_api import preprocessing_api\n",
                "\n",
                "no_nan_data_frame_id = preprocessing_api.dataframe_drop_missing(operation, data_frame_id)"
            ]
        },
        {
            "cell_type": "markdown",
            "metadata": {},
            "source": [
                "# 4. Grab series to work with in Statistics Lib"
            ]
        },
        {
            "cell_type": "code",
            "execution_count": 5,
            "metadata": {},
            "outputs": [
                {
                    "name": "stdout",
                    "output_type": "stream",
                    "text": [
                        "e4b857b3-c5be-4e0c-9a23-3c491d46cb8b , ae12d63d-7805-41b5-b403-4c75a78862db\n"
                    ]
                }
            ],
            "source": [
                "series_1_id = data_api.data_frame_select_series(operation, no_nan_data_frame_id, \"bmi_mean\")\n",
                "series_2_id = data_api.data_frame_select_series(operation, no_nan_data_frame_id, \"bmi_last\")\n",
                "\n",
                "print(series_1_id+\" , \"+series_2_id)"
            ]
        },
        {
            "cell_type": "markdown",
            "metadata": {},
            "source": [
                "# 5. Cohort selection"
            ]
        },
        {
            "cell_type": "code",
            "execution_count": 6,
            "metadata": {},
            "outputs": [
                {
                    "name": "stdout",
                    "output_type": "stream",
                    "text": [
                        "Patients whose BMI decreased during study: 5\n",
                        "Patients whose BMI increased during study: 13\n",
                        "Patients whose BMI significantly decreased during study: 5\n",
                        "Mean BMI of patients whose BMI significantly decreased: 23.85334900613252 \n"
                    ]
                }
            ],
            "source": [
                "from smart_broker_api import preprocessing_api\n",
                "from smart_broker_api import statistics_api\n",
                "\n",
                "query = \"bmi_first > bmi_last\"\n",
                "query_dataframe = preprocessing_api.data_frame_query(operation, no_nan_data_frame_id, query)\n",
                "query_series = data_api.data_frame_select_series(operation, query_dataframe, \"bmi_last\")\n",
                "\n",
                "print(f\"Patients whose BMI decreased during study: {statistics_api.count(operation,  query_series)}\")\n",
                "\n",
                "query = \"bmi_first < bmi_last\"\n",
                "query_dataframe = preprocessing_api.data_frame_query(operation, no_nan_data_frame_id, query)\n",
                "query_series = data_api.data_frame_select_series(operation, query_dataframe, \"bmi_last\")\n",
                "\n",
                "print(f\"Patients whose BMI increased during study: {statistics_api.count(operation,  query_series)}\")\n",
                "\n",
                "query = \"bmi_first - bmi_last > 0.5\"\n",
                "query_dataframe = preprocessing_api.data_frame_query(operation, no_nan_data_frame_id, query)\n",
                "query_series = data_api.data_frame_select_series(operation, query_dataframe, \"bmi_last\")\n",
                "\n",
                "print(f\"Patients whose BMI significantly decreased during study: {statistics_api.count(operation,  query_series)}\")\n",
                "\n",
                "print(f\"Mean BMI of patients whose BMI significantly decreased: {statistics_api.mean(operation, query_series)} \")"
            ]
        },
        {
            "cell_type": "markdown",
            "metadata": {},
            "source": [
                "# 6. Run Statistics Library"
            ]
        },
        {
            "cell_type": "code",
            "execution_count": 8,
            "metadata": {},
            "outputs": [
                {
                    "name": "stdout",
                    "output_type": "stream",
                    "text": [
                        "20\n",
                        "22.76433814224586\n",
                        "[380.0, 0.23583148842099294]\n",
                        "[0.95, 1.9073486328125338e-26]\n",
                        "-1.225866948308427\n",
                        "(0.003760306204864892, 0.9514246952891092)\n",
                        "(180.0, 0.5978625674290079)\n",
                        "StatisticsMinMaxResponseStatisticsMinMax(additional_properties={'min': 11.76951154694196, 'max': 30.172100539128525})\n",
                        "(-3.842534659324879, 0.00027445641167562454)\n",
                        "(0.9332515128886971, 1.9573960230445664e-09)\n",
                        "-0.08041628194553505\n",
                        "(0.9505828978811472, 1.394346860195128e-10)\n",
                        "(-0.999458438479299, 0.08097370675497725)\n",
                        "StatisticsVarianceResponseStatisticsVariance(additional_properties={'variance': 28.617281263722433})\n",
                        "(-0.9994584384792992, 0.08097675209806848)\n",
                        "(0.9505828978811472, 1.394346860195128e-10)\n"
                    ]
                }
            ],
            "source": [
                "from smart_broker_api import statistics_api\n",
                "from smart_broker_api import visualization_api\n",
                "import plotly.graph_objects as go\n",
                "\n",
                "type_distribution=\"normalunit\"\n",
                "type_ranking=\"cdf\"\n",
                "alternative = \"two-sided\"\n",
                "print(statistics_api.count(operation,  series_1_id))\n",
                "print(statistics_api.mean(operation,  series_1_id))\n",
                "print(statistics_api.chisquare(operation,  series_1_id, series_2_id))\n",
                "print(statistics_api.kolmogorov_smirnov_test(operation,  series_1_id, type_distribution))\n",
                "print(statistics_api.kurtosis(operation,  series_1_id))\n",
                "print(statistics_api.levene_test(operation,  series_1_id, series_2_id))\n",
                "print(statistics_api.mann_whitney_u_test(operation,  series_1_id, series_2_id, alternative))\n",
                "print(statistics_api.min_max(operation,  series_1_id))\n",
                "print(statistics_api.paired_t_test(operation,  series_1_id, series_2_id, alternative))\n",
                "print(statistics_api.pearson(operation,  series_1_id, series_2_id, alternative))\n",
                "print(statistics_api.skewness(operation,  series_1_id))\n",
                "print(statistics_api.spearman(operation,  series_1_id, series_2_id, alternative))\n",
                "print(statistics_api.student_t_test(operation,  series_1_id, series_2_id, alternative))\n",
                "print(statistics_api.variance(operation,  series_1_id))\n",
                "print(statistics_api.welch_t_test(operation,  series_1_id, series_2_id, alternative))\n",
                "print(statistics_api.wilcoxon_signed_rank_test(operation,  series_1_id, series_2_id, alternative))\n",
                "\n",
                "\n",
                "fig = visualization_api.histogram(operation, series_1_id, 20)\n",
                "fig.show()\n",
                "\n",
                "\n",
                "fig = visualization_api.kernel_density_estimation(operation, series_1_id, 2)\n",
                "fig.show()\n",
                "\n",
                "\n"
            ]
        },
        {
            "cell_type": "code",
            "execution_count": null,
            "metadata": {},
            "outputs": [],
            "source": []
        }
    ],
    "metadata": {
        "kernelspec": {
            "display_name": "venv38_sail",
            "language": "python",
            "name": "python3"
        },
        "language_info": {
            "codemirror_mode": {
                "name": "ipython",
                "version": 3
            },
            "file_extension": ".py",
            "mimetype": "text/x-python",
            "name": "python",
            "nbconvert_exporter": "python",
            "pygments_lexer": "ipython3",
            "version": "3.8.10"
        },
        "orig_nbformat": 4,
        "vscode": {
            "interpreter": {
                "hash": "b8920ba07fd520c65173079dcb9499bce0de7d29c6936a9084b22c295709b7ee"
            }
        }
    },
    "nbformat": 4,
    "nbformat_minor": 2
}
