{
 "cells": [
  {
   "cell_type": "markdown",
   "metadata": {},
   "source": [
    "# Federated Averaging Logistic Regression"
   ]
  },
  {
   "cell_type": "markdown",
   "metadata": {},
   "source": [
    "## Set up Data Federation"
   ]
  },
  {
   "cell_type": "code",
   "execution_count": 1,
   "metadata": {},
   "outputs": [],
   "source": [
    "import pandas as pd\n",
    "from sklearn.preprocessing import OneHotEncoder\n",
    "from sklearn.datasets import load_iris\n",
    "import numpy as np\n",
    "\n",
    "def get_iris_dataframe():\n",
    "\n",
    "    iris = load_iris()\n",
    "    df1 = pd.DataFrame(iris.data, columns=iris.feature_names)\n",
    "    target = iris.target_names\n",
    "    encoder = OneHotEncoder(sparse=False)\n",
    "    target =encoder.fit_transform(iris.target.reshape(-1, 1))\n",
    "    df2 =pd.get_dummies(pd.DataFrame(target, columns=iris.target_names))\n",
    "    dataframe = pd.concat([df1, df2], axis=1)\n",
    "\n",
    "    return dataframe\n",
    "\n",
    "def get_test_federation_split(df):\n",
    "\n",
    "    train = df.sample(frac=0.8, random_state=0)\n",
    "    test = df.drop(train.index)\n",
    "    \n",
    "    shuffled = train.sample(frac=1)\n",
    "    result = np.array_split(shuffled, 5)  \n",
    "\n",
    "    return result, test\n",
    "\n",
    "dataframe = get_iris_dataframe()\n",
    "data_federation, test = get_test_federation_split(dataframe)"
   ]
  },
  {
   "cell_type": "markdown",
   "metadata": {},
   "source": [
    "## Run Federated Averaging"
   ]
  },
  {
   "cell_type": "code",
   "execution_count": null,
   "metadata": {},
   "outputs": [],
   "source": []
  },
  {
   "cell_type": "code",
   "execution_count": 2,
   "metadata": {},
   "outputs": [
    {
     "ename": "SyntaxError",
     "evalue": "invalid syntax (MultiLayer.py, line 2)",
     "output_type": "error",
     "traceback": [
      "Traceback \u001b[0;36m(most recent call last)\u001b[0m:\n",
      "  File \u001b[1;32m/mnt/c/Users/AdamHall/Documents/GitHub/datascience/venv38_sail/lib/python3.8/site-packages/IPython/core/interactiveshell.py:3398\u001b[0m in \u001b[1;35mrun_code\u001b[0m\n    exec(code_obj, self.user_global_ns, self.user_ns)\n",
      "\u001b[0;36m  Input \u001b[0;32mIn [2]\u001b[0;36m in \u001b[0;35m<cell line: 3>\u001b[0;36m\u001b[0m\n\u001b[0;31m    from helper_libs.shared.models.MultiLayer import MultiLayer\u001b[0m\n",
      "\u001b[0;36m  File \u001b[0;32m/mnt/c/Users/AdamHall/Documents/GitHub/datascience/helper-libs/helper_libs/shared/models/MultiLayer.py:2\u001b[0;36m\u001b[0m\n\u001b[0;31m    import\u001b[0m\n\u001b[0m          ^\u001b[0m\n\u001b[0;31mSyntaxError\u001b[0m\u001b[0;31m:\u001b[0m invalid syntax\n"
     ]
    }
   ],
   "source": [
    "from sail_safe_functions_orchestrator.machine_learning.federated_averaging import federated_averaging\n",
    "from helper_libs.shared.models.LogisticRegression import LogisticRegression\n",
    "from helper_libs.shared.models.MultiLayer import MultiLayer\n",
    "\n",
    "X_col = ['sepal length (cm)', 'sepal width (cm)', 'petal length (cm)', 'petal width (cm)']\n",
    "Y_col = ['setosa', 'versicolor', 'virginica']\n",
    "in_layer = len(X_col)\n",
    "out_layer = len(Y_col)\n",
    "optimizer = \"SGD\"\n",
    "criterion = \"MSELoss\"\n",
    "starting_model_0 = LogisticRegression(in_layer, in_layer)\n",
    "starting_model_1 = LogisticRegression(in_layer, out_layer)\n",
    "starting_model = MultiLayer([starting_model_0, starting_model_1])\n",
    "learn_rate = 0.1\n",
    "epochs=5000\n",
    "federal_epochs=2\n",
    "\n",
    "# model = federated_averaging(epochs, federal_epochs, data_federation, X_col, Y_col, learn_rate, starting_model, criterion, optimizer)"
   ]
  },
  {
   "cell_type": "markdown",
   "metadata": {},
   "source": [
    "### Compare Random and Trained Models"
   ]
  },
  {
   "cell_type": "code",
   "execution_count": 59,
   "metadata": {},
   "outputs": [
    {
     "name": "stderr",
     "output_type": "stream",
     "text": [
      "/tmp/ipykernel_1669/1596800982.py:20: UserWarning: color is redundantly defined by the 'color' keyword argument and the fmt string \"go\" (-> color='g'). The keyword argument will take precedence.\n",
      "  plt.plot(column_a, predictions, 'go', label='Predictions', color=\"red\", alpha=0.2)\n"
     ]
    },
    {
     "data": {
      "image/png": "[encoded data removed]",
      "text/plain": [
       "<Figure size 432x288 with 1 Axes>"
      ]
     },
     "metadata": {
      "needs_background": "light"
     },
     "output_type": "display_data"
    },
    {
     "name": "stderr",
     "output_type": "stream",
     "text": [
      "/tmp/ipykernel_1669/1596800982.py:20: UserWarning: color is redundantly defined by the 'color' keyword argument and the fmt string \"go\" (-> color='g'). The keyword argument will take precedence.\n",
      "  plt.plot(column_a, predictions, 'go', label='Predictions', color=\"red\", alpha=0.2)\n"
     ]
    },
    {
     "data": {
      "image/png": "[encoded data removed]",
      "text/plain": [
       "<Figure size 432x288 with 1 Axes>"
      ]
     },
     "metadata": {
      "needs_background": "light"
     },
     "output_type": "display_data"
    }
   ],
   "source": [
    "import torch\n",
    "import matplotlib.pyplot as plt\n",
    "\n",
    "def print_graph(predicted, x_train, y_train):\n",
    "\n",
    "\n",
    "    predictions = []\n",
    "    for prediction in predicted:\n",
    "            predictions.append(prediction.argmax())\n",
    "\n",
    "    labels = []\n",
    "    for y in y_train:\n",
    "            labels.append(int(y.argmax()))\n",
    "\n",
    "    column_a = []\n",
    "    for x in x_train:\n",
    "        column_a.append(x[1])\n",
    "\n",
    "    plt.plot(column_a, labels, 'go', label='True data', alpha=0.2)\n",
    "    plt.plot(column_a, predictions, 'go', label='Predictions', color=\"red\", alpha=0.2)\n",
    "    plt.legend(loc='best')\n",
    "    plt.show()\n",
    "\n",
    "X_test = torch.Tensor(test[X_col].values).float()\n",
    "Y_test = torch.Tensor(test[Y_col].values).float()\n",
    "\n",
    "predicted = starting_model(X_test)\n",
    "print_graph(predicted, X_test, Y_test)\n",
    "\n",
    "predicted = model(torch.Tensor(test[X_col].values).float())\n",
    "print_graph(predicted, X_test, Y_test)"
   ]
  },
  {
   "cell_type": "code",
   "execution_count": 61,
   "metadata": {},
   "outputs": [],
   "source": [
    "from sklearn.metrics import precision_score, recall_score, f1_score\n",
    "\n",
    "def score_model(predicted, Y_test):\n",
    "    predictions = []\n",
    "    for prediction in predicted:\n",
    "            predictions.append(prediction.argmax())\n",
    "\n",
    "    labels = []\n",
    "    for y in Y_test:\n",
    "            labels.append(int(y.argmax()))\n",
    "\n",
    "    precision = precision_score(predictions, labels, average=\"weighted\")\n",
    "    recall = recall_score(predictions, labels, average=\"weighted\")\n",
    "    f1 = f1_score(predictions, labels, average=\"weighted\")\n",
    "\n",
    "    return precision, recall, f1"
   ]
  },
  {
   "cell_type": "code",
   "execution_count": 62,
   "metadata": {},
   "outputs": [
    {
     "name": "stdout",
     "output_type": "stream",
     "text": [
      "(0.9696969696969696, 0.9666666666666667, 0.9665831244778613)\n"
     ]
    }
   ],
   "source": [
    "print(score_model(predicted, Y_test))"
   ]
  },
  {
   "cell_type": "code",
   "execution_count": null,
   "metadata": {},
   "outputs": [],
   "source": []
  }
 ],
 "metadata": {
  "kernelspec": {
   "display_name": "Python 3.8.10 ('venv38_sail': venv)",
   "language": "python",
   "name": "python3"
  },
  "language_info": {
   "codemirror_mode": {
    "name": "ipython",
    "version": 3
   },
   "file_extension": ".py",
   "mimetype": "text/x-python",
   "name": "python",
   "nbconvert_exporter": "python",
   "pygments_lexer": "ipython3",
   "version": "3.8.10"
  },
  "orig_nbformat": 4,
  "vscode": {
   "interpreter": {
    "hash": "a551a9fda4b0fd0844678eafd3b71ce0ebfefa198dcee60abe1926ee3f4a81d3"
   }
  }
 },
 "nbformat": 4,
 "nbformat_minor": 2
}
