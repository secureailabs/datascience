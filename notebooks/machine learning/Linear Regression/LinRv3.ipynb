{
    "cells": [
        {
            "cell_type": "code",
            "execution_count": 6,
            "metadata": {},
            "outputs": [],
            "source": [
                "import matplotlib.pyplot as plt\n",
                "\n",
                "\n",
                "def print_graph(predicted, x_train, y_train_1, y_train_2):\n",
                "    plt.clf()\n",
                "    plt.plot(x_train, y_train_1, 'go', label='Dataset 1 Labels', alpha=0.5)\n",
                "    plt.plot(x_train, y_train_2, 'go', color='red', label='Dataset 2 Labels', alpha=0.5)\n",
                "\n",
                "    plt.plot(x_train, predicted, '--', label='Predictions', alpha=0.5)\n",
                "    plt.legend(loc='best')\n",
                "    plt.show()"
            ]
        },
        {
            "cell_type": "code",
            "execution_count": 7,
            "metadata": {},
            "outputs": [],
            "source": [
                "import numpy as np\n",
                "import pandas as pd\n",
                "\n",
                "def get_linear_dataframes():\n",
                "\n",
                "    x_values = [i for i in range(11)]\n",
                "    x_train = np.array(x_values, dtype=np.float32)\n",
                "    x_train = x_train.reshape(-1, 1)\n",
                "\n",
                "    y_values_1 = [2*i + 1 for i in x_values]\n",
                "    y_train_1 = np.array(y_values_1, dtype=np.float32)\n",
                "    y_train_1 = y_train_1.reshape(-1, 1)\n",
                "\n",
                "    y_values_2 = [0.5*i + 0.5 for i in x_values]\n",
                "    y_train_2 = np.array(y_values_2, dtype=np.float32)\n",
                "    y_train_2 = y_train_2.reshape(-1, 1)\n",
                "\n",
                "    df_X = pd.DataFrame(x_train, columns = ['X'])\n",
                "    df_Y1 = pd.DataFrame(y_train_1, columns = ['Y'])\n",
                "    df_Y2 = pd.DataFrame(y_train_2, columns = ['Y'])\n",
                "\n",
                "    df1 = pd.concat([df_X, df_Y1], axis=1)\n",
                "    df2 = pd.concat([df_X, df_Y2], axis=1)\n",
                "\n",
                "    return [df1, df2]"
            ]
        },
        {
            "cell_type": "code",
            "execution_count": 8,
            "metadata": {},
            "outputs": [],
            "source": [
                "from helper_libs.shared.models.LinearRegression import LinearRegression\n",
                "\n",
                "data_federation = get_linear_dataframes()\n",
                "\n",
                "X_col = ['X']\n",
                "Y_col = ['Y']\n",
                "in_layer = len(X_col)\n",
                "out_layer = len(Y_col)\n",
                "optimizer = \"SGD\"\n",
                "criterion = \"MSELoss\"\n",
                "starting_model = LinearRegression(in_layer, out_layer)\n",
                "federal_epochs = 1\n",
                "epochs = 50\n",
                "learn_rate = 0.01"
            ]
        },
        {
            "cell_type": "code",
            "execution_count": 9,
            "metadata": {},
            "outputs": [],
            "source": [
                "from sail_safe_functions.aggregator.machine_learning.federated_averaging import federated_averaging\n",
                "\n",
                "model = federated_averaging(epochs, federal_epochs, data_federation, X_col, Y_col, learn_rate, starting_model, criterion, optimizer)"
            ]
        },
        {
            "cell_type": "markdown",
            "metadata": {},
            "source": [
                "### Model Before and After"
            ]
        },
        {
            "cell_type": "code",
            "execution_count": 10,
            "metadata": {},
            "outputs": [
                {
                    "name": "stderr",
                    "output_type": "stream",
                    "text": [
                        "/tmp/ipykernel_1755/190915468.py:7: UserWarning: color is redundantly defined by the 'color' keyword argument and the fmt string \"go\" (-> color='g'). The keyword argument will take precedence.\n",
                        "  plt.plot(x_train, y_train_2, 'go', color='red', label='Dataset 2 Labels', alpha=0.5)\n"
                    ]
                },
                {
                    "data": {
                        "image/png": "[encoded data removed]",
                        "text/plain": [
                            "<Figure size 432x288 with 1 Axes>"
                        ]
                    },
                    "metadata": {
                        "needs_background": "light"
                    },
                    "output_type": "display_data"
                },
                {
                    "data": {
                        "image/png": "[encoded data removed]",
                        "text/plain": [
                            "<Figure size 432x288 with 1 Axes>"
                        ]
                    },
                    "metadata": {
                        "needs_background": "light"
                    },
                    "output_type": "display_data"
                }
            ],
            "source": [
                "import torch\n",
                "\n",
                "x = torch.Tensor(data_federation[0]['X']).float().reshape(-1, 1)\n",
                "y1 = torch.Tensor(data_federation[0]['Y']).float().reshape(-1, 1)\n",
                "y2 = torch.Tensor(data_federation[1]['Y']).float().reshape(-1, 1)\n",
                "\n",
                "print_graph(starting_model(x).data.numpy(), x, y1, y2)\n",
                "print_graph(model(x).data.numpy(), x, y1, y2)"
            ]
        },
        {
            "cell_type": "code",
            "execution_count": null,
            "metadata": {},
            "outputs": [],
            "source": []
        }
    ],
    "metadata": {
        "interpreter": {
            "hash": "916dbcbb3f70747c44a77c7bcd40155683ae19c65e1c03b4aa3499c5328201f1"
        },
        "kernelspec": {
            "display_name": "Python 3.8.10 64-bit",
            "language": "python",
            "name": "python3"
        },
        "language_info": {
            "codemirror_mode": {
                "name": "ipython",
                "version": 3
            },
            "file_extension": ".py",
            "mimetype": "text/x-python",
            "name": "python",
            "nbconvert_exporter": "python",
            "pygments_lexer": "ipython3",
            "version": "3.8.10"
        },
        "orig_nbformat": 4
    },
    "nbformat": 4,
    "nbformat_minor": 2
}