{
 "cells": [
  {
   "cell_type": "markdown",
   "metadata": {},
   "source": [
    "# 0. Provision our SCNs"
   ]
  },
  {
   "cell_type": "code",
   "execution_count": 2,
   "metadata": {
    "tags": []
   },
   "outputs": [
    {
     "name": "stdin",
     "output_type": "stream",
     "text": [
      "Researcher password:  ········\n"
     ]
    },
    {
     "name": "stdout",
     "output_type": "stream",
     "text": [
      "Id for federation is b3f77c0b-3d07-47fa-9057-7210b7d6e225\n",
      "{'data_federation_id': 'b3f77c0b-3d07-47fa-9057-7210b7d6e225', 'secure_computation_nodes_size': 'Standard_D4s_v4'}\n",
      "Provision id b6da95b4-36e9-4f13-9caa-0e964c8b299b\n",
      "Smart broker id: c1248e10-abc9-48ca-acd9-c5dcef911a71\n",
      "Federation is being provisioned...\n",
      "Federation is being provisioned...\n",
      "Federation is being provisioned...\n",
      "Federation is being provisioned...\n",
      "Federation is being provisioned...\n",
      "Federation is being provisioned...\n",
      "Federation is being provisioned...\n",
      "Federation is up and running at 172.20.200.6:8000\n"
     ]
    }
   ],
   "source": [
    "from platform_api import platform_api\n",
    "from smart_broker_api import session\n",
    "from getpass import getpass\n",
    "import time\n",
    "import warnings\n",
    "\n",
    "# We filter out because our certs are self-signed for now\n",
    "warnings.filterwarnings('ignore', message='Unverified HTTPS request')\n",
    "\n",
    "PLATFORM_IP = \"172.20.100.7\"\n",
    "PLATFORM_USER = \"admin@secureailabs.com\"\n",
    "FEDERATION_NAME = \"KCA Consortium - FHIR\"\n",
    "PASSWORD = getpass(prompt=\"Researcher password: \")\n",
    "\n",
    "platform_session = platform_api.login(PLATFORM_USER, PASSWORD, PLATFORM_IP)\n",
    "\n",
    "platform_api.provision_federation_by_name(platform_session, FEDERATION_NAME)\n",
    "\n",
    "federation_session = None\n",
    "while federation_session is None:\n",
    "    time.sleep(30)\n",
    "    federation_session = platform_api.connect_to_federation(platform_session, FEDERATION_NAME)\n",
    "\n",
    "session = session.Session(federation_session[\"ip\"], federation_session[\"port\"], True)\n",
    "\n",
    "print(f\"Federation is up and running at {session.ip}:{session.port}\")"
   ]
  },
  {
   "cell_type": "code",
   "execution_count": 3,
   "metadata": {
    "tags": []
   },
   "outputs": [],
   "source": [
    "from smart_broker_api import data_model_api\n",
    "\n",
    "DATA_FRAME_NAME = \"data_frame_demo\"\n",
    "\n",
    "data_model_id = data_model_api.create_date_frame(session, DATA_FRAME_NAME)\n",
    "data_model_api.data_frame_add_series(session, data_model_id, \"bmi_mean\", \"Observation:Body Mass Index\", \"AgregatorIntervalMean\")\n",
    "data_model_api.data_frame_add_series(session, data_model_id, \"bmi_first\", \"Observation:Body Mass Index\", \"AgregatorIntervalFirstOccurance\")\n",
    "data_model_api.data_frame_add_series(session, data_model_id, \"bmi_last\", \"Observation:Body Mass Index\", \"AgregatorIntervalLastOccurance\")\n",
    "data_model_tabular_id = data_model_api.create_tabular_data(session)\n",
    "data_model_tabular_id = data_model_api.tabular_add_dataframe(session, data_model_id, data_model_tabular_id)"
   ]
  },
  {
   "cell_type": "markdown",
   "metadata": {},
   "source": [
    "# 2. Flatten / Aggregate data from Aggregation model"
   ]
  },
  {
   "cell_type": "code",
   "execution_count": 4,
   "metadata": {
    "tags": []
   },
   "outputs": [],
   "source": [
    "from smart_broker_api import data_api\n",
    "\n",
    "dataset_federation_id = \"a892f738-4f6f-11ed-bdc3-0242ac120002\"\n",
    "\n",
    "longitudinal_id = data_api.read_longitudinal_fhirv1(session)\n",
    "tabular_dataset_id = data_api.parse_dataset_tabular_from_longitudinal(session, longitudinal_id, dataset_federation_id, FEDERATION_NAME, data_model_tabular_id)\n",
    "data_frame_id = data_api.data_frame_tabular_select_data_frame(session, tabular_dataset_id, DATA_FRAME_NAME)"
   ]
  },
  {
   "cell_type": "markdown",
   "metadata": {},
   "source": [
    "# 3. Remove NaNs from data frame"
   ]
  },
  {
   "cell_type": "code",
   "execution_count": 5,
   "metadata": {
    "tags": []
   },
   "outputs": [],
   "source": [
    "from smart_broker_api import preprocessing_api\n",
    "\n",
    "no_nan_data_frame_id = preprocessing_api.drop_na_data_frame(session, data_frame_id)"
   ]
  },
  {
   "cell_type": "markdown",
   "metadata": {},
   "source": [
    "# 4. Grab series to work with in Statistics Lib"
   ]
  },
  {
   "cell_type": "code",
   "execution_count": 6,
   "metadata": {
    "tags": []
   },
   "outputs": [
    {
     "name": "stdout",
     "output_type": "stream",
     "text": [
      "6c3c11c9-86e0-45bf-a9a7-67c124ef7f3e , 8a798b3c-9c57-4df1-9ac9-a4c16b02f1da\n"
     ]
    }
   ],
   "source": [
    "series_1_id = data_api.data_frame_select_series(session, no_nan_data_frame_id, \"bmi_mean\")\n",
    "series_2_id = data_api.data_frame_select_series(session, no_nan_data_frame_id, \"bmi_last\")\n",
    "\n",
    "print(series_1_id+\" , \"+series_2_id)"
   ]
  },
  {
   "cell_type": "markdown",
   "metadata": {},
   "source": [
    "# 5. Cohort selection"
   ]
  },
  {
   "cell_type": "code",
   "execution_count": 7,
   "metadata": {
    "tags": []
   },
   "outputs": [
    {
     "name": "stdout",
     "output_type": "stream",
     "text": [
      "Patients whose BMI decreased during study: {'count': 11}\n",
      "Patients whose BMI increased during study: {'count': 20}\n",
      "Patients whose BMI significantly decreased during study: Validation Failure: Sample size too small\n",
      "Mean BMI of patients whose BMI significantly decreased: Validation Failure: Sample size too small \n"
     ]
    }
   ],
   "source": [
    "from smart_broker_api import preprocessing_api\n",
    "from smart_broker_api import statistics_api\n",
    "\n",
    "query = \"bmi_first > bmi_last\"\n",
    "query_dataframe = preprocessing_api.query_data_frame(session, no_nan_data_frame_id, query)\n",
    "query_series = data_api.data_frame_select_series(session, query_dataframe, \"bmi_last\")\n",
    "\n",
    "print(f\"Patients whose BMI decreased during study: {statistics_api.count(session,  query_series)}\")\n",
    "\n",
    "query = \"bmi_first < bmi_last\"\n",
    "query_dataframe = preprocessing_api.query_data_frame(session, no_nan_data_frame_id, query)\n",
    "query_series = data_api.data_frame_select_series(session, query_dataframe, \"bmi_last\")\n",
    "\n",
    "print(f\"Patients whose BMI increased during study: {statistics_api.count(session,  query_series)}\")\n",
    "\n",
    "query = \"bmi_first - bmi_last > 0.5\"\n",
    "query_dataframe = preprocessing_api.query_data_frame(session, no_nan_data_frame_id, query)\n",
    "query_series = data_api.data_frame_select_series(session, query_dataframe, \"bmi_last\")\n",
    "\n",
    "print(f\"Patients whose BMI significantly decreased during study: {statistics_api.count(session,  query_series)}\")\n",
    "\n",
    "print(f\"Mean BMI of patients whose BMI significantly decreased: {statistics_api.mean(session, query_series)} \")"
   ]
  },
  {
   "cell_type": "markdown",
   "metadata": {},
   "source": [
    "# 6. Run Statistics Library"
   ]
  },
  {
   "cell_type": "code",
   "execution_count": 9,
   "metadata": {
    "tags": []
   },
   "outputs": [
    {
     "name": "stdout",
     "output_type": "stream",
     "text": [
      "{'count': 39}\n",
      "{'mean': 24.077978156595098}\n",
      "{'chisquare': [1482.0, 0.23780643207804403]}\n",
      "{'kolmogorov_smirnov_test': [0.9487179487179487, 9.765177766940755e-51]}\n",
      "{'kurtosis': -1.0554004280481166}\n",
      "{'f_statistic': 0.4727228384348489, 'p_value': 0.4938301638491879}\n",
      "{'w_statistic': 744.0, 'p_value': 0.8729644921296094}\n",
      "{'min': 10.752068498358543, 'max': 35.31937886703387}\n",
      "{'t_statistic': -4.130790631792744, 'p_value': 4.779885698623219e-05}\n",
      "{'pearson': 0.9478269693987692, 'p_value': 0.0}\n",
      "{'skewness': -0.3911170171411883}\n",
      "{'spearman': 0.9603105783145206, 'p_value': 0.0}\n",
      "{'t_statistic': -0.9446940149624719, 'p_value': 0.08695220786668137}\n",
      "{'variance': 30.349529322447076}\n",
      "{'t_statistic': -0.9446940149624716, 'p_value': 0.08695241043625684}\n",
      "{'w_statistic': 0.9603105783145206, 'p_value': 0.0}\n",
      "{'w_statistic': 0.9603105783145206, 'p_value': 0.0}\n"
     ]
    },
    {
     "data": {
      "application/vnd.plotly.v1+json": {
       "config": {
        "plotlyServerURL": "https://plot.ly"
       },
       "data": [],
       "layout": {
        "autosize": true,
        "barmode": "relative",
        "legend": {
         "tracegroupgap": 0
        },
        "margin": {
         "t": 60
        },
        "template": {
         "data": {
          "bar": [
           {
            "error_x": {
             "color": "#2a3f5f"
            },
            "error_y": {
             "color": "#2a3f5f"
            },
            "marker": {
             "line": {
              "color": "#E5ECF6",
              "width": 0.5
             },
             "pattern": {
              "fillmode": "overlay",
              "size": 10,
              "solidity": 0.2
             }
            },
            "type": "bar"
           }
          ],
          "barpolar": [
           {
            "marker": {
             "line": {
              "color": "#E5ECF6",
              "width": 0.5
             },
             "pattern": {
              "fillmode": "overlay",
              "size": 10,
              "solidity": 0.2
             }
            },
            "type": "barpolar"
           }
          ],
          "carpet": [
           {
            "aaxis": {
             "endlinecolor": "#2a3f5f",
             "gridcolor": "white",
             "linecolor": "white",
             "minorgridcolor": "white",
             "startlinecolor": "#2a3f5f"
            },
            "baxis": {
             "endlinecolor": "#2a3f5f",
             "gridcolor": "white",
             "linecolor": "white",
             "minorgridcolor": "white",
             "startlinecolor": "#2a3f5f"
            },
            "type": "carpet"
           }
          ],
          "choropleth": [
           {
            "colorbar": {
             "outlinewidth": 0,
             "ticks": ""
            },
            "type": "choropleth"
           }
          ],
          "contour": [
           {
            "colorbar": {
             "outlinewidth": 0,
             "ticks": ""
            },
            "colorscale": [
             [
              0,
              "#0d0887"
             ],
             [
              0.1111111111111111,
              "#46039f"
             ],
             [
              0.2222222222222222,
              "#7201a8"
             ],
             [
              0.3333333333333333,
              "#9c179e"
             ],
             [
              0.4444444444444444,
              "#bd3786"
             ],
             [
              0.5555555555555556,
              "#d8576b"
             ],
             [
              0.6666666666666666,
              "#ed7953"
             ],
             [
              0.7777777777777778,
              "#fb9f3a"
             ],
             [
              0.8888888888888888,
              "#fdca26"
             ],
             [
              1,
              "#f0f921"
             ]
            ],
            "type": "contour"
           }
          ],
          "contourcarpet": [
           {
            "colorbar": {
             "outlinewidth": 0,
             "ticks": ""
            },
            "type": "contourcarpet"
           }
          ],
          "heatmap": [
           {
            "colorbar": {
             "outlinewidth": 0,
             "ticks": ""
            },
            "colorscale": [
             [
              0,
              "#0d0887"
             ],
             [
              0.1111111111111111,
              "#46039f"
             ],
             [
              0.2222222222222222,
              "#7201a8"
             ],
             [
              0.3333333333333333,
              "#9c179e"
             ],
             [
              0.4444444444444444,
              "#bd3786"
             ],
             [
              0.5555555555555556,
              "#d8576b"
             ],
             [
              0.6666666666666666,
              "#ed7953"
             ],
             [
              0.7777777777777778,
              "#fb9f3a"
             ],
             [
              0.8888888888888888,
              "#fdca26"
             ],
             [
              1,
              "#f0f921"
             ]
            ],
            "type": "heatmap"
           }
          ],
          "heatmapgl": [
           {
            "colorbar": {
             "outlinewidth": 0,
             "ticks": ""
            },
            "colorscale": [
             [
              0,
              "#0d0887"
             ],
             [
              0.1111111111111111,
              "#46039f"
             ],
             [
              0.2222222222222222,
              "#7201a8"
             ],
             [
              0.3333333333333333,
              "#9c179e"
             ],
             [
              0.4444444444444444,
              "#bd3786"
             ],
             [
              0.5555555555555556,
              "#d8576b"
             ],
             [
              0.6666666666666666,
              "#ed7953"
             ],
             [
              0.7777777777777778,
              "#fb9f3a"
             ],
             [
              0.8888888888888888,
              "#fdca26"
             ],
             [
              1,
              "#f0f921"
             ]
            ],
            "type": "heatmapgl"
           }
          ],
          "histogram": [
           {
            "marker": {
             "pattern": {
              "fillmode": "overlay",
              "size": 10,
              "solidity": 0.2
             }
            },
            "type": "histogram"
           }
          ],
          "histogram2d": [
           {
            "colorbar": {
             "outlinewidth": 0,
             "ticks": ""
            },
            "colorscale": [
             [
              0,
              "#0d0887"
             ],
             [
              0.1111111111111111,
              "#46039f"
             ],
             [
              0.2222222222222222,
              "#7201a8"
             ],
             [
              0.3333333333333333,
              "#9c179e"
             ],
             [
              0.4444444444444444,
              "#bd3786"
             ],
             [
              0.5555555555555556,
              "#d8576b"
             ],
             [
              0.6666666666666666,
              "#ed7953"
             ],
             [
              0.7777777777777778,
              "#fb9f3a"
             ],
             [
              0.8888888888888888,
              "#fdca26"
             ],
             [
              1,
              "#f0f921"
             ]
            ],
            "type": "histogram2d"
           }
          ],
          "histogram2dcontour": [
           {
            "colorbar": {
             "outlinewidth": 0,
             "ticks": ""
            },
            "colorscale": [
             [
              0,
              "#0d0887"
             ],
             [
              0.1111111111111111,
              "#46039f"
             ],
             [
              0.2222222222222222,
              "#7201a8"
             ],
             [
              0.3333333333333333,
              "#9c179e"
             ],
             [
              0.4444444444444444,
              "#bd3786"
             ],
             [
              0.5555555555555556,
              "#d8576b"
             ],
             [
              0.6666666666666666,
              "#ed7953"
             ],
             [
              0.7777777777777778,
              "#fb9f3a"
             ],
             [
              0.8888888888888888,
              "#fdca26"
             ],
             [
              1,
              "#f0f921"
             ]
            ],
            "type": "histogram2dcontour"
           }
          ],
          "mesh3d": [
           {
            "colorbar": {
             "outlinewidth": 0,
             "ticks": ""
            },
            "type": "mesh3d"
           }
          ],
          "parcoords": [
           {
            "line": {
             "colorbar": {
              "outlinewidth": 0,
              "ticks": ""
             }
            },
            "type": "parcoords"
           }
          ],
          "pie": [
           {
            "automargin": true,
            "type": "pie"
           }
          ],
          "scatter": [
           {
            "fillpattern": {
             "fillmode": "overlay",
             "size": 10,
             "solidity": 0.2
            },
            "type": "scatter"
           }
          ],
          "scatter3d": [
           {
            "line": {
             "colorbar": {
              "outlinewidth": 0,
              "ticks": ""
             }
            },
            "marker": {
             "colorbar": {
              "outlinewidth": 0,
              "ticks": ""
             }
            },
            "type": "scatter3d"
           }
          ],
          "scattercarpet": [
           {
            "marker": {
             "colorbar": {
              "outlinewidth": 0,
              "ticks": ""
             }
            },
            "type": "scattercarpet"
           }
          ],
          "scattergeo": [
           {
            "marker": {
             "colorbar": {
              "outlinewidth": 0,
              "ticks": ""
             }
            },
            "type": "scattergeo"
           }
          ],
          "scattergl": [
           {
            "marker": {
             "colorbar": {
              "outlinewidth": 0,
              "ticks": ""
             }
            },
            "type": "scattergl"
           }
          ],
          "scattermapbox": [
           {
            "marker": {
             "colorbar": {
              "outlinewidth": 0,
              "ticks": ""
             }
            },
            "type": "scattermapbox"
           }
          ],
          "scatterpolar": [
           {
            "marker": {
             "colorbar": {
              "outlinewidth": 0,
              "ticks": ""
             }
            },
            "type": "scatterpolar"
           }
          ],
          "scatterpolargl": [
           {
            "marker": {
             "colorbar": {
              "outlinewidth": 0,
              "ticks": ""
             }
            },
            "type": "scatterpolargl"
           }
          ],
          "scatterternary": [
           {
            "marker": {
             "colorbar": {
              "outlinewidth": 0,
              "ticks": ""
             }
            },
            "type": "scatterternary"
           }
          ],
          "surface": [
           {
            "colorbar": {
             "outlinewidth": 0,
             "ticks": ""
            },
            "colorscale": [
             [
              0,
              "#0d0887"
             ],
             [
              0.1111111111111111,
              "#46039f"
             ],
             [
              0.2222222222222222,
              "#7201a8"
             ],
             [
              0.3333333333333333,
              "#9c179e"
             ],
             [
              0.4444444444444444,
              "#bd3786"
             ],
             [
              0.5555555555555556,
              "#d8576b"
             ],
             [
              0.6666666666666666,
              "#ed7953"
             ],
             [
              0.7777777777777778,
              "#fb9f3a"
             ],
             [
              0.8888888888888888,
              "#fdca26"
             ],
             [
              1,
              "#f0f921"
             ]
            ],
            "type": "surface"
           }
          ],
          "table": [
           {
            "cells": {
             "fill": {
              "color": "#EBF0F8"
             },
             "line": {
              "color": "white"
             }
            },
            "header": {
             "fill": {
              "color": "#C8D4E3"
             },
             "line": {
              "color": "white"
             }
            },
            "type": "table"
           }
          ]
         },
         "layout": {
          "annotationdefaults": {
           "arrowcolor": "#2a3f5f",
           "arrowhead": 0,
           "arrowwidth": 1
          },
          "autotypenumbers": "strict",
          "coloraxis": {
           "colorbar": {
            "outlinewidth": 0,
            "ticks": ""
           }
          },
          "colorscale": {
           "diverging": [
            [
             0,
             "#8e0152"
            ],
            [
             0.1,
             "#c51b7d"
            ],
            [
             0.2,
             "#de77ae"
            ],
            [
             0.3,
             "#f1b6da"
            ],
            [
             0.4,
             "#fde0ef"
            ],
            [
             0.5,
             "#f7f7f7"
            ],
            [
             0.6,
             "#e6f5d0"
            ],
            [
             0.7,
             "#b8e186"
            ],
            [
             0.8,
             "#7fbc41"
            ],
            [
             0.9,
             "#4d9221"
            ],
            [
             1,
             "#276419"
            ]
           ],
           "sequential": [
            [
             0,
             "#0d0887"
            ],
            [
             0.1111111111111111,
             "#46039f"
            ],
            [
             0.2222222222222222,
             "#7201a8"
            ],
            [
             0.3333333333333333,
             "#9c179e"
            ],
            [
             0.4444444444444444,
             "#bd3786"
            ],
            [
             0.5555555555555556,
             "#d8576b"
            ],
            [
             0.6666666666666666,
             "#ed7953"
            ],
            [
             0.7777777777777778,
             "#fb9f3a"
            ],
            [
             0.8888888888888888,
             "#fdca26"
            ],
            [
             1,
             "#f0f921"
            ]
           ],
           "sequentialminus": [
            [
             0,
             "#0d0887"
            ],
            [
             0.1111111111111111,
             "#46039f"
            ],
            [
             0.2222222222222222,
             "#7201a8"
            ],
            [
             0.3333333333333333,
             "#9c179e"
            ],
            [
             0.4444444444444444,
             "#bd3786"
            ],
            [
             0.5555555555555556,
             "#d8576b"
            ],
            [
             0.6666666666666666,
             "#ed7953"
            ],
            [
             0.7777777777777778,
             "#fb9f3a"
            ],
            [
             0.8888888888888888,
             "#fdca26"
            ],
            [
             1,
             "#f0f921"
            ]
           ]
          },
          "colorway": [
           "#636efa",
           "#EF553B",
           "#00cc96",
           "#ab63fa",
           "#FFA15A",
           "#19d3f3",
           "#FF6692",
           "#B6E880",
           "#FF97FF",
           "#FECB52"
          ],
          "font": {
           "color": "#2a3f5f"
          },
          "geo": {
           "bgcolor": "white",
           "lakecolor": "white",
           "landcolor": "#E5ECF6",
           "showlakes": true,
           "showland": true,
           "subunitcolor": "white"
          },
          "hoverlabel": {
           "align": "left"
          },
          "hovermode": "closest",
          "mapbox": {
           "style": "light"
          },
          "paper_bgcolor": "white",
          "plot_bgcolor": "#E5ECF6",
          "polar": {
           "angularaxis": {
            "gridcolor": "white",
            "linecolor": "white",
            "ticks": ""
           },
           "bgcolor": "#E5ECF6",
           "radialaxis": {
            "gridcolor": "white",
            "linecolor": "white",
            "ticks": ""
           }
          },
          "scene": {
           "xaxis": {
            "backgroundcolor": "#E5ECF6",
            "gridcolor": "white",
            "gridwidth": 2,
            "linecolor": "white",
            "showbackground": true,
            "ticks": "",
            "zerolinecolor": "white"
           },
           "yaxis": {
            "backgroundcolor": "#E5ECF6",
            "gridcolor": "white",
            "gridwidth": 2,
            "linecolor": "white",
            "showbackground": true,
            "ticks": "",
            "zerolinecolor": "white"
           },
           "zaxis": {
            "backgroundcolor": "#E5ECF6",
            "gridcolor": "white",
            "gridwidth": 2,
            "linecolor": "white",
            "showbackground": true,
            "ticks": "",
            "zerolinecolor": "white"
           }
          },
          "shapedefaults": {
           "line": {
            "color": "#2a3f5f"
           }
          },
          "ternary": {
           "aaxis": {
            "gridcolor": "white",
            "linecolor": "white",
            "ticks": ""
           },
           "baxis": {
            "gridcolor": "white",
            "linecolor": "white",
            "ticks": ""
           },
           "bgcolor": "#E5ECF6",
           "caxis": {
            "gridcolor": "white",
            "linecolor": "white",
            "ticks": ""
           }
          },
          "title": {
           "x": 0.05
          },
          "xaxis": {
           "automargin": true,
           "gridcolor": "white",
           "linecolor": "white",
           "ticks": "",
           "title": {
            "standoff": 15
           },
           "zerolinecolor": "white",
           "zerolinewidth": 2
          },
          "yaxis": {
           "automargin": true,
           "gridcolor": "white",
           "linecolor": "white",
           "ticks": "",
           "title": {
            "standoff": 15
           },
           "zerolinecolor": "white",
           "zerolinewidth": 2
          }
         }
        },
        "xaxis": {
         "anchor": "y",
         "autorange": true,
         "domain": [
          0,
          1
         ],
         "range": [
          -1,
          6
         ],
         "title": {
          "text": "value"
         }
        },
        "yaxis": {
         "anchor": "x",
         "autorange": true,
         "domain": [
          0,
          1
         ],
         "range": [
          -1,
          4
         ],
         "title": {
          "text": "count"
         }
        }
       }
      },
      "image/png": "[encoded data removed]",
      "text/html": [
       "<div>                            <div id=\"84f0289a-2bb4-4f4d-a9d3-05e199cff6b5\" class=\"plotly-graph-div\" style=\"height:525px; width:100%;\"></div>            <script type=\"text/javascript\">                require([\"plotly\"], function(Plotly) {                    window.PLOTLYENV=window.PLOTLYENV || {};                                    if (document.getElementById(\"84f0289a-2bb4-4f4d-a9d3-05e199cff6b5\")) {                    Plotly.newPlot(                        \"84f0289a-2bb4-4f4d-a9d3-05e199cff6b5\",                        [],                        {\"barmode\":\"relative\",\"legend\":{\"tracegroupgap\":0},\"margin\":{\"t\":60},\"template\":{\"data\":{\"barpolar\":[{\"marker\":{\"line\":{\"color\":\"#E5ECF6\",\"width\":0.5},\"pattern\":{\"fillmode\":\"overlay\",\"size\":10,\"solidity\":0.2}},\"type\":\"barpolar\"}],\"bar\":[{\"error_x\":{\"color\":\"#2a3f5f\"},\"error_y\":{\"color\":\"#2a3f5f\"},\"marker\":{\"line\":{\"color\":\"#E5ECF6\",\"width\":0.5},\"pattern\":{\"fillmode\":\"overlay\",\"size\":10,\"solidity\":0.2}},\"type\":\"bar\"}],\"carpet\":[{\"aaxis\":{\"endlinecolor\":\"#2a3f5f\",\"gridcolor\":\"white\",\"linecolor\":\"white\",\"minorgridcolor\":\"white\",\"startlinecolor\":\"#2a3f5f\"},\"baxis\":{\"endlinecolor\":\"#2a3f5f\",\"gridcolor\":\"white\",\"linecolor\":\"white\",\"minorgridcolor\":\"white\",\"startlinecolor\":\"#2a3f5f\"},\"type\":\"carpet\"}],\"choropleth\":[{\"colorbar\":{\"outlinewidth\":0,\"ticks\":\"\"},\"type\":\"choropleth\"}],\"contourcarpet\":[{\"colorbar\":{\"outlinewidth\":0,\"ticks\":\"\"},\"type\":\"contourcarpet\"}],\"contour\":[{\"colorbar\":{\"outlinewidth\":0,\"ticks\":\"\"},\"colorscale\":[[0.0,\"#0d0887\"],[0.1111111111111111,\"#46039f\"],[0.2222222222222222,\"#7201a8\"],[0.3333333333333333,\"#9c179e\"],[0.4444444444444444,\"#bd3786\"],[0.5555555555555556,\"#d8576b\"],[0.6666666666666666,\"#ed7953\"],[0.7777777777777778,\"#fb9f3a\"],[0.8888888888888888,\"#fdca26\"],[1.0,\"#f0f921\"]],\"type\":\"contour\"}],\"heatmapgl\":[{\"colorbar\":{\"outlinewidth\":0,\"ticks\":\"\"},\"colorscale\":[[0.0,\"#0d0887\"],[0.1111111111111111,\"#46039f\"],[0.2222222222222222,\"#7201a8\"],[0.3333333333333333,\"#9c179e\"],[0.4444444444444444,\"#bd3786\"],[0.5555555555555556,\"#d8576b\"],[0.6666666666666666,\"#ed7953\"],[0.7777777777777778,\"#fb9f3a\"],[0.8888888888888888,\"#fdca26\"],[1.0,\"#f0f921\"]],\"type\":\"heatmapgl\"}],\"heatmap\":[{\"colorbar\":{\"outlinewidth\":0,\"ticks\":\"\"},\"colorscale\":[[0.0,\"#0d0887\"],[0.1111111111111111,\"#46039f\"],[0.2222222222222222,\"#7201a8\"],[0.3333333333333333,\"#9c179e\"],[0.4444444444444444,\"#bd3786\"],[0.5555555555555556,\"#d8576b\"],[0.6666666666666666,\"#ed7953\"],[0.7777777777777778,\"#fb9f3a\"],[0.8888888888888888,\"#fdca26\"],[1.0,\"#f0f921\"]],\"type\":\"heatmap\"}],\"histogram2dcontour\":[{\"colorbar\":{\"outlinewidth\":0,\"ticks\":\"\"},\"colorscale\":[[0.0,\"#0d0887\"],[0.1111111111111111,\"#46039f\"],[0.2222222222222222,\"#7201a8\"],[0.3333333333333333,\"#9c179e\"],[0.4444444444444444,\"#bd3786\"],[0.5555555555555556,\"#d8576b\"],[0.6666666666666666,\"#ed7953\"],[0.7777777777777778,\"#fb9f3a\"],[0.8888888888888888,\"#fdca26\"],[1.0,\"#f0f921\"]],\"type\":\"histogram2dcontour\"}],\"histogram2d\":[{\"colorbar\":{\"outlinewidth\":0,\"ticks\":\"\"},\"colorscale\":[[0.0,\"#0d0887\"],[0.1111111111111111,\"#46039f\"],[0.2222222222222222,\"#7201a8\"],[0.3333333333333333,\"#9c179e\"],[0.4444444444444444,\"#bd3786\"],[0.5555555555555556,\"#d8576b\"],[0.6666666666666666,\"#ed7953\"],[0.7777777777777778,\"#fb9f3a\"],[0.8888888888888888,\"#fdca26\"],[1.0,\"#f0f921\"]],\"type\":\"histogram2d\"}],\"histogram\":[{\"marker\":{\"pattern\":{\"fillmode\":\"overlay\",\"size\":10,\"solidity\":0.2}},\"type\":\"histogram\"}],\"mesh3d\":[{\"colorbar\":{\"outlinewidth\":0,\"ticks\":\"\"},\"type\":\"mesh3d\"}],\"parcoords\":[{\"line\":{\"colorbar\":{\"outlinewidth\":0,\"ticks\":\"\"}},\"type\":\"parcoords\"}],\"pie\":[{\"automargin\":true,\"type\":\"pie\"}],\"scatter3d\":[{\"line\":{\"colorbar\":{\"outlinewidth\":0,\"ticks\":\"\"}},\"marker\":{\"colorbar\":{\"outlinewidth\":0,\"ticks\":\"\"}},\"type\":\"scatter3d\"}],\"scattercarpet\":[{\"marker\":{\"colorbar\":{\"outlinewidth\":0,\"ticks\":\"\"}},\"type\":\"scattercarpet\"}],\"scattergeo\":[{\"marker\":{\"colorbar\":{\"outlinewidth\":0,\"ticks\":\"\"}},\"type\":\"scattergeo\"}],\"scattergl\":[{\"marker\":{\"colorbar\":{\"outlinewidth\":0,\"ticks\":\"\"}},\"type\":\"scattergl\"}],\"scattermapbox\":[{\"marker\":{\"colorbar\":{\"outlinewidth\":0,\"ticks\":\"\"}},\"type\":\"scattermapbox\"}],\"scatterpolargl\":[{\"marker\":{\"colorbar\":{\"outlinewidth\":0,\"ticks\":\"\"}},\"type\":\"scatterpolargl\"}],\"scatterpolar\":[{\"marker\":{\"colorbar\":{\"outlinewidth\":0,\"ticks\":\"\"}},\"type\":\"scatterpolar\"}],\"scatter\":[{\"fillpattern\":{\"fillmode\":\"overlay\",\"size\":10,\"solidity\":0.2},\"type\":\"scatter\"}],\"scatterternary\":[{\"marker\":{\"colorbar\":{\"outlinewidth\":0,\"ticks\":\"\"}},\"type\":\"scatterternary\"}],\"surface\":[{\"colorbar\":{\"outlinewidth\":0,\"ticks\":\"\"},\"colorscale\":[[0.0,\"#0d0887\"],[0.1111111111111111,\"#46039f\"],[0.2222222222222222,\"#7201a8\"],[0.3333333333333333,\"#9c179e\"],[0.4444444444444444,\"#bd3786\"],[0.5555555555555556,\"#d8576b\"],[0.6666666666666666,\"#ed7953\"],[0.7777777777777778,\"#fb9f3a\"],[0.8888888888888888,\"#fdca26\"],[1.0,\"#f0f921\"]],\"type\":\"surface\"}],\"table\":[{\"cells\":{\"fill\":{\"color\":\"#EBF0F8\"},\"line\":{\"color\":\"white\"}},\"header\":{\"fill\":{\"color\":\"#C8D4E3\"},\"line\":{\"color\":\"white\"}},\"type\":\"table\"}]},\"layout\":{\"annotationdefaults\":{\"arrowcolor\":\"#2a3f5f\",\"arrowhead\":0,\"arrowwidth\":1},\"autotypenumbers\":\"strict\",\"coloraxis\":{\"colorbar\":{\"outlinewidth\":0,\"ticks\":\"\"}},\"colorscale\":{\"diverging\":[[0,\"#8e0152\"],[0.1,\"#c51b7d\"],[0.2,\"#de77ae\"],[0.3,\"#f1b6da\"],[0.4,\"#fde0ef\"],[0.5,\"#f7f7f7\"],[0.6,\"#e6f5d0\"],[0.7,\"#b8e186\"],[0.8,\"#7fbc41\"],[0.9,\"#4d9221\"],[1,\"#276419\"]],\"sequential\":[[0.0,\"#0d0887\"],[0.1111111111111111,\"#46039f\"],[0.2222222222222222,\"#7201a8\"],[0.3333333333333333,\"#9c179e\"],[0.4444444444444444,\"#bd3786\"],[0.5555555555555556,\"#d8576b\"],[0.6666666666666666,\"#ed7953\"],[0.7777777777777778,\"#fb9f3a\"],[0.8888888888888888,\"#fdca26\"],[1.0,\"#f0f921\"]],\"sequentialminus\":[[0.0,\"#0d0887\"],[0.1111111111111111,\"#46039f\"],[0.2222222222222222,\"#7201a8\"],[0.3333333333333333,\"#9c179e\"],[0.4444444444444444,\"#bd3786\"],[0.5555555555555556,\"#d8576b\"],[0.6666666666666666,\"#ed7953\"],[0.7777777777777778,\"#fb9f3a\"],[0.8888888888888888,\"#fdca26\"],[1.0,\"#f0f921\"]]},\"colorway\":[\"#636efa\",\"#EF553B\",\"#00cc96\",\"#ab63fa\",\"#FFA15A\",\"#19d3f3\",\"#FF6692\",\"#B6E880\",\"#FF97FF\",\"#FECB52\"],\"font\":{\"color\":\"#2a3f5f\"},\"geo\":{\"bgcolor\":\"white\",\"lakecolor\":\"white\",\"landcolor\":\"#E5ECF6\",\"showlakes\":true,\"showland\":true,\"subunitcolor\":\"white\"},\"hoverlabel\":{\"align\":\"left\"},\"hovermode\":\"closest\",\"mapbox\":{\"style\":\"light\"},\"paper_bgcolor\":\"white\",\"plot_bgcolor\":\"#E5ECF6\",\"polar\":{\"angularaxis\":{\"gridcolor\":\"white\",\"linecolor\":\"white\",\"ticks\":\"\"},\"bgcolor\":\"#E5ECF6\",\"radialaxis\":{\"gridcolor\":\"white\",\"linecolor\":\"white\",\"ticks\":\"\"}},\"scene\":{\"xaxis\":{\"backgroundcolor\":\"#E5ECF6\",\"gridcolor\":\"white\",\"gridwidth\":2,\"linecolor\":\"white\",\"showbackground\":true,\"ticks\":\"\",\"zerolinecolor\":\"white\"},\"yaxis\":{\"backgroundcolor\":\"#E5ECF6\",\"gridcolor\":\"white\",\"gridwidth\":2,\"linecolor\":\"white\",\"showbackground\":true,\"ticks\":\"\",\"zerolinecolor\":\"white\"},\"zaxis\":{\"backgroundcolor\":\"#E5ECF6\",\"gridcolor\":\"white\",\"gridwidth\":2,\"linecolor\":\"white\",\"showbackground\":true,\"ticks\":\"\",\"zerolinecolor\":\"white\"}},\"shapedefaults\":{\"line\":{\"color\":\"#2a3f5f\"}},\"ternary\":{\"aaxis\":{\"gridcolor\":\"white\",\"linecolor\":\"white\",\"ticks\":\"\"},\"baxis\":{\"gridcolor\":\"white\",\"linecolor\":\"white\",\"ticks\":\"\"},\"bgcolor\":\"#E5ECF6\",\"caxis\":{\"gridcolor\":\"white\",\"linecolor\":\"white\",\"ticks\":\"\"}},\"title\":{\"x\":0.05},\"xaxis\":{\"automargin\":true,\"gridcolor\":\"white\",\"linecolor\":\"white\",\"ticks\":\"\",\"title\":{\"standoff\":15},\"zerolinecolor\":\"white\",\"zerolinewidth\":2},\"yaxis\":{\"automargin\":true,\"gridcolor\":\"white\",\"linecolor\":\"white\",\"ticks\":\"\",\"title\":{\"standoff\":15},\"zerolinecolor\":\"white\",\"zerolinewidth\":2}}},\"xaxis\":{\"anchor\":\"y\",\"domain\":[0.0,1.0],\"title\":{\"text\":\"value\"}},\"yaxis\":{\"anchor\":\"x\",\"domain\":[0.0,1.0],\"title\":{\"text\":\"count\"}}},                        {\"responsive\": true}                    ).then(function(){\n",
       "                            \n",
       "var gd = document.getElementById('84f0289a-2bb4-4f4d-a9d3-05e199cff6b5');\n",
       "var x = new MutationObserver(function (mutations, observer) {{\n",
       "        var display = window.getComputedStyle(gd).display;\n",
       "        if (!display || display === 'none') {{\n",
       "            console.log([gd, 'removed!']);\n",
       "            Plotly.purge(gd);\n",
       "            observer.disconnect();\n",
       "        }}\n",
       "}});\n",
       "\n",
       "// Listen for the removal of the full notebook cells\n",
       "var notebookContainer = gd.closest('#notebook-container');\n",
       "if (notebookContainer) {{\n",
       "    x.observe(notebookContainer, {childList: true});\n",
       "}}\n",
       "\n",
       "// Listen for the clearing of the current output cell\n",
       "var outputEl = gd.closest('.output');\n",
       "if (outputEl) {{\n",
       "    x.observe(outputEl, {childList: true});\n",
       "}}\n",
       "\n",
       "                        })                };                });            </script>        </div>"
      ]
     },
     "metadata": {},
     "output_type": "display_data"
    },
    {
     "data": {
      "application/vnd.plotly.v1+json": {
       "config": {
        "plotlyServerURL": "https://plot.ly"
       },
       "data": [
        {
         "histnorm": "probability density",
         "legendgroup": "bmi_mean",
         "marker": {
          "color": "rgb(31, 119, 180)"
         },
         "name": "bmi_mean",
         "opacity": 0.7,
         "type": "histogram",
         "x": [
          24.839296378896947,
          20.2744789825052,
          18.598758084216097,
          13.191912191736765,
          16.32648114674164,
          14.830028026936311,
          29.322578742343122,
          20.068700736700052,
          18.10088929395246,
          22.9950964963041,
          27.71956696603433,
          22.341160366997187,
          27.831524855627176,
          28.860474997107282,
          18.525580056901987,
          29.435359597700078,
          22.12142161608569,
          20.75641241204263,
          30.09579923988839,
          29.051242656199765,
          28.14608804975903,
          27.908175991515364,
          28.79251216008279,
          13.704183709455748,
          18.001978150843787,
          29.158403050108117,
          28.605888477750998,
          26.812432035126697,
          19.572266295122375,
          26.462895806945443,
          21.841289209063802,
          15.639334123099486,
          21.193522065468706,
          30.313275596256553,
          29.360278497967528,
          27.74146454247585,
          28.085587583047705,
          33.93015088468829,
          28.48465903351337
         ],
         "xaxis": "x",
         "xbins": {
          "end": 33.93015088468829,
          "size": 2,
          "start": 13.191912191736765
         },
         "yaxis": "y"
        },
        {
         "legendgroup": "bmi_mean",
         "marker": {
          "color": "rgb(31, 119, 180)"
         },
         "mode": "lines",
         "name": "bmi_mean",
         "showlegend": false,
         "type": "scatter",
         "x": [
          13.191912191736765,
          13.233388669122668,
          13.27486514650857,
          13.316341623894475,
          13.357818101280378,
          13.39929457866628,
          13.440771056052183,
          13.482247533438088,
          13.52372401082399,
          13.565200488209893,
          13.606676965595796,
          13.648153442981698,
          13.689629920367603,
          13.731106397753505,
          13.772582875139408,
          13.81405935252531,
          13.855535829911215,
          13.897012307297118,
          13.93848878468302,
          13.979965262068923,
          14.021441739454826,
          14.06291821684073,
          14.104394694226633,
          14.145871171612535,
          14.187347648998438,
          14.228824126384342,
          14.270300603770245,
          14.311777081156148,
          14.35325355854205,
          14.394730035927953,
          14.436206513313856,
          14.47768299069976,
          14.519159468085663,
          14.560635945471565,
          14.60211242285747,
          14.643588900243373,
          14.685065377629275,
          14.726541855015178,
          14.76801833240108,
          14.809494809786985,
          14.850971287172888,
          14.89244776455879,
          14.933924241944693,
          14.975400719330596,
          15.0168771967165,
          15.058353674102403,
          15.099830151488305,
          15.141306628874208,
          15.18278310626011,
          15.224259583646015,
          15.265736061031918,
          15.30721253841782,
          15.348689015803725,
          15.390165493189627,
          15.43164197057553,
          15.473118447961433,
          15.514594925347335,
          15.556071402733238,
          15.597547880119143,
          15.639024357505045,
          15.680500834890948,
          15.721977312276852,
          15.763453789662755,
          15.804930267048658,
          15.84640674443456,
          15.887883221820463,
          15.929359699206366,
          15.97083617659227,
          16.01231265397817,
          16.053789131364077,
          16.09526560874998,
          16.136742086135882,
          16.178218563521785,
          16.219695040907688,
          16.26117151829359,
          16.302647995679493,
          16.344124473065396,
          16.3856009504513,
          16.427077427837204,
          16.468553905223107,
          16.51003038260901,
          16.551506859994912,
          16.592983337380815,
          16.634459814766718,
          16.67593629215262,
          16.717412769538523,
          16.758889246924426,
          16.800365724310332,
          16.841842201696235,
          16.883318679082137,
          16.92479515646804,
          16.966271633853943,
          17.007748111239845,
          17.049224588625748,
          17.09070106601165,
          17.132177543397553,
          17.17365402078346,
          17.215130498169362,
          17.256606975555265,
          17.298083452941167,
          17.33955993032707,
          17.381036407712973,
          17.422512885098875,
          17.463989362484778,
          17.50546583987068,
          17.546942317256587,
          17.588418794642486,
          17.629895272028392,
          17.671371749414295,
          17.712848226800197,
          17.7543247041861,
          17.795801181572003,
          17.83727765895791,
          17.878754136343808,
          17.920230613729714,
          17.961707091115617,
          18.00318356850152,
          18.044660045887422,
          18.086136523273325,
          18.127613000659228,
          18.16908947804513,
          18.210565955431033,
          18.252042432816936,
          18.29351891020284,
          18.33499538758874,
          18.376471864974647,
          18.41794834236055,
          18.459424819746452,
          18.500901297132355,
          18.542377774518258,
          18.58385425190416,
          18.625330729290063,
          18.66680720667597,
          18.708283684061872,
          18.749760161447774,
          18.791236638833677,
          18.83271311621958,
          18.874189593605482,
          18.915666070991385,
          18.957142548377288,
          18.99861902576319,
          19.040095503149097,
          19.081571980535,
          19.123048457920902,
          19.164524935306805,
          19.206001412692707,
          19.24747789007861,
          19.288954367464513,
          19.330430844850415,
          19.371907322236318,
          19.413383799622224,
          19.454860277008123,
          19.49633675439403,
          19.537813231779932,
          19.579289709165835,
          19.620766186551737,
          19.66224266393764,
          19.703719141323543,
          19.745195618709445,
          19.78667209609535,
          19.828148573481254,
          19.869625050867157,
          19.91110152825306,
          19.952578005638962,
          19.994054483024865,
          20.035530960410767,
          20.07700743779667,
          20.118483915182573,
          20.159960392568475,
          20.201436869954378,
          20.242913347340284,
          20.284389824726187,
          20.32586630211209,
          20.367342779497992,
          20.408819256883895,
          20.450295734269798,
          20.4917722116557,
          20.533248689041606,
          20.57472516642751,
          20.61620164381341,
          20.657678121199314,
          20.699154598585217,
          20.74063107597112,
          20.782107553357022,
          20.823584030742925,
          20.865060508128828,
          20.906536985514734,
          20.948013462900633,
          20.98948994028654,
          21.030966417672442,
          21.072442895058344,
          21.113919372444247,
          21.15539584983015,
          21.196872327216052,
          21.238348804601955,
          21.27982528198786,
          21.32130175937376,
          21.362778236759667,
          21.404254714145566,
          21.445731191531472,
          21.487207668917375,
          21.528684146303277,
          21.570160623689183,
          21.611637101075083,
          21.65311357846099,
          21.694590055846888,
          21.736066533232794,
          21.777543010618697,
          21.8190194880046,
          21.860495965390502,
          21.901972442776405,
          21.943448920162307,
          21.98492539754821,
          22.026401874934116,
          22.067878352320015,
          22.10935482970592,
          22.150831307091824,
          22.192307784477727,
          22.233784261863626,
          22.275260739249532,
          22.316737216635435,
          22.358213694021337,
          22.399690171407244,
          22.441166648793143,
          22.48264312617905,
          22.52411960356495,
          22.565596080950854,
          22.607072558336757,
          22.64854903572266,
          22.690025513108562,
          22.731501990494465,
          22.77297846788037,
          22.81445494526627,
          22.855931422652176,
          22.897407900038075,
          22.93888437742398,
          22.980360854809884,
          23.021837332195787,
          23.063313809581693,
          23.104790286967592,
          23.146266764353495,
          23.187743241739398,
          23.229219719125304,
          23.270696196511203,
          23.31217267389711,
          23.35364915128301,
          23.395125628668914,
          23.43660210605482,
          23.47807858344072,
          23.519555060826626,
          23.561031538212525,
          23.60250801559843,
          23.643984492984334,
          23.685460970370237,
          23.72693744775614,
          23.768413925142042,
          23.809890402527945,
          23.851366879913847,
          23.892843357299753,
          23.934319834685652,
          23.97579631207156,
          24.01727278945746,
          24.058749266843364,
          24.100225744229263,
          24.14170222161517,
          24.183178699001072,
          24.224655176386975,
          24.26613165377288,
          24.30760813115878,
          24.349084608544686,
          24.390561085930585,
          24.43203756331649,
          24.473514040702394,
          24.514990518088297,
          24.5564669954742,
          24.597943472860102,
          24.63941995024601,
          24.680896427631907,
          24.722372905017814,
          24.763849382403713,
          24.80532585978962,
          24.84680233717552,
          24.888278814561424,
          24.92975529194733,
          24.97123176933323,
          25.012708246719132,
          25.054184724105035,
          25.09566120149094,
          25.13713767887684,
          25.178614156262746,
          25.22009063364865,
          25.26156711103455,
          25.303043588420454,
          25.344520065806357,
          25.385996543192263,
          25.427473020578162,
          25.46894949796407,
          25.51042597534997,
          25.551902452735874,
          25.593378930121773,
          25.63485540750768,
          25.67633188489358,
          25.717808362279484,
          25.75928483966539,
          25.80076131705129,
          25.842237794437196,
          25.8837142718231,
          25.925190749209,
          25.9666672265949,
          26.008143703980807,
          26.04962018136671,
          26.091096658752612,
          26.132573136138518,
          26.174049613524417,
          26.215526090910323,
          26.257002568296222,
          26.29847904568213,
          26.33995552306803,
          26.381432000453934,
          26.422908477839837,
          26.46438495522574,
          26.505861432611646,
          26.547337909997545,
          26.58881438738345,
          26.63029086476935,
          26.671767342155256,
          26.71324381954116,
          26.75472029692706,
          26.796196774312968,
          26.837673251698867,
          26.87914972908477,
          26.920626206470672,
          26.96210268385658,
          27.003579161242477,
          27.045055638628384,
          27.086532116014286,
          27.12800859340019,
          27.16948507078609,
          27.210961548171994,
          27.2524380255579,
          27.2939145029438,
          27.335390980329706,
          27.37686745771561,
          27.41834393510151,
          27.45982041248741,
          27.501296889873316,
          27.54277336725922,
          27.58424984464512,
          27.625726322031028,
          27.667202799416927,
          27.708679276802833,
          27.750155754188732,
          27.79163223157464,
          27.833108708960538,
          27.874585186346444,
          27.916061663732346,
          27.95753814111825,
          27.999014618504155,
          28.040491095890054,
          28.08196757327596,
          28.12344405066186,
          28.164920528047766,
          28.20639700543367,
          28.24787348281957,
          28.289349960205474,
          28.330826437591377,
          28.37230291497728,
          28.413779392363182,
          28.455255869749088,
          28.496732347134987,
          28.538208824520893,
          28.579685301906796,
          28.6211617792927,
          28.6626382566786,
          28.704114734064504,
          28.745591211450407,
          28.78706768883631,
          28.828544166222215,
          28.870020643608115,
          28.91149712099402,
          28.952973598379923,
          28.994450075765826,
          29.03592655315173,
          29.07740303053763,
          29.118879507923534,
          29.160355985309437,
          29.20183246269534,
          29.243308940081246,
          29.28478541746715,
          29.32626189485305,
          29.367738372238954,
          29.409214849624856,
          29.45069132701076,
          29.49216780439666,
          29.533644281782564,
          29.575120759168467,
          29.61659723655437,
          29.658073713940276,
          29.69955019132618,
          29.74102666871208,
          29.782503146097984,
          29.823979623483886,
          29.86545610086979,
          29.906932578255695,
          29.948409055641598,
          29.9898855330275,
          30.0313620104134,
          30.072838487799302,
          30.11431496518521,
          30.15579144257111,
          30.197267919957014,
          30.238744397342916,
          30.28022087472882,
          30.32169735211472,
          30.363173829500628,
          30.40465030688653,
          30.446126784272433,
          30.487603261658336,
          30.52907973904424,
          30.57055621643014,
          30.612032693816047,
          30.653509171201947,
          30.69498564858785,
          30.736462125973752,
          30.777938603359654,
          30.81941508074556,
          30.860891558131463,
          30.902368035517366,
          30.94384451290327,
          30.98532099028917,
          31.026797467675074,
          31.06827394506098,
          31.109750422446883,
          31.151226899832785,
          31.192703377218688,
          31.23417985460459,
          31.27565633199049,
          31.317132809376396,
          31.3586092867623,
          31.4000857641482,
          31.441562241534104,
          31.483038718920007,
          31.524515196305913,
          31.565991673691816,
          31.60746815107772,
          31.64894462846362,
          31.690421105849524,
          31.731897583235426,
          31.773374060621332,
          31.814850538007235,
          31.856327015393138,
          31.897803492779037,
          31.93927997016494,
          31.980756447550846,
          32.022232924936745,
          32.06370940232265,
          32.10518587970856,
          32.146662357094456,
          32.188138834480355,
          32.22961531186627,
          32.27109178925217,
          32.31256826663807,
          32.35404474402397,
          32.39552122140988,
          32.43699769879578,
          32.478474176181685,
          32.519950653567584,
          32.56142713095349,
          32.60290360833939,
          32.64438008572529,
          32.6858565631112,
          32.7273330404971,
          32.768809517883,
          32.810285995268906,
          32.85176247265481,
          32.89323895004071,
          32.93471542742662,
          32.976191904812524,
          33.01766838219842,
          33.05914485958432,
          33.10062133697022,
          33.14209781435613,
          33.18357429174203,
          33.22505076912793,
          33.26652724651384,
          33.308003723899745,
          33.349480201285644,
          33.39095667867155,
          33.432433156057456,
          33.473909633443355,
          33.515386110829255,
          33.55686258821516,
          33.59833906560107,
          33.639815542986966,
          33.68129202037287,
          33.72276849775877,
          33.76424497514468,
          33.80572145253058,
          33.84719792991648,
          33.88867440730239
         ],
         "xaxis": "x",
         "y": [
          0.01830919779700806,
          0.01852157482741521,
          0.01873420204038295,
          0.018947057990002868,
          0.019160121858314127,
          0.019373373467343063,
          0.019586793289802406,
          0.019800362458423107,
          0.020014062773893625,
          0.02022787671138403,
          0.020441787425634968,
          0.020655778754593856,
          0.020869835221583678,
          0.021083942035992023,
          0.021298085092471032,
          0.021512250968641452,
          0.021726426921297,
          0.021940600881107875,
          0.022154761445825174,
          0.022368897871990732,
          0.022583000065159935,
          0.022797058568647662,
          0.02301106455081047,
          0.023225009790881258,
          0.02343888666337469,
          0.023652688121085574,
          0.023866407676704025,
          0.024080039383074927,
          0.024293577812131168,
          0.024507018032533388,
          0.024720355586051086,
          0.02493358646272282,
          0.025146707074835573,
          0.02535971422976581,
          0.02557260510172709,
          0.02578537720247129,
          0.025998028350993005,
          0.026210556642288396,
          0.026422960415221873,
          0.026635238219556247,
          0.026847388782203295,
          0.027059410972753894,
          0.027271303768348153,
          0.02748306621794757,
          0.027694697406072704,
          0.027906196416071314,
          0.028117562292982484,
          0.02832879400606404,
          0.028539890411050886,
          0.02875085021221329,
          0.028961671924284102,
          0.02917235383432515,
          0.029382893963603197,
          0.029593290029545798,
          0.029803539407848377,
          0.030013639094803264,
          0.030223585669921397,
          0.030433375258917553,
          0.030643003497129617,
          0.03085246549344119,
          0.031061755794777712,
          0.03127086835124413,
          0.031479796481972154,
          0.03168853284174444,
          0.03189706938846085,
          0.03210539735151253,
          0.03231350720112652,
          0.03252138861874372,
          0.032729030468490516,
          0.03293642076980378,
          0.03314354667126615,
          0.03335039442570818,
          0.033556949366630694,
          0.03376319588600012,
          0.03396911741346632,
          0.03417469639705151,
          0.034379914285356056,
          0.03458475151132493,
          0.034789187477616494,
          0.034993200543612636,
          0.035196768014107635,
          0.03539986612970967,
          0.035602470058987624,
          0.035804553892392454,
          0.03600609063798032,
          0.03620705221896215,
          0.036407409473101685,
          0.03660713215398127,
          0.036806188934152544,
          0.037004547410186266,
          0.03720217410963293,
          0.03739903449990329,
          0.037595092999075465,
          0.037790312988632495,
          0.037984656828131805,
          0.03817808587180535,
          0.03837056048708704,
          0.03856204007506076,
          0.03875248309282114,
          0.03894184707773513,
          0.0391300886735916,
          0.039317163658622666,
          0.039503026975378865,
          0.039687632762437426,
          0.039870934387921136,
          0.0400528844848028,
          0.040233434987968046,
          0.04041253717300789,
          0.04059014169670879,
          0.04076619863920827,
          0.0409406575477797,
          0.041113467482210155,
          0.041284577061731866,
          0.04145393451346669,
          0.04162148772234175,
          0.04178718428243108,
          0.04195097154967893,
          0.04211279669595655,
          0.04227260676440399,
          0.04243034872600712,
          0.04258596953735798,
          0.0427394161995455,
          0.04289063581812296,
          0.04303957566409632,
          0.04318618323587715,
          0.043330406322142516,
          0.04347219306554293,
          0.04361149202719893,
          0.04374825225192523,
          0.04388242333412112,
          0.04401395548426429,
          0.044142799595944984,
          0.044268907313376245,
          0.04439223109931508,
          0.04451272430332941,
          0.044630341230343984,
          0.04474503720939846,
          0.04485676866255036,
          0.04496549317385418,
          0.04507116955834843,
          0.04517375793098114,
          0.0452732197754043,
          0.04536951801256673,
          0.04546261706903544,
          0.04555248294497366,
          0.04563908328170499,
          0.04572238742879142,
          0.04580236651055342,
          0.04587899349195997,
          0.04595224324381552,
          0.04602209260717146,
          0.046088520456889,
          0.04615150776428015,
          0.04621103765875357,
          0.04626709548839168,
          0.046319668879385455,
          0.04636874779425349,
          0.04641432458877122,
          0.04645639406753704,
          0.046494953538101146,
          0.04653000286358403,
          0.046561544513710716,
          0.046589583614187594,
          0.04661412799434837,
          0.046635188232996554,
          0.04665277770237163,
          0.0466669126101662,
          0.046677612039522774,
          0.046684897986937916,
          0.04668879539800309,
          0.046689332200911496,
          0.046686539337660725,
          0.046680450792882404,
          0.04667110362022963,
          0.04665853796625486,
          0.046642797091711145,
          0.04662392739021073,
          0.046601978404176216,
          0.0465770028380202,
          0.04654905656849103,
          0.0465181986521232,
          0.0464844913297322,
          0.04644800002789576,
          0.04640879335736401,
          0.046366943108343724,
          0.046322524242602754,
          0.046275614882343184,
          0.04622629629579357,
          0.04617465287947249,
          0.046120772137078006,
          0.046064744654960146,
          0.04600666407413535,
          0.04594662705880524,
          0.045884733261343465,
          0.04582108528371861,
          0.04575578863532298,
          0.045688951687180304,
          0.04562068562250872,
          0.0455511043836187,
          0.04548032461512849,
          0.04540846560348369,
          0.045335649212770605,
          0.0452619998168173,
          0.0451876442275796,
          0.045112711619813506,
          0.045037333452039634,
          0.04496164338380889,
          0.04488577718928372,
          0.044809872667152764,
          0.044734069546901796,
          0.044658509391468176,
          0.044583335496310786,
          0.044508692784931775,
          0.044434727700892004,
          0.04436158809636629,
          0.044289423117289554,
          0.04421838308515091,
          0.04414861937549643,
          0.044080284293207574,
          0.044013530944627045,
          0.043948513106609105,
          0.04388538509257671,
          0.043824301615672974,
          0.043765417649100226,
          0.043708888283744515,
          0.04365486858318959,
          0.043603513436229355,
          0.043554977406992386,
          0.043509414582799125,
          0.04346697841987591,
          0.04342782158705579,
          0.04339209580760222,
          0.04335995169929476,
          0.043331538612923284,
          0.0433070044693403,
          0.043286495595226855,
          0.04327015655773211,
          0.04325812999815107,
          0.04325055646480951,
          0.043247574245329906,
          0.04324931919845621,
          0.04325592458561907,
          0.043267520902427824,
          0.04328423571027848,
          0.043306193468271276,
          0.04333351536563421,
          0.043366319154852465,
          0.04340471898570651,
          0.04344882524042418,
          0.043498744370155336,
          0.043554578732978744,
          0.043616426433654015,
          0.0436843811653323,
          0.04375853205344178,
          0.04383896350196431,
          0.04392575504232095,
          0.04401898118508508,
          0.04411871127474114,
          0.04422500934770808,
          0.04433793399384571,
          0.04445753822166148,
          0.04458386932743459,
          0.044716968768472774,
          0.04485687204071542,
          0.04500360856089514,
          0.045157201553466614,
          0.04531766794251024,
          0.04548501824881354,
          0.045659256492331095,
          0.04584038010021957,
          0.04602837982063977,
          0.046223239642514145,
          0.04642493672142259,
          0.04663344131181447,
          0.04684871670570921,
          0.04707071917805169,
          0.04729939793888262,
          0.04753469509247751,
          0.04777654560360094,
          0.048024877271014225,
          0.048279610708370065,
          0.04854065933261536,
          0.04880792936001979,
          0.04908131980993519,
          0.04936072251638407,
          0.04964602214756674,
          0.04993709623336412,
          0.050233815200907944,
          0.05053604241827598,
          0.050843634246362145,
          0.05115644009895984,
          0.051474302511086485,
          0.051797057215566066,
          0.052124533227875566,
          0.05245655293924993,
          0.052792932218028055,
          0.05313348051921258,
          0.05347800100220118,
          0.05382629065663959,
          0.054178140436330464,
          0.0545333354011235,
          0.05489165486669744,
          0.05525287256213555,
          0.055616756795180945,
          0.055983070625048544,
          0.056351572042657075,
          0.05672201415813287,
          0.057094145395425906,
          0.057467709693865755,
          0.057842446716474386,
          0.05821809206484003,
          0.05859437750034714,
          0.058971031171543634,
          0.059347777847417175,
          0.05972433915634247,
          0.06010043383044764,
          0.06047577795514272,
          0.06085008522353748,
          0.06122306719547189,
          0.061594433560869154,
          0.06196389240711398,
          0.062331150490151255,
          0.0626959135089896,
          0.06305788638328957,
          0.0634167735337064,
          0.06377227916465296,
          0.06412410754913928,
          0.06447196331534287,
          0.06481555173455507,
          0.06515457901014647,
          0.0654887525671896,
          0.06581778134237187,
          0.0661413760738318,
          0.06645924959054506,
          0.06677111710088865,
          0.06707669648000725,
          0.06737570855560684,
          0.06766787739179961,
          0.06795293057062483,
          0.06823059947087165,
          0.06850061954383095,
          0.0687627305856067,
          0.06901667700561812,
          0.06926220809093077,
          0.06949907826605542,
          0.0697270473478605,
          0.06994588079524883,
          0.0701553499532551,
          0.07035523229122775,
          0.07054531163476445,
          0.07072537839108178,
          0.070895229767503,
          0.07105466998276198,
          0.07120351047082676,
          0.07134157007695854,
          0.07146867524573151,
          0.07158466020075085,
          0.07168936711581617,
          0.07178264627729129,
          0.07186435623745341,
          0.07193436395860617,
          0.07199254494775677,
          0.07203878338166851,
          0.07207297222211634,
          0.07209501332118538,
          0.07210481751646888,
          0.07210230471603528,
          0.0720874039730506,
          0.07206005354995705,
          0.07202020097212462,
          0.07196780307090789,
          0.0719028260160568,
          0.07182524533744573,
          0.07173504593610078,
          0.07163222208452302,
          0.07151677741631933,
          0.07138872490517069,
          0.07124808683318253,
          0.07109489474867849,
          0.07092918941351414,
          0.07075102074000443,
          0.07056044771757222,
          0.07035753832924256,
          0.0701423694581216,
          0.06991502678401403,
          0.06967560467034797,
          0.06942420604159054,
          0.06916094225135062,
          0.06888593294138039,
          0.06859930589169926,
          0.0683011968620772,
          0.0679917494251266,
          0.06767111479126461,
          0.06733945162581802,
          0.06699692585855481,
          0.06664371048593669,
          0.06627998536639645,
          0.06590593700895372,
          0.0655217583554916,
          0.06512764855702399,
          0.06472381274429233,
          0.0643104617930362,
          0.06388781208428895,
          0.06345608526005599,
          0.06301550797473658,
          0.06256631164265646,
          0.062108732182081225,
          0.06164300975608257,
          0.06116938851063462,
          0.06068811631031592,
          0.0601994444719963,
          0.05970362749688669,
          0.059200922801331,
          0.058691590446716436,
          0.05817589286887879,
          0.057654094607376354,
          0.057126462035002,
          0.05659326308790216,
          0.05605476699666466,
          0.05551124401873374,
          0.05496296517250595,
          0.054410201973452726,
          0.053853226172611575,
          0.053292309497778426,
          0.052727723397727556,
          0.052159738789777164,
          0.05158862581100992,
          0.05101465357344846,
          0.050438089923477814,
          0.04985920120579519,
          0.04927825203215798,
          0.04869550505519044,
          0.048111220747498615,
          0.04752565718633022,
          0.04693906984400739,
          0.04635171138434544,
          0.045763831465260696,
          0.04517567654775669,
          0.04458748971146694,
          0.04399951047691766,
          0.04341197463466357,
          0.042825114081434794,
          0.04223915666342079,
          0.04165432602680402,
          0.04107084147564242,
          0.04048891783718767,
          0.039908765334711965,
          0.039330589467903264,
          0.03875459090087632,
          0.038180965357833836,
          0.037609903526398016,
          0.03704159096862248,
          0.03647620803967974,
          0.03591392981420851,
          0.03535492602029249,
          0.03479936098102981,
          0.034247393563643175,
          0.03369917713606561,
          0.03315485953092833,
          0.03261458301686676,
          0.03207848427704932,
          0.03154669439482077,
          0.031019338846349793,
          0.030496537500153232,
          0.029978404623364,
          0.029465048894601328,
          0.028956573423294146,
          0.028453075775297182,
          0.02795464800463829,
          0.02746137669122157,
          0.02697334298431003,
          0.026490622651603714,
          0.026013286133720784,
          0.025541398603889476,
          0.025075020032650108,
          0.024614205257362742,
          0.02415900405631341,
          0.0237094612272092,
          0.023265616669846584,
          0.022827505472738232,
          0.02239515800348065,
          0.02196860000264267,
          0.021547852680954608,
          0.02113293281957699,
          0.020723852873228154,
          0.02032062107594954,
          0.01992324154928804,
          0.019531714412676898,
          0.01914603589579716,
          0.0187661984527031,
          0.01839219087749887,
          0.01802399842135415,
          0.017661602910651348,
          0.01730498286605815,
          0.01695411362232413,
          0.016608967448604423,
          0.016269513669114673,
          0.015935718783930214,
          0.015607546589742321,
          0.01528495830039371
         ],
         "yaxis": "y"
        },
        {
         "legendgroup": "bmi_mean",
         "marker": {
          "color": "rgb(31, 119, 180)",
          "symbol": "line-ns-open"
         },
         "mode": "markers",
         "name": "bmi_mean",
         "showlegend": false,
         "type": "scatter",
         "x": [
          24.839296378896947,
          20.2744789825052,
          18.598758084216097,
          13.191912191736765,
          16.32648114674164,
          14.830028026936311,
          29.322578742343122,
          20.068700736700052,
          18.10088929395246,
          22.9950964963041,
          27.71956696603433,
          22.341160366997187,
          27.831524855627176,
          28.860474997107282,
          18.525580056901987,
          29.435359597700078,
          22.12142161608569,
          20.75641241204263,
          30.09579923988839,
          29.051242656199765,
          28.14608804975903,
          27.908175991515364,
          28.79251216008279,
          13.704183709455748,
          18.001978150843787,
          29.158403050108117,
          28.605888477750998,
          26.812432035126697,
          19.572266295122375,
          26.462895806945443,
          21.841289209063802,
          15.639334123099486,
          21.193522065468706,
          30.313275596256553,
          29.360278497967528,
          27.74146454247585,
          28.085587583047705,
          33.93015088468829,
          28.48465903351337
         ],
         "xaxis": "x",
         "y": [
          "bmi_mean",
          "bmi_mean",
          "bmi_mean",
          "bmi_mean",
          "bmi_mean",
          "bmi_mean",
          "bmi_mean",
          "bmi_mean",
          "bmi_mean",
          "bmi_mean",
          "bmi_mean",
          "bmi_mean",
          "bmi_mean",
          "bmi_mean",
          "bmi_mean",
          "bmi_mean",
          "bmi_mean",
          "bmi_mean",
          "bmi_mean",
          "bmi_mean",
          "bmi_mean",
          "bmi_mean",
          "bmi_mean",
          "bmi_mean",
          "bmi_mean",
          "bmi_mean",
          "bmi_mean",
          "bmi_mean",
          "bmi_mean",
          "bmi_mean",
          "bmi_mean",
          "bmi_mean",
          "bmi_mean",
          "bmi_mean",
          "bmi_mean",
          "bmi_mean",
          "bmi_mean",
          "bmi_mean",
          "bmi_mean"
         ],
         "yaxis": "y2"
        }
       ],
       "layout": {
        "autosize": true,
        "barmode": "overlay",
        "hovermode": "closest",
        "legend": {
         "traceorder": "reversed"
        },
        "template": {
         "data": {
          "bar": [
           {
            "error_x": {
             "color": "#2a3f5f"
            },
            "error_y": {
             "color": "#2a3f5f"
            },
            "marker": {
             "line": {
              "color": "#E5ECF6",
              "width": 0.5
             },
             "pattern": {
              "fillmode": "overlay",
              "size": 10,
              "solidity": 0.2
             }
            },
            "type": "bar"
           }
          ],
          "barpolar": [
           {
            "marker": {
             "line": {
              "color": "#E5ECF6",
              "width": 0.5
             },
             "pattern": {
              "fillmode": "overlay",
              "size": 10,
              "solidity": 0.2
             }
            },
            "type": "barpolar"
           }
          ],
          "carpet": [
           {
            "aaxis": {
             "endlinecolor": "#2a3f5f",
             "gridcolor": "white",
             "linecolor": "white",
             "minorgridcolor": "white",
             "startlinecolor": "#2a3f5f"
            },
            "baxis": {
             "endlinecolor": "#2a3f5f",
             "gridcolor": "white",
             "linecolor": "white",
             "minorgridcolor": "white",
             "startlinecolor": "#2a3f5f"
            },
            "type": "carpet"
           }
          ],
          "choropleth": [
           {
            "colorbar": {
             "outlinewidth": 0,
             "ticks": ""
            },
            "type": "choropleth"
           }
          ],
          "contour": [
           {
            "colorbar": {
             "outlinewidth": 0,
             "ticks": ""
            },
            "colorscale": [
             [
              0,
              "#0d0887"
             ],
             [
              0.1111111111111111,
              "#46039f"
             ],
             [
              0.2222222222222222,
              "#7201a8"
             ],
             [
              0.3333333333333333,
              "#9c179e"
             ],
             [
              0.4444444444444444,
              "#bd3786"
             ],
             [
              0.5555555555555556,
              "#d8576b"
             ],
             [
              0.6666666666666666,
              "#ed7953"
             ],
             [
              0.7777777777777778,
              "#fb9f3a"
             ],
             [
              0.8888888888888888,
              "#fdca26"
             ],
             [
              1,
              "#f0f921"
             ]
            ],
            "type": "contour"
           }
          ],
          "contourcarpet": [
           {
            "colorbar": {
             "outlinewidth": 0,
             "ticks": ""
            },
            "type": "contourcarpet"
           }
          ],
          "heatmap": [
           {
            "colorbar": {
             "outlinewidth": 0,
             "ticks": ""
            },
            "colorscale": [
             [
              0,
              "#0d0887"
             ],
             [
              0.1111111111111111,
              "#46039f"
             ],
             [
              0.2222222222222222,
              "#7201a8"
             ],
             [
              0.3333333333333333,
              "#9c179e"
             ],
             [
              0.4444444444444444,
              "#bd3786"
             ],
             [
              0.5555555555555556,
              "#d8576b"
             ],
             [
              0.6666666666666666,
              "#ed7953"
             ],
             [
              0.7777777777777778,
              "#fb9f3a"
             ],
             [
              0.8888888888888888,
              "#fdca26"
             ],
             [
              1,
              "#f0f921"
             ]
            ],
            "type": "heatmap"
           }
          ],
          "heatmapgl": [
           {
            "colorbar": {
             "outlinewidth": 0,
             "ticks": ""
            },
            "colorscale": [
             [
              0,
              "#0d0887"
             ],
             [
              0.1111111111111111,
              "#46039f"
             ],
             [
              0.2222222222222222,
              "#7201a8"
             ],
             [
              0.3333333333333333,
              "#9c179e"
             ],
             [
              0.4444444444444444,
              "#bd3786"
             ],
             [
              0.5555555555555556,
              "#d8576b"
             ],
             [
              0.6666666666666666,
              "#ed7953"
             ],
             [
              0.7777777777777778,
              "#fb9f3a"
             ],
             [
              0.8888888888888888,
              "#fdca26"
             ],
             [
              1,
              "#f0f921"
             ]
            ],
            "type": "heatmapgl"
           }
          ],
          "histogram": [
           {
            "marker": {
             "pattern": {
              "fillmode": "overlay",
              "size": 10,
              "solidity": 0.2
             }
            },
            "type": "histogram"
           }
          ],
          "histogram2d": [
           {
            "colorbar": {
             "outlinewidth": 0,
             "ticks": ""
            },
            "colorscale": [
             [
              0,
              "#0d0887"
             ],
             [
              0.1111111111111111,
              "#46039f"
             ],
             [
              0.2222222222222222,
              "#7201a8"
             ],
             [
              0.3333333333333333,
              "#9c179e"
             ],
             [
              0.4444444444444444,
              "#bd3786"
             ],
             [
              0.5555555555555556,
              "#d8576b"
             ],
             [
              0.6666666666666666,
              "#ed7953"
             ],
             [
              0.7777777777777778,
              "#fb9f3a"
             ],
             [
              0.8888888888888888,
              "#fdca26"
             ],
             [
              1,
              "#f0f921"
             ]
            ],
            "type": "histogram2d"
           }
          ],
          "histogram2dcontour": [
           {
            "colorbar": {
             "outlinewidth": 0,
             "ticks": ""
            },
            "colorscale": [
             [
              0,
              "#0d0887"
             ],
             [
              0.1111111111111111,
              "#46039f"
             ],
             [
              0.2222222222222222,
              "#7201a8"
             ],
             [
              0.3333333333333333,
              "#9c179e"
             ],
             [
              0.4444444444444444,
              "#bd3786"
             ],
             [
              0.5555555555555556,
              "#d8576b"
             ],
             [
              0.6666666666666666,
              "#ed7953"
             ],
             [
              0.7777777777777778,
              "#fb9f3a"
             ],
             [
              0.8888888888888888,
              "#fdca26"
             ],
             [
              1,
              "#f0f921"
             ]
            ],
            "type": "histogram2dcontour"
           }
          ],
          "mesh3d": [
           {
            "colorbar": {
             "outlinewidth": 0,
             "ticks": ""
            },
            "type": "mesh3d"
           }
          ],
          "parcoords": [
           {
            "line": {
             "colorbar": {
              "outlinewidth": 0,
              "ticks": ""
             }
            },
            "type": "parcoords"
           }
          ],
          "pie": [
           {
            "automargin": true,
            "type": "pie"
           }
          ],
          "scatter": [
           {
            "fillpattern": {
             "fillmode": "overlay",
             "size": 10,
             "solidity": 0.2
            },
            "type": "scatter"
           }
          ],
          "scatter3d": [
           {
            "line": {
             "colorbar": {
              "outlinewidth": 0,
              "ticks": ""
             }
            },
            "marker": {
             "colorbar": {
              "outlinewidth": 0,
              "ticks": ""
             }
            },
            "type": "scatter3d"
           }
          ],
          "scattercarpet": [
           {
            "marker": {
             "colorbar": {
              "outlinewidth": 0,
              "ticks": ""
             }
            },
            "type": "scattercarpet"
           }
          ],
          "scattergeo": [
           {
            "marker": {
             "colorbar": {
              "outlinewidth": 0,
              "ticks": ""
             }
            },
            "type": "scattergeo"
           }
          ],
          "scattergl": [
           {
            "marker": {
             "colorbar": {
              "outlinewidth": 0,
              "ticks": ""
             }
            },
            "type": "scattergl"
           }
          ],
          "scattermapbox": [
           {
            "marker": {
             "colorbar": {
              "outlinewidth": 0,
              "ticks": ""
             }
            },
            "type": "scattermapbox"
           }
          ],
          "scatterpolar": [
           {
            "marker": {
             "colorbar": {
              "outlinewidth": 0,
              "ticks": ""
             }
            },
            "type": "scatterpolar"
           }
          ],
          "scatterpolargl": [
           {
            "marker": {
             "colorbar": {
              "outlinewidth": 0,
              "ticks": ""
             }
            },
            "type": "scatterpolargl"
           }
          ],
          "scatterternary": [
           {
            "marker": {
             "colorbar": {
              "outlinewidth": 0,
              "ticks": ""
             }
            },
            "type": "scatterternary"
           }
          ],
          "surface": [
           {
            "colorbar": {
             "outlinewidth": 0,
             "ticks": ""
            },
            "colorscale": [
             [
              0,
              "#0d0887"
             ],
             [
              0.1111111111111111,
              "#46039f"
             ],
             [
              0.2222222222222222,
              "#7201a8"
             ],
             [
              0.3333333333333333,
              "#9c179e"
             ],
             [
              0.4444444444444444,
              "#bd3786"
             ],
             [
              0.5555555555555556,
              "#d8576b"
             ],
             [
              0.6666666666666666,
              "#ed7953"
             ],
             [
              0.7777777777777778,
              "#fb9f3a"
             ],
             [
              0.8888888888888888,
              "#fdca26"
             ],
             [
              1,
              "#f0f921"
             ]
            ],
            "type": "surface"
           }
          ],
          "table": [
           {
            "cells": {
             "fill": {
              "color": "#EBF0F8"
             },
             "line": {
              "color": "white"
             }
            },
            "header": {
             "fill": {
              "color": "#C8D4E3"
             },
             "line": {
              "color": "white"
             }
            },
            "type": "table"
           }
          ]
         },
         "layout": {
          "annotationdefaults": {
           "arrowcolor": "#2a3f5f",
           "arrowhead": 0,
           "arrowwidth": 1
          },
          "autotypenumbers": "strict",
          "coloraxis": {
           "colorbar": {
            "outlinewidth": 0,
            "ticks": ""
           }
          },
          "colorscale": {
           "diverging": [
            [
             0,
             "#8e0152"
            ],
            [
             0.1,
             "#c51b7d"
            ],
            [
             0.2,
             "#de77ae"
            ],
            [
             0.3,
             "#f1b6da"
            ],
            [
             0.4,
             "#fde0ef"
            ],
            [
             0.5,
             "#f7f7f7"
            ],
            [
             0.6,
             "#e6f5d0"
            ],
            [
             0.7,
             "#b8e186"
            ],
            [
             0.8,
             "#7fbc41"
            ],
            [
             0.9,
             "#4d9221"
            ],
            [
             1,
             "#276419"
            ]
           ],
           "sequential": [
            [
             0,
             "#0d0887"
            ],
            [
             0.1111111111111111,
             "#46039f"
            ],
            [
             0.2222222222222222,
             "#7201a8"
            ],
            [
             0.3333333333333333,
             "#9c179e"
            ],
            [
             0.4444444444444444,
             "#bd3786"
            ],
            [
             0.5555555555555556,
             "#d8576b"
            ],
            [
             0.6666666666666666,
             "#ed7953"
            ],
            [
             0.7777777777777778,
             "#fb9f3a"
            ],
            [
             0.8888888888888888,
             "#fdca26"
            ],
            [
             1,
             "#f0f921"
            ]
           ],
           "sequentialminus": [
            [
             0,
             "#0d0887"
            ],
            [
             0.1111111111111111,
             "#46039f"
            ],
            [
             0.2222222222222222,
             "#7201a8"
            ],
            [
             0.3333333333333333,
             "#9c179e"
            ],
            [
             0.4444444444444444,
             "#bd3786"
            ],
            [
             0.5555555555555556,
             "#d8576b"
            ],
            [
             0.6666666666666666,
             "#ed7953"
            ],
            [
             0.7777777777777778,
             "#fb9f3a"
            ],
            [
             0.8888888888888888,
             "#fdca26"
            ],
            [
             1,
             "#f0f921"
            ]
           ]
          },
          "colorway": [
           "#636efa",
           "#EF553B",
           "#00cc96",
           "#ab63fa",
           "#FFA15A",
           "#19d3f3",
           "#FF6692",
           "#B6E880",
           "#FF97FF",
           "#FECB52"
          ],
          "font": {
           "color": "#2a3f5f"
          },
          "geo": {
           "bgcolor": "white",
           "lakecolor": "white",
           "landcolor": "#E5ECF6",
           "showlakes": true,
           "showland": true,
           "subunitcolor": "white"
          },
          "hoverlabel": {
           "align": "left"
          },
          "hovermode": "closest",
          "mapbox": {
           "style": "light"
          },
          "paper_bgcolor": "white",
          "plot_bgcolor": "#E5ECF6",
          "polar": {
           "angularaxis": {
            "gridcolor": "white",
            "linecolor": "white",
            "ticks": ""
           },
           "bgcolor": "#E5ECF6",
           "radialaxis": {
            "gridcolor": "white",
            "linecolor": "white",
            "ticks": ""
           }
          },
          "scene": {
           "xaxis": {
            "backgroundcolor": "#E5ECF6",
            "gridcolor": "white",
            "gridwidth": 2,
            "linecolor": "white",
            "showbackground": true,
            "ticks": "",
            "zerolinecolor": "white"
           },
           "yaxis": {
            "backgroundcolor": "#E5ECF6",
            "gridcolor": "white",
            "gridwidth": 2,
            "linecolor": "white",
            "showbackground": true,
            "ticks": "",
            "zerolinecolor": "white"
           },
           "zaxis": {
            "backgroundcolor": "#E5ECF6",
            "gridcolor": "white",
            "gridwidth": 2,
            "linecolor": "white",
            "showbackground": true,
            "ticks": "",
            "zerolinecolor": "white"
           }
          },
          "shapedefaults": {
           "line": {
            "color": "#2a3f5f"
           }
          },
          "ternary": {
           "aaxis": {
            "gridcolor": "white",
            "linecolor": "white",
            "ticks": ""
           },
           "baxis": {
            "gridcolor": "white",
            "linecolor": "white",
            "ticks": ""
           },
           "bgcolor": "#E5ECF6",
           "caxis": {
            "gridcolor": "white",
            "linecolor": "white",
            "ticks": ""
           }
          },
          "title": {
           "x": 0.05
          },
          "xaxis": {
           "automargin": true,
           "gridcolor": "white",
           "linecolor": "white",
           "ticks": "",
           "title": {
            "standoff": 15
           },
           "zerolinecolor": "white",
           "zerolinewidth": 2
          },
          "yaxis": {
           "automargin": true,
           "gridcolor": "white",
           "linecolor": "white",
           "ticks": "",
           "title": {
            "standoff": 15
           },
           "zerolinecolor": "white",
           "zerolinewidth": 2
          }
         }
        },
        "xaxis": {
         "anchor": "y2",
         "autorange": true,
         "domain": [
          0,
          1
         ],
         "range": [
          11.949380151387855,
          35.19191219173676
         ],
         "type": "linear",
         "zeroline": false
        },
        "yaxis": {
         "anchor": "free",
         "autorange": true,
         "domain": [
          0.35,
          1
         ],
         "position": 0,
         "range": [
          0,
          0.16194331983805668
         ],
         "type": "linear"
        },
        "yaxis2": {
         "anchor": "x",
         "autorange": true,
         "domain": [
          0,
          0.25
         ],
         "dtick": 1,
         "range": [
          -1,
          1
         ],
         "showticklabels": false,
         "type": "category"
        }
       }
      },
      "image/png": "[encoded data removed]",
      "text/html": [
       "<div>                            <div id=\"51469616-fbed-4c25-8364-f60d1b958e93\" class=\"plotly-graph-div\" style=\"height:525px; width:100%;\"></div>            <script type=\"text/javascript\">                require([\"plotly\"], function(Plotly) {                    window.PLOTLYENV=window.PLOTLYENV || {};                                    if (document.getElementById(\"51469616-fbed-4c25-8364-f60d1b958e93\")) {                    Plotly.newPlot(                        \"51469616-fbed-4c25-8364-f60d1b958e93\",                        [{\"autobinx\":false,\"histnorm\":\"probability density\",\"legendgroup\":\"bmi_mean\",\"marker\":{\"color\":\"rgb(31, 119, 180)\"},\"name\":\"bmi_mean\",\"opacity\":0.7,\"x\":[24.839296378896947,20.2744789825052,18.598758084216097,13.191912191736765,16.32648114674164,14.830028026936311,29.322578742343122,20.068700736700052,18.10088929395246,22.9950964963041,27.71956696603433,22.341160366997187,27.831524855627176,28.860474997107282,18.525580056901987,29.435359597700078,22.12142161608569,20.75641241204263,30.09579923988839,29.051242656199765,28.14608804975903,27.908175991515364,28.79251216008279,13.704183709455748,18.001978150843787,29.158403050108117,28.605888477750998,26.812432035126697,19.572266295122375,26.462895806945443,21.841289209063802,15.639334123099486,21.193522065468706,30.313275596256553,29.360278497967528,27.74146454247585,28.085587583047705,33.93015088468829,28.48465903351337],\"xaxis\":\"x\",\"xbins\":{\"end\":33.93015088468829,\"size\":2.0,\"start\":13.191912191736765},\"yaxis\":\"y\",\"type\":\"histogram\"},{\"legendgroup\":\"bmi_mean\",\"marker\":{\"color\":\"rgb(31, 119, 180)\"},\"mode\":\"lines\",\"name\":\"bmi_mean\",\"showlegend\":false,\"x\":[13.191912191736765,13.233388669122668,13.27486514650857,13.316341623894475,13.357818101280378,13.39929457866628,13.440771056052183,13.482247533438088,13.52372401082399,13.565200488209893,13.606676965595796,13.648153442981698,13.689629920367603,13.731106397753505,13.772582875139408,13.81405935252531,13.855535829911215,13.897012307297118,13.93848878468302,13.979965262068923,14.021441739454826,14.06291821684073,14.104394694226633,14.145871171612535,14.187347648998438,14.228824126384342,14.270300603770245,14.311777081156148,14.35325355854205,14.394730035927953,14.436206513313856,14.47768299069976,14.519159468085663,14.560635945471565,14.60211242285747,14.643588900243373,14.685065377629275,14.726541855015178,14.76801833240108,14.809494809786985,14.850971287172888,14.89244776455879,14.933924241944693,14.975400719330596,15.0168771967165,15.058353674102403,15.099830151488305,15.141306628874208,15.18278310626011,15.224259583646015,15.265736061031918,15.30721253841782,15.348689015803725,15.390165493189627,15.43164197057553,15.473118447961433,15.514594925347335,15.556071402733238,15.597547880119143,15.639024357505045,15.680500834890948,15.721977312276852,15.763453789662755,15.804930267048658,15.84640674443456,15.887883221820463,15.929359699206366,15.97083617659227,16.01231265397817,16.053789131364077,16.09526560874998,16.136742086135882,16.178218563521785,16.219695040907688,16.26117151829359,16.302647995679493,16.344124473065396,16.3856009504513,16.427077427837204,16.468553905223107,16.51003038260901,16.551506859994912,16.592983337380815,16.634459814766718,16.67593629215262,16.717412769538523,16.758889246924426,16.800365724310332,16.841842201696235,16.883318679082137,16.92479515646804,16.966271633853943,17.007748111239845,17.049224588625748,17.09070106601165,17.132177543397553,17.17365402078346,17.215130498169362,17.256606975555265,17.298083452941167,17.33955993032707,17.381036407712973,17.422512885098875,17.463989362484778,17.50546583987068,17.546942317256587,17.588418794642486,17.629895272028392,17.671371749414295,17.712848226800197,17.7543247041861,17.795801181572003,17.83727765895791,17.878754136343808,17.920230613729714,17.961707091115617,18.00318356850152,18.044660045887422,18.086136523273325,18.127613000659228,18.16908947804513,18.210565955431033,18.252042432816936,18.29351891020284,18.33499538758874,18.376471864974647,18.41794834236055,18.459424819746452,18.500901297132355,18.542377774518258,18.58385425190416,18.625330729290063,18.66680720667597,18.708283684061872,18.749760161447774,18.791236638833677,18.83271311621958,18.874189593605482,18.915666070991385,18.957142548377288,18.99861902576319,19.040095503149097,19.081571980535,19.123048457920902,19.164524935306805,19.206001412692707,19.24747789007861,19.288954367464513,19.330430844850415,19.371907322236318,19.413383799622224,19.454860277008123,19.49633675439403,19.537813231779932,19.579289709165835,19.620766186551737,19.66224266393764,19.703719141323543,19.745195618709445,19.78667209609535,19.828148573481254,19.869625050867157,19.91110152825306,19.952578005638962,19.994054483024865,20.035530960410767,20.07700743779667,20.118483915182573,20.159960392568475,20.201436869954378,20.242913347340284,20.284389824726187,20.32586630211209,20.367342779497992,20.408819256883895,20.450295734269798,20.4917722116557,20.533248689041606,20.57472516642751,20.61620164381341,20.657678121199314,20.699154598585217,20.74063107597112,20.782107553357022,20.823584030742925,20.865060508128828,20.906536985514734,20.948013462900633,20.98948994028654,21.030966417672442,21.072442895058344,21.113919372444247,21.15539584983015,21.196872327216052,21.238348804601955,21.27982528198786,21.32130175937376,21.362778236759667,21.404254714145566,21.445731191531472,21.487207668917375,21.528684146303277,21.570160623689183,21.611637101075083,21.65311357846099,21.694590055846888,21.736066533232794,21.777543010618697,21.8190194880046,21.860495965390502,21.901972442776405,21.943448920162307,21.98492539754821,22.026401874934116,22.067878352320015,22.10935482970592,22.150831307091824,22.192307784477727,22.233784261863626,22.275260739249532,22.316737216635435,22.358213694021337,22.399690171407244,22.441166648793143,22.48264312617905,22.52411960356495,22.565596080950854,22.607072558336757,22.64854903572266,22.690025513108562,22.731501990494465,22.77297846788037,22.81445494526627,22.855931422652176,22.897407900038075,22.93888437742398,22.980360854809884,23.021837332195787,23.063313809581693,23.104790286967592,23.146266764353495,23.187743241739398,23.229219719125304,23.270696196511203,23.31217267389711,23.35364915128301,23.395125628668914,23.43660210605482,23.47807858344072,23.519555060826626,23.561031538212525,23.60250801559843,23.643984492984334,23.685460970370237,23.72693744775614,23.768413925142042,23.809890402527945,23.851366879913847,23.892843357299753,23.934319834685652,23.97579631207156,24.01727278945746,24.058749266843364,24.100225744229263,24.14170222161517,24.183178699001072,24.224655176386975,24.26613165377288,24.30760813115878,24.349084608544686,24.390561085930585,24.43203756331649,24.473514040702394,24.514990518088297,24.5564669954742,24.597943472860102,24.63941995024601,24.680896427631907,24.722372905017814,24.763849382403713,24.80532585978962,24.84680233717552,24.888278814561424,24.92975529194733,24.97123176933323,25.012708246719132,25.054184724105035,25.09566120149094,25.13713767887684,25.178614156262746,25.22009063364865,25.26156711103455,25.303043588420454,25.344520065806357,25.385996543192263,25.427473020578162,25.46894949796407,25.51042597534997,25.551902452735874,25.593378930121773,25.63485540750768,25.67633188489358,25.717808362279484,25.75928483966539,25.80076131705129,25.842237794437196,25.8837142718231,25.925190749209,25.9666672265949,26.008143703980807,26.04962018136671,26.091096658752612,26.132573136138518,26.174049613524417,26.215526090910323,26.257002568296222,26.29847904568213,26.33995552306803,26.381432000453934,26.422908477839837,26.46438495522574,26.505861432611646,26.547337909997545,26.58881438738345,26.63029086476935,26.671767342155256,26.71324381954116,26.75472029692706,26.796196774312968,26.837673251698867,26.87914972908477,26.920626206470672,26.96210268385658,27.003579161242477,27.045055638628384,27.086532116014286,27.12800859340019,27.16948507078609,27.210961548171994,27.2524380255579,27.2939145029438,27.335390980329706,27.37686745771561,27.41834393510151,27.45982041248741,27.501296889873316,27.54277336725922,27.58424984464512,27.625726322031028,27.667202799416927,27.708679276802833,27.750155754188732,27.79163223157464,27.833108708960538,27.874585186346444,27.916061663732346,27.95753814111825,27.999014618504155,28.040491095890054,28.08196757327596,28.12344405066186,28.164920528047766,28.20639700543367,28.24787348281957,28.289349960205474,28.330826437591377,28.37230291497728,28.413779392363182,28.455255869749088,28.496732347134987,28.538208824520893,28.579685301906796,28.6211617792927,28.6626382566786,28.704114734064504,28.745591211450407,28.78706768883631,28.828544166222215,28.870020643608115,28.91149712099402,28.952973598379923,28.994450075765826,29.03592655315173,29.07740303053763,29.118879507923534,29.160355985309437,29.20183246269534,29.243308940081246,29.28478541746715,29.32626189485305,29.367738372238954,29.409214849624856,29.45069132701076,29.49216780439666,29.533644281782564,29.575120759168467,29.61659723655437,29.658073713940276,29.69955019132618,29.74102666871208,29.782503146097984,29.823979623483886,29.86545610086979,29.906932578255695,29.948409055641598,29.9898855330275,30.0313620104134,30.072838487799302,30.11431496518521,30.15579144257111,30.197267919957014,30.238744397342916,30.28022087472882,30.32169735211472,30.363173829500628,30.40465030688653,30.446126784272433,30.487603261658336,30.52907973904424,30.57055621643014,30.612032693816047,30.653509171201947,30.69498564858785,30.736462125973752,30.777938603359654,30.81941508074556,30.860891558131463,30.902368035517366,30.94384451290327,30.98532099028917,31.026797467675074,31.06827394506098,31.109750422446883,31.151226899832785,31.192703377218688,31.23417985460459,31.27565633199049,31.317132809376396,31.3586092867623,31.4000857641482,31.441562241534104,31.483038718920007,31.524515196305913,31.565991673691816,31.60746815107772,31.64894462846362,31.690421105849524,31.731897583235426,31.773374060621332,31.814850538007235,31.856327015393138,31.897803492779037,31.93927997016494,31.980756447550846,32.022232924936745,32.06370940232265,32.10518587970856,32.146662357094456,32.188138834480355,32.22961531186627,32.27109178925217,32.31256826663807,32.35404474402397,32.39552122140988,32.43699769879578,32.478474176181685,32.519950653567584,32.56142713095349,32.60290360833939,32.64438008572529,32.6858565631112,32.7273330404971,32.768809517883,32.810285995268906,32.85176247265481,32.89323895004071,32.93471542742662,32.976191904812524,33.01766838219842,33.05914485958432,33.10062133697022,33.14209781435613,33.18357429174203,33.22505076912793,33.26652724651384,33.308003723899745,33.349480201285644,33.39095667867155,33.432433156057456,33.473909633443355,33.515386110829255,33.55686258821516,33.59833906560107,33.639815542986966,33.68129202037287,33.72276849775877,33.76424497514468,33.80572145253058,33.84719792991648,33.88867440730239],\"xaxis\":\"x\",\"y\":[0.01830919779700806,0.01852157482741521,0.01873420204038295,0.018947057990002868,0.019160121858314127,0.019373373467343063,0.019586793289802406,0.019800362458423107,0.020014062773893625,0.02022787671138403,0.020441787425634968,0.020655778754593856,0.020869835221583678,0.021083942035992023,0.021298085092471032,0.021512250968641452,0.021726426921297,0.021940600881107875,0.022154761445825174,0.022368897871990732,0.022583000065159935,0.022797058568647662,0.02301106455081047,0.023225009790881258,0.02343888666337469,0.023652688121085574,0.023866407676704025,0.024080039383074927,0.024293577812131168,0.024507018032533388,0.024720355586051086,0.02493358646272282,0.025146707074835573,0.02535971422976581,0.02557260510172709,0.02578537720247129,0.025998028350993005,0.026210556642288396,0.026422960415221873,0.026635238219556247,0.026847388782203295,0.027059410972753894,0.027271303768348153,0.02748306621794757,0.027694697406072704,0.027906196416071314,0.028117562292982484,0.02832879400606404,0.028539890411050886,0.02875085021221329,0.028961671924284102,0.02917235383432515,0.029382893963603197,0.029593290029545798,0.029803539407848377,0.030013639094803264,0.030223585669921397,0.030433375258917553,0.030643003497129617,0.03085246549344119,0.031061755794777712,0.03127086835124413,0.031479796481972154,0.03168853284174444,0.03189706938846085,0.03210539735151253,0.03231350720112652,0.03252138861874372,0.032729030468490516,0.03293642076980378,0.03314354667126615,0.03335039442570818,0.033556949366630694,0.03376319588600012,0.03396911741346632,0.03417469639705151,0.034379914285356056,0.03458475151132493,0.034789187477616494,0.034993200543612636,0.035196768014107635,0.03539986612970967,0.035602470058987624,0.035804553892392454,0.03600609063798032,0.03620705221896215,0.036407409473101685,0.03660713215398127,0.036806188934152544,0.037004547410186266,0.03720217410963293,0.03739903449990329,0.037595092999075465,0.037790312988632495,0.037984656828131805,0.03817808587180535,0.03837056048708704,0.03856204007506076,0.03875248309282114,0.03894184707773513,0.0391300886735916,0.039317163658622666,0.039503026975378865,0.039687632762437426,0.039870934387921136,0.0400528844848028,0.040233434987968046,0.04041253717300789,0.04059014169670879,0.04076619863920827,0.0409406575477797,0.041113467482210155,0.041284577061731866,0.04145393451346669,0.04162148772234175,0.04178718428243108,0.04195097154967893,0.04211279669595655,0.04227260676440399,0.04243034872600712,0.04258596953735798,0.0427394161995455,0.04289063581812296,0.04303957566409632,0.04318618323587715,0.043330406322142516,0.04347219306554293,0.04361149202719893,0.04374825225192523,0.04388242333412112,0.04401395548426429,0.044142799595944984,0.044268907313376245,0.04439223109931508,0.04451272430332941,0.044630341230343984,0.04474503720939846,0.04485676866255036,0.04496549317385418,0.04507116955834843,0.04517375793098114,0.0452732197754043,0.04536951801256673,0.04546261706903544,0.04555248294497366,0.04563908328170499,0.04572238742879142,0.04580236651055342,0.04587899349195997,0.04595224324381552,0.04602209260717146,0.046088520456889,0.04615150776428015,0.04621103765875357,0.04626709548839168,0.046319668879385455,0.04636874779425349,0.04641432458877122,0.04645639406753704,0.046494953538101146,0.04653000286358403,0.046561544513710716,0.046589583614187594,0.04661412799434837,0.046635188232996554,0.04665277770237163,0.0466669126101662,0.046677612039522774,0.046684897986937916,0.04668879539800309,0.046689332200911496,0.046686539337660725,0.046680450792882404,0.04667110362022963,0.04665853796625486,0.046642797091711145,0.04662392739021073,0.046601978404176216,0.0465770028380202,0.04654905656849103,0.0465181986521232,0.0464844913297322,0.04644800002789576,0.04640879335736401,0.046366943108343724,0.046322524242602754,0.046275614882343184,0.04622629629579357,0.04617465287947249,0.046120772137078006,0.046064744654960146,0.04600666407413535,0.04594662705880524,0.045884733261343465,0.04582108528371861,0.04575578863532298,0.045688951687180304,0.04562068562250872,0.0455511043836187,0.04548032461512849,0.04540846560348369,0.045335649212770605,0.0452619998168173,0.0451876442275796,0.045112711619813506,0.045037333452039634,0.04496164338380889,0.04488577718928372,0.044809872667152764,0.044734069546901796,0.044658509391468176,0.044583335496310786,0.044508692784931775,0.044434727700892004,0.04436158809636629,0.044289423117289554,0.04421838308515091,0.04414861937549643,0.044080284293207574,0.044013530944627045,0.043948513106609105,0.04388538509257671,0.043824301615672974,0.043765417649100226,0.043708888283744515,0.04365486858318959,0.043603513436229355,0.043554977406992386,0.043509414582799125,0.04346697841987591,0.04342782158705579,0.04339209580760222,0.04335995169929476,0.043331538612923284,0.0433070044693403,0.043286495595226855,0.04327015655773211,0.04325812999815107,0.04325055646480951,0.043247574245329906,0.04324931919845621,0.04325592458561907,0.043267520902427824,0.04328423571027848,0.043306193468271276,0.04333351536563421,0.043366319154852465,0.04340471898570651,0.04344882524042418,0.043498744370155336,0.043554578732978744,0.043616426433654015,0.0436843811653323,0.04375853205344178,0.04383896350196431,0.04392575504232095,0.04401898118508508,0.04411871127474114,0.04422500934770808,0.04433793399384571,0.04445753822166148,0.04458386932743459,0.044716968768472774,0.04485687204071542,0.04500360856089514,0.045157201553466614,0.04531766794251024,0.04548501824881354,0.045659256492331095,0.04584038010021957,0.04602837982063977,0.046223239642514145,0.04642493672142259,0.04663344131181447,0.04684871670570921,0.04707071917805169,0.04729939793888262,0.04753469509247751,0.04777654560360094,0.048024877271014225,0.048279610708370065,0.04854065933261536,0.04880792936001979,0.04908131980993519,0.04936072251638407,0.04964602214756674,0.04993709623336412,0.050233815200907944,0.05053604241827598,0.050843634246362145,0.05115644009895984,0.051474302511086485,0.051797057215566066,0.052124533227875566,0.05245655293924993,0.052792932218028055,0.05313348051921258,0.05347800100220118,0.05382629065663959,0.054178140436330464,0.0545333354011235,0.05489165486669744,0.05525287256213555,0.055616756795180945,0.055983070625048544,0.056351572042657075,0.05672201415813287,0.057094145395425906,0.057467709693865755,0.057842446716474386,0.05821809206484003,0.05859437750034714,0.058971031171543634,0.059347777847417175,0.05972433915634247,0.06010043383044764,0.06047577795514272,0.06085008522353748,0.06122306719547189,0.061594433560869154,0.06196389240711398,0.062331150490151255,0.0626959135089896,0.06305788638328957,0.0634167735337064,0.06377227916465296,0.06412410754913928,0.06447196331534287,0.06481555173455507,0.06515457901014647,0.0654887525671896,0.06581778134237187,0.0661413760738318,0.06645924959054506,0.06677111710088865,0.06707669648000725,0.06737570855560684,0.06766787739179961,0.06795293057062483,0.06823059947087165,0.06850061954383095,0.0687627305856067,0.06901667700561812,0.06926220809093077,0.06949907826605542,0.0697270473478605,0.06994588079524883,0.0701553499532551,0.07035523229122775,0.07054531163476445,0.07072537839108178,0.070895229767503,0.07105466998276198,0.07120351047082676,0.07134157007695854,0.07146867524573151,0.07158466020075085,0.07168936711581617,0.07178264627729129,0.07186435623745341,0.07193436395860617,0.07199254494775677,0.07203878338166851,0.07207297222211634,0.07209501332118538,0.07210481751646888,0.07210230471603528,0.0720874039730506,0.07206005354995705,0.07202020097212462,0.07196780307090789,0.0719028260160568,0.07182524533744573,0.07173504593610078,0.07163222208452302,0.07151677741631933,0.07138872490517069,0.07124808683318253,0.07109489474867849,0.07092918941351414,0.07075102074000443,0.07056044771757222,0.07035753832924256,0.0701423694581216,0.06991502678401403,0.06967560467034797,0.06942420604159054,0.06916094225135062,0.06888593294138039,0.06859930589169926,0.0683011968620772,0.0679917494251266,0.06767111479126461,0.06733945162581802,0.06699692585855481,0.06664371048593669,0.06627998536639645,0.06590593700895372,0.0655217583554916,0.06512764855702399,0.06472381274429233,0.0643104617930362,0.06388781208428895,0.06345608526005599,0.06301550797473658,0.06256631164265646,0.062108732182081225,0.06164300975608257,0.06116938851063462,0.06068811631031592,0.0601994444719963,0.05970362749688669,0.059200922801331,0.058691590446716436,0.05817589286887879,0.057654094607376354,0.057126462035002,0.05659326308790216,0.05605476699666466,0.05551124401873374,0.05496296517250595,0.054410201973452726,0.053853226172611575,0.053292309497778426,0.052727723397727556,0.052159738789777164,0.05158862581100992,0.05101465357344846,0.050438089923477814,0.04985920120579519,0.04927825203215798,0.04869550505519044,0.048111220747498615,0.04752565718633022,0.04693906984400739,0.04635171138434544,0.045763831465260696,0.04517567654775669,0.04458748971146694,0.04399951047691766,0.04341197463466357,0.042825114081434794,0.04223915666342079,0.04165432602680402,0.04107084147564242,0.04048891783718767,0.039908765334711965,0.039330589467903264,0.03875459090087632,0.038180965357833836,0.037609903526398016,0.03704159096862248,0.03647620803967974,0.03591392981420851,0.03535492602029249,0.03479936098102981,0.034247393563643175,0.03369917713606561,0.03315485953092833,0.03261458301686676,0.03207848427704932,0.03154669439482077,0.031019338846349793,0.030496537500153232,0.029978404623364,0.029465048894601328,0.028956573423294146,0.028453075775297182,0.02795464800463829,0.02746137669122157,0.02697334298431003,0.026490622651603714,0.026013286133720784,0.025541398603889476,0.025075020032650108,0.024614205257362742,0.02415900405631341,0.0237094612272092,0.023265616669846584,0.022827505472738232,0.02239515800348065,0.02196860000264267,0.021547852680954608,0.02113293281957699,0.020723852873228154,0.02032062107594954,0.01992324154928804,0.019531714412676898,0.01914603589579716,0.0187661984527031,0.01839219087749887,0.01802399842135415,0.017661602910651348,0.01730498286605815,0.01695411362232413,0.016608967448604423,0.016269513669114673,0.015935718783930214,0.015607546589742321,0.01528495830039371],\"yaxis\":\"y\",\"type\":\"scatter\"},{\"legendgroup\":\"bmi_mean\",\"marker\":{\"color\":\"rgb(31, 119, 180)\",\"symbol\":\"line-ns-open\"},\"mode\":\"markers\",\"name\":\"bmi_mean\",\"showlegend\":false,\"x\":[24.839296378896947,20.2744789825052,18.598758084216097,13.191912191736765,16.32648114674164,14.830028026936311,29.322578742343122,20.068700736700052,18.10088929395246,22.9950964963041,27.71956696603433,22.341160366997187,27.831524855627176,28.860474997107282,18.525580056901987,29.435359597700078,22.12142161608569,20.75641241204263,30.09579923988839,29.051242656199765,28.14608804975903,27.908175991515364,28.79251216008279,13.704183709455748,18.001978150843787,29.158403050108117,28.605888477750998,26.812432035126697,19.572266295122375,26.462895806945443,21.841289209063802,15.639334123099486,21.193522065468706,30.313275596256553,29.360278497967528,27.74146454247585,28.085587583047705,33.93015088468829,28.48465903351337],\"xaxis\":\"x\",\"y\":[\"bmi_mean\",\"bmi_mean\",\"bmi_mean\",\"bmi_mean\",\"bmi_mean\",\"bmi_mean\",\"bmi_mean\",\"bmi_mean\",\"bmi_mean\",\"bmi_mean\",\"bmi_mean\",\"bmi_mean\",\"bmi_mean\",\"bmi_mean\",\"bmi_mean\",\"bmi_mean\",\"bmi_mean\",\"bmi_mean\",\"bmi_mean\",\"bmi_mean\",\"bmi_mean\",\"bmi_mean\",\"bmi_mean\",\"bmi_mean\",\"bmi_mean\",\"bmi_mean\",\"bmi_mean\",\"bmi_mean\",\"bmi_mean\",\"bmi_mean\",\"bmi_mean\",\"bmi_mean\",\"bmi_mean\",\"bmi_mean\",\"bmi_mean\",\"bmi_mean\",\"bmi_mean\",\"bmi_mean\",\"bmi_mean\"],\"yaxis\":\"y2\",\"type\":\"scatter\"}],                        {\"barmode\":\"overlay\",\"hovermode\":\"closest\",\"legend\":{\"traceorder\":\"reversed\"},\"template\":{\"data\":{\"barpolar\":[{\"marker\":{\"line\":{\"color\":\"#E5ECF6\",\"width\":0.5},\"pattern\":{\"fillmode\":\"overlay\",\"size\":10,\"solidity\":0.2}},\"type\":\"barpolar\"}],\"bar\":[{\"error_x\":{\"color\":\"#2a3f5f\"},\"error_y\":{\"color\":\"#2a3f5f\"},\"marker\":{\"line\":{\"color\":\"#E5ECF6\",\"width\":0.5},\"pattern\":{\"fillmode\":\"overlay\",\"size\":10,\"solidity\":0.2}},\"type\":\"bar\"}],\"carpet\":[{\"aaxis\":{\"endlinecolor\":\"#2a3f5f\",\"gridcolor\":\"white\",\"linecolor\":\"white\",\"minorgridcolor\":\"white\",\"startlinecolor\":\"#2a3f5f\"},\"baxis\":{\"endlinecolor\":\"#2a3f5f\",\"gridcolor\":\"white\",\"linecolor\":\"white\",\"minorgridcolor\":\"white\",\"startlinecolor\":\"#2a3f5f\"},\"type\":\"carpet\"}],\"choropleth\":[{\"colorbar\":{\"outlinewidth\":0,\"ticks\":\"\"},\"type\":\"choropleth\"}],\"contourcarpet\":[{\"colorbar\":{\"outlinewidth\":0,\"ticks\":\"\"},\"type\":\"contourcarpet\"}],\"contour\":[{\"colorbar\":{\"outlinewidth\":0,\"ticks\":\"\"},\"colorscale\":[[0.0,\"#0d0887\"],[0.1111111111111111,\"#46039f\"],[0.2222222222222222,\"#7201a8\"],[0.3333333333333333,\"#9c179e\"],[0.4444444444444444,\"#bd3786\"],[0.5555555555555556,\"#d8576b\"],[0.6666666666666666,\"#ed7953\"],[0.7777777777777778,\"#fb9f3a\"],[0.8888888888888888,\"#fdca26\"],[1.0,\"#f0f921\"]],\"type\":\"contour\"}],\"heatmapgl\":[{\"colorbar\":{\"outlinewidth\":0,\"ticks\":\"\"},\"colorscale\":[[0.0,\"#0d0887\"],[0.1111111111111111,\"#46039f\"],[0.2222222222222222,\"#7201a8\"],[0.3333333333333333,\"#9c179e\"],[0.4444444444444444,\"#bd3786\"],[0.5555555555555556,\"#d8576b\"],[0.6666666666666666,\"#ed7953\"],[0.7777777777777778,\"#fb9f3a\"],[0.8888888888888888,\"#fdca26\"],[1.0,\"#f0f921\"]],\"type\":\"heatmapgl\"}],\"heatmap\":[{\"colorbar\":{\"outlinewidth\":0,\"ticks\":\"\"},\"colorscale\":[[0.0,\"#0d0887\"],[0.1111111111111111,\"#46039f\"],[0.2222222222222222,\"#7201a8\"],[0.3333333333333333,\"#9c179e\"],[0.4444444444444444,\"#bd3786\"],[0.5555555555555556,\"#d8576b\"],[0.6666666666666666,\"#ed7953\"],[0.7777777777777778,\"#fb9f3a\"],[0.8888888888888888,\"#fdca26\"],[1.0,\"#f0f921\"]],\"type\":\"heatmap\"}],\"histogram2dcontour\":[{\"colorbar\":{\"outlinewidth\":0,\"ticks\":\"\"},\"colorscale\":[[0.0,\"#0d0887\"],[0.1111111111111111,\"#46039f\"],[0.2222222222222222,\"#7201a8\"],[0.3333333333333333,\"#9c179e\"],[0.4444444444444444,\"#bd3786\"],[0.5555555555555556,\"#d8576b\"],[0.6666666666666666,\"#ed7953\"],[0.7777777777777778,\"#fb9f3a\"],[0.8888888888888888,\"#fdca26\"],[1.0,\"#f0f921\"]],\"type\":\"histogram2dcontour\"}],\"histogram2d\":[{\"colorbar\":{\"outlinewidth\":0,\"ticks\":\"\"},\"colorscale\":[[0.0,\"#0d0887\"],[0.1111111111111111,\"#46039f\"],[0.2222222222222222,\"#7201a8\"],[0.3333333333333333,\"#9c179e\"],[0.4444444444444444,\"#bd3786\"],[0.5555555555555556,\"#d8576b\"],[0.6666666666666666,\"#ed7953\"],[0.7777777777777778,\"#fb9f3a\"],[0.8888888888888888,\"#fdca26\"],[1.0,\"#f0f921\"]],\"type\":\"histogram2d\"}],\"histogram\":[{\"marker\":{\"pattern\":{\"fillmode\":\"overlay\",\"size\":10,\"solidity\":0.2}},\"type\":\"histogram\"}],\"mesh3d\":[{\"colorbar\":{\"outlinewidth\":0,\"ticks\":\"\"},\"type\":\"mesh3d\"}],\"parcoords\":[{\"line\":{\"colorbar\":{\"outlinewidth\":0,\"ticks\":\"\"}},\"type\":\"parcoords\"}],\"pie\":[{\"automargin\":true,\"type\":\"pie\"}],\"scatter3d\":[{\"line\":{\"colorbar\":{\"outlinewidth\":0,\"ticks\":\"\"}},\"marker\":{\"colorbar\":{\"outlinewidth\":0,\"ticks\":\"\"}},\"type\":\"scatter3d\"}],\"scattercarpet\":[{\"marker\":{\"colorbar\":{\"outlinewidth\":0,\"ticks\":\"\"}},\"type\":\"scattercarpet\"}],\"scattergeo\":[{\"marker\":{\"colorbar\":{\"outlinewidth\":0,\"ticks\":\"\"}},\"type\":\"scattergeo\"}],\"scattergl\":[{\"marker\":{\"colorbar\":{\"outlinewidth\":0,\"ticks\":\"\"}},\"type\":\"scattergl\"}],\"scattermapbox\":[{\"marker\":{\"colorbar\":{\"outlinewidth\":0,\"ticks\":\"\"}},\"type\":\"scattermapbox\"}],\"scatterpolargl\":[{\"marker\":{\"colorbar\":{\"outlinewidth\":0,\"ticks\":\"\"}},\"type\":\"scatterpolargl\"}],\"scatterpolar\":[{\"marker\":{\"colorbar\":{\"outlinewidth\":0,\"ticks\":\"\"}},\"type\":\"scatterpolar\"}],\"scatter\":[{\"fillpattern\":{\"fillmode\":\"overlay\",\"size\":10,\"solidity\":0.2},\"type\":\"scatter\"}],\"scatterternary\":[{\"marker\":{\"colorbar\":{\"outlinewidth\":0,\"ticks\":\"\"}},\"type\":\"scatterternary\"}],\"surface\":[{\"colorbar\":{\"outlinewidth\":0,\"ticks\":\"\"},\"colorscale\":[[0.0,\"#0d0887\"],[0.1111111111111111,\"#46039f\"],[0.2222222222222222,\"#7201a8\"],[0.3333333333333333,\"#9c179e\"],[0.4444444444444444,\"#bd3786\"],[0.5555555555555556,\"#d8576b\"],[0.6666666666666666,\"#ed7953\"],[0.7777777777777778,\"#fb9f3a\"],[0.8888888888888888,\"#fdca26\"],[1.0,\"#f0f921\"]],\"type\":\"surface\"}],\"table\":[{\"cells\":{\"fill\":{\"color\":\"#EBF0F8\"},\"line\":{\"color\":\"white\"}},\"header\":{\"fill\":{\"color\":\"#C8D4E3\"},\"line\":{\"color\":\"white\"}},\"type\":\"table\"}]},\"layout\":{\"annotationdefaults\":{\"arrowcolor\":\"#2a3f5f\",\"arrowhead\":0,\"arrowwidth\":1},\"autotypenumbers\":\"strict\",\"coloraxis\":{\"colorbar\":{\"outlinewidth\":0,\"ticks\":\"\"}},\"colorscale\":{\"diverging\":[[0,\"#8e0152\"],[0.1,\"#c51b7d\"],[0.2,\"#de77ae\"],[0.3,\"#f1b6da\"],[0.4,\"#fde0ef\"],[0.5,\"#f7f7f7\"],[0.6,\"#e6f5d0\"],[0.7,\"#b8e186\"],[0.8,\"#7fbc41\"],[0.9,\"#4d9221\"],[1,\"#276419\"]],\"sequential\":[[0.0,\"#0d0887\"],[0.1111111111111111,\"#46039f\"],[0.2222222222222222,\"#7201a8\"],[0.3333333333333333,\"#9c179e\"],[0.4444444444444444,\"#bd3786\"],[0.5555555555555556,\"#d8576b\"],[0.6666666666666666,\"#ed7953\"],[0.7777777777777778,\"#fb9f3a\"],[0.8888888888888888,\"#fdca26\"],[1.0,\"#f0f921\"]],\"sequentialminus\":[[0.0,\"#0d0887\"],[0.1111111111111111,\"#46039f\"],[0.2222222222222222,\"#7201a8\"],[0.3333333333333333,\"#9c179e\"],[0.4444444444444444,\"#bd3786\"],[0.5555555555555556,\"#d8576b\"],[0.6666666666666666,\"#ed7953\"],[0.7777777777777778,\"#fb9f3a\"],[0.8888888888888888,\"#fdca26\"],[1.0,\"#f0f921\"]]},\"colorway\":[\"#636efa\",\"#EF553B\",\"#00cc96\",\"#ab63fa\",\"#FFA15A\",\"#19d3f3\",\"#FF6692\",\"#B6E880\",\"#FF97FF\",\"#FECB52\"],\"font\":{\"color\":\"#2a3f5f\"},\"geo\":{\"bgcolor\":\"white\",\"lakecolor\":\"white\",\"landcolor\":\"#E5ECF6\",\"showlakes\":true,\"showland\":true,\"subunitcolor\":\"white\"},\"hoverlabel\":{\"align\":\"left\"},\"hovermode\":\"closest\",\"mapbox\":{\"style\":\"light\"},\"paper_bgcolor\":\"white\",\"plot_bgcolor\":\"#E5ECF6\",\"polar\":{\"angularaxis\":{\"gridcolor\":\"white\",\"linecolor\":\"white\",\"ticks\":\"\"},\"bgcolor\":\"#E5ECF6\",\"radialaxis\":{\"gridcolor\":\"white\",\"linecolor\":\"white\",\"ticks\":\"\"}},\"scene\":{\"xaxis\":{\"backgroundcolor\":\"#E5ECF6\",\"gridcolor\":\"white\",\"gridwidth\":2,\"linecolor\":\"white\",\"showbackground\":true,\"ticks\":\"\",\"zerolinecolor\":\"white\"},\"yaxis\":{\"backgroundcolor\":\"#E5ECF6\",\"gridcolor\":\"white\",\"gridwidth\":2,\"linecolor\":\"white\",\"showbackground\":true,\"ticks\":\"\",\"zerolinecolor\":\"white\"},\"zaxis\":{\"backgroundcolor\":\"#E5ECF6\",\"gridcolor\":\"white\",\"gridwidth\":2,\"linecolor\":\"white\",\"showbackground\":true,\"ticks\":\"\",\"zerolinecolor\":\"white\"}},\"shapedefaults\":{\"line\":{\"color\":\"#2a3f5f\"}},\"ternary\":{\"aaxis\":{\"gridcolor\":\"white\",\"linecolor\":\"white\",\"ticks\":\"\"},\"baxis\":{\"gridcolor\":\"white\",\"linecolor\":\"white\",\"ticks\":\"\"},\"bgcolor\":\"#E5ECF6\",\"caxis\":{\"gridcolor\":\"white\",\"linecolor\":\"white\",\"ticks\":\"\"}},\"title\":{\"x\":0.05},\"xaxis\":{\"automargin\":true,\"gridcolor\":\"white\",\"linecolor\":\"white\",\"ticks\":\"\",\"title\":{\"standoff\":15},\"zerolinecolor\":\"white\",\"zerolinewidth\":2},\"yaxis\":{\"automargin\":true,\"gridcolor\":\"white\",\"linecolor\":\"white\",\"ticks\":\"\",\"title\":{\"standoff\":15},\"zerolinecolor\":\"white\",\"zerolinewidth\":2}}},\"xaxis\":{\"anchor\":\"y2\",\"domain\":[0.0,1.0],\"zeroline\":false},\"yaxis\":{\"anchor\":\"free\",\"domain\":[0.35,1],\"position\":0.0},\"yaxis2\":{\"anchor\":\"x\",\"domain\":[0,0.25],\"dtick\":1,\"showticklabels\":false}},                        {\"responsive\": true}                    ).then(function(){\n",
       "                            \n",
       "var gd = document.getElementById('51469616-fbed-4c25-8364-f60d1b958e93');\n",
       "var x = new MutationObserver(function (mutations, observer) {{\n",
       "        var display = window.getComputedStyle(gd).display;\n",
       "        if (!display || display === 'none') {{\n",
       "            console.log([gd, 'removed!']);\n",
       "            Plotly.purge(gd);\n",
       "            observer.disconnect();\n",
       "        }}\n",
       "}});\n",
       "\n",
       "// Listen for the removal of the full notebook cells\n",
       "var notebookContainer = gd.closest('#notebook-container');\n",
       "if (notebookContainer) {{\n",
       "    x.observe(notebookContainer, {childList: true});\n",
       "}}\n",
       "\n",
       "// Listen for the clearing of the current output cell\n",
       "var outputEl = gd.closest('.output');\n",
       "if (outputEl) {{\n",
       "    x.observe(outputEl, {childList: true});\n",
       "}}\n",
       "\n",
       "                        })                };                });            </script>        </div>"
      ]
     },
     "metadata": {},
     "output_type": "display_data"
    }
   ],
   "source": [
    "from smart_broker_api import statistics_api\n",
    "from smart_broker_api import visualization_api\n",
    "import plotly.graph_objects as go\n",
    "\n",
    "type_distribution=\"normalunit\"\n",
    "type_ranking=\"cdf\"\n",
    "alternative = \"two-sided\"\n",
    "print(statistics_api.count(session,  series_1_id))\n",
    "print(statistics_api.mean(session,  series_1_id))\n",
    "print(statistics_api.chisquare(session,  series_1_id, series_2_id))\n",
    "print(statistics_api.kolmogorovSmirnovTest(session,  series_1_id, type_distribution, type_ranking))\n",
    "print(statistics_api.kurtosis(session,  series_1_id))\n",
    "print(statistics_api.levene_test(session,  series_1_id, series_2_id))\n",
    "print(statistics_api.mann_whitney_u_test(session,  series_1_id, series_2_id, alternative, type_ranking))\n",
    "print(statistics_api.min_max(session,  series_1_id))\n",
    "print(statistics_api.paired_t_test(session,  series_1_id, series_2_id, alternative))\n",
    "print(statistics_api.pearson(session,  series_1_id, series_2_id, alternative))\n",
    "print(statistics_api.skewness(session,  series_1_id))\n",
    "print(statistics_api.spearman(session,  series_1_id, series_2_id, alternative, type_ranking))\n",
    "print(statistics_api.student_t_test(session,  series_1_id, series_2_id, alternative))\n",
    "print(statistics_api.variance(session,  series_1_id))\n",
    "print(statistics_api.welch_t_test(session,  series_1_id, series_2_id, alternative))\n",
    "print(statistics_api.wilcoxon_signed_rank_test(session,  series_1_id, series_2_id, alternative, type_ranking))\n",
    "print(statistics_api.wilcoxon_signed_rank_test(session,  series_1_id, series_2_id, alternative, type_ranking))\n",
    "\n",
    "\n",
    "\n",
    "dict_of_fig = visualization_api.histogram(session, series_1_id, 20)\n",
    "fig = go.Figure(dict_of_fig[\"figure\"])\n",
    "fig.show()\n",
    "\n",
    "\n",
    "dict_of_fig = visualization_api.kernel_density_estimation(session, series_1_id, 2)\n",
    "fig = go.Figure(dict_of_fig[\"figure\"])\n",
    "fig.show()"
   ]
  },
  {
   "cell_type": "markdown",
   "metadata": {},
   "source": [
    "# 7. Deprovision our Federation"
   ]
  },
  {
   "cell_type": "code",
   "execution_count": 10,
   "metadata": {
    "tags": []
   },
   "outputs": [
    {
     "name": "stdout",
     "output_type": "stream",
     "text": [
      "Deprovision ID is b6da95b4-36e9-4f13-9caa-0e964c8b299b\n"
     ]
    }
   ],
   "source": [
    "\n",
    "platform_api.deprovision_federation_by_name(platform_session, FEDERATION_NAME)\n"
   ]
  },
  {
   "cell_type": "code",
   "execution_count": 10,
   "metadata": {
    "tags": []
   },
   "outputs": [],
   "source": [
    "from platform_api import platform_api\n",
    "\n",
    "PROVISION_ID = \"0de43d62-fb01-4c34-aaae-3f77a73f71e7\"\n",
    "PASSWORD=\"SailPassword@123\"\n",
    "\n",
    "platform_session = platform_api.login(\"admin@secureailabs.com\", PASSWORD, \"172.20.100.5\")\n",
    "\n",
    "platform_api.deprovision_federation_by_id(platform_session, PROVISION_ID)"
   ]
  },
  {
   "cell_type": "code",
   "execution_count": null,
   "metadata": {},
   "outputs": [],
   "source": []
  }
 ],
 "metadata": {
  "kernelspec": {
   "display_name": "Python 3 (ipykernel)",
   "language": "python",
   "name": "python3"
  },
  "language_info": {
   "codemirror_mode": {
    "name": "ipython",
    "version": 3
   },
   "file_extension": ".py",
   "mimetype": "text/x-python",
   "name": "python",
   "nbconvert_exporter": "python",
   "pygments_lexer": "ipython3",
   "version": "3.8.10"
  },
  "vscode": {
   "interpreter": {
    "hash": "916dbcbb3f70747c44a77c7bcd40155683ae19c65e1c03b4aa3499c5328201f1"
   }
  }
 },
 "nbformat": 4,
 "nbformat_minor": 4
}
