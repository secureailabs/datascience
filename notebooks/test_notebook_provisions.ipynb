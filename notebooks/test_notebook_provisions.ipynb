{
    "cells": [
        {
            "cell_type": "markdown",
            "metadata": {},
            "source": [
                "# Deprecated"
            ]
        },
        {
            "cell_type": "markdown",
            "metadata": {},
            "source": [
                "# 0. Provision our SCNs"
            ]
        },
        {
            "cell_type": "code",
            "execution_count": null,
            "metadata": {},
            "outputs": [],
            "source": [
                "from platform_api import platform_api\n",
                "from getpass import getpass\n",
                "import time\n",
                "import warnings\n",
                "\n",
                "# We filter out because our certs are self-signed for now\n",
                "warnings.filterwarnings('ignore', message='Unverified HTTPS request')\n",
                "\n",
                "PLATFORM_IP = \"172.20.100.37\"\n",
                "PLATFORM_USER = \"admin@secureailabs.com\"\n",
                "FEDERATION_NAME = \"KCA Consortium\"\n",
                "PASSWORD = getpass(prompt=\"Researcher password: \")\n",
                "\n",
                "platform_session = platform_api.login(PLATFORM_USER, PASSWORD, PLATFORM_IP)\n",
                "\n",
                "platform_api.provision_federation_by_name(platform_session, FEDERATION_NAME)\n",
                "\n",
                "federation_session = None\n",
                "while federation_session is None:\n",
                "    time.sleep(30)\n",
                "    federation_session = platform_api.connect_to_federation(platform_session, FEDERATION_NAME)\n",
                "\n",
                "session = session.Session(federation_session[\"ip\"], federation_session[\"port\"], True)\n",
                "\n",
                "print(f\"Federation is up and running at {session.ip}:{session.port}\")"
            ]
        },
        {
            "cell_type": "markdown",
            "metadata": {},
            "source": [
                "# 1. Aggregation Model Creation"
            ]
        },
        {
            "cell_type": "code",
            "execution_count": null,
            "metadata": {},
            "outputs": [],
            "source": [
                "from smart_broker_api import data_model_api\n",
                "\n",
                "DATA_FRAME_NAME = \"data_frame_demo\"\n",
                "\n",
                "data_model_id = data_model_api.create_date_frame(session, DATA_FRAME_NAME)\n",
                "data_model_api.data_frame_add_series(session, data_model_id, \"bmi_mean\", \"Observation:Body Mass Index\", \"AgregatorIntervalMean\")\n",
                "data_model_api.data_frame_add_series(session, data_model_id, \"bmi_first\", \"Observation:Body Mass Index\", \"AgregatorIntervalFirstOccurance\")\n",
                "data_model_api.data_frame_add_series(session, data_model_id, \"bmi_last\", \"Observation:Body Mass Index\", \"AgregatorIntervalLastOccurance\")\n",
                "data_model_tabular_id = data_model_api.create_tabular_data(session)\n",
                "data_model_tabular_id = data_model_api.tabular_add_dataframe(session, data_model_id, data_model_tabular_id)"
            ]
        },
        {
            "cell_type": "markdown",
            "metadata": {},
            "source": [
                "# 2. Flatten / Aggregate data from Aggregation model"
            ]
        },
        {
            "cell_type": "code",
            "execution_count": null,
            "metadata": {},
            "outputs": [],
            "source": [
                "from smart_broker_api import data_api\n",
                "\n",
                "dataset_federation_id = \"a892f738-4f6f-11ed-bdc3-0242ac120002\"\n",
                "\n",
                "longitudinal_id = data_api.read_longitudinal_fhirv1(session)\n",
                "tabular_dataset_id = data_api.parse_dataset_tabular_from_longitudinal(session, longitudinal_id, dataset_federation_id, FEDERATION_NAME, data_model_tabular_id)\n",
                "data_frame_id = data_api.data_frame_tabular_select_data_frame(session, tabular_dataset_id, DATA_FRAME_NAME)"
            ]
        },
        {
            "cell_type": "markdown",
            "metadata": {},
            "source": [
                "# 3. Remove NaNs from data frame"
            ]
        },
        {
            "cell_type": "code",
            "execution_count": null,
            "metadata": {},
            "outputs": [],
            "source": [
                "from smart_broker_api import preprocessing_api\n",
                "\n",
                "no_nan_data_frame_id = preprocessing_api.drop_na_data_frame(session, data_frame_id)"
            ]
        },
        {
            "cell_type": "markdown",
            "metadata": {},
            "source": [
                "# 4. Grab series to work with in Statistics Lib"
            ]
        },
        {
            "cell_type": "code",
            "execution_count": null,
            "metadata": {},
            "outputs": [],
            "source": [
                "series_1_id = data_api.data_frame_select_series(session, no_nan_data_frame_id, \"bmi_mean\")\n",
                "series_2_id = data_api.data_frame_select_series(session, no_nan_data_frame_id, \"bmi_last\")\n",
                "\n",
                "print(series_1_id+\" , \"+series_2_id)"
            ]
        },
        {
            "cell_type": "markdown",
            "metadata": {},
            "source": [
                "# 5. Cohort selection"
            ]
        },
        {
            "cell_type": "code",
            "execution_count": null,
            "metadata": {},
            "outputs": [],
            "source": [
                "from smart_broker_api import preprocessing_api\n",
                "from smart_broker_api import statistics_api\n",
                "\n",
                "query = \"bmi_first > bmi_last\"\n",
                "query_dataframe = preprocessing_api.query_data_frame(session, no_nan_data_frame_id, query)\n",
                "query_series = data_api.data_frame_select_series(session, query_dataframe, \"bmi_last\")\n",
                "\n",
                "print(f\"Patients whose BMI decreased during study: {statistics_api.count(session,  query_series)}\")\n",
                "\n",
                "query = \"bmi_first < bmi_last\"\n",
                "query_dataframe = preprocessing_api.query_data_frame(session, no_nan_data_frame_id, query)\n",
                "query_series = data_api.data_frame_select_series(session, query_dataframe, \"bmi_last\")\n",
                "\n",
                "print(f\"Patients whose BMI increased during study: {statistics_api.count(session,  query_series)}\")\n",
                "\n",
                "query = \"bmi_first - bmi_last > 0.5\"\n",
                "query_dataframe = preprocessing_api.query_data_frame(session, no_nan_data_frame_id, query)\n",
                "query_series = data_api.data_frame_select_series(session, query_dataframe, \"bmi_last\")\n",
                "\n",
                "print(f\"Patients whose BMI significantly decreased during study: {statistics_api.count(session,  query_series)}\")\n",
                "\n",
                "print(f\"Mean BMI of patients whose BMI significantly decreased: {statistics_api.mean(session, query_series)} \")"
            ]
        },
        {
            "cell_type": "markdown",
            "metadata": {},
            "source": [
                "# 6. Run Statistics Library"
            ]
        },
        {
            "cell_type": "code",
            "execution_count": null,
            "metadata": {},
            "outputs": [],
            "source": [
                "from smart_broker_api import statistics_api\n",
                "from smart_broker_api import visualization_api\n",
                "import plotly.graph_objects as go\n",
                "\n",
                "type_distribution=\"normalunit\"\n",
                "type_ranking=\"cdf\"\n",
                "alternative = \"two-sided\"\n",
                "print(statistics_api.count(session,  series_1_id))\n",
                "print(statistics_api.mean(session,  series_1_id))\n",
                "print(statistics_api.chisquare(session,  series_1_id, series_2_id))\n",
                "print(statistics_api.kolmogorovSmirnovTest(session,  series_1_id, type_distribution, type_ranking))\n",
                "print(statistics_api.kurtosis(session,  series_1_id))\n",
                "print(statistics_api.levene_test(session,  series_1_id, series_2_id))\n",
                "print(statistics_api.mann_whitney_u_test(session,  series_1_id, series_2_id, alternative, type_ranking))\n",
                "print(statistics_api.min_max(session,  series_1_id))\n",
                "print(statistics_api.paired_t_test(session,  series_1_id, series_2_id, alternative))\n",
                "print(statistics_api.pearson(session,  series_1_id, series_2_id, alternative))\n",
                "print(statistics_api.skewness(session,  series_1_id))\n",
                "print(statistics_api.spearman(session,  series_1_id, series_2_id, alternative, type_ranking))\n",
                "print(statistics_api.student_t_test(session,  series_1_id, series_2_id, alternative))\n",
                "print(statistics_api.variance(session,  series_1_id))\n",
                "print(statistics_api.welch_t_test(session,  series_1_id, series_2_id, alternative))\n",
                "print(statistics_api.wilcoxon_signed_rank_test(session,  series_1_id, series_2_id, alternative, type_ranking))\n",
                "print(statistics_api.wilcoxon_signed_rank_test(session,  series_1_id, series_2_id, alternative, type_ranking))\n",
                "\n",
                "\n",
                "\n",
                "dict_of_fig = visualization_api.histogram(session, series_1_id, 20)\n",
                "fig = go.Figure(dict_of_fig[\"figure\"])\n",
                "fig.show()\n",
                "\n",
                "\n",
                "dict_of_fig = visualization_api.kernel_density_estimation(session, series_1_id, 2)\n",
                "fig = go.Figure(dict_of_fig[\"figure\"])\n",
                "fig.show()\n",
                "\n",
                "\n"
            ]
        },
        {
            "cell_type": "markdown",
            "metadata": {},
            "source": [
                "# 7. Deprovision our Federation"
            ]
        },
        {
            "cell_type": "code",
            "execution_count": null,
            "metadata": {},
            "outputs": [],
            "source": [
                "\n",
                "platform_api.deprovision_federation_by_name(platform_session, FEDERATION_NAME)\n"
            ]
        },
        {
            "cell_type": "code",
            "execution_count": null,
            "metadata": {},
            "outputs": [],
            "source": [
                "from platform_api import platform_api\n",
                "\n",
                "PROVISION_ID = \"0de43d62-fb01-4c34-aaae-3f77a73f71e7\"\n",
                "PASSWORD=\"SailPassword@123\"\n",
                "\n",
                "platform_session = platform_api.login(\"admin@secureailabs.com\", PASSWORD, \"172.20.100.12\")\n",
                "\n",
                "platform_api.deprovision_federation_by_id(platform_session, PROVISION_ID)"
            ]
        }
    ],
    "metadata": {
        "kernelspec": {
            "display_name": "Python 3.8.10 64-bit",
            "language": "python",
            "name": "python3"
        },
        "language_info": {
            "codemirror_mode": {
                "name": "ipython",
                "version": 3
            },
            "file_extension": ".py",
            "mimetype": "text/x-python",
            "name": "python",
            "nbconvert_exporter": "python",
            "pygments_lexer": "ipython3",
            "version": "3.8.10"
        },
        "orig_nbformat": 4,
        "vscode": {
            "interpreter": {
                "hash": "916dbcbb3f70747c44a77c7bcd40155683ae19c65e1c03b4aa3499c5328201f1"
            }
        }
    },
    "nbformat": 4,
    "nbformat_minor": 2
}
