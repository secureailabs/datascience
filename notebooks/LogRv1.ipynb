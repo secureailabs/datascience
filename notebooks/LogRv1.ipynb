{
 "cells": [
  {
   "cell_type": "code",
   "execution_count": 5,
   "metadata": {},
   "outputs": [],
   "source": [
    "import matplotlib.pyplot as plt\n",
    "\n",
    "\n",
    "def print_graph(predicted, x_train, y_train):\n",
    "    plt.clf()\n",
    "    plt.plot(x_train, y_train, 'go', label='True data', alpha=0.5)\n",
    "    plt.plot(x_train, predicted, '--', label='Predictions', alpha=0.5)\n",
    "    plt.legend(loc='best')\n",
    "    plt.show()"
   ]
  },
  {
   "cell_type": "code",
   "execution_count": 6,
   "metadata": {},
   "outputs": [],
   "source": [
    "import numpy as np\n",
    "import torch\n",
    "from sail_safe_functions.machine_learning.models.LogisticRegression import LogisticRegression\n",
    "\n",
    "# create dummy data for training\n",
    "x_values = [i for i in range(11)]\n",
    "x_train = np.array(x_values, dtype=np.float32)\n",
    "x_train = x_train.reshape(-1, 1)\n",
    "x_train = torch.from_numpy(x_train)\n",
    "\n",
    "y_values = [2*i + 1 for i in x_values]\n",
    "y_train = np.array(y_values, dtype=np.float32)\n",
    "y_train = y_train.reshape(-1, 1)\n",
    "y_train = torch.from_numpy(y_train)\n",
    "\n",
    "data_federation = [[x_train, y_train], [x_train, y_train]]\n",
    "\n",
    "in_layer = 1\n",
    "out_layer = 1\n",
    "optimizer = \"SGD\"\n",
    "criterion = \"MSELoss\"\n",
    "starting_model = LogisticRegression(in_layer, out_layer)\n",
    "epochs = 100\n",
    "learn_rate = 0.1"
   ]
  },
  {
   "cell_type": "code",
   "execution_count": 7,
   "metadata": {},
   "outputs": [
    {
     "name": "stdout",
     "output_type": "stream",
     "text": [
      "parameter grabbing working properly\n"
     ]
    }
   ],
   "source": [
    "from sail_safe_functions.machine_learning.utilities.ModelUtility import ModelUtility\n",
    "\n",
    "origin = starting_model(data_federation[0][0])\n",
    "params = ModelUtility.get_parameters_as_tensor(starting_model)\n",
    "starting_model = ModelUtility.set_parameters_from_tensor(LogisticRegression(in_layer, out_layer), params)\n",
    "post = starting_model(data_federation[0][0])\n",
    "\n",
    "if origin.equal(post):\n",
    "    print(\"parameter grabbing working properly\")"
   ]
  },
  {
   "cell_type": "code",
   "execution_count": 8,
   "metadata": {},
   "outputs": [
    {
     "name": "stderr",
     "output_type": "stream",
     "text": [
      "/usr/local/lib/python3.8/dist-packages/torch/nn/modules/loss.py:529: UserWarning: Using a target size (torch.Size([11, 1])) that is different to the input size (torch.Size([11])). This will likely lead to incorrect results due to broadcasting. Please ensure they have the same size.\n",
      "  return F.mse_loss(input, target, reduction=self.reduction)\n"
     ]
    },
    {
     "data": {
      "image/png": "[encoded data removed]",
      "text/plain": [
       "<Figure size 432x288 with 1 Axes>"
      ]
     },
     "metadata": {
      "needs_background": "light"
     },
     "output_type": "display_data"
    }
   ],
   "source": [
    "from sail_safe_functions.machine_learning.utilities.ModelTrain import ModelTrain\n",
    "from sail_safe_functions.machine_learning.utilities.ModelUtility import ModelUtility\n",
    "\n",
    "#Train a single model on a single SCN\n",
    "trained_model= ModelTrain.run(epochs, data_federation[0], learn_rate, starting_model, criterion, optimizer)\n",
    "# trained_model= ModelUtility.set_parameters_from_tensor(LinearRegression(in_layer, out_layer), params)\n",
    "predicted = trained_model(x_train).data.numpy()\n",
    "\n",
    "print_graph(predicted, x_train, y_train)\n"
   ]
  },
  {
   "cell_type": "code",
   "execution_count": 9,
   "metadata": {},
   "outputs": [
    {
     "data": {
      "text/plain": [
       "1"
      ]
     },
     "execution_count": 9,
     "metadata": {},
     "output_type": "execute_result"
    }
   ],
   "source": [
    "trained_model.model.in_features"
   ]
  },
  {
   "cell_type": "markdown",
   "metadata": {},
   "source": [
    "#"
   ]
  },
  {
   "cell_type": "code",
   "execution_count": 10,
   "metadata": {},
   "outputs": [
    {
     "data": {
      "text/plain": [
       "LogisticRegression(\n",
       "  (model): Linear(in_features=1, out_features=1, bias=False)\n",
       ")"
      ]
     },
     "execution_count": 10,
     "metadata": {},
     "output_type": "execute_result"
    }
   ],
   "source": [
    "from sail_safe_functions.machine_learning.utilities.ModelAverage import ModelAverage\n",
    "\n",
    "trained_models = []\n",
    "avg_model = trained_model\n",
    "\n",
    "# Train a model with every member of our data federation\n",
    "for j in range(len(data_federation)):\n",
    "    trained_models.append(ModelTrain.run(epochs, data_federation[j], learn_rate, avg_model, criterion, optimizer))\n",
    "avg_model = ModelAverage.run(trained_models)\n",
    "\n",
    "avg_model"
   ]
  },
  {
   "cell_type": "markdown",
   "metadata": {},
   "source": [
    "### Retrieving Model from Parameters"
   ]
  },
  {
   "cell_type": "code",
   "execution_count": 11,
   "metadata": {},
   "outputs": [
    {
     "data": {
      "text/plain": [
       "LogisticRegression(\n",
       "  (model): Linear(in_features=1, out_features=1, bias=False)\n",
       ")"
      ]
     },
     "execution_count": 11,
     "metadata": {},
     "output_type": "execute_result"
    }
   ],
   "source": [
    "from sail_safe_functions.machine_learning.utilities.ModelRetrieve import ModelRetrieve\n",
    "\n",
    "#Retrieve Averaged Model\n",
    "avg_model = ModelRetrieve.run(avg_model)\n",
    "\n",
    "avg_model"
   ]
  },
  {
   "cell_type": "code",
   "execution_count": 12,
   "metadata": {},
   "outputs": [
    {
     "data": {
      "image/png": "[encoded data removed]",
      "text/plain": [
       "<Figure size 432x288 with 1 Axes>"
      ]
     },
     "metadata": {
      "needs_background": "light"
     },
     "output_type": "display_data"
    }
   ],
   "source": [
    "predictions = avg_model(x_train).data.numpy()\n",
    "print_graph(predicted, x_train, y_train)"
   ]
  }
 ],
 "metadata": {
  "interpreter": {
   "hash": "916dbcbb3f70747c44a77c7bcd40155683ae19c65e1c03b4aa3499c5328201f1"
  },
  "kernelspec": {
   "display_name": "Python 3.8.10 64-bit",
   "language": "python",
   "name": "python3"
  },
  "language_info": {
   "codemirror_mode": {
    "name": "ipython",
    "version": 3
   },
   "file_extension": ".py",
   "mimetype": "text/x-python",
   "name": "python",
   "nbconvert_exporter": "python",
   "pygments_lexer": "ipython3",
   "version": "3.8.10"
  },
  "orig_nbformat": 4
 },
 "nbformat": 4,
 "nbformat_minor": 2
}
