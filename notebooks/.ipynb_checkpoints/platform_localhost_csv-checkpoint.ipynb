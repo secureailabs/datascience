{
 "cells": [
  {
   "cell_type": "code",
   "execution_count": 1,
   "metadata": {},
   "outputs": [
    {
     "name": "stdout",
     "output_type": "stream",
     "text": [
      "<__main__.Session object at 0x000001CACF748CD0>\n"
     ]
    }
   ],
   "source": [
    "class Session():\n",
    "    def __init__(self, ip, port):\n",
    "        self.ip = ip\n",
    "        self.port = port\n",
    "    def get_url(self):\n",
    "        return \"http://\" + self.ip + \":\" + self.port\n",
    "\n",
    "session = Session(\"127.0.0.1\", \"8000\")\n",
    "print(session)"
   ]
  },
  {
   "cell_type": "markdown",
   "metadata": {},
   "source": [
    "# 1. Reading the data"
   ]
  },
  {
   "cell_type": "code",
   "execution_count": 2,
   "metadata": {},
   "outputs": [
    {
     "name": "stdout",
     "output_type": "stream",
     "text": [
      "90a4c63d-0131-4837-8c61-e40da57189d7\n"
     ]
    }
   ],
   "source": [
    "from smart_broker_api import data_api\n",
    "from smart_broker_api import statistics_api\n",
    "from smart_broker_api import visualization_api\n",
    "import plotly.graph_objects as go\n",
    "\n",
    "list_id_dataset = [\"c75f663e-d9ee-4f1c-9458-79e92d1c126a\"]\n",
    "tabular_dataset_id = data_api.read_dataset_csvv1(session, list_id_dataset)\n",
    "data_frame_id = data_api.data_frame_tabular_select_data_frame(session, tabular_dataset_id, \"data_frame_0\")\n",
    "print(data_frame_id)"
   ]
  },
  {
   "cell_type": "markdown",
   "metadata": {},
   "source": [
    "# 2. Grab series to work with in Statistics Lib"
   ]
  },
  {
   "cell_type": "code",
   "execution_count": 3,
   "metadata": {},
   "outputs": [
    {
     "name": "stdout",
     "output_type": "stream",
     "text": [
      "72ff257f-2dd3-4e85-bab7-c03dc5045306 , 225eb139-5b8d-466e-9129-b6e6cc3d6888\n"
     ]
    }
   ],
   "source": [
    "series_1_id = data_api.data_frame_select_series(session, data_frame_id, \"age_at_nephrectomy\")\n",
    "series_2_id = data_api.data_frame_select_series(session, data_frame_id, \"pathologic_size\")\n",
    "\n",
    "print(series_1_id+\" , \"+series_2_id)"
   ]
  },
  {
   "cell_type": "markdown",
   "metadata": {},
   "source": [
    "# 4. Run Statistics Library"
   ]
  },
  {
   "cell_type": "code",
   "execution_count": 7,
   "metadata": {},
   "outputs": [
    {
     "name": "stdout",
     "output_type": "stream",
     "text": [
      "{'count': 210}\n",
      "{'variance': 207.01398951925253}\n",
      "{'skewness': -0.8585083617555654}\n",
      "{'kurtosis': 1.365410600106693}\n",
      "{'min': -4.833333333333333, 'max': 90.93333333333334}\n",
      "{'f_statistic': 188.14468554101472, 'p_value': 1.2890278922533757e-35}\n",
      "{'w_statistic': 43864.0, 'p_value': 7.475423845852853e-69}\n",
      "{'t_statistic': 53.05047475782217, 'p_value': 0.5}\n",
      "{'t_statistic': 52.72419247560747, 'p_value': 0.5}\n",
      "{'t_statistic': 52.72419247560747, 'p_value': 0.5}\n"
     ]
    },
    {
     "ename": "SyntaxError",
     "evalue": "invalid syntax (<unknown>, line 1)",
     "output_type": "error",
     "traceback": [
      "Traceback \u001b[1;36m(most recent call last)\u001b[0m:\n",
      "\u001b[0m  File \u001b[0;32mc:\\project\\datascience\\venv38_sail\\lib\\site-packages\\IPython\\core\\interactiveshell.py:3433\u001b[0m in \u001b[0;35mrun_code\u001b[0m\n    exec(code_obj, self.user_global_ns, self.user_ns)\u001b[0m\n",
      "\u001b[0m  Cell \u001b[0;32mIn[7], line 28\u001b[0m\n    print(statistics_api.wilcoxon_signed_rank_test(session,  series_1_id, series_2_id, alternative, type_ranking))\u001b[0m\n",
      "\u001b[0m  File \u001b[0;32mc:\\project\\datascience\\sail-aggregator-fastapi\\smart_broker_api\\statistics_api.py:188\u001b[0m in \u001b[0;35mwilcoxon_signed_rank_test\u001b[0m\n    return interpret_result(result)\u001b[0m\n",
      "\u001b[0m  File \u001b[0;32mc:\\project\\datascience\\sail-aggregator-fastapi\\smart_broker_api\\statistics_api.py:10\u001b[0m in \u001b[0;35minterpret_result\u001b[0m\n    return literal_eval(result.content.decode(\"utf-8\"))[\"detail\"]\u001b[0m\n",
      "\u001b[0m  File \u001b[0;32mC:\\Program Files\\WindowsApps\\PythonSoftwareFoundation.Python.3.8_3.8.2800.0_x64__qbz5n2kfra8p0\\lib\\ast.py:59\u001b[0m in \u001b[0;35mliteral_eval\u001b[0m\n    node_or_string = parse(node_or_string, mode='eval')\u001b[0m\n",
      "\u001b[1;36m  File \u001b[1;32mC:\\Program Files\\WindowsApps\\PythonSoftwareFoundation.Python.3.8_3.8.2800.0_x64__qbz5n2kfra8p0\\lib\\ast.py:47\u001b[1;36m in \u001b[1;35mparse\u001b[1;36m\n\u001b[1;33m    return compile(source, filename, mode, flags,\u001b[1;36m\n",
      "\u001b[1;36m  File \u001b[1;32m<unknown>:1\u001b[1;36m\u001b[0m\n\u001b[1;33m    Internal Server Error\u001b[0m\n\u001b[1;37m             ^\u001b[0m\n\u001b[1;31mSyntaxError\u001b[0m\u001b[1;31m:\u001b[0m invalid syntax\n"
     ]
    }
   ],
   "source": [
    "from smart_broker_api import statistics_api\n",
    "from smart_broker_api import visualization_api\n",
    "import plotly.graph_objects as go\n",
    "\n",
    "type_distribution=\"normalunit\"\n",
    "type_ranking=\"cdf\"\n",
    "alternative = \"two-sided\"\n",
    "print(statistics_api.count(session,  series_1_id))\n",
    "#print(statistics_api.mean(session,  series_1_id))\n",
    "print(statistics_api.variance(session,  series_1_id))\n",
    "print(statistics_api.skewness(session,  series_1_id))\n",
    "print(statistics_api.kurtosis(session,  series_1_id))\n",
    "\n",
    "print(statistics_api.min_max(session,  series_1_id))\n",
    "#print(statistics_api.pearson(session,  series_1_id, series_2_id, alternative))\n",
    "#print(statistics_api.spearman(session,  series_1_id, series_2_id, alternative, type_ranking))\n",
    "#print(statistics_api.chisquare(session,  series_1_id, series_2_id))\n",
    "#print(statistics_api.kolmogorovSmirnovTest(session,  series_1_id, type_distribution, type_ranking))\n",
    "\n",
    "print(statistics_api.levene_test(session,  series_1_id, series_2_id))\n",
    "print(statistics_api.mann_whitney_u_test(session,  series_1_id, series_2_id, alternative, type_ranking))\n",
    "\n",
    "print(statistics_api.paired_t_test(session,  series_1_id, series_2_id, alternative))\n",
    "print(statistics_api.student_t_test(session,  series_1_id, series_2_id, alternative))\n",
    "print(statistics_api.welch_t_test(session,  series_1_id, series_2_id, alternative))\n",
    "\n",
    "#print(statistics_api.wilcoxon_signed_rank_test(session,  series_1_id, series_2_id, alternative, type_ranking))\n",
    "\n",
    "\n",
    "dict_of_fig = visualization_api.histogram(session, series_1_id, 20)\n",
    "fig = go.Figure(dict_of_fig[\"figure\"])\n",
    "fig.show()\n",
    "\n",
    "\n",
    "dict_of_fig = visualization_api.kernel_density_estimation(session, series_1_id, 2)\n",
    "fig = go.Figure(dict_of_fig[\"figure\"])\n",
    "fig.show()\n",
    "\n",
    "\n"
   ]
  },
  {
   "cell_type": "code",
   "execution_count": null,
   "metadata": {},
   "outputs": [],
   "source": []
  }
 ],
 "metadata": {
  "kernelspec": {
   "display_name": "Python 3 (ipykernel)",
   "language": "python",
   "name": "python3"
  },
  "language_info": {
   "codemirror_mode": {
    "name": "ipython",
    "version": 3
   },
   "file_extension": ".py",
   "mimetype": "text/x-python",
   "name": "python",
   "nbconvert_exporter": "python",
   "pygments_lexer": "ipython3",
   "version": "3.8.10"
  },
  "vscode": {
   "interpreter": {
    "hash": "229c0ee7a8d57afd62214254ad4dcd3448989c886ec30669907354b54cc615b5"
   }
  }
 },
 "nbformat": 4,
 "nbformat_minor": 2
}
