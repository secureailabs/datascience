{
 "cells": [
  {
   "cell_type": "markdown",
   "metadata": {},
   "source": [
    "# Federated Averaging Logistic Regression"
   ]
  },
  {
   "cell_type": "markdown",
   "metadata": {},
   "source": [
    "## Set up Data Federation"
   ]
  },
  {
   "cell_type": "code",
   "execution_count": 47,
   "metadata": {},
   "outputs": [],
   "source": [
    "import pandas as pd\n",
    "from sklearn.preprocessing import OneHotEncoder\n",
    "from sklearn.datasets import load_iris\n",
    "\n",
    "def get_iris_dataframe():\n",
    "\n",
    "    iris = load_iris()\n",
    "    df1 = pd.DataFrame(iris.data, columns=iris.feature_names)\n",
    "    target = iris.target_names\n",
    "    encoder = OneHotEncoder(sparse=False)\n",
    "    target =encoder.fit_transform(iris.target.reshape(-1, 1))\n",
    "    df2 =pd.get_dummies(pd.DataFrame(target, columns=iris.target_names))\n",
    "    dataframe = pd.concat([df1, df2], axis=1)\n",
    "\n",
    "    return dataframe\n",
    "\n",
    "def get_test_federation_split(df1):\n",
    "\n",
    "    train = df1.sample(frac=0.8,random_state=0)\n",
    "    test = df1.drop(train.index)\n",
    "\n",
    "    train1 = train.sample(frac=0.5,random_state=0)\n",
    "    train2 = train.drop(train1.index)\n",
    "\n",
    "    return train1, train2, test\n",
    "\n",
    "dataframe = get_iris_dataframe()\n",
    "train_1, train_2, test = get_test_federation_split(dataframe)\n",
    "data_federation = [train_1, train_2]"
   ]
  },
  {
   "cell_type": "markdown",
   "metadata": {},
   "source": [
    "## Run Federated Averaging"
   ]
  },
  {
   "cell_type": "code",
   "execution_count": 49,
   "metadata": {},
   "outputs": [],
   "source": [
    "from sail_safe_functions_orchestrator.machine_learning.federated_averaging import federated_averaging\n",
    "from helper_libs.shared.models.LogisticRegression import LogisticRegression\n",
    "\n",
    "\n",
    "X_col = ['sepal length (cm)', 'sepal width (cm)', 'petal length (cm)', 'petal width (cm)']\n",
    "Y_col = ['setosa', 'versicolor', 'virginica']\n",
    "in_layer = len(X_col)\n",
    "out_layer = len(Y_col)\n",
    "optimizer = \"SGD\"\n",
    "criterion = \"MSELoss\"\n",
    "starting_model = LogisticRegression(in_layer, out_layer)\n",
    "learn_rate = 0.1\n",
    "epochs=5000\n",
    "federal_epochs=2\n",
    "\n",
    "model = federated_averaging(epochs, federal_epochs, data_federation, X_col, Y_col, learn_rate, starting_model, criterion, optimizer)"
   ]
  },
  {
   "cell_type": "markdown",
   "metadata": {},
   "source": [
    "### Compare Random and Trained Models"
   ]
  },
  {
   "cell_type": "code",
   "execution_count": 59,
   "metadata": {},
   "outputs": [
    {
     "name": "stderr",
     "output_type": "stream",
     "text": [
      "/tmp/ipykernel_11102/1403080379.py:19: UserWarning: color is redundantly defined by the 'color' keyword argument and the fmt string \"go\" (-> color='g'). The keyword argument will take precedence.\n",
      "  plt.plot(column_a, predictions, 'go', label='Predictions', color=\"red\", alpha=0.2)\n"
     ]
    },
    {
     "data": {
      "image/png": "[encoded data removed]",
      "text/plain": [
       "<Figure size 432x288 with 1 Axes>"
      ]
     },
     "metadata": {
      "needs_background": "light"
     },
     "output_type": "display_data"
    },
    {
     "name": "stderr",
     "output_type": "stream",
     "text": [
      "/tmp/ipykernel_11102/1403080379.py:19: UserWarning: color is redundantly defined by the 'color' keyword argument and the fmt string \"go\" (-> color='g'). The keyword argument will take precedence.\n",
      "  plt.plot(column_a, predictions, 'go', label='Predictions', color=\"red\", alpha=0.2)\n"
     ]
    },
    {
     "data": {
      "image/png": "[encoded data removed]",
      "text/plain": [
       "<Figure size 432x288 with 1 Axes>"
      ]
     },
     "metadata": {
      "needs_background": "light"
     },
     "output_type": "display_data"
    }
   ],
   "source": [
    "import torch\n",
    "import matplotlib.pyplot as plt\n",
    "\n",
    "def print_graph(predicted, x_train, y_train):\n",
    "\n",
    "\n",
    "    predictions = []\n",
    "    for prediction in predicted:\n",
    "            predictions.append(prediction.argmax())\n",
    "\n",
    "    labels = []\n",
    "    for y in y_train:\n",
    "            labels.append(int(y.argmax()))\n",
    "\n",
    "    column_a = []\n",
    "    for x in x_train:\n",
    "        column_a.append(x[1])\n",
    "\n",
    "    plt.plot(column_a, labels, 'go', label='True data', alpha=0.2)\n",
    "    plt.plot(column_a, predictions, 'go', label='Predictions', color=\"red\", alpha=0.2)\n",
    "    plt.legend(loc='best')\n",
    "    plt.show()\n",
    "\n",
    "X_test = torch.Tensor(test[X_col].values).float()\n",
    "Y_test = torch.Tensor(test[Y_col].values).float()\n",
    "\n",
    "predicted = starting_model(X_test)\n",
    "print_graph(predicted, X_test, Y_test)\n",
    "\n",
    "predicted = model(torch.Tensor(test[X_col].values).float())\n",
    "print_graph(predicted, X_test, Y_test)"
   ]
  }
 ],
 "metadata": {
  "interpreter": {
   "hash": "916dbcbb3f70747c44a77c7bcd40155683ae19c65e1c03b4aa3499c5328201f1"
  },
  "kernelspec": {
   "display_name": "Python 3.8.10 64-bit",
   "language": "python",
   "name": "python3"
  },
  "language_info": {
   "codemirror_mode": {
    "name": "ipython",
    "version": 3
   },
   "file_extension": ".py",
   "mimetype": "text/x-python",
   "name": "python",
   "nbconvert_exporter": "python",
   "pygments_lexer": "ipython3",
   "version": "3.8.10"
  },
  "orig_nbformat": 4
 },
 "nbformat": 4,
 "nbformat_minor": 2
}
