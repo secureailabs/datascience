{
 "cells": [
  {
   "cell_type": "code",
   "execution_count": 1,
   "metadata": {},
   "outputs": [],
   "source": [
    "import matplotlib.pyplot as plt\n",
    "\n",
    "def print_graph(predicted, x_train, y_train):\n",
    "\n",
    "\n",
    "    predictions = []\n",
    "    for prediction in predicted:\n",
    "            predictions.append(prediction.argmax())\n",
    "\n",
    "    labels = []\n",
    "    for y in y_train:\n",
    "            labels.append(y.argmax())\n",
    "\n",
    "    column_a = []\n",
    "    for x in x_train:\n",
    "        column_a.append(x[1])\n",
    "\n",
    "    plt.plot(column_a, labels, 'go', label='True data', alpha=0.2)\n",
    "    plt.plot(column_a, predictions, 'go', label='Predictions', color=\"red\", alpha=0.2)\n",
    "    plt.legend(loc='best')\n",
    "    plt.show()"
   ]
  },
  {
   "cell_type": "markdown",
   "metadata": {},
   "source": [
    "### Set up dataset"
   ]
  },
  {
   "cell_type": "code",
   "execution_count": 2,
   "metadata": {},
   "outputs": [],
   "source": [
    "import numpy\n",
    "\n",
    "def unison_shuffled_copies(a, b):\n",
    "    assert len(a) == len(b)\n",
    "    numpy.random.seed (1)\n",
    "    p = numpy.random.permutation(len(a))\n",
    "    return a[p], b[p]"
   ]
  },
  {
   "cell_type": "code",
   "execution_count": 7,
   "metadata": {},
   "outputs": [],
   "source": [
    "import torch\n",
    "from sklearn.datasets import load_iris\n",
    "from sklearn.preprocessing import OneHotEncoder\n",
    "\n",
    "# Bring in model from shared helper lib\n",
    "from helper_libs.shared.models.LogisticRegression import LogisticRegression\n",
    "\n",
    "\n",
    "iris = load_iris()\n",
    "\n",
    "\n",
    "encoder = OneHotEncoder(sparse=False)\n",
    "x_train = iris.data\n",
    "y_train =encoder.fit_transform(iris.target.reshape(-1, 1))\n",
    "x_train = torch.from_numpy(x_train)\n",
    "y_train = torch.from_numpy(y_train)\n",
    "x_train = x_train.float()\n",
    "y_train = y_train.float()\n",
    "\n",
    "x_train, y_train = unison_shuffled_copies(x_train, y_train)\n",
    "\n",
    "data_federation = [[x_train[0:64], y_train[0:64]], [x_train[65:129], y_train[65:129]]]\n",
    "\n",
    "x_test = x_train[130:149]\n",
    "y_test = y_train[130:149]\n",
    "\n",
    "in_layer = len(x_train[0])\n",
    "out_layer = len(y_train[0])\n",
    "optimizer = \"SGD\"\n",
    "criterion = \"MSELoss\"\n",
    "starting_model = LogisticRegression(in_layer, out_layer)\n",
    "learn_rate = 0.1\n",
    "epochs=5000\n",
    "federal_epochs=2"
   ]
  },
  {
   "cell_type": "code",
   "execution_count": 8,
   "metadata": {},
   "outputs": [],
   "source": [
    "from sail_safe_functions_orchestrator.machine_learning.federated_averaging import federated_averaging\n",
    "\n",
    "model = federated_averaging(epochs, federal_epochs, data_federation, learn_rate, starting_model, criterion, optimizer)"
   ]
  },
  {
   "cell_type": "markdown",
   "metadata": {},
   "source": [
    "### Model Before and After"
   ]
  },
  {
   "cell_type": "code",
   "execution_count": 9,
   "metadata": {},
   "outputs": [
    {
     "name": "stderr",
     "output_type": "stream",
     "text": [
      "/tmp/ipykernel_7543/514534770.py:19: UserWarning: color is redundantly defined by the 'color' keyword argument and the fmt string \"go\" (-> color='g'). The keyword argument will take precedence.\n",
      "  plt.plot(column_a, predictions, 'go', label='Predictions', color=\"red\", alpha=0.2)\n"
     ]
    },
    {
     "data": {
      "image/png": "[encoded data removed]",
      "text/plain": [
       "<Figure size 432x288 with 1 Axes>"
      ]
     },
     "metadata": {
      "needs_background": "light"
     },
     "output_type": "display_data"
    },
    {
     "data": {
      "image/png": "[encoded data removed]",
      "text/plain": [
       "<Figure size 432x288 with 1 Axes>"
      ]
     },
     "metadata": {
      "needs_background": "light"
     },
     "output_type": "display_data"
    }
   ],
   "source": [
    "predicted = starting_model(x_test)\n",
    "print_graph(predicted, x_test, y_test)\n",
    "\n",
    "predicted = model(x_test)\n",
    "print_graph(predicted, x_test, y_test)"
   ]
  }
 ],
 "metadata": {
  "interpreter": {
   "hash": "916dbcbb3f70747c44a77c7bcd40155683ae19c65e1c03b4aa3499c5328201f1"
  },
  "kernelspec": {
   "display_name": "Python 3.8.10 64-bit",
   "language": "python",
   "name": "python3"
  },
  "language_info": {
   "codemirror_mode": {
    "name": "ipython",
    "version": 3
   },
   "file_extension": ".py",
   "mimetype": "text/x-python",
   "name": "python",
   "nbconvert_exporter": "python",
   "pygments_lexer": "ipython3",
   "version": "3.8.10"
  },
  "orig_nbformat": 4
 },
 "nbformat": 4,
 "nbformat_minor": 2
}
