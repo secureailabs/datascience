{
 "cells": [
  {
   "cell_type": "markdown",
   "metadata": {},
   "source": [
    "# Federated Averaging Logistic Regression"
   ]
  },
  {
   "cell_type": "markdown",
   "metadata": {},
   "source": [
    "## Set up Data Federation"
   ]
  },
  {
   "cell_type": "code",
   "execution_count": 114,
   "metadata": {},
   "outputs": [],
   "source": [
    "import pandas as pd\n",
    "from sklearn.preprocessing import OneHotEncoder\n",
    "from sklearn.datasets import load_iris\n",
    "import numpy as np\n",
    "import torch\n",
    "\n",
    "random_seed = 1\n",
    "torch.manual_seed(random_seed)\n",
    "torch.cuda.manual_seed(random_seed)\n",
    "torch.backends.cudnn.deterministic = True\n",
    "torch.backends.cudnn.benchmark = False\n",
    "np.random.seed(random_seed)\n",
    "\n",
    "def get_kidney_dataframe():\n",
    "\n",
    "    DATA_PATH = \"../../sail-safe-functions-test/sail_safe_functions_test/data_sail_safe_functions\"\n",
    "    path_file_csv = os.path.join(DATA_PATH, \"data_csv_kidney_clean\", \"kidney_disease_clean.csv\")\n",
    "    df =  pd.read_csv(path_file_csv)\n",
    "    df = pd.get_dummies(data=df)\n",
    "\n",
    "    return df\n",
    "\n",
    "def get_test_federation_split(df):\n",
    "\n",
    "    train = df.sample(frac=0.8)\n",
    "    test = df.drop(train.index)\n",
    "    \n",
    "    shuffled = train.sample(frac=1)\n",
    "    result = np.array_split(shuffled, 5)  \n",
    "\n",
    "    return result, test\n",
    "\n",
    "dataframe = get_kidney_dataframe()\n",
    "\n",
    "data_federation, test = get_test_federation_split(dataframe)"
   ]
  },
  {
   "cell_type": "markdown",
   "metadata": {},
   "source": [
    "## Run Federated Averaging"
   ]
  },
  {
   "cell_type": "code",
   "execution_count": 115,
   "metadata": {},
   "outputs": [],
   "source": [
    "from sail_safe_functions_orchestrator.machine_learning.federated_averaging import federated_averaging\n",
    "from helper_libs.shared.models.LogisticRegression import LogisticRegression\n",
    "\n",
    "X_col = ['age', 'bp', 'sg', 'al']\n",
    "Y_col = ['classification_ckd']\n",
    "in_layer = len(X_col)\n",
    "out_layer = len(Y_col)\n",
    "optimizer = \"SGD\"\n",
    "criterion = \"BCELoss\"\n",
    "starting_model = LogisticRegression(in_layer, out_layer)\n",
    "learn_rate = 0.001\n",
    "epochs=2500\n",
    "federal_epochs=4\n",
    "\n",
    "model = federated_averaging(epochs, federal_epochs, data_federation, X_col, Y_col, learn_rate, starting_model, criterion, optimizer)"
   ]
  },
  {
   "cell_type": "markdown",
   "metadata": {},
   "source": [
    "### Compare Random and Trained Models"
   ]
  },
  {
   "cell_type": "code",
   "execution_count": 116,
   "metadata": {},
   "outputs": [
    {
     "name": "stderr",
     "output_type": "stream",
     "text": [
      "/tmp/ipykernel_10259/2594879964.py:15: UserWarning: color is redundantly defined by the 'color' keyword argument and the fmt string \"go\" (-> color='g'). The keyword argument will take precedence.\n",
      "  plt.plot(column_a, predictions, 'go', label='Predictions', color=\"red\", alpha=0.2)\n"
     ]
    },
    {
     "data": {
      "image/png": "[encoded data removed]",
      "text/plain": [
       "<Figure size 432x288 with 1 Axes>"
      ]
     },
     "metadata": {
      "needs_background": "light"
     },
     "output_type": "display_data"
    },
    {
     "data": {
      "image/png": "[encoded data removed]",
      "text/plain": [
       "<Figure size 432x288 with 1 Axes>"
      ]
     },
     "metadata": {
      "needs_background": "light"
     },
     "output_type": "display_data"
    }
   ],
   "source": [
    "import torch\n",
    "import matplotlib.pyplot as plt\n",
    "\n",
    "def print_graph(predicted, x_train, y_train):\n",
    "\n",
    "    predictions = predicted\n",
    "    labels = y_train\n",
    "\n",
    "\n",
    "    column_a = []\n",
    "    for x in x_train:\n",
    "        column_a.append(x[0])\n",
    "\n",
    "    plt.plot(column_a, labels, 'go', label='True data', alpha=0.2)\n",
    "    plt.plot(column_a, predictions, 'go', label='Predictions', color=\"red\", alpha=0.2)\n",
    "    plt.legend(loc='best')\n",
    "    plt.show()\n",
    "\n",
    "X_test = torch.Tensor(test[X_col].values).float()\n",
    "Y_test = torch.Tensor(test[Y_col].values).float()\n",
    "\n",
    "\n",
    "predicted = starting_model(X_test).detach().numpy()\n",
    "print_graph(predicted, X_test, Y_test)\n",
    "\n",
    "predicted = model(X_test).detach().numpy()\n",
    "print_graph(predicted, X_test, Y_test)"
   ]
  },
  {
   "cell_type": "code",
   "execution_count": 117,
   "metadata": {},
   "outputs": [],
   "source": [
    "from sklearn.metrics import precision_score, recall_score, f1_score\n",
    "\n",
    "def score_model(predicted, Y_test):\n",
    "    predictions = predicted\n",
    "\n",
    "    labels = Y_test\n",
    "\n",
    "    precision = precision_score(predictions, labels, average=\"weighted\")\n",
    "    recall = recall_score(predictions, labels, average=\"weighted\")\n",
    "    f1 = f1_score(predictions, labels, average=\"weighted\")\n",
    "\n",
    "    return precision, recall, f1"
   ]
  },
  {
   "cell_type": "code",
   "execution_count": 118,
   "metadata": {},
   "outputs": [
    {
     "name": "stdout",
     "output_type": "stream",
     "text": [
      "(1.0, 0.6125, 0.7596899224806202)\n"
     ]
    },
    {
     "name": "stderr",
     "output_type": "stream",
     "text": [
      "/mnt/c/Users/AdamHall/Documents/GitHub/datascience/venv38_sail/lib/python3.8/site-packages/sklearn/metrics/_classification.py:1318: UndefinedMetricWarning: Recall is ill-defined and being set to 0.0 in labels with no true samples. Use `zero_division` parameter to control this behavior.\n",
      "  _warn_prf(average, modifier, msg_start, len(result))\n"
     ]
    }
   ],
   "source": [
    "#Binarize continuous classifications\n",
    "predictions = []\n",
    "for prediction in predicted: \n",
    "    if prediction > 0.5:\n",
    "        predictions.append(1)\n",
    "    else:\n",
    "        predictions.append(0)\n",
    "\n",
    "print(score_model(predictions, Y_test))"
   ]
  },
  {
   "cell_type": "code",
   "execution_count": null,
   "metadata": {},
   "outputs": [],
   "source": []
  }
 ],
 "metadata": {
  "interpreter": {
   "hash": "916dbcbb3f70747c44a77c7bcd40155683ae19c65e1c03b4aa3499c5328201f1"
  },
  "kernelspec": {
   "display_name": "Python 3.8.10 64-bit",
   "language": "python",
   "name": "python3"
  },
  "language_info": {
   "codemirror_mode": {
    "name": "ipython",
    "version": 3
   },
   "file_extension": ".py",
   "mimetype": "text/x-python",
   "name": "python",
   "nbconvert_exporter": "python",
   "pygments_lexer": "ipython3",
   "version": "3.8.10"
  },
  "orig_nbformat": 4
 },
 "nbformat": 4,
 "nbformat_minor": 2
}
