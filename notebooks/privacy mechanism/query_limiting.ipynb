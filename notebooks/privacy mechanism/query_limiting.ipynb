{
 "cells": [
  {
   "cell_type": "markdown",
   "metadata": {},
   "source": [
    "# Query Limiting\n",
    "\n",
    "Aims: This notebook will demonstrate query limiting on the SCN side. This will include; \n",
    "\n",
    "- A new additon to the SCN side helper lib: *privacy_sentinel*\n",
    "    - privacy_sentinel contains the logic to be used by safe objects in order to vet their execution\n",
    "    - privacy_sentinel vets execution at the computation layer but sentinel logic could be used by layers below to vet incoming jobs.\n",
    "- This demo contains one statistical function which has been modified to accomodate for query limiting logic"
   ]
  },
  {
   "cell_type": "markdown",
   "metadata": {},
   "source": [
    "## 1. The Privacy Sentinel MVP\n",
    "\n",
    "- Contains generic logic to stop queries on samples under N size. \n",
    "- Until an appropriate value for N is determined, N is a constant value for all query types."
   ]
  },
  {
   "cell_type": "code",
   "execution_count": 36,
   "metadata": {},
   "outputs": [
    {
     "name": "stdout",
     "output_type": "stream",
     "text": [
      "True\n"
     ]
    },
    {
     "ename": "NameError",
     "evalue": "Too few samples",
     "output_type": "error",
     "traceback": [
      "\u001b[0;31m---------------------------------------------------------------------------\u001b[0m",
      "\u001b[0;31mNameError\u001b[0m                                 Traceback (most recent call last)",
      "\u001b[1;32m/mnt/c/Users/AdamHall/Documents/GitHub/datascience/notebooks/privacy mechanism/query_limiting.ipynb Cell 3\u001b[0m in \u001b[0;36m<cell line: 25>\u001b[0;34m()\u001b[0m\n\u001b[1;32m     <a href='vscode-notebook-cell://wsl%2Bubuntu20.04lts/mnt/c/Users/AdamHall/Documents/GitHub/datascience/notebooks/privacy%20mechanism/query_limiting.ipynb#W2sdnNjb2RlLXJlbW90ZQ%3D%3D?line=21'>22</a>\u001b[0m             \u001b[39mreturn\u001b[39;00m \u001b[39mTrue\u001b[39;00m\n\u001b[1;32m     <a href='vscode-notebook-cell://wsl%2Bubuntu20.04lts/mnt/c/Users/AdamHall/Documents/GitHub/datascience/notebooks/privacy%20mechanism/query_limiting.ipynb#W2sdnNjb2RlLXJlbW90ZQ%3D%3D?line=23'>24</a>\u001b[0m \u001b[39mprint\u001b[39m(PrivacySentinel\u001b[39m.\u001b[39mquery_limit_n(\u001b[39m10\u001b[39m))\n\u001b[0;32m---> <a href='vscode-notebook-cell://wsl%2Bubuntu20.04lts/mnt/c/Users/AdamHall/Documents/GitHub/datascience/notebooks/privacy%20mechanism/query_limiting.ipynb#W2sdnNjb2RlLXJlbW90ZQ%3D%3D?line=24'>25</a>\u001b[0m PrivacySentinel\u001b[39m.\u001b[39;49mquery_limit_n(\u001b[39m9\u001b[39;49m)\n",
      "\u001b[1;32m/mnt/c/Users/AdamHall/Documents/GitHub/datascience/notebooks/privacy mechanism/query_limiting.ipynb Cell 3\u001b[0m in \u001b[0;36mPrivacySentinel.query_limit_n\u001b[0;34m(num_samples, n)\u001b[0m\n\u001b[1;32m      <a href='vscode-notebook-cell://wsl%2Bubuntu20.04lts/mnt/c/Users/AdamHall/Documents/GitHub/datascience/notebooks/privacy%20mechanism/query_limiting.ipynb#W2sdnNjb2RlLXJlbW90ZQ%3D%3D?line=8'>9</a>\u001b[0m \u001b[39m\"\"\"\u001b[39;00m\n\u001b[1;32m     <a href='vscode-notebook-cell://wsl%2Bubuntu20.04lts/mnt/c/Users/AdamHall/Documents/GitHub/datascience/notebooks/privacy%20mechanism/query_limiting.ipynb#W2sdnNjb2RlLXJlbW90ZQ%3D%3D?line=9'>10</a>\u001b[0m \u001b[39mBlocks a query if the number of samples is under a threshold n.\u001b[39;00m\n\u001b[1;32m     <a href='vscode-notebook-cell://wsl%2Bubuntu20.04lts/mnt/c/Users/AdamHall/Documents/GitHub/datascience/notebooks/privacy%20mechanism/query_limiting.ipynb#W2sdnNjb2RlLXJlbW90ZQ%3D%3D?line=10'>11</a>\u001b[0m \n\u001b[0;32m   (...)\u001b[0m\n\u001b[1;32m     <a href='vscode-notebook-cell://wsl%2Bubuntu20.04lts/mnt/c/Users/AdamHall/Documents/GitHub/datascience/notebooks/privacy%20mechanism/query_limiting.ipynb#W2sdnNjb2RlLXJlbW90ZQ%3D%3D?line=16'>17</a>\u001b[0m \u001b[39m:type: Boolean\u001b[39;00m\n\u001b[1;32m     <a href='vscode-notebook-cell://wsl%2Bubuntu20.04lts/mnt/c/Users/AdamHall/Documents/GitHub/datascience/notebooks/privacy%20mechanism/query_limiting.ipynb#W2sdnNjb2RlLXJlbW90ZQ%3D%3D?line=17'>18</a>\u001b[0m \u001b[39m\"\"\"\u001b[39;00m\n\u001b[1;32m     <a href='vscode-notebook-cell://wsl%2Bubuntu20.04lts/mnt/c/Users/AdamHall/Documents/GitHub/datascience/notebooks/privacy%20mechanism/query_limiting.ipynb#W2sdnNjb2RlLXJlbW90ZQ%3D%3D?line=18'>19</a>\u001b[0m \u001b[39mif\u001b[39;00m num_samples \u001b[39m<\u001b[39m n:\n\u001b[0;32m---> <a href='vscode-notebook-cell://wsl%2Bubuntu20.04lts/mnt/c/Users/AdamHall/Documents/GitHub/datascience/notebooks/privacy%20mechanism/query_limiting.ipynb#W2sdnNjb2RlLXJlbW90ZQ%3D%3D?line=19'>20</a>\u001b[0m     \u001b[39mraise\u001b[39;00m \u001b[39mNameError\u001b[39;00m(\u001b[39m\"\u001b[39m\u001b[39mToo few samples\u001b[39m\u001b[39m\"\u001b[39m)\n\u001b[1;32m     <a href='vscode-notebook-cell://wsl%2Bubuntu20.04lts/mnt/c/Users/AdamHall/Documents/GitHub/datascience/notebooks/privacy%20mechanism/query_limiting.ipynb#W2sdnNjb2RlLXJlbW90ZQ%3D%3D?line=20'>21</a>\u001b[0m \u001b[39melse\u001b[39;00m:\n\u001b[1;32m     <a href='vscode-notebook-cell://wsl%2Bubuntu20.04lts/mnt/c/Users/AdamHall/Documents/GitHub/datascience/notebooks/privacy%20mechanism/query_limiting.ipynb#W2sdnNjb2RlLXJlbW90ZQ%3D%3D?line=21'>22</a>\u001b[0m     \u001b[39mreturn\u001b[39;00m \u001b[39mTrue\u001b[39;00m\n",
      "\u001b[0;31mNameError\u001b[0m: Too few samples"
     ]
    }
   ],
   "source": [
    "class PrivacySentinel:\n",
    "    \"\"\"\n",
    "    A helper Library to be used on the SCN side to vet query privacy.\n",
    "    \"\"\"\n",
    "\n",
    "    @staticmethod\n",
    "    def query_limit_n(num_samples: int, n: int = 10) -> bool:\n",
    "        \"\"\"\n",
    "        Blocks a query if the number of samples is under a threshold n.\n",
    "\n",
    "        :param: samples: The List of samples\n",
    "        :type: Integer\n",
    "        :param: n: The threshold limit on number of samples (default=10)\n",
    "        :type: Integer\n",
    "        :return: Whether the number of samples is above the threshold\n",
    "        :type: Boolean\n",
    "        \"\"\"\n",
    "        if num_samples < n:\n",
    "            raise NameError(\"Too few samples\")\n",
    "        else:\n",
    "            return True\n",
    "\n",
    "print(PrivacySentinel.query_limit_n(10))\n",
    "PrivacySentinel.query_limit_n(9)"
   ]
  },
  {
   "cell_type": "markdown",
   "metadata": {},
   "source": [
    "## 2. Applying the Privacy Sentinel to a Mean Function\n",
    "\n",
    "The precompute step is relevant to the computation here more than the aggregation step as it is what interacts directly with the data. This is why I chose that for mean queary limiting. There are two archetectural choices for how we implement sentinel checks:\n",
    "\n",
    "- We add sentinel calls internally to safe functions\n",
    "    - This is archetecturally simple but individual sentinel calls in functions must be implemented and maintained\n",
    "- We add sentinel calls before to metadata to be run before a safe function is initialised\n",
    "    - This is more complicated, involving some pre-exection step to be defined for safe functions.\n",
    "    - metadata will still need to eb unique for each function\n",
    "    - it's not clear that this is more or less complex to maintain\n",
    "\n",
    "\n",
    "I put in something which accomodates for both for us to decide on."
   ]
  },
  {
   "cell_type": "markdown",
   "metadata": {},
   "source": [
    "### 2.1 Running Inside the SAFE function "
   ]
  },
  {
   "cell_type": "code",
   "execution_count": 37,
   "metadata": {},
   "outputs": [
    {
     "name": "stdout",
     "output_type": "stream",
     "text": [
      "5.5\n",
      "[55, 10]\n"
     ]
    },
    {
     "ename": "NameError",
     "evalue": "Too few samples",
     "output_type": "error",
     "traceback": [
      "\u001b[0;31m---------------------------------------------------------------------------\u001b[0m",
      "\u001b[0;31mNameError\u001b[0m                                 Traceback (most recent call last)",
      "\u001b[1;32m/mnt/c/Users/AdamHall/Documents/GitHub/datascience/notebooks/privacy mechanism/query_limiting.ipynb Cell 6\u001b[0m in \u001b[0;36m<cell line: 36>\u001b[0;34m()\u001b[0m\n\u001b[1;32m     <a href='vscode-notebook-cell://wsl%2Bubuntu20.04lts/mnt/c/Users/AdamHall/Documents/GitHub/datascience/notebooks/privacy%20mechanism/query_limiting.ipynb#W3sdnNjb2RlLXJlbW90ZQ%3D%3D?line=32'>33</a>\u001b[0m \u001b[39mprint\u001b[39m(MeanPrecomputeSAFE\u001b[39m.\u001b[39mrun(sample))\n\u001b[1;32m     <a href='vscode-notebook-cell://wsl%2Bubuntu20.04lts/mnt/c/Users/AdamHall/Documents/GitHub/datascience/notebooks/privacy%20mechanism/query_limiting.ipynb#W3sdnNjb2RlLXJlbW90ZQ%3D%3D?line=34'>35</a>\u001b[0m sample \u001b[39m=\u001b[39m pd\u001b[39m.\u001b[39mSeries(np\u001b[39m.\u001b[39marray([\u001b[39m1\u001b[39m, \u001b[39m2\u001b[39m, \u001b[39m3\u001b[39m, \u001b[39m4\u001b[39m, \u001b[39m5\u001b[39m, \u001b[39m6\u001b[39m, \u001b[39m7\u001b[39m, \u001b[39m8\u001b[39m, \u001b[39m9\u001b[39m]))\n\u001b[0;32m---> <a href='vscode-notebook-cell://wsl%2Bubuntu20.04lts/mnt/c/Users/AdamHall/Documents/GitHub/datascience/notebooks/privacy%20mechanism/query_limiting.ipynb#W3sdnNjb2RlLXJlbW90ZQ%3D%3D?line=35'>36</a>\u001b[0m \u001b[39mprint\u001b[39m(MeanPrecomputeSAFE\u001b[39m.\u001b[39;49mrun(sample))\n",
      "\u001b[1;32m/mnt/c/Users/AdamHall/Documents/GitHub/datascience/notebooks/privacy mechanism/query_limiting.ipynb Cell 6\u001b[0m in \u001b[0;36mMeanPrecomputeSAFE.run\u001b[0;34m(sample_0_dataframe)\u001b[0m\n\u001b[1;32m     <a href='vscode-notebook-cell://wsl%2Bubuntu20.04lts/mnt/c/Users/AdamHall/Documents/GitHub/datascience/notebooks/privacy%20mechanism/query_limiting.ipynb#W3sdnNjb2RlLXJlbW90ZQ%3D%3D?line=11'>12</a>\u001b[0m \u001b[39mdef\u001b[39;00m \u001b[39mrun\u001b[39m(\n\u001b[1;32m     <a href='vscode-notebook-cell://wsl%2Bubuntu20.04lts/mnt/c/Users/AdamHall/Documents/GitHub/datascience/notebooks/privacy%20mechanism/query_limiting.ipynb#W3sdnNjb2RlLXJlbW90ZQ%3D%3D?line=12'>13</a>\u001b[0m     sample_0_dataframe: pd\u001b[39m.\u001b[39mSeries,\n\u001b[1;32m     <a href='vscode-notebook-cell://wsl%2Bubuntu20.04lts/mnt/c/Users/AdamHall/Documents/GitHub/datascience/notebooks/privacy%20mechanism/query_limiting.ipynb#W3sdnNjb2RlLXJlbW90ZQ%3D%3D?line=13'>14</a>\u001b[0m ) \u001b[39m-\u001b[39m\u001b[39m>\u001b[39m Tuple[\n\u001b[0;32m   (...)\u001b[0m\n\u001b[1;32m     <a href='vscode-notebook-cell://wsl%2Bubuntu20.04lts/mnt/c/Users/AdamHall/Documents/GitHub/datascience/notebooks/privacy%20mechanism/query_limiting.ipynb#W3sdnNjb2RlLXJlbW90ZQ%3D%3D?line=16'>17</a>\u001b[0m \n\u001b[1;32m     <a href='vscode-notebook-cell://wsl%2Bubuntu20.04lts/mnt/c/Users/AdamHall/Documents/GitHub/datascience/notebooks/privacy%20mechanism/query_limiting.ipynb#W3sdnNjb2RlLXJlbW90ZQ%3D%3D?line=17'>18</a>\u001b[0m     \u001b[39m#SENTINEL CODE\u001b[39;00m\n\u001b[0;32m---> <a href='vscode-notebook-cell://wsl%2Bubuntu20.04lts/mnt/c/Users/AdamHall/Documents/GitHub/datascience/notebooks/privacy%20mechanism/query_limiting.ipynb#W3sdnNjb2RlLXJlbW90ZQ%3D%3D?line=18'>19</a>\u001b[0m     PrivacySentinel\u001b[39m.\u001b[39;49mquery_limit_n(\u001b[39mlen\u001b[39;49m(sample_0_dataframe))\n\u001b[1;32m     <a href='vscode-notebook-cell://wsl%2Bubuntu20.04lts/mnt/c/Users/AdamHall/Documents/GitHub/datascience/notebooks/privacy%20mechanism/query_limiting.ipynb#W3sdnNjb2RlLXJlbW90ZQ%3D%3D?line=19'>20</a>\u001b[0m     \u001b[39m#!SENTINEL CODE\u001b[39;00m\n\u001b[1;32m     <a href='vscode-notebook-cell://wsl%2Bubuntu20.04lts/mnt/c/Users/AdamHall/Documents/GitHub/datascience/notebooks/privacy%20mechanism/query_limiting.ipynb#W3sdnNjb2RlLXJlbW90ZQ%3D%3D?line=21'>22</a>\u001b[0m     sample_0 \u001b[39m=\u001b[39m sample_0_dataframe\u001b[39m.\u001b[39mto_numpy()\n",
      "\u001b[1;32m/mnt/c/Users/AdamHall/Documents/GitHub/datascience/notebooks/privacy mechanism/query_limiting.ipynb Cell 6\u001b[0m in \u001b[0;36mPrivacySentinel.query_limit_n\u001b[0;34m(num_samples, n)\u001b[0m\n\u001b[1;32m      <a href='vscode-notebook-cell://wsl%2Bubuntu20.04lts/mnt/c/Users/AdamHall/Documents/GitHub/datascience/notebooks/privacy%20mechanism/query_limiting.ipynb#W3sdnNjb2RlLXJlbW90ZQ%3D%3D?line=8'>9</a>\u001b[0m \u001b[39m\"\"\"\u001b[39;00m\n\u001b[1;32m     <a href='vscode-notebook-cell://wsl%2Bubuntu20.04lts/mnt/c/Users/AdamHall/Documents/GitHub/datascience/notebooks/privacy%20mechanism/query_limiting.ipynb#W3sdnNjb2RlLXJlbW90ZQ%3D%3D?line=9'>10</a>\u001b[0m \u001b[39mBlocks a query if the number of samples is under a threshold n.\u001b[39;00m\n\u001b[1;32m     <a href='vscode-notebook-cell://wsl%2Bubuntu20.04lts/mnt/c/Users/AdamHall/Documents/GitHub/datascience/notebooks/privacy%20mechanism/query_limiting.ipynb#W3sdnNjb2RlLXJlbW90ZQ%3D%3D?line=10'>11</a>\u001b[0m \n\u001b[0;32m   (...)\u001b[0m\n\u001b[1;32m     <a href='vscode-notebook-cell://wsl%2Bubuntu20.04lts/mnt/c/Users/AdamHall/Documents/GitHub/datascience/notebooks/privacy%20mechanism/query_limiting.ipynb#W3sdnNjb2RlLXJlbW90ZQ%3D%3D?line=16'>17</a>\u001b[0m \u001b[39m:type: Boolean\u001b[39;00m\n\u001b[1;32m     <a href='vscode-notebook-cell://wsl%2Bubuntu20.04lts/mnt/c/Users/AdamHall/Documents/GitHub/datascience/notebooks/privacy%20mechanism/query_limiting.ipynb#W3sdnNjb2RlLXJlbW90ZQ%3D%3D?line=17'>18</a>\u001b[0m \u001b[39m\"\"\"\u001b[39;00m\n\u001b[1;32m     <a href='vscode-notebook-cell://wsl%2Bubuntu20.04lts/mnt/c/Users/AdamHall/Documents/GitHub/datascience/notebooks/privacy%20mechanism/query_limiting.ipynb#W3sdnNjb2RlLXJlbW90ZQ%3D%3D?line=18'>19</a>\u001b[0m \u001b[39mif\u001b[39;00m num_samples \u001b[39m<\u001b[39m n:\n\u001b[0;32m---> <a href='vscode-notebook-cell://wsl%2Bubuntu20.04lts/mnt/c/Users/AdamHall/Documents/GitHub/datascience/notebooks/privacy%20mechanism/query_limiting.ipynb#W3sdnNjb2RlLXJlbW90ZQ%3D%3D?line=19'>20</a>\u001b[0m     \u001b[39mraise\u001b[39;00m \u001b[39mNameError\u001b[39;00m(\u001b[39m\"\u001b[39m\u001b[39mToo few samples\u001b[39m\u001b[39m\"\u001b[39m)\n\u001b[1;32m     <a href='vscode-notebook-cell://wsl%2Bubuntu20.04lts/mnt/c/Users/AdamHall/Documents/GitHub/datascience/notebooks/privacy%20mechanism/query_limiting.ipynb#W3sdnNjb2RlLXJlbW90ZQ%3D%3D?line=20'>21</a>\u001b[0m \u001b[39melse\u001b[39;00m:\n\u001b[1;32m     <a href='vscode-notebook-cell://wsl%2Bubuntu20.04lts/mnt/c/Users/AdamHall/Documents/GitHub/datascience/notebooks/privacy%20mechanism/query_limiting.ipynb#W3sdnNjb2RlLXJlbW90ZQ%3D%3D?line=21'>22</a>\u001b[0m     \u001b[39mreturn\u001b[39;00m \u001b[39mTrue\u001b[39;00m\n",
      "\u001b[0;31mNameError\u001b[0m: Too few samples"
     ]
    }
   ],
   "source": [
    "from typing import List, Tuple\n",
    "\n",
    "import numpy as np\n",
    "import pandas as pd\n",
    "\n",
    "\n",
    "class MeanPrecomputeSAFE:\n",
    "    \"\"\"\n",
    "    Precomputes data for computing the mean\n",
    "    \"\"\"\n",
    "\n",
    "    def run(\n",
    "        sample_0_dataframe: pd.Series,\n",
    "    ) -> Tuple[\n",
    "        List[float], List[bool]\n",
    "    ]:  # there seems to be a problem here with this annotation\n",
    "\n",
    "        #SENTINEL CODE\n",
    "        PrivacySentinel.query_limit_n(len(sample_0_dataframe))\n",
    "        #!SENTINEL CODE\n",
    "        \n",
    "        sample_0 = sample_0_dataframe.to_numpy()\n",
    "\n",
    "        sum_x_0 = np.sum(sample_0)\n",
    "        sample_0_degrees_of_freedom = len(sample_0)\n",
    "\n",
    "        list_precompute = [sum_x_0, sample_0_degrees_of_freedom]\n",
    "        # list_safe = [False, False, False, False, False, False ]\n",
    "        return list_precompute  # , list_safe\n",
    "\n",
    "sample = pd.Series(np.array([1, 2, 3, 4, 5, 6, 7, 8, 9, 10]))\n",
    "print(sample.mean())\n",
    "print(MeanPrecomputeSAFE.run(sample))\n",
    "\n",
    "sample = pd.Series(np.array([1, 2, 3, 4, 5, 6, 7, 8, 9]))\n",
    "print(MeanPrecomputeSAFE.run(sample))"
   ]
  },
  {
   "cell_type": "markdown",
   "metadata": {},
   "source": [
    "### 2.2 Running Outside the SAFE function "
   ]
  },
  {
   "cell_type": "code",
   "execution_count": 38,
   "metadata": {},
   "outputs": [
    {
     "name": "stdout",
     "output_type": "stream",
     "text": [
      "5.5\n",
      "[55, 10]\n"
     ]
    },
    {
     "ename": "NameError",
     "evalue": "Too few samples",
     "output_type": "error",
     "traceback": [
      "\u001b[0;31m---------------------------------------------------------------------------\u001b[0m",
      "\u001b[0;31mNameError\u001b[0m                                 Traceback (most recent call last)",
      "\u001b[1;32m/mnt/c/Users/AdamHall/Documents/GitHub/datascience/notebooks/privacy mechanism/query_limiting.ipynb Cell 8\u001b[0m in \u001b[0;36m<cell line: 28>\u001b[0;34m()\u001b[0m\n\u001b[1;32m     <a href='vscode-notebook-cell://wsl%2Bubuntu20.04lts/mnt/c/Users/AdamHall/Documents/GitHub/datascience/notebooks/privacy%20mechanism/query_limiting.ipynb#X10sdnNjb2RlLXJlbW90ZQ%3D%3D?line=24'>25</a>\u001b[0m     \u001b[39mprint\u001b[39m(MeanPrecompute\u001b[39m.\u001b[39mrun(sample))\n\u001b[1;32m     <a href='vscode-notebook-cell://wsl%2Bubuntu20.04lts/mnt/c/Users/AdamHall/Documents/GitHub/datascience/notebooks/privacy%20mechanism/query_limiting.ipynb#X10sdnNjb2RlLXJlbW90ZQ%3D%3D?line=26'>27</a>\u001b[0m sample \u001b[39m=\u001b[39m pd\u001b[39m.\u001b[39mSeries(np\u001b[39m.\u001b[39marray([\u001b[39m1\u001b[39m, \u001b[39m2\u001b[39m, \u001b[39m3\u001b[39m, \u001b[39m4\u001b[39m, \u001b[39m5\u001b[39m, \u001b[39m6\u001b[39m, \u001b[39m7\u001b[39m, \u001b[39m8\u001b[39m, \u001b[39m9\u001b[39m]))\n\u001b[0;32m---> <a href='vscode-notebook-cell://wsl%2Bubuntu20.04lts/mnt/c/Users/AdamHall/Documents/GitHub/datascience/notebooks/privacy%20mechanism/query_limiting.ipynb#X10sdnNjb2RlLXJlbW90ZQ%3D%3D?line=27'>28</a>\u001b[0m \u001b[39mif\u001b[39;00m PrivacySentinel\u001b[39m.\u001b[39;49mquery_limit_n(\u001b[39mlen\u001b[39;49m(sample)):\n\u001b[1;32m     <a href='vscode-notebook-cell://wsl%2Bubuntu20.04lts/mnt/c/Users/AdamHall/Documents/GitHub/datascience/notebooks/privacy%20mechanism/query_limiting.ipynb#X10sdnNjb2RlLXJlbW90ZQ%3D%3D?line=28'>29</a>\u001b[0m     \u001b[39mprint\u001b[39m(MeanPrecompute\u001b[39m.\u001b[39mrun(sample))\n",
      "\u001b[1;32m/mnt/c/Users/AdamHall/Documents/GitHub/datascience/notebooks/privacy mechanism/query_limiting.ipynb Cell 8\u001b[0m in \u001b[0;36mPrivacySentinel.query_limit_n\u001b[0;34m(num_samples, n)\u001b[0m\n\u001b[1;32m      <a href='vscode-notebook-cell://wsl%2Bubuntu20.04lts/mnt/c/Users/AdamHall/Documents/GitHub/datascience/notebooks/privacy%20mechanism/query_limiting.ipynb#X10sdnNjb2RlLXJlbW90ZQ%3D%3D?line=8'>9</a>\u001b[0m \u001b[39m\"\"\"\u001b[39;00m\n\u001b[1;32m     <a href='vscode-notebook-cell://wsl%2Bubuntu20.04lts/mnt/c/Users/AdamHall/Documents/GitHub/datascience/notebooks/privacy%20mechanism/query_limiting.ipynb#X10sdnNjb2RlLXJlbW90ZQ%3D%3D?line=9'>10</a>\u001b[0m \u001b[39mBlocks a query if the number of samples is under a threshold n.\u001b[39;00m\n\u001b[1;32m     <a href='vscode-notebook-cell://wsl%2Bubuntu20.04lts/mnt/c/Users/AdamHall/Documents/GitHub/datascience/notebooks/privacy%20mechanism/query_limiting.ipynb#X10sdnNjb2RlLXJlbW90ZQ%3D%3D?line=10'>11</a>\u001b[0m \n\u001b[0;32m   (...)\u001b[0m\n\u001b[1;32m     <a href='vscode-notebook-cell://wsl%2Bubuntu20.04lts/mnt/c/Users/AdamHall/Documents/GitHub/datascience/notebooks/privacy%20mechanism/query_limiting.ipynb#X10sdnNjb2RlLXJlbW90ZQ%3D%3D?line=16'>17</a>\u001b[0m \u001b[39m:type: Boolean\u001b[39;00m\n\u001b[1;32m     <a href='vscode-notebook-cell://wsl%2Bubuntu20.04lts/mnt/c/Users/AdamHall/Documents/GitHub/datascience/notebooks/privacy%20mechanism/query_limiting.ipynb#X10sdnNjb2RlLXJlbW90ZQ%3D%3D?line=17'>18</a>\u001b[0m \u001b[39m\"\"\"\u001b[39;00m\n\u001b[1;32m     <a href='vscode-notebook-cell://wsl%2Bubuntu20.04lts/mnt/c/Users/AdamHall/Documents/GitHub/datascience/notebooks/privacy%20mechanism/query_limiting.ipynb#X10sdnNjb2RlLXJlbW90ZQ%3D%3D?line=18'>19</a>\u001b[0m \u001b[39mif\u001b[39;00m num_samples \u001b[39m<\u001b[39m n:\n\u001b[0;32m---> <a href='vscode-notebook-cell://wsl%2Bubuntu20.04lts/mnt/c/Users/AdamHall/Documents/GitHub/datascience/notebooks/privacy%20mechanism/query_limiting.ipynb#X10sdnNjb2RlLXJlbW90ZQ%3D%3D?line=19'>20</a>\u001b[0m     \u001b[39mraise\u001b[39;00m \u001b[39mNameError\u001b[39;00m(\u001b[39m\"\u001b[39m\u001b[39mToo few samples\u001b[39m\u001b[39m\"\u001b[39m)\n\u001b[1;32m     <a href='vscode-notebook-cell://wsl%2Bubuntu20.04lts/mnt/c/Users/AdamHall/Documents/GitHub/datascience/notebooks/privacy%20mechanism/query_limiting.ipynb#X10sdnNjb2RlLXJlbW90ZQ%3D%3D?line=20'>21</a>\u001b[0m \u001b[39melse\u001b[39;00m:\n\u001b[1;32m     <a href='vscode-notebook-cell://wsl%2Bubuntu20.04lts/mnt/c/Users/AdamHall/Documents/GitHub/datascience/notebooks/privacy%20mechanism/query_limiting.ipynb#X10sdnNjb2RlLXJlbW90ZQ%3D%3D?line=21'>22</a>\u001b[0m     \u001b[39mreturn\u001b[39;00m \u001b[39mTrue\u001b[39;00m\n",
      "\u001b[0;31mNameError\u001b[0m: Too few samples"
     ]
    }
   ],
   "source": [
    "class MeanPrecompute:\n",
    "    \"\"\"\n",
    "    Precomputes data for computing the mean\n",
    "    \"\"\"\n",
    "\n",
    "    def run(\n",
    "        sample_0_dataframe: pd.Series,\n",
    "    ) -> Tuple[\n",
    "        List[float], List[bool]\n",
    "    ]:  # there seems to be a problem here with this annotation\n",
    "        \n",
    "        sample_0 = sample_0_dataframe.to_numpy()\n",
    "\n",
    "        sum_x_0 = np.sum(sample_0)\n",
    "        sample_0_degrees_of_freedom = len(sample_0)\n",
    "\n",
    "        list_precompute = [sum_x_0, sample_0_degrees_of_freedom]\n",
    "        # list_safe = [False, False, False, False, False, False ]\n",
    "        return list_precompute  # , list_safe\n",
    "\n",
    "sample = pd.Series(np.array([1, 2, 3, 4, 5, 6, 7, 8, 9, 10]))\n",
    "print(sample.mean())\n",
    "\n",
    "if PrivacySentinel.query_limit_n(len(sample)):\n",
    "    print(MeanPrecompute.run(sample))\n",
    "\n",
    "sample = pd.Series(np.array([1, 2, 3, 4, 5, 6, 7, 8, 9]))\n",
    "if PrivacySentinel.query_limit_n(len(sample)):\n",
    "    print(MeanPrecompute.run(sample))"
   ]
  }
 ],
 "metadata": {
  "kernelspec": {
   "display_name": "Python 3.8.10 ('venv38_sail': venv)",
   "language": "python",
   "name": "python3"
  },
  "language_info": {
   "codemirror_mode": {
    "name": "ipython",
    "version": 3
   },
   "file_extension": ".py",
   "mimetype": "text/x-python",
   "name": "python",
   "nbconvert_exporter": "python",
   "pygments_lexer": "ipython3",
   "version": "3.8.10"
  },
  "orig_nbformat": 4,
  "vscode": {
   "interpreter": {
    "hash": "a551a9fda4b0fd0844678eafd3b71ce0ebfefa198dcee60abe1926ee3f4a81d3"
   }
  }
 },
 "nbformat": 4,
 "nbformat_minor": 2
}
