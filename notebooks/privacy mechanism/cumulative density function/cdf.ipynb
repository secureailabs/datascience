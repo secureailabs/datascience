{
 "cells": [
  {
   "cell_type": "code",
   "execution_count": 1,
   "metadata": {},
   "outputs": [
    {
     "ename": "TypeError",
     "evalue": "run() missing 1 required positional argument: 'sample_0'",
     "output_type": "error",
     "traceback": [
      "\u001b[0;31m---------------------------------------------------------------------------\u001b[0m",
      "\u001b[0;31mTypeError\u001b[0m                                 Traceback (most recent call last)",
      "\u001b[1;32m/mnt/c/Users/AdamHall/Documents/GitHub/datascience/notebooks/privacy mechanism/cumulative density function/cdf.ipynb Cell 1\u001b[0m in \u001b[0;36m<cell line: 19>\u001b[0;34m()\u001b[0m\n\u001b[1;32m     <a href='vscode-notebook-cell://wsl%2Bubuntu20.04lts/mnt/c/Users/AdamHall/Documents/GitHub/datascience/notebooks/privacy%20mechanism/cumulative%20density%20function/cdf.ipynb#W0sdnNjb2RlLXJlbW90ZQ%3D%3D?line=14'>15</a>\u001b[0m one_sample_big \u001b[39m=\u001b[39m dataframe[id_column_0]\n\u001b[1;32m     <a href='vscode-notebook-cell://wsl%2Bubuntu20.04lts/mnt/c/Users/AdamHall/Documents/GitHub/datascience/notebooks/privacy%20mechanism/cumulative%20density%20function/cdf.ipynb#W0sdnNjb2RlLXJlbW90ZQ%3D%3D?line=16'>17</a>\u001b[0m \u001b[39mfrom\u001b[39;00m \u001b[39msail_safe_functions_orchestrator\u001b[39;00m\u001b[39m.\u001b[39;00m\u001b[39mpreprocessing\u001b[39;00m\u001b[39m.\u001b[39;00m\u001b[39mcdf\u001b[39;00m \u001b[39mimport\u001b[39;00m CumulativeDistributionFunction\n\u001b[0;32m---> <a href='vscode-notebook-cell://wsl%2Bubuntu20.04lts/mnt/c/Users/AdamHall/Documents/GitHub/datascience/notebooks/privacy%20mechanism/cumulative%20density%20function/cdf.ipynb#W0sdnNjb2RlLXJlbW90ZQ%3D%3D?line=18'>19</a>\u001b[0m CumulativeDistributionFunction\u001b[39m.\u001b[39;49mrun(one_sample_big)\n",
      "File \u001b[0;32m/mnt/c/Users/AdamHall/Documents/GitHub/datascience/sail-safe-functions-orchestrator/sail_safe_functions_orchestrator/preprocessing/cdf.py:32\u001b[0m, in \u001b[0;36mCumulativeDistributionFunction.run\u001b[0;34m(sample_0)\u001b[0m\n\u001b[1;32m     29\u001b[0m \u001b[39m@staticmethod\u001b[39m\n\u001b[1;32m     30\u001b[0m \u001b[39mdef\u001b[39;00m \u001b[39mrun\u001b[39m(sample_0: SeriesFederated) \u001b[39m-\u001b[39m\u001b[39m>\u001b[39m Tuple[List[\u001b[39mfloat\u001b[39m], List[\u001b[39mfloat\u001b[39m]]:\n\u001b[0;32m---> 32\u001b[0m     domain_min, domain_max \u001b[39m=\u001b[39m MinMax\u001b[39m.\u001b[39;49mrun(sample_0)\n\u001b[1;32m     34\u001b[0m     list_precompute \u001b[39m=\u001b[39m []\n\u001b[1;32m     35\u001b[0m     \u001b[39mfor\u001b[39;00m series \u001b[39min\u001b[39;00m sample_0\u001b[39m.\u001b[39mdict_series\u001b[39m.\u001b[39mvalues():  \u001b[39m# TODO rework abcs\u001b[39;00m\n",
      "\u001b[0;31mTypeError\u001b[0m: run() missing 1 required positional argument: 'sample_0'"
     ]
    }
   ],
   "source": [
    "from sail_safe_functions_test.helper_sail_safe_functions.data_frame_federated_local import DataFrameFederatedLocal\n",
    "from sail_safe_functions_test.helper_sail_safe_functions.series_federated_local import SeriesFederatedLocal\n",
    "\n",
    "DATA_PATH = \"../../../sail-safe-functions-test/sail_safe_functions_test/data_sail_safe_functions\"\n",
    "\n",
    "list_name_file_csv = [\"bmc1.csv\", \"bwh1.csv\", \"mgh1.csv\"]\n",
    "id_column_0 = \"PD-L1 level before treatment\"\n",
    "\n",
    "\n",
    "dataframe = DataFrameFederatedLocal()\n",
    "for name_file_csv in list_name_file_csv:\n",
    "    path_file_csv = os.path.join(DATA_PATH, \"data_csv_investor_demo\", name_file_csv)\n",
    "    dataframe.add_csv(path_file_csv)\n",
    "\n",
    "one_sample_big = dataframe[id_column_0]\n",
    "\n",
    "from sail_safe_functions_orchestrator.preprocessing.cdf import CumulativeDistributionFunction\n",
    "\n",
    "CumulativeDistributionFunction.run(one_sample_big)"
   ]
  },
  {
   "cell_type": "code",
   "execution_count": null,
   "metadata": {},
   "outputs": [],
   "source": []
  }
 ],
 "metadata": {
  "kernelspec": {
   "display_name": "Python 3.8.10 64-bit",
   "language": "python",
   "name": "python3"
  },
  "language_info": {
   "codemirror_mode": {
    "name": "ipython",
    "version": 3
   },
   "file_extension": ".py",
   "mimetype": "text/x-python",
   "name": "python",
   "nbconvert_exporter": "python",
   "pygments_lexer": "ipython3",
   "version": "3.8.10"
  },
  "orig_nbformat": 4,
  "vscode": {
   "interpreter": {
    "hash": "916dbcbb3f70747c44a77c7bcd40155683ae19c65e1c03b4aa3499c5328201f1"
   }
  }
 },
 "nbformat": 4,
 "nbformat_minor": 2
}
