{
 "cells": [
  {
   "cell_type": "markdown",
   "metadata": {},
   "source": [
    "# Query Limiting\n",
    "\n",
    "Aims: This notebook will demonstrate query limiting on the SCN side. This will include; \n",
    "\n",
    "- A new additon to the SCN side helper lib: *privacy_sentinel*\n",
    "    - privacy_sentinel contains the logic to be used by safe objects in order to vet their execution\n",
    "    - privacy_sentinel vets execution at the computation layer but sentinel logic could be used by layers below to vet incoming jobs.\n",
    "- This demo contains one statistical function which has been modified to accomodate for query limiting logic"
   ]
  },
  {
   "cell_type": "markdown",
   "metadata": {},
   "source": [
    "We neeed query limiting over entire federations"
   ]
  },
  {
   "cell_type": "markdown",
   "metadata": {},
   "source": [
    "## 1. The Privacy Sentinel MVP\n",
    "\n",
    "- Contains generic logic to stop queries on samples under N size. \n",
    "- Until an appropriate value for N is determined, N is a constant value for all query types."
   ]
  },
  {
   "cell_type": "markdown",
   "metadata": {},
   "source": [
    "### 1.1 Get Data"
   ]
  },
  {
   "cell_type": "code",
   "execution_count": 1,
   "metadata": {},
   "outputs": [],
   "source": [
    "from sail_safe_functions_test.helper_sail_safe_functions.data_frame_federated_local import DataFrameFederatedLocal\n",
    "from sail_safe_functions_test.helper_sail_safe_functions.series_federated_local import SeriesFederatedLocal\n",
    "\n",
    "DATA_PATH = \"../../sail-safe-functions-test/sail_safe_functions_test/data_sail_safe_functions\"\n",
    "\n",
    "list_name_file_csv = [\"bmc1.csv\", \"bwh1.csv\", \"mgh1.csv\"]\n",
    "id_column_0 = \"PD-L1 level before treatment\"\n",
    "\n",
    "\n",
    "dataframe = DataFrameFederatedLocal()\n",
    "for name_file_csv in list_name_file_csv:\n",
    "    path_file_csv = os.path.join(DATA_PATH, \"data_csv_investor_demo\", name_file_csv)\n",
    "    dataframe.add_csv(path_file_csv)\n",
    "\n",
    "one_sample_big = dataframe[id_column_0]"
   ]
  },
  {
   "cell_type": "code",
   "execution_count": 2,
   "metadata": {},
   "outputs": [
    {
     "data": {
      "text/plain": [
       "<sail_safe_functions_test.helper_sail_safe_functions.series_federated_local.SeriesFederatedLocal at 0x7fbc5c372430>"
      ]
     },
     "execution_count": 2,
     "metadata": {},
     "output_type": "execute_result"
    }
   ],
   "source": [
    "one_sample_big"
   ]
  },
  {
   "cell_type": "code",
   "execution_count": 3,
   "metadata": {},
   "outputs": [
    {
     "ename": "NameError",
     "evalue": "Too few samples",
     "output_type": "error",
     "traceback": [
      "\u001b[0;31m---------------------------------------------------------------------------\u001b[0m",
      "\u001b[0;31mNameError\u001b[0m                                 Traceback (most recent call last)",
      "\u001b[1;32m/mnt/c/Users/AdamHall/Documents/GitHub/datascience/notebooks/privacy mechanism/query_limiting_mean.ipynb Cell 7\u001b[0m in \u001b[0;36m<cell line: 23>\u001b[0;34m()\u001b[0m\n\u001b[1;32m     <a href='vscode-notebook-cell://wsl%2Bubuntu20.04lts/mnt/c/Users/AdamHall/Documents/GitHub/datascience/notebooks/privacy%20mechanism/query_limiting_mean.ipynb#W6sdnNjb2RlLXJlbW90ZQ%3D%3D?line=19'>20</a>\u001b[0m         \u001b[39melse\u001b[39;00m:\n\u001b[1;32m     <a href='vscode-notebook-cell://wsl%2Bubuntu20.04lts/mnt/c/Users/AdamHall/Documents/GitHub/datascience/notebooks/privacy%20mechanism/query_limiting_mean.ipynb#W6sdnNjb2RlLXJlbW90ZQ%3D%3D?line=20'>21</a>\u001b[0m             \u001b[39mreturn\u001b[39;00m \u001b[39mTrue\u001b[39;00m\n\u001b[0;32m---> <a href='vscode-notebook-cell://wsl%2Bubuntu20.04lts/mnt/c/Users/AdamHall/Documents/GitHub/datascience/notebooks/privacy%20mechanism/query_limiting_mean.ipynb#W6sdnNjb2RlLXJlbW90ZQ%3D%3D?line=22'>23</a>\u001b[0m \u001b[39mprint\u001b[39m(PrivacySentinel\u001b[39m.\u001b[39;49mquery_limit_local_n(\u001b[39m10\u001b[39;49m))\n",
      "\u001b[1;32m/mnt/c/Users/AdamHall/Documents/GitHub/datascience/notebooks/privacy mechanism/query_limiting_mean.ipynb Cell 7\u001b[0m in \u001b[0;36mPrivacySentinel.query_limit_local_n\u001b[0;34m(num_samples, n)\u001b[0m\n\u001b[1;32m      <a href='vscode-notebook-cell://wsl%2Bubuntu20.04lts/mnt/c/Users/AdamHall/Documents/GitHub/datascience/notebooks/privacy%20mechanism/query_limiting_mean.ipynb#W6sdnNjb2RlLXJlbW90ZQ%3D%3D?line=7'>8</a>\u001b[0m \u001b[39m\"\"\"\u001b[39;00m\n\u001b[1;32m      <a href='vscode-notebook-cell://wsl%2Bubuntu20.04lts/mnt/c/Users/AdamHall/Documents/GitHub/datascience/notebooks/privacy%20mechanism/query_limiting_mean.ipynb#W6sdnNjb2RlLXJlbW90ZQ%3D%3D?line=8'>9</a>\u001b[0m \u001b[39mBlocks a query if the number of samples is under a threshold n.\u001b[39;00m\n\u001b[1;32m     <a href='vscode-notebook-cell://wsl%2Bubuntu20.04lts/mnt/c/Users/AdamHall/Documents/GitHub/datascience/notebooks/privacy%20mechanism/query_limiting_mean.ipynb#W6sdnNjb2RlLXJlbW90ZQ%3D%3D?line=9'>10</a>\u001b[0m \n\u001b[0;32m   (...)\u001b[0m\n\u001b[1;32m     <a href='vscode-notebook-cell://wsl%2Bubuntu20.04lts/mnt/c/Users/AdamHall/Documents/GitHub/datascience/notebooks/privacy%20mechanism/query_limiting_mean.ipynb#W6sdnNjb2RlLXJlbW90ZQ%3D%3D?line=15'>16</a>\u001b[0m \u001b[39m:type: Boolean\u001b[39;00m\n\u001b[1;32m     <a href='vscode-notebook-cell://wsl%2Bubuntu20.04lts/mnt/c/Users/AdamHall/Documents/GitHub/datascience/notebooks/privacy%20mechanism/query_limiting_mean.ipynb#W6sdnNjb2RlLXJlbW90ZQ%3D%3D?line=16'>17</a>\u001b[0m \u001b[39m\"\"\"\u001b[39;00m\n\u001b[1;32m     <a href='vscode-notebook-cell://wsl%2Bubuntu20.04lts/mnt/c/Users/AdamHall/Documents/GitHub/datascience/notebooks/privacy%20mechanism/query_limiting_mean.ipynb#W6sdnNjb2RlLXJlbW90ZQ%3D%3D?line=17'>18</a>\u001b[0m \u001b[39mif\u001b[39;00m num_samples \u001b[39m<\u001b[39m n:\n\u001b[0;32m---> <a href='vscode-notebook-cell://wsl%2Bubuntu20.04lts/mnt/c/Users/AdamHall/Documents/GitHub/datascience/notebooks/privacy%20mechanism/query_limiting_mean.ipynb#W6sdnNjb2RlLXJlbW90ZQ%3D%3D?line=18'>19</a>\u001b[0m     \u001b[39mraise\u001b[39;00m \u001b[39mNameError\u001b[39;00m(\u001b[39m\"\u001b[39m\u001b[39mToo few samples\u001b[39m\u001b[39m\"\u001b[39m)\n\u001b[1;32m     <a href='vscode-notebook-cell://wsl%2Bubuntu20.04lts/mnt/c/Users/AdamHall/Documents/GitHub/datascience/notebooks/privacy%20mechanism/query_limiting_mean.ipynb#W6sdnNjb2RlLXJlbW90ZQ%3D%3D?line=19'>20</a>\u001b[0m \u001b[39melse\u001b[39;00m:\n\u001b[1;32m     <a href='vscode-notebook-cell://wsl%2Bubuntu20.04lts/mnt/c/Users/AdamHall/Documents/GitHub/datascience/notebooks/privacy%20mechanism/query_limiting_mean.ipynb#W6sdnNjb2RlLXJlbW90ZQ%3D%3D?line=20'>21</a>\u001b[0m     \u001b[39mreturn\u001b[39;00m \u001b[39mTrue\u001b[39;00m\n",
      "\u001b[0;31mNameError\u001b[0m: Too few samples"
     ]
    }
   ],
   "source": [
    "class PrivacySentinel:\n",
    "    \"\"\"\n",
    "    A helper Library to be used on the SCN side to vet query privacy.\n",
    "    \"\"\"\n",
    "\n",
    "    def query_limit_local_n_precompute(list_list_precompute, n=10):\n",
    "        # Check federated sample is appropriate length\n",
    "        length= 0\n",
    "        for list in list_list_precompute:\n",
    "            length = list[-1]+length\n",
    "        PrivacySentinel.query_limit_local_n(length, n)\n",
    "\n",
    "    @staticmethod\n",
    "    def query_limit_local_n(num_samples: int, n: int = 50) -> bool:\n",
    "        \"\"\"\n",
    "        Blocks a query if the number of samples is under a threshold n.\n",
    "\n",
    "        :param: samples: The List of samples\n",
    "        :type: Integer\n",
    "        :param: n: The threshold limit on number of samples (default=10)\n",
    "        :type: Integer\n",
    "        :return: Whether the number of samples is above the threshold\n",
    "        :type: Boolean\n",
    "        \"\"\"\n",
    "        if num_samples < n:\n",
    "            raise NameError(\"Too few samples\")\n",
    "        else:\n",
    "            return True\n",
    "\n",
    "print(PrivacySentinel.query_limit_local_n(10))\n",
    "# PrivacySentinel.query_limit_n(9)"
   ]
  },
  {
   "cell_type": "code",
   "execution_count": 4,
   "metadata": {},
   "outputs": [],
   "source": [
    "from typing import List\n",
    "from sail_safe_functions.statistics.mean_precompute import MeanPrecompute\n",
    "\n",
    "class MeanAggregateSAFE:\n",
    "    \"\"\"\n",
    "    Aggregates data for computing the mean\n",
    "    \"\"\"\n",
    "    def run(list_list_precompute: List[List[float]]):\n",
    "        PrivacySentinel.query_limit_local_n_precompute(list_list_precompute)\n",
    "        \n",
    "        sum_x_0 = 0\n",
    "        degrees_of_freedom_0 = 0\n",
    "\n",
    "        for list_precompute in list_list_precompute:\n",
    "            sum_x_0 += list_precompute[0]\n",
    "            degrees_of_freedom_0 += list_precompute[1]\n",
    "\n",
    "        sample_mean_0 = sum_x_0 / degrees_of_freedom_0\n",
    "\n",
    "        # if degrees_of_freedom < 20:\n",
    "        #     raise Exception()\n",
    "        return sample_mean_0"
   ]
  },
  {
   "cell_type": "code",
   "execution_count": 5,
   "metadata": {},
   "outputs": [
    {
     "data": {
      "text/plain": [
       "85.03455555555556"
      ]
     },
     "execution_count": 5,
     "metadata": {},
     "output_type": "execute_result"
    }
   ],
   "source": [
    "list_list_precompute = []\n",
    "for series in one_sample_big.dict_series.values():\n",
    "    list_list_precompute.append(MeanPrecompute.run(series))\n",
    "mean_statistic = MeanAggregateSAFE.run(list_list_precompute)\n",
    "mean_statistic\n"
   ]
  },
  {
   "cell_type": "code",
   "execution_count": 6,
   "metadata": {},
   "outputs": [
    {
     "data": {
      "text/plain": [
       "<sail_safe_functions_test.helper_sail_safe_functions.series_federated_local.SeriesFederatedLocal at 0x7fbc5c372430>"
      ]
     },
     "execution_count": 6,
     "metadata": {},
     "output_type": "execute_result"
    }
   ],
   "source": [
    "one_sample_big"
   ]
  },
  {
   "cell_type": "code",
   "execution_count": null,
   "metadata": {},
   "outputs": [],
   "source": []
  }
 ],
 "metadata": {
  "kernelspec": {
   "display_name": "Python 3.8.10 ('venv38_sail': venv)",
   "language": "python",
   "name": "python3"
  },
  "language_info": {
   "codemirror_mode": {
    "name": "ipython",
    "version": 3
   },
   "file_extension": ".py",
   "mimetype": "text/x-python",
   "name": "python",
   "nbconvert_exporter": "python",
   "pygments_lexer": "ipython3",
   "version": "3.8.10"
  },
  "orig_nbformat": 4,
  "vscode": {
   "interpreter": {
    "hash": "a551a9fda4b0fd0844678eafd3b71ce0ebfefa198dcee60abe1926ee3f4a81d3"
   }
  }
 },
 "nbformat": 4,
 "nbformat_minor": 2
}
