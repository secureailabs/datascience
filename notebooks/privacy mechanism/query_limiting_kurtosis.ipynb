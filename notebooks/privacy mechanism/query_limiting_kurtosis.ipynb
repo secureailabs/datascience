{
 "cells": [
  {
   "cell_type": "markdown",
   "metadata": {},
   "source": [
    "# Query Limiting\n",
    "\n",
    "Aims: This notebook will demonstrate query limiting on the SCN side. This will include; \n",
    "\n",
    "- A new additon to the SCN side helper lib: *privacy_sentinel*\n",
    "    - privacy_sentinel contains the logic to be used by safe objects in order to vet their execution\n",
    "    - privacy_sentinel vets execution at the computation layer but sentinel logic could be used by layers below to vet incoming jobs.\n",
    "- This demo contains one statistical function which has been modified to accomodate for query limiting logic"
   ]
  },
  {
   "cell_type": "markdown",
   "metadata": {},
   "source": [
    "We neeed query limiting over entire federations"
   ]
  },
  {
   "cell_type": "markdown",
   "metadata": {},
   "source": [
    "## 1. The Privacy Sentinel MVP\n",
    "\n",
    "- Contains generic logic to stop queries on samples under N size. \n",
    "- Until an appropriate value for N is determined, N is a constant value for all query types."
   ]
  },
  {
   "cell_type": "markdown",
   "metadata": {},
   "source": [
    "### 1.1 Get Data"
   ]
  },
  {
   "cell_type": "code",
   "execution_count": 25,
   "metadata": {},
   "outputs": [],
   "source": [
    "from sail_safe_functions_test.helper_sail_safe_functions.data_frame_federated_local import DataFrameFederatedLocal\n",
    "from sail_safe_functions_test.helper_sail_safe_functions.series_federated_local import SeriesFederatedLocal\n",
    "\n",
    "DATA_PATH = \"../../sail-safe-functions-test/sail_safe_functions_test/data_sail_safe_functions\"\n",
    "\n",
    "list_name_file_csv = [\"bmc1.csv\", \"bwh1.csv\", \"mgh1.csv\"]\n",
    "id_column_0 = \"PD-L1 level before treatment\"\n",
    "\n",
    "\n",
    "dataframe = DataFrameFederatedLocal()\n",
    "for name_file_csv in list_name_file_csv:\n",
    "    path_file_csv = os.path.join(DATA_PATH, \"data_csv_investor_demo\", name_file_csv)\n",
    "    dataframe.add_csv(path_file_csv)\n",
    "\n",
    "one_sample_big = dataframe[id_column_0]"
   ]
  },
  {
   "cell_type": "code",
   "execution_count": 26,
   "metadata": {},
   "outputs": [
    {
     "data": {
      "text/plain": [
       "<sail_safe_functions_test.helper_sail_safe_functions.series_federated_local.SeriesFederatedLocal at 0x7f2190b58b80>"
      ]
     },
     "execution_count": 26,
     "metadata": {},
     "output_type": "execute_result"
    }
   ],
   "source": [
    "one_sample_big"
   ]
  },
  {
   "cell_type": "code",
   "execution_count": 27,
   "metadata": {},
   "outputs": [
    {
     "name": "stdout",
     "output_type": "stream",
     "text": [
      "True\n"
     ]
    }
   ],
   "source": [
    "from helper_libs.scn_side.machine_learning."
   ]
  },
  {
   "cell_type": "code",
   "execution_count": 28,
   "metadata": {},
   "outputs": [],
   "source": [
    "from typing import List\n",
    "import math\n",
    "from typing import List\n",
    "from sail_safe_functions.statistics.kurtosis_precompute import KurtosisPrecompute\n",
    "\n",
    "class KurtosisAggregate:\n",
    "    \"\"\"\n",
    "    Aggregates data for Kurtosis\n",
    "    \"\"\"\n",
    "\n",
    "    def run(list_list_precompute: List[List[float]]):\n",
    "\n",
    "        \"\"\"\n",
    "        A Function to get the fedrated Kurtosis value.\n",
    "        same as scipy.skewsnes ()\n",
    "\n",
    "        :param list_list_precompute: compute from different DF\n",
    "        :type list_list_precompute: List[List[float]]\n",
    "        :return: Kurtosis Value\n",
    "        :rtype: Float\n",
    "\n",
    "        \"\"\"\n",
    "        PrivacySentinel.query_limit_local_n_precompute(list_list_precompute, n=1000)\n",
    "\n",
    "        sum_x_0 = 0\n",
    "        sum_xx_0 = 0\n",
    "        sum_xxx_0 = 0\n",
    "        sum_xxxx_0 = 0\n",
    "        size_sample_0 = 0\n",
    "        # Combining precompute\n",
    "        for list_precompute in list_list_precompute:\n",
    "            sum_x_0 += list_precompute[0]\n",
    "            sum_xx_0 += list_precompute[1]\n",
    "            sum_xxx_0 += list_precompute[2]\n",
    "            sum_xxxx_0 += list_precompute[3]\n",
    "            size_sample_0 += list_precompute[4]  # same as Count_0\n",
    "\n",
    "        # Calculating sampel mean\n",
    "        sample_mean_0 = sum_x_0 / size_sample_0\n",
    "        # Calculating sample variance\n",
    "        sample_variance_0 = (sum_xx_0 / size_sample_0) - (sample_mean_0 * sample_mean_0)\n",
    "        # Calculating Sample\n",
    "        sample_standard_deviation = math.sqrt(sample_variance_0)\n",
    "\n",
    "        # mu Geometric\n",
    "        mu2 = sum_xx_0 / size_sample_0\n",
    "        mu3 = sum_xxx_0 / size_sample_0\n",
    "        mu4 = sum_xxxx_0 / size_sample_0\n",
    "        mean = sample_mean_0\n",
    "        standard_deviation = sample_standard_deviation\n",
    "\n",
    "        # Final Statistical formula for calculating Kurtosis\n",
    "        # wiki link below for the formula\n",
    "        # https://en.wikipedia.org/wiki/Kurtosis\n",
    "\n",
    "        kurtosis_value = (\n",
    "            (mu4) - 3 * (mean**4) - 4 * ((mu3) * (mean)) + 6 * ((mu2) * (mean**2))\n",
    "        ) / (standard_deviation**4)\n",
    "\n",
    "        return kurtosis_value - 3\n"
   ]
  },
  {
   "cell_type": "code",
   "execution_count": 29,
   "metadata": {},
   "outputs": [
    {
     "ename": "NameError",
     "evalue": "Too few samples",
     "output_type": "error",
     "traceback": [
      "\u001b[0;31m---------------------------------------------------------------------------\u001b[0m",
      "\u001b[0;31mNameError\u001b[0m                                 Traceback (most recent call last)",
      "\u001b[1;32m/mnt/c/Users/AdamHall/Documents/GitHub/datascience/notebooks/privacy mechanism/query_limiting_kurtosis.ipynb Cell 9\u001b[0m in \u001b[0;36m<cell line: 9>\u001b[0;34m()\u001b[0m\n\u001b[1;32m      <a href='vscode-notebook-cell://wsl%2Bubuntu20.04lts/mnt/c/Users/AdamHall/Documents/GitHub/datascience/notebooks/privacy%20mechanism/query_limiting_kurtosis.ipynb#X11sdnNjb2RlLXJlbW90ZQ%3D%3D?line=5'>6</a>\u001b[0m     list_list_precompute\u001b[39m.\u001b[39mappend(KurtosisPrecompute\u001b[39m.\u001b[39mrun(series))\n\u001b[1;32m      <a href='vscode-notebook-cell://wsl%2Bubuntu20.04lts/mnt/c/Users/AdamHall/Documents/GitHub/datascience/notebooks/privacy%20mechanism/query_limiting_kurtosis.ipynb#X11sdnNjb2RlLXJlbW90ZQ%3D%3D?line=7'>8</a>\u001b[0m \u001b[39m# Final Kurtosis Value\u001b[39;00m\n\u001b[0;32m----> <a href='vscode-notebook-cell://wsl%2Bubuntu20.04lts/mnt/c/Users/AdamHall/Documents/GitHub/datascience/notebooks/privacy%20mechanism/query_limiting_kurtosis.ipynb#X11sdnNjb2RlLXJlbW90ZQ%3D%3D?line=8'>9</a>\u001b[0m kurtosis_value \u001b[39m=\u001b[39m KurtosisAggregate\u001b[39m.\u001b[39;49mrun(list_list_precompute)\n\u001b[1;32m     <a href='vscode-notebook-cell://wsl%2Bubuntu20.04lts/mnt/c/Users/AdamHall/Documents/GitHub/datascience/notebooks/privacy%20mechanism/query_limiting_kurtosis.ipynb#X11sdnNjb2RlLXJlbW90ZQ%3D%3D?line=9'>10</a>\u001b[0m \u001b[39m# kurtosis_value\u001b[39;00m\n\u001b[1;32m     <a href='vscode-notebook-cell://wsl%2Bubuntu20.04lts/mnt/c/Users/AdamHall/Documents/GitHub/datascience/notebooks/privacy%20mechanism/query_limiting_kurtosis.ipynb#X11sdnNjb2RlLXJlbW90ZQ%3D%3D?line=10'>11</a>\u001b[0m kurtosis_value\n",
      "\u001b[1;32m/mnt/c/Users/AdamHall/Documents/GitHub/datascience/notebooks/privacy mechanism/query_limiting_kurtosis.ipynb Cell 9\u001b[0m in \u001b[0;36mKurtosisAggregate.run\u001b[0;34m(list_list_precompute)\u001b[0m\n\u001b[1;32m     <a href='vscode-notebook-cell://wsl%2Bubuntu20.04lts/mnt/c/Users/AdamHall/Documents/GitHub/datascience/notebooks/privacy%20mechanism/query_limiting_kurtosis.ipynb#X11sdnNjb2RlLXJlbW90ZQ%3D%3D?line=10'>11</a>\u001b[0m \u001b[39mdef\u001b[39;00m \u001b[39mrun\u001b[39m(list_list_precompute: List[List[\u001b[39mfloat\u001b[39m]]):\n\u001b[1;32m     <a href='vscode-notebook-cell://wsl%2Bubuntu20.04lts/mnt/c/Users/AdamHall/Documents/GitHub/datascience/notebooks/privacy%20mechanism/query_limiting_kurtosis.ipynb#X11sdnNjb2RlLXJlbW90ZQ%3D%3D?line=12'>13</a>\u001b[0m     \u001b[39m\"\"\"\u001b[39;00m\n\u001b[1;32m     <a href='vscode-notebook-cell://wsl%2Bubuntu20.04lts/mnt/c/Users/AdamHall/Documents/GitHub/datascience/notebooks/privacy%20mechanism/query_limiting_kurtosis.ipynb#X11sdnNjb2RlLXJlbW90ZQ%3D%3D?line=13'>14</a>\u001b[0m \u001b[39m    A Function to get the fedrated Kurtosis value.\u001b[39;00m\n\u001b[1;32m     <a href='vscode-notebook-cell://wsl%2Bubuntu20.04lts/mnt/c/Users/AdamHall/Documents/GitHub/datascience/notebooks/privacy%20mechanism/query_limiting_kurtosis.ipynb#X11sdnNjb2RlLXJlbW90ZQ%3D%3D?line=14'>15</a>\u001b[0m \u001b[39m    same as scipy.skewsnes ()\u001b[39;00m\n\u001b[0;32m   (...)\u001b[0m\n\u001b[1;32m     <a href='vscode-notebook-cell://wsl%2Bubuntu20.04lts/mnt/c/Users/AdamHall/Documents/GitHub/datascience/notebooks/privacy%20mechanism/query_limiting_kurtosis.ipynb#X11sdnNjb2RlLXJlbW90ZQ%3D%3D?line=20'>21</a>\u001b[0m \n\u001b[1;32m     <a href='vscode-notebook-cell://wsl%2Bubuntu20.04lts/mnt/c/Users/AdamHall/Documents/GitHub/datascience/notebooks/privacy%20mechanism/query_limiting_kurtosis.ipynb#X11sdnNjb2RlLXJlbW90ZQ%3D%3D?line=21'>22</a>\u001b[0m \u001b[39m    \"\"\"\u001b[39;00m\n\u001b[0;32m---> <a href='vscode-notebook-cell://wsl%2Bubuntu20.04lts/mnt/c/Users/AdamHall/Documents/GitHub/datascience/notebooks/privacy%20mechanism/query_limiting_kurtosis.ipynb#X11sdnNjb2RlLXJlbW90ZQ%3D%3D?line=22'>23</a>\u001b[0m     PrivacySentinel\u001b[39m.\u001b[39;49mquery_limit_local_n_precompute(list_list_precompute, n\u001b[39m=\u001b[39;49m\u001b[39m1000\u001b[39;49m)\n\u001b[1;32m     <a href='vscode-notebook-cell://wsl%2Bubuntu20.04lts/mnt/c/Users/AdamHall/Documents/GitHub/datascience/notebooks/privacy%20mechanism/query_limiting_kurtosis.ipynb#X11sdnNjb2RlLXJlbW90ZQ%3D%3D?line=24'>25</a>\u001b[0m     sum_x_0 \u001b[39m=\u001b[39m \u001b[39m0\u001b[39m\n\u001b[1;32m     <a href='vscode-notebook-cell://wsl%2Bubuntu20.04lts/mnt/c/Users/AdamHall/Documents/GitHub/datascience/notebooks/privacy%20mechanism/query_limiting_kurtosis.ipynb#X11sdnNjb2RlLXJlbW90ZQ%3D%3D?line=25'>26</a>\u001b[0m     sum_xx_0 \u001b[39m=\u001b[39m \u001b[39m0\u001b[39m\n",
      "\u001b[1;32m/mnt/c/Users/AdamHall/Documents/GitHub/datascience/notebooks/privacy mechanism/query_limiting_kurtosis.ipynb Cell 9\u001b[0m in \u001b[0;36mPrivacySentinel.query_limit_local_n_precompute\u001b[0;34m(list_list_precompute, n)\u001b[0m\n\u001b[1;32m      <a href='vscode-notebook-cell://wsl%2Bubuntu20.04lts/mnt/c/Users/AdamHall/Documents/GitHub/datascience/notebooks/privacy%20mechanism/query_limiting_kurtosis.ipynb#X11sdnNjb2RlLXJlbW90ZQ%3D%3D?line=8'>9</a>\u001b[0m \u001b[39mfor\u001b[39;00m \u001b[39mlist\u001b[39m \u001b[39min\u001b[39;00m list_list_precompute:\n\u001b[1;32m     <a href='vscode-notebook-cell://wsl%2Bubuntu20.04lts/mnt/c/Users/AdamHall/Documents/GitHub/datascience/notebooks/privacy%20mechanism/query_limiting_kurtosis.ipynb#X11sdnNjb2RlLXJlbW90ZQ%3D%3D?line=9'>10</a>\u001b[0m     length \u001b[39m=\u001b[39m \u001b[39mlist\u001b[39m[\u001b[39m-\u001b[39m\u001b[39m1\u001b[39m]\u001b[39m+\u001b[39mlength\n\u001b[0;32m---> <a href='vscode-notebook-cell://wsl%2Bubuntu20.04lts/mnt/c/Users/AdamHall/Documents/GitHub/datascience/notebooks/privacy%20mechanism/query_limiting_kurtosis.ipynb#X11sdnNjb2RlLXJlbW90ZQ%3D%3D?line=10'>11</a>\u001b[0m PrivacySentinel\u001b[39m.\u001b[39;49mquery_limit_local_n(length, n)\n",
      "\u001b[1;32m/mnt/c/Users/AdamHall/Documents/GitHub/datascience/notebooks/privacy mechanism/query_limiting_kurtosis.ipynb Cell 9\u001b[0m in \u001b[0;36mPrivacySentinel.query_limit_local_n\u001b[0;34m(num_samples, n)\u001b[0m\n\u001b[1;32m     <a href='vscode-notebook-cell://wsl%2Bubuntu20.04lts/mnt/c/Users/AdamHall/Documents/GitHub/datascience/notebooks/privacy%20mechanism/query_limiting_kurtosis.ipynb#X11sdnNjb2RlLXJlbW90ZQ%3D%3D?line=14'>15</a>\u001b[0m \u001b[39m\"\"\"\u001b[39;00m\n\u001b[1;32m     <a href='vscode-notebook-cell://wsl%2Bubuntu20.04lts/mnt/c/Users/AdamHall/Documents/GitHub/datascience/notebooks/privacy%20mechanism/query_limiting_kurtosis.ipynb#X11sdnNjb2RlLXJlbW90ZQ%3D%3D?line=15'>16</a>\u001b[0m \u001b[39mBlocks a query if the number of samples is under a threshold n.\u001b[39;00m\n\u001b[1;32m     <a href='vscode-notebook-cell://wsl%2Bubuntu20.04lts/mnt/c/Users/AdamHall/Documents/GitHub/datascience/notebooks/privacy%20mechanism/query_limiting_kurtosis.ipynb#X11sdnNjb2RlLXJlbW90ZQ%3D%3D?line=16'>17</a>\u001b[0m \n\u001b[0;32m   (...)\u001b[0m\n\u001b[1;32m     <a href='vscode-notebook-cell://wsl%2Bubuntu20.04lts/mnt/c/Users/AdamHall/Documents/GitHub/datascience/notebooks/privacy%20mechanism/query_limiting_kurtosis.ipynb#X11sdnNjb2RlLXJlbW90ZQ%3D%3D?line=22'>23</a>\u001b[0m \u001b[39m:type: Boolean\u001b[39;00m\n\u001b[1;32m     <a href='vscode-notebook-cell://wsl%2Bubuntu20.04lts/mnt/c/Users/AdamHall/Documents/GitHub/datascience/notebooks/privacy%20mechanism/query_limiting_kurtosis.ipynb#X11sdnNjb2RlLXJlbW90ZQ%3D%3D?line=23'>24</a>\u001b[0m \u001b[39m\"\"\"\u001b[39;00m\n\u001b[1;32m     <a href='vscode-notebook-cell://wsl%2Bubuntu20.04lts/mnt/c/Users/AdamHall/Documents/GitHub/datascience/notebooks/privacy%20mechanism/query_limiting_kurtosis.ipynb#X11sdnNjb2RlLXJlbW90ZQ%3D%3D?line=24'>25</a>\u001b[0m \u001b[39mif\u001b[39;00m num_samples \u001b[39m<\u001b[39m n:\n\u001b[0;32m---> <a href='vscode-notebook-cell://wsl%2Bubuntu20.04lts/mnt/c/Users/AdamHall/Documents/GitHub/datascience/notebooks/privacy%20mechanism/query_limiting_kurtosis.ipynb#X11sdnNjb2RlLXJlbW90ZQ%3D%3D?line=25'>26</a>\u001b[0m     \u001b[39mraise\u001b[39;00m \u001b[39mNameError\u001b[39;00m(\u001b[39m\"\u001b[39m\u001b[39mToo few samples\u001b[39m\u001b[39m\"\u001b[39m)\n\u001b[1;32m     <a href='vscode-notebook-cell://wsl%2Bubuntu20.04lts/mnt/c/Users/AdamHall/Documents/GitHub/datascience/notebooks/privacy%20mechanism/query_limiting_kurtosis.ipynb#X11sdnNjb2RlLXJlbW90ZQ%3D%3D?line=26'>27</a>\u001b[0m \u001b[39melse\u001b[39;00m:\n\u001b[1;32m     <a href='vscode-notebook-cell://wsl%2Bubuntu20.04lts/mnt/c/Users/AdamHall/Documents/GitHub/datascience/notebooks/privacy%20mechanism/query_limiting_kurtosis.ipynb#X11sdnNjb2RlLXJlbW90ZQ%3D%3D?line=27'>28</a>\u001b[0m     \u001b[39mreturn\u001b[39;00m \u001b[39mTrue\u001b[39;00m\n",
      "\u001b[0;31mNameError\u001b[0m: Too few samples"
     ]
    }
   ],
   "source": [
    "list_list_precompute = []\n",
    "# TODO deal with posibilty sample_0 and sample_1 do net share same child frames\n",
    "\n",
    "# Calculating precompute\n",
    "for series in one_sample_big.dict_series.values():\n",
    "    list_list_precompute.append(KurtosisPrecompute.run(series))\n",
    "\n",
    "# Final Kurtosis Value\n",
    "kurtosis_value = KurtosisAggregate.run(list_list_precompute)\n",
    "# kurtosis_value\n",
    "kurtosis_value"
   ]
  },
  {
   "cell_type": "code",
   "execution_count": null,
   "metadata": {},
   "outputs": [
    {
     "data": {
      "text/plain": [
       "<sail_safe_functions_test.helper_sail_safe_functions.series_federated_local.SeriesFederatedLocal at 0x7f21d8136910>"
      ]
     },
     "execution_count": 24,
     "metadata": {},
     "output_type": "execute_result"
    }
   ],
   "source": [
    "one_sample_big"
   ]
  },
  {
   "cell_type": "code",
   "execution_count": null,
   "metadata": {},
   "outputs": [],
   "source": []
  }
 ],
 "metadata": {
  "kernelspec": {
   "display_name": "Python 3.8.10 ('venv38_sail': venv)",
   "language": "python",
   "name": "python3"
  },
  "language_info": {
   "codemirror_mode": {
    "name": "ipython",
    "version": 3
   },
   "file_extension": ".py",
   "mimetype": "text/x-python",
   "name": "python",
   "nbconvert_exporter": "python",
   "pygments_lexer": "ipython3",
   "version": "3.8.10"
  },
  "orig_nbformat": 4,
  "vscode": {
   "interpreter": {
    "hash": "a551a9fda4b0fd0844678eafd3b71ce0ebfefa198dcee60abe1926ee3f4a81d3"
   }
  }
 },
 "nbformat": 4,
 "nbformat_minor": 2
}
