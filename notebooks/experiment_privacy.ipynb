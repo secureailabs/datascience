{
    "cells": [
        {
            "cell_type": "code",
            "execution_count": 1,
            "id": "8b749755-9306-4a4d-ab71-be754420d36a",
            "metadata": {},
            "outputs": [],
            "source": [
                "from sail_core.implementation_manager import ImplementationManager\n",
                "from sail_safe_functions.test.helper_sail_safe_functions.participant_service_local import ParticipantSeriviceLocal\n",
                "implementation_manager = ImplementationManager.get_instance()\n",
                "if not implementation_manager.is_initialized:\n",
                "    implementation_manager.set_participant_service(ParticipantSeriviceLocal())\n",
                "    implementation_manager.initialize()"
            ]
        },
        {
            "cell_type": "code",
            "execution_count": 2,
            "id": "508401b8",
            "metadata": {},
            "outputs": [],
            "source": [
                "from typing import List\n",
                "\n",
                "import os\n",
                "import numpy\n",
                "import pandas\n",
                "\n",
                "from sail_safe_functions.aggregator.data_frame_federated import DataFrameFederated\n",
                "from sail_safe_functions.aggregator.data_model.data_model_series import DataModelSeries\n",
                "from sail_safe_functions.aggregator.series_federated import SeriesFederated\n",
                "from sail_safe_functions.test.helper_sail_safe_functions.tools_data_test import ToolsDataTest\n",
                "\n",
                "from sail_safe_functions.aggregator.statistics.estimator import Estimator\n",
                "from sail_safe_functions.aggregator.statistics.kolmogorov_smirnov_test import KolmogorovSmirnovTest\n",
                "from sail_safe_functions.aggregator.statistics.kurtosis import Kurtosis\n",
                "from sail_safe_functions.aggregator.statistics.mean import Mean\n",
                "from sail_safe_functions.aggregator.statistics.min_max import MinMax\n",
                "\n",
                "# import tests\n",
                "from sail_safe_functions.aggregator.statistics.paired_t_test import PairedTTest\n",
                "from sail_safe_functions.aggregator.statistics.mann_whitney_u_test import MannWhitneyUTest\n",
                "from sail_safe_functions.aggregator.statistics.wilcoxon_signed_rank_test import WilcoxonSingedRankTest\n",
                "from sail_safe_functions.aggregator.statistics.spearman import Spearman\n",
                "\n",
                "from sail_safe_functions.test.helper_sail_safe_functions.generator_one_sample_float import GeneratorOneSampleFloat\n",
                "from sail_safe_functions.test.helper_sail_safe_functions.generator_two_sample_float import GeneratorTwoSampleFloat\n",
                "# import helper\n",
                "from sail_safe_functions.test.helper_sail_safe_functions.tools_privacy import (\n",
                "    experiment_privacy_one_sample_dma,\n",
                ")\n",
                "\n",
                "from sail_safe_functions.test.test_sail_safe_functions.conftest import (\n",
                "    load_cardio,\n",
                "    load_gdc_941_1,\n",
                "    load_house,\n",
                "    load_investor,\n",
                "    load_kidney_clean,\n",
                ")\n"
            ]
        },
        {
            "cell_type": "code",
            "execution_count": 3,
            "id": "e1c35211-4ef6-4549-81e5-daa3bde9f148",
            "metadata": {},
            "outputs": [],
            "source": [
                "list_series_number: List[SeriesFederated] = []\n",
                "#data_path = os.environ[\"PATH_SAIL_TEST_DATA\"]\n",
                "data_path = \"C:\\\\project\\\\datascience\\\\sail-safe-functions\\\\sail_safe_functions\\\\test\\\\data\"\n",
                "list_data_frame = []\n",
                "list_data_frame.append(load_kidney_clean(data_path))\n",
                "list_data_frame.append(load_investor(data_path))\n",
                "list_data_frame.append(load_house(data_path))\n",
                "list_data_frame.append(load_cardio(data_path))\n",
                "list_data_frame.append(load_gdc_941_1(data_path))\n",
                "\n",
                "\n",
                "for data_frame in list_data_frame:\n",
                "    for series_name in data_frame.list_series_name:\n",
                "        series = data_frame[series_name]\n",
                "        if series.data_model_series.type_data_level == DataModelSeries.DataLevelInterval:\n",
                "            list_series_number.append(series)\n",
                "\n"
            ]
        },
        {
            "cell_type": "code",
            "execution_count": 4,
            "id": "4e7258ee",
            "metadata": {},
            "outputs": [
                {
                    "name": "stdout",
                    "output_type": "stream",
                    "text": [
                        "age\n"
                    ]
                },
                {
                    "name": "stderr",
                    "output_type": "stream",
                    "text": [
                        "c:\\project\\datascience\\sail-safe-functions\\sail_safe_functions\\aggregator\\series.py:12: FutureWarning: The default dtype for empty Series will be 'object' instead of 'float64' in a future version. Specify a dtype explicitly to silence this warning.\n",
                        "  super().__init__(data=list_data, name=data_model_series.series_name)\n"
                    ]
                }
            ],
            "source": [
                "\n",
                "list_estimator = []\n",
                "list_estimator.append(Mean())\n",
                "\n",
                "list_extract_fraction = [0.1, 0.2, 0.5, 0.8, 1]\n",
                "run_count = 500\n",
                "print(list_series_number[1].series_name)\n",
                "\n",
                "list_list_experiment = []\n",
                "\n",
                "for estimator in list_estimator:\n",
                "    list_experiment = []\n",
                "\n",
                "    for extract_fraction in list_extract_fraction:\n",
                "        experiment = experiment_privacy_one_sample_dma(estimator, list_series_number[1], extract_fraction, run_count)\n",
                "        list_experiment.append(experiment)\n",
                "\n",
                "    list_list_experiment.append(list_experiment)\n"
            ]
        },
        {
            "cell_type": "code",
            "execution_count": 5,
            "id": "3dd2f3ed",
            "metadata": {},
            "outputs": [
                {
                    "name": "stdout",
                    "output_type": "stream",
                    "text": [
                        "{'parameter': {'estimator_name': 'Mean', 'series_name': 'age', 'extract_fraction': 0.1, 'run_count': 500}, 'result': {'fraction_hit': 0.602}}\n",
                        "{'parameter': {'estimator_name': 'Mean', 'series_name': 'age', 'extract_fraction': 0.2, 'run_count': 500}, 'result': {'fraction_hit': 0.566}}\n",
                        "{'parameter': {'estimator_name': 'Mean', 'series_name': 'age', 'extract_fraction': 0.5, 'run_count': 500}, 'result': {'fraction_hit': 0.674}}\n",
                        "{'parameter': {'estimator_name': 'Mean', 'series_name': 'age', 'extract_fraction': 0.8, 'run_count': 500}, 'result': {'fraction_hit': 0.778}}\n",
                        "{'parameter': {'estimator_name': 'Mean', 'series_name': 'age', 'extract_fraction': 1, 'run_count': 500}, 'result': {'fraction_hit': 1.0}}\n"
                    ]
                },
                {
                    "ename": "KeyError",
                    "evalue": "0",
                    "output_type": "error",
                    "traceback": [
                        "\u001b[1;31m---------------------------------------------------------------------------\u001b[0m",
                        "\u001b[1;31mKeyError\u001b[0m                                  Traceback (most recent call last)",
                        "Cell \u001b[1;32mIn[5], line 77\u001b[0m\n\u001b[0;32m     72\u001b[0m     go_power \u001b[39m=\u001b[39m go\u001b[39m.\u001b[39mScatter(\n\u001b[0;32m     73\u001b[0m         x\u001b[39m=\u001b[39mlist_x_sorted, y\u001b[39m=\u001b[39mlist_y_sorted, name\u001b[39m=\u001b[39mname, legendgroup\u001b[39m=\u001b[39mname, showlegend\u001b[39m=\u001b[39mshow_legend, line\u001b[39m=\u001b[39mline\n\u001b[0;32m     74\u001b[0m     )\n\u001b[0;32m     75\u001b[0m     fig\u001b[39m.\u001b[39madd_trace(go_power, row\u001b[39m=\u001b[39mindex_row, col\u001b[39m=\u001b[39mindex_col)\n\u001b[1;32m---> 77\u001b[0m plot_experiment_privacy_one_sample_dma(list_experiment)\n",
                        "Cell \u001b[1;32mIn[5], line 19\u001b[0m, in \u001b[0;36mplot_experiment_privacy_one_sample_dma\u001b[1;34m(list_list_experiment)\u001b[0m\n\u001b[0;32m     17\u001b[0m dict_line \u001b[39m=\u001b[39m {}\n\u001b[0;32m     18\u001b[0m \u001b[39mfor\u001b[39;00m i_trace, list_experiment \u001b[39min\u001b[39;00m \u001b[39menumerate\u001b[39m(list_list_experiment):\n\u001b[1;32m---> 19\u001b[0m     add_trace_experiment(\n\u001b[0;32m     20\u001b[0m         fig,\n\u001b[0;32m     21\u001b[0m         \u001b[39m1\u001b[39;49m,\n\u001b[0;32m     22\u001b[0m         i_trace \u001b[39m+\u001b[39;49m \u001b[39m1\u001b[39;49m,\n\u001b[0;32m     23\u001b[0m         xaxis,\n\u001b[0;32m     24\u001b[0m         yaxis,\n\u001b[0;32m     25\u001b[0m         trace_axis,\n\u001b[0;32m     26\u001b[0m         \u001b[39mFalse\u001b[39;49;00m,\n\u001b[0;32m     27\u001b[0m         dict_line,\n\u001b[0;32m     28\u001b[0m         list_experiment,\n\u001b[0;32m     29\u001b[0m     )\n\u001b[0;32m     30\u001b[0m fig[\u001b[39m\"\u001b[39m\u001b[39mlayout\u001b[39m\u001b[39m\"\u001b[39m][\u001b[39m\"\u001b[39m\u001b[39mxaxis\u001b[39m\u001b[39m\"\u001b[39m][\u001b[39m\"\u001b[39m\u001b[39mtitle\u001b[39m\u001b[39m\"\u001b[39m] \u001b[39m=\u001b[39m xaxis\n\u001b[0;32m     31\u001b[0m \u001b[39mfor\u001b[39;00m i \u001b[39min\u001b[39;00m \u001b[39mrange\u001b[39m(\u001b[39m1\u001b[39m \u001b[39m-\u001b[39m \u001b[39m1\u001b[39m):\n",
                        "Cell \u001b[1;32mIn[5], line 50\u001b[0m, in \u001b[0;36madd_trace_experiment\u001b[1;34m(fig, index_row, index_col, attribute_x, attribute_y, attribute_name, show_legend, dict_line, list_experiment)\u001b[0m\n\u001b[0;32m     39\u001b[0m \u001b[39mdef\u001b[39;00m \u001b[39madd_trace_experiment\u001b[39m(\n\u001b[0;32m     40\u001b[0m     fig,\n\u001b[0;32m     41\u001b[0m     index_row: \u001b[39mint\u001b[39m,\n\u001b[1;32m   (...)\u001b[0m\n\u001b[0;32m     48\u001b[0m     list_experiment: List[\u001b[39mdict\u001b[39m],\n\u001b[0;32m     49\u001b[0m ):\n\u001b[1;32m---> 50\u001b[0m     name \u001b[39m=\u001b[39m list_experiment[\u001b[39m0\u001b[39;49m][\u001b[39m\"\u001b[39m\u001b[39mparameter\u001b[39m\u001b[39m\"\u001b[39m][attribute_name]\n\u001b[0;32m     51\u001b[0m     \u001b[39m# gather data\u001b[39;00m\n\u001b[0;32m     52\u001b[0m     list_x \u001b[39m=\u001b[39m []\n",
                        "\u001b[1;31mKeyError\u001b[0m: 0"
                    ]
                }
            ],
            "source": [
                "for experiment in list_experiment:\n",
                "    print(experiment)\n",
                "from plotly.subplots import make_subplots\n",
                "import plotly.express as px\n",
                "import plotly.graph_objects as go\n",
                "\n",
                "def plot_experiment_privacy_one_sample_dma(list_list_experiment):\n",
                "    xaxis = \"extract_fraction\"\n",
                "    yaxis = \"fraction_hit\"\n",
                "    trace_axis = \"estimator_name\"\n",
                "    list_split_rows = []\n",
                "    list_split_cols = []\n",
                "    list_split_trace = []\n",
                "\n",
                "    list_subplot_titles = [\"boem\"]\n",
                "    fig = make_subplots(rows=1, cols=1, shared_yaxes=True, subplot_titles=list_subplot_titles)\n",
                "    dict_line = {}\n",
                "    for i_trace, list_experiment in enumerate(list_list_experiment):\n",
                "        add_trace_experiment(\n",
                "            fig,\n",
                "            1,\n",
                "            i_trace + 1,\n",
                "            xaxis,\n",
                "            yaxis,\n",
                "            trace_axis,\n",
                "            False,\n",
                "            dict_line,\n",
                "            list_experiment,\n",
                "        )\n",
                "    fig[\"layout\"][\"xaxis\"][\"title\"] = xaxis\n",
                "    for i in range(1 - 1):\n",
                "        fig[\"layout\"][f\"xaxis{i+2}\"][\"title\"] =xaxis\n",
                "    fig[\"layout\"][\"yaxis\"][\"title\"] = yaxis\n",
                "    fig.update_layout(height=350, width=1200, showlegend=True)\n",
                "    fig.show()\n",
                "\n",
                "\n",
                "\n",
                "def add_trace_experiment(\n",
                "    fig,\n",
                "    index_row: int,\n",
                "    index_col: int,\n",
                "    attribute_x: str,\n",
                "    attribute_y: str,\n",
                "    attribute_name: str,\n",
                "    show_legend: bool,\n",
                "    dict_line: dict,\n",
                "    list_experiment: List[dict],\n",
                "):\n",
                "    name = list_experiment[0][\"parameter\"][attribute_name]\n",
                "    # gather data\n",
                "    list_x = []\n",
                "    list_y = []\n",
                "    for experiment in list_experiment:\n",
                "        list_x.append(experiment[\"parameter\"][attribute_x])\n",
                "        list_y.append(experiment[\"result\"][attribute_y])\n",
                "    # sort\n",
                "    list_x_sorted = [x for x, y in sorted(zip(list_x, list_y), key=lambda pair: pair[0])]\n",
                "    list_y_sorted = [y for x, y in sorted(zip(list_x, list_y), key=lambda pair: pair[0])]\n",
                "    # plot\n",
                "    # go_power = go.Scatter(\n",
                "    #     x=list_x_sorted,\n",
                "    #     y=list_y_sorted,\n",
                "    #     name=name,\n",
                "    #     line=dict(color=\"#0000ff\"),\n",
                "    # )\n",
                "    if name not in dict_line:\n",
                "        line = dict(color=px.colors.qualitative.Plotly[len(dict_line)])\n",
                "        dict_line[name] = line\n",
                "\n",
                "    line = dict_line[name]\n",
                "    go_power = go.Scatter(\n",
                "        x=list_x_sorted, y=list_y_sorted, name=name, legendgroup=name, showlegend=show_legend, line=line\n",
                "    )\n",
                "    fig.add_trace(go_power, row=index_row, col=index_col)\n",
                "\n",
                "plot_experiment_privacy_one_sample_dma(list_experiment)\n"
            ]
        }
    ],
    "metadata": {
        "kernelspec": {
            "display_name": "venv38_sail",
            "language": "python",
            "name": "python3"
        },
        "language_info": {
            "codemirror_mode": {
                "name": "ipython",
                "version": 3
            },
            "file_extension": ".py",
            "mimetype": "text/x-python",
            "name": "python",
            "nbconvert_exporter": "python",
            "pygments_lexer": "ipython3",
            "version": "3.8.10"
        },
        "vscode": {
            "interpreter": {
                "hash": "b6edbe5638b3feacd7106d40a106e2c3e12ceb182912a9b721169069f1c54c2c"
            }
        }
    },
    "nbformat": 4,
    "nbformat_minor": 5
}
