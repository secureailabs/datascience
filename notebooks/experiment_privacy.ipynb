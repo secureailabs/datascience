{
    "cells": [
        {
            "cell_type": "code",
            "execution_count": 1,
            "id": "8b749755-9306-4a4d-ab71-be754420d36a",
            "metadata": {},
            "outputs": [],
            "source": [
                "from sail_core.implementation_manager import ImplementationManager\n",
                "from sail_safe_functions.test.helper_sail_safe_functions.participant_service_local import ParticipantSeriviceLocal\n",
                "implementation_manager = ImplementationManager.get_instance()\n",
                "if not implementation_manager.is_initialized:\n",
                "    implementation_manager.set_participant_service(ParticipantSeriviceLocal())\n",
                "    implementation_manager.initialize()"
            ]
        },
        {
            "cell_type": "code",
            "execution_count": 2,
            "id": "508401b8",
            "metadata": {},
            "outputs": [],
            "source": [
                "from typing import List\n",
                "\n",
                "import os\n",
                "import numpy\n",
                "import pandas\n",
                "\n",
                "from sail_safe_functions.aggregator.data_frame_federated import DataFrameFederated\n",
                "from sail_safe_functions.aggregator.data_model.data_model_series import DataModelSeries\n",
                "from sail_safe_functions.aggregator.series_federated import SeriesFederated\n",
                "from sail_safe_functions.test.helper_sail_safe_functions.tools_data_test import ToolsDataTest\n",
                "\n",
                "from sail_safe_functions.aggregator.statistics.estimator import Estimator\n",
                "from sail_safe_functions.aggregator.statistics.kolmogorov_smirnov_test import KolmogorovSmirnovTest\n",
                "from sail_safe_functions.aggregator.statistics.kurtosis import Kurtosis\n",
                "from sail_safe_functions.aggregator.statistics.mean import Mean\n",
                "from sail_safe_functions.aggregator.statistics.min_max import MinMax\n",
                "\n",
                "# import tests\n",
                "from sail_safe_functions.aggregator.statistics.paired_t_test import PairedTTest\n",
                "from sail_safe_functions.aggregator.statistics.mann_whitney_u_test import MannWhitneyUTest\n",
                "from sail_safe_functions.aggregator.statistics.wilcoxon_signed_rank_test import WilcoxonSingedRankTest\n",
                "from sail_safe_functions.aggregator.statistics.spearman import Spearman\n",
                "\n",
                "from sail_safe_functions.test.helper_sail_safe_functions.generator_one_sample_float import GeneratorOneSampleFloat\n",
                "from sail_safe_functions.test.helper_sail_safe_functions.generator_two_sample_float import GeneratorTwoSampleFloat\n",
                "# import helper\n",
                "from sail_safe_functions.test.helper_sail_safe_functions.tools_privacy import (\n",
                "    experiment_privacy_one_sample_dma,\n",
                ")\n",
                "\n",
                "from sail_safe_functions.test.test_sail_safe_functions.conftest import (\n",
                "    load_cardio,\n",
                "    load_gdc_941_1,\n",
                "    load_house,\n",
                "    load_investor,\n",
                "    load_kidney_clean,\n",
                ")\n"
            ]
        },
        {
            "cell_type": "code",
            "execution_count": 3,
            "id": "e1c35211-4ef6-4549-81e5-daa3bde9f148",
            "metadata": {},
            "outputs": [],
            "source": [
                "list_series_number: List[SeriesFederated] = []\n",
                "#data_path = os.environ[\"PATH_SAIL_TEST_DATA\"]\n",
                "data_path = \"C:\\\\project\\\\datascience\\\\sail-safe-functions\\\\sail_safe_functions\\\\test\\\\data\"\n",
                "list_data_frame = []\n",
                "list_data_frame.append(load_kidney_clean(data_path))\n",
                "list_data_frame.append(load_investor(data_path))\n",
                "list_data_frame.append(load_house(data_path))\n",
                "list_data_frame.append(load_cardio(data_path))\n",
                "list_data_frame.append(load_gdc_941_1(data_path))\n",
                "\n",
                "\n",
                "for data_frame in list_data_frame:\n",
                "    for series_name in data_frame.list_series_name:\n",
                "        series = data_frame[series_name]\n",
                "        if series.data_model_series.type_data_level == DataModelSeries.DataLevelInterval:\n",
                "            list_series_number.append(series)\n",
                "\n"
            ]
        },
        {
            "cell_type": "code",
            "execution_count": 11,
            "id": "4e7258ee",
            "metadata": {},
            "outputs": [
                {
                    "name": "stdout",
                    "output_type": "stream",
                    "text": [
                        "age\n"
                    ]
                },
                {
                    "name": "stderr",
                    "output_type": "stream",
                    "text": [
                        "c:\\project\\datascience\\sail-safe-functions\\sail_safe_functions\\aggregator\\series.py:12: FutureWarning:\n",
                        "\n",
                        "The default dtype for empty Series will be 'object' instead of 'float64' in a future version. Specify a dtype explicitly to silence this warning.\n",
                        "\n"
                    ]
                }
            ],
            "source": [
                "\n",
                "from sail_safe_functions.test.helper_sail_safe_functions.estimator_one_sample_reference import EstimatorOneSampleReference\n",
                "list_estimator = []\n",
                "list_estimator.append(Mean())\n",
                "list_estimator.append(MinMax())\n",
                "list_estimator.append(EstimatorOneSampleReference(MinMax()))\n",
                "\n",
                "list_extract_fraction = [0.1, 0.2, 0.5, 0.8, 1]\n",
                "run_count = 2000\n",
                "print(list_series_number[1].series_name)\n",
                "\n",
                "list_list_experiment = []\n",
                "\n",
                "for estimator in list_estimator:\n",
                "    list_experiment = []\n",
                "\n",
                "    for extract_fraction in list_extract_fraction:\n",
                "        experiment = experiment_privacy_one_sample_dma(estimator, list_series_number[1], extract_fraction, run_count)\n",
                "        list_experiment.append(experiment)\n",
                "\n",
                "    list_list_experiment.append(list_experiment)\n"
            ]
        },
        {
            "cell_type": "code",
            "execution_count": 12,
            "id": "3dd2f3ed",
            "metadata": {},
            "outputs": [
                {
                    "name": "stdout",
                    "output_type": "stream",
                    "text": [
                        "{'parameter': {'estimator_name': 'Mean', 'series_name': 'age', 'extract_fraction': 0.1, 'run_count': 2000}, 'result': {'fraction_hit': 0.566}}\n",
                        "{'parameter': {'estimator_name': 'Mean', 'series_name': 'age', 'extract_fraction': 0.2, 'run_count': 2000}, 'result': {'fraction_hit': 0.6095}}\n",
                        "{'parameter': {'estimator_name': 'Mean', 'series_name': 'age', 'extract_fraction': 0.5, 'run_count': 2000}, 'result': {'fraction_hit': 0.6845}}\n",
                        "{'parameter': {'estimator_name': 'Mean', 'series_name': 'age', 'extract_fraction': 0.8, 'run_count': 2000}, 'result': {'fraction_hit': 0.7915}}\n",
                        "{'parameter': {'estimator_name': 'Mean', 'series_name': 'age', 'extract_fraction': 1, 'run_count': 2000}, 'result': {'fraction_hit': 1.0}}\n",
                        "{'parameter': {'estimator_name': 'MinMax', 'series_name': 'age', 'extract_fraction': 0.1, 'run_count': 2000}, 'result': {'fraction_hit': 0.499}}\n",
                        "{'parameter': {'estimator_name': 'MinMax', 'series_name': 'age', 'extract_fraction': 0.2, 'run_count': 2000}, 'result': {'fraction_hit': 0.502}}\n",
                        "{'parameter': {'estimator_name': 'MinMax', 'series_name': 'age', 'extract_fraction': 0.5, 'run_count': 2000}, 'result': {'fraction_hit': 0.561}}\n",
                        "{'parameter': {'estimator_name': 'MinMax', 'series_name': 'age', 'extract_fraction': 0.8, 'run_count': 2000}, 'result': {'fraction_hit': 0.787}}\n",
                        "{'parameter': {'estimator_name': 'MinMax', 'series_name': 'age', 'extract_fraction': 1, 'run_count': 2000}, 'result': {'fraction_hit': 1.0}}\n",
                        "{'parameter': {'estimator_name': 'MinMax - reference', 'series_name': 'age', 'extract_fraction': 0.1, 'run_count': 2000}, 'result': {'fraction_hit': 0.573}}\n",
                        "{'parameter': {'estimator_name': 'MinMax - reference', 'series_name': 'age', 'extract_fraction': 0.2, 'run_count': 2000}, 'result': {'fraction_hit': 0.623}}\n",
                        "{'parameter': {'estimator_name': 'MinMax - reference', 'series_name': 'age', 'extract_fraction': 0.5, 'run_count': 2000}, 'result': {'fraction_hit': 0.7735}}\n",
                        "{'parameter': {'estimator_name': 'MinMax - reference', 'series_name': 'age', 'extract_fraction': 0.8, 'run_count': 2000}, 'result': {'fraction_hit': 0.9215}}\n",
                        "{'parameter': {'estimator_name': 'MinMax - reference', 'series_name': 'age', 'extract_fraction': 1, 'run_count': 2000}, 'result': {'fraction_hit': 1.0}}\n",
                        "\n",
                        "[{'parameter': {'estimator_name': 'Mean', 'series_name': 'age', 'extract_fraction': 0.1, 'run_count': 2000}, 'result': {'fraction_hit': 0.566}}, {'parameter': {'estimator_name': 'Mean', 'series_name': 'age', 'extract_fraction': 0.2, 'run_count': 2000}, 'result': {'fraction_hit': 0.6095}}, {'parameter': {'estimator_name': 'Mean', 'series_name': 'age', 'extract_fraction': 0.5, 'run_count': 2000}, 'result': {'fraction_hit': 0.6845}}, {'parameter': {'estimator_name': 'Mean', 'series_name': 'age', 'extract_fraction': 0.8, 'run_count': 2000}, 'result': {'fraction_hit': 0.7915}}, {'parameter': {'estimator_name': 'Mean', 'series_name': 'age', 'extract_fraction': 1, 'run_count': 2000}, 'result': {'fraction_hit': 1.0}}]\n",
                        "\n",
                        "[{'parameter': {'estimator_name': 'MinMax', 'series_name': 'age', 'extract_fraction': 0.1, 'run_count': 2000}, 'result': {'fraction_hit': 0.499}}, {'parameter': {'estimator_name': 'MinMax', 'series_name': 'age', 'extract_fraction': 0.2, 'run_count': 2000}, 'result': {'fraction_hit': 0.502}}, {'parameter': {'estimator_name': 'MinMax', 'series_name': 'age', 'extract_fraction': 0.5, 'run_count': 2000}, 'result': {'fraction_hit': 0.561}}, {'parameter': {'estimator_name': 'MinMax', 'series_name': 'age', 'extract_fraction': 0.8, 'run_count': 2000}, 'result': {'fraction_hit': 0.787}}, {'parameter': {'estimator_name': 'MinMax', 'series_name': 'age', 'extract_fraction': 1, 'run_count': 2000}, 'result': {'fraction_hit': 1.0}}]\n",
                        "\n",
                        "[{'parameter': {'estimator_name': 'MinMax - reference', 'series_name': 'age', 'extract_fraction': 0.1, 'run_count': 2000}, 'result': {'fraction_hit': 0.573}}, {'parameter': {'estimator_name': 'MinMax - reference', 'series_name': 'age', 'extract_fraction': 0.2, 'run_count': 2000}, 'result': {'fraction_hit': 0.623}}, {'parameter': {'estimator_name': 'MinMax - reference', 'series_name': 'age', 'extract_fraction': 0.5, 'run_count': 2000}, 'result': {'fraction_hit': 0.7735}}, {'parameter': {'estimator_name': 'MinMax - reference', 'series_name': 'age', 'extract_fraction': 0.8, 'run_count': 2000}, 'result': {'fraction_hit': 0.9215}}, {'parameter': {'estimator_name': 'MinMax - reference', 'series_name': 'age', 'extract_fraction': 1, 'run_count': 2000}, 'result': {'fraction_hit': 1.0}}]\n"
                    ]
                },
                {
                    "data": {
                        "application/vnd.plotly.v1+json": {
                            "config": {
                                "plotlyServerURL": "https://plot.ly"
                            },
                            "data": [
                                {
                                    "legendgroup": "Mean",
                                    "line": {
                                        "color": "#636EFA"
                                    },
                                    "name": "Mean",
                                    "showlegend": true,
                                    "type": "scatter",
                                    "x": [
                                        0.1,
                                        0.2,
                                        0.5,
                                        0.8,
                                        1
                                    ],
                                    "xaxis": "x",
                                    "y": [
                                        0.566,
                                        0.6095,
                                        0.6845,
                                        0.7915,
                                        1
                                    ],
                                    "yaxis": "y"
                                },
                                {
                                    "legendgroup": "MinMax",
                                    "line": {
                                        "color": "#EF553B"
                                    },
                                    "name": "MinMax",
                                    "showlegend": true,
                                    "type": "scatter",
                                    "x": [
                                        0.1,
                                        0.2,
                                        0.5,
                                        0.8,
                                        1
                                    ],
                                    "xaxis": "x",
                                    "y": [
                                        0.499,
                                        0.502,
                                        0.561,
                                        0.787,
                                        1
                                    ],
                                    "yaxis": "y"
                                },
                                {
                                    "legendgroup": "MinMax - reference",
                                    "line": {
                                        "color": "#00CC96"
                                    },
                                    "name": "MinMax - reference",
                                    "showlegend": true,
                                    "type": "scatter",
                                    "x": [
                                        0.1,
                                        0.2,
                                        0.5,
                                        0.8,
                                        1
                                    ],
                                    "xaxis": "x",
                                    "y": [
                                        0.573,
                                        0.623,
                                        0.7735,
                                        0.9215,
                                        1
                                    ],
                                    "yaxis": "y"
                                }
                            ],
                            "layout": {
                                "annotations": [
                                    {
                                        "font": {
                                            "size": 16
                                        },
                                        "showarrow": false,
                                        "text": "boem",
                                        "x": 0.5,
                                        "xanchor": "center",
                                        "xref": "paper",
                                        "y": 1,
                                        "yanchor": "bottom",
                                        "yref": "paper"
                                    }
                                ],
                                "height": 350,
                                "showlegend": true,
                                "template": {
                                    "data": {
                                        "bar": [
                                            {
                                                "error_x": {
                                                    "color": "#2a3f5f"
                                                },
                                                "error_y": {
                                                    "color": "#2a3f5f"
                                                },
                                                "marker": {
                                                    "line": {
                                                        "color": "#E5ECF6",
                                                        "width": 0.5
                                                    },
                                                    "pattern": {
                                                        "fillmode": "overlay",
                                                        "size": 10,
                                                        "solidity": 0.2
                                                    }
                                                },
                                                "type": "bar"
                                            }
                                        ],
                                        "barpolar": [
                                            {
                                                "marker": {
                                                    "line": {
                                                        "color": "#E5ECF6",
                                                        "width": 0.5
                                                    },
                                                    "pattern": {
                                                        "fillmode": "overlay",
                                                        "size": 10,
                                                        "solidity": 0.2
                                                    }
                                                },
                                                "type": "barpolar"
                                            }
                                        ],
                                        "carpet": [
                                            {
                                                "aaxis": {
                                                    "endlinecolor": "#2a3f5f",
                                                    "gridcolor": "white",
                                                    "linecolor": "white",
                                                    "minorgridcolor": "white",
                                                    "startlinecolor": "#2a3f5f"
                                                },
                                                "baxis": {
                                                    "endlinecolor": "#2a3f5f",
                                                    "gridcolor": "white",
                                                    "linecolor": "white",
                                                    "minorgridcolor": "white",
                                                    "startlinecolor": "#2a3f5f"
                                                },
                                                "type": "carpet"
                                            }
                                        ],
                                        "choropleth": [
                                            {
                                                "colorbar": {
                                                    "outlinewidth": 0,
                                                    "ticks": ""
                                                },
                                                "type": "choropleth"
                                            }
                                        ],
                                        "contour": [
                                            {
                                                "colorbar": {
                                                    "outlinewidth": 0,
                                                    "ticks": ""
                                                },
                                                "colorscale": [
                                                    [
                                                        0,
                                                        "#0d0887"
                                                    ],
                                                    [
                                                        0.1111111111111111,
                                                        "#46039f"
                                                    ],
                                                    [
                                                        0.2222222222222222,
                                                        "#7201a8"
                                                    ],
                                                    [
                                                        0.3333333333333333,
                                                        "#9c179e"
                                                    ],
                                                    [
                                                        0.4444444444444444,
                                                        "#bd3786"
                                                    ],
                                                    [
                                                        0.5555555555555556,
                                                        "#d8576b"
                                                    ],
                                                    [
                                                        0.6666666666666666,
                                                        "#ed7953"
                                                    ],
                                                    [
                                                        0.7777777777777778,
                                                        "#fb9f3a"
                                                    ],
                                                    [
                                                        0.8888888888888888,
                                                        "#fdca26"
                                                    ],
                                                    [
                                                        1,
                                                        "#f0f921"
                                                    ]
                                                ],
                                                "type": "contour"
                                            }
                                        ],
                                        "contourcarpet": [
                                            {
                                                "colorbar": {
                                                    "outlinewidth": 0,
                                                    "ticks": ""
                                                },
                                                "type": "contourcarpet"
                                            }
                                        ],
                                        "heatmap": [
                                            {
                                                "colorbar": {
                                                    "outlinewidth": 0,
                                                    "ticks": ""
                                                },
                                                "colorscale": [
                                                    [
                                                        0,
                                                        "#0d0887"
                                                    ],
                                                    [
                                                        0.1111111111111111,
                                                        "#46039f"
                                                    ],
                                                    [
                                                        0.2222222222222222,
                                                        "#7201a8"
                                                    ],
                                                    [
                                                        0.3333333333333333,
                                                        "#9c179e"
                                                    ],
                                                    [
                                                        0.4444444444444444,
                                                        "#bd3786"
                                                    ],
                                                    [
                                                        0.5555555555555556,
                                                        "#d8576b"
                                                    ],
                                                    [
                                                        0.6666666666666666,
                                                        "#ed7953"
                                                    ],
                                                    [
                                                        0.7777777777777778,
                                                        "#fb9f3a"
                                                    ],
                                                    [
                                                        0.8888888888888888,
                                                        "#fdca26"
                                                    ],
                                                    [
                                                        1,
                                                        "#f0f921"
                                                    ]
                                                ],
                                                "type": "heatmap"
                                            }
                                        ],
                                        "heatmapgl": [
                                            {
                                                "colorbar": {
                                                    "outlinewidth": 0,
                                                    "ticks": ""
                                                },
                                                "colorscale": [
                                                    [
                                                        0,
                                                        "#0d0887"
                                                    ],
                                                    [
                                                        0.1111111111111111,
                                                        "#46039f"
                                                    ],
                                                    [
                                                        0.2222222222222222,
                                                        "#7201a8"
                                                    ],
                                                    [
                                                        0.3333333333333333,
                                                        "#9c179e"
                                                    ],
                                                    [
                                                        0.4444444444444444,
                                                        "#bd3786"
                                                    ],
                                                    [
                                                        0.5555555555555556,
                                                        "#d8576b"
                                                    ],
                                                    [
                                                        0.6666666666666666,
                                                        "#ed7953"
                                                    ],
                                                    [
                                                        0.7777777777777778,
                                                        "#fb9f3a"
                                                    ],
                                                    [
                                                        0.8888888888888888,
                                                        "#fdca26"
                                                    ],
                                                    [
                                                        1,
                                                        "#f0f921"
                                                    ]
                                                ],
                                                "type": "heatmapgl"
                                            }
                                        ],
                                        "histogram": [
                                            {
                                                "marker": {
                                                    "pattern": {
                                                        "fillmode": "overlay",
                                                        "size": 10,
                                                        "solidity": 0.2
                                                    }
                                                },
                                                "type": "histogram"
                                            }
                                        ],
                                        "histogram2d": [
                                            {
                                                "colorbar": {
                                                    "outlinewidth": 0,
                                                    "ticks": ""
                                                },
                                                "colorscale": [
                                                    [
                                                        0,
                                                        "#0d0887"
                                                    ],
                                                    [
                                                        0.1111111111111111,
                                                        "#46039f"
                                                    ],
                                                    [
                                                        0.2222222222222222,
                                                        "#7201a8"
                                                    ],
                                                    [
                                                        0.3333333333333333,
                                                        "#9c179e"
                                                    ],
                                                    [
                                                        0.4444444444444444,
                                                        "#bd3786"
                                                    ],
                                                    [
                                                        0.5555555555555556,
                                                        "#d8576b"
                                                    ],
                                                    [
                                                        0.6666666666666666,
                                                        "#ed7953"
                                                    ],
                                                    [
                                                        0.7777777777777778,
                                                        "#fb9f3a"
                                                    ],
                                                    [
                                                        0.8888888888888888,
                                                        "#fdca26"
                                                    ],
                                                    [
                                                        1,
                                                        "#f0f921"
                                                    ]
                                                ],
                                                "type": "histogram2d"
                                            }
                                        ],
                                        "histogram2dcontour": [
                                            {
                                                "colorbar": {
                                                    "outlinewidth": 0,
                                                    "ticks": ""
                                                },
                                                "colorscale": [
                                                    [
                                                        0,
                                                        "#0d0887"
                                                    ],
                                                    [
                                                        0.1111111111111111,
                                                        "#46039f"
                                                    ],
                                                    [
                                                        0.2222222222222222,
                                                        "#7201a8"
                                                    ],
                                                    [
                                                        0.3333333333333333,
                                                        "#9c179e"
                                                    ],
                                                    [
                                                        0.4444444444444444,
                                                        "#bd3786"
                                                    ],
                                                    [
                                                        0.5555555555555556,
                                                        "#d8576b"
                                                    ],
                                                    [
                                                        0.6666666666666666,
                                                        "#ed7953"
                                                    ],
                                                    [
                                                        0.7777777777777778,
                                                        "#fb9f3a"
                                                    ],
                                                    [
                                                        0.8888888888888888,
                                                        "#fdca26"
                                                    ],
                                                    [
                                                        1,
                                                        "#f0f921"
                                                    ]
                                                ],
                                                "type": "histogram2dcontour"
                                            }
                                        ],
                                        "mesh3d": [
                                            {
                                                "colorbar": {
                                                    "outlinewidth": 0,
                                                    "ticks": ""
                                                },
                                                "type": "mesh3d"
                                            }
                                        ],
                                        "parcoords": [
                                            {
                                                "line": {
                                                    "colorbar": {
                                                        "outlinewidth": 0,
                                                        "ticks": ""
                                                    }
                                                },
                                                "type": "parcoords"
                                            }
                                        ],
                                        "pie": [
                                            {
                                                "automargin": true,
                                                "type": "pie"
                                            }
                                        ],
                                        "scatter": [
                                            {
                                                "fillpattern": {
                                                    "fillmode": "overlay",
                                                    "size": 10,
                                                    "solidity": 0.2
                                                },
                                                "type": "scatter"
                                            }
                                        ],
                                        "scatter3d": [
                                            {
                                                "line": {
                                                    "colorbar": {
                                                        "outlinewidth": 0,
                                                        "ticks": ""
                                                    }
                                                },
                                                "marker": {
                                                    "colorbar": {
                                                        "outlinewidth": 0,
                                                        "ticks": ""
                                                    }
                                                },
                                                "type": "scatter3d"
                                            }
                                        ],
                                        "scattercarpet": [
                                            {
                                                "marker": {
                                                    "colorbar": {
                                                        "outlinewidth": 0,
                                                        "ticks": ""
                                                    }
                                                },
                                                "type": "scattercarpet"
                                            }
                                        ],
                                        "scattergeo": [
                                            {
                                                "marker": {
                                                    "colorbar": {
                                                        "outlinewidth": 0,
                                                        "ticks": ""
                                                    }
                                                },
                                                "type": "scattergeo"
                                            }
                                        ],
                                        "scattergl": [
                                            {
                                                "marker": {
                                                    "colorbar": {
                                                        "outlinewidth": 0,
                                                        "ticks": ""
                                                    }
                                                },
                                                "type": "scattergl"
                                            }
                                        ],
                                        "scattermapbox": [
                                            {
                                                "marker": {
                                                    "colorbar": {
                                                        "outlinewidth": 0,
                                                        "ticks": ""
                                                    }
                                                },
                                                "type": "scattermapbox"
                                            }
                                        ],
                                        "scatterpolar": [
                                            {
                                                "marker": {
                                                    "colorbar": {
                                                        "outlinewidth": 0,
                                                        "ticks": ""
                                                    }
                                                },
                                                "type": "scatterpolar"
                                            }
                                        ],
                                        "scatterpolargl": [
                                            {
                                                "marker": {
                                                    "colorbar": {
                                                        "outlinewidth": 0,
                                                        "ticks": ""
                                                    }
                                                },
                                                "type": "scatterpolargl"
                                            }
                                        ],
                                        "scatterternary": [
                                            {
                                                "marker": {
                                                    "colorbar": {
                                                        "outlinewidth": 0,
                                                        "ticks": ""
                                                    }
                                                },
                                                "type": "scatterternary"
                                            }
                                        ],
                                        "surface": [
                                            {
                                                "colorbar": {
                                                    "outlinewidth": 0,
                                                    "ticks": ""
                                                },
                                                "colorscale": [
                                                    [
                                                        0,
                                                        "#0d0887"
                                                    ],
                                                    [
                                                        0.1111111111111111,
                                                        "#46039f"
                                                    ],
                                                    [
                                                        0.2222222222222222,
                                                        "#7201a8"
                                                    ],
                                                    [
                                                        0.3333333333333333,
                                                        "#9c179e"
                                                    ],
                                                    [
                                                        0.4444444444444444,
                                                        "#bd3786"
                                                    ],
                                                    [
                                                        0.5555555555555556,
                                                        "#d8576b"
                                                    ],
                                                    [
                                                        0.6666666666666666,
                                                        "#ed7953"
                                                    ],
                                                    [
                                                        0.7777777777777778,
                                                        "#fb9f3a"
                                                    ],
                                                    [
                                                        0.8888888888888888,
                                                        "#fdca26"
                                                    ],
                                                    [
                                                        1,
                                                        "#f0f921"
                                                    ]
                                                ],
                                                "type": "surface"
                                            }
                                        ],
                                        "table": [
                                            {
                                                "cells": {
                                                    "fill": {
                                                        "color": "#EBF0F8"
                                                    },
                                                    "line": {
                                                        "color": "white"
                                                    }
                                                },
                                                "header": {
                                                    "fill": {
                                                        "color": "#C8D4E3"
                                                    },
                                                    "line": {
                                                        "color": "white"
                                                    }
                                                },
                                                "type": "table"
                                            }
                                        ]
                                    },
                                    "layout": {
                                        "annotationdefaults": {
                                            "arrowcolor": "#2a3f5f",
                                            "arrowhead": 0,
                                            "arrowwidth": 1
                                        },
                                        "autotypenumbers": "strict",
                                        "coloraxis": {
                                            "colorbar": {
                                                "outlinewidth": 0,
                                                "ticks": ""
                                            }
                                        },
                                        "colorscale": {
                                            "diverging": [
                                                [
                                                    0,
                                                    "#8e0152"
                                                ],
                                                [
                                                    0.1,
                                                    "#c51b7d"
                                                ],
                                                [
                                                    0.2,
                                                    "#de77ae"
                                                ],
                                                [
                                                    0.3,
                                                    "#f1b6da"
                                                ],
                                                [
                                                    0.4,
                                                    "#fde0ef"
                                                ],
                                                [
                                                    0.5,
                                                    "#f7f7f7"
                                                ],
                                                [
                                                    0.6,
                                                    "#e6f5d0"
                                                ],
                                                [
                                                    0.7,
                                                    "#b8e186"
                                                ],
                                                [
                                                    0.8,
                                                    "#7fbc41"
                                                ],
                                                [
                                                    0.9,
                                                    "#4d9221"
                                                ],
                                                [
                                                    1,
                                                    "#276419"
                                                ]
                                            ],
                                            "sequential": [
                                                [
                                                    0,
                                                    "#0d0887"
                                                ],
                                                [
                                                    0.1111111111111111,
                                                    "#46039f"
                                                ],
                                                [
                                                    0.2222222222222222,
                                                    "#7201a8"
                                                ],
                                                [
                                                    0.3333333333333333,
                                                    "#9c179e"
                                                ],
                                                [
                                                    0.4444444444444444,
                                                    "#bd3786"
                                                ],
                                                [
                                                    0.5555555555555556,
                                                    "#d8576b"
                                                ],
                                                [
                                                    0.6666666666666666,
                                                    "#ed7953"
                                                ],
                                                [
                                                    0.7777777777777778,
                                                    "#fb9f3a"
                                                ],
                                                [
                                                    0.8888888888888888,
                                                    "#fdca26"
                                                ],
                                                [
                                                    1,
                                                    "#f0f921"
                                                ]
                                            ],
                                            "sequentialminus": [
                                                [
                                                    0,
                                                    "#0d0887"
                                                ],
                                                [
                                                    0.1111111111111111,
                                                    "#46039f"
                                                ],
                                                [
                                                    0.2222222222222222,
                                                    "#7201a8"
                                                ],
                                                [
                                                    0.3333333333333333,
                                                    "#9c179e"
                                                ],
                                                [
                                                    0.4444444444444444,
                                                    "#bd3786"
                                                ],
                                                [
                                                    0.5555555555555556,
                                                    "#d8576b"
                                                ],
                                                [
                                                    0.6666666666666666,
                                                    "#ed7953"
                                                ],
                                                [
                                                    0.7777777777777778,
                                                    "#fb9f3a"
                                                ],
                                                [
                                                    0.8888888888888888,
                                                    "#fdca26"
                                                ],
                                                [
                                                    1,
                                                    "#f0f921"
                                                ]
                                            ]
                                        },
                                        "colorway": [
                                            "#636efa",
                                            "#EF553B",
                                            "#00cc96",
                                            "#ab63fa",
                                            "#FFA15A",
                                            "#19d3f3",
                                            "#FF6692",
                                            "#B6E880",
                                            "#FF97FF",
                                            "#FECB52"
                                        ],
                                        "font": {
                                            "color": "#2a3f5f"
                                        },
                                        "geo": {
                                            "bgcolor": "white",
                                            "lakecolor": "white",
                                            "landcolor": "#E5ECF6",
                                            "showlakes": true,
                                            "showland": true,
                                            "subunitcolor": "white"
                                        },
                                        "hoverlabel": {
                                            "align": "left"
                                        },
                                        "hovermode": "closest",
                                        "mapbox": {
                                            "style": "light"
                                        },
                                        "paper_bgcolor": "white",
                                        "plot_bgcolor": "#E5ECF6",
                                        "polar": {
                                            "angularaxis": {
                                                "gridcolor": "white",
                                                "linecolor": "white",
                                                "ticks": ""
                                            },
                                            "bgcolor": "#E5ECF6",
                                            "radialaxis": {
                                                "gridcolor": "white",
                                                "linecolor": "white",
                                                "ticks": ""
                                            }
                                        },
                                        "scene": {
                                            "xaxis": {
                                                "backgroundcolor": "#E5ECF6",
                                                "gridcolor": "white",
                                                "gridwidth": 2,
                                                "linecolor": "white",
                                                "showbackground": true,
                                                "ticks": "",
                                                "zerolinecolor": "white"
                                            },
                                            "yaxis": {
                                                "backgroundcolor": "#E5ECF6",
                                                "gridcolor": "white",
                                                "gridwidth": 2,
                                                "linecolor": "white",
                                                "showbackground": true,
                                                "ticks": "",
                                                "zerolinecolor": "white"
                                            },
                                            "zaxis": {
                                                "backgroundcolor": "#E5ECF6",
                                                "gridcolor": "white",
                                                "gridwidth": 2,
                                                "linecolor": "white",
                                                "showbackground": true,
                                                "ticks": "",
                                                "zerolinecolor": "white"
                                            }
                                        },
                                        "shapedefaults": {
                                            "line": {
                                                "color": "#2a3f5f"
                                            }
                                        },
                                        "ternary": {
                                            "aaxis": {
                                                "gridcolor": "white",
                                                "linecolor": "white",
                                                "ticks": ""
                                            },
                                            "baxis": {
                                                "gridcolor": "white",
                                                "linecolor": "white",
                                                "ticks": ""
                                            },
                                            "bgcolor": "#E5ECF6",
                                            "caxis": {
                                                "gridcolor": "white",
                                                "linecolor": "white",
                                                "ticks": ""
                                            }
                                        },
                                        "title": {
                                            "x": 0.05
                                        },
                                        "xaxis": {
                                            "automargin": true,
                                            "gridcolor": "white",
                                            "linecolor": "white",
                                            "ticks": "",
                                            "title": {
                                                "standoff": 15
                                            },
                                            "zerolinecolor": "white",
                                            "zerolinewidth": 2
                                        },
                                        "yaxis": {
                                            "automargin": true,
                                            "gridcolor": "white",
                                            "linecolor": "white",
                                            "ticks": "",
                                            "title": {
                                                "standoff": 15
                                            },
                                            "zerolinecolor": "white",
                                            "zerolinewidth": 2
                                        }
                                    }
                                },
                                "width": 1200,
                                "xaxis": {
                                    "anchor": "y",
                                    "domain": [
                                        0,
                                        1
                                    ],
                                    "title": {
                                        "text": "extract_fraction"
                                    }
                                },
                                "yaxis": {
                                    "anchor": "x",
                                    "domain": [
                                        0,
                                        1
                                    ],
                                    "title": {
                                        "text": "fraction_hit"
                                    }
                                }
                            }
                        }
                    },
                    "metadata": {},
                    "output_type": "display_data"
                }
            ],
            "source": [
                "for list_experiment in list_list_experiment:\n",
                "    for experiment in list_experiment:\n",
                "        print(experiment)\n",
                "from plotly.subplots import make_subplots\n",
                "import plotly.express as px\n",
                "import plotly.graph_objects as go\n",
                "\n",
                "def plot_experiment_privacy_one_sample_dma(list_list_experiment):\n",
                "    xaxis = \"extract_fraction\"\n",
                "    yaxis = \"fraction_hit\"\n",
                "    trace_axis = \"estimator_name\"\n",
                "    list_split_rows = []\n",
                "    list_split_cols = []\n",
                "    list_split_trace = []\n",
                "\n",
                "    list_subplot_titles = [\"boem\"]\n",
                "    fig = make_subplots(rows=1, cols=1, shared_yaxes=True, subplot_titles=list_subplot_titles)\n",
                "    dict_line = {}\n",
                "    for i_trace, list_experiment in enumerate(list_list_experiment):\n",
                "        add_trace_experiment(\n",
                "            fig,\n",
                "            1,\n",
                "            1,\n",
                "            xaxis,\n",
                "            yaxis,\n",
                "            trace_axis,\n",
                "            True,\n",
                "            dict_line,\n",
                "            list_experiment,\n",
                "        )\n",
                "    fig[\"layout\"][\"xaxis\"][\"title\"] = xaxis\n",
                "    for i in range(1 - 1):\n",
                "        fig[\"layout\"][f\"xaxis{i+2}\"][\"title\"] =xaxis\n",
                "    fig[\"layout\"][\"yaxis\"][\"title\"] = yaxis\n",
                "    fig.update_layout(height=350, width=1200, showlegend=True)\n",
                "    fig.show()\n",
                "\n",
                "\n",
                "\n",
                "def add_trace_experiment(\n",
                "    fig,\n",
                "    index_row: int,\n",
                "    index_col: int,\n",
                "    attribute_x: str,\n",
                "    attribute_y: str,\n",
                "    attribute_name: str,\n",
                "    show_legend: bool,\n",
                "    dict_line: dict,\n",
                "    list_experiment: List[dict],\n",
                "):\n",
                "    print(\"\")\n",
                "    print(list_experiment)\n",
                "    name = list_experiment[0][\"parameter\"][attribute_name]\n",
                "    # gather data\n",
                "    list_x = []\n",
                "    list_y = []\n",
                "    for experiment in list_experiment:\n",
                "        list_x.append(experiment[\"parameter\"][attribute_x])\n",
                "        list_y.append(experiment[\"result\"][attribute_y])\n",
                "    # sort\n",
                "    list_x_sorted = [x for x, y in sorted(zip(list_x, list_y), key=lambda pair: pair[0])]\n",
                "    list_y_sorted = [y for x, y in sorted(zip(list_x, list_y), key=lambda pair: pair[0])]\n",
                "    # plot\n",
                "    # go_power = go.Scatter(\n",
                "    #     x=list_x_sorted,\n",
                "    #     y=list_y_sorted,\n",
                "    #     name=name,\n",
                "    #     line=dict(color=\"#0000ff\"),\n",
                "    # )\n",
                "    if name not in dict_line:\n",
                "        line = dict(color=px.colors.qualitative.Plotly[len(dict_line)])\n",
                "        dict_line[name] = line\n",
                "\n",
                "    line = dict_line[name]\n",
                "    go_power = go.Scatter(\n",
                "        x=list_x_sorted, y=list_y_sorted, name=name, legendgroup=name, showlegend=show_legend, line=line\n",
                "    )\n",
                "    fig.add_trace(go_power, row=index_row, col=index_col)\n",
                "\n",
                "plot_experiment_privacy_one_sample_dma(list_list_experiment)\n"
            ]
        }
    ],
    "metadata": {
        "kernelspec": {
            "display_name": "venv38_sail",
            "language": "python",
            "name": "python3"
        },
        "language_info": {
            "codemirror_mode": {
                "name": "ipython",
                "version": 3
            },
            "file_extension": ".py",
            "mimetype": "text/x-python",
            "name": "python",
            "nbconvert_exporter": "python",
            "pygments_lexer": "ipython3",
            "version": "3.8.10"
        },
        "vscode": {
            "interpreter": {
                "hash": "b6edbe5638b3feacd7106d40a106e2c3e12ceb182912a9b721169069f1c54c2c"
            }
        }
    },
    "nbformat": 4,
    "nbformat_minor": 5
}
