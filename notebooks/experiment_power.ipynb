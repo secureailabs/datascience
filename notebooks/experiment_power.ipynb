{
    "cells": [
        {
            "cell_type": "code",
            "execution_count": 1,
            "id": "8b749755-9306-4a4d-ab71-be754420d36a",
            "metadata": {},
            "outputs": [],
            "source": [
                "from sail_core.implementation_manager import ImplementationManager\n",
                "from sail_safe_functions.test.helper_sail_safe_functions.participant_service_local import ParticipantSeriviceLocal\n",
                "implementation_manager = ImplementationManager.get_instance()\n",
                "if not implementation_manager.is_initialized:\n",
                "    implementation_manager.set_participant_service(ParticipantSeriviceLocal())\n",
                "    implementation_manager.initialize()"
            ]
        },
        {
            "cell_type": "code",
            "execution_count": 2,
            "id": "508401b8",
            "metadata": {},
            "outputs": [],
            "source": [
                "from typing import List\n",
                "\n",
                "import numpy\n",
                "import pandas\n",
                "\n",
                "from sail_safe_functions.aggregator.statistics.estimator import Estimator\n",
                "from sail_safe_functions.aggregator.statistics.kolmogorov_smirnov_test import KolmogorovSmirnovTest\n",
                "from sail_safe_functions.aggregator.statistics.kurtosis import Kurtosis\n",
                "from sail_safe_functions.aggregator.statistics.mean import Mean\n",
                "from sail_safe_functions.aggregator.statistics.min_max import MinMax\n",
                "\n",
                "# import tests\n",
                "from sail_safe_functions.aggregator.statistics.paired_t_test import PairedTTest\n",
                "from sail_safe_functions.aggregator.statistics.student_t_test import StudentTTest\n",
                "from sail_safe_functions.aggregator.statistics.mann_whitney_u_test import MannWhitneyUTest\n",
                "from sail_safe_functions.aggregator.statistics.wilcoxon_signed_rank_test import WilcoxonSingedRankTest\n",
                "from sail_safe_functions.aggregator.statistics.spearman import Spearman\n",
                "\n",
                "# import helper\n",
                "from sail_safe_functions.test.helper_sail_safe_functions.generator_one_sample_float import GeneratorOneSampleFloat\n",
                "from sail_safe_functions.test.helper_sail_safe_functions.generator_two_sample_float import GeneratorTwoSampleFloat\n",
                "\n",
                "from sail_safe_functions.test.helper_sail_safe_functions.tools_accuracy import (\n",
                "    create_report_power,\n",
                "    evaluate_accuracy,\n",
                "    plot_estimator_comparrison,\n",
                "    plot_report_estimator,\n",
                "    plot_report_power,\n",
                "    experiment_power,\n",
                "    plot_experiment_power,\n",
                ")\n",
                "from sail_safe_functions.test.helper_sail_safe_functions.tools_privacy import compute_single_knockout_privacy_measure\n",
                "\n",
                "\n"
            ]
        },
        {
            "cell_type": "code",
            "execution_count": 3,
            "id": "582270e6-20f3-416a-a3c3-162501aec13c",
            "metadata": {},
            "outputs": [],
            "source": [
                "\n",
                "two_sample_normal_high_res = GeneratorTwoSampleFloat(\"normal unit\", type_distribution=\"normal\",  mean=0.0, standard_deviation=1.0, list_weight_federation=[1.0], resolution=-1)\n",
                "two_sample_normal_low_res = GeneratorTwoSampleFloat(\"normal unit\", type_distribution=\"normal\",  mean=0.0, standard_deviation=1.0, list_weight_federation=[1.0], resolution=0.3)\n",
                "two_sample_uniform_high_res = GeneratorTwoSampleFloat(\"uniform unit\", type_distribution=\"uniform\", mean=0.0, standard_deviation=1.0, list_weight_federation=[1.0], resolution=-1)\n",
                "two_sample_uniform_low_res = GeneratorTwoSampleFloat(\"uniform unit\", type_distribution=\"uniform\", mean=0.0, standard_deviation=1.0, list_weight_federation=[1.0], resolution=0.3)\n",
                "\n",
                "two_sample_uniform_low_res_fed = GeneratorTwoSampleFloat(\"uniform unit\", type_distribution=\"uniform\", mean=0.0, standard_deviation=1.0, list_weight_federation=[0.25, 0.25, 0.25, 0.25], resolution=0.1)\n"
            ]
        },
        {
            "cell_type": "code",
            "execution_count": 4,
            "id": "f5581b29-9bb0-49bf-a0ba-cb875ce2f0b6",
            "metadata": {},
            "outputs": [
                {
                    "data": {
                        "application/vnd.plotly.v1+json": {
                            "config": {
                                "plotlyServerURL": "https://plot.ly"
                            },
                            "data": [
                                {
                                    "legendgroup": "StudentTTest - two-sided",
                                    "line": {
                                        "color": "#636EFA"
                                    },
                                    "name": "StudentTTest - two-sided",
                                    "showlegend": false,
                                    "type": "scatter",
                                    "x": [
                                        0,
                                        0.1,
                                        0.2,
                                        0.4,
                                        0.6,
                                        0.8,
                                        1
                                    ],
                                    "xaxis": "x",
                                    "y": [
                                        0.11,
                                        0.115,
                                        0.16,
                                        0.21,
                                        0.425,
                                        0.43,
                                        0.635
                                    ],
                                    "yaxis": "y"
                                },
                                {
                                    "legendgroup": "PairedTTest - two-sided",
                                    "line": {
                                        "color": "#EF553B"
                                    },
                                    "name": "PairedTTest - two-sided",
                                    "showlegend": false,
                                    "type": "scatter",
                                    "x": [
                                        0,
                                        0.1,
                                        0.2,
                                        0.4,
                                        0.6,
                                        0.8,
                                        1
                                    ],
                                    "xaxis": "x",
                                    "y": [
                                        0.1,
                                        0.105,
                                        0.12,
                                        0.26,
                                        0.335,
                                        0.495,
                                        0.57
                                    ],
                                    "yaxis": "y"
                                },
                                {
                                    "legendgroup": "MannWhitneyUTest - two-sided - unsafe",
                                    "line": {
                                        "color": "#00CC96"
                                    },
                                    "name": "MannWhitneyUTest - two-sided - unsafe",
                                    "showlegend": false,
                                    "type": "scatter",
                                    "x": [
                                        0,
                                        0.1,
                                        0.2,
                                        0.4,
                                        0.6,
                                        0.8,
                                        1
                                    ],
                                    "xaxis": "x",
                                    "y": [
                                        0.045,
                                        0.045,
                                        0.025,
                                        0.06,
                                        0.125,
                                        0.175,
                                        0.19
                                    ],
                                    "yaxis": "y"
                                },
                                {
                                    "legendgroup": "MannWhitneyUTest - two-sided - cdf",
                                    "line": {
                                        "color": "#AB63FA"
                                    },
                                    "name": "MannWhitneyUTest - two-sided - cdf",
                                    "showlegend": false,
                                    "type": "scatter",
                                    "x": [
                                        0,
                                        0.1,
                                        0.2,
                                        0.4,
                                        0.6,
                                        0.8,
                                        1
                                    ],
                                    "xaxis": "x",
                                    "y": [
                                        0.065,
                                        0.065,
                                        0.085,
                                        0.155,
                                        0.215,
                                        0.26,
                                        0.295
                                    ],
                                    "yaxis": "y"
                                },
                                {
                                    "legendgroup": "WilcoxonSingedRankTest - two-sided - unsafe",
                                    "line": {
                                        "color": "#FFA15A"
                                    },
                                    "name": "WilcoxonSingedRankTest - two-sided - unsafe",
                                    "showlegend": false,
                                    "type": "scatter",
                                    "x": [
                                        0,
                                        0.1,
                                        0.2,
                                        0.4,
                                        0.6,
                                        0.8,
                                        1
                                    ],
                                    "xaxis": "x",
                                    "y": [
                                        0.065,
                                        0.07,
                                        0.055,
                                        0.075,
                                        0.125,
                                        0.18,
                                        0.165
                                    ],
                                    "yaxis": "y"
                                },
                                {
                                    "legendgroup": "WilcoxonSingedRankTest - two-sided - cdf",
                                    "line": {
                                        "color": "#19D3F3"
                                    },
                                    "name": "WilcoxonSingedRankTest - two-sided - cdf",
                                    "showlegend": false,
                                    "type": "scatter",
                                    "x": [
                                        0,
                                        0.1,
                                        0.2,
                                        0.4,
                                        0.6,
                                        0.8,
                                        1
                                    ],
                                    "xaxis": "x",
                                    "y": [
                                        0.15,
                                        0.17,
                                        0.145,
                                        0.155,
                                        0.245,
                                        0.315,
                                        0.385
                                    ],
                                    "yaxis": "y"
                                },
                                {
                                    "legendgroup": "StudentTTest - two-sided",
                                    "line": {
                                        "color": "#636EFA"
                                    },
                                    "name": "StudentTTest - two-sided",
                                    "showlegend": false,
                                    "type": "scatter",
                                    "x": [
                                        0,
                                        0.1,
                                        0.2,
                                        0.4,
                                        0.6,
                                        0.8,
                                        1
                                    ],
                                    "xaxis": "x2",
                                    "y": [
                                        0.11,
                                        0.18,
                                        0.185,
                                        0.37,
                                        0.515,
                                        0.725,
                                        0.76
                                    ],
                                    "yaxis": "y2"
                                },
                                {
                                    "legendgroup": "PairedTTest - two-sided",
                                    "line": {
                                        "color": "#EF553B"
                                    },
                                    "name": "PairedTTest - two-sided",
                                    "showlegend": false,
                                    "type": "scatter",
                                    "x": [
                                        0,
                                        0.1,
                                        0.2,
                                        0.4,
                                        0.6,
                                        0.8,
                                        1
                                    ],
                                    "xaxis": "x2",
                                    "y": [
                                        0.13,
                                        0.1,
                                        0.23,
                                        0.35,
                                        0.525,
                                        0.68,
                                        0.795
                                    ],
                                    "yaxis": "y2"
                                },
                                {
                                    "legendgroup": "MannWhitneyUTest - two-sided - unsafe",
                                    "line": {
                                        "color": "#00CC96"
                                    },
                                    "name": "MannWhitneyUTest - two-sided - unsafe",
                                    "showlegend": false,
                                    "type": "scatter",
                                    "x": [
                                        0,
                                        0.1,
                                        0.2,
                                        0.4,
                                        0.6,
                                        0.8,
                                        1
                                    ],
                                    "xaxis": "x2",
                                    "y": [
                                        0.03,
                                        0.045,
                                        0.065,
                                        0.145,
                                        0.2,
                                        0.34,
                                        0.55
                                    ],
                                    "yaxis": "y2"
                                },
                                {
                                    "legendgroup": "MannWhitneyUTest - two-sided - cdf",
                                    "line": {
                                        "color": "#AB63FA"
                                    },
                                    "name": "MannWhitneyUTest - two-sided - cdf",
                                    "showlegend": false,
                                    "type": "scatter",
                                    "x": [
                                        0,
                                        0.1,
                                        0.2,
                                        0.4,
                                        0.6,
                                        0.8,
                                        1
                                    ],
                                    "xaxis": "x2",
                                    "y": [
                                        0.09,
                                        0.085,
                                        0.065,
                                        0.18,
                                        0.27,
                                        0.385,
                                        0.585
                                    ],
                                    "yaxis": "y2"
                                },
                                {
                                    "legendgroup": "WilcoxonSingedRankTest - two-sided - unsafe",
                                    "line": {
                                        "color": "#FFA15A"
                                    },
                                    "name": "WilcoxonSingedRankTest - two-sided - unsafe",
                                    "showlegend": false,
                                    "type": "scatter",
                                    "x": [
                                        0,
                                        0.1,
                                        0.2,
                                        0.4,
                                        0.6,
                                        0.8,
                                        1
                                    ],
                                    "xaxis": "x2",
                                    "y": [
                                        0.06,
                                        0.05,
                                        0.08,
                                        0.13,
                                        0.21,
                                        0.34,
                                        0.49
                                    ],
                                    "yaxis": "y2"
                                },
                                {
                                    "legendgroup": "WilcoxonSingedRankTest - two-sided - cdf",
                                    "line": {
                                        "color": "#19D3F3"
                                    },
                                    "name": "WilcoxonSingedRankTest - two-sided - cdf",
                                    "showlegend": false,
                                    "type": "scatter",
                                    "x": [
                                        0,
                                        0.1,
                                        0.2,
                                        0.4,
                                        0.6,
                                        0.8,
                                        1
                                    ],
                                    "xaxis": "x2",
                                    "y": [
                                        0.095,
                                        0.08,
                                        0.14,
                                        0.19,
                                        0.36,
                                        0.46,
                                        0.62
                                    ],
                                    "yaxis": "y2"
                                },
                                {
                                    "legendgroup": "StudentTTest - two-sided",
                                    "line": {
                                        "color": "#636EFA"
                                    },
                                    "name": "StudentTTest - two-sided",
                                    "showlegend": false,
                                    "type": "scatter",
                                    "x": [
                                        0,
                                        0.1,
                                        0.2,
                                        0.4,
                                        0.6,
                                        0.8,
                                        1
                                    ],
                                    "xaxis": "x3",
                                    "y": [
                                        0.105,
                                        0.16,
                                        0.24,
                                        0.415,
                                        0.665,
                                        0.8,
                                        0.9
                                    ],
                                    "yaxis": "y3"
                                },
                                {
                                    "legendgroup": "PairedTTest - two-sided",
                                    "line": {
                                        "color": "#EF553B"
                                    },
                                    "name": "PairedTTest - two-sided",
                                    "showlegend": false,
                                    "type": "scatter",
                                    "x": [
                                        0,
                                        0.1,
                                        0.2,
                                        0.4,
                                        0.6,
                                        0.8,
                                        1
                                    ],
                                    "xaxis": "x3",
                                    "y": [
                                        0.085,
                                        0.105,
                                        0.25,
                                        0.415,
                                        0.675,
                                        0.735,
                                        0.91
                                    ],
                                    "yaxis": "y3"
                                },
                                {
                                    "legendgroup": "MannWhitneyUTest - two-sided - unsafe",
                                    "line": {
                                        "color": "#00CC96"
                                    },
                                    "name": "MannWhitneyUTest - two-sided - unsafe",
                                    "showlegend": false,
                                    "type": "scatter",
                                    "x": [
                                        0,
                                        0.1,
                                        0.2,
                                        0.4,
                                        0.6,
                                        0.8,
                                        1
                                    ],
                                    "xaxis": "x3",
                                    "y": [
                                        0.045,
                                        0.06,
                                        0.095,
                                        0.145,
                                        0.29,
                                        0.54,
                                        0.76
                                    ],
                                    "yaxis": "y3"
                                },
                                {
                                    "legendgroup": "MannWhitneyUTest - two-sided - cdf",
                                    "line": {
                                        "color": "#AB63FA"
                                    },
                                    "name": "MannWhitneyUTest - two-sided - cdf",
                                    "showlegend": false,
                                    "type": "scatter",
                                    "x": [
                                        0,
                                        0.1,
                                        0.2,
                                        0.4,
                                        0.6,
                                        0.8,
                                        1
                                    ],
                                    "xaxis": "x3",
                                    "y": [
                                        0.025,
                                        0.05,
                                        0.06,
                                        0.26,
                                        0.3,
                                        0.595,
                                        0.705
                                    ],
                                    "yaxis": "y3"
                                },
                                {
                                    "legendgroup": "WilcoxonSingedRankTest - two-sided - unsafe",
                                    "line": {
                                        "color": "#FFA15A"
                                    },
                                    "name": "WilcoxonSingedRankTest - two-sided - unsafe",
                                    "showlegend": false,
                                    "type": "scatter",
                                    "x": [
                                        0,
                                        0.1,
                                        0.2,
                                        0.4,
                                        0.6,
                                        0.8,
                                        1
                                    ],
                                    "xaxis": "x3",
                                    "y": [
                                        0.035,
                                        0.07,
                                        0.075,
                                        0.17,
                                        0.345,
                                        0.52,
                                        0.635
                                    ],
                                    "yaxis": "y3"
                                },
                                {
                                    "legendgroup": "WilcoxonSingedRankTest - two-sided - cdf",
                                    "line": {
                                        "color": "#19D3F3"
                                    },
                                    "name": "WilcoxonSingedRankTest - two-sided - cdf",
                                    "showlegend": false,
                                    "type": "scatter",
                                    "x": [
                                        0,
                                        0.1,
                                        0.2,
                                        0.4,
                                        0.6,
                                        0.8,
                                        1
                                    ],
                                    "xaxis": "x3",
                                    "y": [
                                        0.15,
                                        0.11,
                                        0.155,
                                        0.215,
                                        0.475,
                                        0.605,
                                        0.82
                                    ],
                                    "yaxis": "y3"
                                },
                                {
                                    "legendgroup": "StudentTTest - two-sided",
                                    "line": {
                                        "color": "#636EFA"
                                    },
                                    "name": "StudentTTest - two-sided",
                                    "showlegend": false,
                                    "type": "scatter",
                                    "x": [
                                        0,
                                        0.1,
                                        0.2,
                                        0.4,
                                        0.6,
                                        0.8,
                                        1
                                    ],
                                    "xaxis": "x4",
                                    "y": [
                                        0.06,
                                        0.2,
                                        0.245,
                                        0.515,
                                        0.82,
                                        0.935,
                                        0.98
                                    ],
                                    "yaxis": "y4"
                                },
                                {
                                    "legendgroup": "PairedTTest - two-sided",
                                    "line": {
                                        "color": "#EF553B"
                                    },
                                    "name": "PairedTTest - two-sided",
                                    "showlegend": false,
                                    "type": "scatter",
                                    "x": [
                                        0,
                                        0.1,
                                        0.2,
                                        0.4,
                                        0.6,
                                        0.8,
                                        1
                                    ],
                                    "xaxis": "x4",
                                    "y": [
                                        0.065,
                                        0.215,
                                        0.285,
                                        0.56,
                                        0.75,
                                        0.91,
                                        0.99
                                    ],
                                    "yaxis": "y4"
                                },
                                {
                                    "legendgroup": "MannWhitneyUTest - two-sided - unsafe",
                                    "line": {
                                        "color": "#00CC96"
                                    },
                                    "name": "MannWhitneyUTest - two-sided - unsafe",
                                    "showlegend": false,
                                    "type": "scatter",
                                    "x": [
                                        0,
                                        0.1,
                                        0.2,
                                        0.4,
                                        0.6,
                                        0.8,
                                        1
                                    ],
                                    "xaxis": "x4",
                                    "y": [
                                        0.055,
                                        0.055,
                                        0.155,
                                        0.235,
                                        0.515,
                                        0.8,
                                        0.905
                                    ],
                                    "yaxis": "y4"
                                },
                                {
                                    "legendgroup": "MannWhitneyUTest - two-sided - cdf",
                                    "line": {
                                        "color": "#AB63FA"
                                    },
                                    "name": "MannWhitneyUTest - two-sided - cdf",
                                    "showlegend": false,
                                    "type": "scatter",
                                    "x": [
                                        0,
                                        0.1,
                                        0.2,
                                        0.4,
                                        0.6,
                                        0.8,
                                        1
                                    ],
                                    "xaxis": "x4",
                                    "y": [
                                        0.06,
                                        0.035,
                                        0.115,
                                        0.29,
                                        0.48,
                                        0.74,
                                        0.89
                                    ],
                                    "yaxis": "y4"
                                },
                                {
                                    "legendgroup": "WilcoxonSingedRankTest - two-sided - unsafe",
                                    "line": {
                                        "color": "#FFA15A"
                                    },
                                    "name": "WilcoxonSingedRankTest - two-sided - unsafe",
                                    "showlegend": false,
                                    "type": "scatter",
                                    "x": [
                                        0,
                                        0.1,
                                        0.2,
                                        0.4,
                                        0.6,
                                        0.8,
                                        1
                                    ],
                                    "xaxis": "x4",
                                    "y": [
                                        0.04,
                                        0.075,
                                        0.1,
                                        0.26,
                                        0.51,
                                        0.77,
                                        0.91
                                    ],
                                    "yaxis": "y4"
                                },
                                {
                                    "legendgroup": "WilcoxonSingedRankTest - two-sided - cdf",
                                    "line": {
                                        "color": "#19D3F3"
                                    },
                                    "name": "WilcoxonSingedRankTest - two-sided - cdf",
                                    "showlegend": false,
                                    "type": "scatter",
                                    "x": [
                                        0,
                                        0.1,
                                        0.2,
                                        0.4,
                                        0.6,
                                        0.8,
                                        1
                                    ],
                                    "xaxis": "x4",
                                    "y": [
                                        0.095,
                                        0.085,
                                        0.14,
                                        0.31,
                                        0.585,
                                        0.8,
                                        0.955
                                    ],
                                    "yaxis": "y4"
                                },
                                {
                                    "legendgroup": "StudentTTest - two-sided",
                                    "line": {
                                        "color": "#636EFA"
                                    },
                                    "name": "StudentTTest - two-sided",
                                    "showlegend": true,
                                    "type": "scatter",
                                    "x": [
                                        0,
                                        0.1,
                                        0.2,
                                        0.4,
                                        0.6,
                                        0.8,
                                        1
                                    ],
                                    "xaxis": "x5",
                                    "y": [
                                        0.1,
                                        0.26,
                                        0.46,
                                        0.735,
                                        0.93,
                                        0.995,
                                        1
                                    ],
                                    "yaxis": "y5"
                                },
                                {
                                    "legendgroup": "PairedTTest - two-sided",
                                    "line": {
                                        "color": "#EF553B"
                                    },
                                    "name": "PairedTTest - two-sided",
                                    "showlegend": true,
                                    "type": "scatter",
                                    "x": [
                                        0,
                                        0.1,
                                        0.2,
                                        0.4,
                                        0.6,
                                        0.8,
                                        1
                                    ],
                                    "xaxis": "x5",
                                    "y": [
                                        0.11,
                                        0.175,
                                        0.38,
                                        0.715,
                                        0.95,
                                        0.995,
                                        1
                                    ],
                                    "yaxis": "y5"
                                },
                                {
                                    "legendgroup": "MannWhitneyUTest - two-sided - unsafe",
                                    "line": {
                                        "color": "#00CC96"
                                    },
                                    "name": "MannWhitneyUTest - two-sided - unsafe",
                                    "showlegend": true,
                                    "type": "scatter",
                                    "x": [
                                        0,
                                        0.1,
                                        0.2,
                                        0.4,
                                        0.6,
                                        0.8,
                                        1
                                    ],
                                    "xaxis": "x5",
                                    "y": [
                                        0.055,
                                        0.085,
                                        0.185,
                                        0.49,
                                        0.785,
                                        0.97,
                                        1
                                    ],
                                    "yaxis": "y5"
                                },
                                {
                                    "legendgroup": "MannWhitneyUTest - two-sided - cdf",
                                    "line": {
                                        "color": "#AB63FA"
                                    },
                                    "name": "MannWhitneyUTest - two-sided - cdf",
                                    "showlegend": true,
                                    "type": "scatter",
                                    "x": [
                                        0,
                                        0.1,
                                        0.2,
                                        0.4,
                                        0.6,
                                        0.8,
                                        1
                                    ],
                                    "xaxis": "x5",
                                    "y": [
                                        0.045,
                                        0.07,
                                        0.155,
                                        0.475,
                                        0.8,
                                        0.965,
                                        0.995
                                    ],
                                    "yaxis": "y5"
                                },
                                {
                                    "legendgroup": "WilcoxonSingedRankTest - two-sided - unsafe",
                                    "line": {
                                        "color": "#FFA15A"
                                    },
                                    "name": "WilcoxonSingedRankTest - two-sided - unsafe",
                                    "showlegend": true,
                                    "type": "scatter",
                                    "x": [
                                        0,
                                        0.1,
                                        0.2,
                                        0.4,
                                        0.6,
                                        0.8,
                                        1
                                    ],
                                    "xaxis": "x5",
                                    "y": [
                                        0.055,
                                        0.06,
                                        0.21,
                                        0.46,
                                        0.83,
                                        0.985,
                                        1
                                    ],
                                    "yaxis": "y5"
                                },
                                {
                                    "legendgroup": "WilcoxonSingedRankTest - two-sided - cdf",
                                    "line": {
                                        "color": "#19D3F3"
                                    },
                                    "name": "WilcoxonSingedRankTest - two-sided - cdf",
                                    "showlegend": true,
                                    "type": "scatter",
                                    "x": [
                                        0,
                                        0.1,
                                        0.2,
                                        0.4,
                                        0.6,
                                        0.8,
                                        1
                                    ],
                                    "xaxis": "x5",
                                    "y": [
                                        0.075,
                                        0.055,
                                        0.17,
                                        0.47,
                                        0.895,
                                        0.975,
                                        1
                                    ],
                                    "yaxis": "y5"
                                }
                            ],
                            "layout": {
                                "annotations": [
                                    {
                                        "font": {
                                            "size": 16
                                        },
                                        "showarrow": false,
                                        "text": "N=5",
                                        "x": 0.08399999999999999,
                                        "xanchor": "center",
                                        "xref": "paper",
                                        "y": 1,
                                        "yanchor": "bottom",
                                        "yref": "paper"
                                    },
                                    {
                                        "font": {
                                            "size": 16
                                        },
                                        "showarrow": false,
                                        "text": "N=10",
                                        "x": 0.292,
                                        "xanchor": "center",
                                        "xref": "paper",
                                        "y": 1,
                                        "yanchor": "bottom",
                                        "yref": "paper"
                                    },
                                    {
                                        "font": {
                                            "size": 16
                                        },
                                        "showarrow": false,
                                        "text": "N=15",
                                        "x": 0.5,
                                        "xanchor": "center",
                                        "xref": "paper",
                                        "y": 1,
                                        "yanchor": "bottom",
                                        "yref": "paper"
                                    },
                                    {
                                        "font": {
                                            "size": 16
                                        },
                                        "showarrow": false,
                                        "text": "N=25",
                                        "x": 0.708,
                                        "xanchor": "center",
                                        "xref": "paper",
                                        "y": 1,
                                        "yanchor": "bottom",
                                        "yref": "paper"
                                    },
                                    {
                                        "font": {
                                            "size": 16
                                        },
                                        "showarrow": false,
                                        "text": "N=50",
                                        "x": 0.9159999999999999,
                                        "xanchor": "center",
                                        "xref": "paper",
                                        "y": 1,
                                        "yanchor": "bottom",
                                        "yref": "paper"
                                    }
                                ],
                                "height": 350,
                                "showlegend": true,
                                "template": {
                                    "data": {
                                        "bar": [
                                            {
                                                "error_x": {
                                                    "color": "#2a3f5f"
                                                },
                                                "error_y": {
                                                    "color": "#2a3f5f"
                                                },
                                                "marker": {
                                                    "line": {
                                                        "color": "#E5ECF6",
                                                        "width": 0.5
                                                    },
                                                    "pattern": {
                                                        "fillmode": "overlay",
                                                        "size": 10,
                                                        "solidity": 0.2
                                                    }
                                                },
                                                "type": "bar"
                                            }
                                        ],
                                        "barpolar": [
                                            {
                                                "marker": {
                                                    "line": {
                                                        "color": "#E5ECF6",
                                                        "width": 0.5
                                                    },
                                                    "pattern": {
                                                        "fillmode": "overlay",
                                                        "size": 10,
                                                        "solidity": 0.2
                                                    }
                                                },
                                                "type": "barpolar"
                                            }
                                        ],
                                        "carpet": [
                                            {
                                                "aaxis": {
                                                    "endlinecolor": "#2a3f5f",
                                                    "gridcolor": "white",
                                                    "linecolor": "white",
                                                    "minorgridcolor": "white",
                                                    "startlinecolor": "#2a3f5f"
                                                },
                                                "baxis": {
                                                    "endlinecolor": "#2a3f5f",
                                                    "gridcolor": "white",
                                                    "linecolor": "white",
                                                    "minorgridcolor": "white",
                                                    "startlinecolor": "#2a3f5f"
                                                },
                                                "type": "carpet"
                                            }
                                        ],
                                        "choropleth": [
                                            {
                                                "colorbar": {
                                                    "outlinewidth": 0,
                                                    "ticks": ""
                                                },
                                                "type": "choropleth"
                                            }
                                        ],
                                        "contour": [
                                            {
                                                "colorbar": {
                                                    "outlinewidth": 0,
                                                    "ticks": ""
                                                },
                                                "colorscale": [
                                                    [
                                                        0,
                                                        "#0d0887"
                                                    ],
                                                    [
                                                        0.1111111111111111,
                                                        "#46039f"
                                                    ],
                                                    [
                                                        0.2222222222222222,
                                                        "#7201a8"
                                                    ],
                                                    [
                                                        0.3333333333333333,
                                                        "#9c179e"
                                                    ],
                                                    [
                                                        0.4444444444444444,
                                                        "#bd3786"
                                                    ],
                                                    [
                                                        0.5555555555555556,
                                                        "#d8576b"
                                                    ],
                                                    [
                                                        0.6666666666666666,
                                                        "#ed7953"
                                                    ],
                                                    [
                                                        0.7777777777777778,
                                                        "#fb9f3a"
                                                    ],
                                                    [
                                                        0.8888888888888888,
                                                        "#fdca26"
                                                    ],
                                                    [
                                                        1,
                                                        "#f0f921"
                                                    ]
                                                ],
                                                "type": "contour"
                                            }
                                        ],
                                        "contourcarpet": [
                                            {
                                                "colorbar": {
                                                    "outlinewidth": 0,
                                                    "ticks": ""
                                                },
                                                "type": "contourcarpet"
                                            }
                                        ],
                                        "heatmap": [
                                            {
                                                "colorbar": {
                                                    "outlinewidth": 0,
                                                    "ticks": ""
                                                },
                                                "colorscale": [
                                                    [
                                                        0,
                                                        "#0d0887"
                                                    ],
                                                    [
                                                        0.1111111111111111,
                                                        "#46039f"
                                                    ],
                                                    [
                                                        0.2222222222222222,
                                                        "#7201a8"
                                                    ],
                                                    [
                                                        0.3333333333333333,
                                                        "#9c179e"
                                                    ],
                                                    [
                                                        0.4444444444444444,
                                                        "#bd3786"
                                                    ],
                                                    [
                                                        0.5555555555555556,
                                                        "#d8576b"
                                                    ],
                                                    [
                                                        0.6666666666666666,
                                                        "#ed7953"
                                                    ],
                                                    [
                                                        0.7777777777777778,
                                                        "#fb9f3a"
                                                    ],
                                                    [
                                                        0.8888888888888888,
                                                        "#fdca26"
                                                    ],
                                                    [
                                                        1,
                                                        "#f0f921"
                                                    ]
                                                ],
                                                "type": "heatmap"
                                            }
                                        ],
                                        "heatmapgl": [
                                            {
                                                "colorbar": {
                                                    "outlinewidth": 0,
                                                    "ticks": ""
                                                },
                                                "colorscale": [
                                                    [
                                                        0,
                                                        "#0d0887"
                                                    ],
                                                    [
                                                        0.1111111111111111,
                                                        "#46039f"
                                                    ],
                                                    [
                                                        0.2222222222222222,
                                                        "#7201a8"
                                                    ],
                                                    [
                                                        0.3333333333333333,
                                                        "#9c179e"
                                                    ],
                                                    [
                                                        0.4444444444444444,
                                                        "#bd3786"
                                                    ],
                                                    [
                                                        0.5555555555555556,
                                                        "#d8576b"
                                                    ],
                                                    [
                                                        0.6666666666666666,
                                                        "#ed7953"
                                                    ],
                                                    [
                                                        0.7777777777777778,
                                                        "#fb9f3a"
                                                    ],
                                                    [
                                                        0.8888888888888888,
                                                        "#fdca26"
                                                    ],
                                                    [
                                                        1,
                                                        "#f0f921"
                                                    ]
                                                ],
                                                "type": "heatmapgl"
                                            }
                                        ],
                                        "histogram": [
                                            {
                                                "marker": {
                                                    "pattern": {
                                                        "fillmode": "overlay",
                                                        "size": 10,
                                                        "solidity": 0.2
                                                    }
                                                },
                                                "type": "histogram"
                                            }
                                        ],
                                        "histogram2d": [
                                            {
                                                "colorbar": {
                                                    "outlinewidth": 0,
                                                    "ticks": ""
                                                },
                                                "colorscale": [
                                                    [
                                                        0,
                                                        "#0d0887"
                                                    ],
                                                    [
                                                        0.1111111111111111,
                                                        "#46039f"
                                                    ],
                                                    [
                                                        0.2222222222222222,
                                                        "#7201a8"
                                                    ],
                                                    [
                                                        0.3333333333333333,
                                                        "#9c179e"
                                                    ],
                                                    [
                                                        0.4444444444444444,
                                                        "#bd3786"
                                                    ],
                                                    [
                                                        0.5555555555555556,
                                                        "#d8576b"
                                                    ],
                                                    [
                                                        0.6666666666666666,
                                                        "#ed7953"
                                                    ],
                                                    [
                                                        0.7777777777777778,
                                                        "#fb9f3a"
                                                    ],
                                                    [
                                                        0.8888888888888888,
                                                        "#fdca26"
                                                    ],
                                                    [
                                                        1,
                                                        "#f0f921"
                                                    ]
                                                ],
                                                "type": "histogram2d"
                                            }
                                        ],
                                        "histogram2dcontour": [
                                            {
                                                "colorbar": {
                                                    "outlinewidth": 0,
                                                    "ticks": ""
                                                },
                                                "colorscale": [
                                                    [
                                                        0,
                                                        "#0d0887"
                                                    ],
                                                    [
                                                        0.1111111111111111,
                                                        "#46039f"
                                                    ],
                                                    [
                                                        0.2222222222222222,
                                                        "#7201a8"
                                                    ],
                                                    [
                                                        0.3333333333333333,
                                                        "#9c179e"
                                                    ],
                                                    [
                                                        0.4444444444444444,
                                                        "#bd3786"
                                                    ],
                                                    [
                                                        0.5555555555555556,
                                                        "#d8576b"
                                                    ],
                                                    [
                                                        0.6666666666666666,
                                                        "#ed7953"
                                                    ],
                                                    [
                                                        0.7777777777777778,
                                                        "#fb9f3a"
                                                    ],
                                                    [
                                                        0.8888888888888888,
                                                        "#fdca26"
                                                    ],
                                                    [
                                                        1,
                                                        "#f0f921"
                                                    ]
                                                ],
                                                "type": "histogram2dcontour"
                                            }
                                        ],
                                        "mesh3d": [
                                            {
                                                "colorbar": {
                                                    "outlinewidth": 0,
                                                    "ticks": ""
                                                },
                                                "type": "mesh3d"
                                            }
                                        ],
                                        "parcoords": [
                                            {
                                                "line": {
                                                    "colorbar": {
                                                        "outlinewidth": 0,
                                                        "ticks": ""
                                                    }
                                                },
                                                "type": "parcoords"
                                            }
                                        ],
                                        "pie": [
                                            {
                                                "automargin": true,
                                                "type": "pie"
                                            }
                                        ],
                                        "scatter": [
                                            {
                                                "fillpattern": {
                                                    "fillmode": "overlay",
                                                    "size": 10,
                                                    "solidity": 0.2
                                                },
                                                "type": "scatter"
                                            }
                                        ],
                                        "scatter3d": [
                                            {
                                                "line": {
                                                    "colorbar": {
                                                        "outlinewidth": 0,
                                                        "ticks": ""
                                                    }
                                                },
                                                "marker": {
                                                    "colorbar": {
                                                        "outlinewidth": 0,
                                                        "ticks": ""
                                                    }
                                                },
                                                "type": "scatter3d"
                                            }
                                        ],
                                        "scattercarpet": [
                                            {
                                                "marker": {
                                                    "colorbar": {
                                                        "outlinewidth": 0,
                                                        "ticks": ""
                                                    }
                                                },
                                                "type": "scattercarpet"
                                            }
                                        ],
                                        "scattergeo": [
                                            {
                                                "marker": {
                                                    "colorbar": {
                                                        "outlinewidth": 0,
                                                        "ticks": ""
                                                    }
                                                },
                                                "type": "scattergeo"
                                            }
                                        ],
                                        "scattergl": [
                                            {
                                                "marker": {
                                                    "colorbar": {
                                                        "outlinewidth": 0,
                                                        "ticks": ""
                                                    }
                                                },
                                                "type": "scattergl"
                                            }
                                        ],
                                        "scattermapbox": [
                                            {
                                                "marker": {
                                                    "colorbar": {
                                                        "outlinewidth": 0,
                                                        "ticks": ""
                                                    }
                                                },
                                                "type": "scattermapbox"
                                            }
                                        ],
                                        "scatterpolar": [
                                            {
                                                "marker": {
                                                    "colorbar": {
                                                        "outlinewidth": 0,
                                                        "ticks": ""
                                                    }
                                                },
                                                "type": "scatterpolar"
                                            }
                                        ],
                                        "scatterpolargl": [
                                            {
                                                "marker": {
                                                    "colorbar": {
                                                        "outlinewidth": 0,
                                                        "ticks": ""
                                                    }
                                                },
                                                "type": "scatterpolargl"
                                            }
                                        ],
                                        "scatterternary": [
                                            {
                                                "marker": {
                                                    "colorbar": {
                                                        "outlinewidth": 0,
                                                        "ticks": ""
                                                    }
                                                },
                                                "type": "scatterternary"
                                            }
                                        ],
                                        "surface": [
                                            {
                                                "colorbar": {
                                                    "outlinewidth": 0,
                                                    "ticks": ""
                                                },
                                                "colorscale": [
                                                    [
                                                        0,
                                                        "#0d0887"
                                                    ],
                                                    [
                                                        0.1111111111111111,
                                                        "#46039f"
                                                    ],
                                                    [
                                                        0.2222222222222222,
                                                        "#7201a8"
                                                    ],
                                                    [
                                                        0.3333333333333333,
                                                        "#9c179e"
                                                    ],
                                                    [
                                                        0.4444444444444444,
                                                        "#bd3786"
                                                    ],
                                                    [
                                                        0.5555555555555556,
                                                        "#d8576b"
                                                    ],
                                                    [
                                                        0.6666666666666666,
                                                        "#ed7953"
                                                    ],
                                                    [
                                                        0.7777777777777778,
                                                        "#fb9f3a"
                                                    ],
                                                    [
                                                        0.8888888888888888,
                                                        "#fdca26"
                                                    ],
                                                    [
                                                        1,
                                                        "#f0f921"
                                                    ]
                                                ],
                                                "type": "surface"
                                            }
                                        ],
                                        "table": [
                                            {
                                                "cells": {
                                                    "fill": {
                                                        "color": "#EBF0F8"
                                                    },
                                                    "line": {
                                                        "color": "white"
                                                    }
                                                },
                                                "header": {
                                                    "fill": {
                                                        "color": "#C8D4E3"
                                                    },
                                                    "line": {
                                                        "color": "white"
                                                    }
                                                },
                                                "type": "table"
                                            }
                                        ]
                                    },
                                    "layout": {
                                        "annotationdefaults": {
                                            "arrowcolor": "#2a3f5f",
                                            "arrowhead": 0,
                                            "arrowwidth": 1
                                        },
                                        "autotypenumbers": "strict",
                                        "coloraxis": {
                                            "colorbar": {
                                                "outlinewidth": 0,
                                                "ticks": ""
                                            }
                                        },
                                        "colorscale": {
                                            "diverging": [
                                                [
                                                    0,
                                                    "#8e0152"
                                                ],
                                                [
                                                    0.1,
                                                    "#c51b7d"
                                                ],
                                                [
                                                    0.2,
                                                    "#de77ae"
                                                ],
                                                [
                                                    0.3,
                                                    "#f1b6da"
                                                ],
                                                [
                                                    0.4,
                                                    "#fde0ef"
                                                ],
                                                [
                                                    0.5,
                                                    "#f7f7f7"
                                                ],
                                                [
                                                    0.6,
                                                    "#e6f5d0"
                                                ],
                                                [
                                                    0.7,
                                                    "#b8e186"
                                                ],
                                                [
                                                    0.8,
                                                    "#7fbc41"
                                                ],
                                                [
                                                    0.9,
                                                    "#4d9221"
                                                ],
                                                [
                                                    1,
                                                    "#276419"
                                                ]
                                            ],
                                            "sequential": [
                                                [
                                                    0,
                                                    "#0d0887"
                                                ],
                                                [
                                                    0.1111111111111111,
                                                    "#46039f"
                                                ],
                                                [
                                                    0.2222222222222222,
                                                    "#7201a8"
                                                ],
                                                [
                                                    0.3333333333333333,
                                                    "#9c179e"
                                                ],
                                                [
                                                    0.4444444444444444,
                                                    "#bd3786"
                                                ],
                                                [
                                                    0.5555555555555556,
                                                    "#d8576b"
                                                ],
                                                [
                                                    0.6666666666666666,
                                                    "#ed7953"
                                                ],
                                                [
                                                    0.7777777777777778,
                                                    "#fb9f3a"
                                                ],
                                                [
                                                    0.8888888888888888,
                                                    "#fdca26"
                                                ],
                                                [
                                                    1,
                                                    "#f0f921"
                                                ]
                                            ],
                                            "sequentialminus": [
                                                [
                                                    0,
                                                    "#0d0887"
                                                ],
                                                [
                                                    0.1111111111111111,
                                                    "#46039f"
                                                ],
                                                [
                                                    0.2222222222222222,
                                                    "#7201a8"
                                                ],
                                                [
                                                    0.3333333333333333,
                                                    "#9c179e"
                                                ],
                                                [
                                                    0.4444444444444444,
                                                    "#bd3786"
                                                ],
                                                [
                                                    0.5555555555555556,
                                                    "#d8576b"
                                                ],
                                                [
                                                    0.6666666666666666,
                                                    "#ed7953"
                                                ],
                                                [
                                                    0.7777777777777778,
                                                    "#fb9f3a"
                                                ],
                                                [
                                                    0.8888888888888888,
                                                    "#fdca26"
                                                ],
                                                [
                                                    1,
                                                    "#f0f921"
                                                ]
                                            ]
                                        },
                                        "colorway": [
                                            "#636efa",
                                            "#EF553B",
                                            "#00cc96",
                                            "#ab63fa",
                                            "#FFA15A",
                                            "#19d3f3",
                                            "#FF6692",
                                            "#B6E880",
                                            "#FF97FF",
                                            "#FECB52"
                                        ],
                                        "font": {
                                            "color": "#2a3f5f"
                                        },
                                        "geo": {
                                            "bgcolor": "white",
                                            "lakecolor": "white",
                                            "landcolor": "#E5ECF6",
                                            "showlakes": true,
                                            "showland": true,
                                            "subunitcolor": "white"
                                        },
                                        "hoverlabel": {
                                            "align": "left"
                                        },
                                        "hovermode": "closest",
                                        "mapbox": {
                                            "style": "light"
                                        },
                                        "paper_bgcolor": "white",
                                        "plot_bgcolor": "#E5ECF6",
                                        "polar": {
                                            "angularaxis": {
                                                "gridcolor": "white",
                                                "linecolor": "white",
                                                "ticks": ""
                                            },
                                            "bgcolor": "#E5ECF6",
                                            "radialaxis": {
                                                "gridcolor": "white",
                                                "linecolor": "white",
                                                "ticks": ""
                                            }
                                        },
                                        "scene": {
                                            "xaxis": {
                                                "backgroundcolor": "#E5ECF6",
                                                "gridcolor": "white",
                                                "gridwidth": 2,
                                                "linecolor": "white",
                                                "showbackground": true,
                                                "ticks": "",
                                                "zerolinecolor": "white"
                                            },
                                            "yaxis": {
                                                "backgroundcolor": "#E5ECF6",
                                                "gridcolor": "white",
                                                "gridwidth": 2,
                                                "linecolor": "white",
                                                "showbackground": true,
                                                "ticks": "",
                                                "zerolinecolor": "white"
                                            },
                                            "zaxis": {
                                                "backgroundcolor": "#E5ECF6",
                                                "gridcolor": "white",
                                                "gridwidth": 2,
                                                "linecolor": "white",
                                                "showbackground": true,
                                                "ticks": "",
                                                "zerolinecolor": "white"
                                            }
                                        },
                                        "shapedefaults": {
                                            "line": {
                                                "color": "#2a3f5f"
                                            }
                                        },
                                        "ternary": {
                                            "aaxis": {
                                                "gridcolor": "white",
                                                "linecolor": "white",
                                                "ticks": ""
                                            },
                                            "baxis": {
                                                "gridcolor": "white",
                                                "linecolor": "white",
                                                "ticks": ""
                                            },
                                            "bgcolor": "#E5ECF6",
                                            "caxis": {
                                                "gridcolor": "white",
                                                "linecolor": "white",
                                                "ticks": ""
                                            }
                                        },
                                        "title": {
                                            "x": 0.05
                                        },
                                        "xaxis": {
                                            "automargin": true,
                                            "gridcolor": "white",
                                            "linecolor": "white",
                                            "ticks": "",
                                            "title": {
                                                "standoff": 15
                                            },
                                            "zerolinecolor": "white",
                                            "zerolinewidth": 2
                                        },
                                        "yaxis": {
                                            "automargin": true,
                                            "gridcolor": "white",
                                            "linecolor": "white",
                                            "ticks": "",
                                            "title": {
                                                "standoff": 15
                                            },
                                            "zerolinecolor": "white",
                                            "zerolinewidth": 2
                                        }
                                    }
                                },
                                "width": 1200,
                                "xaxis": {
                                    "anchor": "y",
                                    "domain": [
                                        0,
                                        0.16799999999999998
                                    ],
                                    "title": {
                                        "text": "effect size"
                                    }
                                },
                                "xaxis2": {
                                    "anchor": "y2",
                                    "domain": [
                                        0.208,
                                        0.376
                                    ],
                                    "title": {
                                        "text": "effect size"
                                    }
                                },
                                "xaxis3": {
                                    "anchor": "y3",
                                    "domain": [
                                        0.416,
                                        0.584
                                    ],
                                    "title": {
                                        "text": "effect size"
                                    }
                                },
                                "xaxis4": {
                                    "anchor": "y4",
                                    "domain": [
                                        0.624,
                                        0.792
                                    ],
                                    "title": {
                                        "text": "effect size"
                                    }
                                },
                                "xaxis5": {
                                    "anchor": "y5",
                                    "domain": [
                                        0.832,
                                        1
                                    ],
                                    "title": {
                                        "text": "effect size"
                                    }
                                },
                                "yaxis": {
                                    "anchor": "x",
                                    "domain": [
                                        0,
                                        1
                                    ],
                                    "title": {
                                        "text": "statistical power"
                                    }
                                },
                                "yaxis2": {
                                    "anchor": "x2",
                                    "domain": [
                                        0,
                                        1
                                    ],
                                    "matches": "y",
                                    "showticklabels": false
                                },
                                "yaxis3": {
                                    "anchor": "x3",
                                    "domain": [
                                        0,
                                        1
                                    ],
                                    "matches": "y",
                                    "showticklabels": false
                                },
                                "yaxis4": {
                                    "anchor": "x4",
                                    "domain": [
                                        0,
                                        1
                                    ],
                                    "matches": "y",
                                    "showticklabels": false
                                },
                                "yaxis5": {
                                    "anchor": "x5",
                                    "domain": [
                                        0,
                                        1
                                    ],
                                    "matches": "y",
                                    "showticklabels": false
                                }
                            }
                        }
                    },
                    "metadata": {},
                    "output_type": "display_data"
                },
                {
                    "data": {
                        "application/vnd.plotly.v1+json": {
                            "config": {
                                "plotlyServerURL": "https://plot.ly"
                            },
                            "data": [
                                {
                                    "legendgroup": "StudentTTest - two-sided",
                                    "line": {
                                        "color": "#636EFA"
                                    },
                                    "name": "StudentTTest - two-sided",
                                    "showlegend": false,
                                    "type": "scatter",
                                    "x": [
                                        0,
                                        0.1,
                                        0.2,
                                        0.4,
                                        0.6,
                                        0.8,
                                        1
                                    ],
                                    "xaxis": "x",
                                    "y": [
                                        0.09,
                                        0.12,
                                        0.115,
                                        0.195,
                                        0.335,
                                        0.415,
                                        0.59
                                    ],
                                    "yaxis": "y"
                                },
                                {
                                    "legendgroup": "PairedTTest - two-sided",
                                    "line": {
                                        "color": "#EF553B"
                                    },
                                    "name": "PairedTTest - two-sided",
                                    "showlegend": false,
                                    "type": "scatter",
                                    "x": [
                                        0,
                                        0.1,
                                        0.2,
                                        0.4,
                                        0.6,
                                        0.8,
                                        1
                                    ],
                                    "xaxis": "x",
                                    "y": [
                                        0.15,
                                        0.1,
                                        0.135,
                                        0.19,
                                        0.34,
                                        0.46,
                                        0.535
                                    ],
                                    "yaxis": "y"
                                },
                                {
                                    "legendgroup": "MannWhitneyUTest - two-sided - unsafe",
                                    "line": {
                                        "color": "#00CC96"
                                    },
                                    "name": "MannWhitneyUTest - two-sided - unsafe",
                                    "showlegend": false,
                                    "type": "scatter",
                                    "x": [
                                        0,
                                        0.1,
                                        0.2,
                                        0.4,
                                        0.6,
                                        0.8,
                                        1
                                    ],
                                    "xaxis": "x",
                                    "y": [
                                        0.03,
                                        0.045,
                                        0.025,
                                        0.055,
                                        0.1,
                                        0.115,
                                        0.185
                                    ],
                                    "yaxis": "y"
                                },
                                {
                                    "legendgroup": "MannWhitneyUTest - two-sided - cdf",
                                    "line": {
                                        "color": "#AB63FA"
                                    },
                                    "name": "MannWhitneyUTest - two-sided - cdf",
                                    "showlegend": false,
                                    "type": "scatter",
                                    "x": [
                                        0,
                                        0.1,
                                        0.2,
                                        0.4,
                                        0.6,
                                        0.8,
                                        1
                                    ],
                                    "xaxis": "x",
                                    "y": [
                                        0.05,
                                        0.09,
                                        0.19,
                                        0.115,
                                        0.225,
                                        0.195,
                                        0.31
                                    ],
                                    "yaxis": "y"
                                },
                                {
                                    "legendgroup": "WilcoxonSingedRankTest - two-sided - unsafe",
                                    "line": {
                                        "color": "#FFA15A"
                                    },
                                    "name": "WilcoxonSingedRankTest - two-sided - unsafe",
                                    "showlegend": false,
                                    "type": "scatter",
                                    "x": [
                                        0,
                                        0.1,
                                        0.2,
                                        0.4,
                                        0.6,
                                        0.8,
                                        1
                                    ],
                                    "xaxis": "x",
                                    "y": [
                                        0.1,
                                        0.1,
                                        0.12,
                                        0.15,
                                        0.17,
                                        0.26,
                                        0.31
                                    ],
                                    "yaxis": "y"
                                },
                                {
                                    "legendgroup": "WilcoxonSingedRankTest - two-sided - cdf",
                                    "line": {
                                        "color": "#19D3F3"
                                    },
                                    "name": "WilcoxonSingedRankTest - two-sided - cdf",
                                    "showlegend": false,
                                    "type": "scatter",
                                    "x": [
                                        0,
                                        0.1,
                                        0.2,
                                        0.4,
                                        0.6,
                                        0.8,
                                        1
                                    ],
                                    "xaxis": "x",
                                    "y": [
                                        0.145,
                                        0.125,
                                        0.195,
                                        0.165,
                                        0.205,
                                        0.29,
                                        0.425
                                    ],
                                    "yaxis": "y"
                                },
                                {
                                    "legendgroup": "StudentTTest - two-sided",
                                    "line": {
                                        "color": "#636EFA"
                                    },
                                    "name": "StudentTTest - two-sided",
                                    "showlegend": false,
                                    "type": "scatter",
                                    "x": [
                                        0,
                                        0.1,
                                        0.2,
                                        0.4,
                                        0.6,
                                        0.8,
                                        1
                                    ],
                                    "xaxis": "x2",
                                    "y": [
                                        0.085,
                                        0.095,
                                        0.31,
                                        0.31,
                                        0.445,
                                        0.675,
                                        0.82
                                    ],
                                    "yaxis": "y2"
                                },
                                {
                                    "legendgroup": "PairedTTest - two-sided",
                                    "line": {
                                        "color": "#EF553B"
                                    },
                                    "name": "PairedTTest - two-sided",
                                    "showlegend": false,
                                    "type": "scatter",
                                    "x": [
                                        0,
                                        0.1,
                                        0.2,
                                        0.4,
                                        0.6,
                                        0.8,
                                        1
                                    ],
                                    "xaxis": "x2",
                                    "y": [
                                        0.095,
                                        0.155,
                                        0.205,
                                        0.355,
                                        0.535,
                                        0.685,
                                        0.845
                                    ],
                                    "yaxis": "y2"
                                },
                                {
                                    "legendgroup": "MannWhitneyUTest - two-sided - unsafe",
                                    "line": {
                                        "color": "#00CC96"
                                    },
                                    "name": "MannWhitneyUTest - two-sided - unsafe",
                                    "showlegend": false,
                                    "type": "scatter",
                                    "x": [
                                        0,
                                        0.1,
                                        0.2,
                                        0.4,
                                        0.6,
                                        0.8,
                                        1
                                    ],
                                    "xaxis": "x2",
                                    "y": [
                                        0.03,
                                        0.025,
                                        0.065,
                                        0.1,
                                        0.17,
                                        0.33,
                                        0.55
                                    ],
                                    "yaxis": "y2"
                                },
                                {
                                    "legendgroup": "MannWhitneyUTest - two-sided - cdf",
                                    "line": {
                                        "color": "#AB63FA"
                                    },
                                    "name": "MannWhitneyUTest - two-sided - cdf",
                                    "showlegend": false,
                                    "type": "scatter",
                                    "x": [
                                        0,
                                        0.1,
                                        0.2,
                                        0.4,
                                        0.6,
                                        0.8,
                                        1
                                    ],
                                    "xaxis": "x2",
                                    "y": [
                                        0.075,
                                        0.085,
                                        0.09,
                                        0.185,
                                        0.275,
                                        0.365,
                                        0.585
                                    ],
                                    "yaxis": "y2"
                                },
                                {
                                    "legendgroup": "WilcoxonSingedRankTest - two-sided - unsafe",
                                    "line": {
                                        "color": "#FFA15A"
                                    },
                                    "name": "WilcoxonSingedRankTest - two-sided - unsafe",
                                    "showlegend": false,
                                    "type": "scatter",
                                    "x": [
                                        0,
                                        0.1,
                                        0.2,
                                        0.4,
                                        0.6,
                                        0.8,
                                        1
                                    ],
                                    "xaxis": "x2",
                                    "y": [
                                        0.045,
                                        0.05,
                                        0.05,
                                        0.09,
                                        0.17,
                                        0.345,
                                        0.48
                                    ],
                                    "yaxis": "y2"
                                },
                                {
                                    "legendgroup": "WilcoxonSingedRankTest - two-sided - cdf",
                                    "line": {
                                        "color": "#19D3F3"
                                    },
                                    "name": "WilcoxonSingedRankTest - two-sided - cdf",
                                    "showlegend": false,
                                    "type": "scatter",
                                    "x": [
                                        0,
                                        0.1,
                                        0.2,
                                        0.4,
                                        0.6,
                                        0.8,
                                        1
                                    ],
                                    "xaxis": "x2",
                                    "y": [
                                        0.125,
                                        0.085,
                                        0.1,
                                        0.225,
                                        0.265,
                                        0.45,
                                        0.565
                                    ],
                                    "yaxis": "y2"
                                },
                                {
                                    "legendgroup": "StudentTTest - two-sided",
                                    "line": {
                                        "color": "#636EFA"
                                    },
                                    "name": "StudentTTest - two-sided",
                                    "showlegend": false,
                                    "type": "scatter",
                                    "x": [
                                        0,
                                        0.1,
                                        0.2,
                                        0.4,
                                        0.6,
                                        0.8,
                                        1
                                    ],
                                    "xaxis": "x3",
                                    "y": [
                                        0.11,
                                        0.165,
                                        0.23,
                                        0.46,
                                        0.62,
                                        0.795,
                                        0.915
                                    ],
                                    "yaxis": "y3"
                                },
                                {
                                    "legendgroup": "PairedTTest - two-sided",
                                    "line": {
                                        "color": "#EF553B"
                                    },
                                    "name": "PairedTTest - two-sided",
                                    "showlegend": false,
                                    "type": "scatter",
                                    "x": [
                                        0,
                                        0.1,
                                        0.2,
                                        0.4,
                                        0.6,
                                        0.8,
                                        1
                                    ],
                                    "xaxis": "x3",
                                    "y": [
                                        0.105,
                                        0.11,
                                        0.19,
                                        0.415,
                                        0.64,
                                        0.795,
                                        0.93
                                    ],
                                    "yaxis": "y3"
                                },
                                {
                                    "legendgroup": "MannWhitneyUTest - two-sided - unsafe",
                                    "line": {
                                        "color": "#00CC96"
                                    },
                                    "name": "MannWhitneyUTest - two-sided - unsafe",
                                    "showlegend": false,
                                    "type": "scatter",
                                    "x": [
                                        0,
                                        0.1,
                                        0.2,
                                        0.4,
                                        0.6,
                                        0.8,
                                        1
                                    ],
                                    "xaxis": "x3",
                                    "y": [
                                        0.065,
                                        0.055,
                                        0.06,
                                        0.17,
                                        0.23,
                                        0.465,
                                        0.685
                                    ],
                                    "yaxis": "y3"
                                },
                                {
                                    "legendgroup": "MannWhitneyUTest - two-sided - cdf",
                                    "line": {
                                        "color": "#AB63FA"
                                    },
                                    "name": "MannWhitneyUTest - two-sided - cdf",
                                    "showlegend": false,
                                    "type": "scatter",
                                    "x": [
                                        0,
                                        0.1,
                                        0.2,
                                        0.4,
                                        0.6,
                                        0.8,
                                        1
                                    ],
                                    "xaxis": "x3",
                                    "y": [
                                        0.075,
                                        0.065,
                                        0.09,
                                        0.2,
                                        0.405,
                                        0.495,
                                        0.735
                                    ],
                                    "yaxis": "y3"
                                },
                                {
                                    "legendgroup": "WilcoxonSingedRankTest - two-sided - unsafe",
                                    "line": {
                                        "color": "#FFA15A"
                                    },
                                    "name": "WilcoxonSingedRankTest - two-sided - unsafe",
                                    "showlegend": false,
                                    "type": "scatter",
                                    "x": [
                                        0,
                                        0.1,
                                        0.2,
                                        0.4,
                                        0.6,
                                        0.8,
                                        1
                                    ],
                                    "xaxis": "x3",
                                    "y": [
                                        0.085,
                                        0.035,
                                        0.07,
                                        0.18,
                                        0.32,
                                        0.42,
                                        0.62
                                    ],
                                    "yaxis": "y3"
                                },
                                {
                                    "legendgroup": "WilcoxonSingedRankTest - two-sided - cdf",
                                    "line": {
                                        "color": "#19D3F3"
                                    },
                                    "name": "WilcoxonSingedRankTest - two-sided - cdf",
                                    "showlegend": false,
                                    "type": "scatter",
                                    "x": [
                                        0,
                                        0.1,
                                        0.2,
                                        0.4,
                                        0.6,
                                        0.8,
                                        1
                                    ],
                                    "xaxis": "x3",
                                    "y": [
                                        0.055,
                                        0.065,
                                        0.105,
                                        0.18,
                                        0.37,
                                        0.495,
                                        0.795
                                    ],
                                    "yaxis": "y3"
                                },
                                {
                                    "legendgroup": "StudentTTest - two-sided",
                                    "line": {
                                        "color": "#636EFA"
                                    },
                                    "name": "StudentTTest - two-sided",
                                    "showlegend": false,
                                    "type": "scatter",
                                    "x": [
                                        0,
                                        0.1,
                                        0.2,
                                        0.4,
                                        0.6,
                                        0.8,
                                        1
                                    ],
                                    "xaxis": "x4",
                                    "y": [
                                        0.085,
                                        0.16,
                                        0.255,
                                        0.565,
                                        0.835,
                                        0.935,
                                        0.975
                                    ],
                                    "yaxis": "y4"
                                },
                                {
                                    "legendgroup": "PairedTTest - two-sided",
                                    "line": {
                                        "color": "#EF553B"
                                    },
                                    "name": "PairedTTest - two-sided",
                                    "showlegend": false,
                                    "type": "scatter",
                                    "x": [
                                        0,
                                        0.1,
                                        0.2,
                                        0.4,
                                        0.6,
                                        0.8,
                                        1
                                    ],
                                    "xaxis": "x4",
                                    "y": [
                                        0.075,
                                        0.16,
                                        0.255,
                                        0.55,
                                        0.775,
                                        0.935,
                                        0.985
                                    ],
                                    "yaxis": "y4"
                                },
                                {
                                    "legendgroup": "MannWhitneyUTest - two-sided - unsafe",
                                    "line": {
                                        "color": "#00CC96"
                                    },
                                    "name": "MannWhitneyUTest - two-sided - unsafe",
                                    "showlegend": false,
                                    "type": "scatter",
                                    "x": [
                                        0,
                                        0.1,
                                        0.2,
                                        0.4,
                                        0.6,
                                        0.8,
                                        1
                                    ],
                                    "xaxis": "x4",
                                    "y": [
                                        0.05,
                                        0.05,
                                        0.065,
                                        0.195,
                                        0.545,
                                        0.735,
                                        0.885
                                    ],
                                    "yaxis": "y4"
                                },
                                {
                                    "legendgroup": "MannWhitneyUTest - two-sided - cdf",
                                    "line": {
                                        "color": "#AB63FA"
                                    },
                                    "name": "MannWhitneyUTest - two-sided - cdf",
                                    "showlegend": false,
                                    "type": "scatter",
                                    "x": [
                                        0,
                                        0.1,
                                        0.2,
                                        0.4,
                                        0.6,
                                        0.8,
                                        1
                                    ],
                                    "xaxis": "x4",
                                    "y": [
                                        0.075,
                                        0.105,
                                        0.075,
                                        0.26,
                                        0.565,
                                        0.77,
                                        0.91
                                    ],
                                    "yaxis": "y4"
                                },
                                {
                                    "legendgroup": "WilcoxonSingedRankTest - two-sided - unsafe",
                                    "line": {
                                        "color": "#FFA15A"
                                    },
                                    "name": "WilcoxonSingedRankTest - two-sided - unsafe",
                                    "showlegend": false,
                                    "type": "scatter",
                                    "x": [
                                        0,
                                        0.1,
                                        0.2,
                                        0.4,
                                        0.6,
                                        0.8,
                                        1
                                    ],
                                    "xaxis": "x4",
                                    "y": [
                                        0.05,
                                        0.05,
                                        0.125,
                                        0.185,
                                        0.53,
                                        0.75,
                                        0.895
                                    ],
                                    "yaxis": "y4"
                                },
                                {
                                    "legendgroup": "WilcoxonSingedRankTest - two-sided - cdf",
                                    "line": {
                                        "color": "#19D3F3"
                                    },
                                    "name": "WilcoxonSingedRankTest - two-sided - cdf",
                                    "showlegend": false,
                                    "type": "scatter",
                                    "x": [
                                        0,
                                        0.1,
                                        0.2,
                                        0.4,
                                        0.6,
                                        0.8,
                                        1
                                    ],
                                    "xaxis": "x4",
                                    "y": [
                                        0.04,
                                        0.095,
                                        0.09,
                                        0.23,
                                        0.48,
                                        0.785,
                                        0.945
                                    ],
                                    "yaxis": "y4"
                                },
                                {
                                    "legendgroup": "StudentTTest - two-sided",
                                    "line": {
                                        "color": "#636EFA"
                                    },
                                    "name": "StudentTTest - two-sided",
                                    "showlegend": true,
                                    "type": "scatter",
                                    "x": [
                                        0,
                                        0.1,
                                        0.2,
                                        0.4,
                                        0.6,
                                        0.8,
                                        1
                                    ],
                                    "xaxis": "x5",
                                    "y": [
                                        0.105,
                                        0.235,
                                        0.405,
                                        0.8,
                                        0.95,
                                        0.99,
                                        1
                                    ],
                                    "yaxis": "y5"
                                },
                                {
                                    "legendgroup": "PairedTTest - two-sided",
                                    "line": {
                                        "color": "#EF553B"
                                    },
                                    "name": "PairedTTest - two-sided",
                                    "showlegend": true,
                                    "type": "scatter",
                                    "x": [
                                        0,
                                        0.1,
                                        0.2,
                                        0.4,
                                        0.6,
                                        0.8,
                                        1
                                    ],
                                    "xaxis": "x5",
                                    "y": [
                                        0.1,
                                        0.26,
                                        0.365,
                                        0.7,
                                        0.95,
                                        1,
                                        1
                                    ],
                                    "yaxis": "y5"
                                },
                                {
                                    "legendgroup": "MannWhitneyUTest - two-sided - unsafe",
                                    "line": {
                                        "color": "#00CC96"
                                    },
                                    "name": "MannWhitneyUTest - two-sided - unsafe",
                                    "showlegend": true,
                                    "type": "scatter",
                                    "x": [
                                        0,
                                        0.1,
                                        0.2,
                                        0.4,
                                        0.6,
                                        0.8,
                                        1
                                    ],
                                    "xaxis": "x5",
                                    "y": [
                                        0.04,
                                        0.065,
                                        0.09,
                                        0.45,
                                        0.805,
                                        0.975,
                                        0.995
                                    ],
                                    "yaxis": "y5"
                                },
                                {
                                    "legendgroup": "MannWhitneyUTest - two-sided - cdf",
                                    "line": {
                                        "color": "#AB63FA"
                                    },
                                    "name": "MannWhitneyUTest - two-sided - cdf",
                                    "showlegend": true,
                                    "type": "scatter",
                                    "x": [
                                        0,
                                        0.1,
                                        0.2,
                                        0.4,
                                        0.6,
                                        0.8,
                                        1
                                    ],
                                    "xaxis": "x5",
                                    "y": [
                                        0.07,
                                        0.13,
                                        0.165,
                                        0.44,
                                        0.82,
                                        0.95,
                                        0.99
                                    ],
                                    "yaxis": "y5"
                                },
                                {
                                    "legendgroup": "WilcoxonSingedRankTest - two-sided - unsafe",
                                    "line": {
                                        "color": "#FFA15A"
                                    },
                                    "name": "WilcoxonSingedRankTest - two-sided - unsafe",
                                    "showlegend": true,
                                    "type": "scatter",
                                    "x": [
                                        0,
                                        0.1,
                                        0.2,
                                        0.4,
                                        0.6,
                                        0.8,
                                        1
                                    ],
                                    "xaxis": "x5",
                                    "y": [
                                        0.06,
                                        0.035,
                                        0.125,
                                        0.545,
                                        0.81,
                                        0.96,
                                        0.995
                                    ],
                                    "yaxis": "y5"
                                },
                                {
                                    "legendgroup": "WilcoxonSingedRankTest - two-sided - cdf",
                                    "line": {
                                        "color": "#19D3F3"
                                    },
                                    "name": "WilcoxonSingedRankTest - two-sided - cdf",
                                    "showlegend": true,
                                    "type": "scatter",
                                    "x": [
                                        0,
                                        0.1,
                                        0.2,
                                        0.4,
                                        0.6,
                                        0.8,
                                        1
                                    ],
                                    "xaxis": "x5",
                                    "y": [
                                        0.06,
                                        0.08,
                                        0.185,
                                        0.465,
                                        0.835,
                                        0.97,
                                        1
                                    ],
                                    "yaxis": "y5"
                                }
                            ],
                            "layout": {
                                "annotations": [
                                    {
                                        "font": {
                                            "size": 16
                                        },
                                        "showarrow": false,
                                        "text": "N=5",
                                        "x": 0.08399999999999999,
                                        "xanchor": "center",
                                        "xref": "paper",
                                        "y": 1,
                                        "yanchor": "bottom",
                                        "yref": "paper"
                                    },
                                    {
                                        "font": {
                                            "size": 16
                                        },
                                        "showarrow": false,
                                        "text": "N=10",
                                        "x": 0.292,
                                        "xanchor": "center",
                                        "xref": "paper",
                                        "y": 1,
                                        "yanchor": "bottom",
                                        "yref": "paper"
                                    },
                                    {
                                        "font": {
                                            "size": 16
                                        },
                                        "showarrow": false,
                                        "text": "N=15",
                                        "x": 0.5,
                                        "xanchor": "center",
                                        "xref": "paper",
                                        "y": 1,
                                        "yanchor": "bottom",
                                        "yref": "paper"
                                    },
                                    {
                                        "font": {
                                            "size": 16
                                        },
                                        "showarrow": false,
                                        "text": "N=25",
                                        "x": 0.708,
                                        "xanchor": "center",
                                        "xref": "paper",
                                        "y": 1,
                                        "yanchor": "bottom",
                                        "yref": "paper"
                                    },
                                    {
                                        "font": {
                                            "size": 16
                                        },
                                        "showarrow": false,
                                        "text": "N=50",
                                        "x": 0.9159999999999999,
                                        "xanchor": "center",
                                        "xref": "paper",
                                        "y": 1,
                                        "yanchor": "bottom",
                                        "yref": "paper"
                                    }
                                ],
                                "height": 350,
                                "showlegend": true,
                                "template": {
                                    "data": {
                                        "bar": [
                                            {
                                                "error_x": {
                                                    "color": "#2a3f5f"
                                                },
                                                "error_y": {
                                                    "color": "#2a3f5f"
                                                },
                                                "marker": {
                                                    "line": {
                                                        "color": "#E5ECF6",
                                                        "width": 0.5
                                                    },
                                                    "pattern": {
                                                        "fillmode": "overlay",
                                                        "size": 10,
                                                        "solidity": 0.2
                                                    }
                                                },
                                                "type": "bar"
                                            }
                                        ],
                                        "barpolar": [
                                            {
                                                "marker": {
                                                    "line": {
                                                        "color": "#E5ECF6",
                                                        "width": 0.5
                                                    },
                                                    "pattern": {
                                                        "fillmode": "overlay",
                                                        "size": 10,
                                                        "solidity": 0.2
                                                    }
                                                },
                                                "type": "barpolar"
                                            }
                                        ],
                                        "carpet": [
                                            {
                                                "aaxis": {
                                                    "endlinecolor": "#2a3f5f",
                                                    "gridcolor": "white",
                                                    "linecolor": "white",
                                                    "minorgridcolor": "white",
                                                    "startlinecolor": "#2a3f5f"
                                                },
                                                "baxis": {
                                                    "endlinecolor": "#2a3f5f",
                                                    "gridcolor": "white",
                                                    "linecolor": "white",
                                                    "minorgridcolor": "white",
                                                    "startlinecolor": "#2a3f5f"
                                                },
                                                "type": "carpet"
                                            }
                                        ],
                                        "choropleth": [
                                            {
                                                "colorbar": {
                                                    "outlinewidth": 0,
                                                    "ticks": ""
                                                },
                                                "type": "choropleth"
                                            }
                                        ],
                                        "contour": [
                                            {
                                                "colorbar": {
                                                    "outlinewidth": 0,
                                                    "ticks": ""
                                                },
                                                "colorscale": [
                                                    [
                                                        0,
                                                        "#0d0887"
                                                    ],
                                                    [
                                                        0.1111111111111111,
                                                        "#46039f"
                                                    ],
                                                    [
                                                        0.2222222222222222,
                                                        "#7201a8"
                                                    ],
                                                    [
                                                        0.3333333333333333,
                                                        "#9c179e"
                                                    ],
                                                    [
                                                        0.4444444444444444,
                                                        "#bd3786"
                                                    ],
                                                    [
                                                        0.5555555555555556,
                                                        "#d8576b"
                                                    ],
                                                    [
                                                        0.6666666666666666,
                                                        "#ed7953"
                                                    ],
                                                    [
                                                        0.7777777777777778,
                                                        "#fb9f3a"
                                                    ],
                                                    [
                                                        0.8888888888888888,
                                                        "#fdca26"
                                                    ],
                                                    [
                                                        1,
                                                        "#f0f921"
                                                    ]
                                                ],
                                                "type": "contour"
                                            }
                                        ],
                                        "contourcarpet": [
                                            {
                                                "colorbar": {
                                                    "outlinewidth": 0,
                                                    "ticks": ""
                                                },
                                                "type": "contourcarpet"
                                            }
                                        ],
                                        "heatmap": [
                                            {
                                                "colorbar": {
                                                    "outlinewidth": 0,
                                                    "ticks": ""
                                                },
                                                "colorscale": [
                                                    [
                                                        0,
                                                        "#0d0887"
                                                    ],
                                                    [
                                                        0.1111111111111111,
                                                        "#46039f"
                                                    ],
                                                    [
                                                        0.2222222222222222,
                                                        "#7201a8"
                                                    ],
                                                    [
                                                        0.3333333333333333,
                                                        "#9c179e"
                                                    ],
                                                    [
                                                        0.4444444444444444,
                                                        "#bd3786"
                                                    ],
                                                    [
                                                        0.5555555555555556,
                                                        "#d8576b"
                                                    ],
                                                    [
                                                        0.6666666666666666,
                                                        "#ed7953"
                                                    ],
                                                    [
                                                        0.7777777777777778,
                                                        "#fb9f3a"
                                                    ],
                                                    [
                                                        0.8888888888888888,
                                                        "#fdca26"
                                                    ],
                                                    [
                                                        1,
                                                        "#f0f921"
                                                    ]
                                                ],
                                                "type": "heatmap"
                                            }
                                        ],
                                        "heatmapgl": [
                                            {
                                                "colorbar": {
                                                    "outlinewidth": 0,
                                                    "ticks": ""
                                                },
                                                "colorscale": [
                                                    [
                                                        0,
                                                        "#0d0887"
                                                    ],
                                                    [
                                                        0.1111111111111111,
                                                        "#46039f"
                                                    ],
                                                    [
                                                        0.2222222222222222,
                                                        "#7201a8"
                                                    ],
                                                    [
                                                        0.3333333333333333,
                                                        "#9c179e"
                                                    ],
                                                    [
                                                        0.4444444444444444,
                                                        "#bd3786"
                                                    ],
                                                    [
                                                        0.5555555555555556,
                                                        "#d8576b"
                                                    ],
                                                    [
                                                        0.6666666666666666,
                                                        "#ed7953"
                                                    ],
                                                    [
                                                        0.7777777777777778,
                                                        "#fb9f3a"
                                                    ],
                                                    [
                                                        0.8888888888888888,
                                                        "#fdca26"
                                                    ],
                                                    [
                                                        1,
                                                        "#f0f921"
                                                    ]
                                                ],
                                                "type": "heatmapgl"
                                            }
                                        ],
                                        "histogram": [
                                            {
                                                "marker": {
                                                    "pattern": {
                                                        "fillmode": "overlay",
                                                        "size": 10,
                                                        "solidity": 0.2
                                                    }
                                                },
                                                "type": "histogram"
                                            }
                                        ],
                                        "histogram2d": [
                                            {
                                                "colorbar": {
                                                    "outlinewidth": 0,
                                                    "ticks": ""
                                                },
                                                "colorscale": [
                                                    [
                                                        0,
                                                        "#0d0887"
                                                    ],
                                                    [
                                                        0.1111111111111111,
                                                        "#46039f"
                                                    ],
                                                    [
                                                        0.2222222222222222,
                                                        "#7201a8"
                                                    ],
                                                    [
                                                        0.3333333333333333,
                                                        "#9c179e"
                                                    ],
                                                    [
                                                        0.4444444444444444,
                                                        "#bd3786"
                                                    ],
                                                    [
                                                        0.5555555555555556,
                                                        "#d8576b"
                                                    ],
                                                    [
                                                        0.6666666666666666,
                                                        "#ed7953"
                                                    ],
                                                    [
                                                        0.7777777777777778,
                                                        "#fb9f3a"
                                                    ],
                                                    [
                                                        0.8888888888888888,
                                                        "#fdca26"
                                                    ],
                                                    [
                                                        1,
                                                        "#f0f921"
                                                    ]
                                                ],
                                                "type": "histogram2d"
                                            }
                                        ],
                                        "histogram2dcontour": [
                                            {
                                                "colorbar": {
                                                    "outlinewidth": 0,
                                                    "ticks": ""
                                                },
                                                "colorscale": [
                                                    [
                                                        0,
                                                        "#0d0887"
                                                    ],
                                                    [
                                                        0.1111111111111111,
                                                        "#46039f"
                                                    ],
                                                    [
                                                        0.2222222222222222,
                                                        "#7201a8"
                                                    ],
                                                    [
                                                        0.3333333333333333,
                                                        "#9c179e"
                                                    ],
                                                    [
                                                        0.4444444444444444,
                                                        "#bd3786"
                                                    ],
                                                    [
                                                        0.5555555555555556,
                                                        "#d8576b"
                                                    ],
                                                    [
                                                        0.6666666666666666,
                                                        "#ed7953"
                                                    ],
                                                    [
                                                        0.7777777777777778,
                                                        "#fb9f3a"
                                                    ],
                                                    [
                                                        0.8888888888888888,
                                                        "#fdca26"
                                                    ],
                                                    [
                                                        1,
                                                        "#f0f921"
                                                    ]
                                                ],
                                                "type": "histogram2dcontour"
                                            }
                                        ],
                                        "mesh3d": [
                                            {
                                                "colorbar": {
                                                    "outlinewidth": 0,
                                                    "ticks": ""
                                                },
                                                "type": "mesh3d"
                                            }
                                        ],
                                        "parcoords": [
                                            {
                                                "line": {
                                                    "colorbar": {
                                                        "outlinewidth": 0,
                                                        "ticks": ""
                                                    }
                                                },
                                                "type": "parcoords"
                                            }
                                        ],
                                        "pie": [
                                            {
                                                "automargin": true,
                                                "type": "pie"
                                            }
                                        ],
                                        "scatter": [
                                            {
                                                "fillpattern": {
                                                    "fillmode": "overlay",
                                                    "size": 10,
                                                    "solidity": 0.2
                                                },
                                                "type": "scatter"
                                            }
                                        ],
                                        "scatter3d": [
                                            {
                                                "line": {
                                                    "colorbar": {
                                                        "outlinewidth": 0,
                                                        "ticks": ""
                                                    }
                                                },
                                                "marker": {
                                                    "colorbar": {
                                                        "outlinewidth": 0,
                                                        "ticks": ""
                                                    }
                                                },
                                                "type": "scatter3d"
                                            }
                                        ],
                                        "scattercarpet": [
                                            {
                                                "marker": {
                                                    "colorbar": {
                                                        "outlinewidth": 0,
                                                        "ticks": ""
                                                    }
                                                },
                                                "type": "scattercarpet"
                                            }
                                        ],
                                        "scattergeo": [
                                            {
                                                "marker": {
                                                    "colorbar": {
                                                        "outlinewidth": 0,
                                                        "ticks": ""
                                                    }
                                                },
                                                "type": "scattergeo"
                                            }
                                        ],
                                        "scattergl": [
                                            {
                                                "marker": {
                                                    "colorbar": {
                                                        "outlinewidth": 0,
                                                        "ticks": ""
                                                    }
                                                },
                                                "type": "scattergl"
                                            }
                                        ],
                                        "scattermapbox": [
                                            {
                                                "marker": {
                                                    "colorbar": {
                                                        "outlinewidth": 0,
                                                        "ticks": ""
                                                    }
                                                },
                                                "type": "scattermapbox"
                                            }
                                        ],
                                        "scatterpolar": [
                                            {
                                                "marker": {
                                                    "colorbar": {
                                                        "outlinewidth": 0,
                                                        "ticks": ""
                                                    }
                                                },
                                                "type": "scatterpolar"
                                            }
                                        ],
                                        "scatterpolargl": [
                                            {
                                                "marker": {
                                                    "colorbar": {
                                                        "outlinewidth": 0,
                                                        "ticks": ""
                                                    }
                                                },
                                                "type": "scatterpolargl"
                                            }
                                        ],
                                        "scatterternary": [
                                            {
                                                "marker": {
                                                    "colorbar": {
                                                        "outlinewidth": 0,
                                                        "ticks": ""
                                                    }
                                                },
                                                "type": "scatterternary"
                                            }
                                        ],
                                        "surface": [
                                            {
                                                "colorbar": {
                                                    "outlinewidth": 0,
                                                    "ticks": ""
                                                },
                                                "colorscale": [
                                                    [
                                                        0,
                                                        "#0d0887"
                                                    ],
                                                    [
                                                        0.1111111111111111,
                                                        "#46039f"
                                                    ],
                                                    [
                                                        0.2222222222222222,
                                                        "#7201a8"
                                                    ],
                                                    [
                                                        0.3333333333333333,
                                                        "#9c179e"
                                                    ],
                                                    [
                                                        0.4444444444444444,
                                                        "#bd3786"
                                                    ],
                                                    [
                                                        0.5555555555555556,
                                                        "#d8576b"
                                                    ],
                                                    [
                                                        0.6666666666666666,
                                                        "#ed7953"
                                                    ],
                                                    [
                                                        0.7777777777777778,
                                                        "#fb9f3a"
                                                    ],
                                                    [
                                                        0.8888888888888888,
                                                        "#fdca26"
                                                    ],
                                                    [
                                                        1,
                                                        "#f0f921"
                                                    ]
                                                ],
                                                "type": "surface"
                                            }
                                        ],
                                        "table": [
                                            {
                                                "cells": {
                                                    "fill": {
                                                        "color": "#EBF0F8"
                                                    },
                                                    "line": {
                                                        "color": "white"
                                                    }
                                                },
                                                "header": {
                                                    "fill": {
                                                        "color": "#C8D4E3"
                                                    },
                                                    "line": {
                                                        "color": "white"
                                                    }
                                                },
                                                "type": "table"
                                            }
                                        ]
                                    },
                                    "layout": {
                                        "annotationdefaults": {
                                            "arrowcolor": "#2a3f5f",
                                            "arrowhead": 0,
                                            "arrowwidth": 1
                                        },
                                        "autotypenumbers": "strict",
                                        "coloraxis": {
                                            "colorbar": {
                                                "outlinewidth": 0,
                                                "ticks": ""
                                            }
                                        },
                                        "colorscale": {
                                            "diverging": [
                                                [
                                                    0,
                                                    "#8e0152"
                                                ],
                                                [
                                                    0.1,
                                                    "#c51b7d"
                                                ],
                                                [
                                                    0.2,
                                                    "#de77ae"
                                                ],
                                                [
                                                    0.3,
                                                    "#f1b6da"
                                                ],
                                                [
                                                    0.4,
                                                    "#fde0ef"
                                                ],
                                                [
                                                    0.5,
                                                    "#f7f7f7"
                                                ],
                                                [
                                                    0.6,
                                                    "#e6f5d0"
                                                ],
                                                [
                                                    0.7,
                                                    "#b8e186"
                                                ],
                                                [
                                                    0.8,
                                                    "#7fbc41"
                                                ],
                                                [
                                                    0.9,
                                                    "#4d9221"
                                                ],
                                                [
                                                    1,
                                                    "#276419"
                                                ]
                                            ],
                                            "sequential": [
                                                [
                                                    0,
                                                    "#0d0887"
                                                ],
                                                [
                                                    0.1111111111111111,
                                                    "#46039f"
                                                ],
                                                [
                                                    0.2222222222222222,
                                                    "#7201a8"
                                                ],
                                                [
                                                    0.3333333333333333,
                                                    "#9c179e"
                                                ],
                                                [
                                                    0.4444444444444444,
                                                    "#bd3786"
                                                ],
                                                [
                                                    0.5555555555555556,
                                                    "#d8576b"
                                                ],
                                                [
                                                    0.6666666666666666,
                                                    "#ed7953"
                                                ],
                                                [
                                                    0.7777777777777778,
                                                    "#fb9f3a"
                                                ],
                                                [
                                                    0.8888888888888888,
                                                    "#fdca26"
                                                ],
                                                [
                                                    1,
                                                    "#f0f921"
                                                ]
                                            ],
                                            "sequentialminus": [
                                                [
                                                    0,
                                                    "#0d0887"
                                                ],
                                                [
                                                    0.1111111111111111,
                                                    "#46039f"
                                                ],
                                                [
                                                    0.2222222222222222,
                                                    "#7201a8"
                                                ],
                                                [
                                                    0.3333333333333333,
                                                    "#9c179e"
                                                ],
                                                [
                                                    0.4444444444444444,
                                                    "#bd3786"
                                                ],
                                                [
                                                    0.5555555555555556,
                                                    "#d8576b"
                                                ],
                                                [
                                                    0.6666666666666666,
                                                    "#ed7953"
                                                ],
                                                [
                                                    0.7777777777777778,
                                                    "#fb9f3a"
                                                ],
                                                [
                                                    0.8888888888888888,
                                                    "#fdca26"
                                                ],
                                                [
                                                    1,
                                                    "#f0f921"
                                                ]
                                            ]
                                        },
                                        "colorway": [
                                            "#636efa",
                                            "#EF553B",
                                            "#00cc96",
                                            "#ab63fa",
                                            "#FFA15A",
                                            "#19d3f3",
                                            "#FF6692",
                                            "#B6E880",
                                            "#FF97FF",
                                            "#FECB52"
                                        ],
                                        "font": {
                                            "color": "#2a3f5f"
                                        },
                                        "geo": {
                                            "bgcolor": "white",
                                            "lakecolor": "white",
                                            "landcolor": "#E5ECF6",
                                            "showlakes": true,
                                            "showland": true,
                                            "subunitcolor": "white"
                                        },
                                        "hoverlabel": {
                                            "align": "left"
                                        },
                                        "hovermode": "closest",
                                        "mapbox": {
                                            "style": "light"
                                        },
                                        "paper_bgcolor": "white",
                                        "plot_bgcolor": "#E5ECF6",
                                        "polar": {
                                            "angularaxis": {
                                                "gridcolor": "white",
                                                "linecolor": "white",
                                                "ticks": ""
                                            },
                                            "bgcolor": "#E5ECF6",
                                            "radialaxis": {
                                                "gridcolor": "white",
                                                "linecolor": "white",
                                                "ticks": ""
                                            }
                                        },
                                        "scene": {
                                            "xaxis": {
                                                "backgroundcolor": "#E5ECF6",
                                                "gridcolor": "white",
                                                "gridwidth": 2,
                                                "linecolor": "white",
                                                "showbackground": true,
                                                "ticks": "",
                                                "zerolinecolor": "white"
                                            },
                                            "yaxis": {
                                                "backgroundcolor": "#E5ECF6",
                                                "gridcolor": "white",
                                                "gridwidth": 2,
                                                "linecolor": "white",
                                                "showbackground": true,
                                                "ticks": "",
                                                "zerolinecolor": "white"
                                            },
                                            "zaxis": {
                                                "backgroundcolor": "#E5ECF6",
                                                "gridcolor": "white",
                                                "gridwidth": 2,
                                                "linecolor": "white",
                                                "showbackground": true,
                                                "ticks": "",
                                                "zerolinecolor": "white"
                                            }
                                        },
                                        "shapedefaults": {
                                            "line": {
                                                "color": "#2a3f5f"
                                            }
                                        },
                                        "ternary": {
                                            "aaxis": {
                                                "gridcolor": "white",
                                                "linecolor": "white",
                                                "ticks": ""
                                            },
                                            "baxis": {
                                                "gridcolor": "white",
                                                "linecolor": "white",
                                                "ticks": ""
                                            },
                                            "bgcolor": "#E5ECF6",
                                            "caxis": {
                                                "gridcolor": "white",
                                                "linecolor": "white",
                                                "ticks": ""
                                            }
                                        },
                                        "title": {
                                            "x": 0.05
                                        },
                                        "xaxis": {
                                            "automargin": true,
                                            "gridcolor": "white",
                                            "linecolor": "white",
                                            "ticks": "",
                                            "title": {
                                                "standoff": 15
                                            },
                                            "zerolinecolor": "white",
                                            "zerolinewidth": 2
                                        },
                                        "yaxis": {
                                            "automargin": true,
                                            "gridcolor": "white",
                                            "linecolor": "white",
                                            "ticks": "",
                                            "title": {
                                                "standoff": 15
                                            },
                                            "zerolinecolor": "white",
                                            "zerolinewidth": 2
                                        }
                                    }
                                },
                                "width": 1200,
                                "xaxis": {
                                    "anchor": "y",
                                    "domain": [
                                        0,
                                        0.16799999999999998
                                    ],
                                    "title": {
                                        "text": "effect size"
                                    }
                                },
                                "xaxis2": {
                                    "anchor": "y2",
                                    "domain": [
                                        0.208,
                                        0.376
                                    ],
                                    "title": {
                                        "text": "effect size"
                                    }
                                },
                                "xaxis3": {
                                    "anchor": "y3",
                                    "domain": [
                                        0.416,
                                        0.584
                                    ],
                                    "title": {
                                        "text": "effect size"
                                    }
                                },
                                "xaxis4": {
                                    "anchor": "y4",
                                    "domain": [
                                        0.624,
                                        0.792
                                    ],
                                    "title": {
                                        "text": "effect size"
                                    }
                                },
                                "xaxis5": {
                                    "anchor": "y5",
                                    "domain": [
                                        0.832,
                                        1
                                    ],
                                    "title": {
                                        "text": "effect size"
                                    }
                                },
                                "yaxis": {
                                    "anchor": "x",
                                    "domain": [
                                        0,
                                        1
                                    ],
                                    "title": {
                                        "text": "statistical power"
                                    }
                                },
                                "yaxis2": {
                                    "anchor": "x2",
                                    "domain": [
                                        0,
                                        1
                                    ],
                                    "matches": "y",
                                    "showticklabels": false
                                },
                                "yaxis3": {
                                    "anchor": "x3",
                                    "domain": [
                                        0,
                                        1
                                    ],
                                    "matches": "y",
                                    "showticklabels": false
                                },
                                "yaxis4": {
                                    "anchor": "x4",
                                    "domain": [
                                        0,
                                        1
                                    ],
                                    "matches": "y",
                                    "showticklabels": false
                                },
                                "yaxis5": {
                                    "anchor": "x5",
                                    "domain": [
                                        0,
                                        1
                                    ],
                                    "matches": "y",
                                    "showticklabels": false
                                }
                            }
                        }
                    },
                    "metadata": {},
                    "output_type": "display_data"
                }
            ],
            "source": [
                "\n",
                "list_sample_size = [5, 10, 15, 25, 50]\n",
                "list_effect_size = [0.0, 0.1, 0.2, 0.4, 0.6, 0.8, 1.0]\n",
                "is_paired = False\n",
                "significance = 0.05\n",
                "run_count = 200\n",
                "\n",
                "list_estimator = []\n",
                "list_estimator.append(StudentTTest(alternative=\"two-sided\"))\n",
                "list_estimator.append(PairedTTest(alternative=\"two-sided\"))\n",
                "list_estimator.append(MannWhitneyUTest(alternative=\"two-sided\", type_ranking=\"unsafe\"))\n",
                "list_estimator.append(MannWhitneyUTest(alternative=\"two-sided\", type_ranking=\"cdf\"))\n",
                "list_estimator.append(WilcoxonSingedRankTest(alternative=\"two-sided\", type_ranking=\"unsafe\"))\n",
                "list_estimator.append(WilcoxonSingedRankTest(alternative=\"two-sided\", type_ranking=\"cdf\"))\n",
                "\n",
                "#TODO convert this to a dataframe maybe\n",
                "list_list_list_experiment = []\n",
                "for sample_size in list_sample_size:\n",
                "    list_list_experiment = []\n",
                "    for estimator in list_estimator:\n",
                "        list_experiment = []\n",
                "        for effect_size in list_effect_size:\n",
                "            list_experiment.append(experiment_power(estimator, two_sample_normal_high_res, sample_size, effect_size, is_paired, significance, run_count))\n",
                "        list_list_experiment.append(list_experiment)\n",
                "    list_list_list_experiment.append(list_list_experiment)\n",
                "plot_experiment_power(list_sample_size, list_list_list_experiment)\n",
                "\n",
                "\n",
                "\n",
                "list_list_list_experiment = []\n",
                "for sample_size in list_sample_size:\n",
                "    list_list_experiment = []\n",
                "    for estimator in list_estimator:\n",
                "        list_experiment = []\n",
                "        for effect_size in list_effect_size:\n",
                "            list_experiment.append(experiment_power(estimator, two_sample_uniform_low_res, sample_size, effect_size, is_paired, significance, run_count))\n",
                "        list_list_experiment.append(list_experiment)\n",
                "    list_list_list_experiment.append(list_list_experiment)\n",
                "plot_experiment_power(list_sample_size, list_list_list_experiment)\n",
                "\n",
                "\n",
                "\n",
                "\n",
                "\n",
                "\n",
                "\n",
                "\n",
                "\n"
            ]
        },
        {
            "cell_type": "code",
            "execution_count": 6,
            "id": "594dba71",
            "metadata": {},
            "outputs": [
                {
                    "data": {
                        "application/vnd.plotly.v1+json": {
                            "config": {
                                "plotlyServerURL": "https://plot.ly"
                            },
                            "data": [
                                {
                                    "legendgroup": "StudentTTest - two-sided",
                                    "line": {
                                        "color": "#636EFA"
                                    },
                                    "name": "StudentTTest - two-sided",
                                    "showlegend": false,
                                    "type": "scatter",
                                    "x": [
                                        0,
                                        0.1,
                                        0.2,
                                        0.4,
                                        0.6,
                                        0.8,
                                        1
                                    ],
                                    "xaxis": "x",
                                    "y": [
                                        0.115,
                                        0.11,
                                        0.155,
                                        0.225,
                                        0.335,
                                        0.355,
                                        0.475
                                    ],
                                    "yaxis": "y"
                                },
                                {
                                    "legendgroup": "MannWhitneyUTest - two-sided - unsafe",
                                    "line": {
                                        "color": "#EF553B"
                                    },
                                    "name": "MannWhitneyUTest - two-sided - unsafe",
                                    "showlegend": false,
                                    "type": "scatter",
                                    "x": [
                                        0,
                                        0.1,
                                        0.2,
                                        0.4,
                                        0.6,
                                        0.8,
                                        1
                                    ],
                                    "xaxis": "x",
                                    "y": [
                                        0.02,
                                        0.025,
                                        0.015,
                                        0.04,
                                        0.025,
                                        0.095,
                                        0.095
                                    ],
                                    "yaxis": "y"
                                },
                                {
                                    "legendgroup": "MannWhitneyUTest - two-sided - cdf",
                                    "line": {
                                        "color": "#00CC96"
                                    },
                                    "name": "MannWhitneyUTest - two-sided - cdf",
                                    "showlegend": false,
                                    "type": "scatter",
                                    "x": [
                                        0,
                                        0.1,
                                        0.2,
                                        0.4,
                                        0.6,
                                        0.8,
                                        1
                                    ],
                                    "xaxis": "x",
                                    "y": [
                                        0.04,
                                        0.025,
                                        0.025,
                                        0.03,
                                        0.055,
                                        0.055,
                                        0.055
                                    ],
                                    "yaxis": "y"
                                },
                                {
                                    "legendgroup": "StudentTTest - two-sided",
                                    "line": {
                                        "color": "#636EFA"
                                    },
                                    "name": "StudentTTest - two-sided",
                                    "showlegend": false,
                                    "type": "scatter",
                                    "x": [
                                        0,
                                        0.1,
                                        0.2,
                                        0.4,
                                        0.6,
                                        0.8,
                                        1
                                    ],
                                    "xaxis": "x2",
                                    "y": [
                                        0.085,
                                        0.1,
                                        0.145,
                                        0.31,
                                        0.425,
                                        0.595,
                                        0.72
                                    ],
                                    "yaxis": "y2"
                                },
                                {
                                    "legendgroup": "MannWhitneyUTest - two-sided - unsafe",
                                    "line": {
                                        "color": "#EF553B"
                                    },
                                    "name": "MannWhitneyUTest - two-sided - unsafe",
                                    "showlegend": false,
                                    "type": "scatter",
                                    "x": [
                                        0,
                                        0.1,
                                        0.2,
                                        0.4,
                                        0.6,
                                        0.8,
                                        1
                                    ],
                                    "xaxis": "x2",
                                    "y": [
                                        0.055,
                                        0.025,
                                        0.025,
                                        0.09,
                                        0.11,
                                        0.235,
                                        0.38
                                    ],
                                    "yaxis": "y2"
                                },
                                {
                                    "legendgroup": "MannWhitneyUTest - two-sided - cdf",
                                    "line": {
                                        "color": "#00CC96"
                                    },
                                    "name": "MannWhitneyUTest - two-sided - cdf",
                                    "showlegend": false,
                                    "type": "scatter",
                                    "x": [
                                        0,
                                        0.1,
                                        0.2,
                                        0.4,
                                        0.6,
                                        0.8,
                                        1
                                    ],
                                    "xaxis": "x2",
                                    "y": [
                                        0.23,
                                        0.185,
                                        0.3,
                                        0.295,
                                        0.39,
                                        0.385,
                                        0.425
                                    ],
                                    "yaxis": "y2"
                                },
                                {
                                    "legendgroup": "StudentTTest - two-sided",
                                    "line": {
                                        "color": "#636EFA"
                                    },
                                    "name": "StudentTTest - two-sided",
                                    "showlegend": false,
                                    "type": "scatter",
                                    "x": [
                                        0,
                                        0.1,
                                        0.2,
                                        0.4,
                                        0.6,
                                        0.8,
                                        1
                                    ],
                                    "xaxis": "x3",
                                    "y": [
                                        0.085,
                                        0.155,
                                        0.21,
                                        0.435,
                                        0.64,
                                        0.825,
                                        0.89
                                    ],
                                    "yaxis": "y3"
                                },
                                {
                                    "legendgroup": "MannWhitneyUTest - two-sided - unsafe",
                                    "line": {
                                        "color": "#EF553B"
                                    },
                                    "name": "MannWhitneyUTest - two-sided - unsafe",
                                    "showlegend": false,
                                    "type": "scatter",
                                    "x": [
                                        0,
                                        0.1,
                                        0.2,
                                        0.4,
                                        0.6,
                                        0.8,
                                        1
                                    ],
                                    "xaxis": "x3",
                                    "y": [
                                        0.055,
                                        0.045,
                                        0.065,
                                        0.145,
                                        0.35,
                                        0.53,
                                        0.72
                                    ],
                                    "yaxis": "y3"
                                },
                                {
                                    "legendgroup": "MannWhitneyUTest - two-sided - cdf",
                                    "line": {
                                        "color": "#00CC96"
                                    },
                                    "name": "MannWhitneyUTest - two-sided - cdf",
                                    "showlegend": false,
                                    "type": "scatter",
                                    "x": [
                                        0,
                                        0.1,
                                        0.2,
                                        0.4,
                                        0.6,
                                        0.8,
                                        1
                                    ],
                                    "xaxis": "x3",
                                    "y": [
                                        0.105,
                                        0.06,
                                        0.09,
                                        0.15,
                                        0.21,
                                        0.285,
                                        0.42
                                    ],
                                    "yaxis": "y3"
                                },
                                {
                                    "legendgroup": "StudentTTest - two-sided",
                                    "line": {
                                        "color": "#636EFA"
                                    },
                                    "name": "StudentTTest - two-sided",
                                    "showlegend": false,
                                    "type": "scatter",
                                    "x": [
                                        0,
                                        0.1,
                                        0.2,
                                        0.4,
                                        0.6,
                                        0.8,
                                        1
                                    ],
                                    "xaxis": "x4",
                                    "y": [
                                        0.095,
                                        0.12,
                                        0.225,
                                        0.5,
                                        0.775,
                                        0.95,
                                        0.99
                                    ],
                                    "yaxis": "y4"
                                },
                                {
                                    "legendgroup": "MannWhitneyUTest - two-sided - unsafe",
                                    "line": {
                                        "color": "#EF553B"
                                    },
                                    "name": "MannWhitneyUTest - two-sided - unsafe",
                                    "showlegend": false,
                                    "type": "scatter",
                                    "x": [
                                        0,
                                        0.1,
                                        0.2,
                                        0.4,
                                        0.6,
                                        0.8,
                                        1
                                    ],
                                    "xaxis": "x4",
                                    "y": [
                                        0.065,
                                        0.075,
                                        0.075,
                                        0.32,
                                        0.465,
                                        0.72,
                                        0.9
                                    ],
                                    "yaxis": "y4"
                                },
                                {
                                    "legendgroup": "MannWhitneyUTest - two-sided - cdf",
                                    "line": {
                                        "color": "#00CC96"
                                    },
                                    "name": "MannWhitneyUTest - two-sided - cdf",
                                    "showlegend": false,
                                    "type": "scatter",
                                    "x": [
                                        0,
                                        0.1,
                                        0.2,
                                        0.4,
                                        0.6,
                                        0.8,
                                        1
                                    ],
                                    "xaxis": "x4",
                                    "y": [
                                        0.08,
                                        0.045,
                                        0.055,
                                        0.11,
                                        0.23,
                                        0.4,
                                        0.63
                                    ],
                                    "yaxis": "y4"
                                },
                                {
                                    "legendgroup": "StudentTTest - two-sided",
                                    "line": {
                                        "color": "#636EFA"
                                    },
                                    "name": "StudentTTest - two-sided",
                                    "showlegend": true,
                                    "type": "scatter",
                                    "x": [
                                        0,
                                        0.1,
                                        0.2,
                                        0.4,
                                        0.6,
                                        0.8,
                                        1
                                    ],
                                    "xaxis": "x5",
                                    "y": [
                                        0.105,
                                        0.22,
                                        0.335,
                                        0.79,
                                        0.955,
                                        0.995,
                                        1
                                    ],
                                    "yaxis": "y5"
                                },
                                {
                                    "legendgroup": "MannWhitneyUTest - two-sided - unsafe",
                                    "line": {
                                        "color": "#EF553B"
                                    },
                                    "name": "MannWhitneyUTest - two-sided - unsafe",
                                    "showlegend": true,
                                    "type": "scatter",
                                    "x": [
                                        0,
                                        0.1,
                                        0.2,
                                        0.4,
                                        0.6,
                                        0.8,
                                        1
                                    ],
                                    "xaxis": "x5",
                                    "y": [
                                        0.045,
                                        0.085,
                                        0.22,
                                        0.455,
                                        0.8,
                                        0.915,
                                        0.995
                                    ],
                                    "yaxis": "y5"
                                },
                                {
                                    "legendgroup": "MannWhitneyUTest - two-sided - cdf",
                                    "line": {
                                        "color": "#00CC96"
                                    },
                                    "name": "MannWhitneyUTest - two-sided - cdf",
                                    "showlegend": true,
                                    "type": "scatter",
                                    "x": [
                                        0,
                                        0.1,
                                        0.2,
                                        0.4,
                                        0.6,
                                        0.8,
                                        1
                                    ],
                                    "xaxis": "x5",
                                    "y": [
                                        0.1,
                                        0.055,
                                        0.085,
                                        0.31,
                                        0.635,
                                        0.905,
                                        0.99
                                    ],
                                    "yaxis": "y5"
                                }
                            ],
                            "layout": {
                                "annotations": [
                                    {
                                        "font": {
                                            "size": 16
                                        },
                                        "showarrow": false,
                                        "text": "N=5",
                                        "x": 0.08399999999999999,
                                        "xanchor": "center",
                                        "xref": "paper",
                                        "y": 1,
                                        "yanchor": "bottom",
                                        "yref": "paper"
                                    },
                                    {
                                        "font": {
                                            "size": 16
                                        },
                                        "showarrow": false,
                                        "text": "N=10",
                                        "x": 0.292,
                                        "xanchor": "center",
                                        "xref": "paper",
                                        "y": 1,
                                        "yanchor": "bottom",
                                        "yref": "paper"
                                    },
                                    {
                                        "font": {
                                            "size": 16
                                        },
                                        "showarrow": false,
                                        "text": "N=15",
                                        "x": 0.5,
                                        "xanchor": "center",
                                        "xref": "paper",
                                        "y": 1,
                                        "yanchor": "bottom",
                                        "yref": "paper"
                                    },
                                    {
                                        "font": {
                                            "size": 16
                                        },
                                        "showarrow": false,
                                        "text": "N=25",
                                        "x": 0.708,
                                        "xanchor": "center",
                                        "xref": "paper",
                                        "y": 1,
                                        "yanchor": "bottom",
                                        "yref": "paper"
                                    },
                                    {
                                        "font": {
                                            "size": 16
                                        },
                                        "showarrow": false,
                                        "text": "N=50",
                                        "x": 0.9159999999999999,
                                        "xanchor": "center",
                                        "xref": "paper",
                                        "y": 1,
                                        "yanchor": "bottom",
                                        "yref": "paper"
                                    }
                                ],
                                "height": 350,
                                "showlegend": true,
                                "template": {
                                    "data": {
                                        "bar": [
                                            {
                                                "error_x": {
                                                    "color": "#2a3f5f"
                                                },
                                                "error_y": {
                                                    "color": "#2a3f5f"
                                                },
                                                "marker": {
                                                    "line": {
                                                        "color": "#E5ECF6",
                                                        "width": 0.5
                                                    },
                                                    "pattern": {
                                                        "fillmode": "overlay",
                                                        "size": 10,
                                                        "solidity": 0.2
                                                    }
                                                },
                                                "type": "bar"
                                            }
                                        ],
                                        "barpolar": [
                                            {
                                                "marker": {
                                                    "line": {
                                                        "color": "#E5ECF6",
                                                        "width": 0.5
                                                    },
                                                    "pattern": {
                                                        "fillmode": "overlay",
                                                        "size": 10,
                                                        "solidity": 0.2
                                                    }
                                                },
                                                "type": "barpolar"
                                            }
                                        ],
                                        "carpet": [
                                            {
                                                "aaxis": {
                                                    "endlinecolor": "#2a3f5f",
                                                    "gridcolor": "white",
                                                    "linecolor": "white",
                                                    "minorgridcolor": "white",
                                                    "startlinecolor": "#2a3f5f"
                                                },
                                                "baxis": {
                                                    "endlinecolor": "#2a3f5f",
                                                    "gridcolor": "white",
                                                    "linecolor": "white",
                                                    "minorgridcolor": "white",
                                                    "startlinecolor": "#2a3f5f"
                                                },
                                                "type": "carpet"
                                            }
                                        ],
                                        "choropleth": [
                                            {
                                                "colorbar": {
                                                    "outlinewidth": 0,
                                                    "ticks": ""
                                                },
                                                "type": "choropleth"
                                            }
                                        ],
                                        "contour": [
                                            {
                                                "colorbar": {
                                                    "outlinewidth": 0,
                                                    "ticks": ""
                                                },
                                                "colorscale": [
                                                    [
                                                        0,
                                                        "#0d0887"
                                                    ],
                                                    [
                                                        0.1111111111111111,
                                                        "#46039f"
                                                    ],
                                                    [
                                                        0.2222222222222222,
                                                        "#7201a8"
                                                    ],
                                                    [
                                                        0.3333333333333333,
                                                        "#9c179e"
                                                    ],
                                                    [
                                                        0.4444444444444444,
                                                        "#bd3786"
                                                    ],
                                                    [
                                                        0.5555555555555556,
                                                        "#d8576b"
                                                    ],
                                                    [
                                                        0.6666666666666666,
                                                        "#ed7953"
                                                    ],
                                                    [
                                                        0.7777777777777778,
                                                        "#fb9f3a"
                                                    ],
                                                    [
                                                        0.8888888888888888,
                                                        "#fdca26"
                                                    ],
                                                    [
                                                        1,
                                                        "#f0f921"
                                                    ]
                                                ],
                                                "type": "contour"
                                            }
                                        ],
                                        "contourcarpet": [
                                            {
                                                "colorbar": {
                                                    "outlinewidth": 0,
                                                    "ticks": ""
                                                },
                                                "type": "contourcarpet"
                                            }
                                        ],
                                        "heatmap": [
                                            {
                                                "colorbar": {
                                                    "outlinewidth": 0,
                                                    "ticks": ""
                                                },
                                                "colorscale": [
                                                    [
                                                        0,
                                                        "#0d0887"
                                                    ],
                                                    [
                                                        0.1111111111111111,
                                                        "#46039f"
                                                    ],
                                                    [
                                                        0.2222222222222222,
                                                        "#7201a8"
                                                    ],
                                                    [
                                                        0.3333333333333333,
                                                        "#9c179e"
                                                    ],
                                                    [
                                                        0.4444444444444444,
                                                        "#bd3786"
                                                    ],
                                                    [
                                                        0.5555555555555556,
                                                        "#d8576b"
                                                    ],
                                                    [
                                                        0.6666666666666666,
                                                        "#ed7953"
                                                    ],
                                                    [
                                                        0.7777777777777778,
                                                        "#fb9f3a"
                                                    ],
                                                    [
                                                        0.8888888888888888,
                                                        "#fdca26"
                                                    ],
                                                    [
                                                        1,
                                                        "#f0f921"
                                                    ]
                                                ],
                                                "type": "heatmap"
                                            }
                                        ],
                                        "heatmapgl": [
                                            {
                                                "colorbar": {
                                                    "outlinewidth": 0,
                                                    "ticks": ""
                                                },
                                                "colorscale": [
                                                    [
                                                        0,
                                                        "#0d0887"
                                                    ],
                                                    [
                                                        0.1111111111111111,
                                                        "#46039f"
                                                    ],
                                                    [
                                                        0.2222222222222222,
                                                        "#7201a8"
                                                    ],
                                                    [
                                                        0.3333333333333333,
                                                        "#9c179e"
                                                    ],
                                                    [
                                                        0.4444444444444444,
                                                        "#bd3786"
                                                    ],
                                                    [
                                                        0.5555555555555556,
                                                        "#d8576b"
                                                    ],
                                                    [
                                                        0.6666666666666666,
                                                        "#ed7953"
                                                    ],
                                                    [
                                                        0.7777777777777778,
                                                        "#fb9f3a"
                                                    ],
                                                    [
                                                        0.8888888888888888,
                                                        "#fdca26"
                                                    ],
                                                    [
                                                        1,
                                                        "#f0f921"
                                                    ]
                                                ],
                                                "type": "heatmapgl"
                                            }
                                        ],
                                        "histogram": [
                                            {
                                                "marker": {
                                                    "pattern": {
                                                        "fillmode": "overlay",
                                                        "size": 10,
                                                        "solidity": 0.2
                                                    }
                                                },
                                                "type": "histogram"
                                            }
                                        ],
                                        "histogram2d": [
                                            {
                                                "colorbar": {
                                                    "outlinewidth": 0,
                                                    "ticks": ""
                                                },
                                                "colorscale": [
                                                    [
                                                        0,
                                                        "#0d0887"
                                                    ],
                                                    [
                                                        0.1111111111111111,
                                                        "#46039f"
                                                    ],
                                                    [
                                                        0.2222222222222222,
                                                        "#7201a8"
                                                    ],
                                                    [
                                                        0.3333333333333333,
                                                        "#9c179e"
                                                    ],
                                                    [
                                                        0.4444444444444444,
                                                        "#bd3786"
                                                    ],
                                                    [
                                                        0.5555555555555556,
                                                        "#d8576b"
                                                    ],
                                                    [
                                                        0.6666666666666666,
                                                        "#ed7953"
                                                    ],
                                                    [
                                                        0.7777777777777778,
                                                        "#fb9f3a"
                                                    ],
                                                    [
                                                        0.8888888888888888,
                                                        "#fdca26"
                                                    ],
                                                    [
                                                        1,
                                                        "#f0f921"
                                                    ]
                                                ],
                                                "type": "histogram2d"
                                            }
                                        ],
                                        "histogram2dcontour": [
                                            {
                                                "colorbar": {
                                                    "outlinewidth": 0,
                                                    "ticks": ""
                                                },
                                                "colorscale": [
                                                    [
                                                        0,
                                                        "#0d0887"
                                                    ],
                                                    [
                                                        0.1111111111111111,
                                                        "#46039f"
                                                    ],
                                                    [
                                                        0.2222222222222222,
                                                        "#7201a8"
                                                    ],
                                                    [
                                                        0.3333333333333333,
                                                        "#9c179e"
                                                    ],
                                                    [
                                                        0.4444444444444444,
                                                        "#bd3786"
                                                    ],
                                                    [
                                                        0.5555555555555556,
                                                        "#d8576b"
                                                    ],
                                                    [
                                                        0.6666666666666666,
                                                        "#ed7953"
                                                    ],
                                                    [
                                                        0.7777777777777778,
                                                        "#fb9f3a"
                                                    ],
                                                    [
                                                        0.8888888888888888,
                                                        "#fdca26"
                                                    ],
                                                    [
                                                        1,
                                                        "#f0f921"
                                                    ]
                                                ],
                                                "type": "histogram2dcontour"
                                            }
                                        ],
                                        "mesh3d": [
                                            {
                                                "colorbar": {
                                                    "outlinewidth": 0,
                                                    "ticks": ""
                                                },
                                                "type": "mesh3d"
                                            }
                                        ],
                                        "parcoords": [
                                            {
                                                "line": {
                                                    "colorbar": {
                                                        "outlinewidth": 0,
                                                        "ticks": ""
                                                    }
                                                },
                                                "type": "parcoords"
                                            }
                                        ],
                                        "pie": [
                                            {
                                                "automargin": true,
                                                "type": "pie"
                                            }
                                        ],
                                        "scatter": [
                                            {
                                                "fillpattern": {
                                                    "fillmode": "overlay",
                                                    "size": 10,
                                                    "solidity": 0.2
                                                },
                                                "type": "scatter"
                                            }
                                        ],
                                        "scatter3d": [
                                            {
                                                "line": {
                                                    "colorbar": {
                                                        "outlinewidth": 0,
                                                        "ticks": ""
                                                    }
                                                },
                                                "marker": {
                                                    "colorbar": {
                                                        "outlinewidth": 0,
                                                        "ticks": ""
                                                    }
                                                },
                                                "type": "scatter3d"
                                            }
                                        ],
                                        "scattercarpet": [
                                            {
                                                "marker": {
                                                    "colorbar": {
                                                        "outlinewidth": 0,
                                                        "ticks": ""
                                                    }
                                                },
                                                "type": "scattercarpet"
                                            }
                                        ],
                                        "scattergeo": [
                                            {
                                                "marker": {
                                                    "colorbar": {
                                                        "outlinewidth": 0,
                                                        "ticks": ""
                                                    }
                                                },
                                                "type": "scattergeo"
                                            }
                                        ],
                                        "scattergl": [
                                            {
                                                "marker": {
                                                    "colorbar": {
                                                        "outlinewidth": 0,
                                                        "ticks": ""
                                                    }
                                                },
                                                "type": "scattergl"
                                            }
                                        ],
                                        "scattermapbox": [
                                            {
                                                "marker": {
                                                    "colorbar": {
                                                        "outlinewidth": 0,
                                                        "ticks": ""
                                                    }
                                                },
                                                "type": "scattermapbox"
                                            }
                                        ],
                                        "scatterpolar": [
                                            {
                                                "marker": {
                                                    "colorbar": {
                                                        "outlinewidth": 0,
                                                        "ticks": ""
                                                    }
                                                },
                                                "type": "scatterpolar"
                                            }
                                        ],
                                        "scatterpolargl": [
                                            {
                                                "marker": {
                                                    "colorbar": {
                                                        "outlinewidth": 0,
                                                        "ticks": ""
                                                    }
                                                },
                                                "type": "scatterpolargl"
                                            }
                                        ],
                                        "scatterternary": [
                                            {
                                                "marker": {
                                                    "colorbar": {
                                                        "outlinewidth": 0,
                                                        "ticks": ""
                                                    }
                                                },
                                                "type": "scatterternary"
                                            }
                                        ],
                                        "surface": [
                                            {
                                                "colorbar": {
                                                    "outlinewidth": 0,
                                                    "ticks": ""
                                                },
                                                "colorscale": [
                                                    [
                                                        0,
                                                        "#0d0887"
                                                    ],
                                                    [
                                                        0.1111111111111111,
                                                        "#46039f"
                                                    ],
                                                    [
                                                        0.2222222222222222,
                                                        "#7201a8"
                                                    ],
                                                    [
                                                        0.3333333333333333,
                                                        "#9c179e"
                                                    ],
                                                    [
                                                        0.4444444444444444,
                                                        "#bd3786"
                                                    ],
                                                    [
                                                        0.5555555555555556,
                                                        "#d8576b"
                                                    ],
                                                    [
                                                        0.6666666666666666,
                                                        "#ed7953"
                                                    ],
                                                    [
                                                        0.7777777777777778,
                                                        "#fb9f3a"
                                                    ],
                                                    [
                                                        0.8888888888888888,
                                                        "#fdca26"
                                                    ],
                                                    [
                                                        1,
                                                        "#f0f921"
                                                    ]
                                                ],
                                                "type": "surface"
                                            }
                                        ],
                                        "table": [
                                            {
                                                "cells": {
                                                    "fill": {
                                                        "color": "#EBF0F8"
                                                    },
                                                    "line": {
                                                        "color": "white"
                                                    }
                                                },
                                                "header": {
                                                    "fill": {
                                                        "color": "#C8D4E3"
                                                    },
                                                    "line": {
                                                        "color": "white"
                                                    }
                                                },
                                                "type": "table"
                                            }
                                        ]
                                    },
                                    "layout": {
                                        "annotationdefaults": {
                                            "arrowcolor": "#2a3f5f",
                                            "arrowhead": 0,
                                            "arrowwidth": 1
                                        },
                                        "autotypenumbers": "strict",
                                        "coloraxis": {
                                            "colorbar": {
                                                "outlinewidth": 0,
                                                "ticks": ""
                                            }
                                        },
                                        "colorscale": {
                                            "diverging": [
                                                [
                                                    0,
                                                    "#8e0152"
                                                ],
                                                [
                                                    0.1,
                                                    "#c51b7d"
                                                ],
                                                [
                                                    0.2,
                                                    "#de77ae"
                                                ],
                                                [
                                                    0.3,
                                                    "#f1b6da"
                                                ],
                                                [
                                                    0.4,
                                                    "#fde0ef"
                                                ],
                                                [
                                                    0.5,
                                                    "#f7f7f7"
                                                ],
                                                [
                                                    0.6,
                                                    "#e6f5d0"
                                                ],
                                                [
                                                    0.7,
                                                    "#b8e186"
                                                ],
                                                [
                                                    0.8,
                                                    "#7fbc41"
                                                ],
                                                [
                                                    0.9,
                                                    "#4d9221"
                                                ],
                                                [
                                                    1,
                                                    "#276419"
                                                ]
                                            ],
                                            "sequential": [
                                                [
                                                    0,
                                                    "#0d0887"
                                                ],
                                                [
                                                    0.1111111111111111,
                                                    "#46039f"
                                                ],
                                                [
                                                    0.2222222222222222,
                                                    "#7201a8"
                                                ],
                                                [
                                                    0.3333333333333333,
                                                    "#9c179e"
                                                ],
                                                [
                                                    0.4444444444444444,
                                                    "#bd3786"
                                                ],
                                                [
                                                    0.5555555555555556,
                                                    "#d8576b"
                                                ],
                                                [
                                                    0.6666666666666666,
                                                    "#ed7953"
                                                ],
                                                [
                                                    0.7777777777777778,
                                                    "#fb9f3a"
                                                ],
                                                [
                                                    0.8888888888888888,
                                                    "#fdca26"
                                                ],
                                                [
                                                    1,
                                                    "#f0f921"
                                                ]
                                            ],
                                            "sequentialminus": [
                                                [
                                                    0,
                                                    "#0d0887"
                                                ],
                                                [
                                                    0.1111111111111111,
                                                    "#46039f"
                                                ],
                                                [
                                                    0.2222222222222222,
                                                    "#7201a8"
                                                ],
                                                [
                                                    0.3333333333333333,
                                                    "#9c179e"
                                                ],
                                                [
                                                    0.4444444444444444,
                                                    "#bd3786"
                                                ],
                                                [
                                                    0.5555555555555556,
                                                    "#d8576b"
                                                ],
                                                [
                                                    0.6666666666666666,
                                                    "#ed7953"
                                                ],
                                                [
                                                    0.7777777777777778,
                                                    "#fb9f3a"
                                                ],
                                                [
                                                    0.8888888888888888,
                                                    "#fdca26"
                                                ],
                                                [
                                                    1,
                                                    "#f0f921"
                                                ]
                                            ]
                                        },
                                        "colorway": [
                                            "#636efa",
                                            "#EF553B",
                                            "#00cc96",
                                            "#ab63fa",
                                            "#FFA15A",
                                            "#19d3f3",
                                            "#FF6692",
                                            "#B6E880",
                                            "#FF97FF",
                                            "#FECB52"
                                        ],
                                        "font": {
                                            "color": "#2a3f5f"
                                        },
                                        "geo": {
                                            "bgcolor": "white",
                                            "lakecolor": "white",
                                            "landcolor": "#E5ECF6",
                                            "showlakes": true,
                                            "showland": true,
                                            "subunitcolor": "white"
                                        },
                                        "hoverlabel": {
                                            "align": "left"
                                        },
                                        "hovermode": "closest",
                                        "mapbox": {
                                            "style": "light"
                                        },
                                        "paper_bgcolor": "white",
                                        "plot_bgcolor": "#E5ECF6",
                                        "polar": {
                                            "angularaxis": {
                                                "gridcolor": "white",
                                                "linecolor": "white",
                                                "ticks": ""
                                            },
                                            "bgcolor": "#E5ECF6",
                                            "radialaxis": {
                                                "gridcolor": "white",
                                                "linecolor": "white",
                                                "ticks": ""
                                            }
                                        },
                                        "scene": {
                                            "xaxis": {
                                                "backgroundcolor": "#E5ECF6",
                                                "gridcolor": "white",
                                                "gridwidth": 2,
                                                "linecolor": "white",
                                                "showbackground": true,
                                                "ticks": "",
                                                "zerolinecolor": "white"
                                            },
                                            "yaxis": {
                                                "backgroundcolor": "#E5ECF6",
                                                "gridcolor": "white",
                                                "gridwidth": 2,
                                                "linecolor": "white",
                                                "showbackground": true,
                                                "ticks": "",
                                                "zerolinecolor": "white"
                                            },
                                            "zaxis": {
                                                "backgroundcolor": "#E5ECF6",
                                                "gridcolor": "white",
                                                "gridwidth": 2,
                                                "linecolor": "white",
                                                "showbackground": true,
                                                "ticks": "",
                                                "zerolinecolor": "white"
                                            }
                                        },
                                        "shapedefaults": {
                                            "line": {
                                                "color": "#2a3f5f"
                                            }
                                        },
                                        "ternary": {
                                            "aaxis": {
                                                "gridcolor": "white",
                                                "linecolor": "white",
                                                "ticks": ""
                                            },
                                            "baxis": {
                                                "gridcolor": "white",
                                                "linecolor": "white",
                                                "ticks": ""
                                            },
                                            "bgcolor": "#E5ECF6",
                                            "caxis": {
                                                "gridcolor": "white",
                                                "linecolor": "white",
                                                "ticks": ""
                                            }
                                        },
                                        "title": {
                                            "x": 0.05
                                        },
                                        "xaxis": {
                                            "automargin": true,
                                            "gridcolor": "white",
                                            "linecolor": "white",
                                            "ticks": "",
                                            "title": {
                                                "standoff": 15
                                            },
                                            "zerolinecolor": "white",
                                            "zerolinewidth": 2
                                        },
                                        "yaxis": {
                                            "automargin": true,
                                            "gridcolor": "white",
                                            "linecolor": "white",
                                            "ticks": "",
                                            "title": {
                                                "standoff": 15
                                            },
                                            "zerolinecolor": "white",
                                            "zerolinewidth": 2
                                        }
                                    }
                                },
                                "width": 1200,
                                "xaxis": {
                                    "anchor": "y",
                                    "domain": [
                                        0,
                                        0.16799999999999998
                                    ],
                                    "title": {
                                        "text": "effect size"
                                    }
                                },
                                "xaxis2": {
                                    "anchor": "y2",
                                    "domain": [
                                        0.208,
                                        0.376
                                    ],
                                    "title": {
                                        "text": "effect size"
                                    }
                                },
                                "xaxis3": {
                                    "anchor": "y3",
                                    "domain": [
                                        0.416,
                                        0.584
                                    ],
                                    "title": {
                                        "text": "effect size"
                                    }
                                },
                                "xaxis4": {
                                    "anchor": "y4",
                                    "domain": [
                                        0.624,
                                        0.792
                                    ],
                                    "title": {
                                        "text": "effect size"
                                    }
                                },
                                "xaxis5": {
                                    "anchor": "y5",
                                    "domain": [
                                        0.832,
                                        1
                                    ],
                                    "title": {
                                        "text": "effect size"
                                    }
                                },
                                "yaxis": {
                                    "anchor": "x",
                                    "domain": [
                                        0,
                                        1
                                    ],
                                    "title": {
                                        "text": "statistical power"
                                    }
                                },
                                "yaxis2": {
                                    "anchor": "x2",
                                    "domain": [
                                        0,
                                        1
                                    ],
                                    "matches": "y",
                                    "showticklabels": false
                                },
                                "yaxis3": {
                                    "anchor": "x3",
                                    "domain": [
                                        0,
                                        1
                                    ],
                                    "matches": "y",
                                    "showticklabels": false
                                },
                                "yaxis4": {
                                    "anchor": "x4",
                                    "domain": [
                                        0,
                                        1
                                    ],
                                    "matches": "y",
                                    "showticklabels": false
                                },
                                "yaxis5": {
                                    "anchor": "x5",
                                    "domain": [
                                        0,
                                        1
                                    ],
                                    "matches": "y",
                                    "showticklabels": false
                                }
                            }
                        }
                    },
                    "metadata": {},
                    "output_type": "display_data"
                }
            ],
            "source": [
                "\n",
                "list_sample_size = [5, 10, 15, 25, 50]\n",
                "list_effect_size = [0.0, 0.1, 0.2, 0.4, 0.6, 0.8, 1.0]\n",
                "is_paired = False\n",
                "significance = 0.05\n",
                "run_count = 200\n",
                "\n",
                "list_estimator = []\n",
                "list_estimator.append(StudentTTest(alternative=\"two-sided\"))\n",
                "#list_estimator.append(PairedTTest(alternative=\"two-sided\"))\n",
                "list_estimator.append(MannWhitneyUTest(alternative=\"two-sided\", type_ranking=\"unsafe\"))\n",
                "list_estimator.append(MannWhitneyUTest(alternative=\"two-sided\", type_ranking=\"cdf\"))\n",
                "#list_estimator.append(WilcoxonSingedRankTest(alternative=\"two-sided\", type_ranking=\"unsafe\"))\n",
                "#list_estimator.append(WilcoxonSingedRankTest(alternative=\"two-sided\", type_ranking=\"cdf\"))\n",
                "\n",
                "list_list_list_experiment = []\n",
                "for sample_size in list_sample_size:\n",
                "    list_list_experiment = []\n",
                "    for estimator in list_estimator:\n",
                "        list_experiment = []\n",
                "        for effect_size in list_effect_size:\n",
                "            list_experiment.append(experiment_power(estimator, two_sample_uniform_low_res_fed, sample_size, effect_size, is_paired, significance, run_count))\n",
                "        list_list_experiment.append(list_experiment)\n",
                "    list_list_list_experiment.append(list_list_experiment)\n",
                "plot_experiment_power(list_sample_size, list_list_list_experiment)\n",
                "\n",
                "\n"
            ]
        }
    ],
    "metadata": {
        "kernelspec": {
            "display_name": "venv38_sail",
            "language": "python",
            "name": "python3"
        },
        "language_info": {
            "codemirror_mode": {
                "name": "ipython",
                "version": 3
            },
            "file_extension": ".py",
            "mimetype": "text/x-python",
            "name": "python",
            "nbconvert_exporter": "python",
            "pygments_lexer": "ipython3",
            "version": "3.8.10"
        },
        "vscode": {
            "interpreter": {
                "hash": "b6edbe5638b3feacd7106d40a106e2c3e12ceb182912a9b721169069f1c54c2c"
            }
        }
    },
    "nbformat": 4,
    "nbformat_minor": 5
}
