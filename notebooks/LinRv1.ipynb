{
 "cells": [
  {
   "cell_type": "code",
   "execution_count": 1,
   "metadata": {},
   "outputs": [],
   "source": [
    "import matplotlib.pyplot as plt\n",
    "\n",
    "\n",
    "def print_graph(predicted, x_train, y_train):\n",
    "    plt.clf()\n",
    "    plt.plot(x_train, y_train, 'go', label='True data', alpha=0.5)\n",
    "    plt.plot(x_train, predicted, '--', label='Predictions', alpha=0.5)\n",
    "    plt.legend(loc='best')\n",
    "    plt.show()"
   ]
  },
  {
   "cell_type": "code",
   "execution_count": 2,
   "metadata": {},
   "outputs": [],
   "source": [
    "import numpy as np\n",
    "import torch\n",
    "from sail_safe_functions.machine_learning.models.LinearRegression import LinearRegression\n",
    "\n",
    "# create dummy data for training\n",
    "x_values = [i for i in range(11)]\n",
    "x_train = np.array(x_values, dtype=np.float32)\n",
    "x_train = x_train.reshape(-1, 1)\n",
    "x_train = torch.from_numpy(x_train)\n",
    "\n",
    "y_values = [2*i + 1 for i in x_values]\n",
    "y_train = np.array(y_values, dtype=np.float32)\n",
    "y_train = y_train.reshape(-1, 1)\n",
    "y_train = torch.from_numpy(y_train)\n",
    "\n",
    "data_federation = [[x_train, y_train], [x_train, y_train]]\n",
    "\n",
    "in_layer = 1\n",
    "out_layer = 1\n",
    "optimizer = \"SGD\"\n",
    "criterion = \"MSELoss\"\n",
    "starting_model = LinearRegression(in_layer, out_layer)\n",
    "epochs = 100\n",
    "learn_rate = 0.01"
   ]
  },
  {
   "cell_type": "code",
   "execution_count": 3,
   "metadata": {},
   "outputs": [
    {
     "name": "stdout",
     "output_type": "stream",
     "text": [
      "parameter grabbing working properly\n"
     ]
    }
   ],
   "source": [
    "from sail_safe_functions.machine_learning.utilities.ModelUtility import ModelUtility\n",
    "\n",
    "origin = starting_model(data_federation[0][0])\n",
    "params = ModelUtility.get_parameters_as_tensor(starting_model)\n",
    "starting_model = ModelUtility.set_parameters_from_tensor(LinearRegression(in_layer, out_layer), params)\n",
    "post = starting_model(data_federation[0][0])\n",
    "\n",
    "if origin.equal(post):\n",
    "    print(\"parameter grabbing working properly\")"
   ]
  },
  {
   "cell_type": "code",
   "execution_count": 9,
   "metadata": {},
   "outputs": [
    {
     "ename": "RuntimeError",
     "evalue": "Can't call numpy() on Tensor that requires grad. Use tensor.detach().numpy() instead.",
     "output_type": "error",
     "traceback": [
      "\u001b[0;31m---------------------------------------------------------------------------\u001b[0m",
      "\u001b[0;31mRuntimeError\u001b[0m                              Traceback (most recent call last)",
      "\u001b[1;32m/mnt/c/Users/AdamHall/Documents/GitHub/datascience/notebooks/LinRv1.ipynb Cell 4'\u001b[0m in \u001b[0;36m<cell line: 1>\u001b[0;34m()\u001b[0m\n\u001b[0;32m----> <a href='vscode-notebook-cell://wsl%2Bubuntu20.04lts/mnt/c/Users/AdamHall/Documents/GitHub/datascience/notebooks/LinRv1.ipynb#ch0000010vscode-remote?line=0'>1</a>\u001b[0m print_graph(starting_model(data_federation[\u001b[39m0\u001b[39;49m][\u001b[39m0\u001b[39;49m]), x_train, y_train)\n",
      "\u001b[1;32m/mnt/c/Users/AdamHall/Documents/GitHub/datascience/notebooks/LinRv1.ipynb Cell 1'\u001b[0m in \u001b[0;36mprint_graph\u001b[0;34m(predicted, x_train, y_train)\u001b[0m\n\u001b[1;32m      <a href='vscode-notebook-cell://wsl%2Bubuntu20.04lts/mnt/c/Users/AdamHall/Documents/GitHub/datascience/notebooks/LinRv1.ipynb#ch0000000vscode-remote?line=4'>5</a>\u001b[0m plt\u001b[39m.\u001b[39mclf()\n\u001b[1;32m      <a href='vscode-notebook-cell://wsl%2Bubuntu20.04lts/mnt/c/Users/AdamHall/Documents/GitHub/datascience/notebooks/LinRv1.ipynb#ch0000000vscode-remote?line=5'>6</a>\u001b[0m plt\u001b[39m.\u001b[39mplot(x_train, y_train, \u001b[39m'\u001b[39m\u001b[39mgo\u001b[39m\u001b[39m'\u001b[39m, label\u001b[39m=\u001b[39m\u001b[39m'\u001b[39m\u001b[39mTrue data\u001b[39m\u001b[39m'\u001b[39m, alpha\u001b[39m=\u001b[39m\u001b[39m0.5\u001b[39m)\n\u001b[0;32m----> <a href='vscode-notebook-cell://wsl%2Bubuntu20.04lts/mnt/c/Users/AdamHall/Documents/GitHub/datascience/notebooks/LinRv1.ipynb#ch0000000vscode-remote?line=6'>7</a>\u001b[0m plt\u001b[39m.\u001b[39;49mplot(x_train, predicted, \u001b[39m'\u001b[39;49m\u001b[39m--\u001b[39;49m\u001b[39m'\u001b[39;49m, label\u001b[39m=\u001b[39;49m\u001b[39m'\u001b[39;49m\u001b[39mPredictions\u001b[39;49m\u001b[39m'\u001b[39;49m, alpha\u001b[39m=\u001b[39;49m\u001b[39m0.5\u001b[39;49m)\n\u001b[1;32m      <a href='vscode-notebook-cell://wsl%2Bubuntu20.04lts/mnt/c/Users/AdamHall/Documents/GitHub/datascience/notebooks/LinRv1.ipynb#ch0000000vscode-remote?line=7'>8</a>\u001b[0m plt\u001b[39m.\u001b[39mlegend(loc\u001b[39m=\u001b[39m\u001b[39m'\u001b[39m\u001b[39mbest\u001b[39m\u001b[39m'\u001b[39m)\n\u001b[1;32m      <a href='vscode-notebook-cell://wsl%2Bubuntu20.04lts/mnt/c/Users/AdamHall/Documents/GitHub/datascience/notebooks/LinRv1.ipynb#ch0000000vscode-remote?line=8'>9</a>\u001b[0m plt\u001b[39m.\u001b[39mshow()\n",
      "File \u001b[0;32m~/.local/lib/python3.8/site-packages/matplotlib/pyplot.py:2769\u001b[0m, in \u001b[0;36mplot\u001b[0;34m(scalex, scaley, data, *args, **kwargs)\u001b[0m\n\u001b[1;32m   <a href='file:///home/adam/.local/lib/python3.8/site-packages/matplotlib/pyplot.py?line=2766'>2767</a>\u001b[0m \u001b[39m@_copy_docstring_and_deprecators\u001b[39m(Axes\u001b[39m.\u001b[39mplot)\n\u001b[1;32m   <a href='file:///home/adam/.local/lib/python3.8/site-packages/matplotlib/pyplot.py?line=2767'>2768</a>\u001b[0m \u001b[39mdef\u001b[39;00m \u001b[39mplot\u001b[39m(\u001b[39m*\u001b[39margs, scalex\u001b[39m=\u001b[39m\u001b[39mTrue\u001b[39;00m, scaley\u001b[39m=\u001b[39m\u001b[39mTrue\u001b[39;00m, data\u001b[39m=\u001b[39m\u001b[39mNone\u001b[39;00m, \u001b[39m*\u001b[39m\u001b[39m*\u001b[39mkwargs):\n\u001b[0;32m-> <a href='file:///home/adam/.local/lib/python3.8/site-packages/matplotlib/pyplot.py?line=2768'>2769</a>\u001b[0m     \u001b[39mreturn\u001b[39;00m gca()\u001b[39m.\u001b[39;49mplot(\n\u001b[1;32m   <a href='file:///home/adam/.local/lib/python3.8/site-packages/matplotlib/pyplot.py?line=2769'>2770</a>\u001b[0m         \u001b[39m*\u001b[39;49margs, scalex\u001b[39m=\u001b[39;49mscalex, scaley\u001b[39m=\u001b[39;49mscaley,\n\u001b[1;32m   <a href='file:///home/adam/.local/lib/python3.8/site-packages/matplotlib/pyplot.py?line=2770'>2771</a>\u001b[0m         \u001b[39m*\u001b[39;49m\u001b[39m*\u001b[39;49m({\u001b[39m\"\u001b[39;49m\u001b[39mdata\u001b[39;49m\u001b[39m\"\u001b[39;49m: data} \u001b[39mif\u001b[39;49;00m data \u001b[39mis\u001b[39;49;00m \u001b[39mnot\u001b[39;49;00m \u001b[39mNone\u001b[39;49;00m \u001b[39melse\u001b[39;49;00m {}), \u001b[39m*\u001b[39;49m\u001b[39m*\u001b[39;49mkwargs)\n",
      "File \u001b[0;32m~/.local/lib/python3.8/site-packages/matplotlib/axes/_axes.py:1634\u001b[0m, in \u001b[0;36mAxes.plot\u001b[0;34m(self, scalex, scaley, data, *args, **kwargs)\u001b[0m\n\u001b[1;32m   <a href='file:///home/adam/.local/lib/python3.8/site-packages/matplotlib/axes/_axes.py?line=1631'>1632</a>\u001b[0m lines \u001b[39m=\u001b[39m [\u001b[39m*\u001b[39m\u001b[39mself\u001b[39m\u001b[39m.\u001b[39m_get_lines(\u001b[39m*\u001b[39margs, data\u001b[39m=\u001b[39mdata, \u001b[39m*\u001b[39m\u001b[39m*\u001b[39mkwargs)]\n\u001b[1;32m   <a href='file:///home/adam/.local/lib/python3.8/site-packages/matplotlib/axes/_axes.py?line=1632'>1633</a>\u001b[0m \u001b[39mfor\u001b[39;00m line \u001b[39min\u001b[39;00m lines:\n\u001b[0;32m-> <a href='file:///home/adam/.local/lib/python3.8/site-packages/matplotlib/axes/_axes.py?line=1633'>1634</a>\u001b[0m     \u001b[39mself\u001b[39;49m\u001b[39m.\u001b[39;49madd_line(line)\n\u001b[1;32m   <a href='file:///home/adam/.local/lib/python3.8/site-packages/matplotlib/axes/_axes.py?line=1634'>1635</a>\u001b[0m \u001b[39mself\u001b[39m\u001b[39m.\u001b[39m_request_autoscale_view(scalex\u001b[39m=\u001b[39mscalex, scaley\u001b[39m=\u001b[39mscaley)\n\u001b[1;32m   <a href='file:///home/adam/.local/lib/python3.8/site-packages/matplotlib/axes/_axes.py?line=1635'>1636</a>\u001b[0m \u001b[39mreturn\u001b[39;00m lines\n",
      "File \u001b[0;32m~/.local/lib/python3.8/site-packages/matplotlib/axes/_base.py:2288\u001b[0m, in \u001b[0;36m_AxesBase.add_line\u001b[0;34m(self, line)\u001b[0m\n\u001b[1;32m   <a href='file:///home/adam/.local/lib/python3.8/site-packages/matplotlib/axes/_base.py?line=2284'>2285</a>\u001b[0m \u001b[39mif\u001b[39;00m line\u001b[39m.\u001b[39mget_clip_path() \u001b[39mis\u001b[39;00m \u001b[39mNone\u001b[39;00m:\n\u001b[1;32m   <a href='file:///home/adam/.local/lib/python3.8/site-packages/matplotlib/axes/_base.py?line=2285'>2286</a>\u001b[0m     line\u001b[39m.\u001b[39mset_clip_path(\u001b[39mself\u001b[39m\u001b[39m.\u001b[39mpatch)\n\u001b[0;32m-> <a href='file:///home/adam/.local/lib/python3.8/site-packages/matplotlib/axes/_base.py?line=2287'>2288</a>\u001b[0m \u001b[39mself\u001b[39;49m\u001b[39m.\u001b[39;49m_update_line_limits(line)\n\u001b[1;32m   <a href='file:///home/adam/.local/lib/python3.8/site-packages/matplotlib/axes/_base.py?line=2288'>2289</a>\u001b[0m \u001b[39mif\u001b[39;00m \u001b[39mnot\u001b[39;00m line\u001b[39m.\u001b[39mget_label():\n\u001b[1;32m   <a href='file:///home/adam/.local/lib/python3.8/site-packages/matplotlib/axes/_base.py?line=2289'>2290</a>\u001b[0m     line\u001b[39m.\u001b[39mset_label(\u001b[39mf\u001b[39m\u001b[39m'\u001b[39m\u001b[39m_child\u001b[39m\u001b[39m{\u001b[39;00m\u001b[39mlen\u001b[39m(\u001b[39mself\u001b[39m\u001b[39m.\u001b[39m_children)\u001b[39m}\u001b[39;00m\u001b[39m'\u001b[39m)\n",
      "File \u001b[0;32m~/.local/lib/python3.8/site-packages/matplotlib/axes/_base.py:2311\u001b[0m, in \u001b[0;36m_AxesBase._update_line_limits\u001b[0;34m(self, line)\u001b[0m\n\u001b[1;32m   <a href='file:///home/adam/.local/lib/python3.8/site-packages/matplotlib/axes/_base.py?line=2306'>2307</a>\u001b[0m \u001b[39mdef\u001b[39;00m \u001b[39m_update_line_limits\u001b[39m(\u001b[39mself\u001b[39m, line):\n\u001b[1;32m   <a href='file:///home/adam/.local/lib/python3.8/site-packages/matplotlib/axes/_base.py?line=2307'>2308</a>\u001b[0m     \u001b[39m\"\"\"\u001b[39;00m\n\u001b[1;32m   <a href='file:///home/adam/.local/lib/python3.8/site-packages/matplotlib/axes/_base.py?line=2308'>2309</a>\u001b[0m \u001b[39m    Figures out the data limit of the given line, updating self.dataLim.\u001b[39;00m\n\u001b[1;32m   <a href='file:///home/adam/.local/lib/python3.8/site-packages/matplotlib/axes/_base.py?line=2309'>2310</a>\u001b[0m \u001b[39m    \"\"\"\u001b[39;00m\n\u001b[0;32m-> <a href='file:///home/adam/.local/lib/python3.8/site-packages/matplotlib/axes/_base.py?line=2310'>2311</a>\u001b[0m     path \u001b[39m=\u001b[39m line\u001b[39m.\u001b[39;49mget_path()\n\u001b[1;32m   <a href='file:///home/adam/.local/lib/python3.8/site-packages/matplotlib/axes/_base.py?line=2311'>2312</a>\u001b[0m     \u001b[39mif\u001b[39;00m path\u001b[39m.\u001b[39mvertices\u001b[39m.\u001b[39msize \u001b[39m==\u001b[39m \u001b[39m0\u001b[39m:\n\u001b[1;32m   <a href='file:///home/adam/.local/lib/python3.8/site-packages/matplotlib/axes/_base.py?line=2312'>2313</a>\u001b[0m         \u001b[39mreturn\u001b[39;00m\n",
      "File \u001b[0;32m~/.local/lib/python3.8/site-packages/matplotlib/lines.py:999\u001b[0m, in \u001b[0;36mLine2D.get_path\u001b[0;34m(self)\u001b[0m\n\u001b[1;32m    <a href='file:///home/adam/.local/lib/python3.8/site-packages/matplotlib/lines.py?line=996'>997</a>\u001b[0m \u001b[39m\"\"\"Return the `~matplotlib.path.Path` associated with this line.\"\"\"\u001b[39;00m\n\u001b[1;32m    <a href='file:///home/adam/.local/lib/python3.8/site-packages/matplotlib/lines.py?line=997'>998</a>\u001b[0m \u001b[39mif\u001b[39;00m \u001b[39mself\u001b[39m\u001b[39m.\u001b[39m_invalidy \u001b[39mor\u001b[39;00m \u001b[39mself\u001b[39m\u001b[39m.\u001b[39m_invalidx:\n\u001b[0;32m--> <a href='file:///home/adam/.local/lib/python3.8/site-packages/matplotlib/lines.py?line=998'>999</a>\u001b[0m     \u001b[39mself\u001b[39;49m\u001b[39m.\u001b[39;49mrecache()\n\u001b[1;32m   <a href='file:///home/adam/.local/lib/python3.8/site-packages/matplotlib/lines.py?line=999'>1000</a>\u001b[0m \u001b[39mreturn\u001b[39;00m \u001b[39mself\u001b[39m\u001b[39m.\u001b[39m_path\n",
      "File \u001b[0;32m~/.local/lib/python3.8/site-packages/matplotlib/lines.py:657\u001b[0m, in \u001b[0;36mLine2D.recache\u001b[0;34m(self, always)\u001b[0m\n\u001b[1;32m    <a href='file:///home/adam/.local/lib/python3.8/site-packages/matplotlib/lines.py?line=654'>655</a>\u001b[0m \u001b[39mif\u001b[39;00m always \u001b[39mor\u001b[39;00m \u001b[39mself\u001b[39m\u001b[39m.\u001b[39m_invalidy:\n\u001b[1;32m    <a href='file:///home/adam/.local/lib/python3.8/site-packages/matplotlib/lines.py?line=655'>656</a>\u001b[0m     yconv \u001b[39m=\u001b[39m \u001b[39mself\u001b[39m\u001b[39m.\u001b[39mconvert_yunits(\u001b[39mself\u001b[39m\u001b[39m.\u001b[39m_yorig)\n\u001b[0;32m--> <a href='file:///home/adam/.local/lib/python3.8/site-packages/matplotlib/lines.py?line=656'>657</a>\u001b[0m     y \u001b[39m=\u001b[39m _to_unmasked_float_array(yconv)\u001b[39m.\u001b[39mravel()\n\u001b[1;32m    <a href='file:///home/adam/.local/lib/python3.8/site-packages/matplotlib/lines.py?line=657'>658</a>\u001b[0m \u001b[39melse\u001b[39;00m:\n\u001b[1;32m    <a href='file:///home/adam/.local/lib/python3.8/site-packages/matplotlib/lines.py?line=658'>659</a>\u001b[0m     y \u001b[39m=\u001b[39m \u001b[39mself\u001b[39m\u001b[39m.\u001b[39m_y\n",
      "File \u001b[0;32m~/.local/lib/python3.8/site-packages/matplotlib/cbook/__init__.py:1298\u001b[0m, in \u001b[0;36m_to_unmasked_float_array\u001b[0;34m(x)\u001b[0m\n\u001b[1;32m   <a href='file:///home/adam/.local/lib/python3.8/site-packages/matplotlib/cbook/__init__.py?line=1295'>1296</a>\u001b[0m     \u001b[39mreturn\u001b[39;00m np\u001b[39m.\u001b[39mma\u001b[39m.\u001b[39masarray(x, \u001b[39mfloat\u001b[39m)\u001b[39m.\u001b[39mfilled(np\u001b[39m.\u001b[39mnan)\n\u001b[1;32m   <a href='file:///home/adam/.local/lib/python3.8/site-packages/matplotlib/cbook/__init__.py?line=1296'>1297</a>\u001b[0m \u001b[39melse\u001b[39;00m:\n\u001b[0;32m-> <a href='file:///home/adam/.local/lib/python3.8/site-packages/matplotlib/cbook/__init__.py?line=1297'>1298</a>\u001b[0m     \u001b[39mreturn\u001b[39;00m np\u001b[39m.\u001b[39;49masarray(x, \u001b[39mfloat\u001b[39;49m)\n",
      "File \u001b[0;32m/usr/local/lib/python3.8/dist-packages/torch/_tensor.py:734\u001b[0m, in \u001b[0;36mTensor.__array__\u001b[0;34m(self, dtype)\u001b[0m\n\u001b[1;32m    <a href='file:///usr/local/lib/python3.8/dist-packages/torch/_tensor.py?line=731'>732</a>\u001b[0m     \u001b[39mreturn\u001b[39;00m \u001b[39mself\u001b[39m\u001b[39m.\u001b[39mnumpy()\n\u001b[1;32m    <a href='file:///usr/local/lib/python3.8/dist-packages/torch/_tensor.py?line=732'>733</a>\u001b[0m \u001b[39melse\u001b[39;00m:\n\u001b[0;32m--> <a href='file:///usr/local/lib/python3.8/dist-packages/torch/_tensor.py?line=733'>734</a>\u001b[0m     \u001b[39mreturn\u001b[39;00m \u001b[39mself\u001b[39;49m\u001b[39m.\u001b[39;49mnumpy()\u001b[39m.\u001b[39mastype(dtype, copy\u001b[39m=\u001b[39m\u001b[39mFalse\u001b[39;00m)\n",
      "\u001b[0;31mRuntimeError\u001b[0m: Can't call numpy() on Tensor that requires grad. Use tensor.detach().numpy() instead."
     ]
    },
    {
     "data": {
      "image/png": "[encoded data removed]",
      "text/plain": [
       "<Figure size 432x288 with 1 Axes>"
      ]
     },
     "metadata": {
      "needs_background": "light"
     },
     "output_type": "display_data"
    }
   ],
   "source": [
    "print_graph(starting_model(data_federation[0][0]).data.numpy(), x_train, y_train)\n"
   ]
  },
  {
   "cell_type": "code",
   "execution_count": 4,
   "metadata": {},
   "outputs": [
    {
     "data": {
      "image/png": "[encoded data removed]",
      "text/plain": [
       "<Figure size 432x288 with 1 Axes>"
      ]
     },
     "metadata": {
      "needs_background": "light"
     },
     "output_type": "display_data"
    }
   ],
   "source": [
    "from sail_safe_functions.machine_learning.utilities.ModelTrain import ModelTrain\n",
    "from sail_safe_functions.machine_learning.utilities.ModelUtility import ModelUtility\n",
    "\n",
    "#Train a single model on a single SCN\n",
    "trained_model= ModelTrain.run(epochs, data_federation[0], learn_rate, starting_model, criterion, optimizer)\n",
    "# trained_model= ModelUtility.set_parameters_from_tensor(LinearRegression(in_layer, out_layer), params)\n",
    "predicted = trained_model(x_train).data.numpy()\n",
    "\n",
    "print_graph(predicted, x_train, y_train)\n"
   ]
  },
  {
   "cell_type": "code",
   "execution_count": 5,
   "metadata": {},
   "outputs": [
    {
     "data": {
      "text/plain": [
       "1"
      ]
     },
     "execution_count": 5,
     "metadata": {},
     "output_type": "execute_result"
    }
   ],
   "source": [
    "trained_model.model.in_features"
   ]
  },
  {
   "cell_type": "markdown",
   "metadata": {},
   "source": [
    "#"
   ]
  },
  {
   "cell_type": "code",
   "execution_count": 6,
   "metadata": {},
   "outputs": [
    {
     "data": {
      "text/plain": [
       "LinearRegression(\n",
       "  (model): Linear(in_features=1, out_features=1, bias=False)\n",
       ")"
      ]
     },
     "execution_count": 6,
     "metadata": {},
     "output_type": "execute_result"
    }
   ],
   "source": [
    "from sail_safe_functions.machine_learning.utilities.ModelAverage import ModelAverage\n",
    "\n",
    "trained_models = []\n",
    "avg_model = trained_model\n",
    "\n",
    "# Train a model with every member of our data federation\n",
    "for j in range(len(data_federation)):\n",
    "    trained_models.append(ModelTrain.run(epochs, data_federation[j], learn_rate, avg_model, criterion, optimizer))\n",
    "avg_model = ModelAverage.run(trained_models)\n",
    "\n",
    "avg_model"
   ]
  },
  {
   "cell_type": "markdown",
   "metadata": {},
   "source": [
    "### Retrieving Model from Parameters"
   ]
  },
  {
   "cell_type": "code",
   "execution_count": 7,
   "metadata": {},
   "outputs": [
    {
     "data": {
      "text/plain": [
       "LinearRegression(\n",
       "  (model): Linear(in_features=1, out_features=1, bias=False)\n",
       ")"
      ]
     },
     "execution_count": 7,
     "metadata": {},
     "output_type": "execute_result"
    }
   ],
   "source": [
    "from sail_safe_functions.machine_learning.utilities.ModelRetrieve import ModelRetrieve\n",
    "\n",
    "#Retrieve Averaged Model\n",
    "avg_model = ModelRetrieve.run(avg_model)\n",
    "\n",
    "avg_model"
   ]
  },
  {
   "cell_type": "code",
   "execution_count": 8,
   "metadata": {},
   "outputs": [
    {
     "data": {
      "image/png": "[encoded data removed]",
      "text/plain": [
       "<Figure size 432x288 with 1 Axes>"
      ]
     },
     "metadata": {
      "needs_background": "light"
     },
     "output_type": "display_data"
    }
   ],
   "source": [
    "predictions = avg_model(x_train).data.numpy()\n",
    "print_graph(predicted, x_train, y_train)"
   ]
  }
 ],
 "metadata": {
  "interpreter": {
   "hash": "916dbcbb3f70747c44a77c7bcd40155683ae19c65e1c03b4aa3499c5328201f1"
  },
  "kernelspec": {
   "display_name": "Python 3.8.10 64-bit",
   "language": "python",
   "name": "python3"
  },
  "language_info": {
   "codemirror_mode": {
    "name": "ipython",
    "version": 3
   },
   "file_extension": ".py",
   "mimetype": "text/x-python",
   "name": "python",
   "nbconvert_exporter": "python",
   "pygments_lexer": "ipython3",
   "version": "3.8.10"
  },
  "orig_nbformat": 4
 },
 "nbformat": 4,
 "nbformat_minor": 2
}
