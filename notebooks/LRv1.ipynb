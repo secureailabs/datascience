{
 "cells": [
  {
   "cell_type": "code",
   "execution_count": 81,
   "metadata": {},
   "outputs": [],
   "source": [
    "import torch\n",
    "from torch.nn import functional as F\n",
    "\n",
    "\n",
    "class LinearRegressionTrain:\n",
    "    # def _init_(self):\n",
    "    #     print(\"Done\")\n",
    "    def run(\n",
    "        in_layer,\n",
    "        out_layer,\n",
    "        epochs,\n",
    "        data,\n",
    "        learn_rate,\n",
    "        starting_model,\n",
    "        # criterion=None,\n",
    "        # optimizer=None\n",
    "    ):\n",
    "        model = LinearRegressionTrain.LinearRegression(in_layer, out_layer, criterion, learn_rate)\n",
    "        model.set_parameters_from_tensor(starting_model)\n",
    "        model.train_model(epochs, data[0], data[1])\n",
    "\n",
    "        # Which do we want to go for?\n",
    "        # return model.get_parameters_as_tensor()\n",
    "        return model\n",
    "\n",
    "    class LinearRegression(torch.nn.Module):\n",
    "        def __init__(self, in_layer, out_layer, criterion, learn_rate):\n",
    "            super(LinearRegressionTrain.LinearRegression, self).__init__()\n",
    "            self.Linear = torch.nn.Linear(in_layer, out_layer, bias=False)\n",
    "\n",
    "            # TODO: Input validation for standard types\n",
    "            self.criterion = torch.nn.MSELoss(size_average=False)\n",
    "            self.optimizer = torch.optim.SGD(self.Linear.parameters(), lr=learn_rate)\n",
    "            # TODO: Input (end) validation for standard types\n",
    "\n",
    "\n",
    "            self.learn_rate = learn_rate\n",
    "\n",
    "        def forward(self, x):\n",
    "            y_pred = self.Linear(x)\n",
    "            return y_pred\n",
    "\n",
    "        def train_model(self, epochs, x_data, y_data):\n",
    "            for epoch in range(epochs):\n",
    "                # Set model ready to train\n",
    "                self.Linear.train()\n",
    "                self.optimizer.zero_grad()\n",
    "                # Forward pass\n",
    "                y_pred = self.Linear(x_data)\n",
    "                # Compute Loss\n",
    "                loss = self.criterion(y_pred, y_data)\n",
    "                # Backward pass\n",
    "                loss.backward()\n",
    "                self.optimizer.step()\n",
    "                print(\"Loss: \" + str(loss.data.view(-1)))\n",
    "\n",
    "        def set_parameters_from_tensor(self, weights: torch.Tensor):\n",
    "            if not isinstance(weights, torch.Tensor):\n",
    "                print(\"Converting weights to tensor type\")\n",
    "                weights = torch.tensor(weights)\n",
    "            current_index = 0\n",
    "            for parameter in self.parameters():\n",
    "                numel = parameter.data.numel()\n",
    "                size = parameter.data.size()\n",
    "                parameter.data.copy_(\n",
    "                    weights[current_index : current_index + numel].view(size)\n",
    "                )\n",
    "                current_index += 1\n",
    "\n",
    "        def get_parameters_as_tensor(self):\n",
    "            params = [param.data.view(-1) for param in self.parameters()]\n",
    "            params = torch.cat(params)\n",
    "            params = params.cpu()\n",
    "            return params"
   ]
  },
  {
   "cell_type": "code",
   "execution_count": 82,
   "metadata": {},
   "outputs": [],
   "source": [
    "import torch\n",
    "\n",
    "\n",
    "#TODO: Write initialisation version of this\n",
    "#Data Starts with respective owners A and B\n",
    "x_dataA = torch.Tensor([[10.0], [9.0], [3.0], [2.0]])\n",
    "y_dataA = torch.Tensor([[90.0], [80.0], [50.0], [30.0]])\n",
    "\n",
    "x_dataB = torch.Tensor([[7.0], [8.0], [3.0], [1.0]])\n",
    "y_dataB = torch.Tensor([[60.0], [70.0], [40.0], [20.0]])\n",
    "\n",
    "data_federation = [[x_dataA, y_dataA], [x_dataB, y_dataB]]\n",
    "\n",
    "in_layer = 1\n",
    "out_layer = 1\n",
    "\n",
    "optimiser = \"SGD\"\n",
    "criterion = \"MSELoss\"\n",
    "\n",
    "starting_model = torch.rand(in_layer, out_layer)\n",
    "\n",
    "epochs = 10\n",
    "learn_rate = 0.1"
   ]
  },
  {
   "cell_type": "code",
   "execution_count": 89,
   "metadata": {},
   "outputs": [
    {
     "data": {
      "text/plain": [
       "tensor([[0.3868]])"
      ]
     },
     "execution_count": 89,
     "metadata": {},
     "output_type": "execute_result"
    }
   ],
   "source": [
    "starting_model"
   ]
  },
  {
   "cell_type": "code",
   "execution_count": 90,
   "metadata": {},
   "outputs": [
    {
     "name": "stdout",
     "output_type": "stream",
     "text": [
      "Loss: tensor([16513.4453])\n",
      "Loss: tensor([22684636.])\n",
      "Loss: tensor([3.2412e+10])\n",
      "Loss: tensor([4.6311e+13])\n",
      "Loss: tensor([6.6171e+16])\n",
      "Loss: tensor([9.4548e+19])\n",
      "Loss: tensor([1.3509e+23])\n",
      "Loss: tensor([1.9303e+26])\n",
      "Loss: tensor([2.7581e+29])\n",
      "Loss: tensor([3.9408e+32])\n"
     ]
    }
   ],
   "source": [
    "trained_model = LinearRegressionTrain.run(in_layer, out_layer, epochs, data_federation[0], learn_rate, starting_model)"
   ]
  },
  {
   "cell_type": "code",
   "execution_count": 91,
   "metadata": {},
   "outputs": [
    {
     "data": {
      "text/plain": [
       "LinearRegression(\n",
       "  (Linear): Linear(in_features=1, out_features=1, bias=False)\n",
       "  (criterion): MSELoss()\n",
       ")"
      ]
     },
     "execution_count": 91,
     "metadata": {},
     "output_type": "execute_result"
    }
   ],
   "source": [
    "trained_model"
   ]
  },
  {
   "cell_type": "code",
   "execution_count": null,
   "metadata": {},
   "outputs": [],
   "source": []
  }
 ],
 "metadata": {
  "interpreter": {
   "hash": "916dbcbb3f70747c44a77c7bcd40155683ae19c65e1c03b4aa3499c5328201f1"
  },
  "kernelspec": {
   "display_name": "Python 3.8.10 64-bit",
   "language": "python",
   "name": "python3"
  },
  "language_info": {
   "codemirror_mode": {
    "name": "ipython",
    "version": 3
   },
   "file_extension": ".py",
   "mimetype": "text/x-python",
   "name": "python",
   "nbconvert_exporter": "python",
   "pygments_lexer": "ipython3",
   "version": "3.8.10"
  },
  "orig_nbformat": 4
 },
 "nbformat": 4,
 "nbformat_minor": 2
}
