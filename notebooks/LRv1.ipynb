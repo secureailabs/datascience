{
 "cells": [
  {
   "cell_type": "markdown",
   "metadata": {},
   "source": [
    "### Set up Environment"
   ]
  },
  {
   "cell_type": "code",
   "execution_count": 1,
   "metadata": {},
   "outputs": [],
   "source": [
    "import torch\n",
    "\n",
    "#TODO: Write initialisation version of this\n",
    "#Data Starts with respective owners A and B\n",
    "x_dataA = torch.Tensor([[10.0], [9.0], [3.0], [2.0]])\n",
    "y_dataA = torch.Tensor([[90.0], [80.0], [50.0], [30.0]])\n",
    "\n",
    "x_dataB = torch.Tensor([[7.0], [8.0], [3.0], [1.0]])\n",
    "y_dataB = torch.Tensor([[60.0], [70.0], [40.0], [20.0]])\n",
    "\n",
    "data_federation = [[x_dataA, y_dataA], [x_dataB, y_dataB]]\n",
    "\n",
    "in_layer = 1\n",
    "out_layer = 1\n",
    "\n",
    "optimizer = \"SGD\"\n",
    "criterion = \"MSELoss\"\n",
    "\n",
    "starting_model = torch.rand(in_layer, out_layer)\n",
    "\n",
    "epochs = 5\n",
    "learn_rate = 0.1"
   ]
  },
  {
   "cell_type": "markdown",
   "metadata": {},
   "source": [
    "### Linear Regression training from parameters"
   ]
  },
  {
   "cell_type": "code",
   "execution_count": 2,
   "metadata": {},
   "outputs": [
    {
     "name": "stderr",
     "output_type": "stream",
     "text": [
      "/usr/local/lib/python3.8/dist-packages/torch/nn/_reduction.py:42: UserWarning: size_average and reduce args will be deprecated, please use reduction='sum' instead.\n",
      "  warnings.warn(warning.format(ret))\n"
     ]
    },
    {
     "ename": "AttributeError",
     "evalue": "'LinearRegression' object has no attribute 'get_parameters_as_tensor'",
     "output_type": "error",
     "traceback": [
      "\u001b[0;31m---------------------------------------------------------------------------\u001b[0m",
      "\u001b[0;31mAttributeError\u001b[0m                            Traceback (most recent call last)",
      "\u001b[1;32m/mnt/c/Users/AdamHall/Documents/GitHub/datascience/notebooks/LRv1.ipynb Cell 4'\u001b[0m in \u001b[0;36m<cell line: 3>\u001b[0;34m()\u001b[0m\n\u001b[1;32m      <a href='vscode-notebook-cell://wsl%2Bubuntu20.04lts/mnt/c/Users/AdamHall/Documents/GitHub/datascience/notebooks/LRv1.ipynb#ch0000001vscode-remote?line=0'>1</a>\u001b[0m \u001b[39mfrom\u001b[39;00m \u001b[39msail_safe_functions\u001b[39;00m\u001b[39m.\u001b[39;00m\u001b[39mmachine_learning\u001b[39;00m\u001b[39m.\u001b[39;00m\u001b[39mLinearRegressionTrain\u001b[39;00m \u001b[39mimport\u001b[39;00m LinearRegressionTrain\n\u001b[0;32m----> <a href='vscode-notebook-cell://wsl%2Bubuntu20.04lts/mnt/c/Users/AdamHall/Documents/GitHub/datascience/notebooks/LRv1.ipynb#ch0000001vscode-remote?line=2'>3</a>\u001b[0m trained_model \u001b[39m=\u001b[39m LinearRegressionTrain\u001b[39m.\u001b[39;49mrun(in_layer, out_layer, epochs, data_federation[\u001b[39m0\u001b[39;49m], learn_rate, starting_model, criterion, optimizer)\n\u001b[1;32m      <a href='vscode-notebook-cell://wsl%2Bubuntu20.04lts/mnt/c/Users/AdamHall/Documents/GitHub/datascience/notebooks/LRv1.ipynb#ch0000001vscode-remote?line=4'>5</a>\u001b[0m trained_model\n",
      "File \u001b[0;32m/mnt/c/Users/AdamHall/Documents/GitHub/datascience/sail-safe-functions/sail_safe_functions/machine_learning/LinearRegressionTrain.py:35\u001b[0m, in \u001b[0;36mLinearRegressionTrain.run\u001b[0;34m(in_layer, out_layer, epochs, data, learn_rate, starting_model, criterion, optimizer)\u001b[0m\n\u001b[1;32m     <a href='file:///mnt/c/Users/AdamHall/Documents/GitHub/datascience/sail-safe-functions/sail_safe_functions/machine_learning/LinearRegressionTrain.py?line=26'>27</a>\u001b[0m model \u001b[39m=\u001b[39m LinearRegressionTrain\u001b[39m.\u001b[39mLinearRegression(\n\u001b[1;32m     <a href='file:///mnt/c/Users/AdamHall/Documents/GitHub/datascience/sail-safe-functions/sail_safe_functions/machine_learning/LinearRegressionTrain.py?line=27'>28</a>\u001b[0m     in_layer,\n\u001b[1;32m     <a href='file:///mnt/c/Users/AdamHall/Documents/GitHub/datascience/sail-safe-functions/sail_safe_functions/machine_learning/LinearRegressionTrain.py?line=28'>29</a>\u001b[0m     out_layer,\n\u001b[0;32m   (...)\u001b[0m\n\u001b[1;32m     <a href='file:///mnt/c/Users/AdamHall/Documents/GitHub/datascience/sail-safe-functions/sail_safe_functions/machine_learning/LinearRegressionTrain.py?line=31'>32</a>\u001b[0m     learn_rate,\n\u001b[1;32m     <a href='file:///mnt/c/Users/AdamHall/Documents/GitHub/datascience/sail-safe-functions/sail_safe_functions/machine_learning/LinearRegressionTrain.py?line=32'>33</a>\u001b[0m )\n\u001b[1;32m     <a href='file:///mnt/c/Users/AdamHall/Documents/GitHub/datascience/sail-safe-functions/sail_safe_functions/machine_learning/LinearRegressionTrain.py?line=33'>34</a>\u001b[0m model \u001b[39m=\u001b[39m LinearRegressionTrain\u001b[39m.\u001b[39mset_parameters_from_tensor(model, starting_model)\n\u001b[0;32m---> <a href='file:///mnt/c/Users/AdamHall/Documents/GitHub/datascience/sail-safe-functions/sail_safe_functions/machine_learning/LinearRegressionTrain.py?line=34'>35</a>\u001b[0m LinearRegressionTrain\u001b[39m.\u001b[39;49mtrain_model(model, epochs, data[\u001b[39m0\u001b[39;49m], data[\u001b[39m1\u001b[39;49m])\n\u001b[1;32m     <a href='file:///mnt/c/Users/AdamHall/Documents/GitHub/datascience/sail-safe-functions/sail_safe_functions/machine_learning/LinearRegressionTrain.py?line=36'>37</a>\u001b[0m \u001b[39mreturn\u001b[39;00m LinearRegressionTrain\u001b[39m.\u001b[39mget_parameters_as_tensor(model)\n",
      "File \u001b[0;32m/mnt/c/Users/AdamHall/Documents/GitHub/datascience/sail-safe-functions/sail_safe_functions/machine_learning/LinearRegressionTrain.py:69\u001b[0m, in \u001b[0;36mLinearRegressionTrain.train_model\u001b[0;34m(model, epochs, x_data, y_data)\u001b[0m\n\u001b[1;32m     <a href='file:///mnt/c/Users/AdamHall/Documents/GitHub/datascience/sail-safe-functions/sail_safe_functions/machine_learning/LinearRegressionTrain.py?line=66'>67</a>\u001b[0m     loss\u001b[39m.\u001b[39mbackward()\n\u001b[1;32m     <a href='file:///mnt/c/Users/AdamHall/Documents/GitHub/datascience/sail-safe-functions/sail_safe_functions/machine_learning/LinearRegressionTrain.py?line=67'>68</a>\u001b[0m     model\u001b[39m.\u001b[39moptimizer\u001b[39m.\u001b[39mstep()\n\u001b[0;32m---> <a href='file:///mnt/c/Users/AdamHall/Documents/GitHub/datascience/sail-safe-functions/sail_safe_functions/machine_learning/LinearRegressionTrain.py?line=68'>69</a>\u001b[0m \u001b[39mprint\u001b[39m(\u001b[39m\"\u001b[39m\u001b[39mModel Parameters: \u001b[39m\u001b[39m\"\u001b[39m \u001b[39m+\u001b[39m \u001b[39mstr\u001b[39m(model\u001b[39m.\u001b[39;49mget_parameters_as_tensor()))\n\u001b[1;32m     <a href='file:///mnt/c/Users/AdamHall/Documents/GitHub/datascience/sail-safe-functions/sail_safe_functions/machine_learning/LinearRegressionTrain.py?line=69'>70</a>\u001b[0m \u001b[39mprint\u001b[39m(\u001b[39m\"\u001b[39m\u001b[39mLoss: \u001b[39m\u001b[39m\"\u001b[39m \u001b[39m+\u001b[39m \u001b[39mstr\u001b[39m(loss\u001b[39m.\u001b[39mdata\u001b[39m.\u001b[39mview(\u001b[39m-\u001b[39m\u001b[39m1\u001b[39m)))\n",
      "File \u001b[0;32m/usr/local/lib/python3.8/dist-packages/torch/nn/modules/module.py:1185\u001b[0m, in \u001b[0;36mModule.__getattr__\u001b[0;34m(self, name)\u001b[0m\n\u001b[1;32m   <a href='file:///usr/local/lib/python3.8/dist-packages/torch/nn/modules/module.py?line=1182'>1183</a>\u001b[0m     \u001b[39mif\u001b[39;00m name \u001b[39min\u001b[39;00m modules:\n\u001b[1;32m   <a href='file:///usr/local/lib/python3.8/dist-packages/torch/nn/modules/module.py?line=1183'>1184</a>\u001b[0m         \u001b[39mreturn\u001b[39;00m modules[name]\n\u001b[0;32m-> <a href='file:///usr/local/lib/python3.8/dist-packages/torch/nn/modules/module.py?line=1184'>1185</a>\u001b[0m \u001b[39mraise\u001b[39;00m \u001b[39mAttributeError\u001b[39;00m(\u001b[39m\"\u001b[39m\u001b[39m'\u001b[39m\u001b[39m{}\u001b[39;00m\u001b[39m'\u001b[39m\u001b[39m object has no attribute \u001b[39m\u001b[39m'\u001b[39m\u001b[39m{}\u001b[39;00m\u001b[39m'\u001b[39m\u001b[39m\"\u001b[39m\u001b[39m.\u001b[39mformat(\n\u001b[1;32m   <a href='file:///usr/local/lib/python3.8/dist-packages/torch/nn/modules/module.py?line=1185'>1186</a>\u001b[0m     \u001b[39mtype\u001b[39m(\u001b[39mself\u001b[39m)\u001b[39m.\u001b[39m\u001b[39m__name__\u001b[39m, name))\n",
      "\u001b[0;31mAttributeError\u001b[0m: 'LinearRegression' object has no attribute 'get_parameters_as_tensor'"
     ]
    }
   ],
   "source": [
    "from sail_safe_functions.machine_learning.LinearRegressionTrain import LinearRegressionTrain\n",
    "\n",
    "trained_model = LinearRegressionTrain.run(in_layer, out_layer, epochs, data_federation[0], learn_rate, starting_model, criterion, optimizer)\n",
    "\n",
    "trained_model"
   ]
  },
  {
   "cell_type": "markdown",
   "metadata": {},
   "source": [
    "### Averaging Model Parameters"
   ]
  },
  {
   "cell_type": "code",
   "execution_count": null,
   "metadata": {},
   "outputs": [
    {
     "data": {
      "text/plain": [
       "tensor([-3.0031e+16])"
      ]
     },
     "execution_count": 26,
     "metadata": {},
     "output_type": "execute_result"
    }
   ],
   "source": [
    "from sail_safe_functions.machine_learning.ModelAverage import ModelAverage\n",
    "\n",
    "trained_models = []\n",
    "avg_model = trained_model\n",
    "\n",
    "for j in range(len(data_federation)):\n",
    "    trained_models.append(LinearRegressionTrain.run(in_layer, out_layer, epochs, data_federation[j], learn_rate, avg_model, criterion, optimizer))\n",
    "avg_model = ModelAverage.run(trained_models)\n",
    "\n",
    "avg_model"
   ]
  },
  {
   "cell_type": "markdown",
   "metadata": {},
   "source": [
    "### Retrieving Model from Parameters"
   ]
  },
  {
   "cell_type": "code",
   "execution_count": null,
   "metadata": {},
   "outputs": [
    {
     "data": {
      "text/plain": [
       "LinearRegression(\n",
       "  (Linear): Linear(in_features=1, out_features=1, bias=False)\n",
       "  (criterion): MSELoss()\n",
       ")"
      ]
     },
     "execution_count": 27,
     "metadata": {},
     "output_type": "execute_result"
    }
   ],
   "source": [
    "from sail_safe_functions.machine_learning.LinearRegressionRetrieve import LinearRegressionRetrieve\n",
    "\n",
    "trained_model = LinearRegressionRetrieve.run(in_layer, out_layer, learn_rate, criterion, optimizer, trained_model)\n",
    "\n",
    "trained_model"
   ]
  },
  {
   "cell_type": "markdown",
   "metadata": {},
   "source": [
    "### Linear Regression training from full model"
   ]
  },
  {
   "cell_type": "code",
   "execution_count": null,
   "metadata": {},
   "outputs": [
    {
     "name": "stdout",
     "output_type": "stream",
     "text": [
      "Converting weights to tensor type\n"
     ]
    },
    {
     "data": {
      "text/plain": [
       "tensor([-5.4858e+16])"
      ]
     },
     "execution_count": 28,
     "metadata": {},
     "output_type": "execute_result"
    }
   ],
   "source": [
    "trained_model = LinearRegressionTrain.run(in_layer, out_layer, epochs, data_federation[0], learn_rate, trained_model, criterion, optimizer)\n",
    "trained_model"
   ]
  },
  {
   "cell_type": "code",
   "execution_count": null,
   "metadata": {},
   "outputs": [],
   "source": []
  }
 ],
 "metadata": {
  "interpreter": {
   "hash": "916dbcbb3f70747c44a77c7bcd40155683ae19c65e1c03b4aa3499c5328201f1"
  },
  "kernelspec": {
   "display_name": "Python 3.8.10 64-bit",
   "language": "python",
   "name": "python3"
  },
  "language_info": {
   "codemirror_mode": {
    "name": "ipython",
    "version": 3
   },
   "file_extension": ".py",
   "mimetype": "text/x-python",
   "name": "python",
   "nbconvert_exporter": "python",
   "pygments_lexer": "ipython3",
   "version": "3.8.10"
  },
  "orig_nbformat": 4
 },
 "nbformat": 4,
 "nbformat_minor": 2
}
