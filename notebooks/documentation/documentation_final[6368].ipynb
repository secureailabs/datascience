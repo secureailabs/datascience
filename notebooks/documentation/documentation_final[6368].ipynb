{
  "cells": [
    {
      "cell_type": "code",
      "execution_count": null,
      "metadata": {
        "id": "LqErEsQdqkpi"
      },
      "outputs": [],
      "source": [
        "# TEMPORARY CODE\n",
        "\n",
        "# Until smart broker is installable\n",
        "import sys\n",
        "sys.path.append(\"../../fastapi\")\n",
        "\n",
        "# Until we start using sessions properly\n",
        "class Session():\n",
        "    def __init__(self, ip, port):\n",
        "        self.ip = ip\n",
        "        self.port = port\n",
        "\n",
        "session = Session(\"127.0.0.1\", \"8000\")"
      ]
    },
    {
      "cell_type": "markdown",
      "metadata": {
        "id": "0dmg1in3qkpq"
      },
      "source": [
        "# SAIL Researcher User Documentation\n",
        "\n",
        "**Aim:** This notebook section acts as a primer for new researchers on the SAIL platform.  This contains all necessary background information for working with SAIL data federations.\n"
      ]
    },
    {
      "cell_type": "markdown",
      "metadata": {
        "id": "_oQ4KWUjqkpu"
      },
      "source": [
        "## 1. Introduction to Dataset Types in the SAIL Ecosystem\n",
        "\n",
        "There are four main dataset types which SAIL allows computation of:\n",
        "\n",
        "- Longitudinal Dataasets\n",
        "    - Longitudinal-time-Series\n",
        "    - Longitudinal-Repeated-Measurement\n",
        "    - Longitudinal-Events\n",
        "- Survey/ Cross Sectional Datasets"
      ]
    },
    {
      "cell_type": "markdown",
      "metadata": {
        "id": "AZZCDLi9qkpw"
      },
      "source": [
        "### 1.1 Longitudinal Datasets\n",
        "\n",
        "Longitudinal datasets represent the raw data format which is ingested into the sail platform. Longitudinal Data are not queryable in their raw form and need to first be flattened into conventional tabular data in order to be analysed. For our purposes, Longitudinal Datasets have three types."
      ]
    },
    {
      "cell_type": "markdown",
      "metadata": {
        "id": "TsjNKlc9qkpx"
      },
      "source": [
        "#### 1.1.1 Longitudinal-repeated-measurement\n",
        "\n",
        "This type of dataset contains the same set of measurements for different instances or subjects at different points in time. Although different amounts of measurements can be taken per subject, the set of measurements is always the same.\n",
        "\n",
        "| Instance      | Blood Pressure | Heartbeat     |\n",
        "| :---        |    :----:   |          :---: |\n",
        "| Adam Monday      | 120       | 70   |\n",
        "| Adam Tuesday   | 90        | 40      |\n",
        "| Adam Wednesday      | 80       | 60   |\n",
        "| Adam Thursday   | 72        | 42      |"
      ]
    },
    {
      "cell_type": "markdown",
      "metadata": {
        "id": "Tc1jDczlqkpy"
      },
      "source": [
        "#### 1.1.2 Longitudinal Time Series\n",
        "\n",
        "Time series data has a single repeated measurement over time in a series. Series' are specific to a subject and a type of measurement. Not all series need to be of the same length and not all data needs to follow the same timestamps.\n",
        "\n",
        "| Instance      | Monday | Tuesday     |\n",
        "| :---        |    :----:   |          :---: |\n",
        "| Anne Heartbeat  | 60       | 70   |\n",
        "\n",
        "<br>\n",
        "\n",
        "\n",
        "| Instance      | Monday | Tuesday     |\n",
        "| :---        |    :----:   |          :---: |\n",
        "| Anne blood pressure  | 90       | 80   |\n"
      ]
    },
    {
      "cell_type": "markdown",
      "metadata": {
        "id": "gupiRKa6qkp0"
      },
      "source": [
        "#### 1.1.3 Longitudinal Events\n",
        "\n",
        "Longitudinal event based datasets contain combinations of times, values and types of test. The type of the value field may vary. Outside of the SAIL ecosystem this type of data is also referred to as journal data. Since missing events are simply omitted, this type of data normally does not contain missing fields.\n",
        "\n",
        "| Patient       | Value     | Test                 |   Day       |\n",
        "| :---          |    :----: |  :---:               |        :---: |\n",
        "| Adam          | 120       | Blood Pressure       | Monday      |\n",
        "| Adam          | 90        | Heartbeat            | Tuesday     |\n",
        "| Saurabh       | 80        | Blood Pressure       | Monday      |\n",
        "| Saurabh       | 85        | Fasting Blood Glucose| Wednesday   |\n",
        "| Stanley       | 72        | Blood Pressure       | Friday      |"
      ]
    },
    {
      "cell_type": "markdown",
      "metadata": {
        "id": "rqud-2Suqkp2"
      },
      "source": [
        "#### 1.2 Survey/ Cross Sectional Datasets\n",
        "\n",
        "Survey/ cross Ssectional datasets are the most common type of data where there's a list of instances and a list of measurements. Each measurement appears at most once for every instance. In conventional machine learning and data analytics, this is the correct format. All longitudinal data must first be processed into this format before it can be analysed by SAIL SAFE functions.\n",
        "\n",
        "\n",
        "| Instance      | Blood Pressure  | Heartbeat            |   Fasting Blood Glucose       |\n",
        "| :---          |    :----:       |  :---:               |        :---:                  |\n",
        "| Adam          | 120             | 90                   | 101                           |\n",
        "| Anne          | 90              | 50                   | 120                           |\n",
        "| Jaap          | 80              | 70                   | 115                           |\n",
        "| Saurabh       | 85              | 80                   | 118                           |\n",
        "| Stanley       | 72              | 65                   | 110                           |\n"
      ]
    },
    {
      "cell_type": "markdown",
      "metadata": {
        "id": "o9G1jlEKqkp4"
      },
      "source": [
        "## 3 SAIL Data Structures\n",
        "\n",
        "**Aim:** This section provides information on how the different datastructures described above are organised in the SAIL platform."
      ]
    },
    {
      "cell_type": "markdown",
      "metadata": {
        "id": "N-Y-acOsqkp6"
      },
      "source": [
        "### 3.1 SAIL Data Federation Structure\n",
        "\n",
        "Federal Data relies on two main architectural components; a **dataset** and a corresponding **data model**.\n",
        "\n",
        "- Datasets contain the raw data which Researchers work with\n",
        "- Data models contain meta-information relating to the structure of Datasets\n",
        "\n",
        "###### TODO: INSERT NICE INFOGRAPHIC\n",
        "###### TODO: THIS SHOULD BE ENRICHED WITH MORE DETAIL"
      ]
    },
    {
      "cell_type": "markdown",
      "metadata": {
        "id": "eArZFf2yqkp7"
      },
      "source": [
        "### 3.2 SAIL Data Federation Hierarchy\n",
        "\n",
        "Federated Data adheres to the following Object types:\n",
        "\n",
        "- Longitudinal Dataset\n",
        "- Tabular Dataset\n",
        "- Dataframe\n",
        "- Series\n",
        "\n",
        "<img src=\"images/dataset-lifecycle.png\" alt=\"Data Federation Hierarchy\" width=\"800\"/>\n",
        "\n",
        "In the sections below, each data type will be discussed.\n",
        "\n",
        "###### TODO: INSERT NICER INFOGRAPHIC"
      ]
    },
    {
      "cell_type": "markdown",
      "metadata": {
        "id": "BjhsOanqqkp9"
      },
      "source": [
        "#### 3.2.1 Longitudinal Dataset Structure\n",
        "\n",
        "A *Longitudinal Dataset* is a collection of *Patients* and a *Longitudinal Data Model*.\n",
        "- A Longitudinal Data Model is the FHIR profile which defines how the longitudinal dataset is structured\n",
        "- A Patient owns a list of *Measurements* and some basic information concerning the data subject. \n",
        "- A Measurement is a timepoint in patient history where a single data point was measured or a single fact was established.\n",
        "\n",
        "###### **TODO: INSERT NICE INFOGRAPHIC**\n",
        "###### **TODO: THIS DESCRIPTION NEEDS MORE. DETAIL IS NOT PRESENT IN INTERNAL DOCUMENTATION**"
      ]
    },
    {
      "cell_type": "markdown",
      "metadata": {
        "id": "iwK4RBP3qkp-"
      },
      "source": [
        "#### 3.2.2 Tabular Dataset Structure\n",
        "\n",
        "A *Tabular Dataset* is a composition of *Data Frames* and a *Tabular Data Model*. A Tabular Dataset has its own id that is unique within the platform. Tabular Datasets can also be saved to disk to establish a breakpoint. A Tabular Data Model Contains a composition of Datframe Data Models.\n",
        "\n",
        "###### **TODO: INSERT NICE INFOGRAPHIC**\n",
        "###### **TODO: THIS DESCRIPTION NEEDS MORE. DETAIL IS NOT PRESENT IN INTERNAL DOCUMENTATION**\n"
      ]
    },
    {
      "cell_type": "markdown",
      "metadata": {
        "id": "RXiYjKC3qkp-"
      },
      "source": [
        "#### 3.2.3 Dataframe Structure\n",
        "\n",
        "A *Data Frame* is a composition of *Series* and a *Data Frame Model*. A Data Frame Model is a composition of Series Models. Most machine learning operations are performed at the Data Frame level. This is the data type referred to in Section 1.2.\n",
        "\n",
        "###### **TODO: INSERT NICE INFOGRAPHIC**\n",
        "###### **TODO: THIS DESCRIPTION NEEDS MORE. DETAIL IS NOT PRESENT IN INTERNAL DOCUMENTATION**\n"
      ]
    },
    {
      "cell_type": "markdown",
      "metadata": {
        "id": "pOKYdVizqkp_"
      },
      "source": [
        "#### 3.2.4 Series Structure\n",
        "\n",
        "A *Series* is a composition of *Values* and a *Series Model*. A Data Frame model is a composition of Series Models. Most statistical operations use Series as input for their processing. There are two types of Series with two types of Series Model:\n",
        "\n",
        "An Interval Series Model defines:\n",
        "\n",
        "- value resolution\n",
        "- min values\n",
        "- max value\n",
        "\n",
        "A Categorical Series Model defines:\n",
        "\n",
        "- A list of categories that can be present in the series\n",
        "\n",
        "###### **TODO: INSERT NICE INFOGRAPHIC**\n",
        "###### **TODO: THIS DESCRIPTION NEEDS MORE. DETAIL IS NOT PRESENT IN INTERNAL DOCUMENTATION**\n"
      ]
    },
    {
      "cell_type": "markdown",
      "metadata": {
        "id": "34SZZTqhqkp_"
      },
      "source": [
        "### 3.3 Converting a Longitudinal dataset to a Tabular Dataset\n",
        "\n",
        "A *Longitudinal Dataset* may be converted to a *Tabular Dataset* using *Anchors* and *Aggregators*.\n",
        "\n",
        "#### 3.3.1 Anchors\n",
        "\n",
        "An *Anchor* is a function that establishes a time point in a patients history. Some simple default anchors would be date of birth or death. Some more complicated once could be time of initial diagnoses or the start of the 3rd round of treatment.\n",
        "\n",
        "###### TODO: NEEDS MORE. POINT, EXPLAIN, EXAMPLE.\n",
        "\n",
        "#### 3.3.2 Aggregator\n",
        "\n",
        "An Aggregator is a function (or Visitor pattern) that can be inserted into a Longitudinal Dataset to produce a Series with one entry for each patient visited. An Aggregator is date-time agnostic but not sequence agnostic. It can select the first measurement but not the first after, for example, January 21st 2022. Aggregators cannot refer to each other but they can refer to Anchors. For example, an Aggregator could collect the mean of the systolic blood pressure (measurement) between the end of the second round of chemo treatment (anchor) and the death of the patient (anchor)."
      ]
    },
    {
      "cell_type": "markdown",
      "metadata": {
        "id": "VGCXllz2qkqA"
      },
      "source": [
        "## 3. Working with SAIL Data\n",
        "\n",
        "**Aim:** Previously we looked at the conceptual framework for working with data in the SAIL ecosystem. In the following sections, we'll look at how that conceptual framework is applied in system architecture. We will work through the full Researcher lifecycle with examples in code.\n"
      ]
    },
    {
      "cell_type": "markdown",
      "metadata": {
        "id": "_w_RM2jeqkqB"
      },
      "source": [
        "### 3.1 Making Data Available\n",
        "\n",
        "This section will detail how to search for available data federations and provision Secure Computation Nodes (SCNs) to hold each dataset in the federation.\n",
        "\n",
        "#### 3.1.1 Finding a Data Federation\n",
        "\n",
        "##### TODO\n",
        "\n",
        "#### 3.1.2 Provisoning a Data Federation\n",
        "\n",
        "##### TODO"
      ]
    },
    {
      "cell_type": "markdown",
      "metadata": {
        "id": "g_EgAyNzqkqB"
      },
      "source": [
        "### 3.2 Longitudinal Dataset Operations\n",
        "\n",
        "Here, we'll look at the operations which canbe performed on longitudinal data. Currently this is restricted to reading in longitudinal data and transforming said data into a tabular structure.\n",
        "\n",
        "#### 3.2.1 Reading a Longitudinal Dataset\n",
        "\n",
        "In the previous sections we found the data we were looking for and provisioned SCNs holding that data. Now we'd like to gain a reference which we can use to refer to the federated longitudinal dataset held remotely. The functionality we require in the first step is contained in the <code>data_api</code> component of our orchestrator client.\n",
        "\n",
        "We run the <code>read_longitudinal_fhirv1</code> function to gain a reference to that federated longitudinal dataset.\n"
      ]
    },
    {
      "cell_type": "code",
      "execution_count": null,
      "metadata": {
        "id": "pSGByecNqkqB"
      },
      "outputs": [],
      "source": [
        "from smart_broker_api import data_api\n",
        "\n",
        "longitudinal_dataset_id = data_api.read_longitudinal_fhirv1(session)"
      ]
    },
    {
      "cell_type": "markdown",
      "metadata": {
        "id": "pFXmtq72qkqC"
      },
      "source": [
        "We now have a federated longitudinal dataset which we can refer to with the <code>id</code> returned by the <code>read_longitudinal_fhirv1</code> function. However, longitudinal datasets as outlined above are not suitable to be operated on by machine learning or statistical functions. We must distill this raw format into either survey/ cross sectional data or a series. In the next section we will define the data models required to manage this transformation."
      ]
    },
    {
      "cell_type": "markdown",
      "metadata": {
        "id": "kiwZiLoNqkqD"
      },
      "source": [
        "#### 3.2.2 Building Our Desired Tabular Data Structure\n",
        "\n",
        "In order to convert a longitudinal dataset to a workable format, we must process our desired features into a tabular form. The first step is to define a data model which refers to our tabular data. As tabular data models are a composition of data frame models which are in turn compositions of series models, we must define this from the series level up.\n",
        "\n",
        "We perform this using functionality contained in the <code>data_model_api</code> component of our orchestrator client. In the code block below, we define a data_frame model to be populated by a set of series models. We do this with <code>create_date_frame</code>. We pass the desired name for our data frame as we create the data frame model. We then recieve a reference to the newly minted data frame model which we can use to work with it remotely.\n",
        "\n",
        "###### TODO: Rationalise how we build up data models. We should begin at the smallest components and work our way larger or we should begin at the largest component and populate it with progressively smaller components. Currently we begin in the middle with Dataframe."
      ]
    },
    {
      "cell_type": "code",
      "execution_count": null,
      "metadata": {
        "id": "KibAMj0aqkqD"
      },
      "outputs": [],
      "source": [
        "from smart_broker_api import data_model_api\n",
        "\n",
        "data_frame_model_id = data_model_api.create_date_frame(session, \"data_frame_0\")"
      ]
    },
    {
      "cell_type": "markdown",
      "metadata": {
        "id": "jvCZNH3vqkqE"
      },
      "source": [
        "Now that we have a data frame model to populate, we define the individual series models which our data frame model will be composed of. For the purpose of this demo, we will allocate three new series models to the data_frame_model we created in the previous cell. We do this with <code>data_frame_add_series</code> from the <code>data_model_api</code> component of the orchestrator client.\n",
        "\n",
        "<code>data_frame_add_series</code> takes the following parameters:\n",
        "\n",
        "- The <code>id</code> of the <code>data_frame_model</code> we are adding these series to\n",
        "- The <code>name</code> of the series series we are specifying\n",
        "- The <code>observation</code> to be pulled from the longitudinal dataset\n",
        "- The <code>aggregator</code> which will be used to pull the <code>observation</code> from the longitudinal dataset\n",
        "\n",
        "Below we add three new series models to our dataframe model, which we may refer to remotely with <code>data_frame_model_id</code>.\n",
        "\n",
        "###### TODO: Related to the todo above. We should be able to define series models as atomic compoinents which may stand alone, outside of a dataframe model. They may then be added to a dataframe model in the same way that a dataframe model is added to a tabular model."
      ]
    },
    {
      "cell_type": "code",
      "execution_count": null,
      "metadata": {
        "id": "8RPEpPJRqkqF",
        "outputId": "65f1c943-165c-43af-b737-60a277390304"
      },
      "outputs": [
        {
          "data": {
            "text/plain": [
              "'747a6a90-655f-443c-8ec0-442790f9b186'"
            ]
          },
          "execution_count": 33,
          "metadata": {},
          "output_type": "execute_result"
        }
      ],
      "source": [
        "data_model_api.data_frame_add_series(session, data_frame_model_id, \"bmi_mean\", \"Observation:Body Mass Index\", \"AgregatorIntervalMean\")\n",
        "data_model_api.data_frame_add_series(session, data_frame_model_id, \"bmi_first\", \"Observation:Body Mass Index\", \"AgregatorIntervalFirstOccurance\")\n",
        "data_model_api.data_frame_add_series(session, data_frame_model_id, \"bmi_last\", \"Observation:Body Mass Index\", \"AgregatorIntervalLastOccurance\")"
      ]
    },
    {
      "cell_type": "markdown",
      "metadata": {
        "id": "3iIypggSqkqG"
      },
      "source": [
        "Now we're ready to generate our tabular data model. We create an empty tabular data model with <code>create_tabular_data</code> from the <code>data_model_api</code> component of our orchestrator client. We recieve a reference to the new data model, <code>data_model_tabular_id</code>, which we can use to work with it remotely."
      ]
    },
    {
      "cell_type": "code",
      "execution_count": null,
      "metadata": {
        "id": "o10yPnzaqkqG"
      },
      "outputs": [],
      "source": [
        "data_model_tabular_id = data_model_api.create_tabular_data(session)"
      ]
    },
    {
      "cell_type": "markdown",
      "metadata": {
        "id": "Q7ugbVafqkqH"
      },
      "source": [
        "We may then add the previously defined dataframe model to the empty tabular data model to create a complete set of meta-information relating to the tabular data we'd like to pull from our longitudinal dataset. The functionality we use to achieve this is held in the <code> data_model_api </code> component of the orchestrator client. The specific function is <code>tabular_add_dataframe</code>. <code>tabular_add_dataframe</code> takes the following parameters:\n",
        "\n",
        "- the <code>id</code> of the dataframe to be added to the tabular data model\n",
        "- the <code>id</code> of the tabular data model which the dataframe will be added to\n",
        "\n",
        "Once built, we can refer to this entire structure with <code>data_model_tabular_id</code>."
      ]
    },
    {
      "cell_type": "code",
      "execution_count": null,
      "metadata": {
        "id": "Kbkp38hvqkqH"
      },
      "outputs": [],
      "source": [
        "data_model_tabular_id = data_model_api.tabular_add_dataframe(session, data_frame_model_id, data_model_tabular_id)"
      ]
    },
    {
      "cell_type": "markdown",
      "metadata": {
        "id": "JOuHsA4mqkqH"
      },
      "source": [
        "As we complete this section, we now have a fully defined data model which contains the following structure:\n",
        "\n",
        "- Tabular Data model\n",
        "    - Data Frame Model ('data_frame_0')\n",
        "        - Series Model ('bmi_mean')\n",
        "        - Series Model ('bmi_first')\n",
        "        - Series Model ('bmi_last)\n",
        "\n",
        "We are now ready to parse the values specifed in this data model from our original longitudinal dataset.\n",
        "\n",
        "###### TODO: Replace ugly list with pretty diagram of defined data structure"
      ]
    },
    {
      "cell_type": "markdown",
      "metadata": {
        "id": "dOBOz_B-qkqH"
      },
      "source": [
        "#### 3.2.3 Parse Tabular Dataset from Longitudinal Dataset Model Specification\n",
        "\n",
        "In this section we'll be using our newly defined tabular data model to parse from our longitudinal dataset. We'll end up with a tabular dataset which we can perform analytics on downstream. We'll be using the <code>data_api</code> component of the orchestrator to achieve this. Specifically, we'll be using <code>parse_dataset_tabular_from_longitudinal</code>. This takes the following parameters:\n",
        "\n",
        "- The <code> id </code> of the longitudinal dataset we are parsing from\n",
        "- The <code> id </code> of the tabular data model we defined above\n",
        "- dataset_federation_id *(It's not clear this is a necessary parameter)*\n",
        "- dataset_federation_name *(It's not clear this a necessary parameter)*\n",
        "\n",
        "When this has run to completion we will receive a reference to our newly minted tabular dataset.\n",
        "\n",
        "###### TODO: Why are we using dataset_federation_id and dataset_federation_name if we already have access to the longitudinal data? ADD TO TECHDEBT"
      ]
    },
    {
      "cell_type": "code",
      "execution_count": null,
      "metadata": {
        "id": "g_plRKnCqkqI"
      },
      "outputs": [],
      "source": [
        "from smart_broker_api import data_api\n",
        "\n",
        "dataset_federation_id = \"a892f738-4f6f-11ed-bdc3-0242ac120002\"\n",
        "dataset_federation_name = \"r4sep2019_csvv1_20_1\"\n",
        "\n",
        "tabular_dataset_id = data_api.parse_dataset_tabular_from_longitudinal(session, longitudinal_dataset_id, dataset_federation_id, dataset_federation_name, data_model_tabular_id)"
      ]
    },
    {
      "cell_type": "markdown",
      "metadata": {
        "id": "LAfTLz8EqkqI"
      },
      "source": [
        "### 3.3 Tabular Dataset Operations\n",
        "\n",
        "In the previous sections we provisioned a longitudinal dataset, defined a tabular data model and used this data model to parse a tabular dataset from the longitudinal dataset. We will now select an individual data frame from our tabular datset which will be consumable by machine learning and pre-processing functionality.\n",
        "\n",
        "#### 3.3.1 Selecting a Data Frame from a Tabular Dataset\n",
        "\n",
        "In order to select a specifc data frame from our tabular dataset, we will use <code>data_frame_tabular_select_data_frame</code> from the <code>data_api</code> component of our orchestrator client. This function takes the following parameters:\n",
        "\n",
        "- The <code>id</code> of the tabular dataset we will be selecting from\n",
        "- The <code>name</code> of the particular data frame we would like to process\n",
        "\n",
        "We will recieve the <code>id</code> of the data frame specified by the data frame <code>name</code> provided as a parameter. This will allow us to refer to that particular data frame remotely.\n"
      ]
    },
    {
      "cell_type": "code",
      "execution_count": null,
      "metadata": {
        "id": "h5Kz7zTvqkqI"
      },
      "outputs": [],
      "source": [
        "data_frame_id = data_api.data_frame_tabular_select_data_frame(session, tabular_dataset_id, \"data_frame_0\")"
      ]
    },
    {
      "cell_type": "markdown",
      "metadata": {
        "id": "bErcIssyqkqJ"
      },
      "source": [
        "### 3.4 Data Frame Level Operations\n",
        "\n",
        "In the previous section we selected an individual data frame from the tabular dataset we created earlier. In this section we will learn how to perform operations on that data frame."
      ]
    },
    {
      "cell_type": "markdown",
      "metadata": {
        "id": "kcQeFE9SqkqJ"
      },
      "source": [
        "#### 3.4.1 Removing Missing values from a Data Frame\n",
        "\n",
        "Now we have the reference to an individual dataframe, we can perform preprocessing operations. In this case we will be removing all missing values from the data frame selected in the previous section. To do this, we employ the <code>preprocessing</code> component of the orchestrator client. The specific function from this component that we'll be using is <code>drop_na_data_frame</code> which takes the <code>id</code> of the original data frame and returns the <code>id</code> of the new dataframe with all missing values removed.\n"
      ]
    },
    {
      "cell_type": "code",
      "execution_count": null,
      "metadata": {
        "id": "wxlNi1E5qkqJ"
      },
      "outputs": [],
      "source": [
        "from smart_broker_api import preprocessing_api\n",
        "\n",
        "no_na_data_frame_id = preprocessing_api.drop_na_data_frame(session, data_frame_id)"
      ]
    },
    {
      "cell_type": "markdown",
      "metadata": {
        "id": "mI7d5dj0qkqJ"
      },
      "source": [
        "#### 3.4.2 Selecting a Series from a Data Frame\n",
        "\n",
        "We can select an individual series from a data frame by once again using the <code>data_api</code> component of the orchestrator client. The function used here is <code>data_frame_select_series</code>. This takes two parameters:\n",
        "\n",
        "- The <code>id</code> of the data frame beng selected from\n",
        "- The <code>name</code> of the desired series\n",
        "\n",
        "Below we select two series from our preprocessed dataframe. We recieve back the <code>id</code> of the series' which are referred to by <code>name</code>."
      ]
    },
    {
      "cell_type": "code",
      "execution_count": null,
      "metadata": {
        "id": "G0yyw2nUqkqK"
      },
      "outputs": [],
      "source": [
        "series_1_id = data_api.data_frame_select_series(session, no_na_data_frame_id, \"bmi_mean\")\n",
        "series_2_id = data_api.data_frame_select_series(session, no_na_data_frame_id, \"bmi_last\")"
      ]
    },
    {
      "cell_type": "markdown",
      "metadata": {
        "id": "3yqZ4wjiqkqK"
      },
      "source": [
        "### 3.5 Series Level Data Operations\n",
        "\n",
        "We now have a reference to two series which have been selected all the way from our original longitudinal dataset. We can use these series to perform some statistical analysis and data visualisation."
      ]
    },
    {
      "cell_type": "markdown",
      "metadata": {
        "id": "5WBCQkZOqkqK"
      },
      "source": [
        "##### 3.5.1 Statistical Analysis"
      ]
    },
    {
      "cell_type": "markdown",
      "metadata": {
        "id": "VYJfFS5oqur0"
      },
      "source": [
        "# 1. Count\n",
        "\n",
        "The function used here is <code>statistics_api.count</code>. This takes two parameters:\n",
        "\n",
        "- The <code>session</code> assigning session \n",
        "- The <code>series_1_id</code> of the desired series\n",
        "\n",
        "This function calculate the length of a federated series. Work same as len([1,2,3,4]) works in python"
      ]
    },
    {
      "cell_type": "code",
      "execution_count": null,
      "metadata": {
        "id": "KWz4PQ30qyJO"
      },
      "outputs": [],
      "source": [
        "from smart_broker_api import statistics_api\n",
        "\n",
        "type_distribution=\"normalunit\"\n",
        "type_ranking=\"cdf\"\n",
        "alternative = \"two-sided\"\n",
        "print(statistics_api.count(session,  series_1_id))"
      ]
    },
    {
      "cell_type": "markdown",
      "metadata": {
        "id": "dxIuA8yprAVc"
      },
      "source": [
        "# 2. Mean\n",
        "\n",
        "The function used here is <code>statistics_api.mean</code>. This takes two parameters:\n",
        "\n",
        "- The <code>session</code> assigning session \n",
        "- The <code>series_1_id</code> of the desired series\n",
        "\n",
        "Mean of a list of numbers, is the sum of all of the numbers divided by the number of numbers. Similarly,\n",
        "\n",
        "## 2.1 Calculating Mean\n",
        "\n",
        "$\\bar{x}=\\frac{1}{n}\\left(\\sum_{i=1}^{n} x_{i}\\right)=\\frac{x_{1}+x_{2}+\\cdots+x_{n}}{n}$\n",
        "\n",
        "$\\frac{4+36+45+50+75}{5}=\\frac{210}{5}=42$"
      ]
    },
    {
      "cell_type": "code",
      "execution_count": null,
      "metadata": {
        "id": "f68Yt_ezq8lG"
      },
      "outputs": [],
      "source": [
        "print(statistics_api.mean(session,  series_1_id))"
      ]
    },
    {
      "cell_type": "markdown",
      "metadata": {
        "id": "ZtOHU0PprTbQ"
      },
      "source": [
        "# 3. Chi-Square \n",
        "\n",
        "The function used here is <code>statistics_api.chisquare</code>. This takes three parameters:\n",
        "\n",
        "- The <code>session</code> assigning session \n",
        "- The <code>series_1_id</code> first of the desired series\n",
        "- The <code>series_2_id</code>  second of the desired series\n",
        "\n",
        "A chi-square (χ2) statistic is a test that measures how a model compares to actual observed data. The data used in calculating a chi-square statistic must be random, raw, mutually exclusive, drawn from independent variables, and drawn from a large enough sample. For example, the results of tossing a fair coin meet these criteria.\n",
        "\n",
        "Chi-square tests are often used to test hypotheses. The chi-square statistic compares the size of any discrepancies between the expected results and the actual results, given the size of the sample and the number of variables in the relationship.\n",
        "\n",
        "## 3.1 Calculating Chi-square\n",
        "\n",
        "$\\chi^{2}=\\sum \\frac{\\left(O_{i}-E_{i}\\right)^{2}}{E_{i}}$\n",
        "\n",
        "O_i = observed value\n",
        "\n",
        "E_i = expected value"
      ]
    },
    {
      "cell_type": "code",
      "execution_count": null,
      "metadata": {
        "id": "BGd79u9LrmkQ"
      },
      "outputs": [],
      "source": [
        "print(statistics_api.chisquare(session,  series_1_id, series_2_id))"
      ]
    },
    {
      "cell_type": "markdown",
      "metadata": {
        "id": "784ngy1PrrYf"
      },
      "source": [
        "# 4 Kolmogorov–Smirnov test\n",
        "\n",
        "The function used here is <code>statistics_api.KolmogorovSmirnovTest</code>. This takes four parameters:\n",
        "\n",
        "- The <code>session</code> assigning session \n",
        "- The <code>series_1_id</code> of the desired series\n",
        "- The <code>type_distribution</code> choosing type of distribution\n",
        "- The <code>type_ranking</code> chosing type of ranking\n",
        "\n",
        "Kolmogorov–Smirnov test a very efficient way to determine if two samples are significantly different from each other. It is usually used to check the uniformity of random numbers. Uniformity is one of the most important properties of any random number generator and Kolmogorov–Smirnov test can be used to test it.\n",
        "\n",
        "The Kolmogorov–Smirnov test (KS Test) is a bit more complex and allows you to detect patterns you can’t detect with a Student’s T-Test.\n",
        "\n",
        "From Wikipedia:\n",
        "\n",
        "“The Kolmogorov–Smirnov statistic quantifies a distance between the empirical distribution function of the sample and the cumulative distribution function of the reference distribution, or between the empirical distribution functions of two samples.”\n",
        "\n",
        "\n",
        "## 4.1 How to perform KS Test?\n",
        "\n",
        "1. State the Null hypothesis that both the random variables come from same distribution\n",
        "2. State the  Alternative hypothesis that both the random variables do not come from same distribution\n",
        "3. Setup a confidence interval value\n",
        "4. Calculate the D value using following formula $D_n,_m=Maximum|F_n(X)−F_m(X)|$\n",
        "5. The null hypothesis is rejected at level $\\alpha $ if $$D_{n,m} > c(\\alpha) \\sqrt(\\frac{n+m}{nm})$$ where $c(\\alpha)=\\sqrt(-\\frac{1}{2}log_e\\alpha)$ <br> $n$,$m$ =number of points in samples."
      ]
    },
    {
      "cell_type": "code",
      "execution_count": null,
      "metadata": {
        "id": "VVuzpLtyrzB4"
      },
      "outputs": [],
      "source": [
        "print(statistics_api.kolmogorovSmirnovTest(session,  series_1_id, type_distribution, type_ranking))"
      ]
    },
    {
      "cell_type": "markdown",
      "metadata": {
        "id": "aVxeH655r3Xt"
      },
      "source": [
        "# 5. Kurtosis\n",
        "\n",
        "The function used here is <code>statistics_api.kurtosis</code>. This takes two parameters:\n",
        " \n",
        "- The <code>session</code> assigning session \n",
        "- The <code>series_1_id</code> of the desired series\n",
        "\n",
        "Kurtosis is a measure of the tailedness of a distribution. Tailedness is how often outliers occur. Excess kurtosis is the tailedness of a distribution relative to a normal distribution.\n",
        "\n",
        "Distributions with medium kurtosis (medium tails) are mesokurtic.\n",
        "\n",
        "Distributions with low kurtosis (thin tails) are platykurtic.\n",
        "\n",
        "Distributions with high kurtosis (fat tails) are leptokurtic.\n",
        "\n",
        "Tails are the tapering ends on either side of a distribution. They represent the probability or frequency of values that are extremely high or low compared to the mean. In other words, tails represent how often outliers occur.\n",
        "\n",
        "## 5.1 Calculating kurtosis\n",
        "\n",
        "Mathematically speaking, kurtosis is the standardized fourth moment of a distribution. Moments are a set of measurements that tell you about the shape of a distribution.\n",
        "\n",
        "Moments are standardized by dividing them by the standard deviation raised to the appropriate power.\n",
        "\n",
        "Kurtosis of a population\n",
        "The following formula describes the kurtosis of a population:\n",
        "\n",
        "Kurt $=\\frac{\\mu_{4}}{\\sigma^{4}}$\n",
        "\n",
        "Where:\n",
        "\n",
        "- mu_4 is the standardized fourth moment\n",
        "\n",
        "- mu_4 is the unstandardized central fourth moment\n",
        "\n",
        "- sigma is the standard deviation"
      ]
    },
    {
      "cell_type": "code",
      "execution_count": null,
      "metadata": {
        "id": "R0uM2M4qsLSi"
      },
      "outputs": [],
      "source": [
        "print(statistics_api.kurtosis(session,  series_1_id))"
      ]
    },
    {
      "cell_type": "markdown",
      "metadata": {
        "id": "CUDu4-DGsO9Q"
      },
      "source": [
        "# 6. Levene's test\n",
        "\n",
        "The function used here is <code>statistics_api.levene_test</code>. This takes three parameters:\n",
        " \n",
        "- The <code>session</code> assigning session \n",
        "- The <code>series_1_id</code> first of the desired series\n",
        "- The <code>series_2_id</code>  second of the desired series\n",
        "\n",
        "Levene's test is equivalent to a 1-way between-groups analysis of variance (ANOVA) with the dependent variable being the absolute value of the difference between a score and the mean of the group). The test statistic, W, is equivalent to the F statistic that would be produced by such an ANOVA, and is defined as follows:\n",
        "\n",
        "## 6.1 Calculating Levene's test\n",
        "\n",
        "\n",
        "$W=\\frac{(N-k)}{(k-1)} \\cdot \\frac{\\sum_{i=1}^{k} N_{i}\\left(Z_{i .}-Z_{. .}\\right)^{2}}{\\sum_{i=1}^{k} \\sum_{j=1}^{N_{i}}\\left(Z_{i j}-Z_{i} .\\right)^{2}}$,\n",
        "\n",
        "where\n",
        "\n",
        "- $k$ is the number of different groups to which the sampled cases belong,\n",
        "\n",
        "- $N_{-} i$ is the number of cases in the ith group,\n",
        "\n",
        "- $\\mathrm{N}$ is the total number of cases in all groups,\n",
        "\n",
        "- $Y_{-} \\mathrm{ij}$ is the value of the measured variable for the jth case from the ith group $Z_{i j}= \\begin{cases}\\left|Y_{i j}-\\bar{Y}_{i \\cdot}\\right|, & \\bar{Y}_{i} . \\text { is a mean of the } i \\text {-th group, } \\\\ \\left|Y_{i j}-\\tilde{Y}_{i \\cdot}\\right|, & \\tilde{Y}_{i} . \\text { is a median of the } i \\text {-th group. }\\end{cases}$ \n",
        "\n",
        "$$\n",
        "Z_{i .}=\\frac{1}{N_{i}} \\sum_{j=1}^{N_{i}} Z_{i j}\n",
        "$$\n",
        "\n",
        "- is the mean of the $\\mathrm{Z}_{-} \\mathrm{ij}$ for group $\\mathrm{i}$,\n",
        "\n",
        "$$\n",
        "Z . .=\\frac{1}{N} \\sum_{i=1}^{k} \\sum_{j=1}^{N_{i}} Z_{i j}\n",
        "$$\n",
        "\n",
        "- is the mean of all Z_ij."
      ]
    },
    {
      "cell_type": "code",
      "execution_count": null,
      "metadata": {
        "id": "FP9WUN4MsmK-"
      },
      "outputs": [],
      "source": [
        "print(statistics_api.levene_test(session,  series_1_id, series_2_id))"
      ]
    },
    {
      "cell_type": "markdown",
      "metadata": {
        "id": "YOI_VFldsqq5"
      },
      "source": [
        "# 7. Mann-Whitney U test\n",
        "\n",
        "The function used here is <code>statistics_api.mann_whitney_u_test</code>. This takes five parameters:\n",
        " \n",
        "- The <code>session</code> assigning session \n",
        "- The <code>series_1_id</code> of the desired series\n",
        "- The <code>series_2_id</code> of the desired series\n",
        "- The <code>alternative</code> \n",
        "- The <code>type_ranking</code> choosing type of ranking\n",
        "\n",
        "Mann-Whitney U test is the non-parametric alternative test to the independent sample t-test. It is a non-parametric test that is used to compare two sample means that come from the same population, and used to test whether two sample means are equal or not. Usually, the MannWhitney U test is used when the data is ordinal or when the assumptions of the t-test are not met. Sometimes understanding the Mann-Whitney $\\mathrm{U}$ is difficult interpret because the results are presented in group rank differences rather than group mean differences. The Intellectus Statistics tool below interprets the analysis in plain English!\n",
        "\n",
        "## 7.1 Calculation of the Mann-Whitney U:\n",
        "\n",
        "$$\n",
        "U=n_{1} n_{2}+\\frac{n_{2}\\left(n_{2}+1\\right)}{2}-\\sum_{i=n_{1}+1}^{m_{2}} R_{i}\n",
        "$$\n",
        "\n",
        "Where:\n",
        "\n",
        "U=Mann-Whitney U test\n",
        "\n",
        "N1 = sample size one\n",
        "\n",
        "$\\mathrm{N} 2=$ Sample size two\n",
        "\n",
        "$\\mathrm{Ri}=$ Rank of the sample size\n",
        "\n"
      ]
    },
    {
      "cell_type": "code",
      "execution_count": null,
      "metadata": {
        "id": "KXMNca-3uFFD"
      },
      "outputs": [],
      "source": [
        "print(statistics_api.mann_whitney_u_test(session,  series_1_id, series_2_id, alternative, type_ranking))"
      ]
    },
    {
      "cell_type": "markdown",
      "metadata": {
        "id": "J_wRJ35-uHs-"
      },
      "source": [
        "# 8. Min-Max Function.\n",
        "\n",
        "The function used here is <code>statistics_api.min_max</code>. This takes two parameters:\n",
        " \n",
        "- The <code>session</code> assigning session \n",
        "- The <code>series_1_id</code> of the desired series\n",
        "\n",
        "It's simple statistical function which gives you minmum and maximum vale of the series"
      ]
    },
    {
      "cell_type": "code",
      "execution_count": null,
      "metadata": {
        "id": "tBGjcg8guSh_"
      },
      "outputs": [],
      "source": [
        "print(statistics_api.min_max(session,  series_1_id))"
      ]
    },
    {
      "cell_type": "markdown",
      "metadata": {
        "id": "-kEcLZtwuTi1"
      },
      "source": [
        "\n",
        "#9. Paired T-Test\n",
        "The function used here is <code>statistics_api.paired_t_test</code>. This takes four parameters:\n",
        " \n",
        "- The <code>session</code> assigning session \n",
        "- The <code>series_1_id</code> of the desired series\n",
        "- The <code>series_2_id</code> of the desired series\n",
        "- The <code>alternative</code> \n",
        "\n",
        "The paired sample t-test, sometimes called the dependent sample t-test, is a statistical procedure used to determine whether the mean difference between two sets of observations is zero. In a paired sample t-test, each subject or entity is measured twice, resulting in pairs of observations. Common applications of the paired sample t-test include case-control studies or repeatedmeasures designs. Suppose you are interested in evaluating the effectiveness of a company training program. One approach you might consider would be to measure the performance of a sample of employees before and after completing the program, and analyze the differences using a paired sample t-test.\n",
        "\n",
        "## 9.1 How to perform Paired T-Test\n",
        "\n",
        "- Null Hypothesis: $\\mathrm{HO}: \\mu \\mathrm{d}=0$\n",
        "\n",
        "- Alternative Hypothesis: $\\mathrm{H} 1: \\mu \\mathrm{d} \\neq 0$\n",
        "\n",
        "- Point Estimate:(the sample mean difference) is the point estimate of . $\\mu \\mathrm{d}$\n",
        "\n",
        "- Test statistic:\n",
        "\n",
        "$$\n",
        "t=\\frac{\\bar{d}-\\mu_{d}}{s_{d} / \\sqrt{n}}\n",
        "$$\n",
        "\n",
        "- Note that the standard error of is where sd is the standard deviation of the differences.\n",
        "\n",
        "- As before, we compare the t-statistic to the critical value of $t$ (which can be found in the table using degrees of freedom and the pre-selected level of significance, a). If the absolute value of the calculated t-statistic is larger than the critical value of $t$, we reject the null hypothesis.\n",
        "\n",
        "- Confidence Intervals\n",
        "\n",
        "We can also calculate a $95 \\%$ confidence interval around the difference in means. The general form for a confidence interval around a difference in means is\n",
        "\n",
        "$$\n",
        "\\bar{d} \\pm t_{(\\mathrm{n}-1, \\text { two -sided } \\alpha)}\\left(s_{d} / \\sqrt{n}\\right)\n",
        "$$\n",
        "\n",
        "For a two-sided 95\\% confidence interval, use the table of the t-distribution (found at the end of the section) to select the appropriate critical value of $t$ for the two-sided $a=0.05 \\ldots$"
      ]
    },
    {
      "cell_type": "code",
      "execution_count": null,
      "metadata": {
        "id": "klsvy3OWupMh"
      },
      "outputs": [],
      "source": [
        "print(statistics_api.paired_t_test(session,  series_1_id, series_2_id, alternative))"
      ]
    },
    {
      "cell_type": "markdown",
      "metadata": {
        "id": "oifU_rXFusG9"
      },
      "source": [
        "\n",
        "##10. Pearson\n",
        "The function used here is <code>statistics_api.pearson</code>. This takes five parameters:\n",
        " \n",
        "- The <code>session</code> assigning session \n",
        "- The <code>series_1_id</code> of the desired series\n",
        "- The <code>series_2_id</code> of the desired series\n",
        "- The <code>alternative</code> \n",
        "- The <code>type_ranking</code> choosing type of ranking\n",
        "\n",
        "The Pearson correlation coefficient $(r)$ is the most widely used correlation coefficient and is known by many names:\n",
        "\n",
        "- Pearson's $r$\n",
        "\n",
        "- Bivariate correlation\n",
        "\n",
        "- Pearson product-moment correlation coefficient (PPMCC)\n",
        "\n",
        "- The correlation coefficient\n",
        "\n",
        "the correlation coefficient- is a measure of linear correlation between two sets of data. It is the ratio between the covariance of two variables and the product of their standard deviations; thus, it is essentially a normalized measurement of the covariance, such that the result always has a value between $-1$ and 1 .\n",
        "\n",
        "As with covariance itself, the measure can only reflect a linear correlation of variables, and ignores many other types of relationships or correlations. As a simple example, one would expect the age and height of a sample of teenagers from a high school to have a Pearson correlation coefficient significantly greater than 0 , but less than 1 (as 1 would represent an unrealistically perfect correlation).\n",
        "\n",
        "The Pearson correlation coefficient is a descriptive statistic, meaning that it summarizes the characteristics of a dataset. Specifically, it describes the strength and direction of the linear relationship between two quantitative variables.\n",
        "\n",
        "## 10.1 Calculating Pearson coefficient.\n",
        "\n",
        "$r=\\frac{\\sum\\left(x_{i}-\\bar{x}\\right)\\left(y_{i}-\\bar{y}\\right)}{\\sqrt{\\sum\\left(x_{i}-\\bar{x}\\right)^{2} \\sum\\left(y_{i}-\\bar{y}\\right)^{2}}}$\n",
        "\n",
        "- $r$ = correlation coefficient\n",
        "\n",
        "- $x_{-} i$ = values of the $x$-variable in a sample\n",
        "\n",
        "- $\\mathrm{x}_{-}(\\mathrm{x}$ bar $)=$ mean of the values of the $\\mathrm{x}$-variable\n",
        "\n",
        "- $y_{-} i=$ values of the $y$-variable in a sample\n",
        "\n",
        "- $y_{-}(y$ bar $)=$ mean of the values of the $y$-variable\n"
      ]
    },
    {
      "cell_type": "code",
      "execution_count": null,
      "metadata": {
        "id": "rXmIoL6bvBQr"
      },
      "outputs": [],
      "source": [
        "print(statistics_api.pearson(session,  series_1_id, series_2_id, alternative))"
      ]
    },
    {
      "cell_type": "markdown",
      "metadata": {
        "id": "UPgh2aADvHFk"
      },
      "source": [
        "# 11. Skewness\n",
        "\n",
        "The function used here is <code>statistics_api.skewness</code>. This takes two parameters:\n",
        " \n",
        "- The <code>session</code> assigning session \n",
        "- The <code>series_1_id</code> of the desired series\n",
        "\n",
        "\n",
        "Skewness is a measurement of the distortion of symmetrical distribution or asymmetry in a data set. Skewness is demonstrated on a bell curve when data points are not distributed symmetrically to the left and right sides of the median on a bell curve. If the bell curve is shifted to the left or the right, it is said to be skewed.\n",
        "\n",
        "Skewness can be quantified as a representation of the extent to which a given distribution varies from a normal distribution. A normal distribution has a zero skew, while a lognormal distribution, for example, would exhibit some right skew.\n",
        "\n",
        "##11.1Calculating skewness}\n",
        "\n",
        "$\\tilde{\\mu}_{3}=\\frac{\\sum_{i}^{N}\\left(X_{i}-\\bar{X}\\right)^{3}}{(N-1) * \\sigma^{3}}$\n",
        "\n",
        "- mu_3 = skewness\n",
        "\n",
        "- $\\mathrm{N}$ = number of variables in the distribution\n",
        "\n",
        "- $\\mathrm{X}_{-} \\mathrm{i}=$ random variable\n",
        "\n",
        "- $\\mathrm{X}_{-}(\\mathrm{x}$ bar $)=$ mean of the distribution\n",
        "\n",
        "- sigma = standard deviation\n"
      ]
    },
    {
      "cell_type": "code",
      "execution_count": null,
      "metadata": {
        "id": "iUE975Juvb6k"
      },
      "outputs": [],
      "source": [
        "print(statistics_api.skewness(session,  series_1_id))"
      ]
    },
    {
      "cell_type": "markdown",
      "metadata": {
        "id": "mXBbq4nHvcoe"
      },
      "source": [
        "##12. Spearman's rank coefficient\n",
        "\n",
        "The function used here is <code>statistics_api.sperman</code>. This takes five parameters:\n",
        " \n",
        "- The <code>session</code> assigning session \n",
        "- The <code>series_1_id</code> of the desired series\n",
        "- The <code>series_2_id</code> of the desired series\n",
        "- The <code>alternative</code> \n",
        "- The <code>type_ranking</code> choosing type of ranking\n",
        "\n",
        "The Spearman's rank coefficient of correlation is a nonparametric measure of rank correlation (statistical dependence of ranking between two variables).\n",
        "\n",
        "it is often denoted by the Greek letter ' $\\rho$ ' (rho) and is primarily used for data analysis.\n",
        "\n",
        "It measures the strength and direction of the association between two ranked variables. But before we talk about the Spearman correlation coefficient, it is important to understand Pearson's correlation first. A Pearson correlation is a statistical measure of the strength of a linear relationship between paired data.\n",
        "\n",
        "##12.1 Calculating spearman's rank coefficient}\n",
        "\n",
        "$\\rho=1-\\frac{6 \\sum d_{i}^{2}}{n\\left(n^{2}-1\\right)}$\n",
        "\n",
        "- $n=$ number of data points of the two variables\n",
        "\n",
        "- di= difference in ranks of the \"ith\" element\n",
        "\n",
        "The Spearman Coefficient, $\\rho$, can take a value between $+1$ to $-1$ where, - A $\\rho$ value of $+1$ means a perfect association of rank\n",
        "\n",
        "- A $\\rho$ value of 0 means no association of ranks\n",
        "\n",
        "- A $\\rho$ value of $-1$ means a perfect negative association between ranks.\n",
        "\n",
        "Closer the $\\rho$ value to 0 , weaker is the association between the two ranks."
      ]
    },
    {
      "cell_type": "code",
      "execution_count": null,
      "metadata": {
        "id": "KPDVeGbkvsSQ"
      },
      "outputs": [],
      "source": [
        "print(statistics_api.spearman(session,  series_1_id, series_2_id, alternative, type_ranking))"
      ]
    },
    {
      "cell_type": "markdown",
      "metadata": {
        "id": "IfkvEP_tvvaD"
      },
      "source": [
        "\n",
        "#13. Student t-test\n",
        "\n",
        "The function used here is <code>statistics_api.student_t_test</code>. This takes four parameters:\n",
        " \n",
        "- The <code>session</code> assigning session \n",
        "- The <code>series_1_id</code> of the desired series\n",
        "- The <code>series_2_id</code> of the desired series\n",
        "- The <code>alternative</code> \n",
        "- The <code>type_ranking</code> choosing type of ranking\n",
        "\n",
        "The Student t test tells you how significant the differences between group means are. It lets you know if those differences in means could have happened by chance. The $t$ test is usually used when data sets follow a normal distribution but you don't know the population variance.\n",
        "\n",
        "## 13.1 Calculating test statistics\n",
        "\n",
        "For Equal sample sizes and variance\n",
        "\n",
        "Given two groups $(1,2)$, this test is only applicable when:\n",
        "\n",
        "the two sample sizes are equal; it can be assumed that the two distributions have the same variance; Violations of these assumptions are discussed below.\n",
        "\n",
        "The $t$ statistic to test whether the means are different can be calculated as follows:\n",
        "\n",
        "$t=\\frac{\\bar{X}_{1}-\\bar{X}_{2}}{s_{p} \\sqrt{\\frac{2}{n}}}$\n",
        "\n",
        "where,\n",
        "\n",
        "$s_{p}=\\sqrt{\\frac{s_{X_{1}}^{2}+s_{X_{2}}^{2}}{2}}$.\n",
        "\n",
        "For significance testing, the degrees of freedom for this test is $2 n-2$ where $n$ is sample size.\n"
      ]
    },
    {
      "cell_type": "code",
      "execution_count": null,
      "metadata": {
        "id": "FSo0TUkGwDVg"
      },
      "outputs": [],
      "source": [
        "print(statistics_api.student_t_test(session,  series_1_id, series_2_id, alternative))"
      ]
    },
    {
      "cell_type": "markdown",
      "metadata": {
        "id": "PT9ckB08wQOR"
      },
      "source": [
        "\n",
        "#14. Variance\n",
        "\n",
        "The function used here is <code>statistics_api.variance</code>. This takes two parameters:\n",
        " \n",
        "- The <code>session</code> assigning session \n",
        "- The <code>series_1_id</code> of the desired series\n",
        "\n",
        "\n",
        "The term variance refers to a statistical measurement of the spread between numbers in a data set. More specifically, variance measures how far each number in the set is from the mean (average), and thus from every other number in the set. Variance is often depicted by this symbol: $\\sigma 2$. It is used by both analysts and traders to determine volatility and market security.\n",
        "\n",
        "The square root of the variance is the standard deviation (SD or $\\sigma$ ), which helps determine the consistency of an investment's returns over a period of time. \n",
        "\n",
        "## 14.1 Calculating variance\n",
        "\n",
        "$S^{2}=\\frac{\\sum\\left(x_{i}-\\bar{x}\\right)^{2}}{n-1}$\n",
        "\n",
        "$S^{\\wedge} 2=$ sample variance\n",
        "\n",
        "$\\mathrm{x}_{-} \\mathrm{i}=$ the value of the one observation\n",
        "\n",
        "$\\mathrm{x}_{-}(\\mathrm{x}$ bar $)=$ the mean value of all observations\n",
        "\n",
        "$n=$ the number of observations\n"
      ]
    },
    {
      "cell_type": "code",
      "execution_count": null,
      "metadata": {
        "id": "IOw-b2f-wjDG"
      },
      "outputs": [],
      "source": [
        "print(statistics_api.variance(session,  series_1_id))"
      ]
    },
    {
      "cell_type": "markdown",
      "metadata": {
        "id": "kkgHKtIiwKAs"
      },
      "source": [
        "\n",
        "# 15. Welch's t-test\n",
        "\n",
        "The function used here is <code>statistics_api.welch_t_test</code>. This takes four parameters:\n",
        " \n",
        "- The <code>session</code> assigning session \n",
        "- The <code>series_1_id</code> of the desired series\n",
        "- The <code>series_2_id</code> of the desired series\n",
        "- The <code>alternative</code> \n",
        "\n",
        "Welch's t-test also known as unequal variances t-test is used when you want to test whether the means of two population are equal. This test is generally applied when the there is a difference between the variations of two populations and also when their sample sizes are unequal.\n",
        "\n",
        "## 15.1 Calculating Welch's t-test\n",
        "\n",
        "Test statistic:\n",
        "\n",
        "$$\n",
        "t=\\frac{\\bar{X}_{1}-\\bar{X}_{2}}{\\sqrt{\\frac{s_{1}^{2}}{N_{1}}+\\frac{s_{2}^{2}}{N_{2}}}}=\\frac{\\bar{X}_{1}-\\bar{X}_{2}}{\\sqrt{s e_{1}^{2}+s e_{2}^{2}}}\n",
        "$$\n",
        "\n",
        "- The null hypothesis for the test is that the means are equal.\n",
        "\n",
        "- The alternate hypothesis for the test is that means are not equal.\n",
        "\n",
        "## 15.2 Comparison to Student's T-Test\n",
        "\n",
        "Welch's t-test, unlike Student's t-test, does not have the assumption of equal variance (however, both tests have the assumption of normality). When two groups have equal sample sizes and variances, Welch's tends to give the same result as Student's. However, when sample sizes and variances are unequal, Student's t-test is quite unreliable; Welch's tends perform better."
      ]
    },
    {
      "cell_type": "code",
      "execution_count": null,
      "metadata": {
        "id": "3RsJchTrw2wi"
      },
      "outputs": [],
      "source": [
        "print(statistics_api.welch_t_test(session,  series_1_id, series_2_id, alternative))"
      ]
    },
    {
      "cell_type": "markdown",
      "metadata": {
        "id": "t-oW4p3Ew3aT"
      },
      "source": [
        "\n",
        "# 16. Wilcoxon signed-rank test\n",
        "\n",
        "The function used here is <code>statistics_api.wilcoxon_signed_rank_test</code>. This takes five parameters:\n",
        " \n",
        "- The <code>session</code> assigning session \n",
        "- The <code>series_1_id</code> of the desired series\n",
        "- The <code>series_2_id</code> of the desired series\n",
        "- The <code>alternative</code> \n",
        "- The <code>type_ranking</code> choosing type of ranking\n",
        "\n",
        "Wilcoxon rank-sum test is used to compare two independent samples, while Wilcoxon signed-rank test is used to compare two related samples, matched samples, or to conduct a paired difference test of repeated measurements on a single sample to assess whether their population mean ranks differ.\n",
        "\n",
        "## 16.1 Calculating Wilcoxon signed-rank test\n",
        "\n",
        "$$\n",
        "W=\\sum_{i=1}^{N_{r}}\\left[\\operatorname{sgn}\\left(x_{2, i}-x_{1, i}\\right) \\cdot R_{i}\\right]\n",
        "$$\n",
        "\n",
        "- $W=$ test statistic\n",
        "\n",
        "- N_r = sample size, excluding pairs where $x 1=x 2$\n",
        "\n",
        "- sgn = sign function\n",
        "\n",
        "- $x_{-} 1, i, x_{-} 2, i=$ corresponding ranked pairs from two distributions\n",
        "\n",
        "- $R_{-} i=\\operatorname{rank} \\mathrm{i}$"
      ]
    },
    {
      "cell_type": "code",
      "execution_count": null,
      "metadata": {
        "id": "Gb4l8z4oxEVd"
      },
      "outputs": [],
      "source": [
        "print(statistics_api.wilcoxon_signed_rank_test(session,  series_1_id, series_2_id, alternative, type_ranking))"
      ]
    },
    {
      "cell_type": "markdown",
      "metadata": {
        "id": "2Hj8wd-ixIu4"
      },
      "source": [
        "# Running all function together"
      ]
    },
    {
      "cell_type": "code",
      "execution_count": null,
      "metadata": {
        "id": "drABnDEsqkqK",
        "outputId": "142aadcc-55b1-4f44-a236-099f0fd52372"
      },
      "outputs": [
        {
          "name": "stdout",
          "output_type": "stream",
          "text": [
            "{'count': 20}\n",
            "{'mean': 22.76433814224586}\n",
            "{'chisquare': [380.0, 0.23583148842099294]}\n",
            "{'kolmogorov_smirnov_test': [0.95, 1.9073486328125338e-26]}\n",
            "{'kurtosis': -1.225866948308427}\n",
            "{'f_statistic': 0.003760306204864892, 'p_value': 0.9514246952891092}\n",
            "{'w_statistic': 180.0, 'p_value': 0.5978625674290079}\n",
            "{'min': 11.76951154694196, 'max': 30.172100539128525}\n",
            "{'t_statistic': -3.842534659324879, 'p_value': 0.00027445641167562454}\n",
            "{'pearson': 0.9332515128886971, 'p_value': 1.9573960230445664e-09}\n",
            "{'skewness': -0.08041628194553505}\n",
            "{'spearman': 0.9505828978811472, 'p_value': 1.394346860195128e-10}\n",
            "{'t_statistic': -0.999458438479299, 'p_value': 0.08097370675497725}\n",
            "{'variance': 28.617281263722433}\n",
            "{'t_statistic': -0.9994584384792992, 'p_value': 0.08097675209806848}\n",
            "{'w_statistic': 0.9505828978811472, 'p_value': 1.394346860195128e-10}\n",
            "{'w_statistic': 0.9505828978811472, 'p_value': 1.394346860195128e-10}\n"
          ]
        }
      ],
      "source": [
        "from smart_broker_api import statistics_api\n",
        "\n",
        "type_distribution=\"normalunit\"\n",
        "type_ranking=\"cdf\"\n",
        "alternative = \"two-sided\"\n",
        "print(statistics_api.count(session,  series_1_id))\n",
        "print(statistics_api.mean(session,  series_1_id))\n",
        "print(statistics_api.chisquare(session,  series_1_id, series_2_id))\n",
        "print(statistics_api.kolmogorovSmirnovTest(session,  series_1_id, type_distribution, type_ranking))\n",
        "print(statistics_api.kurtosis(session,  series_1_id))\n",
        "print(statistics_api.levene_test(session,  series_1_id, series_2_id))\n",
        "print(statistics_api.mann_whitney_u_test(session,  series_1_id, series_2_id, alternative, type_ranking))\n",
        "print(statistics_api.min_max(session,  series_1_id))\n",
        "print(statistics_api.paired_t_test(session,  series_1_id, series_2_id, alternative))\n",
        "print(statistics_api.pearson(session,  series_1_id, series_2_id, alternative))\n",
        "print(statistics_api.skewness(session,  series_1_id))\n",
        "print(statistics_api.spearman(session,  series_1_id, series_2_id, alternative, type_ranking))\n",
        "print(statistics_api.student_t_test(session,  series_1_id, series_2_id, alternative))\n",
        "print(statistics_api.variance(session,  series_1_id))\n",
        "print(statistics_api.welch_t_test(session,  series_1_id, series_2_id, alternative))\n",
        "print(statistics_api.wilcoxon_signed_rank_test(session,  series_1_id, series_2_id, alternative, type_ranking))\n",
        "print(statistics_api.wilcoxon_signed_rank_test(session,  series_1_id, series_2_id, alternative, type_ranking))"
      ]
    },
    {
      "cell_type": "markdown",
      "metadata": {
        "id": "1Tefq50GqkqL"
      },
      "source": [
        "#### 3.5.2 Data Visualisation\n",
        "\n",
        "We can also perform visualisation funcitons on our series level data. We'll now go over two visualisation functions which can be performed; histogram and kernel density estimation.\n",
        "\n",
        "##### 3.5.2.1 Histogram\n",
        "\n",
        "To generate a histogram from a series, we employ the <code>visualization_api</code> component of the orchestrator client. When using the <code>histogram</code> function we supply two parameters:\n",
        "\n",
        "- The <code>id</code> of the series in question\n",
        "- <code>bin_count</code>; the number of bins we'd like to sort our data into\n",
        "\n",
        "We recieve a <code>dict</code> back from the client containing multiple entries. To create the visualisation we must query for the 'figure' key and supply this to <code>plotly</code> as shown below."
      ]
    },
    {
      "cell_type": "code",
      "execution_count": null,
      "metadata": {
        "id": "mhJIrn3BqkqL",
        "outputId": "1d9448a1-2899-4552-a098-4ab7ba3ed65d"
      },
      "outputs": [
        {
          "data": {
            "application/vnd.plotly.v1+json": {
              "config": {
                "plotlyServerURL": "https://plot.ly"
              },
              "data": [
                {
                  "alignmentgroup": "True",
                  "bingroup": "x",
                  "hovertemplate": "variable=0<br>value=%{x}<br>count=%{y}<extra></extra>",
                  "legendgroup": "0",
                  "marker": {
                    "color": "#636efa",
                    "pattern": {
                      "shape": ""
                    }
                  },
                  "name": "0",
                  "nbinsx": 20,
                  "offsetgroup": "0",
                  "orientation": "v",
                  "showlegend": true,
                  "type": "histogram",
                  "x": [
                    30.09579923988839,
                    29.435359597700078,
                    16.32648114674164,
                    20.068700736700052,
                    24.839296378896947,
                    27.831524855627176,
                    13.191912191736765,
                    18.525580056901987,
                    22.12142161608569,
                    27.71956696603433,
                    18.598758084216097,
                    29.051242656199765,
                    29.322578742343122,
                    14.830028026936311,
                    20.75641241204263,
                    22.9950964963041,
                    22.341160366997187,
                    28.860474997107282,
                    18.10088929395246,
                    20.2744789825052
                  ],
                  "xaxis": "x",
                  "yaxis": "y"
                }
              ],
              "layout": {
                "barmode": "relative",
                "legend": {
                  "title": {
                    "text": "variable"
                  },
                  "tracegroupgap": 0
                },
                "margin": {
                  "t": 60
                },
                "template": {
                  "data": {
                    "bar": [
                      {
                        "error_x": {
                          "color": "#2a3f5f"
                        },
                        "error_y": {
                          "color": "#2a3f5f"
                        },
                        "marker": {
                          "line": {
                            "color": "#E5ECF6",
                            "width": 0.5
                          },
                          "pattern": {
                            "fillmode": "overlay",
                            "size": 10,
                            "solidity": 0.2
                          }
                        },
                        "type": "bar"
                      }
                    ],
                    "barpolar": [
                      {
                        "marker": {
                          "line": {
                            "color": "#E5ECF6",
                            "width": 0.5
                          },
                          "pattern": {
                            "fillmode": "overlay",
                            "size": 10,
                            "solidity": 0.2
                          }
                        },
                        "type": "barpolar"
                      }
                    ],
                    "carpet": [
                      {
                        "aaxis": {
                          "endlinecolor": "#2a3f5f",
                          "gridcolor": "white",
                          "linecolor": "white",
                          "minorgridcolor": "white",
                          "startlinecolor": "#2a3f5f"
                        },
                        "baxis": {
                          "endlinecolor": "#2a3f5f",
                          "gridcolor": "white",
                          "linecolor": "white",
                          "minorgridcolor": "white",
                          "startlinecolor": "#2a3f5f"
                        },
                        "type": "carpet"
                      }
                    ],
                    "choropleth": [
                      {
                        "colorbar": {
                          "outlinewidth": 0,
                          "ticks": ""
                        },
                        "type": "choropleth"
                      }
                    ],
                    "contour": [
                      {
                        "colorbar": {
                          "outlinewidth": 0,
                          "ticks": ""
                        },
                        "colorscale": [
                          [
                            0,
                            "#0d0887"
                          ],
                          [
                            0.1111111111111111,
                            "#46039f"
                          ],
                          [
                            0.2222222222222222,
                            "#7201a8"
                          ],
                          [
                            0.3333333333333333,
                            "#9c179e"
                          ],
                          [
                            0.4444444444444444,
                            "#bd3786"
                          ],
                          [
                            0.5555555555555556,
                            "#d8576b"
                          ],
                          [
                            0.6666666666666666,
                            "#ed7953"
                          ],
                          [
                            0.7777777777777778,
                            "#fb9f3a"
                          ],
                          [
                            0.8888888888888888,
                            "#fdca26"
                          ],
                          [
                            1,
                            "#f0f921"
                          ]
                        ],
                        "type": "contour"
                      }
                    ],
                    "contourcarpet": [
                      {
                        "colorbar": {
                          "outlinewidth": 0,
                          "ticks": ""
                        },
                        "type": "contourcarpet"
                      }
                    ],
                    "heatmap": [
                      {
                        "colorbar": {
                          "outlinewidth": 0,
                          "ticks": ""
                        },
                        "colorscale": [
                          [
                            0,
                            "#0d0887"
                          ],
                          [
                            0.1111111111111111,
                            "#46039f"
                          ],
                          [
                            0.2222222222222222,
                            "#7201a8"
                          ],
                          [
                            0.3333333333333333,
                            "#9c179e"
                          ],
                          [
                            0.4444444444444444,
                            "#bd3786"
                          ],
                          [
                            0.5555555555555556,
                            "#d8576b"
                          ],
                          [
                            0.6666666666666666,
                            "#ed7953"
                          ],
                          [
                            0.7777777777777778,
                            "#fb9f3a"
                          ],
                          [
                            0.8888888888888888,
                            "#fdca26"
                          ],
                          [
                            1,
                            "#f0f921"
                          ]
                        ],
                        "type": "heatmap"
                      }
                    ],
                    "heatmapgl": [
                      {
                        "colorbar": {
                          "outlinewidth": 0,
                          "ticks": ""
                        },
                        "colorscale": [
                          [
                            0,
                            "#0d0887"
                          ],
                          [
                            0.1111111111111111,
                            "#46039f"
                          ],
                          [
                            0.2222222222222222,
                            "#7201a8"
                          ],
                          [
                            0.3333333333333333,
                            "#9c179e"
                          ],
                          [
                            0.4444444444444444,
                            "#bd3786"
                          ],
                          [
                            0.5555555555555556,
                            "#d8576b"
                          ],
                          [
                            0.6666666666666666,
                            "#ed7953"
                          ],
                          [
                            0.7777777777777778,
                            "#fb9f3a"
                          ],
                          [
                            0.8888888888888888,
                            "#fdca26"
                          ],
                          [
                            1,
                            "#f0f921"
                          ]
                        ],
                        "type": "heatmapgl"
                      }
                    ],
                    "histogram": [
                      {
                        "marker": {
                          "pattern": {
                            "fillmode": "overlay",
                            "size": 10,
                            "solidity": 0.2
                          }
                        },
                        "type": "histogram"
                      }
                    ],
                    "histogram2d": [
                      {
                        "colorbar": {
                          "outlinewidth": 0,
                          "ticks": ""
                        },
                        "colorscale": [
                          [
                            0,
                            "#0d0887"
                          ],
                          [
                            0.1111111111111111,
                            "#46039f"
                          ],
                          [
                            0.2222222222222222,
                            "#7201a8"
                          ],
                          [
                            0.3333333333333333,
                            "#9c179e"
                          ],
                          [
                            0.4444444444444444,
                            "#bd3786"
                          ],
                          [
                            0.5555555555555556,
                            "#d8576b"
                          ],
                          [
                            0.6666666666666666,
                            "#ed7953"
                          ],
                          [
                            0.7777777777777778,
                            "#fb9f3a"
                          ],
                          [
                            0.8888888888888888,
                            "#fdca26"
                          ],
                          [
                            1,
                            "#f0f921"
                          ]
                        ],
                        "type": "histogram2d"
                      }
                    ],
                    "histogram2dcontour": [
                      {
                        "colorbar": {
                          "outlinewidth": 0,
                          "ticks": ""
                        },
                        "colorscale": [
                          [
                            0,
                            "#0d0887"
                          ],
                          [
                            0.1111111111111111,
                            "#46039f"
                          ],
                          [
                            0.2222222222222222,
                            "#7201a8"
                          ],
                          [
                            0.3333333333333333,
                            "#9c179e"
                          ],
                          [
                            0.4444444444444444,
                            "#bd3786"
                          ],
                          [
                            0.5555555555555556,
                            "#d8576b"
                          ],
                          [
                            0.6666666666666666,
                            "#ed7953"
                          ],
                          [
                            0.7777777777777778,
                            "#fb9f3a"
                          ],
                          [
                            0.8888888888888888,
                            "#fdca26"
                          ],
                          [
                            1,
                            "#f0f921"
                          ]
                        ],
                        "type": "histogram2dcontour"
                      }
                    ],
                    "mesh3d": [
                      {
                        "colorbar": {
                          "outlinewidth": 0,
                          "ticks": ""
                        },
                        "type": "mesh3d"
                      }
                    ],
                    "parcoords": [
                      {
                        "line": {
                          "colorbar": {
                            "outlinewidth": 0,
                            "ticks": ""
                          }
                        },
                        "type": "parcoords"
                      }
                    ],
                    "pie": [
                      {
                        "automargin": true,
                        "type": "pie"
                      }
                    ],
                    "scatter": [
                      {
                        "fillpattern": {
                          "fillmode": "overlay",
                          "size": 10,
                          "solidity": 0.2
                        },
                        "type": "scatter"
                      }
                    ],
                    "scatter3d": [
                      {
                        "line": {
                          "colorbar": {
                            "outlinewidth": 0,
                            "ticks": ""
                          }
                        },
                        "marker": {
                          "colorbar": {
                            "outlinewidth": 0,
                            "ticks": ""
                          }
                        },
                        "type": "scatter3d"
                      }
                    ],
                    "scattercarpet": [
                      {
                        "marker": {
                          "colorbar": {
                            "outlinewidth": 0,
                            "ticks": ""
                          }
                        },
                        "type": "scattercarpet"
                      }
                    ],
                    "scattergeo": [
                      {
                        "marker": {
                          "colorbar": {
                            "outlinewidth": 0,
                            "ticks": ""
                          }
                        },
                        "type": "scattergeo"
                      }
                    ],
                    "scattergl": [
                      {
                        "marker": {
                          "colorbar": {
                            "outlinewidth": 0,
                            "ticks": ""
                          }
                        },
                        "type": "scattergl"
                      }
                    ],
                    "scattermapbox": [
                      {
                        "marker": {
                          "colorbar": {
                            "outlinewidth": 0,
                            "ticks": ""
                          }
                        },
                        "type": "scattermapbox"
                      }
                    ],
                    "scatterpolar": [
                      {
                        "marker": {
                          "colorbar": {
                            "outlinewidth": 0,
                            "ticks": ""
                          }
                        },
                        "type": "scatterpolar"
                      }
                    ],
                    "scatterpolargl": [
                      {
                        "marker": {
                          "colorbar": {
                            "outlinewidth": 0,
                            "ticks": ""
                          }
                        },
                        "type": "scatterpolargl"
                      }
                    ],
                    "scatterternary": [
                      {
                        "marker": {
                          "colorbar": {
                            "outlinewidth": 0,
                            "ticks": ""
                          }
                        },
                        "type": "scatterternary"
                      }
                    ],
                    "surface": [
                      {
                        "colorbar": {
                          "outlinewidth": 0,
                          "ticks": ""
                        },
                        "colorscale": [
                          [
                            0,
                            "#0d0887"
                          ],
                          [
                            0.1111111111111111,
                            "#46039f"
                          ],
                          [
                            0.2222222222222222,
                            "#7201a8"
                          ],
                          [
                            0.3333333333333333,
                            "#9c179e"
                          ],
                          [
                            0.4444444444444444,
                            "#bd3786"
                          ],
                          [
                            0.5555555555555556,
                            "#d8576b"
                          ],
                          [
                            0.6666666666666666,
                            "#ed7953"
                          ],
                          [
                            0.7777777777777778,
                            "#fb9f3a"
                          ],
                          [
                            0.8888888888888888,
                            "#fdca26"
                          ],
                          [
                            1,
                            "#f0f921"
                          ]
                        ],
                        "type": "surface"
                      }
                    ],
                    "table": [
                      {
                        "cells": {
                          "fill": {
                            "color": "#EBF0F8"
                          },
                          "line": {
                            "color": "white"
                          }
                        },
                        "header": {
                          "fill": {
                            "color": "#C8D4E3"
                          },
                          "line": {
                            "color": "white"
                          }
                        },
                        "type": "table"
                      }
                    ]
                  },
                  "layout": {
                    "annotationdefaults": {
                      "arrowcolor": "#2a3f5f",
                      "arrowhead": 0,
                      "arrowwidth": 1
                    },
                    "autotypenumbers": "strict",
                    "coloraxis": {
                      "colorbar": {
                        "outlinewidth": 0,
                        "ticks": ""
                      }
                    },
                    "colorscale": {
                      "diverging": [
                        [
                          0,
                          "#8e0152"
                        ],
                        [
                          0.1,
                          "#c51b7d"
                        ],
                        [
                          0.2,
                          "#de77ae"
                        ],
                        [
                          0.3,
                          "#f1b6da"
                        ],
                        [
                          0.4,
                          "#fde0ef"
                        ],
                        [
                          0.5,
                          "#f7f7f7"
                        ],
                        [
                          0.6,
                          "#e6f5d0"
                        ],
                        [
                          0.7,
                          "#b8e186"
                        ],
                        [
                          0.8,
                          "#7fbc41"
                        ],
                        [
                          0.9,
                          "#4d9221"
                        ],
                        [
                          1,
                          "#276419"
                        ]
                      ],
                      "sequential": [
                        [
                          0,
                          "#0d0887"
                        ],
                        [
                          0.1111111111111111,
                          "#46039f"
                        ],
                        [
                          0.2222222222222222,
                          "#7201a8"
                        ],
                        [
                          0.3333333333333333,
                          "#9c179e"
                        ],
                        [
                          0.4444444444444444,
                          "#bd3786"
                        ],
                        [
                          0.5555555555555556,
                          "#d8576b"
                        ],
                        [
                          0.6666666666666666,
                          "#ed7953"
                        ],
                        [
                          0.7777777777777778,
                          "#fb9f3a"
                        ],
                        [
                          0.8888888888888888,
                          "#fdca26"
                        ],
                        [
                          1,
                          "#f0f921"
                        ]
                      ],
                      "sequentialminus": [
                        [
                          0,
                          "#0d0887"
                        ],
                        [
                          0.1111111111111111,
                          "#46039f"
                        ],
                        [
                          0.2222222222222222,
                          "#7201a8"
                        ],
                        [
                          0.3333333333333333,
                          "#9c179e"
                        ],
                        [
                          0.4444444444444444,
                          "#bd3786"
                        ],
                        [
                          0.5555555555555556,
                          "#d8576b"
                        ],
                        [
                          0.6666666666666666,
                          "#ed7953"
                        ],
                        [
                          0.7777777777777778,
                          "#fb9f3a"
                        ],
                        [
                          0.8888888888888888,
                          "#fdca26"
                        ],
                        [
                          1,
                          "#f0f921"
                        ]
                      ]
                    },
                    "colorway": [
                      "#636efa",
                      "#EF553B",
                      "#00cc96",
                      "#ab63fa",
                      "#FFA15A",
                      "#19d3f3",
                      "#FF6692",
                      "#B6E880",
                      "#FF97FF",
                      "#FECB52"
                    ],
                    "font": {
                      "color": "#2a3f5f"
                    },
                    "geo": {
                      "bgcolor": "white",
                      "lakecolor": "white",
                      "landcolor": "#E5ECF6",
                      "showlakes": true,
                      "showland": true,
                      "subunitcolor": "white"
                    },
                    "hoverlabel": {
                      "align": "left"
                    },
                    "hovermode": "closest",
                    "mapbox": {
                      "style": "light"
                    },
                    "paper_bgcolor": "white",
                    "plot_bgcolor": "#E5ECF6",
                    "polar": {
                      "angularaxis": {
                        "gridcolor": "white",
                        "linecolor": "white",
                        "ticks": ""
                      },
                      "bgcolor": "#E5ECF6",
                      "radialaxis": {
                        "gridcolor": "white",
                        "linecolor": "white",
                        "ticks": ""
                      }
                    },
                    "scene": {
                      "xaxis": {
                        "backgroundcolor": "#E5ECF6",
                        "gridcolor": "white",
                        "gridwidth": 2,
                        "linecolor": "white",
                        "showbackground": true,
                        "ticks": "",
                        "zerolinecolor": "white"
                      },
                      "yaxis": {
                        "backgroundcolor": "#E5ECF6",
                        "gridcolor": "white",
                        "gridwidth": 2,
                        "linecolor": "white",
                        "showbackground": true,
                        "ticks": "",
                        "zerolinecolor": "white"
                      },
                      "zaxis": {
                        "backgroundcolor": "#E5ECF6",
                        "gridcolor": "white",
                        "gridwidth": 2,
                        "linecolor": "white",
                        "showbackground": true,
                        "ticks": "",
                        "zerolinecolor": "white"
                      }
                    },
                    "shapedefaults": {
                      "line": {
                        "color": "#2a3f5f"
                      }
                    },
                    "ternary": {
                      "aaxis": {
                        "gridcolor": "white",
                        "linecolor": "white",
                        "ticks": ""
                      },
                      "baxis": {
                        "gridcolor": "white",
                        "linecolor": "white",
                        "ticks": ""
                      },
                      "bgcolor": "#E5ECF6",
                      "caxis": {
                        "gridcolor": "white",
                        "linecolor": "white",
                        "ticks": ""
                      }
                    },
                    "title": {
                      "x": 0.05
                    },
                    "xaxis": {
                      "automargin": true,
                      "gridcolor": "white",
                      "linecolor": "white",
                      "ticks": "",
                      "title": {
                        "standoff": 15
                      },
                      "zerolinecolor": "white",
                      "zerolinewidth": 2
                    },
                    "yaxis": {
                      "automargin": true,
                      "gridcolor": "white",
                      "linecolor": "white",
                      "ticks": "",
                      "title": {
                        "standoff": 15
                      },
                      "zerolinecolor": "white",
                      "zerolinewidth": 2
                    }
                  }
                },
                "xaxis": {
                  "anchor": "y",
                  "domain": [
                    0,
                    1
                  ],
                  "title": {
                    "text": "value"
                  }
                },
                "yaxis": {
                  "anchor": "x",
                  "domain": [
                    0,
                    1
                  ],
                  "title": {
                    "text": "count"
                  }
                }
              }
            },
            "text/html": [
              "<div>                            <div id=\"f37e1d80-2665-47df-860d-236861760c1e\" class=\"plotly-graph-div\" style=\"height:525px; width:100%;\"></div>            <script type=\"text/javascript\">                require([\"plotly\"], function(Plotly) {                    window.PLOTLYENV=window.PLOTLYENV || {};                                    if (document.getElementById(\"f37e1d80-2665-47df-860d-236861760c1e\")) {                    Plotly.newPlot(                        \"f37e1d80-2665-47df-860d-236861760c1e\",                        [{\"alignmentgroup\":\"True\",\"bingroup\":\"x\",\"hovertemplate\":\"variable=0<br>value=%{x}<br>count=%{y}<extra></extra>\",\"legendgroup\":\"0\",\"marker\":{\"color\":\"#636efa\",\"pattern\":{\"shape\":\"\"}},\"name\":\"0\",\"nbinsx\":20,\"offsetgroup\":\"0\",\"orientation\":\"v\",\"showlegend\":true,\"x\":[30.09579923988839,29.435359597700078,16.32648114674164,20.068700736700052,24.839296378896947,27.831524855627176,13.191912191736765,18.525580056901987,22.12142161608569,27.71956696603433,18.598758084216097,29.051242656199765,29.322578742343122,14.830028026936311,20.75641241204263,22.9950964963041,22.341160366997187,28.860474997107282,18.10088929395246,20.2744789825052],\"xaxis\":\"x\",\"yaxis\":\"y\",\"type\":\"histogram\"}],                        {\"barmode\":\"relative\",\"legend\":{\"title\":{\"text\":\"variable\"},\"tracegroupgap\":0},\"margin\":{\"t\":60},\"template\":{\"data\":{\"barpolar\":[{\"marker\":{\"line\":{\"color\":\"#E5ECF6\",\"width\":0.5},\"pattern\":{\"fillmode\":\"overlay\",\"size\":10,\"solidity\":0.2}},\"type\":\"barpolar\"}],\"bar\":[{\"error_x\":{\"color\":\"#2a3f5f\"},\"error_y\":{\"color\":\"#2a3f5f\"},\"marker\":{\"line\":{\"color\":\"#E5ECF6\",\"width\":0.5},\"pattern\":{\"fillmode\":\"overlay\",\"size\":10,\"solidity\":0.2}},\"type\":\"bar\"}],\"carpet\":[{\"aaxis\":{\"endlinecolor\":\"#2a3f5f\",\"gridcolor\":\"white\",\"linecolor\":\"white\",\"minorgridcolor\":\"white\",\"startlinecolor\":\"#2a3f5f\"},\"baxis\":{\"endlinecolor\":\"#2a3f5f\",\"gridcolor\":\"white\",\"linecolor\":\"white\",\"minorgridcolor\":\"white\",\"startlinecolor\":\"#2a3f5f\"},\"type\":\"carpet\"}],\"choropleth\":[{\"colorbar\":{\"outlinewidth\":0,\"ticks\":\"\"},\"type\":\"choropleth\"}],\"contourcarpet\":[{\"colorbar\":{\"outlinewidth\":0,\"ticks\":\"\"},\"type\":\"contourcarpet\"}],\"contour\":[{\"colorbar\":{\"outlinewidth\":0,\"ticks\":\"\"},\"colorscale\":[[0.0,\"#0d0887\"],[0.1111111111111111,\"#46039f\"],[0.2222222222222222,\"#7201a8\"],[0.3333333333333333,\"#9c179e\"],[0.4444444444444444,\"#bd3786\"],[0.5555555555555556,\"#d8576b\"],[0.6666666666666666,\"#ed7953\"],[0.7777777777777778,\"#fb9f3a\"],[0.8888888888888888,\"#fdca26\"],[1.0,\"#f0f921\"]],\"type\":\"contour\"}],\"heatmapgl\":[{\"colorbar\":{\"outlinewidth\":0,\"ticks\":\"\"},\"colorscale\":[[0.0,\"#0d0887\"],[0.1111111111111111,\"#46039f\"],[0.2222222222222222,\"#7201a8\"],[0.3333333333333333,\"#9c179e\"],[0.4444444444444444,\"#bd3786\"],[0.5555555555555556,\"#d8576b\"],[0.6666666666666666,\"#ed7953\"],[0.7777777777777778,\"#fb9f3a\"],[0.8888888888888888,\"#fdca26\"],[1.0,\"#f0f921\"]],\"type\":\"heatmapgl\"}],\"heatmap\":[{\"colorbar\":{\"outlinewidth\":0,\"ticks\":\"\"},\"colorscale\":[[0.0,\"#0d0887\"],[0.1111111111111111,\"#46039f\"],[0.2222222222222222,\"#7201a8\"],[0.3333333333333333,\"#9c179e\"],[0.4444444444444444,\"#bd3786\"],[0.5555555555555556,\"#d8576b\"],[0.6666666666666666,\"#ed7953\"],[0.7777777777777778,\"#fb9f3a\"],[0.8888888888888888,\"#fdca26\"],[1.0,\"#f0f921\"]],\"type\":\"heatmap\"}],\"histogram2dcontour\":[{\"colorbar\":{\"outlinewidth\":0,\"ticks\":\"\"},\"colorscale\":[[0.0,\"#0d0887\"],[0.1111111111111111,\"#46039f\"],[0.2222222222222222,\"#7201a8\"],[0.3333333333333333,\"#9c179e\"],[0.4444444444444444,\"#bd3786\"],[0.5555555555555556,\"#d8576b\"],[0.6666666666666666,\"#ed7953\"],[0.7777777777777778,\"#fb9f3a\"],[0.8888888888888888,\"#fdca26\"],[1.0,\"#f0f921\"]],\"type\":\"histogram2dcontour\"}],\"histogram2d\":[{\"colorbar\":{\"outlinewidth\":0,\"ticks\":\"\"},\"colorscale\":[[0.0,\"#0d0887\"],[0.1111111111111111,\"#46039f\"],[0.2222222222222222,\"#7201a8\"],[0.3333333333333333,\"#9c179e\"],[0.4444444444444444,\"#bd3786\"],[0.5555555555555556,\"#d8576b\"],[0.6666666666666666,\"#ed7953\"],[0.7777777777777778,\"#fb9f3a\"],[0.8888888888888888,\"#fdca26\"],[1.0,\"#f0f921\"]],\"type\":\"histogram2d\"}],\"histogram\":[{\"marker\":{\"pattern\":{\"fillmode\":\"overlay\",\"size\":10,\"solidity\":0.2}},\"type\":\"histogram\"}],\"mesh3d\":[{\"colorbar\":{\"outlinewidth\":0,\"ticks\":\"\"},\"type\":\"mesh3d\"}],\"parcoords\":[{\"line\":{\"colorbar\":{\"outlinewidth\":0,\"ticks\":\"\"}},\"type\":\"parcoords\"}],\"pie\":[{\"automargin\":true,\"type\":\"pie\"}],\"scatter3d\":[{\"line\":{\"colorbar\":{\"outlinewidth\":0,\"ticks\":\"\"}},\"marker\":{\"colorbar\":{\"outlinewidth\":0,\"ticks\":\"\"}},\"type\":\"scatter3d\"}],\"scattercarpet\":[{\"marker\":{\"colorbar\":{\"outlinewidth\":0,\"ticks\":\"\"}},\"type\":\"scattercarpet\"}],\"scattergeo\":[{\"marker\":{\"colorbar\":{\"outlinewidth\":0,\"ticks\":\"\"}},\"type\":\"scattergeo\"}],\"scattergl\":[{\"marker\":{\"colorbar\":{\"outlinewidth\":0,\"ticks\":\"\"}},\"type\":\"scattergl\"}],\"scattermapbox\":[{\"marker\":{\"colorbar\":{\"outlinewidth\":0,\"ticks\":\"\"}},\"type\":\"scattermapbox\"}],\"scatterpolargl\":[{\"marker\":{\"colorbar\":{\"outlinewidth\":0,\"ticks\":\"\"}},\"type\":\"scatterpolargl\"}],\"scatterpolar\":[{\"marker\":{\"colorbar\":{\"outlinewidth\":0,\"ticks\":\"\"}},\"type\":\"scatterpolar\"}],\"scatter\":[{\"fillpattern\":{\"fillmode\":\"overlay\",\"size\":10,\"solidity\":0.2},\"type\":\"scatter\"}],\"scatterternary\":[{\"marker\":{\"colorbar\":{\"outlinewidth\":0,\"ticks\":\"\"}},\"type\":\"scatterternary\"}],\"surface\":[{\"colorbar\":{\"outlinewidth\":0,\"ticks\":\"\"},\"colorscale\":[[0.0,\"#0d0887\"],[0.1111111111111111,\"#46039f\"],[0.2222222222222222,\"#7201a8\"],[0.3333333333333333,\"#9c179e\"],[0.4444444444444444,\"#bd3786\"],[0.5555555555555556,\"#d8576b\"],[0.6666666666666666,\"#ed7953\"],[0.7777777777777778,\"#fb9f3a\"],[0.8888888888888888,\"#fdca26\"],[1.0,\"#f0f921\"]],\"type\":\"surface\"}],\"table\":[{\"cells\":{\"fill\":{\"color\":\"#EBF0F8\"},\"line\":{\"color\":\"white\"}},\"header\":{\"fill\":{\"color\":\"#C8D4E3\"},\"line\":{\"color\":\"white\"}},\"type\":\"table\"}]},\"layout\":{\"annotationdefaults\":{\"arrowcolor\":\"#2a3f5f\",\"arrowhead\":0,\"arrowwidth\":1},\"autotypenumbers\":\"strict\",\"coloraxis\":{\"colorbar\":{\"outlinewidth\":0,\"ticks\":\"\"}},\"colorscale\":{\"diverging\":[[0,\"#8e0152\"],[0.1,\"#c51b7d\"],[0.2,\"#de77ae\"],[0.3,\"#f1b6da\"],[0.4,\"#fde0ef\"],[0.5,\"#f7f7f7\"],[0.6,\"#e6f5d0\"],[0.7,\"#b8e186\"],[0.8,\"#7fbc41\"],[0.9,\"#4d9221\"],[1,\"#276419\"]],\"sequential\":[[0.0,\"#0d0887\"],[0.1111111111111111,\"#46039f\"],[0.2222222222222222,\"#7201a8\"],[0.3333333333333333,\"#9c179e\"],[0.4444444444444444,\"#bd3786\"],[0.5555555555555556,\"#d8576b\"],[0.6666666666666666,\"#ed7953\"],[0.7777777777777778,\"#fb9f3a\"],[0.8888888888888888,\"#fdca26\"],[1.0,\"#f0f921\"]],\"sequentialminus\":[[0.0,\"#0d0887\"],[0.1111111111111111,\"#46039f\"],[0.2222222222222222,\"#7201a8\"],[0.3333333333333333,\"#9c179e\"],[0.4444444444444444,\"#bd3786\"],[0.5555555555555556,\"#d8576b\"],[0.6666666666666666,\"#ed7953\"],[0.7777777777777778,\"#fb9f3a\"],[0.8888888888888888,\"#fdca26\"],[1.0,\"#f0f921\"]]},\"colorway\":[\"#636efa\",\"#EF553B\",\"#00cc96\",\"#ab63fa\",\"#FFA15A\",\"#19d3f3\",\"#FF6692\",\"#B6E880\",\"#FF97FF\",\"#FECB52\"],\"font\":{\"color\":\"#2a3f5f\"},\"geo\":{\"bgcolor\":\"white\",\"lakecolor\":\"white\",\"landcolor\":\"#E5ECF6\",\"showlakes\":true,\"showland\":true,\"subunitcolor\":\"white\"},\"hoverlabel\":{\"align\":\"left\"},\"hovermode\":\"closest\",\"mapbox\":{\"style\":\"light\"},\"paper_bgcolor\":\"white\",\"plot_bgcolor\":\"#E5ECF6\",\"polar\":{\"angularaxis\":{\"gridcolor\":\"white\",\"linecolor\":\"white\",\"ticks\":\"\"},\"bgcolor\":\"#E5ECF6\",\"radialaxis\":{\"gridcolor\":\"white\",\"linecolor\":\"white\",\"ticks\":\"\"}},\"scene\":{\"xaxis\":{\"backgroundcolor\":\"#E5ECF6\",\"gridcolor\":\"white\",\"gridwidth\":2,\"linecolor\":\"white\",\"showbackground\":true,\"ticks\":\"\",\"zerolinecolor\":\"white\"},\"yaxis\":{\"backgroundcolor\":\"#E5ECF6\",\"gridcolor\":\"white\",\"gridwidth\":2,\"linecolor\":\"white\",\"showbackground\":true,\"ticks\":\"\",\"zerolinecolor\":\"white\"},\"zaxis\":{\"backgroundcolor\":\"#E5ECF6\",\"gridcolor\":\"white\",\"gridwidth\":2,\"linecolor\":\"white\",\"showbackground\":true,\"ticks\":\"\",\"zerolinecolor\":\"white\"}},\"shapedefaults\":{\"line\":{\"color\":\"#2a3f5f\"}},\"ternary\":{\"aaxis\":{\"gridcolor\":\"white\",\"linecolor\":\"white\",\"ticks\":\"\"},\"baxis\":{\"gridcolor\":\"white\",\"linecolor\":\"white\",\"ticks\":\"\"},\"bgcolor\":\"#E5ECF6\",\"caxis\":{\"gridcolor\":\"white\",\"linecolor\":\"white\",\"ticks\":\"\"}},\"title\":{\"x\":0.05},\"xaxis\":{\"automargin\":true,\"gridcolor\":\"white\",\"linecolor\":\"white\",\"ticks\":\"\",\"title\":{\"standoff\":15},\"zerolinecolor\":\"white\",\"zerolinewidth\":2},\"yaxis\":{\"automargin\":true,\"gridcolor\":\"white\",\"linecolor\":\"white\",\"ticks\":\"\",\"title\":{\"standoff\":15},\"zerolinecolor\":\"white\",\"zerolinewidth\":2}}},\"xaxis\":{\"anchor\":\"y\",\"domain\":[0.0,1.0],\"title\":{\"text\":\"value\"}},\"yaxis\":{\"anchor\":\"x\",\"domain\":[0.0,1.0],\"title\":{\"text\":\"count\"}}},                        {\"responsive\": true}                    ).then(function(){\n",
              "                            \n",
              "var gd = document.getElementById('f37e1d80-2665-47df-860d-236861760c1e');\n",
              "var x = new MutationObserver(function (mutations, observer) {{\n",
              "        var display = window.getComputedStyle(gd).display;\n",
              "        if (!display || display === 'none') {{\n",
              "            console.log([gd, 'removed!']);\n",
              "            Plotly.purge(gd);\n",
              "            observer.disconnect();\n",
              "        }}\n",
              "}});\n",
              "\n",
              "// Listen for the removal of the full notebook cells\n",
              "var notebookContainer = gd.closest('#notebook-container');\n",
              "if (notebookContainer) {{\n",
              "    x.observe(notebookContainer, {childList: true});\n",
              "}}\n",
              "\n",
              "// Listen for the clearing of the current output cell\n",
              "var outputEl = gd.closest('.output');\n",
              "if (outputEl) {{\n",
              "    x.observe(outputEl, {childList: true});\n",
              "}}\n",
              "\n",
              "                        })                };                });            </script>        </div>"
            ]
          },
          "metadata": {},
          "output_type": "display_data"
        }
      ],
      "source": [
        "from smart_broker_api import visualization_api\n",
        "import plotly.graph_objects as go\n",
        "\n",
        "dict_of_fig = visualization_api.histogram(session, series_1_id, 20)\n",
        "fig = go.Figure(dict_of_fig[\"figure\"])\n",
        "fig.show()\n",
        "\n",
        "# TODO: This is ugly UX. Researcher shouldn't have to fish out 'figure' from the json\n",
        "# Why aren't all steps held inside the client? ADD TO TECH DEBT"
      ]
    },
    {
      "cell_type": "markdown",
      "metadata": {
        "id": "BtYyi_qVqkqL"
      },
      "source": [
        "\n",
        "##### 3.5.2.1 Kernel Density Estimation\n",
        "\n",
        "To generate a Kernel Density Estimation from a series, we employ the <code>visualization_api</code> component of the orchestrator client. When using the <code>kernel_density_estimation</code> function, we supply two parameters:\n",
        "\n",
        "- The <code>id</code> of the series in question\n",
        "- <code>bin_size</code>; the width of bins we'd like to sort our data into\n",
        "\n",
        "We receive a <code>dict</code> back from the client containing multiple entries. To create the visualisation we must query the <code>'figure'</code> key from the result and supply this to <code>plotly</code> as shown below."
      ]
    },
    {
      "cell_type": "code",
      "execution_count": null,
      "metadata": {
        "id": "xYd7crNfqkqM",
        "outputId": "8ba31d3e-f4c4-43d4-efc2-833e0d28d8db"
      },
      "outputs": [
        {
          "data": {
            "application/vnd.plotly.v1+json": {
              "config": {
                "plotlyServerURL": "https://plot.ly"
              },
              "data": [
                {
                  "autobinx": false,
                  "histnorm": "probability density",
                  "legendgroup": "bmi_mean",
                  "marker": {
                    "color": "rgb(31, 119, 180)"
                  },
                  "name": "bmi_mean",
                  "opacity": 0.7,
                  "type": "histogram",
                  "x": [
                    30.09579923988839,
                    29.435359597700078,
                    16.32648114674164,
                    20.068700736700052,
                    24.839296378896947,
                    27.831524855627176,
                    13.191912191736765,
                    18.525580056901987,
                    22.12142161608569,
                    27.71956696603433,
                    18.598758084216097,
                    29.051242656199765,
                    29.322578742343122,
                    14.830028026936311,
                    20.75641241204263,
                    22.9950964963041,
                    22.341160366997187,
                    28.860474997107282,
                    18.10088929395246,
                    20.2744789825052
                  ],
                  "xaxis": "x",
                  "xbins": {
                    "end": 30.09579923988839,
                    "size": 2,
                    "start": 13.191912191736765
                  },
                  "yaxis": "y"
                },
                {
                  "legendgroup": "bmi_mean",
                  "marker": {
                    "color": "rgb(31, 119, 180)"
                  },
                  "mode": "lines",
                  "name": "bmi_mean",
                  "showlegend": false,
                  "type": "scatter",
                  "x": [
                    13.191912191736765,
                    13.225719965833068,
                    13.259527739929371,
                    13.293335514025674,
                    13.32714328812198,
                    13.360951062218282,
                    13.394758836314585,
                    13.428566610410888,
                    13.462374384507191,
                    13.496182158603494,
                    13.529989932699799,
                    13.563797706796102,
                    13.597605480892405,
                    13.631413254988708,
                    13.66522102908501,
                    13.699028803181314,
                    13.732836577277617,
                    13.766644351373921,
                    13.800452125470224,
                    13.834259899566527,
                    13.86806767366283,
                    13.901875447759133,
                    13.935683221855436,
                    13.969490995951741,
                    14.003298770048044,
                    14.037106544144347,
                    14.07091431824065,
                    14.104722092336953,
                    14.138529866433256,
                    14.172337640529559,
                    14.206145414625862,
                    14.239953188722167,
                    14.27376096281847,
                    14.307568736914773,
                    14.341376511011076,
                    14.375184285107379,
                    14.408992059203683,
                    14.442799833299986,
                    14.47660760739629,
                    14.510415381492592,
                    14.544223155588895,
                    14.578030929685198,
                    14.611838703781501,
                    14.645646477877806,
                    14.679454251974109,
                    14.713262026070412,
                    14.747069800166715,
                    14.780877574263018,
                    14.81468534835932,
                    14.848493122455626,
                    14.882300896551929,
                    14.916108670648232,
                    14.949916444744535,
                    14.983724218840837,
                    15.01753199293714,
                    15.051339767033443,
                    15.085147541129746,
                    15.118955315226051,
                    15.152763089322354,
                    15.186570863418657,
                    15.22037863751496,
                    15.254186411611263,
                    15.287994185707566,
                    15.32180195980387,
                    15.355609733900174,
                    15.389417507996477,
                    15.42322528209278,
                    15.457033056189083,
                    15.490840830285386,
                    15.524648604381689,
                    15.558456378477992,
                    15.592264152574296,
                    15.6260719266706,
                    15.659879700766902,
                    15.693687474863205,
                    15.72749524895951,
                    15.761303023055813,
                    15.795110797152116,
                    15.828918571248419,
                    15.862726345344722,
                    15.896534119441025,
                    15.930341893537328,
                    15.964149667633631,
                    15.997957441729936,
                    16.031765215826237,
                    16.06557298992254,
                    16.099380764018846,
                    16.13318853811515,
                    16.166996312211452,
                    16.200804086307755,
                    16.23461186040406,
                    16.26841963450036,
                    16.302227408596664,
                    16.336035182692967,
                    16.36984295678927,
                    16.403650730885573,
                    16.437458504981876,
                    16.47126627907818,
                    16.505074053174482,
                    16.538881827270785,
                    16.572689601367088,
                    16.606497375463395,
                    16.640305149559698,
                    16.674112923656,
                    16.707920697752304,
                    16.741728471848607,
                    16.77553624594491,
                    16.809344020041213,
                    16.843151794137516,
                    16.87695956823382,
                    16.91076734233012,
                    16.944575116426424,
                    16.97838289052273,
                    17.012190664619034,
                    17.045998438715337,
                    17.07980621281164,
                    17.113613986907943,
                    17.147421761004246,
                    17.18122953510055,
                    17.215037309196852,
                    17.248845083293155,
                    17.282652857389458,
                    17.31646063148576,
                    17.350268405582064,
                    17.384076179678367,
                    17.41788395377467,
                    17.451691727870976,
                    17.485499501967276,
                    17.519307276063582,
                    17.553115050159885,
                    17.586922824256188,
                    17.62073059835249,
                    17.654538372448794,
                    17.688346146545097,
                    17.7221539206414,
                    17.755961694737703,
                    17.789769468834006,
                    17.823577242930313,
                    17.857385017026616,
                    17.89119279112292,
                    17.92500056521922,
                    17.958808339315524,
                    17.992616113411827,
                    18.02642388750813,
                    18.060231661604433,
                    18.094039435700736,
                    18.12784720979704,
                    18.161654983893342,
                    18.195462757989645,
                    18.22927053208595,
                    18.26307830618225,
                    18.296886080278554,
                    18.330693854374857,
                    18.364501628471164,
                    18.398309402567463,
                    18.43211717666377,
                    18.465924950760073,
                    18.499732724856376,
                    18.53354049895268,
                    18.56734827304898,
                    18.601156047145285,
                    18.634963821241588,
                    18.66877159533789,
                    18.702579369434197,
                    18.7363871435305,
                    18.770194917626803,
                    18.804002691723106,
                    18.83781046581941,
                    18.871618239915712,
                    18.905426014012015,
                    18.939233788108318,
                    18.97304156220462,
                    19.006849336300924,
                    19.040657110397227,
                    19.07446488449353,
                    19.108272658589833,
                    19.142080432686136,
                    19.17588820678244,
                    19.209695980878745,
                    19.243503754975045,
                    19.27731152907135,
                    19.311119303167654,
                    19.344927077263957,
                    19.37873485136026,
                    19.412542625456563,
                    19.446350399552866,
                    19.48015817364917,
                    19.513965947745472,
                    19.547773721841775,
                    19.581581495938078,
                    19.615389270034385,
                    19.649197044130688,
                    19.68300481822699,
                    19.716812592323294,
                    19.750620366419597,
                    19.7844281405159,
                    19.818235914612202,
                    19.852043688708505,
                    19.88585146280481,
                    19.91965923690111,
                    19.953467010997414,
                    19.987274785093717,
                    20.02108255919002,
                    20.054890333286323,
                    20.088698107382626,
                    20.122505881478933,
                    20.156313655575232,
                    20.19012142967154,
                    20.22392920376784,
                    20.257736977864145,
                    20.291544751960448,
                    20.32535252605675,
                    20.359160300153054,
                    20.392968074249357,
                    20.42677584834566,
                    20.460583622441963,
                    20.49439139653827,
                    20.528199170634572,
                    20.562006944730875,
                    20.595814718827178,
                    20.62962249292348,
                    20.663430267019784,
                    20.697238041116087,
                    20.73104581521239,
                    20.764853589308693,
                    20.798661363404996,
                    20.8324691375013,
                    20.866276911597602,
                    20.900084685693905,
                    20.933892459790208,
                    20.96770023388651,
                    21.001508007982814,
                    21.03531578207912,
                    21.069123556175423,
                    21.102931330271726,
                    21.13673910436803,
                    21.170546878464332,
                    21.204354652560635,
                    21.238162426656938,
                    21.271970200753245,
                    21.305777974849544,
                    21.33958574894585,
                    21.373393523042154,
                    21.407201297138457,
                    21.44100907123476,
                    21.474816845331063,
                    21.508624619427366,
                    21.54243239352367,
                    21.57624016761997,
                    21.610047941716275,
                    21.643855715812578,
                    21.67766348990888,
                    21.711471264005183,
                    21.745279038101486,
                    21.77908681219779,
                    21.812894586294092,
                    21.846702360390395,
                    21.8805101344867,
                    21.914317908583005,
                    21.948125682679308,
                    21.981933456775607,
                    22.01574123087191,
                    22.049549004968217,
                    22.08335677906452,
                    22.117164553160823,
                    22.15097232725713,
                    22.18478010135343,
                    22.21858787544973,
                    22.252395649546038,
                    22.28620342364234,
                    22.320011197738644,
                    22.353818971834947,
                    22.38762674593125,
                    22.421434520027553,
                    22.455242294123856,
                    22.48905006822016,
                    22.522857842316462,
                    22.556665616412765,
                    22.590473390509068,
                    22.62428116460537,
                    22.658088938701674,
                    22.691896712797977,
                    22.72570448689428,
                    22.759512260990583,
                    22.793320035086886,
                    22.82712780918319,
                    22.860935583279492,
                    22.8947433573758,
                    22.9285511314721,
                    22.962358905568404,
                    22.996166679664707,
                    23.02997445376101,
                    23.063782227857313,
                    23.09759000195362,
                    23.131397776049923,
                    23.165205550146226,
                    23.19901332424253,
                    23.23282109833883,
                    23.266628872435135,
                    23.300436646531438,
                    23.33424442062774,
                    23.368052194724044,
                    23.401859968820347,
                    23.43566774291665,
                    23.469475517012953,
                    23.503283291109256,
                    23.53709106520556,
                    23.57089883930186,
                    23.604706613398164,
                    23.638514387494467,
                    23.67232216159077,
                    23.706129935687073,
                    23.73993770978338,
                    23.773745483879683,
                    23.807553257975982,
                    23.84136103207229,
                    23.875168806168592,
                    23.908976580264895,
                    23.9427843543612,
                    23.976592128457504,
                    24.010399902553807,
                    24.044207676650107,
                    24.078015450746413,
                    24.111823224842716,
                    24.14563099893902,
                    24.179438773035322,
                    24.213246547131625,
                    24.247054321227928,
                    24.28086209532423,
                    24.314669869420534,
                    24.348477643516837,
                    24.38228541761314,
                    24.416093191709443,
                    24.449900965805746,
                    24.48370873990205,
                    24.517516513998352,
                    24.551324288094655,
                    24.58513206219096,
                    24.618939836287264,
                    24.652747610383564,
                    24.686555384479867,
                    24.720363158576173,
                    24.754170932672476,
                    24.78797870676878,
                    24.821786480865086,
                    24.855594254961385,
                    24.88940202905769,
                    24.923209803153995,
                    24.957017577250298,
                    24.9908253513466,
                    25.024633125442904,
                    25.058440899539207,
                    25.09224867363551,
                    25.126056447731813,
                    25.159864221828116,
                    25.19367199592442,
                    25.22747977002072,
                    25.261287544117025,
                    25.295095318213328,
                    25.32890309230963,
                    25.362710866405934,
                    25.396518640502237,
                    25.43032641459854,
                    25.464134188694842,
                    25.497941962791145,
                    25.53174973688745,
                    25.565557510983755,
                    25.599365285080058,
                    25.63317305917636,
                    25.666980833272664,
                    25.700788607368967,
                    25.73459638146527,
                    25.768404155561576,
                    25.80221192965788,
                    25.836019703754182,
                    25.869827477850485,
                    25.90363525194679,
                    25.93744302604309,
                    25.971250800139394,
                    26.005058574235697,
                    26.038866348332,
                    26.072674122428303,
                    26.106481896524606,
                    26.14028967062091,
                    26.174097444717212,
                    26.207905218813515,
                    26.241712992909818,
                    26.27552076700612,
                    26.309328541102424,
                    26.343136315198727,
                    26.37694408929503,
                    26.410751863391337,
                    26.44455963748764,
                    26.478367411583942,
                    26.512175185680245,
                    26.54598295977655,
                    26.57979073387285,
                    26.613598507969154,
                    26.64740628206546,
                    26.681214056161764,
                    26.715021830258063,
                    26.74882960435437,
                    26.782637378450673,
                    26.816445152546976,
                    26.85025292664328,
                    26.88406070073958,
                    26.917868474835885,
                    26.951676248932188,
                    26.98548402302849,
                    27.019291797124794,
                    27.053099571221097,
                    27.0869073453174,
                    27.120715119413703,
                    27.154522893510006,
                    27.18833066760631,
                    27.22213844170261,
                    27.255946215798915,
                    27.28975398989522,
                    27.32356176399152,
                    27.357369538087823,
                    27.39117731218413,
                    27.424985086280433,
                    27.458792860376736,
                    27.492600634473042,
                    27.526408408569342,
                    27.560216182665645,
                    27.59402395676195,
                    27.627831730858254,
                    27.661639504954557,
                    27.69544727905086,
                    27.729255053147163,
                    27.763062827243466,
                    27.79687060133977,
                    27.830678375436072,
                    27.864486149532375,
                    27.898293923628678,
                    27.93210169772498,
                    27.965909471821284,
                    27.999717245917587,
                    28.03352502001389,
                    28.067332794110193,
                    28.101140568206496,
                    28.1349483423028,
                    28.168756116399102,
                    28.202563890495405,
                    28.23637166459171,
                    28.270179438688015,
                    28.303987212784318,
                    28.33779498688062,
                    28.371602760976923,
                    28.405410535073226,
                    28.439218309169533,
                    28.473026083265836,
                    28.50683385736214,
                    28.540641631458442,
                    28.574449405554745,
                    28.608257179651048,
                    28.64206495374735,
                    28.675872727843654,
                    28.709680501939957,
                    28.74348827603626,
                    28.777296050132563,
                    28.811103824228866,
                    28.84491159832517,
                    28.87871937242147,
                    28.912527146517775,
                    28.946334920614078,
                    28.98014269471038,
                    29.013950468806684,
                    29.047758242902987,
                    29.081566016999293,
                    29.115373791095596,
                    29.1491815651919,
                    29.1829893392882,
                    29.216797113384505,
                    29.250604887480808,
                    29.28441266157711,
                    29.318220435673414,
                    29.35202820976972,
                    29.38583598386602,
                    29.419643757962323,
                    29.45345153205863,
                    29.487259306154932,
                    29.521067080251235,
                    29.55487485434754,
                    29.58868262844384,
                    29.622490402540144,
                    29.656298176636447,
                    29.69010595073275,
                    29.723913724829053,
                    29.757721498925356,
                    29.79152927302166,
                    29.825337047117966,
                    29.859144821214265,
                    29.892952595310568,
                    29.926760369406875,
                    29.960568143503174,
                    29.99437591759948,
                    30.028183691695784,
                    30.061991465792087
                  ],
                  "xaxis": "x",
                  "y": [
                    0.02188700052253744,
                    0.022092664364247214,
                    0.02229900797256682,
                    0.022506024150185506,
                    0.02271370572451143,
                    0.022922045546176842,
                    0.023131036487352763,
                    0.02334067143987344,
                    0.0235509433131709,
                    0.02376184503202054,
                    0.023973369534098916,
                    0.024185509767354615,
                    0.024398258687194124,
                    0.024611609253484316,
                    0.024825554427373435,
                    0.025040087167932903,
                    0.025255200428622802,
                    0.02547088715358304,
                    0.025687140273753937,
                    0.025903952702829077,
                    0.02612131733304375,
                    0.026339227030803266,
                    0.026557674632154367,
                    0.026776652938104432,
                    0.026996154709792622,
                    0.02721617266351775,
                    0.027436699465627455,
                    0.027657727727274137,
                    0.027879249999042482,
                    0.02810125876545437,
                    0.028323746439356836,
                    0.028546705356198663,
                    0.0287701277682021,
                    0.028994005838435682,
                    0.02921833163479458,
                    0.02944309712389532,
                    0.02966829416489137,
                    0.02989391450321675,
                    0.03011994976426454,
                    0.03034639144700792,
                    0.03057323091757051,
                    0.030800459402754082,
                    0.031028067983531027,
                    0.03125604758850921,
                    0.03148438898737732,
                    0.03171308278433862,
                    0.03194211941154075,
                    0.03217148912251045,
                    0.032401181985600554,
                    0.032631187877458265,
                    0.03286149647652245,
                    0.03309209725655872,
                    0.033322979480240385,
                    0.033554132192784074,
                    0.033785544215647924,
                    0.03401720414030146,
                    0.034249100322075045,
                    0.03448122087409765,
                    0.03471355366133123,
                    0.03494608629471035,
                    0.03517880612539498,
                    0.035411700239145256,
                    0.035644755450826,
                    0.035877958299049696,
                    0.036111295040965496,
                    0.03634475164720283,
                    0.03657831379697692,
                    0.036811966873364896,
                    0.0370456959587592,
                    0.03727948583050693,
                    0.03751332095674171,
                    0.03774718549241607,
                    0.03798106327554119,
                    0.038214937823641264,
                    0.03844879233042903,
                    0.038682609662709665,
                    0.03891637235751927,
                    0.039150062619504204,
                    0.03938366231854795,
                    0.039617152987650756,
                    0.0398505158210685,
                    0.04008373167271592,
                    0.04031678105483963,
                    0.040549644136966316,
                    0.040782300745130416,
                    0.041014730361386656,
                    0.0412469121236114,
                    0.041478824825596866,
                    0.04171044691744287,
                    0.041941756506248824,
                    0.04217273135711014,
                    0.042403348894421836,
                    0.042633586203492384,
                    0.04286342003247043,
                    0.043092826794586564,
                    0.04332178257071262,
                    0.04355026311223986,
                    0.04377824384427805,
                    0.044005699869176296,
                    0.04423260597036683,
                    0.04445893661653255,
                    0.044684665966098415,
                    0.04490976787204729,
                    0.04513421588705969,
                    0.045357983268977296,
                    0.0455810429865894,
                    0.04580336772574153,
                    0.046024929895764545,
                    0.04624570163622329,
                    0.04646565482398257,
                    0.046684761080588555,
                    0.04690299177996317,
                    0.04712031805640915,
                    0.04733671081292234,
                    0.04755214072980877,
                    0.04776657827360278,
                    0.04797999370628231,
                    0.04819235709477787,
                    0.048403638320771186,
                    0.04861380709077826,
                    0.04882283294651344,
                    0.04903068527552858,
                    0.04923733332212284,
                    0.04944274619851765,
                    0.04964689289629122,
                    0.049849742298066914,
                    0.05005126318944968,
                    0.05025142427120398,
                    0.05045019417166758,
                    0.05064754145939375,
                    0.050843434656016054,
                    0.05103784224932807,
                    0.05123073270657161,
                    0.05142207448792557,
                    0.05161183606018872,
                    0.051799985910648105,
                    0.05198649256112596,
                    0.05217132458219724,
                    0.05235445060756913,
                    0.05253583934861562,
                    0.052715459609057685,
                    0.052893280299781575,
                    0.05306927045378644,
                    0.05324339924125272,
                    0.053415635984722994,
                    0.053585950174385825,
                    0.05375431148345488,
                    0.05392068978363331,
                    0.05408505516065534,
                    0.0542473779298955,
                    0.05440762865203664,
                    0.05456577814878764,
                    0.05472179751864152,
                    0.05487565815266505,
                    0.05502733175030996,
                    0.05517679033523763,
                    0.055324006271146475,
                    0.0554689522775944,
                    0.05561160144580565,
                    0.055751927254453354,
                    0.055889903585408615,
                    0.05602550473944652,
                    0.056158705451899917,
                    0.05628948090825167,
                    0.0564178067596562,
                    0.05654365913838111,
                    0.05666701467315958,
                    0.056787850504444556,
                    0.05690614429955546,
                    0.05702187426770846,
                    0.0571350191749212,
                    0.057245558358783144,
                    0.0573534717430825,
                    0.05745873985228081,
                    0.05756134382582665,
                    0.057661265432299366,
                    0.057758487083374596,
                    0.05785299184760252,
                    0.057944763463990606,
                    0.05803378635538242,
                    0.058120045641624006,
                    0.0582035271525094,
                    0.05828421744049757,
                    0.05836210379319202,
                    0.05843717424557548,
                    0.05850941759199166,
                    0.058578823397865895,
                    0.05864538201115735,
                    0.05870908457353487,
                    0.058769923031268795,
                    0.05882789014583162,
                    0.05888297950419961,
                    0.058935185528848674,
                    0.05898450348743678,
                    0.05903092950216611,
                    0.059074460558818,
                    0.059115094515453576,
                    0.059152830110773616,
                    0.05918766697213068,
                    0.059219605623187246,
                    0.059248647491213086,
                    0.05927479491401587,
                    0.05929805114649861,
                    0.059318420366837835,
                    0.05933590768227654,
                    0.059350519134526096,
                    0.05936226170477114,
                    0.05937114331827223,
                    0.05937717284856021,
                    0.05938036012121729,
                    0.05938071591723948,
                    0.05937825197597499,
                    0.05937298099763401,
                    0.05936491664536447,
                    0.05935407354688943,
                    0.059340467295701235,
                    0.05932411445180799,
                    0.05930503254202803,
                    0.05928324005982799,
                    0.05925875646470072,
                    0.059231602181078646,
                    0.05920179859677927,
                    0.05916936806097868,
                    0.05913433388170988,
                    0.05909672032288263,
                    0.05905655260082124,
                    0.05901385688031769,
                    0.05896866027019706,
                    0.05892099081839242,
                    0.0588708775065269,
                    0.0588183502440004,
                    0.05876343986157888,
                    0.058706178104484134,
                    0.058646597624982255,
                    0.05858473197446931,
                    0.05852061559505256,
                    0.05845428381062613,
                    0.05838577281744023,
                    0.05831511967416275,
                    0.05824236229143301,
                    0.058167539420907105,
                    0.05809069064379451,
                    0.058011856358886456,
                    0.05793107777007577,
                    0.057848396873369325,
                    0.05776385644339333,
                    0.0576775000193929,
                    0.05758937189072683,
                    0.057499517081859464,
                    0.057407981336851065,
                    0.057314811103348934,
                    0.05722005351608185,
                    0.057123756379859884,
                    0.057025968152082926,
                    0.05692673792476106,
                    0.056826115406050016,
                    0.05672415090130582,
                    0.05662089529366231,
                    0.05651640002413641,
                    0.056410717071265416,
                    0.05630389893028153,
                    0.056195998591829,
                    0.05608706952022949,
                    0.05597716563130173,
                    0.05586634126974165,
                    0.05575465118606991,
                    0.05564215051315376,
                    0.055528894742310354,
                    0.055414939698999896,
                    0.05530034151811586,
                    0.05518515661888151,
                    0.0550694416793609,
                    0.05495325361059397,
                    0.05483664953036512,
                    0.05471968673661491,
                    0.054602422680505754,
                    0.05448491493915145,
                    0.05436722118802248,
                    0.054249399173037484,
                    0.05413150668235352,
                    0.05401360151786675,
                    0.05389574146643615,
                    0.05377798427084312,
                    0.053660387600500396,
                    0.05354300902192364,
                    0.0534259059689798,
                    0.05330913571292649,
                    0.05319275533225736,
                    0.05307682168236809,
                    0.052961391365058834,
                    0.05284652069788846,
                    0.05273226568339726,
                    0.052618681978213844,
                    0.05250582486206363,
                    0.05239374920669573,
                    0.052282509444745766,
                    0.052172159538552046,
                    0.05206275294894379,
                    0.051954342604019044,
                    0.05184698086793137,
                    0.05174071950970407,
                    0.05163560967209106,
                    0.051531701840503936,
                    0.051429045812024995,
                    0.05132769066452581,
                    0.05122768472591199,
                    0.05112907554351398,
                    0.05103190985364487,
                    0.050936233551345834,
                    0.050842091660340046,
                    0.050749528303216156,
                    0.05065858667186282,
                    0.050569308998175314,
                    0.05048173652505592,
                    0.05039590947772951,
                    0.050311867035396154,
                    0.05022964730324253,
                    0.05014928728483339,
                    0.05007082285490569,
                    0.04999428873258666,
                    0.04991971845505752,
                    0.04984714435168525,
                    0.04977659751864344,
                    0.04970810779404449,
                    0.04964170373360428,
                    0.049577412586861186,
                    0.04951526027397055,
                    0.049455271363096014,
                    0.04939746904841869,
                    0.049341875128785,
                    0.04928850998701402,
                    0.04923739256988463,
                    0.04918854036882275,
                    0.04914196940130857,
                    0.04909769419302333,
                    0.049055727760755195,
                    0.04901608159608295,
                    0.04897876564985638,
                    0.048943788317491375,
                    0.04891115642509789,
                    0.04888087521645782,
                    0.048852948340870256,
                    0.04882737784188025,
                    0.04880416414690727,
                    0.04878330605778902,
                    0.048764800742255435,
                    0.048748643726347414,
                    0.04873482888779423,
                    0.048723348450362886,
                    0.048714192979192016,
                    0.04870735137712272,
                    0.0487028108820373,
                    0.048700557065217226,
                    0.04870057383072993,
                    0.04870284341585407,
                    0.04870734639255192,
                    0.04871406166999681,
                    0.04872296649816279,
                    0.04873403647248281,
                    0.04874724553958158,
                    0.048762566004087134,
                    0.04877996853652598,
                    0.048799422182304535,
                    0.04882089437177939,
                    0.04884435093141803,
                    0.04886975609605063,
                    0.04889707252221277,
                    0.04892626130257804,
                    0.048957281981478584,
                    0.048990092571510865,
                    0.04902464957122272,
                    0.04906090798387749,
                    0.04909882133728912,
                    0.04913834170472248,
                    0.049179419726850956,
                    0.049222004634763346,
                    0.049266044274010996,
                    0.04931148512968466,
                    0.04935827235251051,
                    0.04940634978595303,
                    0.04945565999431214,
                    0.049506144291800676,
                    0.049557742772587635,
                    0.04961039434179145,
                    0.04966403674740716,
                    0.04971860661314966,
                    0.0497740394721953,
                    0.04983026980180217,
                    0.04988723105878976,
                    0.049944855715856655,
                    0.05000307529871477,
                    0.050061820424017876,
                    0.05012102083806081,
                    0.050180605456225665,
                    0.05024050240314976,
                    0.05030063905359009,
                    0.05036094207395777,
                    0.05042133746449552,
                    0.05048175060207036,
                    0.050542106283553045,
                    0.05060232876975547,
                    0.05066234182989566,
                    0.05072206878656106,
                    0.050781432561137964,
                    0.05084035571967671,
                    0.05089876051916002,
                    0.050956568954142,
                    0.051013702803725226,
                    0.05107008367884196,
                    0.05112563306980592,
                    0.05118027239410039,
                    0.05123392304436772,
                    0.05128650643656578,
                    0.05133794405825566,
                    0.05138815751698528,
                    0.051437068588733176,
                    0.05148459926637645,
                    0.05153067180814689,
                    0.05157520878603867,
                    0.05161813313413166,
                    0.05165936819679368,
                    0.051698837776725175,
                    0.05173646618281003,
                    0.05177217827773599,
                    0.051805899525348253,
                    0.05183755603770012,
                    0.05186707462176442,
                    0.05189438282576987,
                    0.051919408985126675,
                    0.051942082267905636,
                    0.051962332719835976,
                    0.051980091308786384,
                    0.05199528996869544,
                    0.05200786164291663,
                    0.05201774032694451,
                    0.05202486111048884,
                    0.05202916021886333,
                    0.052030575053657525,
                    0.052029044232659256,
                    0.052024507628997026,
                    0.05201690640947159,
                    0.0520061830720468,
                    0.05199228148247049,
                    0.051975146909996946,
                    0.05195472606218301,
                    0.051930967118730964,
                    0.05190381976435163,
                    0.051873235220622656,
                    0.051839166276817075,
                    0.051801567319678346,
                    0.05176039436211949,
                    0.051715605070823796,
                    0.05166715879272635,
                    0.05161501658035661,
                    0.051559141216022356,
                    0.05149949723481754,
                    0.05143605094643653,
                    0.05136877045577901,
                    0.05129762568233031,
                    0.051222588378303326,
                    0.05114363214552941,
                    0.051060732451085986,
                    0.05097386664165065,
                    0.050883013956571854,
                    0.050788155539648154,
                    0.050689274449608225,
                    0.05058635566928575,
                    0.050479386113484064,
                    0.05036835463552671,
                    0.050253252032490904,
                    0.05013407104912252,
                    0.05001080638043229,
                    0.049883454672973226,
                    0.0497520145248018,
                    0.04961648648412545,
                    0.04947687304664065,
                    0.04933317865156656,
                    0.04918540967638087,
                    0.04903357443026499,
                    0.04887768314626755,
                    0.04871774797219529,
                    0.0485537829602426,
                    0.04838580405537123,
                    0.048213829082453086,
                    0.048037877732189954,
                    0.047857971545825176,
                    0.047674133898663144,
                    0.04748638998241333,
                    0.04729476678637718,
                    0.0470992930774961,
                    0.046899999379280966,
                    0.04669691794964293,
                    0.04649008275764799,
                    0.04627952945921702,
                    0.046065295371794684,
                    0.045847419448011545,
                    0.04562594224836344,
                    0.04540090591293448,
                    0.04517235413218953,
                    0.044940332116862804
                  ],
                  "yaxis": "y"
                },
                {
                  "legendgroup": "bmi_mean",
                  "marker": {
                    "color": "rgb(31, 119, 180)",
                    "symbol": "line-ns-open"
                  },
                  "mode": "markers",
                  "name": "bmi_mean",
                  "showlegend": false,
                  "type": "scatter",
                  "x": [
                    30.09579923988839,
                    29.435359597700078,
                    16.32648114674164,
                    20.068700736700052,
                    24.839296378896947,
                    27.831524855627176,
                    13.191912191736765,
                    18.525580056901987,
                    22.12142161608569,
                    27.71956696603433,
                    18.598758084216097,
                    29.051242656199765,
                    29.322578742343122,
                    14.830028026936311,
                    20.75641241204263,
                    22.9950964963041,
                    22.341160366997187,
                    28.860474997107282,
                    18.10088929395246,
                    20.2744789825052
                  ],
                  "xaxis": "x",
                  "y": [
                    "bmi_mean",
                    "bmi_mean",
                    "bmi_mean",
                    "bmi_mean",
                    "bmi_mean",
                    "bmi_mean",
                    "bmi_mean",
                    "bmi_mean",
                    "bmi_mean",
                    "bmi_mean",
                    "bmi_mean",
                    "bmi_mean",
                    "bmi_mean",
                    "bmi_mean",
                    "bmi_mean",
                    "bmi_mean",
                    "bmi_mean",
                    "bmi_mean",
                    "bmi_mean",
                    "bmi_mean"
                  ],
                  "yaxis": "y2"
                }
              ],
              "layout": {
                "barmode": "overlay",
                "hovermode": "closest",
                "legend": {
                  "traceorder": "reversed"
                },
                "template": {
                  "data": {
                    "bar": [
                      {
                        "error_x": {
                          "color": "#2a3f5f"
                        },
                        "error_y": {
                          "color": "#2a3f5f"
                        },
                        "marker": {
                          "line": {
                            "color": "#E5ECF6",
                            "width": 0.5
                          },
                          "pattern": {
                            "fillmode": "overlay",
                            "size": 10,
                            "solidity": 0.2
                          }
                        },
                        "type": "bar"
                      }
                    ],
                    "barpolar": [
                      {
                        "marker": {
                          "line": {
                            "color": "#E5ECF6",
                            "width": 0.5
                          },
                          "pattern": {
                            "fillmode": "overlay",
                            "size": 10,
                            "solidity": 0.2
                          }
                        },
                        "type": "barpolar"
                      }
                    ],
                    "carpet": [
                      {
                        "aaxis": {
                          "endlinecolor": "#2a3f5f",
                          "gridcolor": "white",
                          "linecolor": "white",
                          "minorgridcolor": "white",
                          "startlinecolor": "#2a3f5f"
                        },
                        "baxis": {
                          "endlinecolor": "#2a3f5f",
                          "gridcolor": "white",
                          "linecolor": "white",
                          "minorgridcolor": "white",
                          "startlinecolor": "#2a3f5f"
                        },
                        "type": "carpet"
                      }
                    ],
                    "choropleth": [
                      {
                        "colorbar": {
                          "outlinewidth": 0,
                          "ticks": ""
                        },
                        "type": "choropleth"
                      }
                    ],
                    "contour": [
                      {
                        "colorbar": {
                          "outlinewidth": 0,
                          "ticks": ""
                        },
                        "colorscale": [
                          [
                            0,
                            "#0d0887"
                          ],
                          [
                            0.1111111111111111,
                            "#46039f"
                          ],
                          [
                            0.2222222222222222,
                            "#7201a8"
                          ],
                          [
                            0.3333333333333333,
                            "#9c179e"
                          ],
                          [
                            0.4444444444444444,
                            "#bd3786"
                          ],
                          [
                            0.5555555555555556,
                            "#d8576b"
                          ],
                          [
                            0.6666666666666666,
                            "#ed7953"
                          ],
                          [
                            0.7777777777777778,
                            "#fb9f3a"
                          ],
                          [
                            0.8888888888888888,
                            "#fdca26"
                          ],
                          [
                            1,
                            "#f0f921"
                          ]
                        ],
                        "type": "contour"
                      }
                    ],
                    "contourcarpet": [
                      {
                        "colorbar": {
                          "outlinewidth": 0,
                          "ticks": ""
                        },
                        "type": "contourcarpet"
                      }
                    ],
                    "heatmap": [
                      {
                        "colorbar": {
                          "outlinewidth": 0,
                          "ticks": ""
                        },
                        "colorscale": [
                          [
                            0,
                            "#0d0887"
                          ],
                          [
                            0.1111111111111111,
                            "#46039f"
                          ],
                          [
                            0.2222222222222222,
                            "#7201a8"
                          ],
                          [
                            0.3333333333333333,
                            "#9c179e"
                          ],
                          [
                            0.4444444444444444,
                            "#bd3786"
                          ],
                          [
                            0.5555555555555556,
                            "#d8576b"
                          ],
                          [
                            0.6666666666666666,
                            "#ed7953"
                          ],
                          [
                            0.7777777777777778,
                            "#fb9f3a"
                          ],
                          [
                            0.8888888888888888,
                            "#fdca26"
                          ],
                          [
                            1,
                            "#f0f921"
                          ]
                        ],
                        "type": "heatmap"
                      }
                    ],
                    "heatmapgl": [
                      {
                        "colorbar": {
                          "outlinewidth": 0,
                          "ticks": ""
                        },
                        "colorscale": [
                          [
                            0,
                            "#0d0887"
                          ],
                          [
                            0.1111111111111111,
                            "#46039f"
                          ],
                          [
                            0.2222222222222222,
                            "#7201a8"
                          ],
                          [
                            0.3333333333333333,
                            "#9c179e"
                          ],
                          [
                            0.4444444444444444,
                            "#bd3786"
                          ],
                          [
                            0.5555555555555556,
                            "#d8576b"
                          ],
                          [
                            0.6666666666666666,
                            "#ed7953"
                          ],
                          [
                            0.7777777777777778,
                            "#fb9f3a"
                          ],
                          [
                            0.8888888888888888,
                            "#fdca26"
                          ],
                          [
                            1,
                            "#f0f921"
                          ]
                        ],
                        "type": "heatmapgl"
                      }
                    ],
                    "histogram": [
                      {
                        "marker": {
                          "pattern": {
                            "fillmode": "overlay",
                            "size": 10,
                            "solidity": 0.2
                          }
                        },
                        "type": "histogram"
                      }
                    ],
                    "histogram2d": [
                      {
                        "colorbar": {
                          "outlinewidth": 0,
                          "ticks": ""
                        },
                        "colorscale": [
                          [
                            0,
                            "#0d0887"
                          ],
                          [
                            0.1111111111111111,
                            "#46039f"
                          ],
                          [
                            0.2222222222222222,
                            "#7201a8"
                          ],
                          [
                            0.3333333333333333,
                            "#9c179e"
                          ],
                          [
                            0.4444444444444444,
                            "#bd3786"
                          ],
                          [
                            0.5555555555555556,
                            "#d8576b"
                          ],
                          [
                            0.6666666666666666,
                            "#ed7953"
                          ],
                          [
                            0.7777777777777778,
                            "#fb9f3a"
                          ],
                          [
                            0.8888888888888888,
                            "#fdca26"
                          ],
                          [
                            1,
                            "#f0f921"
                          ]
                        ],
                        "type": "histogram2d"
                      }
                    ],
                    "histogram2dcontour": [
                      {
                        "colorbar": {
                          "outlinewidth": 0,
                          "ticks": ""
                        },
                        "colorscale": [
                          [
                            0,
                            "#0d0887"
                          ],
                          [
                            0.1111111111111111,
                            "#46039f"
                          ],
                          [
                            0.2222222222222222,
                            "#7201a8"
                          ],
                          [
                            0.3333333333333333,
                            "#9c179e"
                          ],
                          [
                            0.4444444444444444,
                            "#bd3786"
                          ],
                          [
                            0.5555555555555556,
                            "#d8576b"
                          ],
                          [
                            0.6666666666666666,
                            "#ed7953"
                          ],
                          [
                            0.7777777777777778,
                            "#fb9f3a"
                          ],
                          [
                            0.8888888888888888,
                            "#fdca26"
                          ],
                          [
                            1,
                            "#f0f921"
                          ]
                        ],
                        "type": "histogram2dcontour"
                      }
                    ],
                    "mesh3d": [
                      {
                        "colorbar": {
                          "outlinewidth": 0,
                          "ticks": ""
                        },
                        "type": "mesh3d"
                      }
                    ],
                    "parcoords": [
                      {
                        "line": {
                          "colorbar": {
                            "outlinewidth": 0,
                            "ticks": ""
                          }
                        },
                        "type": "parcoords"
                      }
                    ],
                    "pie": [
                      {
                        "automargin": true,
                        "type": "pie"
                      }
                    ],
                    "scatter": [
                      {
                        "fillpattern": {
                          "fillmode": "overlay",
                          "size": 10,
                          "solidity": 0.2
                        },
                        "type": "scatter"
                      }
                    ],
                    "scatter3d": [
                      {
                        "line": {
                          "colorbar": {
                            "outlinewidth": 0,
                            "ticks": ""
                          }
                        },
                        "marker": {
                          "colorbar": {
                            "outlinewidth": 0,
                            "ticks": ""
                          }
                        },
                        "type": "scatter3d"
                      }
                    ],
                    "scattercarpet": [
                      {
                        "marker": {
                          "colorbar": {
                            "outlinewidth": 0,
                            "ticks": ""
                          }
                        },
                        "type": "scattercarpet"
                      }
                    ],
                    "scattergeo": [
                      {
                        "marker": {
                          "colorbar": {
                            "outlinewidth": 0,
                            "ticks": ""
                          }
                        },
                        "type": "scattergeo"
                      }
                    ],
                    "scattergl": [
                      {
                        "marker": {
                          "colorbar": {
                            "outlinewidth": 0,
                            "ticks": ""
                          }
                        },
                        "type": "scattergl"
                      }
                    ],
                    "scattermapbox": [
                      {
                        "marker": {
                          "colorbar": {
                            "outlinewidth": 0,
                            "ticks": ""
                          }
                        },
                        "type": "scattermapbox"
                      }
                    ],
                    "scatterpolar": [
                      {
                        "marker": {
                          "colorbar": {
                            "outlinewidth": 0,
                            "ticks": ""
                          }
                        },
                        "type": "scatterpolar"
                      }
                    ],
                    "scatterpolargl": [
                      {
                        "marker": {
                          "colorbar": {
                            "outlinewidth": 0,
                            "ticks": ""
                          }
                        },
                        "type": "scatterpolargl"
                      }
                    ],
                    "scatterternary": [
                      {
                        "marker": {
                          "colorbar": {
                            "outlinewidth": 0,
                            "ticks": ""
                          }
                        },
                        "type": "scatterternary"
                      }
                    ],
                    "surface": [
                      {
                        "colorbar": {
                          "outlinewidth": 0,
                          "ticks": ""
                        },
                        "colorscale": [
                          [
                            0,
                            "#0d0887"
                          ],
                          [
                            0.1111111111111111,
                            "#46039f"
                          ],
                          [
                            0.2222222222222222,
                            "#7201a8"
                          ],
                          [
                            0.3333333333333333,
                            "#9c179e"
                          ],
                          [
                            0.4444444444444444,
                            "#bd3786"
                          ],
                          [
                            0.5555555555555556,
                            "#d8576b"
                          ],
                          [
                            0.6666666666666666,
                            "#ed7953"
                          ],
                          [
                            0.7777777777777778,
                            "#fb9f3a"
                          ],
                          [
                            0.8888888888888888,
                            "#fdca26"
                          ],
                          [
                            1,
                            "#f0f921"
                          ]
                        ],
                        "type": "surface"
                      }
                    ],
                    "table": [
                      {
                        "cells": {
                          "fill": {
                            "color": "#EBF0F8"
                          },
                          "line": {
                            "color": "white"
                          }
                        },
                        "header": {
                          "fill": {
                            "color": "#C8D4E3"
                          },
                          "line": {
                            "color": "white"
                          }
                        },
                        "type": "table"
                      }
                    ]
                  },
                  "layout": {
                    "annotationdefaults": {
                      "arrowcolor": "#2a3f5f",
                      "arrowhead": 0,
                      "arrowwidth": 1
                    },
                    "autotypenumbers": "strict",
                    "coloraxis": {
                      "colorbar": {
                        "outlinewidth": 0,
                        "ticks": ""
                      }
                    },
                    "colorscale": {
                      "diverging": [
                        [
                          0,
                          "#8e0152"
                        ],
                        [
                          0.1,
                          "#c51b7d"
                        ],
                        [
                          0.2,
                          "#de77ae"
                        ],
                        [
                          0.3,
                          "#f1b6da"
                        ],
                        [
                          0.4,
                          "#fde0ef"
                        ],
                        [
                          0.5,
                          "#f7f7f7"
                        ],
                        [
                          0.6,
                          "#e6f5d0"
                        ],
                        [
                          0.7,
                          "#b8e186"
                        ],
                        [
                          0.8,
                          "#7fbc41"
                        ],
                        [
                          0.9,
                          "#4d9221"
                        ],
                        [
                          1,
                          "#276419"
                        ]
                      ],
                      "sequential": [
                        [
                          0,
                          "#0d0887"
                        ],
                        [
                          0.1111111111111111,
                          "#46039f"
                        ],
                        [
                          0.2222222222222222,
                          "#7201a8"
                        ],
                        [
                          0.3333333333333333,
                          "#9c179e"
                        ],
                        [
                          0.4444444444444444,
                          "#bd3786"
                        ],
                        [
                          0.5555555555555556,
                          "#d8576b"
                        ],
                        [
                          0.6666666666666666,
                          "#ed7953"
                        ],
                        [
                          0.7777777777777778,
                          "#fb9f3a"
                        ],
                        [
                          0.8888888888888888,
                          "#fdca26"
                        ],
                        [
                          1,
                          "#f0f921"
                        ]
                      ],
                      "sequentialminus": [
                        [
                          0,
                          "#0d0887"
                        ],
                        [
                          0.1111111111111111,
                          "#46039f"
                        ],
                        [
                          0.2222222222222222,
                          "#7201a8"
                        ],
                        [
                          0.3333333333333333,
                          "#9c179e"
                        ],
                        [
                          0.4444444444444444,
                          "#bd3786"
                        ],
                        [
                          0.5555555555555556,
                          "#d8576b"
                        ],
                        [
                          0.6666666666666666,
                          "#ed7953"
                        ],
                        [
                          0.7777777777777778,
                          "#fb9f3a"
                        ],
                        [
                          0.8888888888888888,
                          "#fdca26"
                        ],
                        [
                          1,
                          "#f0f921"
                        ]
                      ]
                    },
                    "colorway": [
                      "#636efa",
                      "#EF553B",
                      "#00cc96",
                      "#ab63fa",
                      "#FFA15A",
                      "#19d3f3",
                      "#FF6692",
                      "#B6E880",
                      "#FF97FF",
                      "#FECB52"
                    ],
                    "font": {
                      "color": "#2a3f5f"
                    },
                    "geo": {
                      "bgcolor": "white",
                      "lakecolor": "white",
                      "landcolor": "#E5ECF6",
                      "showlakes": true,
                      "showland": true,
                      "subunitcolor": "white"
                    },
                    "hoverlabel": {
                      "align": "left"
                    },
                    "hovermode": "closest",
                    "mapbox": {
                      "style": "light"
                    },
                    "paper_bgcolor": "white",
                    "plot_bgcolor": "#E5ECF6",
                    "polar": {
                      "angularaxis": {
                        "gridcolor": "white",
                        "linecolor": "white",
                        "ticks": ""
                      },
                      "bgcolor": "#E5ECF6",
                      "radialaxis": {
                        "gridcolor": "white",
                        "linecolor": "white",
                        "ticks": ""
                      }
                    },
                    "scene": {
                      "xaxis": {
                        "backgroundcolor": "#E5ECF6",
                        "gridcolor": "white",
                        "gridwidth": 2,
                        "linecolor": "white",
                        "showbackground": true,
                        "ticks": "",
                        "zerolinecolor": "white"
                      },
                      "yaxis": {
                        "backgroundcolor": "#E5ECF6",
                        "gridcolor": "white",
                        "gridwidth": 2,
                        "linecolor": "white",
                        "showbackground": true,
                        "ticks": "",
                        "zerolinecolor": "white"
                      },
                      "zaxis": {
                        "backgroundcolor": "#E5ECF6",
                        "gridcolor": "white",
                        "gridwidth": 2,
                        "linecolor": "white",
                        "showbackground": true,
                        "ticks": "",
                        "zerolinecolor": "white"
                      }
                    },
                    "shapedefaults": {
                      "line": {
                        "color": "#2a3f5f"
                      }
                    },
                    "ternary": {
                      "aaxis": {
                        "gridcolor": "white",
                        "linecolor": "white",
                        "ticks": ""
                      },
                      "baxis": {
                        "gridcolor": "white",
                        "linecolor": "white",
                        "ticks": ""
                      },
                      "bgcolor": "#E5ECF6",
                      "caxis": {
                        "gridcolor": "white",
                        "linecolor": "white",
                        "ticks": ""
                      }
                    },
                    "title": {
                      "x": 0.05
                    },
                    "xaxis": {
                      "automargin": true,
                      "gridcolor": "white",
                      "linecolor": "white",
                      "ticks": "",
                      "title": {
                        "standoff": 15
                      },
                      "zerolinecolor": "white",
                      "zerolinewidth": 2
                    },
                    "yaxis": {
                      "automargin": true,
                      "gridcolor": "white",
                      "linecolor": "white",
                      "ticks": "",
                      "title": {
                        "standoff": 15
                      },
                      "zerolinecolor": "white",
                      "zerolinewidth": 2
                    }
                  }
                },
                "xaxis": {
                  "anchor": "y2",
                  "domain": [
                    0,
                    1
                  ],
                  "zeroline": false
                },
                "yaxis": {
                  "anchor": "free",
                  "domain": [
                    0.35,
                    1
                  ],
                  "position": 0
                },
                "yaxis2": {
                  "anchor": "x",
                  "domain": [
                    0,
                    0.25
                  ],
                  "dtick": 1,
                  "showticklabels": false
                }
              }
            },
            "text/html": [
              "<div>                            <div id=\"b59d31ac-0e9b-4cca-818f-acd40b745b67\" class=\"plotly-graph-div\" style=\"height:525px; width:100%;\"></div>            <script type=\"text/javascript\">                require([\"plotly\"], function(Plotly) {                    window.PLOTLYENV=window.PLOTLYENV || {};                                    if (document.getElementById(\"b59d31ac-0e9b-4cca-818f-acd40b745b67\")) {                    Plotly.newPlot(                        \"b59d31ac-0e9b-4cca-818f-acd40b745b67\",                        [{\"autobinx\":false,\"histnorm\":\"probability density\",\"legendgroup\":\"bmi_mean\",\"marker\":{\"color\":\"rgb(31, 119, 180)\"},\"name\":\"bmi_mean\",\"opacity\":0.7,\"x\":[30.09579923988839,29.435359597700078,16.32648114674164,20.068700736700052,24.839296378896947,27.831524855627176,13.191912191736765,18.525580056901987,22.12142161608569,27.71956696603433,18.598758084216097,29.051242656199765,29.322578742343122,14.830028026936311,20.75641241204263,22.9950964963041,22.341160366997187,28.860474997107282,18.10088929395246,20.2744789825052],\"xaxis\":\"x\",\"xbins\":{\"end\":30.09579923988839,\"size\":2.0,\"start\":13.191912191736765},\"yaxis\":\"y\",\"type\":\"histogram\"},{\"legendgroup\":\"bmi_mean\",\"marker\":{\"color\":\"rgb(31, 119, 180)\"},\"mode\":\"lines\",\"name\":\"bmi_mean\",\"showlegend\":false,\"x\":[13.191912191736765,13.225719965833068,13.259527739929371,13.293335514025674,13.32714328812198,13.360951062218282,13.394758836314585,13.428566610410888,13.462374384507191,13.496182158603494,13.529989932699799,13.563797706796102,13.597605480892405,13.631413254988708,13.66522102908501,13.699028803181314,13.732836577277617,13.766644351373921,13.800452125470224,13.834259899566527,13.86806767366283,13.901875447759133,13.935683221855436,13.969490995951741,14.003298770048044,14.037106544144347,14.07091431824065,14.104722092336953,14.138529866433256,14.172337640529559,14.206145414625862,14.239953188722167,14.27376096281847,14.307568736914773,14.341376511011076,14.375184285107379,14.408992059203683,14.442799833299986,14.47660760739629,14.510415381492592,14.544223155588895,14.578030929685198,14.611838703781501,14.645646477877806,14.679454251974109,14.713262026070412,14.747069800166715,14.780877574263018,14.81468534835932,14.848493122455626,14.882300896551929,14.916108670648232,14.949916444744535,14.983724218840837,15.01753199293714,15.051339767033443,15.085147541129746,15.118955315226051,15.152763089322354,15.186570863418657,15.22037863751496,15.254186411611263,15.287994185707566,15.32180195980387,15.355609733900174,15.389417507996477,15.42322528209278,15.457033056189083,15.490840830285386,15.524648604381689,15.558456378477992,15.592264152574296,15.6260719266706,15.659879700766902,15.693687474863205,15.72749524895951,15.761303023055813,15.795110797152116,15.828918571248419,15.862726345344722,15.896534119441025,15.930341893537328,15.964149667633631,15.997957441729936,16.031765215826237,16.06557298992254,16.099380764018846,16.13318853811515,16.166996312211452,16.200804086307755,16.23461186040406,16.26841963450036,16.302227408596664,16.336035182692967,16.36984295678927,16.403650730885573,16.437458504981876,16.47126627907818,16.505074053174482,16.538881827270785,16.572689601367088,16.606497375463395,16.640305149559698,16.674112923656,16.707920697752304,16.741728471848607,16.77553624594491,16.809344020041213,16.843151794137516,16.87695956823382,16.91076734233012,16.944575116426424,16.97838289052273,17.012190664619034,17.045998438715337,17.07980621281164,17.113613986907943,17.147421761004246,17.18122953510055,17.215037309196852,17.248845083293155,17.282652857389458,17.31646063148576,17.350268405582064,17.384076179678367,17.41788395377467,17.451691727870976,17.485499501967276,17.519307276063582,17.553115050159885,17.586922824256188,17.62073059835249,17.654538372448794,17.688346146545097,17.7221539206414,17.755961694737703,17.789769468834006,17.823577242930313,17.857385017026616,17.89119279112292,17.92500056521922,17.958808339315524,17.992616113411827,18.02642388750813,18.060231661604433,18.094039435700736,18.12784720979704,18.161654983893342,18.195462757989645,18.22927053208595,18.26307830618225,18.296886080278554,18.330693854374857,18.364501628471164,18.398309402567463,18.43211717666377,18.465924950760073,18.499732724856376,18.53354049895268,18.56734827304898,18.601156047145285,18.634963821241588,18.66877159533789,18.702579369434197,18.7363871435305,18.770194917626803,18.804002691723106,18.83781046581941,18.871618239915712,18.905426014012015,18.939233788108318,18.97304156220462,19.006849336300924,19.040657110397227,19.07446488449353,19.108272658589833,19.142080432686136,19.17588820678244,19.209695980878745,19.243503754975045,19.27731152907135,19.311119303167654,19.344927077263957,19.37873485136026,19.412542625456563,19.446350399552866,19.48015817364917,19.513965947745472,19.547773721841775,19.581581495938078,19.615389270034385,19.649197044130688,19.68300481822699,19.716812592323294,19.750620366419597,19.7844281405159,19.818235914612202,19.852043688708505,19.88585146280481,19.91965923690111,19.953467010997414,19.987274785093717,20.02108255919002,20.054890333286323,20.088698107382626,20.122505881478933,20.156313655575232,20.19012142967154,20.22392920376784,20.257736977864145,20.291544751960448,20.32535252605675,20.359160300153054,20.392968074249357,20.42677584834566,20.460583622441963,20.49439139653827,20.528199170634572,20.562006944730875,20.595814718827178,20.62962249292348,20.663430267019784,20.697238041116087,20.73104581521239,20.764853589308693,20.798661363404996,20.8324691375013,20.866276911597602,20.900084685693905,20.933892459790208,20.96770023388651,21.001508007982814,21.03531578207912,21.069123556175423,21.102931330271726,21.13673910436803,21.170546878464332,21.204354652560635,21.238162426656938,21.271970200753245,21.305777974849544,21.33958574894585,21.373393523042154,21.407201297138457,21.44100907123476,21.474816845331063,21.508624619427366,21.54243239352367,21.57624016761997,21.610047941716275,21.643855715812578,21.67766348990888,21.711471264005183,21.745279038101486,21.77908681219779,21.812894586294092,21.846702360390395,21.8805101344867,21.914317908583005,21.948125682679308,21.981933456775607,22.01574123087191,22.049549004968217,22.08335677906452,22.117164553160823,22.15097232725713,22.18478010135343,22.21858787544973,22.252395649546038,22.28620342364234,22.320011197738644,22.353818971834947,22.38762674593125,22.421434520027553,22.455242294123856,22.48905006822016,22.522857842316462,22.556665616412765,22.590473390509068,22.62428116460537,22.658088938701674,22.691896712797977,22.72570448689428,22.759512260990583,22.793320035086886,22.82712780918319,22.860935583279492,22.8947433573758,22.9285511314721,22.962358905568404,22.996166679664707,23.02997445376101,23.063782227857313,23.09759000195362,23.131397776049923,23.165205550146226,23.19901332424253,23.23282109833883,23.266628872435135,23.300436646531438,23.33424442062774,23.368052194724044,23.401859968820347,23.43566774291665,23.469475517012953,23.503283291109256,23.53709106520556,23.57089883930186,23.604706613398164,23.638514387494467,23.67232216159077,23.706129935687073,23.73993770978338,23.773745483879683,23.807553257975982,23.84136103207229,23.875168806168592,23.908976580264895,23.9427843543612,23.976592128457504,24.010399902553807,24.044207676650107,24.078015450746413,24.111823224842716,24.14563099893902,24.179438773035322,24.213246547131625,24.247054321227928,24.28086209532423,24.314669869420534,24.348477643516837,24.38228541761314,24.416093191709443,24.449900965805746,24.48370873990205,24.517516513998352,24.551324288094655,24.58513206219096,24.618939836287264,24.652747610383564,24.686555384479867,24.720363158576173,24.754170932672476,24.78797870676878,24.821786480865086,24.855594254961385,24.88940202905769,24.923209803153995,24.957017577250298,24.9908253513466,25.024633125442904,25.058440899539207,25.09224867363551,25.126056447731813,25.159864221828116,25.19367199592442,25.22747977002072,25.261287544117025,25.295095318213328,25.32890309230963,25.362710866405934,25.396518640502237,25.43032641459854,25.464134188694842,25.497941962791145,25.53174973688745,25.565557510983755,25.599365285080058,25.63317305917636,25.666980833272664,25.700788607368967,25.73459638146527,25.768404155561576,25.80221192965788,25.836019703754182,25.869827477850485,25.90363525194679,25.93744302604309,25.971250800139394,26.005058574235697,26.038866348332,26.072674122428303,26.106481896524606,26.14028967062091,26.174097444717212,26.207905218813515,26.241712992909818,26.27552076700612,26.309328541102424,26.343136315198727,26.37694408929503,26.410751863391337,26.44455963748764,26.478367411583942,26.512175185680245,26.54598295977655,26.57979073387285,26.613598507969154,26.64740628206546,26.681214056161764,26.715021830258063,26.74882960435437,26.782637378450673,26.816445152546976,26.85025292664328,26.88406070073958,26.917868474835885,26.951676248932188,26.98548402302849,27.019291797124794,27.053099571221097,27.0869073453174,27.120715119413703,27.154522893510006,27.18833066760631,27.22213844170261,27.255946215798915,27.28975398989522,27.32356176399152,27.357369538087823,27.39117731218413,27.424985086280433,27.458792860376736,27.492600634473042,27.526408408569342,27.560216182665645,27.59402395676195,27.627831730858254,27.661639504954557,27.69544727905086,27.729255053147163,27.763062827243466,27.79687060133977,27.830678375436072,27.864486149532375,27.898293923628678,27.93210169772498,27.965909471821284,27.999717245917587,28.03352502001389,28.067332794110193,28.101140568206496,28.1349483423028,28.168756116399102,28.202563890495405,28.23637166459171,28.270179438688015,28.303987212784318,28.33779498688062,28.371602760976923,28.405410535073226,28.439218309169533,28.473026083265836,28.50683385736214,28.540641631458442,28.574449405554745,28.608257179651048,28.64206495374735,28.675872727843654,28.709680501939957,28.74348827603626,28.777296050132563,28.811103824228866,28.84491159832517,28.87871937242147,28.912527146517775,28.946334920614078,28.98014269471038,29.013950468806684,29.047758242902987,29.081566016999293,29.115373791095596,29.1491815651919,29.1829893392882,29.216797113384505,29.250604887480808,29.28441266157711,29.318220435673414,29.35202820976972,29.38583598386602,29.419643757962323,29.45345153205863,29.487259306154932,29.521067080251235,29.55487485434754,29.58868262844384,29.622490402540144,29.656298176636447,29.69010595073275,29.723913724829053,29.757721498925356,29.79152927302166,29.825337047117966,29.859144821214265,29.892952595310568,29.926760369406875,29.960568143503174,29.99437591759948,30.028183691695784,30.061991465792087],\"xaxis\":\"x\",\"y\":[0.02188700052253744,0.022092664364247214,0.02229900797256682,0.022506024150185506,0.02271370572451143,0.022922045546176842,0.023131036487352763,0.02334067143987344,0.0235509433131709,0.02376184503202054,0.023973369534098916,0.024185509767354615,0.024398258687194124,0.024611609253484316,0.024825554427373435,0.025040087167932903,0.025255200428622802,0.02547088715358304,0.025687140273753937,0.025903952702829077,0.02612131733304375,0.026339227030803266,0.026557674632154367,0.026776652938104432,0.026996154709792622,0.02721617266351775,0.027436699465627455,0.027657727727274137,0.027879249999042482,0.02810125876545437,0.028323746439356836,0.028546705356198663,0.0287701277682021,0.028994005838435682,0.02921833163479458,0.02944309712389532,0.02966829416489137,0.02989391450321675,0.03011994976426454,0.03034639144700792,0.03057323091757051,0.030800459402754082,0.031028067983531027,0.03125604758850921,0.03148438898737732,0.03171308278433862,0.03194211941154075,0.03217148912251045,0.032401181985600554,0.032631187877458265,0.03286149647652245,0.03309209725655872,0.033322979480240385,0.033554132192784074,0.033785544215647924,0.03401720414030146,0.034249100322075045,0.03448122087409765,0.03471355366133123,0.03494608629471035,0.03517880612539498,0.035411700239145256,0.035644755450826,0.035877958299049696,0.036111295040965496,0.03634475164720283,0.03657831379697692,0.036811966873364896,0.0370456959587592,0.03727948583050693,0.03751332095674171,0.03774718549241607,0.03798106327554119,0.038214937823641264,0.03844879233042903,0.038682609662709665,0.03891637235751927,0.039150062619504204,0.03938366231854795,0.039617152987650756,0.0398505158210685,0.04008373167271592,0.04031678105483963,0.040549644136966316,0.040782300745130416,0.041014730361386656,0.0412469121236114,0.041478824825596866,0.04171044691744287,0.041941756506248824,0.04217273135711014,0.042403348894421836,0.042633586203492384,0.04286342003247043,0.043092826794586564,0.04332178257071262,0.04355026311223986,0.04377824384427805,0.044005699869176296,0.04423260597036683,0.04445893661653255,0.044684665966098415,0.04490976787204729,0.04513421588705969,0.045357983268977296,0.0455810429865894,0.04580336772574153,0.046024929895764545,0.04624570163622329,0.04646565482398257,0.046684761080588555,0.04690299177996317,0.04712031805640915,0.04733671081292234,0.04755214072980877,0.04776657827360278,0.04797999370628231,0.04819235709477787,0.048403638320771186,0.04861380709077826,0.04882283294651344,0.04903068527552858,0.04923733332212284,0.04944274619851765,0.04964689289629122,0.049849742298066914,0.05005126318944968,0.05025142427120398,0.05045019417166758,0.05064754145939375,0.050843434656016054,0.05103784224932807,0.05123073270657161,0.05142207448792557,0.05161183606018872,0.051799985910648105,0.05198649256112596,0.05217132458219724,0.05235445060756913,0.05253583934861562,0.052715459609057685,0.052893280299781575,0.05306927045378644,0.05324339924125272,0.053415635984722994,0.053585950174385825,0.05375431148345488,0.05392068978363331,0.05408505516065534,0.0542473779298955,0.05440762865203664,0.05456577814878764,0.05472179751864152,0.05487565815266505,0.05502733175030996,0.05517679033523763,0.055324006271146475,0.0554689522775944,0.05561160144580565,0.055751927254453354,0.055889903585408615,0.05602550473944652,0.056158705451899917,0.05628948090825167,0.0564178067596562,0.05654365913838111,0.05666701467315958,0.056787850504444556,0.05690614429955546,0.05702187426770846,0.0571350191749212,0.057245558358783144,0.0573534717430825,0.05745873985228081,0.05756134382582665,0.057661265432299366,0.057758487083374596,0.05785299184760252,0.057944763463990606,0.05803378635538242,0.058120045641624006,0.0582035271525094,0.05828421744049757,0.05836210379319202,0.05843717424557548,0.05850941759199166,0.058578823397865895,0.05864538201115735,0.05870908457353487,0.058769923031268795,0.05882789014583162,0.05888297950419961,0.058935185528848674,0.05898450348743678,0.05903092950216611,0.059074460558818,0.059115094515453576,0.059152830110773616,0.05918766697213068,0.059219605623187246,0.059248647491213086,0.05927479491401587,0.05929805114649861,0.059318420366837835,0.05933590768227654,0.059350519134526096,0.05936226170477114,0.05937114331827223,0.05937717284856021,0.05938036012121729,0.05938071591723948,0.05937825197597499,0.05937298099763401,0.05936491664536447,0.05935407354688943,0.059340467295701235,0.05932411445180799,0.05930503254202803,0.05928324005982799,0.05925875646470072,0.059231602181078646,0.05920179859677927,0.05916936806097868,0.05913433388170988,0.05909672032288263,0.05905655260082124,0.05901385688031769,0.05896866027019706,0.05892099081839242,0.0588708775065269,0.0588183502440004,0.05876343986157888,0.058706178104484134,0.058646597624982255,0.05858473197446931,0.05852061559505256,0.05845428381062613,0.05838577281744023,0.05831511967416275,0.05824236229143301,0.058167539420907105,0.05809069064379451,0.058011856358886456,0.05793107777007577,0.057848396873369325,0.05776385644339333,0.0576775000193929,0.05758937189072683,0.057499517081859464,0.057407981336851065,0.057314811103348934,0.05722005351608185,0.057123756379859884,0.057025968152082926,0.05692673792476106,0.056826115406050016,0.05672415090130582,0.05662089529366231,0.05651640002413641,0.056410717071265416,0.05630389893028153,0.056195998591829,0.05608706952022949,0.05597716563130173,0.05586634126974165,0.05575465118606991,0.05564215051315376,0.055528894742310354,0.055414939698999896,0.05530034151811586,0.05518515661888151,0.0550694416793609,0.05495325361059397,0.05483664953036512,0.05471968673661491,0.054602422680505754,0.05448491493915145,0.05436722118802248,0.054249399173037484,0.05413150668235352,0.05401360151786675,0.05389574146643615,0.05377798427084312,0.053660387600500396,0.05354300902192364,0.0534259059689798,0.05330913571292649,0.05319275533225736,0.05307682168236809,0.052961391365058834,0.05284652069788846,0.05273226568339726,0.052618681978213844,0.05250582486206363,0.05239374920669573,0.052282509444745766,0.052172159538552046,0.05206275294894379,0.051954342604019044,0.05184698086793137,0.05174071950970407,0.05163560967209106,0.051531701840503936,0.051429045812024995,0.05132769066452581,0.05122768472591199,0.05112907554351398,0.05103190985364487,0.050936233551345834,0.050842091660340046,0.050749528303216156,0.05065858667186282,0.050569308998175314,0.05048173652505592,0.05039590947772951,0.050311867035396154,0.05022964730324253,0.05014928728483339,0.05007082285490569,0.04999428873258666,0.04991971845505752,0.04984714435168525,0.04977659751864344,0.04970810779404449,0.04964170373360428,0.049577412586861186,0.04951526027397055,0.049455271363096014,0.04939746904841869,0.049341875128785,0.04928850998701402,0.04923739256988463,0.04918854036882275,0.04914196940130857,0.04909769419302333,0.049055727760755195,0.04901608159608295,0.04897876564985638,0.048943788317491375,0.04891115642509789,0.04888087521645782,0.048852948340870256,0.04882737784188025,0.04880416414690727,0.04878330605778902,0.048764800742255435,0.048748643726347414,0.04873482888779423,0.048723348450362886,0.048714192979192016,0.04870735137712272,0.0487028108820373,0.048700557065217226,0.04870057383072993,0.04870284341585407,0.04870734639255192,0.04871406166999681,0.04872296649816279,0.04873403647248281,0.04874724553958158,0.048762566004087134,0.04877996853652598,0.048799422182304535,0.04882089437177939,0.04884435093141803,0.04886975609605063,0.04889707252221277,0.04892626130257804,0.048957281981478584,0.048990092571510865,0.04902464957122272,0.04906090798387749,0.04909882133728912,0.04913834170472248,0.049179419726850956,0.049222004634763346,0.049266044274010996,0.04931148512968466,0.04935827235251051,0.04940634978595303,0.04945565999431214,0.049506144291800676,0.049557742772587635,0.04961039434179145,0.04966403674740716,0.04971860661314966,0.0497740394721953,0.04983026980180217,0.04988723105878976,0.049944855715856655,0.05000307529871477,0.050061820424017876,0.05012102083806081,0.050180605456225665,0.05024050240314976,0.05030063905359009,0.05036094207395777,0.05042133746449552,0.05048175060207036,0.050542106283553045,0.05060232876975547,0.05066234182989566,0.05072206878656106,0.050781432561137964,0.05084035571967671,0.05089876051916002,0.050956568954142,0.051013702803725226,0.05107008367884196,0.05112563306980592,0.05118027239410039,0.05123392304436772,0.05128650643656578,0.05133794405825566,0.05138815751698528,0.051437068588733176,0.05148459926637645,0.05153067180814689,0.05157520878603867,0.05161813313413166,0.05165936819679368,0.051698837776725175,0.05173646618281003,0.05177217827773599,0.051805899525348253,0.05183755603770012,0.05186707462176442,0.05189438282576987,0.051919408985126675,0.051942082267905636,0.051962332719835976,0.051980091308786384,0.05199528996869544,0.05200786164291663,0.05201774032694451,0.05202486111048884,0.05202916021886333,0.052030575053657525,0.052029044232659256,0.052024507628997026,0.05201690640947159,0.0520061830720468,0.05199228148247049,0.051975146909996946,0.05195472606218301,0.051930967118730964,0.05190381976435163,0.051873235220622656,0.051839166276817075,0.051801567319678346,0.05176039436211949,0.051715605070823796,0.05166715879272635,0.05161501658035661,0.051559141216022356,0.05149949723481754,0.05143605094643653,0.05136877045577901,0.05129762568233031,0.051222588378303326,0.05114363214552941,0.051060732451085986,0.05097386664165065,0.050883013956571854,0.050788155539648154,0.050689274449608225,0.05058635566928575,0.050479386113484064,0.05036835463552671,0.050253252032490904,0.05013407104912252,0.05001080638043229,0.049883454672973226,0.0497520145248018,0.04961648648412545,0.04947687304664065,0.04933317865156656,0.04918540967638087,0.04903357443026499,0.04887768314626755,0.04871774797219529,0.0485537829602426,0.04838580405537123,0.048213829082453086,0.048037877732189954,0.047857971545825176,0.047674133898663144,0.04748638998241333,0.04729476678637718,0.0470992930774961,0.046899999379280966,0.04669691794964293,0.04649008275764799,0.04627952945921702,0.046065295371794684,0.045847419448011545,0.04562594224836344,0.04540090591293448,0.04517235413218953,0.044940332116862804],\"yaxis\":\"y\",\"type\":\"scatter\"},{\"legendgroup\":\"bmi_mean\",\"marker\":{\"color\":\"rgb(31, 119, 180)\",\"symbol\":\"line-ns-open\"},\"mode\":\"markers\",\"name\":\"bmi_mean\",\"showlegend\":false,\"x\":[30.09579923988839,29.435359597700078,16.32648114674164,20.068700736700052,24.839296378896947,27.831524855627176,13.191912191736765,18.525580056901987,22.12142161608569,27.71956696603433,18.598758084216097,29.051242656199765,29.322578742343122,14.830028026936311,20.75641241204263,22.9950964963041,22.341160366997187,28.860474997107282,18.10088929395246,20.2744789825052],\"xaxis\":\"x\",\"y\":[\"bmi_mean\",\"bmi_mean\",\"bmi_mean\",\"bmi_mean\",\"bmi_mean\",\"bmi_mean\",\"bmi_mean\",\"bmi_mean\",\"bmi_mean\",\"bmi_mean\",\"bmi_mean\",\"bmi_mean\",\"bmi_mean\",\"bmi_mean\",\"bmi_mean\",\"bmi_mean\",\"bmi_mean\",\"bmi_mean\",\"bmi_mean\",\"bmi_mean\"],\"yaxis\":\"y2\",\"type\":\"scatter\"}],                        {\"barmode\":\"overlay\",\"hovermode\":\"closest\",\"legend\":{\"traceorder\":\"reversed\"},\"template\":{\"data\":{\"barpolar\":[{\"marker\":{\"line\":{\"color\":\"#E5ECF6\",\"width\":0.5},\"pattern\":{\"fillmode\":\"overlay\",\"size\":10,\"solidity\":0.2}},\"type\":\"barpolar\"}],\"bar\":[{\"error_x\":{\"color\":\"#2a3f5f\"},\"error_y\":{\"color\":\"#2a3f5f\"},\"marker\":{\"line\":{\"color\":\"#E5ECF6\",\"width\":0.5},\"pattern\":{\"fillmode\":\"overlay\",\"size\":10,\"solidity\":0.2}},\"type\":\"bar\"}],\"carpet\":[{\"aaxis\":{\"endlinecolor\":\"#2a3f5f\",\"gridcolor\":\"white\",\"linecolor\":\"white\",\"minorgridcolor\":\"white\",\"startlinecolor\":\"#2a3f5f\"},\"baxis\":{\"endlinecolor\":\"#2a3f5f\",\"gridcolor\":\"white\",\"linecolor\":\"white\",\"minorgridcolor\":\"white\",\"startlinecolor\":\"#2a3f5f\"},\"type\":\"carpet\"}],\"choropleth\":[{\"colorbar\":{\"outlinewidth\":0,\"ticks\":\"\"},\"type\":\"choropleth\"}],\"contourcarpet\":[{\"colorbar\":{\"outlinewidth\":0,\"ticks\":\"\"},\"type\":\"contourcarpet\"}],\"contour\":[{\"colorbar\":{\"outlinewidth\":0,\"ticks\":\"\"},\"colorscale\":[[0.0,\"#0d0887\"],[0.1111111111111111,\"#46039f\"],[0.2222222222222222,\"#7201a8\"],[0.3333333333333333,\"#9c179e\"],[0.4444444444444444,\"#bd3786\"],[0.5555555555555556,\"#d8576b\"],[0.6666666666666666,\"#ed7953\"],[0.7777777777777778,\"#fb9f3a\"],[0.8888888888888888,\"#fdca26\"],[1.0,\"#f0f921\"]],\"type\":\"contour\"}],\"heatmapgl\":[{\"colorbar\":{\"outlinewidth\":0,\"ticks\":\"\"},\"colorscale\":[[0.0,\"#0d0887\"],[0.1111111111111111,\"#46039f\"],[0.2222222222222222,\"#7201a8\"],[0.3333333333333333,\"#9c179e\"],[0.4444444444444444,\"#bd3786\"],[0.5555555555555556,\"#d8576b\"],[0.6666666666666666,\"#ed7953\"],[0.7777777777777778,\"#fb9f3a\"],[0.8888888888888888,\"#fdca26\"],[1.0,\"#f0f921\"]],\"type\":\"heatmapgl\"}],\"heatmap\":[{\"colorbar\":{\"outlinewidth\":0,\"ticks\":\"\"},\"colorscale\":[[0.0,\"#0d0887\"],[0.1111111111111111,\"#46039f\"],[0.2222222222222222,\"#7201a8\"],[0.3333333333333333,\"#9c179e\"],[0.4444444444444444,\"#bd3786\"],[0.5555555555555556,\"#d8576b\"],[0.6666666666666666,\"#ed7953\"],[0.7777777777777778,\"#fb9f3a\"],[0.8888888888888888,\"#fdca26\"],[1.0,\"#f0f921\"]],\"type\":\"heatmap\"}],\"histogram2dcontour\":[{\"colorbar\":{\"outlinewidth\":0,\"ticks\":\"\"},\"colorscale\":[[0.0,\"#0d0887\"],[0.1111111111111111,\"#46039f\"],[0.2222222222222222,\"#7201a8\"],[0.3333333333333333,\"#9c179e\"],[0.4444444444444444,\"#bd3786\"],[0.5555555555555556,\"#d8576b\"],[0.6666666666666666,\"#ed7953\"],[0.7777777777777778,\"#fb9f3a\"],[0.8888888888888888,\"#fdca26\"],[1.0,\"#f0f921\"]],\"type\":\"histogram2dcontour\"}],\"histogram2d\":[{\"colorbar\":{\"outlinewidth\":0,\"ticks\":\"\"},\"colorscale\":[[0.0,\"#0d0887\"],[0.1111111111111111,\"#46039f\"],[0.2222222222222222,\"#7201a8\"],[0.3333333333333333,\"#9c179e\"],[0.4444444444444444,\"#bd3786\"],[0.5555555555555556,\"#d8576b\"],[0.6666666666666666,\"#ed7953\"],[0.7777777777777778,\"#fb9f3a\"],[0.8888888888888888,\"#fdca26\"],[1.0,\"#f0f921\"]],\"type\":\"histogram2d\"}],\"histogram\":[{\"marker\":{\"pattern\":{\"fillmode\":\"overlay\",\"size\":10,\"solidity\":0.2}},\"type\":\"histogram\"}],\"mesh3d\":[{\"colorbar\":{\"outlinewidth\":0,\"ticks\":\"\"},\"type\":\"mesh3d\"}],\"parcoords\":[{\"line\":{\"colorbar\":{\"outlinewidth\":0,\"ticks\":\"\"}},\"type\":\"parcoords\"}],\"pie\":[{\"automargin\":true,\"type\":\"pie\"}],\"scatter3d\":[{\"line\":{\"colorbar\":{\"outlinewidth\":0,\"ticks\":\"\"}},\"marker\":{\"colorbar\":{\"outlinewidth\":0,\"ticks\":\"\"}},\"type\":\"scatter3d\"}],\"scattercarpet\":[{\"marker\":{\"colorbar\":{\"outlinewidth\":0,\"ticks\":\"\"}},\"type\":\"scattercarpet\"}],\"scattergeo\":[{\"marker\":{\"colorbar\":{\"outlinewidth\":0,\"ticks\":\"\"}},\"type\":\"scattergeo\"}],\"scattergl\":[{\"marker\":{\"colorbar\":{\"outlinewidth\":0,\"ticks\":\"\"}},\"type\":\"scattergl\"}],\"scattermapbox\":[{\"marker\":{\"colorbar\":{\"outlinewidth\":0,\"ticks\":\"\"}},\"type\":\"scattermapbox\"}],\"scatterpolargl\":[{\"marker\":{\"colorbar\":{\"outlinewidth\":0,\"ticks\":\"\"}},\"type\":\"scatterpolargl\"}],\"scatterpolar\":[{\"marker\":{\"colorbar\":{\"outlinewidth\":0,\"ticks\":\"\"}},\"type\":\"scatterpolar\"}],\"scatter\":[{\"fillpattern\":{\"fillmode\":\"overlay\",\"size\":10,\"solidity\":0.2},\"type\":\"scatter\"}],\"scatterternary\":[{\"marker\":{\"colorbar\":{\"outlinewidth\":0,\"ticks\":\"\"}},\"type\":\"scatterternary\"}],\"surface\":[{\"colorbar\":{\"outlinewidth\":0,\"ticks\":\"\"},\"colorscale\":[[0.0,\"#0d0887\"],[0.1111111111111111,\"#46039f\"],[0.2222222222222222,\"#7201a8\"],[0.3333333333333333,\"#9c179e\"],[0.4444444444444444,\"#bd3786\"],[0.5555555555555556,\"#d8576b\"],[0.6666666666666666,\"#ed7953\"],[0.7777777777777778,\"#fb9f3a\"],[0.8888888888888888,\"#fdca26\"],[1.0,\"#f0f921\"]],\"type\":\"surface\"}],\"table\":[{\"cells\":{\"fill\":{\"color\":\"#EBF0F8\"},\"line\":{\"color\":\"white\"}},\"header\":{\"fill\":{\"color\":\"#C8D4E3\"},\"line\":{\"color\":\"white\"}},\"type\":\"table\"}]},\"layout\":{\"annotationdefaults\":{\"arrowcolor\":\"#2a3f5f\",\"arrowhead\":0,\"arrowwidth\":1},\"autotypenumbers\":\"strict\",\"coloraxis\":{\"colorbar\":{\"outlinewidth\":0,\"ticks\":\"\"}},\"colorscale\":{\"diverging\":[[0,\"#8e0152\"],[0.1,\"#c51b7d\"],[0.2,\"#de77ae\"],[0.3,\"#f1b6da\"],[0.4,\"#fde0ef\"],[0.5,\"#f7f7f7\"],[0.6,\"#e6f5d0\"],[0.7,\"#b8e186\"],[0.8,\"#7fbc41\"],[0.9,\"#4d9221\"],[1,\"#276419\"]],\"sequential\":[[0.0,\"#0d0887\"],[0.1111111111111111,\"#46039f\"],[0.2222222222222222,\"#7201a8\"],[0.3333333333333333,\"#9c179e\"],[0.4444444444444444,\"#bd3786\"],[0.5555555555555556,\"#d8576b\"],[0.6666666666666666,\"#ed7953\"],[0.7777777777777778,\"#fb9f3a\"],[0.8888888888888888,\"#fdca26\"],[1.0,\"#f0f921\"]],\"sequentialminus\":[[0.0,\"#0d0887\"],[0.1111111111111111,\"#46039f\"],[0.2222222222222222,\"#7201a8\"],[0.3333333333333333,\"#9c179e\"],[0.4444444444444444,\"#bd3786\"],[0.5555555555555556,\"#d8576b\"],[0.6666666666666666,\"#ed7953\"],[0.7777777777777778,\"#fb9f3a\"],[0.8888888888888888,\"#fdca26\"],[1.0,\"#f0f921\"]]},\"colorway\":[\"#636efa\",\"#EF553B\",\"#00cc96\",\"#ab63fa\",\"#FFA15A\",\"#19d3f3\",\"#FF6692\",\"#B6E880\",\"#FF97FF\",\"#FECB52\"],\"font\":{\"color\":\"#2a3f5f\"},\"geo\":{\"bgcolor\":\"white\",\"lakecolor\":\"white\",\"landcolor\":\"#E5ECF6\",\"showlakes\":true,\"showland\":true,\"subunitcolor\":\"white\"},\"hoverlabel\":{\"align\":\"left\"},\"hovermode\":\"closest\",\"mapbox\":{\"style\":\"light\"},\"paper_bgcolor\":\"white\",\"plot_bgcolor\":\"#E5ECF6\",\"polar\":{\"angularaxis\":{\"gridcolor\":\"white\",\"linecolor\":\"white\",\"ticks\":\"\"},\"bgcolor\":\"#E5ECF6\",\"radialaxis\":{\"gridcolor\":\"white\",\"linecolor\":\"white\",\"ticks\":\"\"}},\"scene\":{\"xaxis\":{\"backgroundcolor\":\"#E5ECF6\",\"gridcolor\":\"white\",\"gridwidth\":2,\"linecolor\":\"white\",\"showbackground\":true,\"ticks\":\"\",\"zerolinecolor\":\"white\"},\"yaxis\":{\"backgroundcolor\":\"#E5ECF6\",\"gridcolor\":\"white\",\"gridwidth\":2,\"linecolor\":\"white\",\"showbackground\":true,\"ticks\":\"\",\"zerolinecolor\":\"white\"},\"zaxis\":{\"backgroundcolor\":\"#E5ECF6\",\"gridcolor\":\"white\",\"gridwidth\":2,\"linecolor\":\"white\",\"showbackground\":true,\"ticks\":\"\",\"zerolinecolor\":\"white\"}},\"shapedefaults\":{\"line\":{\"color\":\"#2a3f5f\"}},\"ternary\":{\"aaxis\":{\"gridcolor\":\"white\",\"linecolor\":\"white\",\"ticks\":\"\"},\"baxis\":{\"gridcolor\":\"white\",\"linecolor\":\"white\",\"ticks\":\"\"},\"bgcolor\":\"#E5ECF6\",\"caxis\":{\"gridcolor\":\"white\",\"linecolor\":\"white\",\"ticks\":\"\"}},\"title\":{\"x\":0.05},\"xaxis\":{\"automargin\":true,\"gridcolor\":\"white\",\"linecolor\":\"white\",\"ticks\":\"\",\"title\":{\"standoff\":15},\"zerolinecolor\":\"white\",\"zerolinewidth\":2},\"yaxis\":{\"automargin\":true,\"gridcolor\":\"white\",\"linecolor\":\"white\",\"ticks\":\"\",\"title\":{\"standoff\":15},\"zerolinecolor\":\"white\",\"zerolinewidth\":2}}},\"xaxis\":{\"anchor\":\"y2\",\"domain\":[0.0,1.0],\"zeroline\":false},\"yaxis\":{\"anchor\":\"free\",\"domain\":[0.35,1],\"position\":0.0},\"yaxis2\":{\"anchor\":\"x\",\"domain\":[0,0.25],\"dtick\":1,\"showticklabels\":false}},                        {\"responsive\": true}                    ).then(function(){\n",
              "                            \n",
              "var gd = document.getElementById('b59d31ac-0e9b-4cca-818f-acd40b745b67');\n",
              "var x = new MutationObserver(function (mutations, observer) {{\n",
              "        var display = window.getComputedStyle(gd).display;\n",
              "        if (!display || display === 'none') {{\n",
              "            console.log([gd, 'removed!']);\n",
              "            Plotly.purge(gd);\n",
              "            observer.disconnect();\n",
              "        }}\n",
              "}});\n",
              "\n",
              "// Listen for the removal of the full notebook cells\n",
              "var notebookContainer = gd.closest('#notebook-container');\n",
              "if (notebookContainer) {{\n",
              "    x.observe(notebookContainer, {childList: true});\n",
              "}}\n",
              "\n",
              "// Listen for the clearing of the current output cell\n",
              "var outputEl = gd.closest('.output');\n",
              "if (outputEl) {{\n",
              "    x.observe(outputEl, {childList: true});\n",
              "}}\n",
              "\n",
              "                        })                };                });            </script>        </div>"
            ]
          },
          "metadata": {},
          "output_type": "display_data"
        }
      ],
      "source": [
        "dict_of_fig = visualization_api.kernel_density_estimation(session, series_1_id, 2)\n",
        "fig = go.Figure(dict_of_fig[\"figure\"])\n",
        "fig.show()\n",
        "\n",
        "# TODO: This is ugly UX. Researcher shouldn't have to fish out 'figure' from the json\n",
        "# Why aren't all steps held inside the client? ADD TO TECH DEBT"
      ]
    }
  ],
  "metadata": {
    "colab": {
      "provenance": []
    },
    "kernelspec": {
      "display_name": "Python 3.8.10 ('venv38_sail')",
      "language": "python",
      "name": "python3"
    },
    "language_info": {
      "codemirror_mode": {
        "name": "ipython",
        "version": 3
      },
      "file_extension": ".py",
      "mimetype": "text/x-python",
      "name": "python",
      "nbconvert_exporter": "python",
      "pygments_lexer": "ipython3",
      "version": "3.8.10"
    },
    "orig_nbformat": 4,
    "vscode": {
      "interpreter": {
        "hash": "229c0ee7a8d57afd62214254ad4dcd3448989c886ec30669907354b54cc615b5"
      }
    }
  },
  "nbformat": 4,
  "nbformat_minor": 0
}
