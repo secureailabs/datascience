{
 "cells": [
  {
   "cell_type": "code",
   "execution_count": 1,
   "id": "427c896c",
   "metadata": {},
   "outputs": [],
   "source": [
    "import os\n",
    "import pandas\n",
    "from scipy import stats\n",
    "import numpy as np\n",
    "from scipy.stats import t\n",
    "\n",
    "from sail_statstics.procedure.t_test_precompute import TTestPrecompute\n",
    "from sail_statstics.procedure.t_test_agregate import TTestAgregate"
   ]
  },
  {
   "cell_type": "code",
   "execution_count": 3,
   "id": "3ae635c9",
   "metadata": {},
   "outputs": [],
   "source": [
    "# TODO remove this hardcode\n",
    "SAIL_TEST_DATA_PATH = 'C:\\\\project\\\\data\\\\data_sail'\n",
    "id_csv_group = 'bmc'\n",
    "query_string = 'AGE>25 & AGE<50 & BMI>25 & BMI<30'\n",
    "id_table_0 = 'PD-L1 level before treatment'\n",
    "id_table_1 = 'PD-L1 level after treatment'\n",
    "\n",
    "path_dir_csv_group = os.path.join(SAIL_TEST_DATA_PATH, 'csv_groups', id_csv_group)\n",
    "list_name_file = os.listdir(path_dir_csv_group)\n",
    "list_data_frame = []\n",
    "for name_file in list_name_file:\n",
    "    path_file_csv = os.path.join(path_dir_csv_group, name_file)\n",
    "    list_data_frame.append(pandas.read_csv(path_file_csv))\n"
   ]
  },
  {
   "cell_type": "code",
   "execution_count": null,
   "id": "f0140a1c",
   "metadata": {},
   "outputs": [],
   "source": [
    "list_list_precompute = []\n",
    "for data_frame in list_data_frame:\n",
    "    sample_0 = data_frame.query(query_string)[id_table_0]\n",
    "    sample_1 = data_frame.query(query_string)[id_table_1]\n",
    "    list_list_precompute.append(TTestPrecompute.run(sample_0, sample_1))\n",
    "t_statistic, degrees_of_freedom = TTestAgregate.run(list_list_precompute)\n",
    "p_value = t.cdf(t_statistic, degrees_of_freedom)\n",
    "print('')\n",
    "print('via sail')\n",
    "print('t_statistic: ' + str(t_statistic))\n",
    "print('p_value: ' + str(p_value))"
   ]
  },
  {
   "cell_type": "code",
   "execution_count": null,
   "id": "a5ae5123",
   "metadata": {},
   "outputs": [],
   "source": [
    "\n",
    "sample_0 = data_frame.query(query_string)[id_table_0]\n",
    "sample_1 = data_frame.query(query_string)[id_table_1]\n",
    "t_statistic, p_value = stats.ttest_ind(sample_0, sample_1, equal_var=True, alternative='less')\n",
    "print('')\n",
    "print('via scipy')\n",
    "print('t_statistic: ' + str(t_statistic))\n",
    "print('p_value: ' + str(p_value))\n"
   ]
  },
  {
   "cell_type": "code",
   "execution_count": null,
   "id": "efa89f4b",
   "metadata": {},
   "outputs": [],
   "source": [
    "# dataframe_0 = []\n",
    "# dataframe_1 = []\n",
    "# query = ''\n",
    "# id_column = ''\n",
    "\n",
    "# from sail_statstics.tools_test import ToolsTest\n",
    "\n",
    "\n",
    "# ToolsTest.ttest_ind(dataframe_0, query, id_column, dataframe_1, query, id_column, equal_var=True)"
   ]
  }
 ],
 "metadata": {
  "kernelspec": {
   "display_name": "Python 3 (ipykernel)",
   "language": "python",
   "name": "python3"
  },
  "language_info": {
   "codemirror_mode": {
    "name": "ipython",
    "version": 3
   },
   "file_extension": ".py",
   "mimetype": "text/x-python",
   "name": "python",
   "nbconvert_exporter": "python",
   "pygments_lexer": "ipython3",
   "version": "3.9.10"
  }
 },
 "nbformat": 4,
 "nbformat_minor": 5
}
