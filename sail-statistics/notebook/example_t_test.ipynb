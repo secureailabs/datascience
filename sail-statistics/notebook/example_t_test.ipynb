{
 "cells": [
  {
   "cell_type": "code",
   "execution_count": 1,
   "id": "427c896c",
   "metadata": {},
   "outputs": [],
   "source": [
    "from scipy import stats\n",
    "import numpy as np\n",
    "from scipy.stats import t\n",
    "\n",
    "from sail_statstics.procedure.t_test_precompute import TTestPrecompute\n",
    "from sail_statstics.procedure.t_test_agregate import TTestAgregate"
   ]
  },
  {
   "cell_type": "code",
   "execution_count": 3,
   "id": "3ae635c9",
   "metadata": {},
   "outputs": [],
   "source": [
    "# This test follows https://en.wikipedia.org/w/index.php?title=Welch%27s_t-test&oldid=994214781#Examples\n",
    "# Example 1\n",
    "#\n",
    "\n",
    "sample_0 = np.array([27.5, 21.0, 19.0, 23.6, 17.0, 17.9, 16.9, 20.1, 21.9, 22.6, 23.1, 19.6, 19.0, 21.7, 21.4])\n",
    "sample_1 = np.array([27.1, 22.0, 20.8, 23.4, 23.4, 23.5, 25.8, 22.0, 24.8, 20.2, 21.9, 22.1, 22.9, 20.5, 24.4])\n"
   ]
  },
  {
   "cell_type": "code",
   "execution_count": 6,
   "id": "9881a7e6",
   "metadata": {},
   "outputs": [
    {
     "name": "stdout",
     "output_type": "stream",
     "text": [
      "\n",
      "via sail\n",
      "t_statistic: -2.4553563982860016\n",
      "p_value: 0.010272261367063083\n",
      "\n",
      "via scipy\n",
      "t_statistic: -2.455356398286006\n",
      "p_value: 0.010272261367062966\n"
     ]
    }
   ],
   "source": [
    "list_precompute_0 = TTestPrecompute.run(sample_0, sample_1)\n",
    "list_list_precompute = [list_precompute_0]\n",
    "t_statistic, degrees_of_freedom = TTestAgregate.run(list_list_precompute)\n",
    "p_value = t.cdf(t_statistic, degrees_of_freedom)\n",
    "print('')\n",
    "print('via sail')\n",
    "print('t_statistic: ' + str(t_statistic))\n",
    "print('p_value: ' + str(p_value))\n",
    "\n",
    "t_statistic, p_value = stats.ttest_ind(sample_0, sample_1, equal_var=True, alternative='less')\n",
    "print('')\n",
    "print('via scipy')\n",
    "print('t_statistic: ' + str(t_statistic))\n",
    "print('p_value: ' + str(p_value))\n"
   ]
  },
  {
   "cell_type": "code",
   "execution_count": null,
   "id": "efa89f4b",
   "metadata": {},
   "outputs": [],
   "source": [
    "dataframe_0 = []\n",
    "dataframe_1 = []\n",
    "query = ''\n",
    "id_column = ''\n",
    "\n",
    "from sail_statstics.tools_test import ToolsTest\n",
    "\n",
    "\n",
    "ToolsTest.ttest_ind(dataframe_0, query, id_column, dataframe_1, query, id_column, equal_var=True)"
   ]
  }
 ],
 "metadata": {
  "kernelspec": {
   "display_name": "Python 3 (ipykernel)",
   "language": "python",
   "name": "python3"
  },
  "language_info": {
   "codemirror_mode": {
    "name": "ipython",
    "version": 3
   },
   "file_extension": ".py",
   "mimetype": "text/x-python",
   "name": "python",
   "nbconvert_exporter": "python",
   "pygments_lexer": "ipython3",
   "version": "3.9.10"
  }
 },
 "nbformat": 4,
 "nbformat_minor": 5
}
