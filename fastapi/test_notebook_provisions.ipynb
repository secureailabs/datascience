{
    "cells": [
        {
            "cell_type": "markdown",
            "metadata": {},
            "source": [
                "# 0. Provision our SCNs"
            ]
        },
        {
            "cell_type": "code",
            "execution_count": 1,
            "metadata": {},
            "outputs": [
                {
                    "name": "stdout",
                    "output_type": "stream",
                    "text": [
                        "Id for federation is 4af40c28-d689-4ce4-9b30-165ae3999a63\n",
                        "{'data_federation_id': '4af40c28-d689-4ce4-9b30-165ae3999a63', 'secure_computation_nodes_size': 'Standard_D4s_v4'}\n",
                        "Provision id 723284d0-9cdb-4042-a753-9eebc4eaed2d\n",
                        "Smart broker id: fbd299b9-c983-4fbd-ad73-29ffcc195b56\n",
                        "Federation is being provisioned...\n",
                        "Federation is being provisioned...\n",
                        "Federation is being provisioned...\n",
                        "Federation is being provisioned...\n",
                        "Federation is being provisioned...\n",
                        "Federation is being provisioned...\n",
                        "Federation is being provisioned...\n",
                        "Federation is being provisioned...\n",
                        "Federation is up and running at 172.20.200.10:8000\n"
                    ]
                }
            ],
            "source": [
                "from platform_api import platform_api\n",
                "from smart_broker_api import session\n",
                "\n",
                "import time\n",
                "import warnings\n",
                "\n",
                "# We filter out because our certs are self-signed for now\n",
                "warnings.filterwarnings('ignore', message='Unverified HTTPS request')\n",
                "\n",
                "PLATFORM_IP = \"172.20.100.8\"\n",
                "PLATFORM_USER = \"admin@secureailabs.com\"\n",
                "FEDERATION_NAME = \"KCA Consortium\"\n",
                "# PASSWORD = getpass.getpass(prompt=\"Researcher password: \")\n",
                "PASSWORD = \"SailPassword@123\"\n",
                "platform_session = platform_api.login(PLATFORM_USER, PASSWORD, PLATFORM_IP)\n",
                "\n",
                "platform_api.provision_federation_by_name(platform_session, FEDERATION_NAME)\n",
                "\n",
                "federation_session = None\n",
                "while federation_session is None:\n",
                "    time.sleep(30)\n",
                "    federation_session = platform_api.connect_to_federation(platform_session, FEDERATION_NAME)\n",
                "\n",
                "session = session.Session(federation_session[\"ip\"], federation_session[\"port\"], True)\n",
                "\n",
                "print(f\"Federation is up and running at {session.ip}:{session.port}\")"
            ]
        },
        {
            "cell_type": "code",
            "execution_count": null,
            "metadata": {},
            "outputs": [],
            "source": [
                "from platform_api import platform_api\n",
                "\n",
                "import time\n",
                "import warnings\n",
                "\n",
                "# We filter out because our certs are self-signed for now\n",
                "warnings.filterwarnings('ignore', message='Unverified HTTPS request')\n",
                "\n",
                "PLATFORM_IP = \"172.20.100.12\"\n",
                "PLATFORM_USER = \"admin@secureailabs.com\"\n",
                "FEDERATION_NAME = \"KCA Consortium\"\n",
                "# PASSWORD = getpass.getpass(prompt=\"Researcher password: \")\n",
                "PASSWORD = \"SailPassword@123\"\n",
                "platform_session = platform_api.login(PLATFORM_USER, PASSWORD, PLATFORM_IP)\n",
                "\n",
                "ds_list = platform_api.get_federation_datasets_by_name(platform_session, FEDERATION_NAME)\n",
                "\n",
                "print(ds_list)"
            ]
        },
        {
            "cell_type": "markdown",
            "metadata": {},
            "source": [
                "# 1. Aggregation Model Creation"
            ]
        },
        {
            "cell_type": "code",
            "execution_count": 2,
            "metadata": {},
            "outputs": [
                {
                    "ename": "AttributeError",
                    "evalue": "'Session' object has no attribute 'get_url'",
                    "output_type": "error",
                    "traceback": [
                        "\u001b[0;31m---------------------------------------------------------------------------\u001b[0m",
                        "\u001b[0;31mAttributeError\u001b[0m                            Traceback (most recent call last)",
                        "Cell \u001b[0;32mIn [2], line 5\u001b[0m\n\u001b[1;32m      1\u001b[0m \u001b[38;5;28;01mfrom\u001b[39;00m \u001b[38;5;21;01msmart_broker_api\u001b[39;00m \u001b[38;5;28;01mimport\u001b[39;00m data_model_api\n\u001b[1;32m      3\u001b[0m DATA_FRAME_NAME \u001b[38;5;241m=\u001b[39m \u001b[38;5;124m\"\u001b[39m\u001b[38;5;124mdata_frame_demo\u001b[39m\u001b[38;5;124m\"\u001b[39m\n\u001b[0;32m----> 5\u001b[0m data_model_id \u001b[38;5;241m=\u001b[39m \u001b[43mdata_model_api\u001b[49m\u001b[38;5;241;43m.\u001b[39;49m\u001b[43mcreate_date_frame\u001b[49m\u001b[43m(\u001b[49m\u001b[43msession\u001b[49m\u001b[43m,\u001b[49m\u001b[43m \u001b[49m\u001b[43mDATA_FRAME_NAME\u001b[49m\u001b[43m)\u001b[49m\n\u001b[1;32m      6\u001b[0m data_model_api\u001b[38;5;241m.\u001b[39mdata_frame_add_series(session, data_model_id, \u001b[38;5;124m\"\u001b[39m\u001b[38;5;124mbmi_mean\u001b[39m\u001b[38;5;124m\"\u001b[39m, \u001b[38;5;124m\"\u001b[39m\u001b[38;5;124mObservation:Body Mass Index\u001b[39m\u001b[38;5;124m\"\u001b[39m, \u001b[38;5;124m\"\u001b[39m\u001b[38;5;124mAgregatorIntervalMean\u001b[39m\u001b[38;5;124m\"\u001b[39m)\n\u001b[1;32m      7\u001b[0m data_model_api\u001b[38;5;241m.\u001b[39mdata_frame_add_series(session, data_model_id, \u001b[38;5;124m\"\u001b[39m\u001b[38;5;124mbmi_first\u001b[39m\u001b[38;5;124m\"\u001b[39m, \u001b[38;5;124m\"\u001b[39m\u001b[38;5;124mObservation:Body Mass Index\u001b[39m\u001b[38;5;124m\"\u001b[39m, \u001b[38;5;124m\"\u001b[39m\u001b[38;5;124mAgregatorIntervalFirstOccurance\u001b[39m\u001b[38;5;124m\"\u001b[39m)\n",
                        "File \u001b[0;32m~/SAIL/eng_ssh/datascience/fastapi/smart_broker_api/data_model_api.py:6\u001b[0m, in \u001b[0;36mcreate_date_frame\u001b[0;34m(session, data_frame_name)\u001b[0m\n\u001b[1;32m      4\u001b[0m \u001b[39mdef\u001b[39;00m \u001b[39mcreate_date_frame\u001b[39m(session, data_frame_name):\n\u001b[1;32m      5\u001b[0m     payload \u001b[39m=\u001b[39m {\u001b[39m\"\u001b[39m\u001b[39mdata_frame_name\u001b[39m\u001b[39m\"\u001b[39m: data_frame_name}\n\u001b[0;32m----> 6\u001b[0m     \u001b[39mprint\u001b[39m(session\u001b[39m.\u001b[39;49mget_url())\n\u001b[1;32m      7\u001b[0m     result \u001b[39m=\u001b[39m requests\u001b[39m.\u001b[39mpost(session\u001b[39m.\u001b[39mget_url() \u001b[39m+\u001b[39m \u001b[39m\"\u001b[39m\u001b[39m/data_model/new_data_frame_model\u001b[39m\u001b[39m\"\u001b[39m, params\u001b[39m=\u001b[39mpayload, verify\u001b[39m=\u001b[39m\u001b[39mFalse\u001b[39;00m)\n\u001b[1;32m      8\u001b[0m     \u001b[39mreturn\u001b[39;00m result\u001b[39m.\u001b[39mjson()[\u001b[39m\"\u001b[39m\u001b[39mdata_model_id\u001b[39m\u001b[39m\"\u001b[39m]\n",
                        "\u001b[0;31mAttributeError\u001b[0m: 'Session' object has no attribute 'get_url'"
                    ]
                }
            ],
            "source": [
                "from smart_broker_api import data_model_api\n",
                "\n",
                "DATA_FRAME_NAME = \"data_frame_demo\"\n",
                "\n",
                "data_model_id = data_model_api.create_date_frame(session, DATA_FRAME_NAME)\n",
                "data_model_api.data_frame_add_series(session, data_model_id, \"bmi_mean\", \"Observation:Body Mass Index\", \"AgregatorIntervalMean\")\n",
                "data_model_api.data_frame_add_series(session, data_model_id, \"bmi_first\", \"Observation:Body Mass Index\", \"AgregatorIntervalFirstOccurance\")\n",
                "data_model_api.data_frame_add_series(session, data_model_id, \"bmi_last\", \"Observation:Body Mass Index\", \"AgregatorIntervalLastOccurance\")\n",
                "data_model_tabular_id = data_model_api.create_tabular_data(session)\n",
                "data_model_tabular_id = data_model_api.tabular_add_dataframe(session, data_model_id, data_model_tabular_id)"
            ]
        },
        {
            "cell_type": "markdown",
            "metadata": {},
            "source": [
                "# 2. Flatten / Aggregate data from Aggregation model"
            ]
        },
        {
            "cell_type": "code",
            "execution_count": null,
            "metadata": {},
            "outputs": [],
            "source": [
                "from smart_broker_api import data_api\n",
                "\n",
                "dataset_federation_id = \"a892f738-4f6f-11ed-bdc3-0242ac120002\"\n",
                "dataset_federation_name = \"r4sep2019_csvv1_20_1\"\n",
                "\n",
                "longitudinal_id = data_api.read_longitudinal_fhirv1(session)\n",
                "tabular_dataset_id = data_api.parse_dataset_tabular_from_longitudinal(session, longitudinal_id, dataset_federation_id, dataset_federation_name, data_model_tabular_id)\n",
                "data_frame_id = data_api.data_frame_tabular_select_data_frame(session, tabular_dataset_id, DATA_FRAME_NAME)"
            ]
        },
        {
            "cell_type": "markdown",
            "metadata": {},
            "source": [
                "# 3. Remove NaNs from data frame"
            ]
        },
        {
            "cell_type": "code",
            "execution_count": null,
            "metadata": {},
            "outputs": [],
            "source": [
                "from smart_broker_api import preprocessing_api\n",
                "\n",
                "no_nan_data_frame_id = preprocessing_api.drop_na_data_frame(session, data_frame_id)"
            ]
        },
        {
            "cell_type": "markdown",
            "metadata": {},
            "source": [
                "# 4. Grab series to work with in Statistics Lib"
            ]
        },
        {
            "cell_type": "code",
            "execution_count": null,
            "metadata": {},
            "outputs": [],
            "source": [
                "series_1_id = data_api.data_frame_select_series(session, no_nan_data_frame_id, \"bmi_mean\")\n",
                "series_2_id = data_api.data_frame_select_series(session, no_nan_data_frame_id, \"bmi_last\")\n",
                "\n",
                "print(series_1_id+\" , \"+series_2_id)"
            ]
        },
        {
            "cell_type": "markdown",
            "metadata": {},
            "source": [
                "# 5. Cohort selection"
            ]
        },
        {
            "cell_type": "code",
            "execution_count": null,
            "metadata": {},
            "outputs": [],
            "source": [
                "from smart_broker_api import preprocessing_api\n",
                "from smart_broker_api import statistics_api\n",
                "\n",
                "query = \"bmi_first > bmi_last\"\n",
                "query_dataframe = preprocessing_api.query_data_frame(session, no_nan_data_frame_id, query)\n",
                "query_series = data_api.data_frame_select_series(session, query_dataframe, \"bmi_last\")\n",
                "\n",
                "print(f\"Patients whose BMI decreased during study: {statistics_api.count(session,  query_series)}\")\n",
                "\n",
                "query = \"bmi_first < bmi_last\"\n",
                "query_dataframe = preprocessing_api.query_data_frame(session, no_nan_data_frame_id, query)\n",
                "query_series = data_api.data_frame_select_series(session, query_dataframe, \"bmi_last\")\n",
                "\n",
                "print(f\"Patients whose BMI increased during study: {statistics_api.count(session,  query_series)}\")\n",
                "\n",
                "query = \"bmi_first - bmi_last > 0.5\"\n",
                "query_dataframe = preprocessing_api.query_data_frame(session, no_nan_data_frame_id, query)\n",
                "query_series = data_api.data_frame_select_series(session, query_dataframe, \"bmi_last\")\n",
                "\n",
                "print(f\"Patients whose BMI significantly increased during study: {statistics_api.count(session,  query_series)}\")\n",
                "\n",
                "print(f\"Mean BMI of patients whose BMI increased: {statistics_api.mean(session, query_series)} \")"
            ]
        },
        {
            "cell_type": "markdown",
            "metadata": {},
            "source": [
                "# 6. Run Statistics Library"
            ]
        },
        {
            "cell_type": "code",
            "execution_count": null,
            "metadata": {},
            "outputs": [],
            "source": [
                "from smart_broker_api import statistics_api\n",
                "from smart_broker_api import visualization_api\n",
                "import plotly.graph_objects as go\n",
                "\n",
                "type_distribution=\"normalunit\"\n",
                "type_ranking=\"cdf\"\n",
                "alternative = \"two-sided\"\n",
                "print(statistics_api.count(session,  series_1_id))\n",
                "print(statistics_api.mean(session,  series_1_id))\n",
                "print(statistics_api.chisquare(session,  series_1_id, series_2_id))\n",
                "print(statistics_api.kolmogorovSmirnovTest(session,  series_1_id, type_distribution, type_ranking))\n",
                "print(statistics_api.kurtosis(session,  series_1_id))\n",
                "print(statistics_api.levene_test(session,  series_1_id, series_2_id))\n",
                "print(statistics_api.mann_whitney_u_test(session,  series_1_id, series_2_id, alternative, type_ranking))\n",
                "print(statistics_api.min_max(session,  series_1_id))\n",
                "print(statistics_api.paired_t_test(session,  series_1_id, series_2_id, alternative))\n",
                "print(statistics_api.pearson(session,  series_1_id, series_2_id, alternative))\n",
                "print(statistics_api.skewness(session,  series_1_id))\n",
                "print(statistics_api.spearman(session,  series_1_id, series_2_id, alternative, type_ranking))\n",
                "print(statistics_api.student_t_test(session,  series_1_id, series_2_id, alternative))\n",
                "print(statistics_api.variance(session,  series_1_id))\n",
                "print(statistics_api.welch_t_test(session,  series_1_id, series_2_id, alternative))\n",
                "print(statistics_api.wilcoxon_signed_rank_test(session,  series_1_id, series_2_id, alternative, type_ranking))\n",
                "print(statistics_api.wilcoxon_signed_rank_test(session,  series_1_id, series_2_id, alternative, type_ranking))\n",
                "\n",
                "\n",
                "\n",
                "dict_of_fig = visualization_api.histogram(session, series_1_id, 20)\n",
                "fig = go.Figure(dict_of_fig[\"figure\"])\n",
                "fig.show()\n",
                "\n",
                "\n",
                "dict_of_fig = visualization_api.kernel_density_estimation(session, series_1_id, 2)\n",
                "fig = go.Figure(dict_of_fig[\"figure\"])\n",
                "fig.show()\n",
                "\n",
                "\n"
            ]
        },
        {
            "cell_type": "markdown",
            "metadata": {},
            "source": [
                "# 7. Deprovision our Federation"
            ]
        },
        {
            "cell_type": "code",
            "execution_count": 3,
            "metadata": {},
            "outputs": [
                {
                    "name": "stdout",
                    "output_type": "stream",
                    "text": [
                        "{'KCA Consortium': {'provision_id': '723284d0-9cdb-4042-a753-9eebc4eaed2d', 'broker_id': 'fbd299b9-c983-4fbd-ad73-29ffcc195b56'}}\n",
                        "Deprovision ID is 723284d0-9cdb-4042-a753-9eebc4eaed2d\n"
                    ]
                }
            ],
            "source": [
                "\n",
                "print(platform_session.provision_clusters)\n",
                "platform_api.deprovision_federation_by_name(platform_session, FEDERATION_NAME)\n"
            ]
        },
        {
            "cell_type": "code",
            "execution_count": null,
            "metadata": {},
            "outputs": [],
            "source": [
                "from platform_api import platform_api\n",
                "\n",
                "PROVISION_ID = \"0de43d62-fb01-4c34-aaae-3f77a73f71e7\"\n",
                "PASSWORD=\"SailPassword@123\"\n",
                "\n",
                "platform_session = platform_api.login(\"admin@secureailabs.com\", PASSWORD, \"172.20.100.12\")\n",
                "\n",
                "platform_api.deprovision_federation_by_id(platform_session, PROVISION_ID)"
            ]
        }
    ],
    "metadata": {
        "kernelspec": {
            "display_name": "Python 3.8.10 64-bit",
            "language": "python",
            "name": "python3"
        },
        "language_info": {
            "codemirror_mode": {
                "name": "ipython",
                "version": 3
            },
            "file_extension": ".py",
            "mimetype": "text/x-python",
            "name": "python",
            "nbconvert_exporter": "python",
            "pygments_lexer": "ipython3",
            "version": "3.8.10"
        },
        "orig_nbformat": 4,
        "vscode": {
            "interpreter": {
                "hash": "916dbcbb3f70747c44a77c7bcd40155683ae19c65e1c03b4aa3499c5328201f1"
            }
        }
    },
    "nbformat": 4,
    "nbformat_minor": 2
}
