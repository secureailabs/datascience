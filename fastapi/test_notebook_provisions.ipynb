{
    "cells": [
        {
            "cell_type": "markdown",
            "metadata": {},
            "source": [
                "# 0. Provision our SCNs"
            ]
        },
        {
            "cell_type": "code",
            "execution_count": 1,
            "metadata": {},
            "outputs": [
                {
                    "name": "stdout",
                    "output_type": "stream",
                    "text": [
                        "Id for federation is ab87a4bc-1ac5-4728-9af5-e21ead002ae8\n",
                        "{'data_federation_id': 'ab87a4bc-1ac5-4728-9af5-e21ead002ae8', 'secure_computation_nodes_size': 'Standard_D4s_v4'}\n",
                        "Provision id 6390a3f6-b735-48df-977b-25e9291bbfc9\n",
                        "Smart broker id: 52cb4c68-5dff-43f4-b2df-0de9929e6acc\n",
                        "State is CREATING\n",
                        "State is CREATING\n",
                        "State is INITIALIZING\n",
                        "State is INITIALIZING\n",
                        "State is INITIALIZING\n",
                        "State is INITIALIZING\n",
                        "State is INITIALIZING\n",
                        "State is WAITING_FOR_DATA\n",
                        "Federation is alive, endpoint not up yet\n",
                        "State is WAITING_FOR_DATA\n",
                        "Federation is up and running at 172.20.200.10:8000\n"
                    ]
                }
            ],
            "source": [
                "from platform_api import platform_api\n",
                "\n",
                "import time\n",
                "import warnings\n",
                "\n",
                "warnings.filterwarnings('ignore', message='Unverified HTTPS request')\n",
                "\n",
                "PLATFORM_IP = \"172.20.100.12\"\n",
                "PLATFORM_USER = \"admin@secureailabs.com\"\n",
                "FEDERATION_NAME = \"KCA Consortium\"\n",
                "# PASSWORD = getpass.getpass(prompt=\"Researcher password: \")\n",
                "PASSWORD = \"SailPassword@123\"\n",
                "platform_session = platform_api.login(PLATFORM_USER, PASSWORD, PLATFORM_IP)\n",
                "\n",
                "platform_api.provision_federation_by_name(platform_session, FEDERATION_NAME)\n",
                "\n",
                "federation_session = None\n",
                "while federation_session is None:\n",
                "    time.sleep(30)\n",
                "    federation_session = platform_api.connect_to_federation(platform_session, FEDERATION_NAME)\n",
                "\n",
                "\n",
                "class Session():\n",
                "    def __init__(self, ip, port):\n",
                "        self.ip = ip\n",
                "        self.port = port\n",
                "\n",
                "session = Session(federation_session[\"ip\"], federation_session[\"port\"])\n",
                "\n",
                "print(f\"Federation is up and running at {session.ip}:{session.port}\")"
            ]
        },
        {
            "cell_type": "markdown",
            "metadata": {},
            "source": [
                "# 1. Aggregation Model Creation"
            ]
        },
        {
            "cell_type": "code",
            "execution_count": 2,
            "metadata": {},
            "outputs": [],
            "source": [
                "from smart_broker_api import data_model_api\n",
                "\n",
                "DATA_FRAME_NAME = \"data_frame_am_sunday2\"\n",
                "\n",
                "data_model_id = data_model_api.create_date_frame(session, DATA_FRAME_NAME)\n",
                "data_model_api.data_frame_add_series(session, data_model_id, \"bmi_mean\", \"Observation:Body Mass Index\", \"AgregatorIntervalMean\")\n",
                "data_model_api.data_frame_add_series(session, data_model_id, \"bmi_first\", \"Observation:Body Mass Index\", \"AgregatorIntervalFirstOccurance\")\n",
                "data_model_api.data_frame_add_series(session, data_model_id, \"bmi_last\", \"Observation:Body Mass Index\", \"AgregatorIntervalLastOccurance\")\n",
                "data_model_tabular_id = data_model_api.create_tabular_data(session)\n",
                "data_model_tabular_id = data_model_api.tabular_add_dataframe(session, data_model_id, data_model_tabular_id)"
            ]
        },
        {
            "cell_type": "markdown",
            "metadata": {},
            "source": [
                "# 2. Flatten / Aggregate data from Aggregation model"
            ]
        },
        {
            "cell_type": "code",
            "execution_count": 3,
            "metadata": {},
            "outputs": [],
            "source": [
                "from smart_broker_api import data_api\n",
                "\n",
                "dataset_federation_id = \"a892f738-4f6f-11ed-bdc3-0242ac120002\"\n",
                "dataset_federation_name = \"r4sep2019_csvv1_20_1\"\n",
                "\n",
                "longitudinal_id = data_api.read_longitudinal_fhirv1(session)\n",
                "tabular_dataset_id = data_api.parse_dataset_tabular_from_longitudinal(session, longitudinal_id, dataset_federation_id, dataset_federation_name, data_model_tabular_id)\n",
                "data_frame_id = data_api.data_frame_tabular_select_data_frame(session, tabular_dataset_id, DATA_FRAME_NAME)"
            ]
        },
        {
            "cell_type": "markdown",
            "metadata": {},
            "source": [
                "# 3. Remove NaNs from data frame"
            ]
        },
        {
            "cell_type": "code",
            "execution_count": 4,
            "metadata": {},
            "outputs": [],
            "source": [
                "from smart_broker_api import preprocessing_api\n",
                "\n",
                "no_nan_data_frame_id = preprocessing_api.drop_na_data_frame(session, data_frame_id)"
            ]
        },
        {
            "cell_type": "markdown",
            "metadata": {},
            "source": [
                "# 4. Grab series to work with in Statistics Lib"
            ]
        },
        {
            "cell_type": "code",
            "execution_count": 5,
            "metadata": {},
            "outputs": [
                {
                    "name": "stdout",
                    "output_type": "stream",
                    "text": [
                        "65effae6-dcaa-43e6-b83d-568006bedc0d , 07f382f9-bba9-4ed1-b0bc-bc498f7212e5\n"
                    ]
                }
            ],
            "source": [
                "series_1_id = data_api.data_frame_select_series(session, no_nan_data_frame_id, \"bmi_mean\")\n",
                "series_2_id = data_api.data_frame_select_series(session, no_nan_data_frame_id, \"bmi_last\")\n",
                "\n",
                "print(series_1_id+\" , \"+series_2_id)"
            ]
        },
        {
            "cell_type": "markdown",
            "metadata": {},
            "source": [
                "# 5. Cohort selection"
            ]
        },
        {
            "cell_type": "code",
            "execution_count": 6,
            "metadata": {},
            "outputs": [
                {
                    "name": "stdout",
                    "output_type": "stream",
                    "text": [
                        "Patients whose BMI decreased during study: {'count': 11}\n",
                        "Patients whose BMI increased during study: {'count': 20}\n",
                        "Patients whose BMI significantly increased during study: Validation Failure: Sample size too small\n",
                        "Mean BMI of patients whose BMI increased: Validation Failure: Sample size too small \n"
                    ]
                }
            ],
            "source": [
                "from smart_broker_api import preprocessing_api\n",
                "from smart_broker_api import statistics_api\n",
                "\n",
                "query = \"bmi_first > bmi_last\"\n",
                "query_dataframe = preprocessing_api.query_data_frame(session, no_nan_data_frame_id, query)\n",
                "query_series = data_api.data_frame_select_series(session, query_dataframe, \"bmi_last\")\n",
                "\n",
                "print(f\"Patients whose BMI decreased during study: {statistics_api.count(session,  query_series)}\")\n",
                "\n",
                "query = \"bmi_first < bmi_last\"\n",
                "query_dataframe = preprocessing_api.query_data_frame(session, no_nan_data_frame_id, query)\n",
                "query_series = data_api.data_frame_select_series(session, query_dataframe, \"bmi_last\")\n",
                "\n",
                "print(f\"Patients whose BMI increased during study: {statistics_api.count(session,  query_series)}\")\n",
                "\n",
                "query = \"bmi_first - bmi_last > 0.5\"\n",
                "query_dataframe = preprocessing_api.query_data_frame(session, no_nan_data_frame_id, query)\n",
                "query_series = data_api.data_frame_select_series(session, query_dataframe, \"bmi_last\")\n",
                "\n",
                "print(f\"Patients whose BMI significantly increased during study: {statistics_api.count(session,  query_series)}\")\n",
                "\n",
                "print(f\"Mean BMI of patients whose BMI increased: {statistics_api.mean(session, query_series)} \")"
            ]
        },
        {
            "cell_type": "markdown",
            "metadata": {},
            "source": [
                "# 6. Run Statistics Library"
            ]
        },
        {
            "cell_type": "code",
            "execution_count": 7,
            "metadata": {},
            "outputs": [
                {
                    "name": "stdout",
                    "output_type": "stream",
                    "text": [
                        "{'count': 39}\n",
                        "{'mean': 24.077978156595098}\n",
                        "{'chisquare': [1482.0, 0.23780643207804403]}\n",
                        "{'kolmogorov_smirnov_test': [0.9487179487179487, 9.765177766940755e-51]}\n",
                        "{'kurtosis': -1.0554004280481166}\n",
                        "{'f_statistic': 0.47272283843484714, 'p_value': 0.4938301638491879}\n",
                        "{'w_statistic': 744.0, 'p_value': 0.8729644921296094}\n",
                        "{'min': 10.752068498358543, 'max': 35.31937886703387}\n",
                        "{'t_statistic': -4.130790631792743, 'p_value': 4.7798856986232363e-05}\n",
                        "{'pearson': 0.9478269693987731, 'p_value': 0.0}\n",
                        "{'skewness': -0.3911170171411883}\n",
                        "{'spearman': 0.9603105783145206, 'p_value': 0.0}\n",
                        "{'t_statistic': -0.944694014962469, 'p_value': 0.08695220786668176}\n",
                        "{'variance': 30.349529322447076}\n",
                        "{'t_statistic': -0.9446940149624687, 'p_value': 0.08695241043625723}\n",
                        "{'w_statistic': 0.9603105783145206, 'p_value': 0.0}\n",
                        "{'w_statistic': 0.9603105783145206, 'p_value': 0.0}\n"
                    ]
                },
                {
                    "ename": "KeyError",
                    "evalue": "'figure'",
                    "output_type": "error",
                    "traceback": [
                        "\u001b[0;31m---------------------------------------------------------------------------\u001b[0m",
                        "\u001b[0;31mKeyError\u001b[0m                                  Traceback (most recent call last)",
                        "Cell \u001b[0;32mIn [7], line 29\u001b[0m\n\u001b[1;32m     24\u001b[0m \u001b[38;5;28mprint\u001b[39m(statistics_api\u001b[38;5;241m.\u001b[39mwilcoxon_signed_rank_test(session,  series_1_id, series_2_id, alternative, type_ranking))\n\u001b[1;32m     28\u001b[0m dict_of_fig \u001b[38;5;241m=\u001b[39m visualization_api\u001b[38;5;241m.\u001b[39mhistogram(session, series_1_id, \u001b[38;5;241m20\u001b[39m)\n\u001b[0;32m---> 29\u001b[0m fig \u001b[38;5;241m=\u001b[39m go\u001b[38;5;241m.\u001b[39mFigure(\u001b[43mdict_of_fig\u001b[49m\u001b[43m[\u001b[49m\u001b[38;5;124;43m\"\u001b[39;49m\u001b[38;5;124;43mfigure\u001b[39;49m\u001b[38;5;124;43m\"\u001b[39;49m\u001b[43m]\u001b[49m)\n\u001b[1;32m     30\u001b[0m fig\u001b[38;5;241m.\u001b[39mshow()\n\u001b[1;32m     33\u001b[0m dict_of_fig \u001b[38;5;241m=\u001b[39m visualization_api\u001b[38;5;241m.\u001b[39mkernel_density_estimation(session, series_1_id, \u001b[38;5;241m2\u001b[39m)\n",
                        "\u001b[0;31mKeyError\u001b[0m: 'figure'"
                    ]
                }
            ],
            "source": [
                "from smart_broker_api import statistics_api\n",
                "from smart_broker_api import visualization_api\n",
                "import plotly.graph_objects as go\n",
                "\n",
                "type_distribution=\"normalunit\"\n",
                "type_ranking=\"cdf\"\n",
                "alternative = \"two-sided\"\n",
                "print(statistics_api.count(session,  series_1_id))\n",
                "print(statistics_api.mean(session,  series_1_id))\n",
                "print(statistics_api.chisquare(session,  series_1_id, series_2_id))\n",
                "print(statistics_api.kolmogorovSmirnovTest(session,  series_1_id, type_distribution, type_ranking))\n",
                "print(statistics_api.kurtosis(session,  series_1_id))\n",
                "print(statistics_api.levene_test(session,  series_1_id, series_2_id))\n",
                "print(statistics_api.mann_whitney_u_test(session,  series_1_id, series_2_id, alternative, type_ranking))\n",
                "print(statistics_api.min_max(session,  series_1_id))\n",
                "print(statistics_api.paired_t_test(session,  series_1_id, series_2_id, alternative))\n",
                "print(statistics_api.pearson(session,  series_1_id, series_2_id, alternative))\n",
                "print(statistics_api.skewness(session,  series_1_id))\n",
                "print(statistics_api.spearman(session,  series_1_id, series_2_id, alternative, type_ranking))\n",
                "print(statistics_api.student_t_test(session,  series_1_id, series_2_id, alternative))\n",
                "print(statistics_api.variance(session,  series_1_id))\n",
                "print(statistics_api.welch_t_test(session,  series_1_id, series_2_id, alternative))\n",
                "print(statistics_api.wilcoxon_signed_rank_test(session,  series_1_id, series_2_id, alternative, type_ranking))\n",
                "print(statistics_api.wilcoxon_signed_rank_test(session,  series_1_id, series_2_id, alternative, type_ranking))\n",
                "\n",
                "\n",
                "\n",
                "dict_of_fig = visualization_api.histogram(session, series_1_id, 20)\n",
                "fig = go.Figure(dict_of_fig[\"figure\"])\n",
                "fig.show()\n",
                "\n",
                "\n",
                "dict_of_fig = visualization_api.kernel_density_estimation(session, series_1_id, 2)\n",
                "fig = go.Figure(dict_of_fig[\"figure\"])\n",
                "fig.show()\n",
                "\n",
                "\n"
            ]
        },
        {
            "cell_type": "markdown",
            "metadata": {},
            "source": [
                "# 7. Deprovision our Federation"
            ]
        },
        {
            "cell_type": "code",
            "execution_count": 8,
            "metadata": {},
            "outputs": [
                {
                    "name": "stdout",
                    "output_type": "stream",
                    "text": [
                        "Deprovision ID is 6390a3f6-b735-48df-977b-25e9291bbfc9\n"
                    ]
                }
            ],
            "source": [
                "platform_api.deprovision_federation_by_name(platform_session, FEDERATION_NAME)"
            ]
        },
        {
            "cell_type": "code",
            "execution_count": null,
            "metadata": {},
            "outputs": [],
            "source": [
                "from platform_api import platform_api\n",
                "\n",
                "PROVISION_ID = \"1eef3b58-7791-4e35-b7e0-c4de97b724d6\"\n",
                "PASSWORD=\"SailPassword@123\"\n",
                "\n",
                "platform_session = platform_api.login(\"admin@secureailabs.com\", PASSWORD, \"172.20.100.12\")\n",
                "\n",
                "platform_api.deprovision_federation_by_id(platform_session, PROVISION_ID)"
            ]
        }
    ],
    "metadata": {
        "kernelspec": {
            "display_name": "Python 3.8.10 64-bit",
            "language": "python",
            "name": "python3"
        },
        "language_info": {
            "codemirror_mode": {
                "name": "ipython",
                "version": 3
            },
            "file_extension": ".py",
            "mimetype": "text/x-python",
            "name": "python",
            "nbconvert_exporter": "python",
            "pygments_lexer": "ipython3",
            "version": "3.8.10"
        },
        "orig_nbformat": 4,
        "vscode": {
            "interpreter": {
                "hash": "916dbcbb3f70747c44a77c7bcd40155683ae19c65e1c03b4aa3499c5328201f1"
            }
        }
    },
    "nbformat": 4,
    "nbformat_minor": 2
}
