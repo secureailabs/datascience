{
 "cells": [
  {
   "cell_type": "code",
   "execution_count": 13,
   "metadata": {},
   "outputs": [
    {
     "name": "stdout",
     "output_type": "stream",
     "text": [
      "env: PATH_FILE_PRIVATE_KEY_ZEROMQ_CLIENT=/home/adam/Engineering/Docker/smart_broker/private_keys/client.key_secret\n",
      "env: PATH_DIR_PUBLIC_KEY_ZEROMQ=/home/adam/Engineering/Docker/smart_broker/public_keys\n"
     ]
    }
   ],
   "source": [
    "# %env PATH_FILE_PRIVATE_KEY_ZEROMQ_CLIENT=/home/adam/Engineering/Docker/smart_broker/private_keys/client.key_secret\n",
    "# %env  PATH_FILE_PRIVATE_KEY_ZEROMQ_SERVER=/home/adam/Engineering/Docker/smart_broker/private_keys/server.key_secret\n",
    "# %env PATH_DIR_PUBLIC_KEY_ZEROMQ=/home/adam/Engineering/Docker/smart_broker/public_keys\n",
    "# %env PATH_DIR_DATASET=/home/adam/datascience/data"
   ]
  },
  {
   "cell_type": "code",
   "execution_count": 1,
   "metadata": {},
   "outputs": [],
   "source": [
    "class Session():\n",
    "    def __init__(self, ip, port):\n",
    "        self.ip = ip\n",
    "        self.port = port\n",
    "\n",
    "session = Session(\"127.0.0.1\", \"8000\")"
   ]
  },
  {
   "cell_type": "markdown",
   "metadata": {},
   "source": [
    "# 1. Data Model Creation"
   ]
  },
  {
   "cell_type": "code",
   "execution_count": 2,
   "metadata": {},
   "outputs": [],
   "source": [
    "from smart_broker_api import data_model_api\n",
    "data_model_id = data_model_api.create_date_frame(session, \"data_frame_0\")\n",
    "data_model_api.data_frame_add_series(session, data_model_id, \"bmi_mean\", \"Observation:Body Mass Index\")\n",
    "data_model_api.data_frame_add_series(session, data_model_id, \"bmi_first\", \"Observation:Body Mass Index\")\n",
    "data_model_api.data_frame_add_series(session, data_model_id, \"bmi_last\", \"Observation:Body Mass Index\")\n",
    "data_model_tabular_id = data_model_api.create_tabular_data(session)\n",
    "data_model_tabular_id = data_model_api.tabular_add_dataframe(session, data_model_id, data_model_tabular_id)"
   ]
  },
  {
   "cell_type": "markdown",
   "metadata": {},
   "source": [
    "# 2. Parse Data from Data Model Specification"
   ]
  },
  {
   "cell_type": "code",
   "execution_count": 3,
   "metadata": {},
   "outputs": [],
   "source": [
    "from smart_broker_api import data_api\n",
    "\n",
    "dataset_federation_id = \"a892f738-4f6f-11ed-bdc3-0242ac120002\"\n",
    "dataset_federation_name = \"r4sep2019_csvv1_20_1\"\n",
    "\n",
    "longitudinal_id = data_api.read_longitudinal_fhirv1(session)\n",
    "tabular_dataset_id = data_api.parse_dataset_tabular_from_longitudinal(session, longitudinal_id, dataset_federation_id, dataset_federation_name, data_model_tabular_id)\n",
    "data_frame_id = data_api.data_frame_tabular_select_data_frame(session, tabular_dataset_id, \"data_frame_0\")"
   ]
  },
  {
   "cell_type": "markdown",
   "metadata": {},
   "source": [
    "# 3. Grab series to work with in Statistics Lib"
   ]
  },
  {
   "cell_type": "code",
   "execution_count": 4,
   "metadata": {},
   "outputs": [
    {
     "name": "stdout",
     "output_type": "stream",
     "text": [
      "83527a08-eb6d-4d25-9b66-cda5d5ef435f , 159246a8-011a-4894-847c-99dc6a580d10\n"
     ]
    }
   ],
   "source": [
    "series_1_id = data_api.data_frame_select_series(session, data_frame_id, \"bmi_mean\")\n",
    "series_2_id = data_api.data_frame_select_series(session, data_frame_id, \"bmi_last\")\n",
    "\n",
    "print(series_1_id+\" , \"+series_2_id)"
   ]
  },
  {
   "cell_type": "markdown",
   "metadata": {},
   "source": [
    "# 4. Run Statistics Library"
   ]
  },
  {
   "cell_type": "code",
   "execution_count": 6,
   "metadata": {},
   "outputs": [
    {
     "name": "stdout",
     "output_type": "stream",
     "text": [
      "20\n",
      "22.76433814224586\n",
      "[380.0, 0.23583148842099294]\n",
      "-1.225866948308427\n",
      "(11.76951154694196, 30.172100539128525)\n",
      "-0.08041628194553505\n",
      "(0.0, 0.25)\n",
      "28.617281263722433\n",
      "(0.0, 0.25)\n"
     ]
    }
   ],
   "source": [
    "from smart_broker_api import statistics_api\n",
    "\n",
    "type_distribution=\"normalunit\" \n",
    "type_ranking=\"unsafe\"\n",
    "alternative = \"two-sided\"\n",
    "print(statistics_api.count(session,  series_1_id))\n",
    "print(statistics_api.mean(session,  series_1_id))\n",
    "print(statistics_api.chisquare(session,  series_1_id, series_2_id))\n",
    "# print(kolmogorovSmirnovTest(session,  series_1_id, type_distribution, type_ranking)) # RANK DATAFRAME NOT FOUND\n",
    "print(statistics_api.kurtosis(session,  series_1_id))\n",
    "# print(levene_test(session,  series_1_id, series_2_id)) # NDARRAY SERIALISATION\n",
    "# mann_whitney_u_test(session,  series_1_id, series_2_id, alternative, type_ranking)  # RANK DATAFRAME NOT FOUND\n",
    "print(statistics_api.min_max(session,  series_1_id))\n",
    "# print(paired_t_test(session,  series_1_id, series_2_id, alternative)) # ValueError: Out of range float values are not JSON compliant\n",
    "# print(pearson(session,  series_1_id, series_2_id, alternative)) # ValueError: math domain error\n",
    "print(statistics_api.skewness(session,  series_1_id))\n",
    "# print(spearman(session,  series_1_id, series_2_id, alternative, type_ranking))  # RANK DATAFRAME NOT FOUND\n",
    "print(statistics_api.student_t_test(session,  series_1_id, series_2_id, alternative))\n",
    "print(statistics_api.variance(session,  series_1_id))\n",
    "print(statistics_api.welch_t_test(session,  series_1_id, series_2_id, alternative))\n",
    "# # # print(wilcoxon_signed_rank_test(session,  series_1_id, series_2_id, alternative, type_ranking)) # RANK DataFrame not loaded: 30459bd2-2880-4829-8d05-1e6bb9c1a71f\n",
    "\n",
    "\n",
    "\n",
    "\n",
    "\n"
   ]
  },
  {
   "cell_type": "code",
   "execution_count": null,
   "metadata": {},
   "outputs": [],
   "source": []
  }
 ],
 "metadata": {
  "kernelspec": {
   "display_name": "Python 3.8.10 ('venv38_sail')",
   "language": "python",
   "name": "python3"
  },
  "language_info": {
   "codemirror_mode": {
    "name": "ipython",
    "version": 3
   },
   "file_extension": ".py",
   "mimetype": "text/x-python",
   "name": "python",
   "nbconvert_exporter": "python",
   "pygments_lexer": "ipython3",
   "version": "3.8.10"
  },
  "orig_nbformat": 4,
  "vscode": {
   "interpreter": {
    "hash": "229c0ee7a8d57afd62214254ad4dcd3448989c886ec30669907354b54cc615b5"
   }
  }
 },
 "nbformat": 4,
 "nbformat_minor": 2
}
