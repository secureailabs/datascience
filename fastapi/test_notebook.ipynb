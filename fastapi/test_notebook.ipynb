{
 "cells": [
  {
   "cell_type": "code",
   "execution_count": 46,
   "metadata": {},
   "outputs": [],
   "source": [
    "# %env PATH_FILE_PRIVATE_KEY_ZEROMQ_CLIENT=/home/adam/Engineering/Docker/smart_broker/private_keys/client.key_secret\n",
    "# %env  PATH_FILE_PRIVATE_KEY_ZEROMQ_SERVER=/home/adam/Engineering/Docker/smart_broker/private_keys/server.key_secret\n",
    "# %env PATH_DIR_PUBLIC_KEY_ZEROMQ=/home/adam/Engineering/Docker/smart_broker/public_keys\n",
    "# %env PATH_DIR_DATASET=/home/adam/datascience/data"
   ]
  },
  {
   "cell_type": "code",
   "execution_count": 47,
   "metadata": {},
   "outputs": [],
   "source": [
    "class Session():\n",
    "    def __init__(self, ip, port):\n",
    "        self.ip = ip\n",
    "        self.port = port\n",
    "\n",
    "session = Session(\"127.0.0.1\", \"8000\")"
   ]
  },
  {
   "cell_type": "markdown",
   "metadata": {},
   "source": [
    "# 1. Data Model Creation"
   ]
  },
  {
   "cell_type": "code",
   "execution_count": 48,
   "metadata": {},
   "outputs": [],
   "source": [
    "# from smart_broker_api import data_model_api\n",
    "\n",
    "# series_name = \"bmi_mean\"\n",
    "# measurement_source_name = \"Observation:Body Mass Index\"\n",
    "# type_aggregator = \"AgregatorIntervalMean\"\n",
    "# unit = \"kg/m2\"\n",
    "\n",
    "# data_model_api.create_series(session, series_name, measurement_source_name, type_aggregator, unit)"
   ]
  },
  {
   "cell_type": "code",
   "execution_count": 49,
   "metadata": {},
   "outputs": [],
   "source": [
    "from smart_broker_api import data_model_api\n",
    "\n",
    "data_model_id = data_model_api.create_date_frame(session, \"data_frame_0\")\n",
    "data_model_api.data_frame_add_series(session, data_model_id, \"bmi_mean\", \"Observation:Body Mass Index\", \"AgregatorIntervalMean\")\n",
    "data_model_api.data_frame_add_series(session, data_model_id, \"bmi_first\", \"Observation:Body Mass Index\", \"AgregatorIntervalFirstOccurance\")\n",
    "data_model_api.data_frame_add_series(session, data_model_id, \"bmi_last\", \"Observation:Body Mass Index\", \"AgregatorIntervalLastOccurance\")\n",
    "data_model_tabular_id = data_model_api.create_tabular_data(session)\n",
    "data_model_tabular_id = data_model_api.tabular_add_dataframe(session, data_model_id, data_model_tabular_id)"
   ]
  },
  {
   "cell_type": "markdown",
   "metadata": {},
   "source": [
    "# 2. Parse Data from Data Model Specification"
   ]
  },
  {
   "cell_type": "code",
   "execution_count": 50,
   "metadata": {},
   "outputs": [],
   "source": [
    "from smart_broker_api import data_api\n",
    "\n",
    "dataset_federation_id = \"a892f738-4f6f-11ed-bdc3-0242ac120002\"\n",
    "dataset_federation_name = \"r4sep2019_csvv1_20_1\"\n",
    "\n",
    "longitudinal_id = data_api.read_longitudinal_fhirv1(session)\n",
    "tabular_dataset_id = data_api.parse_dataset_tabular_from_longitudinal(session, longitudinal_id, dataset_federation_id, dataset_federation_name, data_model_tabular_id)\n",
    "data_frame_id = data_api.data_frame_tabular_select_data_frame(session, tabular_dataset_id, \"data_frame_0\")"
   ]
  },
  {
   "cell_type": "code",
   "execution_count": 51,
   "metadata": {},
   "outputs": [],
   "source": [
    "from smart_broker_api import preprocessing_api\n",
    "\n",
    "no_nan_data_frame_id = preprocessing_api.drop_na_data_frame(session, data_frame_id)"
   ]
  },
  {
   "cell_type": "markdown",
   "metadata": {},
   "source": [
    "# 3. Grab series to work with in Statistics Lib"
   ]
  },
  {
   "cell_type": "code",
   "execution_count": 52,
   "metadata": {},
   "outputs": [
    {
     "name": "stdout",
     "output_type": "stream",
     "text": [
      "b6abe1c1-2327-4581-913b-b94bef604559 , 53d02db4-8068-451a-a4f9-7a8ab5f2bcb6\n"
     ]
    }
   ],
   "source": [
    "series_1_id = data_api.data_frame_select_series(session, no_nan_data_frame_id, \"bmi_mean\")\n",
    "series_2_id = data_api.data_frame_select_series(session, no_nan_data_frame_id, \"bmi_last\")\n",
    "\n",
    "print(series_1_id+\" , \"+series_2_id)"
   ]
  },
  {
   "cell_type": "markdown",
   "metadata": {},
   "source": [
    "# 4. Run Statistics Library"
   ]
  },
  {
   "cell_type": "code",
   "execution_count": 53,
   "metadata": {},
   "outputs": [
    {
     "name": "stdout",
     "output_type": "stream",
     "text": [
      "20\n",
      "22.76433814224586\n",
      "[380.0, 0.23583148842099294]\n",
      "[0.95, 1.9073486328125338e-26]\n",
      "-1.225866948308427\n",
      "(0.003760306204864892, 0.9514246952891092)\n",
      "(180.0, 0.5978625674290079)\n",
      "(11.76951154694196, 30.172100539128525)\n",
      "(-3.842534659324879, 0.00027445641167562454)\n",
      "(0.9332515128886971, 1.9573960230445664e-09)\n",
      "-0.08041628194553505\n",
      "(0.9505828978811472, 1.394346860195128e-10)\n",
      "(-0.999458438479299, 0.08097370675497725)\n",
      "28.617281263722433\n",
      "(-0.9994584384792992, 0.08097675209806848)\n",
      "(0.9505828978811472, 1.394346860195128e-10)\n"
     ]
    }
   ],
   "source": [
    "from smart_broker_api import statistics_api\n",
    "\n",
    "type_distribution=\"normalunit\" \n",
    "type_ranking=\"cdf\"\n",
    "alternative = \"two-sided\"\n",
    "print(statistics_api.count(session,  series_1_id))\n",
    "print(statistics_api.mean(session,  series_1_id))\n",
    "print(statistics_api.chisquare(session,  series_1_id, series_2_id))\n",
    "print(statistics_api.kolmogorovSmirnovTest(session,  series_1_id, type_distribution, type_ranking))\n",
    "print(statistics_api.kurtosis(session,  series_1_id))\n",
    "print(statistics_api.levene_test(session,  series_1_id, series_2_id))\n",
    "print(statistics_api.mann_whitney_u_test(session,  series_1_id, series_2_id, alternative, type_ranking))\n",
    "print(statistics_api.min_max(session,  series_1_id))\n",
    "print(statistics_api.paired_t_test(session,  series_1_id, series_2_id, alternative))\n",
    "print(statistics_api.pearson(session,  series_1_id, series_2_id, alternative))\n",
    "print(statistics_api.skewness(session,  series_1_id))\n",
    "print(statistics_api.spearman(session,  series_1_id, series_2_id, alternative, type_ranking)) \n",
    "print(statistics_api.student_t_test(session,  series_1_id, series_2_id, alternative))\n",
    "print(statistics_api.variance(session,  series_1_id))\n",
    "print(statistics_api.welch_t_test(session,  series_1_id, series_2_id, alternative))\n",
    "print(statistics_api.wilcoxon_signed_rank_test(session,  series_1_id, series_2_id, alternative, type_ranking))\n",
    "\n",
    "\n",
    "\n",
    "\n",
    "\n"
   ]
  },
  {
   "cell_type": "code",
   "execution_count": null,
   "metadata": {},
   "outputs": [],
   "source": []
  }
 ],
 "metadata": {
  "kernelspec": {
   "display_name": "Python 3.8.10 ('venv38_sail')",
   "language": "python",
   "name": "python3"
  },
  "language_info": {
   "codemirror_mode": {
    "name": "ipython",
    "version": 3
   },
   "file_extension": ".py",
   "mimetype": "text/x-python",
   "name": "python",
   "nbconvert_exporter": "python",
   "pygments_lexer": "ipython3",
   "version": "3.8.10"
  },
  "orig_nbformat": 4,
  "vscode": {
   "interpreter": {
    "hash": "229c0ee7a8d57afd62214254ad4dcd3448989c886ec30669907354b54cc615b5"
   }
  }
 },
 "nbformat": 4,
 "nbformat_minor": 2
}
