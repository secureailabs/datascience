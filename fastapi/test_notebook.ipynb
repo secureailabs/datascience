{
 "cells": [
  {
   "cell_type": "code",
   "execution_count": 13,
   "metadata": {},
   "outputs": [
    {
     "name": "stdout",
     "output_type": "stream",
     "text": [
      "env: PATH_FILE_PRIVATE_KEY_ZEROMQ_CLIENT=/home/adam/Engineering/Docker/smart_broker/private_keys/client.key_secret\n",
      "env: PATH_DIR_PUBLIC_KEY_ZEROMQ=/home/adam/Engineering/Docker/smart_broker/public_keys\n"
     ]
    }
   ],
   "source": [
    "# %env PATH_FILE_PRIVATE_KEY_ZEROMQ_CLIENT=/home/adam/Engineering/Docker/smart_broker/private_keys/client.key_secret\n",
    "# %env  PATH_FILE_PRIVATE_KEY_ZEROMQ_SERVER=/home/adam/Engineering/Docker/smart_broker/private_keys/server.key_secret\n",
    "# %env PATH_DIR_PUBLIC_KEY_ZEROMQ=/home/adam/Engineering/Docker/smart_broker/public_keys\n",
    "# %env PATH_DIR_DATASET=/home/adam/datascience/data"
   ]
  },
  {
   "cell_type": "markdown",
   "metadata": {},
   "source": [
    "# Connect to the SCN"
   ]
  },
  {
   "cell_type": "markdown",
   "metadata": {},
   "source": [
    "# Data Manipulation\n",
    "## 1. Bring Data to dataframe state"
   ]
  },
  {
   "cell_type": "code",
   "execution_count": 4,
   "metadata": {},
   "outputs": [],
   "source": [
    "import requests\n",
    "\n",
    "def create_data_model_date_frame(data_frame_name):\n",
    "    payload = {\"data_frame_name\": data_frame_name}\n",
    "    result = requests.post(\"http://127.0.0.1:8000/data_model/new_data_frame_model\", params=payload)\n",
    "    return result.json()[\"data_model_id\"]\n",
    "\n",
    "def data_model_add_series(data_model_id, series_name, measurement_source_name):\n",
    "    payload = {\"data_model_id\": data_model_id,\n",
    "                \"series_name\": series_name,\n",
    "                \"measurement_source_name\": measurement_source_name}\n",
    "    result = requests.post(\"http://127.0.0.1:8000/data_model/data_frame/\"+data_model_id+\"/add_new_series_model\", params=payload)\n",
    "    return result.json()[\"data_model_id\"]\n",
    "\n",
    "def get_data_model_tabular():\n",
    "    result = requests.post(\"http://127.0.0.1:8000/data_model/new_tabular_model\", params=None)\n",
    "    return result.json()[\"data_frame_tabular_id\"]\n",
    "\n",
    "def tabular_model_add_dataframe_model(data_model_dataframe_id, data_model_tabular_id):\n",
    "    payload = {\"data_model_dataframe_id\": data_model_dataframe_id,\n",
    "                \"data_model_tabular_id\": data_model_tabular_id}\n",
    "    result = requests.post(\"http://127.0.0.1:8000/data_model/tabular/\"+data_model_tabular_id+\"/add_dataframe\", params=payload)\n",
    "    return result.json()[\"data_frame_tabular_id\"]\n",
    "\n",
    "def dataset_tabular_fhirv1(dataset_federation_id, dataset_federation_name, data_model_tabular_id):\n",
    "    payload = {\"dataset_federation_id\": dataset_federation_id,\n",
    "                \"dataset_federation_name\": dataset_federation_name,\n",
    "                \"data_model_tabular_id\": data_model_tabular_id}\n",
    "    result = requests.post(\"http://127.0.0.1:8000/ingestion/dataset_tabular/fhirv1\", params=payload)\n",
    "    return result.json()[\"dataset_id\"]\n",
    "\n",
    "def data_frame_tabular_select_dataframe_model(data_frame_tabular_id, data_frame_name):\n",
    "    payload = {\"data_frame_tabular_id\": data_frame_tabular_id,\n",
    "                \"data_frame_name\": data_frame_name}\n",
    "    result = requests.post(\"http://127.0.0.1:8000/data_frame_tabular/select_dataframe/\"+tabular_dataset_id, params=payload)\n",
    "    return result.json()[\"data_frame_id\"]\n",
    "    \n",
    "def data_frame_select_series(data_frame_id, series_name):\n",
    "    payload = {\"data_frame_id\": data_frame_id,\n",
    "                \"series_name\": series_name}\n",
    "    result = requests.post(\"http://127.0.0.1:8000/data_frame/select_series/\"+data_frame_id, params=payload)\n",
    "    return result.json()[\"series_id\"]\n"
   ]
  },
  {
   "cell_type": "code",
   "execution_count": 16,
   "metadata": {},
   "outputs": [
    {
     "name": "stdout",
     "output_type": "stream",
     "text": [
      "ad8e7b94-451b-40c5-863c-73f396812eea , 0e058154-3239-4ea7-a3c6-4b82d0706e38\n"
     ]
    }
   ],
   "source": [
    "import requests\n",
    "\n",
    "data_model_id = create_data_model_date_frame(\"data_frame_0\")\n",
    "data_model_add_series(data_model_id, \"bmi_mean\", \"Observation:Body Mass Index\")\n",
    "data_model_add_series(data_model_id, \"bmi_first\", \"Observation:Body Mass Index\")\n",
    "data_model_add_series(data_model_id, \"bmi_last\", \"Observation:Body Mass Index\")\n",
    "data_model_tabular_id = get_data_model_tabular()\n",
    "data_model_tabular_id = tabular_model_add_dataframe_model(data_model_id, data_model_tabular_id)\n",
    "\n",
    "dataset_federation_id = \"a892f738-4f6f-11ed-bdc3-0242ac120002\"\n",
    "dataset_federation_name = \"r4sep2019_csvv1_20_1\"\n",
    "tabular_dataset_id = dataset_tabular_fhirv1(dataset_federation_id, dataset_federation_name, data_model_tabular_id)\n",
    "data_frame_id = data_frame_tabular_select_dataframe_model(tabular_dataset_id, \"data_frame_0\")\n",
    "series_1_id = data_frame_select_series(data_frame_id, \"bmi_mean\")\n",
    "series_2_id = data_frame_select_series(data_frame_id, \"bmi_last\")\n",
    "\n",
    "print(series_1_id+\" , \"+series_2_id)"
   ]
  },
  {
   "cell_type": "code",
   "execution_count": 18,
   "metadata": {},
   "outputs": [
    {
     "name": "stdout",
     "output_type": "stream",
     "text": [
      "20\n",
      "22.76433814224586\n",
      "[380.0, 0.23583148842099294]\n",
      "-1.225866948308427\n",
      "(11.76951154694196, 30.172100539128525)\n",
      "-0.08041628194553505\n",
      "(0.0, 0.25)\n",
      "28.617281263722433\n",
      "(0.0, 0.25)\n"
     ]
    },
    {
     "ename": "JSONDecodeError",
     "evalue": "Expecting value: line 1 column 1 (char 0)",
     "output_type": "error",
     "traceback": [
      "\u001b[0;31m---------------------------------------------------------------------------\u001b[0m",
      "\u001b[0;31mJSONDecodeError\u001b[0m                           Traceback (most recent call last)",
      "File \u001b[0;32m/mnt/c/Users/AdamHall/Documents/SAIL/datascience/venv38_sail/lib/python3.8/site-packages/requests/models.py:971\u001b[0m, in \u001b[0;36mResponse.json\u001b[0;34m(self, **kwargs)\u001b[0m\n\u001b[1;32m    970\u001b[0m \u001b[39mtry\u001b[39;00m:\n\u001b[0;32m--> 971\u001b[0m     \u001b[39mreturn\u001b[39;00m complexjson\u001b[39m.\u001b[39;49mloads(\u001b[39mself\u001b[39;49m\u001b[39m.\u001b[39;49mtext, \u001b[39m*\u001b[39;49m\u001b[39m*\u001b[39;49mkwargs)\n\u001b[1;32m    972\u001b[0m \u001b[39mexcept\u001b[39;00m JSONDecodeError \u001b[39mas\u001b[39;00m e:\n\u001b[1;32m    973\u001b[0m     \u001b[39m# Catch JSON-related errors and raise as requests.JSONDecodeError\u001b[39;00m\n\u001b[1;32m    974\u001b[0m     \u001b[39m# This aliases json.JSONDecodeError and simplejson.JSONDecodeError\u001b[39;00m\n",
      "File \u001b[0;32m/usr/lib/python3.8/json/__init__.py:357\u001b[0m, in \u001b[0;36mloads\u001b[0;34m(s, cls, object_hook, parse_float, parse_int, parse_constant, object_pairs_hook, **kw)\u001b[0m\n\u001b[1;32m    354\u001b[0m \u001b[39mif\u001b[39;00m (\u001b[39mcls\u001b[39m \u001b[39mis\u001b[39;00m \u001b[39mNone\u001b[39;00m \u001b[39mand\u001b[39;00m object_hook \u001b[39mis\u001b[39;00m \u001b[39mNone\u001b[39;00m \u001b[39mand\u001b[39;00m\n\u001b[1;32m    355\u001b[0m         parse_int \u001b[39mis\u001b[39;00m \u001b[39mNone\u001b[39;00m \u001b[39mand\u001b[39;00m parse_float \u001b[39mis\u001b[39;00m \u001b[39mNone\u001b[39;00m \u001b[39mand\u001b[39;00m\n\u001b[1;32m    356\u001b[0m         parse_constant \u001b[39mis\u001b[39;00m \u001b[39mNone\u001b[39;00m \u001b[39mand\u001b[39;00m object_pairs_hook \u001b[39mis\u001b[39;00m \u001b[39mNone\u001b[39;00m \u001b[39mand\u001b[39;00m \u001b[39mnot\u001b[39;00m kw):\n\u001b[0;32m--> 357\u001b[0m     \u001b[39mreturn\u001b[39;00m _default_decoder\u001b[39m.\u001b[39;49mdecode(s)\n\u001b[1;32m    358\u001b[0m \u001b[39mif\u001b[39;00m \u001b[39mcls\u001b[39m \u001b[39mis\u001b[39;00m \u001b[39mNone\u001b[39;00m:\n",
      "File \u001b[0;32m/usr/lib/python3.8/json/decoder.py:337\u001b[0m, in \u001b[0;36mJSONDecoder.decode\u001b[0;34m(self, s, _w)\u001b[0m\n\u001b[1;32m    333\u001b[0m \u001b[39m\"\"\"Return the Python representation of ``s`` (a ``str`` instance\u001b[39;00m\n\u001b[1;32m    334\u001b[0m \u001b[39mcontaining a JSON document).\u001b[39;00m\n\u001b[1;32m    335\u001b[0m \n\u001b[1;32m    336\u001b[0m \u001b[39m\"\"\"\u001b[39;00m\n\u001b[0;32m--> 337\u001b[0m obj, end \u001b[39m=\u001b[39m \u001b[39mself\u001b[39;49m\u001b[39m.\u001b[39;49mraw_decode(s, idx\u001b[39m=\u001b[39;49m_w(s, \u001b[39m0\u001b[39;49m)\u001b[39m.\u001b[39;49mend())\n\u001b[1;32m    338\u001b[0m end \u001b[39m=\u001b[39m _w(s, end)\u001b[39m.\u001b[39mend()\n",
      "File \u001b[0;32m/usr/lib/python3.8/json/decoder.py:355\u001b[0m, in \u001b[0;36mJSONDecoder.raw_decode\u001b[0;34m(self, s, idx)\u001b[0m\n\u001b[1;32m    354\u001b[0m \u001b[39mexcept\u001b[39;00m \u001b[39mStopIteration\u001b[39;00m \u001b[39mas\u001b[39;00m err:\n\u001b[0;32m--> 355\u001b[0m     \u001b[39mraise\u001b[39;00m JSONDecodeError(\u001b[39m\"\u001b[39m\u001b[39mExpecting value\u001b[39m\u001b[39m\"\u001b[39m, s, err\u001b[39m.\u001b[39mvalue) \u001b[39mfrom\u001b[39;00m \u001b[39mNone\u001b[39m\n\u001b[1;32m    356\u001b[0m \u001b[39mreturn\u001b[39;00m obj, end\n",
      "\u001b[0;31mJSONDecodeError\u001b[0m: Expecting value: line 1 column 1 (char 0)",
      "\nDuring handling of the above exception, another exception occurred:\n",
      "\u001b[0;31mJSONDecodeError\u001b[0m                           Traceback (most recent call last)",
      "Cell \u001b[0;32mIn [18], line 121\u001b[0m\n\u001b[1;32m    119\u001b[0m \u001b[39mprint\u001b[39m(variance(series_1_id))\n\u001b[1;32m    120\u001b[0m \u001b[39mprint\u001b[39m(welch_t_test(series_1_id, series_2_id, alternative))\n\u001b[0;32m--> 121\u001b[0m \u001b[39mprint\u001b[39m(wilcoxon_signed_rank_test(series_1_id, series_2_id, alternative, type_ranking))\n",
      "Cell \u001b[0;32mIn [18], line 100\u001b[0m, in \u001b[0;36mwilcoxon_signed_rank_test\u001b[0;34m(series_1_id, series_2_id, alternative, type_ranking)\u001b[0m\n\u001b[1;32m     95\u001b[0m payload \u001b[39m=\u001b[39m { \u001b[39m\"\u001b[39m\u001b[39mseries_1_id\u001b[39m\u001b[39m\"\u001b[39m: series_1_id,\n\u001b[1;32m     96\u001b[0m             \u001b[39m\"\u001b[39m\u001b[39mseries_2_id\u001b[39m\u001b[39m\"\u001b[39m: series_2_id,\n\u001b[1;32m     97\u001b[0m             \u001b[39m\"\u001b[39m\u001b[39malternative\u001b[39m\u001b[39m\"\u001b[39m: alternative,\n\u001b[1;32m     98\u001b[0m             \u001b[39m\"\u001b[39m\u001b[39mtype_ranking\u001b[39m\u001b[39m\"\u001b[39m: type_ranking}\n\u001b[1;32m     99\u001b[0m result \u001b[39m=\u001b[39m requests\u001b[39m.\u001b[39mpost(\u001b[39m\"\u001b[39m\u001b[39mhttp://127.0.0.1:8000/statistics/wilcoxon_signed_rank_test/\u001b[39m\u001b[39m\"\u001b[39m\u001b[39m+\u001b[39mseries_1_id\u001b[39m+\u001b[39m\u001b[39m\"\u001b[39m\u001b[39m/\u001b[39m\u001b[39m\"\u001b[39m\u001b[39m+\u001b[39mseries_2_id, params\u001b[39m=\u001b[39mpayload)\n\u001b[0;32m--> 100\u001b[0m \u001b[39mreturn\u001b[39;00m result\u001b[39m.\u001b[39;49mjson()[\u001b[39m'\u001b[39m\u001b[39mw_statistic_sail\u001b[39m\u001b[39m'\u001b[39m], result\u001b[39m.\u001b[39mjson()[\u001b[39m'\u001b[39m\u001b[39mp_value_sail\u001b[39m\u001b[39m'\u001b[39m]\n",
      "File \u001b[0;32m/mnt/c/Users/AdamHall/Documents/SAIL/datascience/venv38_sail/lib/python3.8/site-packages/requests/models.py:975\u001b[0m, in \u001b[0;36mResponse.json\u001b[0;34m(self, **kwargs)\u001b[0m\n\u001b[1;32m    971\u001b[0m     \u001b[39mreturn\u001b[39;00m complexjson\u001b[39m.\u001b[39mloads(\u001b[39mself\u001b[39m\u001b[39m.\u001b[39mtext, \u001b[39m*\u001b[39m\u001b[39m*\u001b[39mkwargs)\n\u001b[1;32m    972\u001b[0m \u001b[39mexcept\u001b[39;00m JSONDecodeError \u001b[39mas\u001b[39;00m e:\n\u001b[1;32m    973\u001b[0m     \u001b[39m# Catch JSON-related errors and raise as requests.JSONDecodeError\u001b[39;00m\n\u001b[1;32m    974\u001b[0m     \u001b[39m# This aliases json.JSONDecodeError and simplejson.JSONDecodeError\u001b[39;00m\n\u001b[0;32m--> 975\u001b[0m     \u001b[39mraise\u001b[39;00m RequestsJSONDecodeError(e\u001b[39m.\u001b[39mmsg, e\u001b[39m.\u001b[39mdoc, e\u001b[39m.\u001b[39mpos)\n",
      "\u001b[0;31mJSONDecodeError\u001b[0m: Expecting value: line 1 column 1 (char 0)"
     ]
    }
   ],
   "source": [
    "def count(series_id):\n",
    "    payload = {\"series_id\": series_id}\n",
    "    result = requests.post(\"http://127.0.0.1:8000/statistics/count/\"+series_id, params=payload)\n",
    "    return result.json()[\"count\"]\n",
    "\n",
    "def mean(series_id):\n",
    "    payload = {\"series_id\": series_id}\n",
    "    result = requests.post(\"http://127.0.0.1:8000/statistics/mean/\"+series_id, params=payload)\n",
    "    return result.json()[\"mean\"]\n",
    "\n",
    "def chisquare(series_1_id, series_2_id):\n",
    "    payload = {\"series_1_id\": series_1_id,\n",
    "                \"series_2_id\": series_2_id}\n",
    "    result = requests.post(\"http://127.0.0.1:8000/statistics/chisquare/\"+series_1_id+\"/\"+series_2_id, params=payload)\n",
    "    return result.json()[\"chisquare\"]\n",
    "\n",
    "def kolmogorovSmirnovTest(series_1_id, type_distribution, type_ranking):\n",
    "    payload = {\"series_1_id\": series_1_id,\n",
    "                \"type_distribution\": type_distribution,\n",
    "                \"type_ranking\": type_ranking}\n",
    "    result = requests.post(\"http://127.0.0.1:8000/statistics/kolmogorovSmirnovTest/\"+series_1_id, params=payload)\n",
    "    return result.json()[\"kolmogorov_smirnov_test\"]\n",
    "\n",
    "def kurtosis(series_id):\n",
    "    payload = {\"series_id\": series_id}\n",
    "    result = requests.post(\"http://127.0.0.1:8000/statistics/kurtosis/\"+series_id, params=payload)\n",
    "    return result.json()[\"kurtosis\"]\n",
    "\n",
    "def levene_test(series_1_id, series_2_id):\n",
    "    payload = {\"series_1_id\": series_1_id,\n",
    "                \"series_2_id\": series_2_id}\n",
    "    result = requests.post(\"http://127.0.0.1:8000/statistics/levene_test/\"+series_1_id+\"/\"+series_2_id, params=payload)\n",
    "    return result.json()['f_statistic_sail'], result.json()['p_value_sail']\n",
    "\n",
    "def mann_whitney_u_test(series_1_id, series_2_id, alternative, type_ranking):\n",
    "    payload = { \"series_1_id\": series_1_id,\n",
    "                \"series_2_id\": series_2_id,\n",
    "                \"alternative\": alternative,\n",
    "                \"type_ranking\": type_ranking}\n",
    "    result = requests.post(\"http://127.0.0.1:8000/statistics/mann_whitney_u_test/\"+series_1_id+\"/\"+series_2_id, params=payload)\n",
    "    return result.json()['w_statistic_sail'], result.json()['p_value_sail']\n",
    "\n",
    "def min_max(series_1_id):\n",
    "    payload = {\"series_id\": series_1_id}\n",
    "    result = requests.post(\"http://127.0.0.1:8000/statistics/min_max/\"+series_1_id, params=payload)\n",
    "    return result.json()['min_sail'], result.json()['max_sail']\n",
    "\n",
    "def paired_t_test(series_1_id, series_2_id, alternative):\n",
    "    payload = {\"series_1_id\": series_1_id,\n",
    "                \"series_2_id\": series_2_id,\n",
    "                \"alternative\": alternative}\n",
    "    result = requests.post(\"http://127.0.0.1:8000/statistics/paired_t_test/\"+series_1_id+\"/\"+series_2_id, params=payload)\n",
    "    return result.json()['t_statistic_sail'], result.json()['p_value_sail']\n",
    "\n",
    "def pearson(series_1_id, series_2_id, alternative):\n",
    "    payload = {\"series_1_id\": series_1_id,\n",
    "                \"series_2_id\": series_2_id,\n",
    "                \"alternative\": alternative}\n",
    "    result = requests.post(\"http://127.0.0.1:8000/statistics/pearson/\"+series_1_id+\"/\"+series_2_id, params=payload)\n",
    "    return result.json()['pearson_sail'], result.json()['p_value_sail']\n",
    "\n",
    "def skewness(series_id):\n",
    "    payload = {\"series_id\": series_id}\n",
    "    result = requests.post(\"http://127.0.0.1:8000/statistics/skewness/\"+series_id, params=payload)\n",
    "    return result.json()[\"skewness_sail\"]\n",
    "\n",
    "def spearman(series_1_id, series_2_id, alternative, type_ranking):\n",
    "    payload = { \"series_1_id\": series_1_id,\n",
    "                \"series_2_id\": series_2_id,\n",
    "                \"alternative\": alternative,\n",
    "                \"type_ranking\": type_ranking}\n",
    "    result = requests.post(\"http://127.0.0.1:8000/statistics/spearman/\"+series_1_id+\"/\"+series_2_id, params=payload)\n",
    "    return result.json()['spearman_sail'], result.json()['p_value_sail']\n",
    "\n",
    "def student_t_test(series_1_id, series_2_id, alternative):\n",
    "    payload = {\"series_1_id\": series_1_id,\n",
    "                \"series_2_id\": series_2_id,\n",
    "                \"alternative\": alternative}\n",
    "    result = requests.post(\"http://127.0.0.1:8000/statistics/student_t_test/\"+series_1_id+\"/\"+series_2_id, params=payload)\n",
    "    return result.json()['t_statistic_sail'], result.json()['p_value_sail']\n",
    "\n",
    "def variance(series_id):\n",
    "    payload = {\"series_id\": series_id}\n",
    "    result = requests.post(\"http://127.0.0.1:8000/statistics/variance/\"+series_id, params=payload)\n",
    "    return result.json()[\"variance_sail\"]\n",
    "\n",
    "def welch_t_test(series_1_id, series_2_id, alternative):\n",
    "    payload = {\"series_1_id\": series_1_id,\n",
    "                \"series_2_id\": series_2_id,\n",
    "                \"alternative\": alternative}\n",
    "    result = requests.post(\"http://127.0.0.1:8000/statistics/welch_t_test/\"+series_1_id+\"/\"+series_2_id, params=payload)\n",
    "    return result.json()['t_statistic_sail'], result.json()['p_value_sail']\n",
    "\n",
    "def wilcoxon_signed_rank_test(series_1_id, series_2_id, alternative, type_ranking):\n",
    "    payload = { \"series_1_id\": series_1_id,\n",
    "                \"series_2_id\": series_2_id,\n",
    "                \"alternative\": alternative,\n",
    "                \"type_ranking\": type_ranking}\n",
    "    result = requests.post(\"http://127.0.0.1:8000/statistics/wilcoxon_signed_rank_test/\"+series_1_id+\"/\"+series_2_id, params=payload)\n",
    "    return result.json()['w_statistic_sail'], result.json()['p_value_sail']\n",
    "\n",
    "\n",
    "type_distribution=\"normalunit\" \n",
    "type_ranking=\"unsafe\"\n",
    "alternative = \"two-sided\"\n",
    "print(count(series_1_id))\n",
    "print(mean(series_1_id))\n",
    "print(chisquare(series_1_id, series_2_id))\n",
    "# print(kolmogorovSmirnovTest(series_1_id, type_distribution, type_ranking)) # RANK DATAFRAME NOT FOUND\n",
    "print(kurtosis(series_1_id))\n",
    "# # print(levene_test(series_1_id, series_2_id)) # NDARRAY SERIALISATION\n",
    "# # mann_whitney_u_test(series_1_id, series_2_id, alternative, type_ranking)  # RANK DATAFRAME NOT FOUND\n",
    "print(min_max(series_1_id))\n",
    "# print(paired_t_test(series_1_id, series_2_id, alternative)) # ValueError: Out of range float values are not JSON compliant\n",
    "# print(pearson(series_1_id, series_2_id, alternative)) # ValueError: math domain error\n",
    "print(skewness(series_1_id))\n",
    "# print(spearman(series_1_id, series_2_id, alternative, type_ranking))  # RANK DATAFRAME NOT FOUND\n",
    "print(student_t_test(series_1_id, series_2_id, alternative))\n",
    "print(variance(series_1_id))\n",
    "print(welch_t_test(series_1_id, series_2_id, alternative))\n",
    "print(wilcoxon_signed_rank_test(series_1_id, series_2_id, alternative, type_ranking)) # RANK DataFrame not loaded: 30459bd2-2880-4829-8d05-1e6bb9c1a71f\n",
    "\n",
    "\n",
    "\n",
    "\n",
    "\n"
   ]
  },
  {
   "cell_type": "code",
   "execution_count": 86,
   "metadata": {},
   "outputs": [
    {
     "ename": "KeyError",
     "evalue": "'mean_sail'",
     "output_type": "error",
     "traceback": [
      "\u001b[0;31m---------------------------------------------------------------------------\u001b[0m",
      "\u001b[0;31mKeyError\u001b[0m                                  Traceback (most recent call last)",
      "Cell \u001b[0;32mIn [86], line 10\u001b[0m\n\u001b[1;32m      7\u001b[0m     \u001b[39mreturn\u001b[39;00m result\u001b[39m.\u001b[39mjson()[\u001b[39m'\u001b[39m\u001b[39mmean_sail\u001b[39m\u001b[39m'\u001b[39m]\n\u001b[1;32m      9\u001b[0m series \u001b[39m=\u001b[39m \u001b[39m\"\u001b[39m\u001b[39mRandom UUID\u001b[39m\u001b[39m\"\u001b[39m\n\u001b[0;32m---> 10\u001b[0m Mean(series)\n",
      "Cell \u001b[0;32mIn [86], line 7\u001b[0m, in \u001b[0;36mMean\u001b[0;34m(series_uuid)\u001b[0m\n\u001b[1;32m      5\u001b[0m payload \u001b[39m=\u001b[39m {\u001b[39m\"\u001b[39m\u001b[39mseries_uuid\u001b[39m\u001b[39m\"\u001b[39m: series_uuid}\n\u001b[1;32m      6\u001b[0m result \u001b[39m=\u001b[39m requests\u001b[39m.\u001b[39mget(\u001b[39m\"\u001b[39m\u001b[39mhttp://127.0.0.1:8000/mean\u001b[39m\u001b[39m\"\u001b[39m, params\u001b[39m=\u001b[39mpayload)\n\u001b[0;32m----> 7\u001b[0m \u001b[39mreturn\u001b[39;00m result\u001b[39m.\u001b[39;49mjson()[\u001b[39m'\u001b[39;49m\u001b[39mmean_sail\u001b[39;49m\u001b[39m'\u001b[39;49m]\n",
      "\u001b[0;31mKeyError\u001b[0m: 'mean_sail'"
     ]
    }
   ],
   "source": [
    "import requests\n",
    "import json\n",
    "\n",
    "def Mean(series_uuid):\n",
    "    payload = {\"series_uuid\": series_uuid}\n",
    "    result = requests.get(\"http://127.0.0.1:8000/mean\", params=payload)\n",
    "    return result.json()['mean_sail']\n",
    "\n",
    "series = \"Random UUID\"\n",
    "Mean(series)\n"
   ]
  },
  {
   "cell_type": "markdown",
   "metadata": {},
   "source": [
    "## 2. Chisquare"
   ]
  },
  {
   "cell_type": "code",
   "execution_count": null,
   "metadata": {},
   "outputs": [
    {
     "data": {
      "text/plain": [
       "[514800.00000000006, 0.0]"
      ]
     },
     "execution_count": 48,
     "metadata": {},
     "output_type": "execute_result"
    }
   ],
   "source": [
    "def ChiSquare(series_uuid_1, series_uuid_2):\n",
    "    payload = {\"series_uuid_1\": series_uuid_1,\n",
    "                \"series_uuid_2\": series_uuid_2}\n",
    "    result = requests.get(\"http://127.0.0.1:8000/chisquare\", params=payload)\n",
    "    return result.json()['chisquare_sail']\n",
    "\n",
    "series_1 = \"Random UUID 2\"\n",
    "series_2 = \"Random UUID 2\"\n",
    "ChiSquare(series_1, series_2)\n"
   ]
  },
  {
   "cell_type": "markdown",
   "metadata": {},
   "source": [
    "## 3. Kolmogorov Smirnov Test"
   ]
  },
  {
   "cell_type": "code",
   "execution_count": null,
   "metadata": {},
   "outputs": [
    {
     "data": {
      "text/plain": [
       "(0.9988888888888889, 0.0)"
      ]
     },
     "execution_count": 49,
     "metadata": {},
     "output_type": "execute_result"
    }
   ],
   "source": [
    "def KolmogorovSmirnovTest(series_uuid, type_distribution, type_ranking):\n",
    "    payload = {\"series_uuid\": series_uuid,\n",
    "                \"type_distribution\": type_distribution,\n",
    "                \"type_ranking\": type_ranking}\n",
    "    result = requests.get(\"http://127.0.0.1:8000/kolmogorovSmirnovTest\", params=payload)\n",
    "    return result.json()['k_statistic_sail'], result.json()['p_value_sail']\n",
    "\n",
    "series = \"Random UUID\"\n",
    "type_distribution=\"normalunit\" \n",
    "type_ranking=\"unsafe\"\n",
    "KolmogorovSmirnovTest(series, type_distribution, type_ranking)"
   ]
  },
  {
   "cell_type": "markdown",
   "metadata": {},
   "source": [
    "## 4. Kurtosis"
   ]
  },
  {
   "cell_type": "code",
   "execution_count": null,
   "metadata": {},
   "outputs": [
    {
     "data": {
      "text/plain": [
       "-1.1775818710089418"
      ]
     },
     "execution_count": 50,
     "metadata": {},
     "output_type": "execute_result"
    }
   ],
   "source": [
    "def Kurtosis(series_uuid):\n",
    "    payload = {\"series_uuid\": series_uuid}\n",
    "    result = requests.get(\"http://127.0.0.1:8000/kurtosis\", params=payload)\n",
    "    return result.json()['kurtosis_sail']\n",
    "\n",
    "series = \"Random UUID\"\n",
    "Kurtosis(series)"
   ]
  },
  {
   "cell_type": "markdown",
   "metadata": {},
   "source": [
    "## 5. Levene Test"
   ]
  },
  {
   "cell_type": "code",
   "execution_count": null,
   "metadata": {},
   "outputs": [
    {
     "data": {
      "text/plain": [
       "(0.0, 1.0)"
      ]
     },
     "execution_count": 51,
     "metadata": {},
     "output_type": "execute_result"
    }
   ],
   "source": [
    "def LeveneTest(series_uuid_1, series_uuid_2):\n",
    "    payload = {\"series_uuid_1\": series_uuid_1,\n",
    "                \"series_uuid_2\": series_uuid_2}\n",
    "    result = requests.get(\"http://127.0.0.1:8000/leveneTest\", params=payload)\n",
    "    return result.json()['f_statistic_sail'], result.json()['p_value_sail']\n",
    "\n",
    "series_1 = \"Random UUID 2\"\n",
    "series_2 = \"Random UUID 2\"\n",
    "LeveneTest(series_1, series_2)\n"
   ]
  },
  {
   "cell_type": "markdown",
   "metadata": {},
   "source": [
    "## 6. Mann Whitney U Test"
   ]
  },
  {
   "cell_type": "code",
   "execution_count": null,
   "metadata": {},
   "outputs": [
    {
     "data": {
      "text/plain": [
       "(405000.0, 1.0)"
      ]
     },
     "execution_count": 52,
     "metadata": {},
     "output_type": "execute_result"
    }
   ],
   "source": [
    "def MannWhitneyUTest(series_uuid_1, series_uuid_2, alternative, type_ranking):\n",
    "    payload = {\"series_uuid_1\": series_uuid_1,\n",
    "                \"series_uuid_2\": series_uuid_2,\n",
    "                \"alternative\": alternative,\n",
    "                \"type_ranking\": type_ranking}\n",
    "    result = requests.get(\"http://127.0.0.1:8000/mannWhitneyUTest\", params=payload)\n",
    "    return result.json()['w_statistic_sail'], result.json()['p_value_sail']\n",
    "\n",
    "series_1 = \"Random UUID 2\"\n",
    "series_2 = \"Random UUID 2\"\n",
    "alternative = \"two-sided\"\n",
    "type_ranking = \"unsafe\"\n",
    "MannWhitneyUTest(series_1, series_2, alternative, type_ranking)"
   ]
  },
  {
   "cell_type": "markdown",
   "metadata": {},
   "source": [
    "## 7. Min Max"
   ]
  },
  {
   "cell_type": "code",
   "execution_count": null,
   "metadata": {},
   "outputs": [
    {
     "data": {
      "text/plain": [
       "(80.009133, 89.99036299999999)"
      ]
     },
     "execution_count": 53,
     "metadata": {},
     "output_type": "execute_result"
    }
   ],
   "source": [
    "def MinMax(series_uuid):\n",
    "    payload = {\"series_uuid\": series_uuid}\n",
    "    result = requests.get(\"http://127.0.0.1:8000/minMax\", params=payload)\n",
    "    return result.json()['min_sail'], result.json()['max_sail']\n",
    "\n",
    "series = \"Random UUID\"\n",
    "MinMax(series)"
   ]
  },
  {
   "cell_type": "markdown",
   "metadata": {},
   "source": [
    "## 8. Paired T Test"
   ]
  },
  {
   "cell_type": "code",
   "execution_count": null,
   "metadata": {},
   "outputs": [
    {
     "data": {
      "text/plain": [
       "(260.0156214109429, 1.0)"
      ]
     },
     "execution_count": 54,
     "metadata": {},
     "output_type": "execute_result"
    }
   ],
   "source": [
    "def PairedTTest(series_uuid_1, series_uuid_2, alternative):\n",
    "    payload = {\"series_uuid_1\": series_uuid_1,\n",
    "                \"series_uuid_2\": series_uuid_2,\n",
    "                \"alternative\": alternative}\n",
    "    result = requests.get(\"http://127.0.0.1:8000/pairedTTest\", params=payload)\n",
    "    return result.json()['t_statistic_sail'], result.json()['p_value_sail']\n",
    "\n",
    "series_1 = \"Random UUID 2\"\n",
    "series_2 = \"Random UUID 2\"\n",
    "alternative = \"less\"\n",
    "PairedTTest(series_1, series_2, alternative)"
   ]
  },
  {
   "cell_type": "markdown",
   "metadata": {},
   "source": [
    "## 9. Pearson"
   ]
  },
  {
   "cell_type": "code",
   "execution_count": null,
   "metadata": {},
   "outputs": [
    {
     "data": {
      "text/plain": [
       "(1.0, 0.0)"
      ]
     },
     "execution_count": 55,
     "metadata": {},
     "output_type": "execute_result"
    }
   ],
   "source": [
    "def Pearson(series_uuid_1, series_uuid_2, alternative):\n",
    "    payload = {\"series_uuid_1\": series_uuid_1,\n",
    "                \"series_uuid_2\": series_uuid_2,\n",
    "                \"alternative\": alternative}\n",
    "    result = requests.get(\"http://127.0.0.1:8000/pearson\", params=payload)\n",
    "    return result.json()['pearson_sail'], result.json()['p_value_sail']\n",
    "\n",
    "series_1 = \"Random UUID 1\"\n",
    "series_2 = \"Random UUID 2\"\n",
    "alternative = \"two-sided\"\n",
    "Pearson(series_1, series_2, alternative)"
   ]
  },
  {
   "cell_type": "markdown",
   "metadata": {},
   "source": [
    "## 10. Skewness"
   ]
  },
  {
   "cell_type": "code",
   "execution_count": null,
   "metadata": {},
   "outputs": [
    {
     "data": {
      "text/plain": [
       "0.03129197977535138"
      ]
     },
     "execution_count": 56,
     "metadata": {},
     "output_type": "execute_result"
    }
   ],
   "source": [
    "def Skewness(series_uuid):\n",
    "    payload = {\"series_uuid\": series_uuid}\n",
    "    result = requests.get(\"http://127.0.0.1:8000/skewness\", params=payload)\n",
    "    return result.json()['skewness_sail']\n",
    "\n",
    "series = \"Random UUID\"\n",
    "Skewness(series)\n"
   ]
  },
  {
   "cell_type": "markdown",
   "metadata": {},
   "source": [
    "## 11. Spearman"
   ]
  },
  {
   "cell_type": "code",
   "execution_count": null,
   "metadata": {},
   "outputs": [
    {
     "data": {
      "text/plain": [
       "(0.0036171481653660843, 0.913706965860571)"
      ]
     },
     "execution_count": 57,
     "metadata": {},
     "output_type": "execute_result"
    }
   ],
   "source": [
    "def Spearman(series_uuid_1, series_uuid_2, alternative, type_ranking):\n",
    "    payload = {\"series_uuid_1\": series_uuid_1,\n",
    "                \"series_uuid_2\": series_uuid_2,\n",
    "                \"alternative\": alternative,\n",
    "                \"type_ranking\": type_ranking}\n",
    "    result = requests.get(\"http://127.0.0.1:8000/spearman\", params=payload)\n",
    "    return result.json()['spearman_sail'], result.json()['p_value_sail']\n",
    "\n",
    "series_1 = \"Random UUID 2\"\n",
    "series_2 = \"Random UUID 2\"\n",
    "alternative = \"two-sided\"\n",
    "type_ranking = \"unsafe\"\n",
    "Spearman(series_1, series_2, alternative, type_ranking)"
   ]
  },
  {
   "cell_type": "markdown",
   "metadata": {},
   "source": [
    "## 12. Student T Test"
   ]
  },
  {
   "cell_type": "code",
   "execution_count": null,
   "metadata": {},
   "outputs": [
    {
     "data": {
      "text/plain": [
       "(0.0, 0.5)"
      ]
     },
     "execution_count": 58,
     "metadata": {},
     "output_type": "execute_result"
    }
   ],
   "source": [
    "def StudentTTest(series_uuid_1, series_uuid_2, alternative):\n",
    "    payload = {\"series_uuid_1\": series_uuid_1,\n",
    "                \"series_uuid_2\": series_uuid_2,\n",
    "                \"alternative\": alternative}\n",
    "    result = requests.get(\"http://127.0.0.1:8000/studentTTest\", params=payload)\n",
    "    return result.json()['t_statistic_sail'], result.json()['p_value_sail']\n",
    "\n",
    "series_1 = \"Random UUID 2\"\n",
    "series_2 = \"Random UUID 2\"\n",
    "alternative = \"less\"\n",
    "StudentTTest(series_1, series_2, alternative)"
   ]
  },
  {
   "cell_type": "markdown",
   "metadata": {},
   "source": [
    "## 13. Variance"
   ]
  },
  {
   "cell_type": "code",
   "execution_count": null,
   "metadata": {},
   "outputs": [
    {
     "data": {
      "text/plain": [
       "8.283936732170213"
      ]
     },
     "execution_count": 59,
     "metadata": {},
     "output_type": "execute_result"
    }
   ],
   "source": [
    "def Variance(series_uuid):\n",
    "    payload = {\"series_uuid\": series_uuid}\n",
    "    result = requests.get(\"http://127.0.0.1:8000/variance\", params=payload)\n",
    "    return result.json()['variance_sail']\n",
    "\n",
    "series = \"Random UUID\"\n",
    "Variance(series)\n"
   ]
  },
  {
   "cell_type": "markdown",
   "metadata": {},
   "source": [
    "## 14. Welch T Test"
   ]
  },
  {
   "cell_type": "code",
   "execution_count": null,
   "metadata": {},
   "outputs": [
    {
     "data": {
      "text/plain": [
       "(0.0, 0.5)"
      ]
     },
     "execution_count": 60,
     "metadata": {},
     "output_type": "execute_result"
    }
   ],
   "source": [
    "def WelchTTest(series_uuid_1, series_uuid_2, alternative):\n",
    "    payload = {\"series_uuid_1\": series_uuid_1,\n",
    "                \"series_uuid_2\": series_uuid_2,\n",
    "                \"alternative\": alternative}\n",
    "    result = requests.get(\"http://127.0.0.1:8000/welchTTest\", params=payload)\n",
    "    return result.json()['t_statistic_sail'], result.json()['p_value_sail']\n",
    "\n",
    "series_1 = \"Random UUID 2\"\n",
    "series_2 = \"Random UUID 2\"\n",
    "alternative = \"less\"\n",
    "StudentTTest(series_1, series_2, alternative)"
   ]
  },
  {
   "cell_type": "markdown",
   "metadata": {},
   "source": [
    "## 15. Wilcoxon Signed Rank Test"
   ]
  },
  {
   "cell_type": "code",
   "execution_count": null,
   "metadata": {},
   "outputs": [
    {
     "data": {
      "text/plain": [
       "(0.0, 6.772582674446599e-149)"
      ]
     },
     "execution_count": 61,
     "metadata": {},
     "output_type": "execute_result"
    }
   ],
   "source": [
    "def WilcoxonSignedRankTest(series_uuid_1, series_uuid_2, alternative, type_ranking):\n",
    "    payload = {\"series_uuid_1\": series_uuid_1,\n",
    "                \"series_uuid_2\": series_uuid_2,\n",
    "                \"alternative\": alternative,\n",
    "                \"type_ranking\": type_ranking}\n",
    "    result = requests.get(\"http://127.0.0.1:8000/wilcoxonSignedRankTest\", params=payload)\n",
    "    return result.json()['w_statistic_sail'], result.json()['p_value_sail']\n",
    "\n",
    "series_1 = \"Random UUID 2\"\n",
    "series_2 = \"Random UUID 2\"\n",
    "alternative = \"two-sided\"\n",
    "type_ranking = \"unsafe\"\n",
    "WilcoxonSignedRankTest(series_1, series_2, alternative, type_ranking)"
   ]
  },
  {
   "cell_type": "code",
   "execution_count": null,
   "metadata": {},
   "outputs": [],
   "source": []
  }
 ],
 "metadata": {
  "kernelspec": {
   "display_name": "Python 3.8.10 ('venv38_sail')",
   "language": "python",
   "name": "python3"
  },
  "language_info": {
   "codemirror_mode": {
    "name": "ipython",
    "version": 3
   },
   "file_extension": ".py",
   "mimetype": "text/x-python",
   "name": "python",
   "nbconvert_exporter": "python",
   "pygments_lexer": "ipython3",
   "version": "3.8.10"
  },
  "orig_nbformat": 4,
  "vscode": {
   "interpreter": {
    "hash": "229c0ee7a8d57afd62214254ad4dcd3448989c886ec30669907354b54cc615b5"
   }
  }
 },
 "nbformat": 4,
 "nbformat_minor": 2
}
