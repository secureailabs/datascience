{
 "cells": [
  {
   "cell_type": "code",
   "execution_count": 13,
   "metadata": {},
   "outputs": [
    {
     "name": "stdout",
     "output_type": "stream",
     "text": [
      "env: PATH_FILE_PRIVATE_KEY_ZEROMQ_CLIENT=/home/adam/Engineering/Docker/smart_broker/private_keys/client.key_secret\n",
      "env: PATH_DIR_PUBLIC_KEY_ZEROMQ=/home/adam/Engineering/Docker/smart_broker/public_keys\n"
     ]
    }
   ],
   "source": [
    "# %env PATH_FILE_PRIVATE_KEY_ZEROMQ_CLIENT=/home/adam/Engineering/Docker/smart_broker/private_keys/client.key_secret\n",
    "# %env  PATH_FILE_PRIVATE_KEY_ZEROMQ_SERVER=/home/adam/Engineering/Docker/smart_broker/private_keys/server.key_secret\n",
    "# %env PATH_DIR_PUBLIC_KEY_ZEROMQ=/home/adam/Engineering/Docker/smart_broker/public_keys\n",
    "# %env PATH_DIR_DATASET=/home/adam/datascience/data"
   ]
  },
  {
   "cell_type": "markdown",
   "metadata": {},
   "source": [
    "# Connect to the SCN"
   ]
  },
  {
   "cell_type": "markdown",
   "metadata": {},
   "source": [
    "# Data Manipulation\n",
    "## 1. Bring Data to dataframe state"
   ]
  },
  {
   "cell_type": "code",
   "execution_count": 9,
   "metadata": {},
   "outputs": [],
   "source": [
    "# import requests\n",
    "\n",
    "# def create_data_model_date_frame(data_frame_name):\n",
    "#     payload = {\"data_frame_name\": data_frame_name}\n",
    "#     result = requests.post(\"http://127.0.0.1:8000/data_model/new_data_frame_model\", params=payload)\n",
    "#     return result.json()[\"data_model_id\"]\n",
    "\n",
    "# def data_model_add_series(data_model_id, series_name, measurement_source_name):\n",
    "#     payload = {\"data_model_id\": data_model_id,\n",
    "#                 \"series_name\": series_name,\n",
    "#                 \"measurement_source_name\": measurement_source_name}\n",
    "#     result = requests.post(\"http://127.0.0.1:8000/data_model/data_frame/\"+data_model_id+\"/add_new_series_model\", params=payload)\n",
    "#     return result.json()[\"data_model_id\"]\n",
    "\n",
    "# def get_data_model_tabular():\n",
    "#     result = requests.post(\"http://127.0.0.1:8000/data_model/new_tabular_model\", params=None)\n",
    "#     return result.json()[\"data_frame_tabular_id\"]\n",
    "\n",
    "# def tabular_model_add_dataframe_model(data_model_dataframe_id, data_model_tabular_id):\n",
    "#     payload = {\"data_model_dataframe_id\": data_model_dataframe_id,\n",
    "#                 \"data_model_tabular_id\": data_model_tabular_id}\n",
    "#     result = requests.post(\"http://127.0.0.1:8000/data_model/tabular/\"+data_model_tabular_id+\"/add_dataframe\", params=payload)\n",
    "#     return result.json()[\"data_frame_tabular_id\"]\n",
    "\n",
    "# def dataset_tabular_fhirv1(dataset_federation_id, dataset_federation_name, data_model_tabular_id):\n",
    "#     payload = {\"dataset_federation_id\": dataset_federation_id,\n",
    "#                 \"dataset_federation_name\": dataset_federation_name,\n",
    "#                 \"data_model_tabular_id\": data_model_tabular_id}\n",
    "#     result = requests.post(\"http://127.0.0.1:8000/ingestion/dataset_tabular/fhirv1\", params=payload)\n",
    "#     return result.json()[\"dataset_id\"]\n",
    "\n",
    "# def data_frame_tabular_select_dataframe_model(data_frame_tabular_id, data_frame_name):\n",
    "#     payload = {\"data_frame_tabular_id\": data_frame_tabular_id,\n",
    "#                 \"data_frame_name\": data_frame_name}\n",
    "#     result = requests.post(\"http://127.0.0.1:8000/data_frame_tabular/select_dataframe/\"+tabular_dataset_id, params=payload)\n",
    "#     return result.json()[\"data_frame_id\"]\n",
    "    \n",
    "# def data_frame_select_series(data_frame_id, series_name):\n",
    "#     payload = {\"data_frame_id\": data_frame_id,\n",
    "#                 \"series_name\": series_name}\n",
    "#     result = requests.post(\"http://127.0.0.1:8000/data_frame/select_series/\"+data_frame_id, params=payload)\n",
    "#     return result.json()[\"series_id\"]\n"
   ]
  },
  {
   "cell_type": "code",
   "execution_count": 1,
   "metadata": {},
   "outputs": [],
   "source": [
    "from smart_broker_api import data_model_api\n",
    "data_model_id = data_model_api.create_date_frame(\"data_frame_0\")\n",
    "data_model_api.data_frame_add_series(data_model_id, \"bmi_mean\", \"Observation:Body Mass Index\")\n",
    "data_model_api.data_frame_add_series(data_model_id, \"bmi_first\", \"Observation:Body Mass Index\")\n",
    "data_model_api.data_frame_add_series(data_model_id, \"bmi_last\", \"Observation:Body Mass Index\")\n",
    "data_model_tabular_id = data_model_api.create_tabular_data()\n",
    "data_model_tabular_id = data_model_api.tabular_add_dataframe(data_model_id, data_model_tabular_id)"
   ]
  },
  {
   "cell_type": "code",
   "execution_count": 6,
   "metadata": {},
   "outputs": [
    {
     "data": {
      "text/plain": [
       "'d0b13b17-7d4f-4ca1-827f-3434441dae9e'"
      ]
     },
     "execution_count": 6,
     "metadata": {},
     "output_type": "execute_result"
    }
   ],
   "source": [
    "tabular_dataset_id"
   ]
  },
  {
   "cell_type": "code",
   "execution_count": 2,
   "metadata": {},
   "outputs": [
    {
     "name": "stdout",
     "output_type": "stream",
     "text": [
      "9334ee77-8551-404c-ba6d-546575a9dd0a , d7fc9a8a-f63d-44f7-8326-6d4cd74b114b\n"
     ]
    }
   ],
   "source": [
    "from smart_broker_api import data_api\n",
    "\n",
    "dataset_federation_id = \"a892f738-4f6f-11ed-bdc3-0242ac120002\"\n",
    "dataset_federation_name = \"r4sep2019_csvv1_20_1\"\n",
    "\n",
    "tabular_dataset_id = data_api.parse_dataset_tabular_from_fhirv1(dataset_federation_id, dataset_federation_name, data_model_tabular_id)\n",
    "data_frame_id = data_api.data_frame_tabular_select_data_frame(tabular_dataset_id, \"data_frame_0\")\n",
    "series_1_id = data_api.data_frame_select_series(data_frame_id, \"bmi_mean\")\n",
    "series_2_id = data_api.data_frame_select_series(data_frame_id, \"bmi_last\")\n",
    "\n",
    "print(series_1_id+\" , \"+series_2_id)"
   ]
  },
  {
   "cell_type": "code",
   "execution_count": 3,
   "metadata": {},
   "outputs": [
    {
     "name": "stdout",
     "output_type": "stream",
     "text": [
      "20\n",
      "22.76433814224586\n",
      "[380.0, 0.23583148842099294]\n",
      "-1.225866948308427\n",
      "(11.76951154694196, 30.172100539128525)\n",
      "-0.08041628194553505\n",
      "(0.0, 0.25)\n",
      "28.617281263722433\n",
      "(0.0, 0.25)\n"
     ]
    }
   ],
   "source": [
    "from smart_broker_api import statistics_api\n",
    "\n",
    "type_distribution=\"normalunit\" \n",
    "type_ranking=\"unsafe\"\n",
    "alternative = \"two-sided\"\n",
    "print(statistics_api.count(series_1_id))\n",
    "print(statistics_api.mean(series_1_id))\n",
    "print(statistics_api.chisquare(series_1_id, series_2_id))\n",
    "# print(kolmogorovSmirnovTest(series_1_id, type_distribution, type_ranking)) # RANK DATAFRAME NOT FOUND\n",
    "print(statistics_api.kurtosis(series_1_id))\n",
    "# print(levene_test(series_1_id, series_2_id)) # NDARRAY SERIALISATION\n",
    "# mann_whitney_u_test(series_1_id, series_2_id, alternative, type_ranking)  # RANK DATAFRAME NOT FOUND\n",
    "print(statistics_api.min_max(series_1_id))\n",
    "# print(paired_t_test(series_1_id, series_2_id, alternative)) # ValueError: Out of range float values are not JSON compliant\n",
    "# print(pearson(series_1_id, series_2_id, alternative)) # ValueError: math domain error\n",
    "print(statistics_api.skewness(series_1_id))\n",
    "# print(spearman(series_1_id, series_2_id, alternative, type_ranking))  # RANK DATAFRAME NOT FOUND\n",
    "print(statistics_api.student_t_test(series_1_id, series_2_id, alternative))\n",
    "print(statistics_api.variance(series_1_id))\n",
    "print(statistics_api.welch_t_test(series_1_id, series_2_id, alternative))\n",
    "# # # print(wilcoxon_signed_rank_test(series_1_id, series_2_id, alternative, type_ranking)) # RANK DataFrame not loaded: 30459bd2-2880-4829-8d05-1e6bb9c1a71f\n",
    "\n",
    "\n",
    "\n",
    "\n",
    "\n"
   ]
  },
  {
   "cell_type": "code",
   "execution_count": null,
   "metadata": {},
   "outputs": [],
   "source": []
  }
 ],
 "metadata": {
  "kernelspec": {
   "display_name": "Python 3.8.10 ('venv38_sail')",
   "language": "python",
   "name": "python3"
  },
  "language_info": {
   "codemirror_mode": {
    "name": "ipython",
    "version": 3
   },
   "file_extension": ".py",
   "mimetype": "text/x-python",
   "name": "python",
   "nbconvert_exporter": "python",
   "pygments_lexer": "ipython3",
   "version": "3.8.10"
  },
  "orig_nbformat": 4,
  "vscode": {
   "interpreter": {
    "hash": "229c0ee7a8d57afd62214254ad4dcd3448989c886ec30669907354b54cc615b5"
   }
  }
 },
 "nbformat": 4,
 "nbformat_minor": 2
}
