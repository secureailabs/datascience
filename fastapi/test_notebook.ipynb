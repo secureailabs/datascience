{
 "cells": [
  {
   "cell_type": "code",
   "execution_count": 1,
   "metadata": {},
   "outputs": [],
   "source": [
    "import warnings\n",
    "\n",
    "warnings.filterwarnings('ignore', message='Unverified HTTPS request')\n",
    "\n",
    "class Session():\n",
    "    def __init__(self, ip, port):\n",
    "        self.ip = ip\n",
    "        self.port = port\n",
    "\n",
    "session = Session(\"127.0.0.1\", \"8000\")"
   ]
  },
  {
   "cell_type": "markdown",
   "metadata": {},
   "source": [
    "# 1. Aggregation Model Configuration"
   ]
  },
  {
   "cell_type": "code",
   "execution_count": 2,
   "metadata": {},
   "outputs": [],
   "source": [
    "from smart_broker_api import data_model_api\n",
    "\n",
    "\n",
    "data_model_id = data_model_api.create_date_frame(session, \"data_frame_1\")\n",
    "data_model_api.data_frame_add_series(session, data_model_id, \"bmi_mean\", \"Observation:Body Mass Index\", \"AgregatorIntervalMean\")\n",
    "data_model_api.data_frame_add_series(session, data_model_id, \"bmi_first\", \"Observation:Body Mass Index\", \"AgregatorIntervalFirstOccurance\")\n",
    "data_model_api.data_frame_add_series(session, data_model_id, \"bmi_last\", \"Observation:Body Mass Index\", \"AgregatorIntervalLastOccurance\")\n",
    "data_model_tabular_id = data_model_api.create_tabular_data(session)\n",
    "data_model_tabular_id = data_model_api.tabular_add_dataframe(session, data_model_id, data_model_tabular_id)"
   ]
  },
  {
   "cell_type": "markdown",
   "metadata": {},
   "source": [
    "# 2. Flatten / Aggregate data from Aggregation model"
   ]
  },
  {
   "cell_type": "code",
   "execution_count": 4,
   "metadata": {},
   "outputs": [],
   "source": [
    "from smart_broker_api import data_api\n",
    "\n",
    "dataset_federation_id = \"a892f738-4f6f-11ed-bdc3-0242ac120002\"\n",
    "dataset_federation_name = \"r4sep2019_csvv1_20_1\"\n",
    "\n",
    "longitudinal_id = data_api.read_longitudinal_fhirv1(session)\n",
    "tabular_dataset_id = data_api.parse_dataset_tabular_from_longitudinal(session, longitudinal_id, dataset_federation_id, dataset_federation_name, data_model_tabular_id)\n",
    "data_frame_id = data_api.data_frame_tabular_select_data_frame(session, tabular_dataset_id, \"data_frame_1\")"
   ]
  },
  {
   "cell_type": "markdown",
   "metadata": {},
   "source": [
    "# 3. Remove NaNs from data"
   ]
  },
  {
   "cell_type": "code",
   "execution_count": 5,
   "metadata": {},
   "outputs": [
    {
     "ename": "JSONDecodeError",
     "evalue": "Expecting value: line 1 column 1 (char 0)",
     "output_type": "error",
     "traceback": [
      "\u001b[0;31m---------------------------------------------------------------------------\u001b[0m",
      "\u001b[0;31mJSONDecodeError\u001b[0m                           Traceback (most recent call last)",
      "Cell \u001b[0;32mIn [5], line 3\u001b[0m\n\u001b[1;32m      1\u001b[0m \u001b[38;5;28;01mfrom\u001b[39;00m \u001b[38;5;21;01msmart_broker_api\u001b[39;00m \u001b[38;5;28;01mimport\u001b[39;00m preprocessing_api\n\u001b[0;32m----> 3\u001b[0m no_nan_data_frame_id \u001b[38;5;241m=\u001b[39m \u001b[43mpreprocessing_api\u001b[49m\u001b[38;5;241;43m.\u001b[39;49m\u001b[43mdrop_na_data_frame\u001b[49m\u001b[43m(\u001b[49m\u001b[43msession\u001b[49m\u001b[43m,\u001b[49m\u001b[43m \u001b[49m\u001b[43mdata_frame_id\u001b[49m\u001b[43m)\u001b[49m\n",
      "File \u001b[0;32m~/SAIL/Engineering/datascience/fastapi/smart_broker_api/preprocessing_api.py:11\u001b[0m, in \u001b[0;36mdrop_na_data_frame\u001b[0;34m(session, data_frame_id)\u001b[0m\n\u001b[1;32m      5\u001b[0m payload \u001b[39m=\u001b[39m {\u001b[39m\"\u001b[39m\u001b[39mdata_frame_id\u001b[39m\u001b[39m\"\u001b[39m: data_frame_id}\n\u001b[1;32m      6\u001b[0m result \u001b[39m=\u001b[39m requests\u001b[39m.\u001b[39mpost(\n\u001b[1;32m      7\u001b[0m     \u001b[39m\"\u001b[39m\u001b[39mhttps://\u001b[39m\u001b[39m\"\u001b[39m \u001b[39m+\u001b[39m session\u001b[39m.\u001b[39mip \u001b[39m+\u001b[39m \u001b[39m\"\u001b[39m\u001b[39m:\u001b[39m\u001b[39m\"\u001b[39m \u001b[39m+\u001b[39m session\u001b[39m.\u001b[39mport \u001b[39m+\u001b[39m \u001b[39m\"\u001b[39m\u001b[39m/preprocessing/data_frame/drop_missing/\u001b[39m\u001b[39m\"\u001b[39m \u001b[39m+\u001b[39m data_frame_id,\n\u001b[1;32m      8\u001b[0m     params\u001b[39m=\u001b[39mpayload,\n\u001b[1;32m      9\u001b[0m     verify\u001b[39m=\u001b[39m\u001b[39mFalse\u001b[39;00m,\n\u001b[1;32m     10\u001b[0m )\n\u001b[0;32m---> 11\u001b[0m \u001b[39mreturn\u001b[39;00m result\u001b[39m.\u001b[39;49mjson()[\u001b[39m\"\u001b[39m\u001b[39mresult_data_frame_id\u001b[39m\u001b[39m\"\u001b[39m]\n",
      "File \u001b[0;32m/usr/lib/python3/dist-packages/requests/models.py:897\u001b[0m, in \u001b[0;36mResponse.json\u001b[0;34m(self, **kwargs)\u001b[0m\n\u001b[1;32m    891\u001b[0m         \u001b[39mexcept\u001b[39;00m \u001b[39mUnicodeDecodeError\u001b[39;00m:\n\u001b[1;32m    892\u001b[0m             \u001b[39m# Wrong UTF codec detected; usually because it's not UTF-8\u001b[39;00m\n\u001b[1;32m    893\u001b[0m             \u001b[39m# but some other 8-bit codec.  This is an RFC violation,\u001b[39;00m\n\u001b[1;32m    894\u001b[0m             \u001b[39m# and the server didn't bother to tell us what codec *was*\u001b[39;00m\n\u001b[1;32m    895\u001b[0m             \u001b[39m# used.\u001b[39;00m\n\u001b[1;32m    896\u001b[0m             \u001b[39mpass\u001b[39;00m\n\u001b[0;32m--> 897\u001b[0m \u001b[39mreturn\u001b[39;00m complexjson\u001b[39m.\u001b[39;49mloads(\u001b[39mself\u001b[39;49m\u001b[39m.\u001b[39;49mtext, \u001b[39m*\u001b[39;49m\u001b[39m*\u001b[39;49mkwargs)\n",
      "File \u001b[0;32m/usr/lib/python3/dist-packages/simplejson/__init__.py:518\u001b[0m, in \u001b[0;36mloads\u001b[0;34m(s, encoding, cls, object_hook, parse_float, parse_int, parse_constant, object_pairs_hook, use_decimal, **kw)\u001b[0m\n\u001b[1;32m    467\u001b[0m \u001b[39m\"\"\"Deserialize ``s`` (a ``str`` or ``unicode`` instance containing a JSON\u001b[39;00m\n\u001b[1;32m    468\u001b[0m \u001b[39mdocument) to a Python object.\u001b[39;00m\n\u001b[1;32m    469\u001b[0m \n\u001b[0;32m   (...)\u001b[0m\n\u001b[1;32m    512\u001b[0m \n\u001b[1;32m    513\u001b[0m \u001b[39m\"\"\"\u001b[39;00m\n\u001b[1;32m    514\u001b[0m \u001b[39mif\u001b[39;00m (\u001b[39mcls\u001b[39m \u001b[39mis\u001b[39;00m \u001b[39mNone\u001b[39;00m \u001b[39mand\u001b[39;00m encoding \u001b[39mis\u001b[39;00m \u001b[39mNone\u001b[39;00m \u001b[39mand\u001b[39;00m object_hook \u001b[39mis\u001b[39;00m \u001b[39mNone\u001b[39;00m \u001b[39mand\u001b[39;00m\n\u001b[1;32m    515\u001b[0m         parse_int \u001b[39mis\u001b[39;00m \u001b[39mNone\u001b[39;00m \u001b[39mand\u001b[39;00m parse_float \u001b[39mis\u001b[39;00m \u001b[39mNone\u001b[39;00m \u001b[39mand\u001b[39;00m\n\u001b[1;32m    516\u001b[0m         parse_constant \u001b[39mis\u001b[39;00m \u001b[39mNone\u001b[39;00m \u001b[39mand\u001b[39;00m object_pairs_hook \u001b[39mis\u001b[39;00m \u001b[39mNone\u001b[39;00m\n\u001b[1;32m    517\u001b[0m         \u001b[39mand\u001b[39;00m \u001b[39mnot\u001b[39;00m use_decimal \u001b[39mand\u001b[39;00m \u001b[39mnot\u001b[39;00m kw):\n\u001b[0;32m--> 518\u001b[0m     \u001b[39mreturn\u001b[39;00m _default_decoder\u001b[39m.\u001b[39;49mdecode(s)\n\u001b[1;32m    519\u001b[0m \u001b[39mif\u001b[39;00m \u001b[39mcls\u001b[39m \u001b[39mis\u001b[39;00m \u001b[39mNone\u001b[39;00m:\n\u001b[1;32m    520\u001b[0m     \u001b[39mcls\u001b[39m \u001b[39m=\u001b[39m JSONDecoder\n",
      "File \u001b[0;32m/usr/lib/python3/dist-packages/simplejson/decoder.py:370\u001b[0m, in \u001b[0;36mJSONDecoder.decode\u001b[0;34m(self, s, _w, _PY3)\u001b[0m\n\u001b[1;32m    368\u001b[0m \u001b[39mif\u001b[39;00m _PY3 \u001b[39mand\u001b[39;00m \u001b[39misinstance\u001b[39m(s, \u001b[39mbytes\u001b[39m):\n\u001b[1;32m    369\u001b[0m     s \u001b[39m=\u001b[39m \u001b[39mstr\u001b[39m(s, \u001b[39mself\u001b[39m\u001b[39m.\u001b[39mencoding)\n\u001b[0;32m--> 370\u001b[0m obj, end \u001b[39m=\u001b[39m \u001b[39mself\u001b[39;49m\u001b[39m.\u001b[39;49mraw_decode(s)\n\u001b[1;32m    371\u001b[0m end \u001b[39m=\u001b[39m _w(s, end)\u001b[39m.\u001b[39mend()\n\u001b[1;32m    372\u001b[0m \u001b[39mif\u001b[39;00m end \u001b[39m!=\u001b[39m \u001b[39mlen\u001b[39m(s):\n",
      "File \u001b[0;32m/usr/lib/python3/dist-packages/simplejson/decoder.py:400\u001b[0m, in \u001b[0;36mJSONDecoder.raw_decode\u001b[0;34m(self, s, idx, _w, _PY3)\u001b[0m\n\u001b[1;32m    398\u001b[0m     \u001b[39melif\u001b[39;00m ord0 \u001b[39m==\u001b[39m \u001b[39m0xef\u001b[39m \u001b[39mand\u001b[39;00m s[idx:idx \u001b[39m+\u001b[39m \u001b[39m3\u001b[39m] \u001b[39m==\u001b[39m \u001b[39m'\u001b[39m\u001b[39m\\xef\u001b[39;00m\u001b[39m\\xbb\u001b[39;00m\u001b[39m\\xbf\u001b[39;00m\u001b[39m'\u001b[39m:\n\u001b[1;32m    399\u001b[0m         idx \u001b[39m+\u001b[39m\u001b[39m=\u001b[39m \u001b[39m3\u001b[39m\n\u001b[0;32m--> 400\u001b[0m \u001b[39mreturn\u001b[39;00m \u001b[39mself\u001b[39;49m\u001b[39m.\u001b[39;49mscan_once(s, idx\u001b[39m=\u001b[39;49m_w(s, idx)\u001b[39m.\u001b[39;49mend())\n",
      "\u001b[0;31mJSONDecodeError\u001b[0m: Expecting value: line 1 column 1 (char 0)"
     ]
    }
   ],
   "source": [
    "from smart_broker_api import preprocessing_api\n",
    "\n",
    "no_nan_data_frame_id = preprocessing_api.drop_na_data_frame(session, data_frame_id)"
   ]
  },
  {
   "cell_type": "markdown",
   "metadata": {},
   "source": [
    "# 4. Grab series to work with in Statistics Lib"
   ]
  },
  {
   "cell_type": "code",
   "execution_count": null,
   "metadata": {},
   "outputs": [],
   "source": [
    "series_1_id = data_api.data_frame_select_series(session, no_nan_data_frame_id, \"bmi_mean\")\n",
    "series_2_id = data_api.data_frame_select_series(session, no_nan_data_frame_id, \"bmi_last\")\n",
    "\n",
    "print(series_1_id+\" , \"+series_2_id)"
   ]
  },
  {
   "cell_type": "markdown",
   "metadata": {},
   "source": [
    "# 4. Query a data frame Cohort / Feature Selection"
   ]
  },
  {
   "cell_type": "code",
   "execution_count": null,
   "metadata": {},
   "outputs": [],
   "source": [
    "from smart_broker_api import preprocessing_api\n",
    "from smart_broker_api import statistics_api\n",
    "\n",
    "query = \"bmi_first > bmi_last\"\n",
    "query_dataframe = preprocessing_api.query_data_frame(session, no_nan_data_frame_id, query)\n",
    "query_series = data_api.data_frame_select_series(session, query_dataframe, \"bmi_last\")\n",
    "\n",
    "print(f\"Patients whose BMI decreased during study: {statistics_api.count(session,  query_series)}\")\n",
    "\n",
    "query = \"bmi_first < bmi_last\"\n",
    "query_dataframe = preprocessing_api.query_data_frame(session, no_nan_data_frame_id, query)\n",
    "query_series = data_api.data_frame_select_series(session, query_dataframe, \"bmi_last\")\n",
    "\n",
    "print(f\"Patients whose BMI increased during study: {statistics_api.count(session,  query_series)}\")\n",
    "\n",
    "query = \"bmi_first - bmi_last > 0.5\"\n",
    "query_dataframe = preprocessing_api.query_data_frame(session, no_nan_data_frame_id, query)\n",
    "query_series = data_api.data_frame_select_series(session, query_dataframe, \"bmi_last\")\n",
    "\n",
    "print(f\"Patients whose BMI significantly increased during study: {statistics_api.count(session,  query_series)}\")\n",
    "\n",
    "print(f\"Mean BMI of patients whose BMI increased: {statistics_api.mean(session, query_series)} \")"
   ]
  },
  {
   "cell_type": "markdown",
   "metadata": {},
   "source": [
    "# 5. Run Statistics Library"
   ]
  },
  {
   "cell_type": "code",
   "execution_count": null,
   "metadata": {},
   "outputs": [],
   "source": [
    "from smart_broker_api import statistics_api\n",
    "\n",
    "type_distribution=\"normalunit\" \n",
    "type_ranking=\"cdf\"\n",
    "alternative = \"two-sided\"\n",
    "print(statistics_api.count(session,  series_1_id))\n",
    "print(statistics_api.mean(session,  series_1_id))\n",
    "print(statistics_api.chisquare(session,  series_1_id, series_2_id))\n",
    "print(statistics_api.kolmogorovSmirnovTest(session,  series_1_id, type_distribution, type_ranking))\n",
    "print(statistics_api.kurtosis(session,  series_1_id))\n",
    "print(statistics_api.levene_test(session,  series_1_id, series_2_id))\n",
    "print(statistics_api.mann_whitney_u_test(session,  series_1_id, series_2_id, alternative, type_ranking))\n",
    "print(statistics_api.min_max(session,  series_1_id))\n",
    "print(statistics_api.paired_t_test(session,  series_1_id, series_2_id, alternative))\n",
    "print(statistics_api.pearson(session,  series_1_id, series_2_id, alternative))\n",
    "print(statistics_api.skewness(session,  series_1_id))\n",
    "print(statistics_api.spearman(session,  series_1_id, series_2_id, alternative, type_ranking)) \n",
    "print(statistics_api.student_t_test(session,  series_1_id, series_2_id, alternative))\n",
    "print(statistics_api.variance(session,  series_1_id))\n",
    "print(statistics_api.welch_t_test(session,  series_1_id, series_2_id, alternative))\n",
    "print(statistics_api.wilcoxon_signed_rank_test(session,  series_1_id, series_2_id, alternative, type_ranking))\n",
    "\n",
    "\n",
    "\n",
    "\n",
    "\n"
   ]
  }
 ],
 "metadata": {
  "kernelspec": {
   "display_name": "Python 3.8.10 64-bit",
   "language": "python",
   "name": "python3"
  },
  "language_info": {
   "codemirror_mode": {
    "name": "ipython",
    "version": 3
   },
   "file_extension": ".py",
   "mimetype": "text/x-python",
   "name": "python",
   "nbconvert_exporter": "python",
   "pygments_lexer": "ipython3",
   "version": "3.8.10"
  },
  "orig_nbformat": 4,
  "vscode": {
   "interpreter": {
    "hash": "916dbcbb3f70747c44a77c7bcd40155683ae19c65e1c03b4aa3499c5328201f1"
   }
  }
 },
 "nbformat": 4,
 "nbformat_minor": 2
}
