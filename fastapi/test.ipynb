{
 "cells": [
  {
   "cell_type": "markdown",
   "metadata": {},
   "source": [
    "# Mock Client Side API\n"
   ]
  },
  {
   "cell_type": "code",
   "execution_count": 22,
   "metadata": {},
   "outputs": [],
   "source": [
    "import requests\n",
    "import json\n",
    "\n",
    "def Mean(federation_uuid, column_id):\n",
    "    payload = {\"dataframe_uuid\": federation_uuid, \n",
    "                \"column_id\": column_id}\n",
    "    result = requests.get(\"http://127.0.0.1:8000/mean\", params=payload)\n",
    "    return result.json()['payload']"
   ]
  },
  {
   "cell_type": "markdown",
   "metadata": {},
   "source": [
    "# Mean Query"
   ]
  },
  {
   "cell_type": "code",
   "execution_count": 23,
   "metadata": {},
   "outputs": [
    {
     "name": "stdout",
     "output_type": "stream",
     "text": [
      "Error: Federation UUID not found\n",
      "85.03455555555556\n"
     ]
    }
   ],
   "source": [
    "data = \"BLAH\"\n",
    "column = \"PD-L1 level before treatment\"\n",
    "print(Mean(data, column))\n",
    "\n",
    "\n",
    "data = \"UUID\"\n",
    "print(Mean(data, column))\n"
   ]
  },
  {
   "cell_type": "code",
   "execution_count": 1,
   "metadata": {},
   "outputs": [],
   "source": [
    "from sail_safe_functions_test.helper_sail_safe_functions.data_frame_federated_local import (\n",
    "    DataFrameFederatedLocal,\n",
    ")\n",
    "def get_data():\n",
    "    DATA_PATH = (\n",
    "        \"../sail-safe-functions-test/sail_safe_functions_test/data_sail_safe_functions\"\n",
    "    )\n",
    "\n",
    "    list_name_file_csv = [\"bmc1.csv\", \"bwh1.csv\", \"mgh1.csv\"]\n",
    "\n",
    "    dataframe = DataFrameFederatedLocal()\n",
    "    for name_file_csv in list_name_file_csv:\n",
    "        path_file_csv = os.path.join(DATA_PATH, \"data_csv_investor_demo\", name_file_csv)\n",
    "        dataframe.add_csv(path_file_csv)\n",
    "    return dataframe\n",
    "\n",
    "data = get_data()"
   ]
  },
  {
   "cell_type": "code",
   "execution_count": 2,
   "metadata": {},
   "outputs": [
    {
     "data": {
      "text/plain": [
       "900"
      ]
     },
     "execution_count": 2,
     "metadata": {},
     "output_type": "execute_result"
    }
   ],
   "source": [
    "data.global_row_count()"
   ]
  },
  {
   "cell_type": "code",
   "execution_count": 3,
   "metadata": {},
   "outputs": [],
   "source": [
    "def query_limit_n(data):\n",
    "    N = 900\n",
    "    if data.global_row_count() < N:\n",
    "        return False\n",
    "    else: \n",
    "        return True"
   ]
  },
  {
   "cell_type": "code",
   "execution_count": 10,
   "metadata": {},
   "outputs": [],
   "source": [
    "def query_limit_n(data, n=900):\n",
    "    return data.global_row_count() < n"
   ]
  },
  {
   "cell_type": "code",
   "execution_count": 13,
   "metadata": {},
   "outputs": [
    {
     "data": {
      "text/plain": [
       "True"
      ]
     },
     "execution_count": 13,
     "metadata": {},
     "output_type": "execute_result"
    }
   ],
   "source": [
    "query_limit_n(data, 901)"
   ]
  },
  {
   "cell_type": "code",
   "execution_count": null,
   "metadata": {},
   "outputs": [],
   "source": [
    "def query_limit_n(data, n=900):\n",
    "    return data.global_row_count() < n"
   ]
  }
 ],
 "metadata": {
  "kernelspec": {
   "display_name": "Python 3.8.10 64-bit",
   "language": "python",
   "name": "python3"
  },
  "language_info": {
   "codemirror_mode": {
    "name": "ipython",
    "version": 3
   },
   "file_extension": ".py",
   "mimetype": "text/x-python",
   "name": "python",
   "nbconvert_exporter": "python",
   "pygments_lexer": "ipython3",
   "version": "3.8.10"
  },
  "orig_nbformat": 4,
  "vscode": {
   "interpreter": {
    "hash": "916dbcbb3f70747c44a77c7bcd40155683ae19c65e1c03b4aa3499c5328201f1"
   }
  }
 },
 "nbformat": 4,
 "nbformat_minor": 2
}
