{
 "cells": [
  {
   "cell_type": "markdown",
   "metadata": {},
   "source": [
    "# Statistics Functions API and Function Call\n",
    "## 1. Mean"
   ]
  },
  {
   "cell_type": "code",
   "execution_count": 16,
   "metadata": {},
   "outputs": [
    {
     "data": {
      "text/plain": [
       "85.03455555555556"
      ]
     },
     "execution_count": 16,
     "metadata": {},
     "output_type": "execute_result"
    }
   ],
   "source": [
    "import requests\n",
    "import json\n",
    "\n",
    "def Mean(series_uuid):\n",
    "    payload = {\"series_uuid\": series_uuid}\n",
    "    result = requests.get(\"http://127.0.0.1:8000/mean\", params=payload)\n",
    "    return result.json()['mean_sail']\n",
    "\n",
    "series = \"Random UUID\"\n",
    "Mean(series)\n"
   ]
  },
  {
   "cell_type": "markdown",
   "metadata": {},
   "source": [
    "## 2. Chisquare"
   ]
  },
  {
   "cell_type": "code",
   "execution_count": 17,
   "metadata": {},
   "outputs": [
    {
     "data": {
      "text/plain": [
       "[514800.00000000006, 0.0]"
      ]
     },
     "execution_count": 17,
     "metadata": {},
     "output_type": "execute_result"
    }
   ],
   "source": [
    "def ChiSquare(series_uuid_1, series_uuid_2):\n",
    "    payload = {\"series_uuid_1\": series_uuid_1,\n",
    "                \"series_uuid_2\": series_uuid_2}\n",
    "    result = requests.get(\"http://127.0.0.1:8000/chisquare\", params=payload)\n",
    "    return result.json()['chisquare_sail']\n",
    "\n",
    "series_1 = \"Random UUID 2\"\n",
    "series_2 = \"Random UUID 2\"\n",
    "ChiSquare(series_1, series_2)\n"
   ]
  },
  {
   "cell_type": "markdown",
   "metadata": {},
   "source": [
    "## 3. Kolmogorov Smirnov Test"
   ]
  },
  {
   "cell_type": "code",
   "execution_count": 18,
   "metadata": {},
   "outputs": [
    {
     "data": {
      "text/plain": [
       "(0.9988888888888889, 0.0)"
      ]
     },
     "execution_count": 18,
     "metadata": {},
     "output_type": "execute_result"
    }
   ],
   "source": [
    "def KolmogorovSmirnovTest(series_uuid, type_distribution, type_ranking):\n",
    "    payload = {\"series_uuid\": series_uuid,\n",
    "                \"type_distribution\": type_distribution,\n",
    "                \"type_ranking\": type_ranking}\n",
    "    result = requests.get(\"http://127.0.0.1:8000/kolmogorovSmirnovTest\", params=payload)\n",
    "    return result.json()['k_statistic_sail'], result.json()['p_value_sail']\n",
    "\n",
    "series = \"Random UUID\"\n",
    "type_distribution=\"normalunit\" \n",
    "type_ranking=\"unsafe\"\n",
    "KolmogorovSmirnovTest(series, type_distribution, type_ranking)"
   ]
  },
  {
   "cell_type": "markdown",
   "metadata": {},
   "source": [
    "## 4. Kurtosis"
   ]
  },
  {
   "cell_type": "code",
   "execution_count": 19,
   "metadata": {},
   "outputs": [
    {
     "data": {
      "text/plain": [
       "-1.1775818710089418"
      ]
     },
     "execution_count": 19,
     "metadata": {},
     "output_type": "execute_result"
    }
   ],
   "source": [
    "def Kurtosis(series_uuid):\n",
    "    payload = {\"series_uuid\": series_uuid}\n",
    "    result = requests.get(\"http://127.0.0.1:8000/kurtosis\", params=payload)\n",
    "    return result.json()['kurtosis_sail']\n",
    "\n",
    "series = \"Random UUID\"\n",
    "Kurtosis(series)"
   ]
  },
  {
   "cell_type": "markdown",
   "metadata": {},
   "source": [
    "## 5. Levene Test"
   ]
  },
  {
   "cell_type": "code",
   "execution_count": 20,
   "metadata": {},
   "outputs": [
    {
     "data": {
      "text/plain": [
       "(0.0, 1.0)"
      ]
     },
     "execution_count": 20,
     "metadata": {},
     "output_type": "execute_result"
    }
   ],
   "source": [
    "def LeveneTest(series_uuid_1, series_uuid_2):\n",
    "    payload = {\"series_uuid_1\": series_uuid_1,\n",
    "                \"series_uuid_2\": series_uuid_2}\n",
    "    result = requests.get(\"http://127.0.0.1:8000/leveneTest\", params=payload)\n",
    "    return result.json()['f_statistic_sail'], result.json()['p_value_sail']\n",
    "\n",
    "series_1 = \"Random UUID 2\"\n",
    "series_2 = \"Random UUID 2\"\n",
    "LeveneTest(series_1, series_2)\n"
   ]
  },
  {
   "cell_type": "markdown",
   "metadata": {},
   "source": [
    "## 6. Mann Whitney U Test"
   ]
  },
  {
   "cell_type": "code",
   "execution_count": 21,
   "metadata": {},
   "outputs": [
    {
     "data": {
      "text/plain": [
       "(405000.0, 1.0)"
      ]
     },
     "execution_count": 21,
     "metadata": {},
     "output_type": "execute_result"
    }
   ],
   "source": [
    "def MannWhitneyUTest(series_uuid_1, series_uuid_2, alternative, type_ranking):\n",
    "    payload = {\"series_uuid_1\": series_uuid_1,\n",
    "                \"series_uuid_2\": series_uuid_2,\n",
    "                \"alternative\": alternative,\n",
    "                \"type_ranking\": type_ranking}\n",
    "    result = requests.get(\"http://127.0.0.1:8000/mannWhitneyUTest\", params=payload)\n",
    "    return result.json()['w_statistic_sail'], result.json()['p_value_sail']\n",
    "\n",
    "series_1 = \"Random UUID 2\"\n",
    "series_2 = \"Random UUID 2\"\n",
    "alternative = \"two-sided\"\n",
    "type_ranking = \"unsafe\"\n",
    "MannWhitneyUTest(series_1, series_2, alternative, type_ranking)"
   ]
  },
  {
   "cell_type": "markdown",
   "metadata": {},
   "source": [
    "## 7. Min Max"
   ]
  },
  {
   "cell_type": "code",
   "execution_count": 22,
   "metadata": {},
   "outputs": [
    {
     "data": {
      "text/plain": [
       "(80.009133, 89.99036299999999)"
      ]
     },
     "execution_count": 22,
     "metadata": {},
     "output_type": "execute_result"
    }
   ],
   "source": [
    "def MinMax(series_uuid):\n",
    "    payload = {\"series_uuid\": series_uuid}\n",
    "    result = requests.get(\"http://127.0.0.1:8000/minMax\", params=payload)\n",
    "    return result.json()['min_sail'], result.json()['max_sail']\n",
    "\n",
    "series = \"Random UUID\"\n",
    "MinMax(series)"
   ]
  },
  {
   "cell_type": "markdown",
   "metadata": {},
   "source": [
    "## 8. Paired T Test"
   ]
  },
  {
   "cell_type": "code",
   "execution_count": 23,
   "metadata": {},
   "outputs": [
    {
     "ename": "JSONDecodeError",
     "evalue": "Expecting value: line 1 column 1 (char 0)",
     "output_type": "error",
     "traceback": [
      "\u001b[0;31m---------------------------------------------------------------------------\u001b[0m",
      "\u001b[0;31mJSONDecodeError\u001b[0m                           Traceback (most recent call last)",
      "\u001b[1;32m/mnt/c/Users/AdamHall/Documents/GitHub/datascience/fastapi/test.ipynb Cell 16\u001b[0m in \u001b[0;36m<cell line: 11>\u001b[0;34m()\u001b[0m\n\u001b[1;32m      <a href='vscode-notebook-cell://wsl%2Bubuntu20.04lts/mnt/c/Users/AdamHall/Documents/GitHub/datascience/fastapi/test.ipynb#X21sdnNjb2RlLXJlbW90ZQ%3D%3D?line=8'>9</a>\u001b[0m series_2 \u001b[39m=\u001b[39m \u001b[39m\"\u001b[39m\u001b[39mRandom UUID 2\u001b[39m\u001b[39m\"\u001b[39m\n\u001b[1;32m     <a href='vscode-notebook-cell://wsl%2Bubuntu20.04lts/mnt/c/Users/AdamHall/Documents/GitHub/datascience/fastapi/test.ipynb#X21sdnNjb2RlLXJlbW90ZQ%3D%3D?line=9'>10</a>\u001b[0m alternative \u001b[39m=\u001b[39m \u001b[39m\"\u001b[39m\u001b[39mless\u001b[39m\u001b[39m\"\u001b[39m\n\u001b[0;32m---> <a href='vscode-notebook-cell://wsl%2Bubuntu20.04lts/mnt/c/Users/AdamHall/Documents/GitHub/datascience/fastapi/test.ipynb#X21sdnNjb2RlLXJlbW90ZQ%3D%3D?line=10'>11</a>\u001b[0m PairedTTest(series_1, series_2, alternative)\n",
      "\u001b[1;32m/mnt/c/Users/AdamHall/Documents/GitHub/datascience/fastapi/test.ipynb Cell 16\u001b[0m in \u001b[0;36mPairedTTest\u001b[0;34m(series_uuid_1, series_uuid_2, alternative)\u001b[0m\n\u001b[1;32m      <a href='vscode-notebook-cell://wsl%2Bubuntu20.04lts/mnt/c/Users/AdamHall/Documents/GitHub/datascience/fastapi/test.ipynb#X21sdnNjb2RlLXJlbW90ZQ%3D%3D?line=1'>2</a>\u001b[0m payload \u001b[39m=\u001b[39m {\u001b[39m\"\u001b[39m\u001b[39mseries_uuid_1\u001b[39m\u001b[39m\"\u001b[39m: series_uuid_1,\n\u001b[1;32m      <a href='vscode-notebook-cell://wsl%2Bubuntu20.04lts/mnt/c/Users/AdamHall/Documents/GitHub/datascience/fastapi/test.ipynb#X21sdnNjb2RlLXJlbW90ZQ%3D%3D?line=2'>3</a>\u001b[0m             \u001b[39m\"\u001b[39m\u001b[39mseries_uuid_2\u001b[39m\u001b[39m\"\u001b[39m: series_uuid_2,\n\u001b[1;32m      <a href='vscode-notebook-cell://wsl%2Bubuntu20.04lts/mnt/c/Users/AdamHall/Documents/GitHub/datascience/fastapi/test.ipynb#X21sdnNjb2RlLXJlbW90ZQ%3D%3D?line=3'>4</a>\u001b[0m             \u001b[39m\"\u001b[39m\u001b[39malternative\u001b[39m\u001b[39m\"\u001b[39m: alternative}\n\u001b[1;32m      <a href='vscode-notebook-cell://wsl%2Bubuntu20.04lts/mnt/c/Users/AdamHall/Documents/GitHub/datascience/fastapi/test.ipynb#X21sdnNjb2RlLXJlbW90ZQ%3D%3D?line=4'>5</a>\u001b[0m result \u001b[39m=\u001b[39m requests\u001b[39m.\u001b[39mget(\u001b[39m\"\u001b[39m\u001b[39mhttp://127.0.0.1:8000/pairedTTest\u001b[39m\u001b[39m\"\u001b[39m, params\u001b[39m=\u001b[39mpayload)\n\u001b[0;32m----> <a href='vscode-notebook-cell://wsl%2Bubuntu20.04lts/mnt/c/Users/AdamHall/Documents/GitHub/datascience/fastapi/test.ipynb#X21sdnNjb2RlLXJlbW90ZQ%3D%3D?line=5'>6</a>\u001b[0m \u001b[39mreturn\u001b[39;00m result\u001b[39m.\u001b[39;49mjson()[\u001b[39m'\u001b[39m\u001b[39mt_statistic_sail\u001b[39m\u001b[39m'\u001b[39m], result\u001b[39m.\u001b[39mjson()[\u001b[39m'\u001b[39m\u001b[39mp_value_sail\u001b[39m\u001b[39m'\u001b[39m]\n",
      "File \u001b[0;32m/usr/lib/python3/dist-packages/requests/models.py:897\u001b[0m, in \u001b[0;36mResponse.json\u001b[0;34m(self, **kwargs)\u001b[0m\n\u001b[1;32m    891\u001b[0m         \u001b[39mexcept\u001b[39;00m \u001b[39mUnicodeDecodeError\u001b[39;00m:\n\u001b[1;32m    892\u001b[0m             \u001b[39m# Wrong UTF codec detected; usually because it's not UTF-8\u001b[39;00m\n\u001b[1;32m    893\u001b[0m             \u001b[39m# but some other 8-bit codec.  This is an RFC violation,\u001b[39;00m\n\u001b[1;32m    894\u001b[0m             \u001b[39m# and the server didn't bother to tell us what codec *was*\u001b[39;00m\n\u001b[1;32m    895\u001b[0m             \u001b[39m# used.\u001b[39;00m\n\u001b[1;32m    896\u001b[0m             \u001b[39mpass\u001b[39;00m\n\u001b[0;32m--> 897\u001b[0m \u001b[39mreturn\u001b[39;00m complexjson\u001b[39m.\u001b[39;49mloads(\u001b[39mself\u001b[39;49m\u001b[39m.\u001b[39;49mtext, \u001b[39m*\u001b[39;49m\u001b[39m*\u001b[39;49mkwargs)\n",
      "File \u001b[0;32m/usr/lib/python3/dist-packages/simplejson/__init__.py:518\u001b[0m, in \u001b[0;36mloads\u001b[0;34m(s, encoding, cls, object_hook, parse_float, parse_int, parse_constant, object_pairs_hook, use_decimal, **kw)\u001b[0m\n\u001b[1;32m    467\u001b[0m \u001b[39m\"\"\"Deserialize ``s`` (a ``str`` or ``unicode`` instance containing a JSON\u001b[39;00m\n\u001b[1;32m    468\u001b[0m \u001b[39mdocument) to a Python object.\u001b[39;00m\n\u001b[1;32m    469\u001b[0m \n\u001b[0;32m   (...)\u001b[0m\n\u001b[1;32m    512\u001b[0m \n\u001b[1;32m    513\u001b[0m \u001b[39m\"\"\"\u001b[39;00m\n\u001b[1;32m    514\u001b[0m \u001b[39mif\u001b[39;00m (\u001b[39mcls\u001b[39m \u001b[39mis\u001b[39;00m \u001b[39mNone\u001b[39;00m \u001b[39mand\u001b[39;00m encoding \u001b[39mis\u001b[39;00m \u001b[39mNone\u001b[39;00m \u001b[39mand\u001b[39;00m object_hook \u001b[39mis\u001b[39;00m \u001b[39mNone\u001b[39;00m \u001b[39mand\u001b[39;00m\n\u001b[1;32m    515\u001b[0m         parse_int \u001b[39mis\u001b[39;00m \u001b[39mNone\u001b[39;00m \u001b[39mand\u001b[39;00m parse_float \u001b[39mis\u001b[39;00m \u001b[39mNone\u001b[39;00m \u001b[39mand\u001b[39;00m\n\u001b[1;32m    516\u001b[0m         parse_constant \u001b[39mis\u001b[39;00m \u001b[39mNone\u001b[39;00m \u001b[39mand\u001b[39;00m object_pairs_hook \u001b[39mis\u001b[39;00m \u001b[39mNone\u001b[39;00m\n\u001b[1;32m    517\u001b[0m         \u001b[39mand\u001b[39;00m \u001b[39mnot\u001b[39;00m use_decimal \u001b[39mand\u001b[39;00m \u001b[39mnot\u001b[39;00m kw):\n\u001b[0;32m--> 518\u001b[0m     \u001b[39mreturn\u001b[39;00m _default_decoder\u001b[39m.\u001b[39;49mdecode(s)\n\u001b[1;32m    519\u001b[0m \u001b[39mif\u001b[39;00m \u001b[39mcls\u001b[39m \u001b[39mis\u001b[39;00m \u001b[39mNone\u001b[39;00m:\n\u001b[1;32m    520\u001b[0m     \u001b[39mcls\u001b[39m \u001b[39m=\u001b[39m JSONDecoder\n",
      "File \u001b[0;32m/usr/lib/python3/dist-packages/simplejson/decoder.py:370\u001b[0m, in \u001b[0;36mJSONDecoder.decode\u001b[0;34m(self, s, _w, _PY3)\u001b[0m\n\u001b[1;32m    368\u001b[0m \u001b[39mif\u001b[39;00m _PY3 \u001b[39mand\u001b[39;00m \u001b[39misinstance\u001b[39m(s, \u001b[39mbytes\u001b[39m):\n\u001b[1;32m    369\u001b[0m     s \u001b[39m=\u001b[39m \u001b[39mstr\u001b[39m(s, \u001b[39mself\u001b[39m\u001b[39m.\u001b[39mencoding)\n\u001b[0;32m--> 370\u001b[0m obj, end \u001b[39m=\u001b[39m \u001b[39mself\u001b[39;49m\u001b[39m.\u001b[39;49mraw_decode(s)\n\u001b[1;32m    371\u001b[0m end \u001b[39m=\u001b[39m _w(s, end)\u001b[39m.\u001b[39mend()\n\u001b[1;32m    372\u001b[0m \u001b[39mif\u001b[39;00m end \u001b[39m!=\u001b[39m \u001b[39mlen\u001b[39m(s):\n",
      "File \u001b[0;32m/usr/lib/python3/dist-packages/simplejson/decoder.py:400\u001b[0m, in \u001b[0;36mJSONDecoder.raw_decode\u001b[0;34m(self, s, idx, _w, _PY3)\u001b[0m\n\u001b[1;32m    398\u001b[0m     \u001b[39melif\u001b[39;00m ord0 \u001b[39m==\u001b[39m \u001b[39m0xef\u001b[39m \u001b[39mand\u001b[39;00m s[idx:idx \u001b[39m+\u001b[39m \u001b[39m3\u001b[39m] \u001b[39m==\u001b[39m \u001b[39m'\u001b[39m\u001b[39m\\xef\u001b[39;00m\u001b[39m\\xbb\u001b[39;00m\u001b[39m\\xbf\u001b[39;00m\u001b[39m'\u001b[39m:\n\u001b[1;32m    399\u001b[0m         idx \u001b[39m+\u001b[39m\u001b[39m=\u001b[39m \u001b[39m3\u001b[39m\n\u001b[0;32m--> 400\u001b[0m \u001b[39mreturn\u001b[39;00m \u001b[39mself\u001b[39;49m\u001b[39m.\u001b[39;49mscan_once(s, idx\u001b[39m=\u001b[39;49m_w(s, idx)\u001b[39m.\u001b[39;49mend())\n",
      "\u001b[0;31mJSONDecodeError\u001b[0m: Expecting value: line 1 column 1 (char 0)"
     ]
    }
   ],
   "source": [
    "def PairedTTest(series_uuid_1, series_uuid_2, alternative):\n",
    "    payload = {\"series_uuid_1\": series_uuid_1,\n",
    "                \"series_uuid_2\": series_uuid_2,\n",
    "                \"alternative\": alternative}\n",
    "    result = requests.get(\"http://127.0.0.1:8000/pairedTTest\", params=payload)\n",
    "    return result.json()['t_statistic_sail'], result.json()['p_value_sail']\n",
    "\n",
    "series_1 = \"Random UUID 2\"\n",
    "series_2 = \"Random UUID 2\"\n",
    "alternative = \"less\"\n",
    "PairedTTest(series_1, series_2, alternative)"
   ]
  },
  {
   "cell_type": "markdown",
   "metadata": {},
   "source": [
    "## 9. Pearson"
   ]
  },
  {
   "cell_type": "code",
   "execution_count": 24,
   "metadata": {},
   "outputs": [
    {
     "data": {
      "text/plain": [
       "(1.0, 0.0)"
      ]
     },
     "execution_count": 24,
     "metadata": {},
     "output_type": "execute_result"
    }
   ],
   "source": [
    "def Pearson(series_uuid_1, series_uuid_2, alternative):\n",
    "    payload = {\"series_uuid_1\": series_uuid_1,\n",
    "                \"series_uuid_2\": series_uuid_2,\n",
    "                \"alternative\": alternative}\n",
    "    result = requests.get(\"http://127.0.0.1:8000/pearson\", params=payload)\n",
    "    return result.json()['pearson_sail'], result.json()['p_value_sail']\n",
    "\n",
    "series_1 = \"Random UUID 2\"\n",
    "series_2 = \"Random UUID 2\"\n",
    "alternative = \"two-sided\"\n",
    "Pearson(series_1, series_2, alternative)"
   ]
  },
  {
   "cell_type": "markdown",
   "metadata": {},
   "source": [
    "## 10. Skewness"
   ]
  },
  {
   "cell_type": "code",
   "execution_count": 25,
   "metadata": {},
   "outputs": [
    {
     "data": {
      "text/plain": [
       "0.03129197977535138"
      ]
     },
     "execution_count": 25,
     "metadata": {},
     "output_type": "execute_result"
    }
   ],
   "source": [
    "def Skewness(series_uuid):\n",
    "    payload = {\"series_uuid\": series_uuid}\n",
    "    result = requests.get(\"http://127.0.0.1:8000/skewness\", params=payload)\n",
    "    return result.json()['skewness_sail']\n",
    "\n",
    "series = \"Random UUID\"\n",
    "Skewness(series)\n"
   ]
  },
  {
   "cell_type": "markdown",
   "metadata": {},
   "source": [
    "## 11. Spearman"
   ]
  },
  {
   "cell_type": "code",
   "execution_count": 26,
   "metadata": {},
   "outputs": [
    {
     "ename": "JSONDecodeError",
     "evalue": "Expecting value: line 1 column 1 (char 0)",
     "output_type": "error",
     "traceback": [
      "\u001b[0;31m---------------------------------------------------------------------------\u001b[0m",
      "\u001b[0;31mJSONDecodeError\u001b[0m                           Traceback (most recent call last)",
      "\u001b[1;32m/mnt/c/Users/AdamHall/Documents/GitHub/datascience/fastapi/test.ipynb Cell 22\u001b[0m in \u001b[0;36m<cell line: 13>\u001b[0;34m()\u001b[0m\n\u001b[1;32m     <a href='vscode-notebook-cell://wsl%2Bubuntu20.04lts/mnt/c/Users/AdamHall/Documents/GitHub/datascience/fastapi/test.ipynb#X33sdnNjb2RlLXJlbW90ZQ%3D%3D?line=10'>11</a>\u001b[0m alternative \u001b[39m=\u001b[39m \u001b[39m\"\u001b[39m\u001b[39mtwo-sided\u001b[39m\u001b[39m\"\u001b[39m\n\u001b[1;32m     <a href='vscode-notebook-cell://wsl%2Bubuntu20.04lts/mnt/c/Users/AdamHall/Documents/GitHub/datascience/fastapi/test.ipynb#X33sdnNjb2RlLXJlbW90ZQ%3D%3D?line=11'>12</a>\u001b[0m type_ranking \u001b[39m=\u001b[39m \u001b[39m\"\u001b[39m\u001b[39munsafe\u001b[39m\u001b[39m\"\u001b[39m\n\u001b[0;32m---> <a href='vscode-notebook-cell://wsl%2Bubuntu20.04lts/mnt/c/Users/AdamHall/Documents/GitHub/datascience/fastapi/test.ipynb#X33sdnNjb2RlLXJlbW90ZQ%3D%3D?line=12'>13</a>\u001b[0m Spearman(series_1, series_2, alternative, type_ranking)\n",
      "\u001b[1;32m/mnt/c/Users/AdamHall/Documents/GitHub/datascience/fastapi/test.ipynb Cell 22\u001b[0m in \u001b[0;36mSpearman\u001b[0;34m(series_uuid_1, series_uuid_2, alternative, type_ranking)\u001b[0m\n\u001b[1;32m      <a href='vscode-notebook-cell://wsl%2Bubuntu20.04lts/mnt/c/Users/AdamHall/Documents/GitHub/datascience/fastapi/test.ipynb#X33sdnNjb2RlLXJlbW90ZQ%3D%3D?line=1'>2</a>\u001b[0m payload \u001b[39m=\u001b[39m {\u001b[39m\"\u001b[39m\u001b[39mseries_uuid_1\u001b[39m\u001b[39m\"\u001b[39m: series_uuid_1,\n\u001b[1;32m      <a href='vscode-notebook-cell://wsl%2Bubuntu20.04lts/mnt/c/Users/AdamHall/Documents/GitHub/datascience/fastapi/test.ipynb#X33sdnNjb2RlLXJlbW90ZQ%3D%3D?line=2'>3</a>\u001b[0m             \u001b[39m\"\u001b[39m\u001b[39mseries_uuid_2\u001b[39m\u001b[39m\"\u001b[39m: series_uuid_2,\n\u001b[1;32m      <a href='vscode-notebook-cell://wsl%2Bubuntu20.04lts/mnt/c/Users/AdamHall/Documents/GitHub/datascience/fastapi/test.ipynb#X33sdnNjb2RlLXJlbW90ZQ%3D%3D?line=3'>4</a>\u001b[0m             \u001b[39m\"\u001b[39m\u001b[39malternative\u001b[39m\u001b[39m\"\u001b[39m: alternative,\n\u001b[1;32m      <a href='vscode-notebook-cell://wsl%2Bubuntu20.04lts/mnt/c/Users/AdamHall/Documents/GitHub/datascience/fastapi/test.ipynb#X33sdnNjb2RlLXJlbW90ZQ%3D%3D?line=4'>5</a>\u001b[0m             \u001b[39m\"\u001b[39m\u001b[39mtype_ranking\u001b[39m\u001b[39m\"\u001b[39m: type_ranking}\n\u001b[1;32m      <a href='vscode-notebook-cell://wsl%2Bubuntu20.04lts/mnt/c/Users/AdamHall/Documents/GitHub/datascience/fastapi/test.ipynb#X33sdnNjb2RlLXJlbW90ZQ%3D%3D?line=5'>6</a>\u001b[0m result \u001b[39m=\u001b[39m requests\u001b[39m.\u001b[39mget(\u001b[39m\"\u001b[39m\u001b[39mhttp://127.0.0.1:8000/spearman\u001b[39m\u001b[39m\"\u001b[39m, params\u001b[39m=\u001b[39mpayload)\n\u001b[0;32m----> <a href='vscode-notebook-cell://wsl%2Bubuntu20.04lts/mnt/c/Users/AdamHall/Documents/GitHub/datascience/fastapi/test.ipynb#X33sdnNjb2RlLXJlbW90ZQ%3D%3D?line=6'>7</a>\u001b[0m \u001b[39mreturn\u001b[39;00m result\u001b[39m.\u001b[39;49mjson()[\u001b[39m'\u001b[39m\u001b[39mspearman_sail\u001b[39m\u001b[39m'\u001b[39m], result\u001b[39m.\u001b[39mjson()[\u001b[39m'\u001b[39m\u001b[39mp_value_sail\u001b[39m\u001b[39m'\u001b[39m]\n",
      "File \u001b[0;32m/usr/lib/python3/dist-packages/requests/models.py:897\u001b[0m, in \u001b[0;36mResponse.json\u001b[0;34m(self, **kwargs)\u001b[0m\n\u001b[1;32m    891\u001b[0m         \u001b[39mexcept\u001b[39;00m \u001b[39mUnicodeDecodeError\u001b[39;00m:\n\u001b[1;32m    892\u001b[0m             \u001b[39m# Wrong UTF codec detected; usually because it's not UTF-8\u001b[39;00m\n\u001b[1;32m    893\u001b[0m             \u001b[39m# but some other 8-bit codec.  This is an RFC violation,\u001b[39;00m\n\u001b[1;32m    894\u001b[0m             \u001b[39m# and the server didn't bother to tell us what codec *was*\u001b[39;00m\n\u001b[1;32m    895\u001b[0m             \u001b[39m# used.\u001b[39;00m\n\u001b[1;32m    896\u001b[0m             \u001b[39mpass\u001b[39;00m\n\u001b[0;32m--> 897\u001b[0m \u001b[39mreturn\u001b[39;00m complexjson\u001b[39m.\u001b[39;49mloads(\u001b[39mself\u001b[39;49m\u001b[39m.\u001b[39;49mtext, \u001b[39m*\u001b[39;49m\u001b[39m*\u001b[39;49mkwargs)\n",
      "File \u001b[0;32m/usr/lib/python3/dist-packages/simplejson/__init__.py:518\u001b[0m, in \u001b[0;36mloads\u001b[0;34m(s, encoding, cls, object_hook, parse_float, parse_int, parse_constant, object_pairs_hook, use_decimal, **kw)\u001b[0m\n\u001b[1;32m    467\u001b[0m \u001b[39m\"\"\"Deserialize ``s`` (a ``str`` or ``unicode`` instance containing a JSON\u001b[39;00m\n\u001b[1;32m    468\u001b[0m \u001b[39mdocument) to a Python object.\u001b[39;00m\n\u001b[1;32m    469\u001b[0m \n\u001b[0;32m   (...)\u001b[0m\n\u001b[1;32m    512\u001b[0m \n\u001b[1;32m    513\u001b[0m \u001b[39m\"\"\"\u001b[39;00m\n\u001b[1;32m    514\u001b[0m \u001b[39mif\u001b[39;00m (\u001b[39mcls\u001b[39m \u001b[39mis\u001b[39;00m \u001b[39mNone\u001b[39;00m \u001b[39mand\u001b[39;00m encoding \u001b[39mis\u001b[39;00m \u001b[39mNone\u001b[39;00m \u001b[39mand\u001b[39;00m object_hook \u001b[39mis\u001b[39;00m \u001b[39mNone\u001b[39;00m \u001b[39mand\u001b[39;00m\n\u001b[1;32m    515\u001b[0m         parse_int \u001b[39mis\u001b[39;00m \u001b[39mNone\u001b[39;00m \u001b[39mand\u001b[39;00m parse_float \u001b[39mis\u001b[39;00m \u001b[39mNone\u001b[39;00m \u001b[39mand\u001b[39;00m\n\u001b[1;32m    516\u001b[0m         parse_constant \u001b[39mis\u001b[39;00m \u001b[39mNone\u001b[39;00m \u001b[39mand\u001b[39;00m object_pairs_hook \u001b[39mis\u001b[39;00m \u001b[39mNone\u001b[39;00m\n\u001b[1;32m    517\u001b[0m         \u001b[39mand\u001b[39;00m \u001b[39mnot\u001b[39;00m use_decimal \u001b[39mand\u001b[39;00m \u001b[39mnot\u001b[39;00m kw):\n\u001b[0;32m--> 518\u001b[0m     \u001b[39mreturn\u001b[39;00m _default_decoder\u001b[39m.\u001b[39;49mdecode(s)\n\u001b[1;32m    519\u001b[0m \u001b[39mif\u001b[39;00m \u001b[39mcls\u001b[39m \u001b[39mis\u001b[39;00m \u001b[39mNone\u001b[39;00m:\n\u001b[1;32m    520\u001b[0m     \u001b[39mcls\u001b[39m \u001b[39m=\u001b[39m JSONDecoder\n",
      "File \u001b[0;32m/usr/lib/python3/dist-packages/simplejson/decoder.py:370\u001b[0m, in \u001b[0;36mJSONDecoder.decode\u001b[0;34m(self, s, _w, _PY3)\u001b[0m\n\u001b[1;32m    368\u001b[0m \u001b[39mif\u001b[39;00m _PY3 \u001b[39mand\u001b[39;00m \u001b[39misinstance\u001b[39m(s, \u001b[39mbytes\u001b[39m):\n\u001b[1;32m    369\u001b[0m     s \u001b[39m=\u001b[39m \u001b[39mstr\u001b[39m(s, \u001b[39mself\u001b[39m\u001b[39m.\u001b[39mencoding)\n\u001b[0;32m--> 370\u001b[0m obj, end \u001b[39m=\u001b[39m \u001b[39mself\u001b[39;49m\u001b[39m.\u001b[39;49mraw_decode(s)\n\u001b[1;32m    371\u001b[0m end \u001b[39m=\u001b[39m _w(s, end)\u001b[39m.\u001b[39mend()\n\u001b[1;32m    372\u001b[0m \u001b[39mif\u001b[39;00m end \u001b[39m!=\u001b[39m \u001b[39mlen\u001b[39m(s):\n",
      "File \u001b[0;32m/usr/lib/python3/dist-packages/simplejson/decoder.py:400\u001b[0m, in \u001b[0;36mJSONDecoder.raw_decode\u001b[0;34m(self, s, idx, _w, _PY3)\u001b[0m\n\u001b[1;32m    398\u001b[0m     \u001b[39melif\u001b[39;00m ord0 \u001b[39m==\u001b[39m \u001b[39m0xef\u001b[39m \u001b[39mand\u001b[39;00m s[idx:idx \u001b[39m+\u001b[39m \u001b[39m3\u001b[39m] \u001b[39m==\u001b[39m \u001b[39m'\u001b[39m\u001b[39m\\xef\u001b[39;00m\u001b[39m\\xbb\u001b[39;00m\u001b[39m\\xbf\u001b[39;00m\u001b[39m'\u001b[39m:\n\u001b[1;32m    399\u001b[0m         idx \u001b[39m+\u001b[39m\u001b[39m=\u001b[39m \u001b[39m3\u001b[39m\n\u001b[0;32m--> 400\u001b[0m \u001b[39mreturn\u001b[39;00m \u001b[39mself\u001b[39;49m\u001b[39m.\u001b[39;49mscan_once(s, idx\u001b[39m=\u001b[39;49m_w(s, idx)\u001b[39m.\u001b[39;49mend())\n",
      "\u001b[0;31mJSONDecodeError\u001b[0m: Expecting value: line 1 column 1 (char 0)"
     ]
    }
   ],
   "source": [
    "def Spearman(series_uuid_1, series_uuid_2, alternative, type_ranking):\n",
    "    payload = {\"series_uuid_1\": series_uuid_1,\n",
    "                \"series_uuid_2\": series_uuid_2,\n",
    "                \"alternative\": alternative,\n",
    "                \"type_ranking\": type_ranking}\n",
    "    result = requests.get(\"http://127.0.0.1:8000/spearman\", params=payload)\n",
    "    return result.json()['spearman_sail'], result.json()['p_value_sail']\n",
    "\n",
    "series_1 = \"Random UUID 2\"\n",
    "series_2 = \"Random UUID 2\"\n",
    "alternative = \"two-sided\"\n",
    "type_ranking = \"unsafe\"\n",
    "Spearman(series_1, series_2, alternative, type_ranking)"
   ]
  },
  {
   "cell_type": "markdown",
   "metadata": {},
   "source": [
    "## 12. Student T Test"
   ]
  },
  {
   "cell_type": "code",
   "execution_count": 27,
   "metadata": {},
   "outputs": [
    {
     "data": {
      "text/plain": [
       "(0.0, 0.5)"
      ]
     },
     "execution_count": 27,
     "metadata": {},
     "output_type": "execute_result"
    }
   ],
   "source": [
    "def StudentTTest(series_uuid_1, series_uuid_2, alternative):\n",
    "    payload = {\"series_uuid_1\": series_uuid_1,\n",
    "                \"series_uuid_2\": series_uuid_2,\n",
    "                \"alternative\": alternative}\n",
    "    result = requests.get(\"http://127.0.0.1:8000/studentTTest\", params=payload)\n",
    "    return result.json()['t_statistic_sail'], result.json()['p_value_sail']\n",
    "\n",
    "series_1 = \"Random UUID 2\"\n",
    "series_2 = \"Random UUID 2\"\n",
    "alternative = \"less\"\n",
    "StudentTTest(series_1, series_2, alternative)"
   ]
  },
  {
   "cell_type": "markdown",
   "metadata": {},
   "source": [
    "## 13. Variance"
   ]
  },
  {
   "cell_type": "code",
   "execution_count": 28,
   "metadata": {},
   "outputs": [
    {
     "data": {
      "text/plain": [
       "8.283936732170213"
      ]
     },
     "execution_count": 28,
     "metadata": {},
     "output_type": "execute_result"
    }
   ],
   "source": [
    "def Variance(series_uuid):\n",
    "    payload = {\"series_uuid\": series_uuid}\n",
    "    result = requests.get(\"http://127.0.0.1:8000/variance\", params=payload)\n",
    "    return result.json()['variance_sail']\n",
    "\n",
    "series = \"Random UUID\"\n",
    "Variance(series)\n"
   ]
  },
  {
   "cell_type": "markdown",
   "metadata": {},
   "source": [
    "## 14. Welch T Test"
   ]
  },
  {
   "cell_type": "code",
   "execution_count": 29,
   "metadata": {},
   "outputs": [
    {
     "data": {
      "text/plain": [
       "(0.0, 0.5)"
      ]
     },
     "execution_count": 29,
     "metadata": {},
     "output_type": "execute_result"
    }
   ],
   "source": [
    "def WelchTTest(series_uuid_1, series_uuid_2, alternative):\n",
    "    payload = {\"series_uuid_1\": series_uuid_1,\n",
    "                \"series_uuid_2\": series_uuid_2,\n",
    "                \"alternative\": alternative}\n",
    "    result = requests.get(\"http://127.0.0.1:8000/welchTTest\", params=payload)\n",
    "    return result.json()['t_statistic_sail'], result.json()['p_value_sail']\n",
    "\n",
    "series_1 = \"Random UUID 2\"\n",
    "series_2 = \"Random UUID 2\"\n",
    "alternative = \"less\"\n",
    "StudentTTest(series_1, series_2, alternative)"
   ]
  },
  {
   "cell_type": "markdown",
   "metadata": {},
   "source": [
    "## 15. Wilcoxon Signed Rank Test"
   ]
  },
  {
   "cell_type": "code",
   "execution_count": 30,
   "metadata": {},
   "outputs": [
    {
     "data": {
      "text/plain": [
       "(0.0, 6.772582674446599e-149)"
      ]
     },
     "execution_count": 30,
     "metadata": {},
     "output_type": "execute_result"
    }
   ],
   "source": [
    "def WilcoxonSignedRankTest(series_uuid_1, series_uuid_2, alternative, type_ranking):\n",
    "    payload = {\"series_uuid_1\": series_uuid_1,\n",
    "                \"series_uuid_2\": series_uuid_2,\n",
    "                \"alternative\": alternative,\n",
    "                \"type_ranking\": type_ranking}\n",
    "    result = requests.get(\"http://127.0.0.1:8000/wilcoxonSignedRankTest\", params=payload)\n",
    "    return result.json()['w_statistic_sail'], result.json()['p_value_sail']\n",
    "\n",
    "series_1 = \"Random UUID 2\"\n",
    "series_2 = \"Random UUID 2\"\n",
    "alternative = \"two-sided\"\n",
    "type_ranking = \"unsafe\"\n",
    "WilcoxonSignedRankTest(series_1, series_2, alternative, type_ranking)"
   ]
  }
 ],
 "metadata": {
  "kernelspec": {
   "display_name": "Python 3.8.10 64-bit",
   "language": "python",
   "name": "python3"
  },
  "language_info": {
   "codemirror_mode": {
    "name": "ipython",
    "version": 3
   },
   "file_extension": ".py",
   "mimetype": "text/x-python",
   "name": "python",
   "nbconvert_exporter": "python",
   "pygments_lexer": "ipython3",
   "version": "3.8.10"
  },
  "orig_nbformat": 4,
  "vscode": {
   "interpreter": {
    "hash": "916dbcbb3f70747c44a77c7bcd40155683ae19c65e1c03b4aa3499c5328201f1"
   }
  }
 },
 "nbformat": 4,
 "nbformat_minor": 2
}
