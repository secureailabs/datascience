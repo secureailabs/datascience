{
 "cells": [
  {
   "cell_type": "markdown",
   "metadata": {},
   "source": [
    "# Statistics Functions API and Function Call\n",
    "## 1. Mean"
   ]
  },
  {
   "cell_type": "code",
   "execution_count": 26,
   "metadata": {},
   "outputs": [
    {
     "data": {
      "text/plain": [
       "85.03455555555556"
      ]
     },
     "execution_count": 26,
     "metadata": {},
     "output_type": "execute_result"
    }
   ],
   "source": [
    "import requests\n",
    "import json\n",
    "\n",
    "def Mean(series_uuid):\n",
    "    payload = {\"series_uuid\": series_uuid}\n",
    "    result = requests.get(\"http://127.0.0.1:8000/mean\", params=payload)\n",
    "    return result.json()['payload']\n",
    "\n",
    "series = \"Random UUID\"\n",
    "Mean(series)\n"
   ]
  },
  {
   "cell_type": "markdown",
   "metadata": {},
   "source": [
    "## 2. Chisquare"
   ]
  },
  {
   "cell_type": "code",
   "execution_count": 27,
   "metadata": {},
   "outputs": [
    {
     "data": {
      "text/plain": [
       "[514800.00000000006, 0.0]"
      ]
     },
     "execution_count": 27,
     "metadata": {},
     "output_type": "execute_result"
    }
   ],
   "source": [
    "def ChiSquare(series_uuid_1, series_uuid_2):\n",
    "    payload = {\"series_uuid_1\": series_uuid_1,\n",
    "                \"series_uuid_2\": series_uuid_2}\n",
    "    result = requests.get(\"http://127.0.0.1:8000/chisquare\", params=payload)\n",
    "    return result.json()['payload']\n",
    "\n",
    "series_1 = \"Random UUID 2\"\n",
    "series_2 = \"Random UUID 2\"\n",
    "ChiSquare(series_1, series_2)\n"
   ]
  },
  {
   "cell_type": "markdown",
   "metadata": {},
   "source": [
    "## 3. Kolmogorov Smirnov Test"
   ]
  },
  {
   "cell_type": "code",
   "execution_count": 28,
   "metadata": {},
   "outputs": [
    {
     "data": {
      "text/plain": [
       "(0.9988888888888889, 0.0)"
      ]
     },
     "execution_count": 28,
     "metadata": {},
     "output_type": "execute_result"
    }
   ],
   "source": [
    "def KolmogorovSmirnovTest(series_uuid, type_distribution, type_ranking):\n",
    "    payload = {\"series_uuid\": series_uuid,\n",
    "                \"type_distribution\": type_distribution,\n",
    "                \"type_ranking\": type_ranking}\n",
    "    result = requests.get(\"http://127.0.0.1:8000/kolmogorovSmirnovTest\", params=payload)\n",
    "    return result.json()['k_statistic_sail'], result.json()['p_value_sail']\n",
    "\n",
    "series = \"Random UUID\"\n",
    "type_distribution=\"normalunit\" \n",
    "type_ranking=\"unsafe\"\n",
    "KolmogorovSmirnovTest(series, type_distribution, type_ranking)"
   ]
  },
  {
   "cell_type": "markdown",
   "metadata": {},
   "source": [
    "## 4. Kurtosis"
   ]
  },
  {
   "cell_type": "code",
   "execution_count": 31,
   "metadata": {},
   "outputs": [
    {
     "data": {
      "text/plain": [
       "-1.1775818710089418"
      ]
     },
     "execution_count": 31,
     "metadata": {},
     "output_type": "execute_result"
    }
   ],
   "source": [
    "def Kurtosis(series_uuid):\n",
    "    payload = {\"series_uuid\": series_uuid}\n",
    "    result = requests.get(\"http://127.0.0.1:8000/kurtosis\", params=payload)\n",
    "    return result.json()['kurtosis_sail']\n",
    "\n",
    "series = \"Random UUID\"\n",
    "Kurtosis(series)"
   ]
  },
  {
   "cell_type": "markdown",
   "metadata": {},
   "source": [
    "## 5. Levene Test"
   ]
  },
  {
   "cell_type": "code",
   "execution_count": 34,
   "metadata": {},
   "outputs": [
    {
     "data": {
      "text/plain": [
       "(0.0, 1.0)"
      ]
     },
     "execution_count": 34,
     "metadata": {},
     "output_type": "execute_result"
    }
   ],
   "source": [
    "def LeveneTest(series_uuid_1, series_uuid_2):\n",
    "    payload = {\"series_uuid_1\": series_uuid_1,\n",
    "                \"series_uuid_2\": series_uuid_2}\n",
    "    result = requests.get(\"http://127.0.0.1:8000/leveneTest\", params=payload)\n",
    "    return result.json()['f_statistic_sail'], result.json()['p_value_sail']\n",
    "\n",
    "series_1 = \"Random UUID 2\"\n",
    "series_2 = \"Random UUID 2\"\n",
    "LeveneTest(series_1, series_2)\n"
   ]
  },
  {
   "cell_type": "markdown",
   "metadata": {},
   "source": [
    "## 6. Mann Whitney U Test"
   ]
  },
  {
   "cell_type": "code",
   "execution_count": null,
   "metadata": {},
   "outputs": [],
   "source": [
    "def MannWhitneyUTest(series_uuid_1, series_uuid_2):\n",
    "    payload = {\"series_uuid_1\": series_uuid_1,\n",
    "                \"series_uuid_2\": series_uuid_2}\n",
    "    result = requests.get(\"http://127.0.0.1:8000/leveneTest\", params=payload)\n",
    "    return result.json()['f_statistic_sail'], result.json()['p_value_sail']\n",
    "\n",
    "series_1 = \"Random UUID 2\"\n",
    "series_2 = \"Random UUID 2\"\n",
    "MannWhitneyUTest(series_1, series_2)"
   ]
  }
 ],
 "metadata": {
  "kernelspec": {
   "display_name": "Python 3.8.10 64-bit",
   "language": "python",
   "name": "python3"
  },
  "language_info": {
   "codemirror_mode": {
    "name": "ipython",
    "version": 3
   },
   "file_extension": ".py",
   "mimetype": "text/x-python",
   "name": "python",
   "nbconvert_exporter": "python",
   "pygments_lexer": "ipython3",
   "version": "3.8.10"
  },
  "orig_nbformat": 4,
  "vscode": {
   "interpreter": {
    "hash": "916dbcbb3f70747c44a77c7bcd40155683ae19c65e1c03b4aa3499c5328201f1"
   }
  }
 },
 "nbformat": 4,
 "nbformat_minor": 2
}
