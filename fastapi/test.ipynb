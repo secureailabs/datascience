{
 "cells": [
  {
   "cell_type": "markdown",
   "metadata": {},
   "source": [
    "# Statistics Functions API and Function Call\n",
    "## 1. Mean"
   ]
  },
  {
   "cell_type": "code",
   "execution_count": 3,
   "metadata": {},
   "outputs": [
    {
     "data": {
      "text/plain": [
       "85.03455555555556"
      ]
     },
     "execution_count": 3,
     "metadata": {},
     "output_type": "execute_result"
    }
   ],
   "source": [
    "import requests\n",
    "import json\n",
    "\n",
    "def Mean(series_uuid):\n",
    "    payload = {\"series_uuid\": series_uuid}\n",
    "    result = requests.get(\"http://127.0.0.1:8000/mean\", params=payload)\n",
    "    return result.json()['mean_sail']\n",
    "\n",
    "series = \"Random UUID\"\n",
    "Mean(series)\n"
   ]
  },
  {
   "cell_type": "markdown",
   "metadata": {},
   "source": [
    "## 2. Chisquare"
   ]
  },
  {
   "cell_type": "code",
   "execution_count": 4,
   "metadata": {},
   "outputs": [
    {
     "data": {
      "text/plain": [
       "[514800.00000000006, 0.0]"
      ]
     },
     "execution_count": 4,
     "metadata": {},
     "output_type": "execute_result"
    }
   ],
   "source": [
    "def ChiSquare(series_uuid_1, series_uuid_2):\n",
    "    payload = {\"series_uuid_1\": series_uuid_1,\n",
    "                \"series_uuid_2\": series_uuid_2}\n",
    "    result = requests.get(\"http://127.0.0.1:8000/chisquare\", params=payload)\n",
    "    return result.json()['chisquare_sail']\n",
    "\n",
    "series_1 = \"Random UUID 2\"\n",
    "series_2 = \"Random UUID 2\"\n",
    "ChiSquare(series_1, series_2)\n"
   ]
  },
  {
   "cell_type": "markdown",
   "metadata": {},
   "source": [
    "## 3. Kolmogorov Smirnov Test"
   ]
  },
  {
   "cell_type": "code",
   "execution_count": 5,
   "metadata": {},
   "outputs": [
    {
     "data": {
      "text/plain": [
       "(0.9988888888888889, 0.0)"
      ]
     },
     "execution_count": 5,
     "metadata": {},
     "output_type": "execute_result"
    }
   ],
   "source": [
    "def KolmogorovSmirnovTest(series_uuid, type_distribution, type_ranking):\n",
    "    payload = {\"series_uuid\": series_uuid,\n",
    "                \"type_distribution\": type_distribution,\n",
    "                \"type_ranking\": type_ranking}\n",
    "    result = requests.get(\"http://127.0.0.1:8000/kolmogorovSmirnovTest\", params=payload)\n",
    "    return result.json()['k_statistic_sail'], result.json()['p_value_sail']\n",
    "\n",
    "series = \"Random UUID\"\n",
    "type_distribution=\"normalunit\" \n",
    "type_ranking=\"unsafe\"\n",
    "KolmogorovSmirnovTest(series, type_distribution, type_ranking)"
   ]
  },
  {
   "cell_type": "markdown",
   "metadata": {},
   "source": [
    "## 4. Kurtosis"
   ]
  },
  {
   "cell_type": "code",
   "execution_count": 6,
   "metadata": {},
   "outputs": [
    {
     "data": {
      "text/plain": [
       "-1.1775818710089418"
      ]
     },
     "execution_count": 6,
     "metadata": {},
     "output_type": "execute_result"
    }
   ],
   "source": [
    "def Kurtosis(series_uuid):\n",
    "    payload = {\"series_uuid\": series_uuid}\n",
    "    result = requests.get(\"http://127.0.0.1:8000/kurtosis\", params=payload)\n",
    "    return result.json()['kurtosis_sail']\n",
    "\n",
    "series = \"Random UUID\"\n",
    "Kurtosis(series)"
   ]
  },
  {
   "cell_type": "markdown",
   "metadata": {},
   "source": [
    "## 5. Levene Test"
   ]
  },
  {
   "cell_type": "code",
   "execution_count": 7,
   "metadata": {},
   "outputs": [
    {
     "data": {
      "text/plain": [
       "(0.0, 1.0)"
      ]
     },
     "execution_count": 7,
     "metadata": {},
     "output_type": "execute_result"
    }
   ],
   "source": [
    "def LeveneTest(series_uuid_1, series_uuid_2):\n",
    "    payload = {\"series_uuid_1\": series_uuid_1,\n",
    "                \"series_uuid_2\": series_uuid_2}\n",
    "    result = requests.get(\"http://127.0.0.1:8000/leveneTest\", params=payload)\n",
    "    return result.json()['f_statistic_sail'], result.json()['p_value_sail']\n",
    "\n",
    "series_1 = \"Random UUID 2\"\n",
    "series_2 = \"Random UUID 2\"\n",
    "LeveneTest(series_1, series_2)\n"
   ]
  },
  {
   "cell_type": "markdown",
   "metadata": {},
   "source": [
    "## 6. Mann Whitney U Test"
   ]
  },
  {
   "cell_type": "code",
   "execution_count": 8,
   "metadata": {},
   "outputs": [
    {
     "data": {
      "text/plain": [
       "(405000.0, 1.0)"
      ]
     },
     "execution_count": 8,
     "metadata": {},
     "output_type": "execute_result"
    }
   ],
   "source": [
    "def MannWhitneyUTest(series_uuid_1, series_uuid_2, alternative, type_ranking):\n",
    "    payload = {\"series_uuid_1\": series_uuid_1,\n",
    "                \"series_uuid_2\": series_uuid_2,\n",
    "                \"alternative\": alternative,\n",
    "                \"type_ranking\": type_ranking}\n",
    "    result = requests.get(\"http://127.0.0.1:8000/mannWhitneyUTest\", params=payload)\n",
    "    return result.json()['w_statistic_sail'], result.json()['p_value_sail']\n",
    "\n",
    "series_1 = \"Random UUID 2\"\n",
    "series_2 = \"Random UUID 2\"\n",
    "alternative = \"two-sided\"\n",
    "type_ranking = \"unsafe\"\n",
    "MannWhitneyUTest(series_1, series_2, alternative, type_ranking)"
   ]
  },
  {
   "cell_type": "markdown",
   "metadata": {},
   "source": [
    "## 7. Min Max"
   ]
  },
  {
   "cell_type": "code",
   "execution_count": 9,
   "metadata": {},
   "outputs": [
    {
     "data": {
      "text/plain": [
       "(80.009133, 89.99036299999999)"
      ]
     },
     "execution_count": 9,
     "metadata": {},
     "output_type": "execute_result"
    }
   ],
   "source": [
    "def MinMax(series_uuid):\n",
    "    payload = {\"series_uuid\": series_uuid}\n",
    "    result = requests.get(\"http://127.0.0.1:8000/minMax\", params=payload)\n",
    "    return result.json()['min_sail'], result.json()['max_sail']\n",
    "\n",
    "series = \"Random UUID\"\n",
    "MinMax(series)"
   ]
  },
  {
   "cell_type": "markdown",
   "metadata": {},
   "source": [
    "## 8. Paired T Test"
   ]
  },
  {
   "cell_type": "code",
   "execution_count": 10,
   "metadata": {},
   "outputs": [
    {
     "data": {
      "text/plain": [
       "(260.0156214109429, 1.0)"
      ]
     },
     "execution_count": 10,
     "metadata": {},
     "output_type": "execute_result"
    }
   ],
   "source": [
    "def PairedTTest(series_uuid_1, series_uuid_2, alternative):\n",
    "    payload = {\"series_uuid_1\": series_uuid_1,\n",
    "                \"series_uuid_2\": series_uuid_2,\n",
    "                \"alternative\": alternative}\n",
    "    result = requests.get(\"http://127.0.0.1:8000/pairedTTest\", params=payload)\n",
    "    return result.json()['t_statistic_sail'], result.json()['p_value_sail']\n",
    "\n",
    "series_1 = \"Random UUID 2\"\n",
    "series_2 = \"Random UUID 2\"\n",
    "alternative = \"less\"\n",
    "PairedTTest(series_1, series_2, alternative)"
   ]
  },
  {
   "cell_type": "markdown",
   "metadata": {},
   "source": [
    "## 9. Pearson"
   ]
  },
  {
   "cell_type": "code",
   "execution_count": 11,
   "metadata": {},
   "outputs": [
    {
     "data": {
      "text/plain": [
       "(1.0, 0.0)"
      ]
     },
     "execution_count": 11,
     "metadata": {},
     "output_type": "execute_result"
    }
   ],
   "source": [
    "def Pearson(series_uuid_1, series_uuid_2, alternative):\n",
    "    payload = {\"series_uuid_1\": series_uuid_1,\n",
    "                \"series_uuid_2\": series_uuid_2,\n",
    "                \"alternative\": alternative}\n",
    "    result = requests.get(\"http://127.0.0.1:8000/pearson\", params=payload)\n",
    "    return result.json()['pearson_sail'], result.json()['p_value_sail']\n",
    "\n",
    "series_1 = \"Random UUID 2\"\n",
    "series_2 = \"Random UUID 2\"\n",
    "alternative = \"two-sided\"\n",
    "Pearson(series_1, series_2, alternative)"
   ]
  },
  {
   "cell_type": "markdown",
   "metadata": {},
   "source": [
    "## 10. Skewness"
   ]
  },
  {
   "cell_type": "code",
   "execution_count": 12,
   "metadata": {},
   "outputs": [
    {
     "data": {
      "text/plain": [
       "0.03129197977535138"
      ]
     },
     "execution_count": 12,
     "metadata": {},
     "output_type": "execute_result"
    }
   ],
   "source": [
    "def Skewness(series_uuid):\n",
    "    payload = {\"series_uuid\": series_uuid}\n",
    "    result = requests.get(\"http://127.0.0.1:8000/skewness\", params=payload)\n",
    "    return result.json()['skewness_sail']\n",
    "\n",
    "series = \"Random UUID\"\n",
    "Skewness(series)\n"
   ]
  },
  {
   "cell_type": "markdown",
   "metadata": {},
   "source": [
    "## 11. Spearman"
   ]
  },
  {
   "cell_type": "code",
   "execution_count": 13,
   "metadata": {},
   "outputs": [
    {
     "data": {
      "text/plain": [
       "(0.0036171481653660843, 0.913706965860571)"
      ]
     },
     "execution_count": 13,
     "metadata": {},
     "output_type": "execute_result"
    }
   ],
   "source": [
    "def Spearman(series_uuid_1, series_uuid_2, alternative, type_ranking):\n",
    "    payload = {\"series_uuid_1\": series_uuid_1,\n",
    "                \"series_uuid_2\": series_uuid_2,\n",
    "                \"alternative\": alternative,\n",
    "                \"type_ranking\": type_ranking}\n",
    "    result = requests.get(\"http://127.0.0.1:8000/spearman\", params=payload)\n",
    "    return result.json()['spearman_sail'], result.json()['p_value_sail']\n",
    "\n",
    "series_1 = \"Random UUID 2\"\n",
    "series_2 = \"Random UUID 2\"\n",
    "alternative = \"two-sided\"\n",
    "type_ranking = \"unsafe\"\n",
    "Spearman(series_1, series_2, alternative, type_ranking)"
   ]
  },
  {
   "cell_type": "markdown",
   "metadata": {},
   "source": [
    "## 12. Student T Test"
   ]
  },
  {
   "cell_type": "code",
   "execution_count": 14,
   "metadata": {},
   "outputs": [
    {
     "data": {
      "text/plain": [
       "(0.0, 0.5)"
      ]
     },
     "execution_count": 14,
     "metadata": {},
     "output_type": "execute_result"
    }
   ],
   "source": [
    "def StudentTTest(series_uuid_1, series_uuid_2, alternative):\n",
    "    payload = {\"series_uuid_1\": series_uuid_1,\n",
    "                \"series_uuid_2\": series_uuid_2,\n",
    "                \"alternative\": alternative}\n",
    "    result = requests.get(\"http://127.0.0.1:8000/studentTTest\", params=payload)\n",
    "    return result.json()['t_statistic_sail'], result.json()['p_value_sail']\n",
    "\n",
    "series_1 = \"Random UUID 2\"\n",
    "series_2 = \"Random UUID 2\"\n",
    "alternative = \"less\"\n",
    "StudentTTest(series_1, series_2, alternative)"
   ]
  },
  {
   "cell_type": "markdown",
   "metadata": {},
   "source": [
    "## 13. Variance"
   ]
  },
  {
   "cell_type": "code",
   "execution_count": 15,
   "metadata": {},
   "outputs": [
    {
     "data": {
      "text/plain": [
       "8.283936732170213"
      ]
     },
     "execution_count": 15,
     "metadata": {},
     "output_type": "execute_result"
    }
   ],
   "source": [
    "def Variance(series_uuid):\n",
    "    payload = {\"series_uuid\": series_uuid}\n",
    "    result = requests.get(\"http://127.0.0.1:8000/variance\", params=payload)\n",
    "    return result.json()['variance_sail']\n",
    "\n",
    "series = \"Random UUID\"\n",
    "Variance(series)\n"
   ]
  },
  {
   "cell_type": "markdown",
   "metadata": {},
   "source": [
    "## 14. Welch T Test"
   ]
  },
  {
   "cell_type": "code",
   "execution_count": 16,
   "metadata": {},
   "outputs": [
    {
     "data": {
      "text/plain": [
       "(0.0, 0.5)"
      ]
     },
     "execution_count": 16,
     "metadata": {},
     "output_type": "execute_result"
    }
   ],
   "source": [
    "def WelchTTest(series_uuid_1, series_uuid_2, alternative):\n",
    "    payload = {\"series_uuid_1\": series_uuid_1,\n",
    "                \"series_uuid_2\": series_uuid_2,\n",
    "                \"alternative\": alternative}\n",
    "    result = requests.get(\"http://127.0.0.1:8000/welchTTest\", params=payload)\n",
    "    return result.json()['t_statistic_sail'], result.json()['p_value_sail']\n",
    "\n",
    "series_1 = \"Random UUID 2\"\n",
    "series_2 = \"Random UUID 2\"\n",
    "alternative = \"less\"\n",
    "StudentTTest(series_1, series_2, alternative)"
   ]
  },
  {
   "cell_type": "markdown",
   "metadata": {},
   "source": [
    "## 15. Wilcoxon Signed Rank Test"
   ]
  },
  {
   "cell_type": "code",
   "execution_count": 17,
   "metadata": {},
   "outputs": [
    {
     "data": {
      "text/plain": [
       "(0.0, 6.772582674446599e-149)"
      ]
     },
     "execution_count": 17,
     "metadata": {},
     "output_type": "execute_result"
    }
   ],
   "source": [
    "def WilcoxonSignedRankTest(series_uuid_1, series_uuid_2, alternative, type_ranking):\n",
    "    payload = {\"series_uuid_1\": series_uuid_1,\n",
    "                \"series_uuid_2\": series_uuid_2,\n",
    "                \"alternative\": alternative,\n",
    "                \"type_ranking\": type_ranking}\n",
    "    result = requests.get(\"http://127.0.0.1:8000/wilcoxonSignedRankTest\", params=payload)\n",
    "    return result.json()['w_statistic_sail'], result.json()['p_value_sail']\n",
    "\n",
    "series_1 = \"Random UUID 2\"\n",
    "series_2 = \"Random UUID 2\"\n",
    "alternative = \"two-sided\"\n",
    "type_ranking = \"unsafe\"\n",
    "WilcoxonSignedRankTest(series_1, series_2, alternative, type_ranking)"
   ]
  }
 ],
 "metadata": {
  "kernelspec": {
   "display_name": "Python 3.8.10 64-bit",
   "language": "python",
   "name": "python3"
  },
  "language_info": {
   "codemirror_mode": {
    "name": "ipython",
    "version": 3
   },
   "file_extension": ".py",
   "mimetype": "text/x-python",
   "name": "python",
   "nbconvert_exporter": "python",
   "pygments_lexer": "ipython3",
   "version": "3.8.10"
  },
  "orig_nbformat": 4,
  "vscode": {
   "interpreter": {
    "hash": "916dbcbb3f70747c44a77c7bcd40155683ae19c65e1c03b4aa3499c5328201f1"
   }
  }
 },
 "nbformat": 4,
 "nbformat_minor": 2
}
