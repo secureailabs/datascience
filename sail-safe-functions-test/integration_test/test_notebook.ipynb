{
 "cells": [
  {
   "cell_type": "code",
   "execution_count": 13,
   "metadata": {},
   "outputs": [
    {
     "name": "stdout",
     "output_type": "stream",
     "text": [
      "env: PATH_FILE_PRIVATE_KEY_ZEROMQ_CLIENT=/home/adam/Engineering/Docker/smart_broker/private_keys/client.key_secret\n",
      "env: PATH_DIR_PUBLIC_KEY_ZEROMQ=/home/adam/Engineering/Docker/smart_broker/public_keys\n"
     ]
    }
   ],
   "source": [
    "%env PATH_FILE_PRIVATE_KEY_ZEROMQ_CLIENT=/home/adam/Engineering/Docker/smart_broker/private_keys/client.key_secret\n",
    "#%PATH_FILE_PRIVATE_KEY_ZEROMQ_SERVER=/home/adam/Engineering/Docker/smart_broker/private_keys/server.key_secret\n",
    "%env PATH_DIR_PUBLIC_KEY_ZEROMQ=/home/adam/Engineering/Docker/smart_broker/public_keys\n",
    "\n",
    "{\n",
    "  \"dataframe_id\": \"c094f7ae-7ba1-4f48-8f39-e59984facc1e\",\n",
    "  \"data_frame_name\": \"data_frame_0\"\n",
    "}\n",
    "{\n",
    "  \"data_model_id\": \"c094f7ae-7ba1-4f48-8f39-e59984facc1e\"\n",
    "}"
   ]
  },
  {
   "cell_type": "markdown",
   "metadata": {},
   "source": [
    "# Connect to the SCN"
   ]
  },
  {
   "cell_type": "code",
   "execution_count": 14,
   "metadata": {},
   "outputs": [
    {
     "name": "stdout",
     "output_type": "stream",
     "text": [
      "Connected to SCN serving dataset 127.0.0.1\n"
     ]
    }
   ],
   "source": [
    "from sail_safe_functions_orchestrator.client_rpc_zero import ClientRPCZero\n",
    "from sail_safe_functions_orchestrator.service_client_dict import ServiceClientDict\n",
    "\n",
    "scn_names = [\"127.0.0.1\"]\n",
    "list_dataset_id = []\n",
    "list_dataset_id.append(\"a892ef90-4f6f-11ed-bdc3-0242ac120002\")\n",
    "# list_dataset_id.append(\"a89301b0-4f6f-11ed-bdc3-0242ac120002\")\n",
    "# list_dataset_id.append(\"a89302dc-4f6f-11ed-bdc3-0242ac120002\")\n",
    "from sail_safe_functions_orchestrator import preprocessing\n",
    "\n",
    "service_client = ServiceClientDict()\n",
    "for dataset_id, scn_name in zip(list_dataset_id, scn_names):\n",
    "    service_client.register_client(dataset_id, ClientRPCZero(scn_name, 5010))\n",
    "    print(f\"Connected to SCN serving dataset {scn_name}\")"
   ]
  },
  {
   "cell_type": "markdown",
   "metadata": {},
   "source": [
    "# Data Manipulation\n",
    "## 1. Bring Data to dataframe state"
   ]
  },
  {
   "cell_type": "code",
   "execution_count": 38,
   "metadata": {},
   "outputs": [],
   "source": [
    "from sail_safe_functions_orchestrator.data_model.data_model_data_frame import (\n",
    "    DataModelDataFrame,\n",
    ")\n",
    "from sail_safe_functions_orchestrator.data_model.data_model_series import (\n",
    "    DataModelSeries,\n",
    ")\n",
    "from sail_safe_functions_orchestrator.data_model.data_model_tabular import (\n",
    "    DataModelTabular,\n",
    ")\n",
    "from sail_safe_functions_orchestrator.preprocessing import convert\n",
    "from sail_safe_functions_orchestrator import preprocessing\n",
    "\n",
    "\n",
    "\n",
    "def get_standard_federated_dataframe():\n",
    "\n",
    "    dataset_federation_id = \"a892f738-4f6f-11ed-bdc3-0242ac120002\"\n",
    "    dataset_federation_name = \"r4sep2019_csvv1_20_1\"\n",
    "\n",
    "    dataset_longitudinal = preprocessing.read_dataset_fhirv1(\n",
    "    service_client, list_dataset_id\n",
    "    )\n",
    "\n",
    "    data_frame_name = \"data_frame_0\"\n",
    "\n",
    "    data_model_data_frame = DataModelDataFrame(data_frame_name)\n",
    "    data_model_data_frame.add_data_model_series(\n",
    "        DataModelSeries.create_numerical(\n",
    "            series_name=\"bmi_mean\",\n",
    "            measurement_source_name=\"Observation:Body Mass Index\",\n",
    "            type_agregator=DataModelSeries.AgregatorIntervalMean,\n",
    "            unit=\"kg/m2\",\n",
    "        )\n",
    "    )\n",
    "    data_model_data_frame.add_data_model_series(\n",
    "        DataModelSeries.create_numerical(\n",
    "            series_name=\"bmi_first\",\n",
    "            measurement_source_name=\"Observation:Body Mass Index\",\n",
    "            type_agregator=DataModelSeries.AgregatorIntervalFirstOccurance,\n",
    "            unit=\"kg/m2\",\n",
    "        )\n",
    "    )\n",
    "\n",
    "    data_model_data_frame.add_data_model_series(\n",
    "        DataModelSeries.create_numerical(\n",
    "            series_name=\"bmi_last\",\n",
    "            measurement_source_name=\"Observation:Body Mass Index\",\n",
    "            type_agregator=DataModelSeries.AgregatorIntervalLastOccurance,\n",
    "            unit=\"kg/m2\",\n",
    "        )\n",
    "    )\n",
    "    data_model_tabular = DataModelTabular()\n",
    "    data_model_tabular.add_data_model_data_frame(data_model_data_frame)\n",
    "\n",
    "    dataset_tabular_federated = convert.convert_to_dataset_tabular(\n",
    "        dataset_longitudinal,\n",
    "        dataset_federation_id,\n",
    "        dataset_federation_name,\n",
    "        data_model_tabular,\n",
    "    )\n",
    "\n",
    "    data_frame_name = dataset_tabular_federated.list_data_frame_name[0]\n",
    "    data_frame_federated = dataset_tabular_federated[data_frame_name]\n",
    "\n",
    "    return data_frame_federated"
   ]
  },
  {
   "cell_type": "markdown",
   "metadata": {},
   "source": [
    "### 1.3 Pull tabular data for longitudinal with given specification"
   ]
  },
  {
   "cell_type": "code",
   "execution_count": 48,
   "metadata": {},
   "outputs": [],
   "source": [
    "# data_frame_federated = get_standard_federated_dataframe()\n",
    "data_frame_federated = preprocessing.drop_missing(\n",
    "        get_standard_federated_dataframe(), axis=0, how=\"any\", thresh=None, subset=None\n",
    "    )"
   ]
  },
  {
   "cell_type": "code",
   "execution_count": 51,
   "metadata": {},
   "outputs": [
    {
     "data": {
      "text/plain": [
       "{'a892ef90-4f6f-11ed-bdc3-0242ac120002': <sail_safe_functions_orchestrator.reference_data_frame.ReferenceDataFrame at 0x7faed3c78ee0>}"
      ]
     },
     "execution_count": 51,
     "metadata": {},
     "output_type": "execute_result"
    }
   ],
   "source": [
    "data_frame_federated."
   ]
  },
  {
   "cell_type": "code",
   "execution_count": 7,
   "metadata": {},
   "outputs": [
    {
     "name": "stdout",
     "output_type": "stream",
     "text": [
      "Collecting requests\n",
      "  Using cached requests-2.28.1-py3-none-any.whl (62 kB)\n",
      "Requirement already satisfied: idna<4,>=2.5 in /mnt/c/Users/AdamHall/Documents/SAIL/datascience/venv38_sail/lib/python3.8/site-packages (from requests) (3.4)\n",
      "Collecting certifi>=2017.4.17\n",
      "  Using cached certifi-2022.9.24-py3-none-any.whl (161 kB)\n",
      "Collecting urllib3<1.27,>=1.21.1\n",
      "  Using cached urllib3-1.26.12-py2.py3-none-any.whl (140 kB)\n",
      "Collecting charset-normalizer<3,>=2\n",
      "  Using cached charset_normalizer-2.1.1-py3-none-any.whl (39 kB)\n",
      "Installing collected packages: certifi, urllib3, charset-normalizer, requests\n",
      "Successfully installed certifi-2022.9.24 charset-normalizer-2.1.1 requests-2.28.1 urllib3-1.26.12\n"
     ]
    }
   ],
   "source": [
    "!pip3 install requests"
   ]
  },
  {
   "cell_type": "markdown",
   "metadata": {},
   "source": [
    "# Statistics Functions API and Function Call\n",
    "## 1. Mean"
   ]
  },
  {
   "cell_type": "code",
   "execution_count": 23,
   "metadata": {},
   "outputs": [
    {
     "data": {
      "text/plain": [
       "'e7083b37-79a9-40d5-b944-b9ac2b09fab7'"
      ]
     },
     "execution_count": 23,
     "metadata": {},
     "output_type": "execute_result"
    }
   ],
   "source": [
    "import requests\n",
    "\n",
    "def create_data_model_date_frame(data_frame_name):\n",
    "    payload = {\"data_frame_name\": data_frame_name}\n",
    "    result = requests.post(\"http://127.0.0.1:8000/data_model_frame\", params=payload)\n",
    "    return result.json()[\"data_model_id\"]\n",
    "data_model_id = create_data_model_date_frame(\"data_frame_0\")\n",
    "data_model_id\n"
   ]
  },
  {
   "cell_type": "code",
   "execution_count": 24,
   "metadata": {},
   "outputs": [
    {
     "data": {
      "text/plain": [
       "{'data_frame_0': 'e7083b37-79a9-40d5-b944-b9ac2b09fab7'}"
      ]
     },
     "execution_count": 24,
     "metadata": {},
     "output_type": "execute_result"
    }
   ],
   "source": [
    "\n",
    "def get_dataframe_name_lookup_table():\n",
    "    result = requests.post(\"http://127.0.0.1:8000/admin/get_dataframe_name_lookup_table\", params=None)\n",
    "    return result.json()[\"dataframe_name_lookup\"]\n",
    "get_dataframe_name_lookup_table()"
   ]
  },
  {
   "cell_type": "code",
   "execution_count": 25,
   "metadata": {},
   "outputs": [
    {
     "name": "stdout",
     "output_type": "stream",
     "text": [
      "{'data_model_id': 'e7083b37-79a9-40d5-b944-b9ac2b09fab7'}\n",
      "{'data_model_id': 'e7083b37-79a9-40d5-b944-b9ac2b09fab7'}\n",
      "{'data_model_id': 'e7083b37-79a9-40d5-b944-b9ac2b09fab7'}\n"
     ]
    },
    {
     "data": {
      "text/plain": [
       "'e7083b37-79a9-40d5-b944-b9ac2b09fab7'"
      ]
     },
     "execution_count": 25,
     "metadata": {},
     "output_type": "execute_result"
    }
   ],
   "source": [
    "def data_model_add_series(data_model_id, series_name, source_name):\n",
    "    payload = {\"data_model_id\": data_model_id,\n",
    "                \"series_name\": series_name,\n",
    "                \"source_name\": source_name}\n",
    "    result = requests.post(\"http://127.0.0.1:8000/data_model_frame/\"+data_model_id+\"/model_series\", params=payload)\n",
    "    print(result.json())\n",
    "    return result.json()[\"data_model_id\"]\n",
    "\n",
    "data_model_add_series(data_model_id, \"bmi_mean\", \"Observation:Body Mass Index\")\n",
    "data_model_add_series(data_model_id, \"bmi_first\", \"Observation:Body Mass Index\")\n",
    "data_model_add_series(data_model_id, \"bmi_last\", \"Observation:Body Mass Index\")\n"
   ]
  },
  {
   "cell_type": "code",
   "execution_count": 26,
   "metadata": {},
   "outputs": [],
   "source": [
    "def get_data_model_tabular():\n",
    "    result = requests.post(\"http://127.0.0.1:8000/data_frame_tabular\", params=None)\n",
    "    return result.json()[\"data_frame_tabular_id\"]\n",
    "data_model_tabular_id = get_data_model_tabular()"
   ]
  },
  {
   "cell_type": "code",
   "execution_count": 27,
   "metadata": {},
   "outputs": [],
   "source": [
    "def data_frame_model_tabular_add_dataframe_model(data_model_id, data_frame_tabular_id):\n",
    "    payload = {\"data_model_id\": data_model_id,\n",
    "                \"data_frame_tabular_id\": data_frame_tabular_id}\n",
    "    result = requests.post(\"http://127.0.0.1:8000/data_frame_tabular_add_dataframe_model/\"+data_frame_tabular_id+\"/\"+data_model_id, params=payload)\n",
    "    return result.json()[\"data_frame_tabular_id\"]\n",
    "\n",
    "data_model_tabular_id = data_frame_model_tabular_add_dataframe_model(data_model_id, data_model_tabular_id)"
   ]
  },
  {
   "cell_type": "code",
   "execution_count": 28,
   "metadata": {},
   "outputs": [],
   "source": [
    "dataset_federation_id = \"a892f738-4f6f-11ed-bdc3-0242ac120002\"\n",
    "dataset_federation_name = \"r4sep2019_csvv1_20_1\"\n",
    "\n",
    "def dataset_tabular_fhirv1(dataset_federation_id, dataset_federation_name, data_model_tabular_id):\n",
    "    payload = {\"dataset_federation_id\": dataset_federation_id,\n",
    "                \"dataset_federation_name\": dataset_federation_name,\n",
    "                \"data_model_tabular_id\": data_model_tabular_id}\n",
    "    result = requests.post(\"http://127.0.0.1:8000/dataset_tabular/fhirv1\", params=payload)\n",
    "    return result.json()[\"dataset_id\"]\n",
    "\n",
    "tabular_dataset_id = dataset_tabular_fhirv1(dataset_federation_id, dataset_federation_name, data_model_tabular_id)"
   ]
  },
  {
   "cell_type": "code",
   "execution_count": 29,
   "metadata": {},
   "outputs": [],
   "source": [
    "def data_frame_tabular_select_dataframe_model(data_frame_tabular_id, data_frame_name):\n",
    "    payload = {\"data_frame_tabular_id\": data_frame_tabular_id,\n",
    "                \"data_frame_name\": data_frame_name}\n",
    "    result = requests.post(\"http://127.0.0.1:8000/data_frame_tabular/select_dataframe/\"+tabular_dataset_id, params=payload)\n",
    "    return result.json()[\"data_frame_id\"]\n",
    "data_frame_id = data_frame_tabular_select_dataframe_model(tabular_dataset_id, \"data_frame_0\")"
   ]
  },
  {
   "cell_type": "code",
   "execution_count": 21,
   "metadata": {},
   "outputs": [
    {
     "data": {
      "text/plain": [
       "'2ff4f859-ad44-4300-a532-ec7ceb828b2e'"
      ]
     },
     "execution_count": 21,
     "metadata": {},
     "output_type": "execute_result"
    }
   ],
   "source": [
    "def data_frame_select_series(data_frame_id, series_name):\n",
    "    payload = {\"data_frame_id\": data_frame_id,\n",
    "                \"series_name\": series_name}\n",
    "    result = requests.post(\"http://127.0.0.1:8000/data_frame/select_series/\"+data_frame_id, params=payload)\n",
    "    return result.json()[\"series_id\"]\n",
    "data_frame = data_frame_tabular_select_dataframe(data_frame_id, \"data_frame_0\")"
   ]
  },
  {
   "cell_type": "code",
   "execution_count": null,
   "metadata": {},
   "outputs": [],
   "source": [
    "def count(tabular_dataset_id, data_frame_name, series_name):\n",
    "    payload = {\"dataset_id\": tabular_dataset_id,\n",
    "                \"data_frame_name\": data_frame_name,\n",
    "                \"series_name\": series_name}\n",
    "    result = requests.post(\"http://127.0.0.1:8000/statistics/count/\"+dataset_id+\"/\"+data_frame_name+\"/\"+series_name, params=payload)\n",
    "    return result.json()[\"dataset_id\"]\n",
    "\n",
    "count(tabular_dataset_clean_id, \"data_frame_0\", \"bmi_mean\")"
   ]
  },
  {
   "cell_type": "code",
   "execution_count": 164,
   "metadata": {},
   "outputs": [
    {
     "data": {
      "text/plain": [
       "'81b2507f-0cf6-47dd-a823-4e0db5851e20'"
      ]
     },
     "execution_count": 164,
     "metadata": {},
     "output_type": "execute_result"
    }
   ],
   "source": [
    "tabular_dataset_id"
   ]
  },
  {
   "cell_type": "code",
   "execution_count": 162,
   "metadata": {},
   "outputs": [],
   "source": [
    "# def drop_missing(dataset_id, data_frame_name):\n",
    "#     payload = {\"dataset_id\": dataset_id,\n",
    "#                 \"data_frame_name\": data_frame_name}\n",
    "#     result = requests.post(\"http://127.0.0.1:8000/preprocessing/drop_missing/\"+dataset_id+\"/\"+data_frame_name, params=payload)\n",
    "#     return result.json()[\"result_data_frame_id\"]\n",
    "# dataframe_clean_id = drop_missing(tabular_dataset_id, \"data_frame_0\")"
   ]
  },
  {
   "cell_type": "code",
   "execution_count": 163,
   "metadata": {},
   "outputs": [
    {
     "data": {
      "text/plain": [
       "'30a4ee8b-e817-4f86-ad15-0ed9fd32e7de'"
      ]
     },
     "execution_count": 163,
     "metadata": {},
     "output_type": "execute_result"
    }
   ],
   "source": [
    "dataframe_clean_id"
   ]
  },
  {
   "cell_type": "code",
   "execution_count": 155,
   "metadata": {},
   "outputs": [
    {
     "ename": "JSONDecodeError",
     "evalue": "Expecting value: line 1 column 1 (char 0)",
     "output_type": "error",
     "traceback": [
      "\u001b[0;31m---------------------------------------------------------------------------\u001b[0m",
      "\u001b[0;31mJSONDecodeError\u001b[0m                           Traceback (most recent call last)",
      "File \u001b[0;32m/mnt/c/Users/AdamHall/Documents/SAIL/datascience/venv38_sail/lib/python3.8/site-packages/requests/models.py:971\u001b[0m, in \u001b[0;36mResponse.json\u001b[0;34m(self, **kwargs)\u001b[0m\n\u001b[1;32m    970\u001b[0m \u001b[39mtry\u001b[39;00m:\n\u001b[0;32m--> 971\u001b[0m     \u001b[39mreturn\u001b[39;00m complexjson\u001b[39m.\u001b[39;49mloads(\u001b[39mself\u001b[39;49m\u001b[39m.\u001b[39;49mtext, \u001b[39m*\u001b[39;49m\u001b[39m*\u001b[39;49mkwargs)\n\u001b[1;32m    972\u001b[0m \u001b[39mexcept\u001b[39;00m JSONDecodeError \u001b[39mas\u001b[39;00m e:\n\u001b[1;32m    973\u001b[0m     \u001b[39m# Catch JSON-related errors and raise as requests.JSONDecodeError\u001b[39;00m\n\u001b[1;32m    974\u001b[0m     \u001b[39m# This aliases json.JSONDecodeError and simplejson.JSONDecodeError\u001b[39;00m\n",
      "File \u001b[0;32m/usr/lib/python3.8/json/__init__.py:357\u001b[0m, in \u001b[0;36mloads\u001b[0;34m(s, cls, object_hook, parse_float, parse_int, parse_constant, object_pairs_hook, **kw)\u001b[0m\n\u001b[1;32m    354\u001b[0m \u001b[39mif\u001b[39;00m (\u001b[39mcls\u001b[39m \u001b[39mis\u001b[39;00m \u001b[39mNone\u001b[39;00m \u001b[39mand\u001b[39;00m object_hook \u001b[39mis\u001b[39;00m \u001b[39mNone\u001b[39;00m \u001b[39mand\u001b[39;00m\n\u001b[1;32m    355\u001b[0m         parse_int \u001b[39mis\u001b[39;00m \u001b[39mNone\u001b[39;00m \u001b[39mand\u001b[39;00m parse_float \u001b[39mis\u001b[39;00m \u001b[39mNone\u001b[39;00m \u001b[39mand\u001b[39;00m\n\u001b[1;32m    356\u001b[0m         parse_constant \u001b[39mis\u001b[39;00m \u001b[39mNone\u001b[39;00m \u001b[39mand\u001b[39;00m object_pairs_hook \u001b[39mis\u001b[39;00m \u001b[39mNone\u001b[39;00m \u001b[39mand\u001b[39;00m \u001b[39mnot\u001b[39;00m kw):\n\u001b[0;32m--> 357\u001b[0m     \u001b[39mreturn\u001b[39;00m _default_decoder\u001b[39m.\u001b[39;49mdecode(s)\n\u001b[1;32m    358\u001b[0m \u001b[39mif\u001b[39;00m \u001b[39mcls\u001b[39m \u001b[39mis\u001b[39;00m \u001b[39mNone\u001b[39;00m:\n",
      "File \u001b[0;32m/usr/lib/python3.8/json/decoder.py:337\u001b[0m, in \u001b[0;36mJSONDecoder.decode\u001b[0;34m(self, s, _w)\u001b[0m\n\u001b[1;32m    333\u001b[0m \u001b[39m\"\"\"Return the Python representation of ``s`` (a ``str`` instance\u001b[39;00m\n\u001b[1;32m    334\u001b[0m \u001b[39mcontaining a JSON document).\u001b[39;00m\n\u001b[1;32m    335\u001b[0m \n\u001b[1;32m    336\u001b[0m \u001b[39m\"\"\"\u001b[39;00m\n\u001b[0;32m--> 337\u001b[0m obj, end \u001b[39m=\u001b[39m \u001b[39mself\u001b[39;49m\u001b[39m.\u001b[39;49mraw_decode(s, idx\u001b[39m=\u001b[39;49m_w(s, \u001b[39m0\u001b[39;49m)\u001b[39m.\u001b[39;49mend())\n\u001b[1;32m    338\u001b[0m end \u001b[39m=\u001b[39m _w(s, end)\u001b[39m.\u001b[39mend()\n",
      "File \u001b[0;32m/usr/lib/python3.8/json/decoder.py:355\u001b[0m, in \u001b[0;36mJSONDecoder.raw_decode\u001b[0;34m(self, s, idx)\u001b[0m\n\u001b[1;32m    354\u001b[0m \u001b[39mexcept\u001b[39;00m \u001b[39mStopIteration\u001b[39;00m \u001b[39mas\u001b[39;00m err:\n\u001b[0;32m--> 355\u001b[0m     \u001b[39mraise\u001b[39;00m JSONDecodeError(\u001b[39m\"\u001b[39m\u001b[39mExpecting value\u001b[39m\u001b[39m\"\u001b[39m, s, err\u001b[39m.\u001b[39mvalue) \u001b[39mfrom\u001b[39;00m \u001b[39mNone\u001b[39m\n\u001b[1;32m    356\u001b[0m \u001b[39mreturn\u001b[39;00m obj, end\n",
      "\u001b[0;31mJSONDecodeError\u001b[0m: Expecting value: line 1 column 1 (char 0)",
      "\nDuring handling of the above exception, another exception occurred:\n",
      "\u001b[0;31mJSONDecodeError\u001b[0m                           Traceback (most recent call last)",
      "Cell \u001b[0;32mIn [155], line 8\u001b[0m\n\u001b[1;32m      5\u001b[0m     result \u001b[39m=\u001b[39m requests\u001b[39m.\u001b[39mpost(\u001b[39m\"\u001b[39m\u001b[39mhttp://127.0.0.1:8000/statistics/count/\u001b[39m\u001b[39m\"\u001b[39m\u001b[39m+\u001b[39mdataset_id\u001b[39m+\u001b[39m\u001b[39m\"\u001b[39m\u001b[39m/\u001b[39m\u001b[39m\"\u001b[39m\u001b[39m+\u001b[39mdata_frame_name\u001b[39m+\u001b[39m\u001b[39m\"\u001b[39m\u001b[39m/\u001b[39m\u001b[39m\"\u001b[39m\u001b[39m+\u001b[39mseries_name, params\u001b[39m=\u001b[39mpayload)\n\u001b[1;32m      6\u001b[0m     \u001b[39mreturn\u001b[39;00m result\u001b[39m.\u001b[39mjson()[\u001b[39m\"\u001b[39m\u001b[39mdataset_id\u001b[39m\u001b[39m\"\u001b[39m]\n\u001b[0;32m----> 8\u001b[0m count(tabular_dataset_clean_id, \u001b[39m\"\u001b[39;49m\u001b[39mdata_frame_0\u001b[39;49m\u001b[39m\"\u001b[39;49m, \u001b[39m\"\u001b[39;49m\u001b[39mbmi_mean\u001b[39;49m\u001b[39m\"\u001b[39;49m)\n",
      "Cell \u001b[0;32mIn [155], line 6\u001b[0m, in \u001b[0;36mcount\u001b[0;34m(dataset_id, data_frame_name, series_name)\u001b[0m\n\u001b[1;32m      2\u001b[0m payload \u001b[39m=\u001b[39m {\u001b[39m\"\u001b[39m\u001b[39mdataset_id\u001b[39m\u001b[39m\"\u001b[39m: dataset_id,\n\u001b[1;32m      3\u001b[0m             \u001b[39m\"\u001b[39m\u001b[39mdata_frame_name\u001b[39m\u001b[39m\"\u001b[39m: data_frame_name,\n\u001b[1;32m      4\u001b[0m             \u001b[39m\"\u001b[39m\u001b[39mseries_name\u001b[39m\u001b[39m\"\u001b[39m: series_name}\n\u001b[1;32m      5\u001b[0m result \u001b[39m=\u001b[39m requests\u001b[39m.\u001b[39mpost(\u001b[39m\"\u001b[39m\u001b[39mhttp://127.0.0.1:8000/statistics/count/\u001b[39m\u001b[39m\"\u001b[39m\u001b[39m+\u001b[39mdataset_id\u001b[39m+\u001b[39m\u001b[39m\"\u001b[39m\u001b[39m/\u001b[39m\u001b[39m\"\u001b[39m\u001b[39m+\u001b[39mdata_frame_name\u001b[39m+\u001b[39m\u001b[39m\"\u001b[39m\u001b[39m/\u001b[39m\u001b[39m\"\u001b[39m\u001b[39m+\u001b[39mseries_name, params\u001b[39m=\u001b[39mpayload)\n\u001b[0;32m----> 6\u001b[0m \u001b[39mreturn\u001b[39;00m result\u001b[39m.\u001b[39;49mjson()[\u001b[39m\"\u001b[39m\u001b[39mdataset_id\u001b[39m\u001b[39m\"\u001b[39m]\n",
      "File \u001b[0;32m/mnt/c/Users/AdamHall/Documents/SAIL/datascience/venv38_sail/lib/python3.8/site-packages/requests/models.py:975\u001b[0m, in \u001b[0;36mResponse.json\u001b[0;34m(self, **kwargs)\u001b[0m\n\u001b[1;32m    971\u001b[0m     \u001b[39mreturn\u001b[39;00m complexjson\u001b[39m.\u001b[39mloads(\u001b[39mself\u001b[39m\u001b[39m.\u001b[39mtext, \u001b[39m*\u001b[39m\u001b[39m*\u001b[39mkwargs)\n\u001b[1;32m    972\u001b[0m \u001b[39mexcept\u001b[39;00m JSONDecodeError \u001b[39mas\u001b[39;00m e:\n\u001b[1;32m    973\u001b[0m     \u001b[39m# Catch JSON-related errors and raise as requests.JSONDecodeError\u001b[39;00m\n\u001b[1;32m    974\u001b[0m     \u001b[39m# This aliases json.JSONDecodeError and simplejson.JSONDecodeError\u001b[39;00m\n\u001b[0;32m--> 975\u001b[0m     \u001b[39mraise\u001b[39;00m RequestsJSONDecodeError(e\u001b[39m.\u001b[39mmsg, e\u001b[39m.\u001b[39mdoc, e\u001b[39m.\u001b[39mpos)\n",
      "\u001b[0;31mJSONDecodeError\u001b[0m: Expecting value: line 1 column 1 (char 0)"
     ]
    }
   ],
   "source": [
    "def count(tabular_dataset_id, data_frame_name, series_name):\n",
    "    payload = {\"dataset_id\": tabular_dataset_id,\n",
    "                \"data_frame_name\": data_frame_name,\n",
    "                \"series_name\": series_name}\n",
    "    result = requests.post(\"http://127.0.0.1:8000/statistics/count/\"+dataset_id+\"/\"+data_frame_name+\"/\"+series_name, params=payload)\n",
    "    return result.json()[\"dataset_id\"]\n",
    "\n",
    "count(tabular_dataset_clean_id, \"data_frame_0\", \"bmi_mean\")\n"
   ]
  },
  {
   "cell_type": "code",
   "execution_count": null,
   "metadata": {},
   "outputs": [
    {
     "data": {
      "text/plain": [
       "85.03455555555556"
      ]
     },
     "execution_count": 47,
     "metadata": {},
     "output_type": "execute_result"
    }
   ],
   "source": [
    "import requests\n",
    "import json\n",
    "\n",
    "def Mean(series_uuid):\n",
    "    payload = {\"series_uuid\": series_uuid}\n",
    "    result = requests.get(\"http://127.0.0.1:8000/mean\", params=payload)\n",
    "    return result.json()['mean_sail']\n",
    "\n",
    "series = \"Random UUID\"\n",
    "Mean(series)\n"
   ]
  },
  {
   "cell_type": "markdown",
   "metadata": {},
   "source": [
    "## 2. Chisquare"
   ]
  },
  {
   "cell_type": "code",
   "execution_count": null,
   "metadata": {},
   "outputs": [
    {
     "data": {
      "text/plain": [
       "[514800.00000000006, 0.0]"
      ]
     },
     "execution_count": 48,
     "metadata": {},
     "output_type": "execute_result"
    }
   ],
   "source": [
    "def ChiSquare(series_uuid_1, series_uuid_2):\n",
    "    payload = {\"series_uuid_1\": series_uuid_1,\n",
    "                \"series_uuid_2\": series_uuid_2}\n",
    "    result = requests.get(\"http://127.0.0.1:8000/chisquare\", params=payload)\n",
    "    return result.json()['chisquare_sail']\n",
    "\n",
    "series_1 = \"Random UUID 2\"\n",
    "series_2 = \"Random UUID 2\"\n",
    "ChiSquare(series_1, series_2)\n"
   ]
  },
  {
   "cell_type": "markdown",
   "metadata": {},
   "source": [
    "## 3. Kolmogorov Smirnov Test"
   ]
  },
  {
   "cell_type": "code",
   "execution_count": null,
   "metadata": {},
   "outputs": [
    {
     "data": {
      "text/plain": [
       "(0.9988888888888889, 0.0)"
      ]
     },
     "execution_count": 49,
     "metadata": {},
     "output_type": "execute_result"
    }
   ],
   "source": [
    "def KolmogorovSmirnovTest(series_uuid, type_distribution, type_ranking):\n",
    "    payload = {\"series_uuid\": series_uuid,\n",
    "                \"type_distribution\": type_distribution,\n",
    "                \"type_ranking\": type_ranking}\n",
    "    result = requests.get(\"http://127.0.0.1:8000/kolmogorovSmirnovTest\", params=payload)\n",
    "    return result.json()['k_statistic_sail'], result.json()['p_value_sail']\n",
    "\n",
    "series = \"Random UUID\"\n",
    "type_distribution=\"normalunit\" \n",
    "type_ranking=\"unsafe\"\n",
    "KolmogorovSmirnovTest(series, type_distribution, type_ranking)"
   ]
  },
  {
   "cell_type": "markdown",
   "metadata": {},
   "source": [
    "## 4. Kurtosis"
   ]
  },
  {
   "cell_type": "code",
   "execution_count": null,
   "metadata": {},
   "outputs": [
    {
     "data": {
      "text/plain": [
       "-1.1775818710089418"
      ]
     },
     "execution_count": 50,
     "metadata": {},
     "output_type": "execute_result"
    }
   ],
   "source": [
    "def Kurtosis(series_uuid):\n",
    "    payload = {\"series_uuid\": series_uuid}\n",
    "    result = requests.get(\"http://127.0.0.1:8000/kurtosis\", params=payload)\n",
    "    return result.json()['kurtosis_sail']\n",
    "\n",
    "series = \"Random UUID\"\n",
    "Kurtosis(series)"
   ]
  },
  {
   "cell_type": "markdown",
   "metadata": {},
   "source": [
    "## 5. Levene Test"
   ]
  },
  {
   "cell_type": "code",
   "execution_count": null,
   "metadata": {},
   "outputs": [
    {
     "data": {
      "text/plain": [
       "(0.0, 1.0)"
      ]
     },
     "execution_count": 51,
     "metadata": {},
     "output_type": "execute_result"
    }
   ],
   "source": [
    "def LeveneTest(series_uuid_1, series_uuid_2):\n",
    "    payload = {\"series_uuid_1\": series_uuid_1,\n",
    "                \"series_uuid_2\": series_uuid_2}\n",
    "    result = requests.get(\"http://127.0.0.1:8000/leveneTest\", params=payload)\n",
    "    return result.json()['f_statistic_sail'], result.json()['p_value_sail']\n",
    "\n",
    "series_1 = \"Random UUID 2\"\n",
    "series_2 = \"Random UUID 2\"\n",
    "LeveneTest(series_1, series_2)\n"
   ]
  },
  {
   "cell_type": "markdown",
   "metadata": {},
   "source": [
    "## 6. Mann Whitney U Test"
   ]
  },
  {
   "cell_type": "code",
   "execution_count": null,
   "metadata": {},
   "outputs": [
    {
     "data": {
      "text/plain": [
       "(405000.0, 1.0)"
      ]
     },
     "execution_count": 52,
     "metadata": {},
     "output_type": "execute_result"
    }
   ],
   "source": [
    "def MannWhitneyUTest(series_uuid_1, series_uuid_2, alternative, type_ranking):\n",
    "    payload = {\"series_uuid_1\": series_uuid_1,\n",
    "                \"series_uuid_2\": series_uuid_2,\n",
    "                \"alternative\": alternative,\n",
    "                \"type_ranking\": type_ranking}\n",
    "    result = requests.get(\"http://127.0.0.1:8000/mannWhitneyUTest\", params=payload)\n",
    "    return result.json()['w_statistic_sail'], result.json()['p_value_sail']\n",
    "\n",
    "series_1 = \"Random UUID 2\"\n",
    "series_2 = \"Random UUID 2\"\n",
    "alternative = \"two-sided\"\n",
    "type_ranking = \"unsafe\"\n",
    "MannWhitneyUTest(series_1, series_2, alternative, type_ranking)"
   ]
  },
  {
   "cell_type": "markdown",
   "metadata": {},
   "source": [
    "## 7. Min Max"
   ]
  },
  {
   "cell_type": "code",
   "execution_count": null,
   "metadata": {},
   "outputs": [
    {
     "data": {
      "text/plain": [
       "(80.009133, 89.99036299999999)"
      ]
     },
     "execution_count": 53,
     "metadata": {},
     "output_type": "execute_result"
    }
   ],
   "source": [
    "def MinMax(series_uuid):\n",
    "    payload = {\"series_uuid\": series_uuid}\n",
    "    result = requests.get(\"http://127.0.0.1:8000/minMax\", params=payload)\n",
    "    return result.json()['min_sail'], result.json()['max_sail']\n",
    "\n",
    "series = \"Random UUID\"\n",
    "MinMax(series)"
   ]
  },
  {
   "cell_type": "markdown",
   "metadata": {},
   "source": [
    "## 8. Paired T Test"
   ]
  },
  {
   "cell_type": "code",
   "execution_count": null,
   "metadata": {},
   "outputs": [
    {
     "data": {
      "text/plain": [
       "(260.0156214109429, 1.0)"
      ]
     },
     "execution_count": 54,
     "metadata": {},
     "output_type": "execute_result"
    }
   ],
   "source": [
    "def PairedTTest(series_uuid_1, series_uuid_2, alternative):\n",
    "    payload = {\"series_uuid_1\": series_uuid_1,\n",
    "                \"series_uuid_2\": series_uuid_2,\n",
    "                \"alternative\": alternative}\n",
    "    result = requests.get(\"http://127.0.0.1:8000/pairedTTest\", params=payload)\n",
    "    return result.json()['t_statistic_sail'], result.json()['p_value_sail']\n",
    "\n",
    "series_1 = \"Random UUID 2\"\n",
    "series_2 = \"Random UUID 2\"\n",
    "alternative = \"less\"\n",
    "PairedTTest(series_1, series_2, alternative)"
   ]
  },
  {
   "cell_type": "markdown",
   "metadata": {},
   "source": [
    "## 9. Pearson"
   ]
  },
  {
   "cell_type": "code",
   "execution_count": null,
   "metadata": {},
   "outputs": [
    {
     "data": {
      "text/plain": [
       "(1.0, 0.0)"
      ]
     },
     "execution_count": 55,
     "metadata": {},
     "output_type": "execute_result"
    }
   ],
   "source": [
    "def Pearson(series_uuid_1, series_uuid_2, alternative):\n",
    "    payload = {\"series_uuid_1\": series_uuid_1,\n",
    "                \"series_uuid_2\": series_uuid_2,\n",
    "                \"alternative\": alternative}\n",
    "    result = requests.get(\"http://127.0.0.1:8000/pearson\", params=payload)\n",
    "    return result.json()['pearson_sail'], result.json()['p_value_sail']\n",
    "\n",
    "series_1 = \"Random UUID 1\"\n",
    "series_2 = \"Random UUID 2\"\n",
    "alternative = \"two-sided\"\n",
    "Pearson(series_1, series_2, alternative)"
   ]
  },
  {
   "cell_type": "markdown",
   "metadata": {},
   "source": [
    "## 10. Skewness"
   ]
  },
  {
   "cell_type": "code",
   "execution_count": null,
   "metadata": {},
   "outputs": [
    {
     "data": {
      "text/plain": [
       "0.03129197977535138"
      ]
     },
     "execution_count": 56,
     "metadata": {},
     "output_type": "execute_result"
    }
   ],
   "source": [
    "def Skewness(series_uuid):\n",
    "    payload = {\"series_uuid\": series_uuid}\n",
    "    result = requests.get(\"http://127.0.0.1:8000/skewness\", params=payload)\n",
    "    return result.json()['skewness_sail']\n",
    "\n",
    "series = \"Random UUID\"\n",
    "Skewness(series)\n"
   ]
  },
  {
   "cell_type": "markdown",
   "metadata": {},
   "source": [
    "## 11. Spearman"
   ]
  },
  {
   "cell_type": "code",
   "execution_count": null,
   "metadata": {},
   "outputs": [
    {
     "data": {
      "text/plain": [
       "(0.0036171481653660843, 0.913706965860571)"
      ]
     },
     "execution_count": 57,
     "metadata": {},
     "output_type": "execute_result"
    }
   ],
   "source": [
    "def Spearman(series_uuid_1, series_uuid_2, alternative, type_ranking):\n",
    "    payload = {\"series_uuid_1\": series_uuid_1,\n",
    "                \"series_uuid_2\": series_uuid_2,\n",
    "                \"alternative\": alternative,\n",
    "                \"type_ranking\": type_ranking}\n",
    "    result = requests.get(\"http://127.0.0.1:8000/spearman\", params=payload)\n",
    "    return result.json()['spearman_sail'], result.json()['p_value_sail']\n",
    "\n",
    "series_1 = \"Random UUID 2\"\n",
    "series_2 = \"Random UUID 2\"\n",
    "alternative = \"two-sided\"\n",
    "type_ranking = \"unsafe\"\n",
    "Spearman(series_1, series_2, alternative, type_ranking)"
   ]
  },
  {
   "cell_type": "markdown",
   "metadata": {},
   "source": [
    "## 12. Student T Test"
   ]
  },
  {
   "cell_type": "code",
   "execution_count": null,
   "metadata": {},
   "outputs": [
    {
     "data": {
      "text/plain": [
       "(0.0, 0.5)"
      ]
     },
     "execution_count": 58,
     "metadata": {},
     "output_type": "execute_result"
    }
   ],
   "source": [
    "def StudentTTest(series_uuid_1, series_uuid_2, alternative):\n",
    "    payload = {\"series_uuid_1\": series_uuid_1,\n",
    "                \"series_uuid_2\": series_uuid_2,\n",
    "                \"alternative\": alternative}\n",
    "    result = requests.get(\"http://127.0.0.1:8000/studentTTest\", params=payload)\n",
    "    return result.json()['t_statistic_sail'], result.json()['p_value_sail']\n",
    "\n",
    "series_1 = \"Random UUID 2\"\n",
    "series_2 = \"Random UUID 2\"\n",
    "alternative = \"less\"\n",
    "StudentTTest(series_1, series_2, alternative)"
   ]
  },
  {
   "cell_type": "markdown",
   "metadata": {},
   "source": [
    "## 13. Variance"
   ]
  },
  {
   "cell_type": "code",
   "execution_count": null,
   "metadata": {},
   "outputs": [
    {
     "data": {
      "text/plain": [
       "8.283936732170213"
      ]
     },
     "execution_count": 59,
     "metadata": {},
     "output_type": "execute_result"
    }
   ],
   "source": [
    "def Variance(series_uuid):\n",
    "    payload = {\"series_uuid\": series_uuid}\n",
    "    result = requests.get(\"http://127.0.0.1:8000/variance\", params=payload)\n",
    "    return result.json()['variance_sail']\n",
    "\n",
    "series = \"Random UUID\"\n",
    "Variance(series)\n"
   ]
  },
  {
   "cell_type": "markdown",
   "metadata": {},
   "source": [
    "## 14. Welch T Test"
   ]
  },
  {
   "cell_type": "code",
   "execution_count": null,
   "metadata": {},
   "outputs": [
    {
     "data": {
      "text/plain": [
       "(0.0, 0.5)"
      ]
     },
     "execution_count": 60,
     "metadata": {},
     "output_type": "execute_result"
    }
   ],
   "source": [
    "def WelchTTest(series_uuid_1, series_uuid_2, alternative):\n",
    "    payload = {\"series_uuid_1\": series_uuid_1,\n",
    "                \"series_uuid_2\": series_uuid_2,\n",
    "                \"alternative\": alternative}\n",
    "    result = requests.get(\"http://127.0.0.1:8000/welchTTest\", params=payload)\n",
    "    return result.json()['t_statistic_sail'], result.json()['p_value_sail']\n",
    "\n",
    "series_1 = \"Random UUID 2\"\n",
    "series_2 = \"Random UUID 2\"\n",
    "alternative = \"less\"\n",
    "StudentTTest(series_1, series_2, alternative)"
   ]
  },
  {
   "cell_type": "markdown",
   "metadata": {},
   "source": [
    "## 15. Wilcoxon Signed Rank Test"
   ]
  },
  {
   "cell_type": "code",
   "execution_count": null,
   "metadata": {},
   "outputs": [
    {
     "data": {
      "text/plain": [
       "(0.0, 6.772582674446599e-149)"
      ]
     },
     "execution_count": 61,
     "metadata": {},
     "output_type": "execute_result"
    }
   ],
   "source": [
    "def WilcoxonSignedRankTest(series_uuid_1, series_uuid_2, alternative, type_ranking):\n",
    "    payload = {\"series_uuid_1\": series_uuid_1,\n",
    "                \"series_uuid_2\": series_uuid_2,\n",
    "                \"alternative\": alternative,\n",
    "                \"type_ranking\": type_ranking}\n",
    "    result = requests.get(\"http://127.0.0.1:8000/wilcoxonSignedRankTest\", params=payload)\n",
    "    return result.json()['w_statistic_sail'], result.json()['p_value_sail']\n",
    "\n",
    "series_1 = \"Random UUID 2\"\n",
    "series_2 = \"Random UUID 2\"\n",
    "alternative = \"two-sided\"\n",
    "type_ranking = \"unsafe\"\n",
    "WilcoxonSignedRankTest(series_1, series_2, alternative, type_ranking)"
   ]
  },
  {
   "cell_type": "code",
   "execution_count": null,
   "metadata": {},
   "outputs": [],
   "source": []
  }
 ],
 "metadata": {
  "kernelspec": {
   "display_name": "Python 3.8.10 ('venv38_sail')",
   "language": "python",
   "name": "python3"
  },
  "language_info": {
   "codemirror_mode": {
    "name": "ipython",
    "version": 3
   },
   "file_extension": ".py",
   "mimetype": "text/x-python",
   "name": "python",
   "nbconvert_exporter": "python",
   "pygments_lexer": "ipython3",
   "version": "3.8.10"
  },
  "orig_nbformat": 4,
  "vscode": {
   "interpreter": {
    "hash": "229c0ee7a8d57afd62214254ad4dcd3448989c886ec30669907354b54cc615b5"
   }
  }
 },
 "nbformat": 4,
 "nbformat_minor": 2
}
