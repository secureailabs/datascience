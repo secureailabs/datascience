{
 "cells": [
  {
   "cell_type": "code",
   "execution_count": 11,
   "id": "8b749755-9306-4a4d-ab71-be754420d36a",
   "metadata": {},
   "outputs": [],
   "source": [
    "from sail_safe_functions_test.helper_sail_safe_functions.series_federated_local import SeriesFederatedLocal\n",
    "from sail_safe_functions_test.helper_sail_safe_functions.tools_test_data import ToolsTestData\n",
    "\n",
    "import plotly.graph_objects as go\n",
    "import numpy\n",
    "import pandas\n",
    "import os\n",
    "\n",
    "\n",
    "import sail_safe_functions_orchestrator.preprocessing\n",
    "import sail_safe_functions_orchestrator.statistics\n",
    "from sail_safe_functions_orchestrator.statistics.kolmogorov_smirnov_test_federate import KolmogorovSmirnovTestFederate\n",
    "from sail_safe_functions_orchestrator.statistics.mann_whitney_u_test_federate import MannWhitneyUTestFederate\n",
    "from sail_safe_functions_orchestrator.statistics.wilcoxon_singed_rank_test_federate import WilcoxonSingedRankTestFederate\n",
    "\n",
    "\n",
    "from sail_safe_functions_orchestrator.statistics.mean_federate import MeanFederate\n",
    "from sail_safe_functions_orchestrator.statistics.variance_federate import VarianceFederate\n",
    "from sail_safe_functions_orchestrator.statistics.skewness_federate import SkewnessFederate\n",
    "from sail_safe_functions_orchestrator.statistics.kurtosis_federate import KurtosisFederate\n",
    "\n",
    "\n",
    "from sail_safe_functions_orchestrator.statistics.pearson_federate import PearsonFederate\n",
    "from sail_safe_functions_orchestrator.statistics.spearman_federate import SpearmanFederate\n",
    "from sail_safe_functions_orchestrator.preprocessing.cdf_federate import CdfFederate\n",
    "from sail_safe_functions_orchestrator.statistics.min_max_federate import MinMaxFederate\n",
    "\n",
    "\n",
    "from sail_safe_functions_orchestrator.statistics.unpaired_t_test_federate import UnpairedTTestFederate\n",
    "from sail_safe_functions_orchestrator.statistics.paired_t_test_federate import PairedTTestFederate"
   ]
  },
  {
   "cell_type": "code",
   "execution_count": 2,
   "id": "582270e6-20f3-416a-a3c3-162501aec13c",
   "metadata": {},
   "outputs": [
    {
     "name": "stdout",
     "output_type": "stream",
     "text": [
      "/home/jaap/datascience/sail-safe-functions-test/sail_safe_functions_test/data_sail_safe_functions/\n"
     ]
    }
   ],
   "source": [
    "name_dataset = \"data_csv_kidney_clean\"\n",
    "name_table = \"1\"\n",
    "print (os.environ.get(\"PATH_SAIL_TEST_DATA\"))\n",
    "data_frame = ToolsTestData.load_test_dataframe_csv(name_dataset, name_table)\n",
    "\n"
   ]
  },
  {
   "cell_type": "code",
   "execution_count": 3,
   "id": "255032ff-11f0-4013-b048-f9d42f54a1fa",
   "metadata": {},
   "outputs": [],
   "source": [
    "sample_age = data_frame[\"age\"]\n",
    "alternative = \"two-sided\"\n",
    "sample_blood_presure = data_frame[\"bp\"]\n",
    "sample_normal = SeriesFederatedLocal()\n",
    "sample_normal_shifted = SeriesFederatedLocal()\n",
    "sample_normal_paired = SeriesFederatedLocal()\n",
    "array_normal = pandas.Series(numpy.random.normal(0, 1, 400))\n",
    "array_normal_shifted =  pandas.Series(numpy.random.normal(0.1, 1, 400))\n",
    "array_normal_paired = array_normal + 0.1 + pandas.Series(numpy.random.normal(0, 1, 400))\n",
    "     \n",
    "sample_normal.add_series(\"dataset_0\", array_normal)\n",
    "sample_normal_shifted.add_series(\"dataset_0\", array_normal_shifted)\n",
    "sample_normal_paired.add_series(\"dataset_0\", array_normal_paired)"
   ]
  },
  {
   "cell_type": "code",
   "execution_count": 10,
   "id": "c40eaf31-5378-4ae6-9f26-7568a7a3e511",
   "metadata": {},
   "outputs": [
    {
     "ename": "NameError",
     "evalue": "name 'preprocessing' is not defined",
     "output_type": "error",
     "traceback": [
      "\u001b[0;31m---------------------------------------------------------------------------\u001b[0m",
      "\u001b[0;31mNameError\u001b[0m                                 Traceback (most recent call last)",
      "Input \u001b[0;32mIn [10]\u001b[0m, in \u001b[0;36m<cell line: 21>\u001b[0;34m()\u001b[0m\n\u001b[1;32m     18\u001b[0m     fig\u001b[38;5;241m.\u001b[39mupdate_layout(title\u001b[38;5;241m=\u001b[39mtitle)\n\u001b[1;32m     19\u001b[0m     fig\u001b[38;5;241m.\u001b[39mshow()\n\u001b[0;32m---> 21\u001b[0m \u001b[43mcompare_cdf\u001b[49m\u001b[43m(\u001b[49m\u001b[43msample_age\u001b[49m\u001b[43m,\u001b[49m\u001b[43m \u001b[49m\u001b[38;5;124;43m\"\u001b[39;49m\u001b[38;5;124;43mage\u001b[39;49m\u001b[38;5;124;43m\"\u001b[39;49m\u001b[43m)\u001b[49m\n\u001b[1;32m     22\u001b[0m compare_cdf(sample_blood_presure, \u001b[38;5;124m\"\u001b[39m\u001b[38;5;124mblood_presure\u001b[39m\u001b[38;5;124m\"\u001b[39m)\n\u001b[1;32m     23\u001b[0m compare_cdf(sample_normal, \u001b[38;5;124m\"\u001b[39m\u001b[38;5;124mnormal\u001b[39m\u001b[38;5;124m\"\u001b[39m)\n",
      "Input \u001b[0;32mIn [10]\u001b[0m, in \u001b[0;36mcompare_cdf\u001b[0;34m(sample, title)\u001b[0m\n\u001b[1;32m      1\u001b[0m \u001b[38;5;28;01mdef\u001b[39;00m \u001b[38;5;21mcompare_cdf\u001b[39m(sample, title):\n\u001b[0;32m----> 2\u001b[0m     list_domain, list_value \u001b[38;5;241m=\u001b[39m \u001b[43mpreprocessing\u001b[49m\u001b[38;5;241m.\u001b[39mcdf\u001b[38;5;241m.\u001b[39mrun(sample)\n\u001b[1;32m      3\u001b[0m     list_domain_ref, list_value_ref \u001b[38;5;241m=\u001b[39m CdfFederate\u001b[38;5;241m.\u001b[39mrun_reference(sample)\n\u001b[1;32m      4\u001b[0m     line_0 \u001b[38;5;241m=\u001b[39m go\u001b[38;5;241m.\u001b[39mScatter(\n\u001b[1;32m      5\u001b[0m         x \u001b[38;5;241m=\u001b[39m list_domain, \n\u001b[1;32m      6\u001b[0m         y \u001b[38;5;241m=\u001b[39m list_value,\n\u001b[1;32m      7\u001b[0m         mode \u001b[38;5;241m=\u001b[39m \u001b[38;5;124m'\u001b[39m\u001b[38;5;124mlines\u001b[39m\u001b[38;5;124m'\u001b[39m,\n\u001b[1;32m      8\u001b[0m         name \u001b[38;5;241m=\u001b[39m \u001b[38;5;124m'\u001b[39m\u001b[38;5;124msafe\u001b[39m\u001b[38;5;124m'\u001b[39m,\n\u001b[1;32m      9\u001b[0m     )\n",
      "\u001b[0;31mNameError\u001b[0m: name 'preprocessing' is not defined"
     ]
    }
   ],
   "source": [
    "def compare_cdf(sample, title):\n",
    "    list_domain, list_value = preprocessing.cdf.run(sample)\n",
    "    list_domain_ref, list_value_ref = CdfFederate.run_reference(sample)\n",
    "    line_0 = go.Scatter(\n",
    "        x = list_domain, \n",
    "        y = list_value,\n",
    "        mode = 'lines',\n",
    "        name = 'safe',\n",
    "    )\n",
    "\n",
    "    line_1 = go.Scatter(\n",
    "        x = list_domain_ref, \n",
    "        y = list_value_ref,\n",
    "        mode = 'lines',\n",
    "        name = 'reference',\n",
    "    )\n",
    "    fig = go.Figure([line_0, line_1])\n",
    "    fig.update_layout(title=title)\n",
    "    fig.show()\n",
    "\n",
    "compare_cdf(sample_age, \"age\")\n",
    "compare_cdf(sample_blood_presure, \"blood_presure\")\n",
    "compare_cdf(sample_normal, \"normal\")\n",
    "compare_cdf(sample_normal_shifted, \"normal_shifted\")"
   ]
  },
  {
   "cell_type": "code",
   "execution_count": 5,
   "id": "387c0f26-9bc9-41b2-8f80-03d24f840384",
   "metadata": {},
   "outputs": [
    {
     "name": "stdout",
     "output_type": "stream",
     "text": [
      "Basic statistics\n",
      "Count:     400\n",
      "Min        1.2774999999999999\n",
      "Max        90.5625\n",
      "Mean:      51.51180500876386\n",
      "Variance:  288.30719232447746\n",
      "Skewness:  -0.6777244023262959\n",
      "Kurtosis:  0.1129562132795261\n",
      "\n"
     ]
    }
   ],
   "source": [
    "print(f\"Basic statistics\")\n",
    "print(f\"Count:     {sample_age.size}\")\n",
    "print(f\"Min        {MinMaxFederate.run(sample_age)[0]}\")\n",
    "print(f\"Max        {MinMaxFederate.run(sample_age)[1]}\")\n",
    "print(f\"Mean:      {MeanFederate.mean(sample_age)}\")\n",
    "print(f\"Variance:  {VarianceFederate.run(sample_age)}\")\n",
    "print(f\"Skewness:  {SkewnessFederate.Run(sample_age)}\")\n",
    "print(f\"Kurtosis:  {KurtosisFederate.Run(sample_age)}\")\n",
    "print()"
   ]
  },
  {
   "cell_type": "code",
   "execution_count": 6,
   "id": "7346be10-97bb-47db-88e5-0814a3f2b280",
   "metadata": {},
   "outputs": [
    {
     "name": "stdout",
     "output_type": "stream",
     "text": [
      "KolmogorovSmirnov\n",
      "not normal is normal: False\n",
      "normal is normal:     True\n",
      "\n"
     ]
    }
   ],
   "source": [
    "print(f\"KolmogorovSmirnov\")\n",
    "print(f\"not normal is normal: {0.05 < KolmogorovSmirnovTestFederate.run(sample_age, 'normalunit', 'cdf')[1]}\")\n",
    "print(f\"normal is normal:     {0.05 < KolmogorovSmirnovTestFederate.run(sample_normal, 'normalunit', 'cdf')[1]}\")\n",
    "print()"
   ]
  },
  {
   "cell_type": "code",
   "execution_count": 7,
   "id": "ef7b62f5-3ac0-4166-bcc5-b30c9f283b05",
   "metadata": {},
   "outputs": [
    {
     "name": "stdout",
     "output_type": "stream",
     "text": [
      "Spearman correlation\n",
      "correlated is uncorrelated:    True\n",
      "Yes, this is wrong, because the federated spearman cdf aproximation does not work well on low resolution data.\n",
      "correlated is uncorrelated:    False\n",
      "uncorrelated is uncorrelated:  True\n",
      "\n"
     ]
    }
   ],
   "source": [
    "print(f\"Spearman correlation\")\n",
    "print(f\"correlated is uncorrelated:    {0.05 < SpearmanFederate.run(sample_age, sample_blood_presure, alternative, 'cdf')[1]}\")\n",
    "print(f\"Yes, this is wrong, because the federated spearman cdf aproximation does not work well on low resolution data.\")\n",
    "print(f\"correlated is uncorrelated:    {0.05 < SpearmanFederate.run(sample_age, sample_blood_presure, alternative, 'unsafe')[1]}\")\n",
    "print(f\"uncorrelated is uncorrelated:  {0.05 < PearsonFederate.run(sample_normal, sample_normal_shifted)[1]}\")\n",
    "print()"
   ]
  },
  {
   "cell_type": "code",
   "execution_count": 8,
   "id": "ea763bbe-2b46-48fd-ac0e-a92fcc5512a0",
   "metadata": {},
   "outputs": [
    {
     "name": "stdout",
     "output_type": "stream",
     "text": [
      " Paired equal means are different:     False\n",
      " Paired different means are different: False\n",
      " Unpaired equal means are different:     False\n",
      " Unpaired different means are different: True\n"
     ]
    },
    {
     "name": "stderr",
     "output_type": "stream",
     "text": [
      "/home/jaap/datascience/sail-safe-functions/sail_safe_functions/statistics/paired_t_test_agregate.py:33: RuntimeWarning:\n",
      "\n",
      "invalid value encountered in double_scalars\n",
      "\n"
     ]
    }
   ],
   "source": [
    "print(f\" Paired equal means are different:     {0.05 < PairedTTestFederate.ttest_rel(sample_age, sample_age, alternative=alternative)[1]}\")\n",
    "print(f\" Paired different means are different: {0.05 < PairedTTestFederate.ttest_rel(sample_normal, sample_normal_paired, alternative=alternative)[1]}\")\n",
    "\n",
    "print(f\" Unpaired equal means are different:     {0.95 < UnpairedTTestFederate.ttest_ind(sample_age, sample_age, alternative=alternative)[1]}\")\n",
    "print(f\" Unpaired different means are different: {0.05 < UnpairedTTestFederate.ttest_ind(sample_normal, sample_normal_paired, alternative=alternative)[1]}\")\n"
   ]
  }
 ],
 "metadata": {
  "kernelspec": {
   "display_name": "Python 3 (ipykernel)",
   "language": "python",
   "name": "python3"
  },
  "language_info": {
   "codemirror_mode": {
    "name": "ipython",
    "version": 3
   },
   "file_extension": ".py",
   "mimetype": "text/x-python",
   "name": "python",
   "nbconvert_exporter": "python",
   "pygments_lexer": "ipython3",
   "version": "3.8.10"
  }
 },
 "nbformat": 4,
 "nbformat_minor": 5
}
